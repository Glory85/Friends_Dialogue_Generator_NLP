{
 "cells": [
  {
   "cell_type": "markdown",
   "metadata": {},
   "source": [
    "## Importar librerías"
   ]
  },
  {
   "cell_type": "code",
   "execution_count": 82,
   "metadata": {},
   "outputs": [],
   "source": [
    "import pandas as pd\n",
    "from nltk.corpus import stopwords\n",
    "import seaborn as sns\n",
    "import numpy as np\n",
    "import spacy \n",
    "from sklearn.feature_extraction.text import CountVectorizer\n",
    "import re\n",
    "import nltk\n",
    "from nltk.stem import PorterStemmer\n",
    "from nltk.stem import LancasterStemmer\n",
    "from nltk.stem import WordNetLemmatizer\n",
    "from nltk.tokenize import sent_tokenize, word_tokenize\n",
    "from nltk.stem.snowball import SnowballStemmer\n",
    "from sklearn.neighbors import NearestNeighbors\n",
    "from sklearn.linear_model import LogisticRegression\n",
    "from nltk.corpus import stopwords\n",
    "from sklearn.model_selection import train_test_split\n",
    "import matplotlib.pyplot as plt\n",
    "from sklearn.naive_bayes import GaussianNB\n",
    "from sklearn.metrics import confusion_matrix\n",
    "from sklearn import tree\n",
    "from sklearn import metrics\n",
    "from sklearn.neighbors import KNeighborsClassifier\n",
    "import networkx as nx\n",
    "import cufflinks as cf\n",
    "import plotly.express as px\n",
    "from ipywidgets import interact\n",
    "import plotly.figure_factory as ff\n",
    "import matplotlib.pyplot as plt"
   ]
  },
  {
   "cell_type": "markdown",
   "metadata": {},
   "source": [
    "## Data Cleanning"
   ]
  },
  {
   "cell_type": "code",
   "execution_count": 83,
   "metadata": {},
   "outputs": [],
   "source": [
    "friends = pd.read_csv(\"friends_quotes.csv\")"
   ]
  },
  {
   "cell_type": "code",
   "execution_count": 84,
   "metadata": {},
   "outputs": [],
   "source": [
    "friends.drop(friends[(friends[\"season\"] == 1) & (friends[\"episode_number\"] == 16)].index,inplace = True) #el episodio 16 no está bien escrapeado"
   ]
  },
  {
   "cell_type": "code",
   "execution_count": 85,
   "metadata": {},
   "outputs": [],
   "source": [
    "chandler =[\"CHAN\",\"CHANDLER\",\"Chandler (Stands up and walks to Joey)\",\"Chandle\",\"Chandler (nearly weeping)\",\"Chandler (to Joey)\", \"Chandler (to Monica)\", \"Chandlers\"]\n",
    "monica =[\"Young Monica\",\"Fake Monica\", \"Fat Monica\", \"MONICA\",\"MNCA\",\"MOnica\",\"Monic\",\"Monica (to Ross)\",\"Monica about to have a heart attack\",\"Monica to Amy\",\"Monica to Emma\",\"Monica to Ross\",\"Monica (reads a form in her lap)\"] \n",
    "joey = [\"Fat Joey\",\"JOEY\",\"Joe\",\"Joey (staring at the cake)\",\"Joey (to Rachel)\",\"Joey (to Ross)\"]\n",
    "phoebe = [\"PHOE\",\"PHOEBE\",\"Phoeb\",\"Phoebe (to Mike)\",\"Phoebe (to Rachel)\",\"Phoebe (walking to Ross carrying a black leather jacket)\",\"Phoebe (watching the food on the table)\",\"Phoebe looks down\"]\n",
    "rachel = [\"Big nosed rachel\",\"RACH\",\"RACHEL\",\"RAHCEL\", \"Rache\",\"Rachel (crying)\",\"Rachel (leaving)\",\"Rachel (on the phone)\",\"Rachel (she flips the coin)\",\"Rachel opens their door\",\"Rachel to Emma\",\"Rachel (as Monica)\",\"Racel\"]\n",
    "ross = [\"ROSS\",\"Ross (on the verge of tears)\",\"Ross (stops recording)\",\"Ross (to Emma)\",\"Ross first has a look of 'huh' then changes it to sarcastic happy\",\"Ross looks down\",\"Ross makes some sort of sound to let us know it hurt\",\"Ross starts playing with a plate\",\"Ross starts talking over her 'do you remember' line\",\"Ross to Monica\",\"Ross with a look of wondering how long this is going to go on on his face\",\"Young Ross\",\"ros\"]"
   ]
  },
  {
   "cell_type": "code",
   "execution_count": 86,
   "metadata": {},
   "outputs": [],
   "source": [
    "friends[\"author\"] = friends[\"author\"].apply(lambda x: \"Chandler\" if x in chandler else x).apply(lambda x: \"Phoebe\" if x in phoebe else x).apply(lambda x: \"Joey\" if x in joey else x).apply(lambda x: \"Rachel\" if x in rachel else x).apply(lambda x: \"Ross\" if x in ross else x).apply(lambda x: \"Monica\" if x in monica else x).str.strip().str.lower().str.replace(\"ms. geller\",\"mrs. geller\").str.replace(\"judy\",\"mrs. geller\").str.replace(\"frank jr\",\"frank\").str.capitalize()"
   ]
  },
  {
   "cell_type": "code",
   "execution_count": 87,
   "metadata": {},
   "outputs": [],
   "source": [
    "friends.drop(friends[(friends[\"author\"] == \"All\")].index,inplace = True)"
   ]
  },
  {
   "cell_type": "markdown",
   "metadata": {},
   "source": [
    "## Characters with more Lines/Season"
   ]
  },
  {
   "cell_type": "code",
   "execution_count": 88,
   "metadata": {},
   "outputs": [
    {
     "data": {
      "application/vnd.jupyter.widget-view+json": {
       "model_id": "82ca99fd74d842f288f7f5faf78c7a9f",
       "version_major": 2,
       "version_minor": 0
      },
      "text/plain": [
       "interactive(children=(Dropdown(description='Season', options=(1.0, 2.0, 3.0, 4.0, 5.0, 6.0, 7.0, 8.0, 9.0, 10.…"
      ]
     },
     "metadata": {},
     "output_type": "display_data"
    }
   ],
   "source": [
    "@interact(Season = list(friends[\"season\"].unique()))\n",
    "def more_common_characters(Season):\n",
    "    more_common_characters = friends[friends.season == Season][\"author\"].value_counts().head(9).index.to_list()\n",
    "    sns.set(rc={'figure.figsize':(7,7), 'axes.facecolor':'black'}, font_scale=1.5)\n",
    "    palette = [\"#ed1111\",\"#f4f723\",\"#23c6f7\"]\n",
    "    sns.countplot(y='author', data=friends[(friends.author.isin(more_common_characters)) & (friends.season == Season)], order = more_common_characters, palette = palette)"
   ]
  },
  {
   "cell_type": "markdown",
   "metadata": {},
   "source": [
    "## Season 1: Conversations between the most common characters"
   ]
  },
  {
   "cell_type": "code",
   "execution_count": 89,
   "metadata": {},
   "outputs": [
    {
     "data": {
      "text/plain": [
       "['Ross',\n",
       " 'Monica',\n",
       " 'Rachel',\n",
       " 'Chandler',\n",
       " 'Joey',\n",
       " 'Phoebe',\n",
       " 'Carol',\n",
       " 'Susan',\n",
       " 'Janice']"
      ]
     },
     "execution_count": 89,
     "metadata": {},
     "output_type": "execute_result"
    }
   ],
   "source": [
    "more_common_characters_season_1 = friends[friends.season == 1.0][\"author\"].value_counts().head(9).index.to_list()\n",
    "more_common_characters_season_1"
   ]
  },
  {
   "cell_type": "code",
   "execution_count": 90,
   "metadata": {},
   "outputs": [
    {
     "data": {
      "text/html": [
       "<div>\n",
       "<style scoped>\n",
       "    .dataframe tbody tr th:only-of-type {\n",
       "        vertical-align: middle;\n",
       "    }\n",
       "\n",
       "    .dataframe tbody tr th {\n",
       "        vertical-align: top;\n",
       "    }\n",
       "\n",
       "    .dataframe thead th {\n",
       "        text-align: right;\n",
       "    }\n",
       "</style>\n",
       "<table border=\"1\" class=\"dataframe\">\n",
       "  <thead>\n",
       "    <tr style=\"text-align: right;\">\n",
       "      <th></th>\n",
       "      <th>author</th>\n",
       "      <th>episode_number</th>\n",
       "      <th>episode_title</th>\n",
       "      <th>quote</th>\n",
       "      <th>quote_order</th>\n",
       "      <th>season</th>\n",
       "    </tr>\n",
       "  </thead>\n",
       "  <tbody>\n",
       "    <tr>\n",
       "      <th>0</th>\n",
       "      <td>Monica</td>\n",
       "      <td>1.0</td>\n",
       "      <td>Monica Gets A Roommate</td>\n",
       "      <td>There's nothing to tell! He's just some guy I ...</td>\n",
       "      <td>0.0</td>\n",
       "      <td>1.0</td>\n",
       "    </tr>\n",
       "    <tr>\n",
       "      <th>1</th>\n",
       "      <td>Joey</td>\n",
       "      <td>1.0</td>\n",
       "      <td>Monica Gets A Roommate</td>\n",
       "      <td>C'mon, you're going out with the guy! There's ...</td>\n",
       "      <td>1.0</td>\n",
       "      <td>1.0</td>\n",
       "    </tr>\n",
       "    <tr>\n",
       "      <th>2</th>\n",
       "      <td>Chandler</td>\n",
       "      <td>1.0</td>\n",
       "      <td>Monica Gets A Roommate</td>\n",
       "      <td>All right Joey, be nice. So does he have a hum...</td>\n",
       "      <td>2.0</td>\n",
       "      <td>1.0</td>\n",
       "    </tr>\n",
       "    <tr>\n",
       "      <th>3</th>\n",
       "      <td>Phoebe</td>\n",
       "      <td>1.0</td>\n",
       "      <td>Monica Gets A Roommate</td>\n",
       "      <td>Wait, does he eat chalk?</td>\n",
       "      <td>3.0</td>\n",
       "      <td>1.0</td>\n",
       "    </tr>\n",
       "    <tr>\n",
       "      <th>4</th>\n",
       "      <td>Phoebe</td>\n",
       "      <td>1.0</td>\n",
       "      <td>Monica Gets A Roommate</td>\n",
       "      <td>Just, 'cause, I don't want her to go through w...</td>\n",
       "      <td>4.0</td>\n",
       "      <td>1.0</td>\n",
       "    </tr>\n",
       "    <tr>\n",
       "      <th>...</th>\n",
       "      <td>...</td>\n",
       "      <td>...</td>\n",
       "      <td>...</td>\n",
       "      <td>...</td>\n",
       "      <td>...</td>\n",
       "      <td>...</td>\n",
       "    </tr>\n",
       "    <tr>\n",
       "      <th>5970</th>\n",
       "      <td>Ross</td>\n",
       "      <td>24.0</td>\n",
       "      <td>Rachel Finds Out</td>\n",
       "      <td>Oh, hey, hey, I got that.</td>\n",
       "      <td>250.0</td>\n",
       "      <td>1.0</td>\n",
       "    </tr>\n",
       "    <tr>\n",
       "      <th>5972</th>\n",
       "      <td>Ross</td>\n",
       "      <td>24.0</td>\n",
       "      <td>Rachel Finds Out</td>\n",
       "      <td>No problem. I cannot wait for you to meet my f...</td>\n",
       "      <td>252.0</td>\n",
       "      <td>1.0</td>\n",
       "    </tr>\n",
       "    <tr>\n",
       "      <th>5974</th>\n",
       "      <td>Ross</td>\n",
       "      <td>24.0</td>\n",
       "      <td>Rachel Finds Out</td>\n",
       "      <td>Yeah.</td>\n",
       "      <td>254.0</td>\n",
       "      <td>1.0</td>\n",
       "    </tr>\n",
       "    <tr>\n",
       "      <th>5976</th>\n",
       "      <td>Ross</td>\n",
       "      <td>24.0</td>\n",
       "      <td>Rachel Finds Out</td>\n",
       "      <td>No, no, they will. I just... uh...</td>\n",
       "      <td>256.0</td>\n",
       "      <td>1.0</td>\n",
       "    </tr>\n",
       "    <tr>\n",
       "      <th>5978</th>\n",
       "      <td>Ross</td>\n",
       "      <td>24.0</td>\n",
       "      <td>Rachel Finds Out</td>\n",
       "      <td>Come on, they're gonna love you.</td>\n",
       "      <td>258.0</td>\n",
       "      <td>1.0</td>\n",
       "    </tr>\n",
       "  </tbody>\n",
       "</table>\n",
       "<p>4766 rows × 6 columns</p>\n",
       "</div>"
      ],
      "text/plain": [
       "        author  episode_number           episode_title  \\\n",
       "0       Monica             1.0  Monica Gets A Roommate   \n",
       "1         Joey             1.0  Monica Gets A Roommate   \n",
       "2     Chandler             1.0  Monica Gets A Roommate   \n",
       "3       Phoebe             1.0  Monica Gets A Roommate   \n",
       "4       Phoebe             1.0  Monica Gets A Roommate   \n",
       "...        ...             ...                     ...   \n",
       "5970      Ross            24.0        Rachel Finds Out   \n",
       "5972      Ross            24.0        Rachel Finds Out   \n",
       "5974      Ross            24.0        Rachel Finds Out   \n",
       "5976      Ross            24.0        Rachel Finds Out   \n",
       "5978      Ross            24.0        Rachel Finds Out   \n",
       "\n",
       "                                                  quote  quote_order  season  \n",
       "0     There's nothing to tell! He's just some guy I ...          0.0     1.0  \n",
       "1     C'mon, you're going out with the guy! There's ...          1.0     1.0  \n",
       "2     All right Joey, be nice. So does he have a hum...          2.0     1.0  \n",
       "3                              Wait, does he eat chalk?          3.0     1.0  \n",
       "4     Just, 'cause, I don't want her to go through w...          4.0     1.0  \n",
       "...                                                 ...          ...     ...  \n",
       "5970                          Oh, hey, hey, I got that.        250.0     1.0  \n",
       "5972  No problem. I cannot wait for you to meet my f...        252.0     1.0  \n",
       "5974                                              Yeah.        254.0     1.0  \n",
       "5976                 No, no, they will. I just... uh...        256.0     1.0  \n",
       "5978                   Come on, they're gonna love you.        258.0     1.0  \n",
       "\n",
       "[4766 rows x 6 columns]"
      ]
     },
     "execution_count": 90,
     "metadata": {},
     "output_type": "execute_result"
    }
   ],
   "source": [
    "season1_df = friends[(friends.season == 1.0) & friends[\"author\"].isin(more_common_characters_season_1)]\n",
    "season1_df"
   ]
  },
  {
   "cell_type": "code",
   "execution_count": 91,
   "metadata": {},
   "outputs": [],
   "source": [
    "season1_df.to_excel(r\"./season1_df.xlsx\", index = False)"
   ]
  },
  {
   "cell_type": "code",
   "execution_count": 92,
   "metadata": {},
   "outputs": [],
   "source": [
    "season_1_main_characters = pd.read_excel(\"season1_df_modified.xlsx\")"
   ]
  },
  {
   "cell_type": "code",
   "execution_count": 93,
   "metadata": {},
   "outputs": [
    {
     "data": {
      "text/plain": [
       "Ross, Rachel        0.171171\n",
       "Ross, Carol         0.114114\n",
       "Chandler, Joey      0.113113\n",
       "Rachel, Monica      0.086086\n",
       "Chandler, Phoebe    0.083083\n",
       "Ross, Joey          0.079079\n",
       "Susan, Ross         0.065065\n",
       "Monica, Joey        0.062062\n",
       "Chandler, Janice    0.054054\n",
       "Phoebe, Rachel      0.038038\n",
       "Phoebe, Monica      0.033033\n",
       "Ross, Chandler      0.031031\n",
       "Joey, Phoebe        0.022022\n",
       "Susan, Carol        0.020020\n",
       "Chandler, Monica    0.016016\n",
       "Chandler, Rachel    0.009009\n",
       "Ross, Phoebe        0.002002\n",
       "Janice, Joey        0.001001\n",
       "Name: Conversation, dtype: float64"
      ]
     },
     "execution_count": 93,
     "metadata": {},
     "output_type": "execute_result"
    }
   ],
   "source": [
    "conversation_weights = season_1_main_characters[\"Conversation\"].value_counts(normalize = True)\n",
    "conversation_weights"
   ]
  },
  {
   "cell_type": "code",
   "execution_count": 94,
   "metadata": {},
   "outputs": [],
   "source": [
    "conversation_weights = pd.DataFrame(conversation_weights).reset_index()"
   ]
  },
  {
   "cell_type": "code",
   "execution_count": 95,
   "metadata": {},
   "outputs": [],
   "source": [
    "conversation_weights[[\"A\",\"B\"]] = conversation_weights[\"index\"].str.split(\",\",expand=True)"
   ]
  },
  {
   "cell_type": "code",
   "execution_count": 96,
   "metadata": {},
   "outputs": [],
   "source": [
    "conversation_weights[\"A\"] = conversation_weights[\"A\"].str.strip()\n",
    "conversation_weights[\"B\"] = conversation_weights[\"B\"].str.strip()"
   ]
  },
  {
   "cell_type": "code",
   "execution_count": 97,
   "metadata": {},
   "outputs": [
    {
     "data": {
      "image/png": "[encoded data removed]",
      "text/plain": [
       "<Figure size 1080x1080 with 1 Axes>"
      ]
     },
     "metadata": {},
     "output_type": "display_data"
    }
   ],
   "source": [
    "plt.rcParams[\"figure.figsize\"] = (15,15)\n",
    "\n",
    "G = nx.Graph()\n",
    "G.add_node(\"Ross\", color='r')\n",
    "G.add_node(\"Rachel\", color='r')\n",
    "G.add_node(\"Phoebe\", color='b')\n",
    "G.add_node(\"Joey\", color='b')\n",
    "G.add_node(\"Chandler\", color='y')\n",
    "G.add_node(\"Monica\", color='y')\n",
    "G.add_node(\"Janice\", color='g')\n",
    "G.add_node(\"Carol\", color='g')\n",
    "G.add_node(\"Susan\", color='g')\n",
    "\n",
    "for i in range(len(conversation_weights)):\n",
    "    G.add_edge(conversation_weights[\"A\"][i],conversation_weights[\"B\"][i], weight=round(conversation_weights[\"Conversation\"][i]*100))\n",
    "\n",
    "colors_nodes = nx.get_node_attributes(G,'color').values()\n",
    "weights = nx.get_edge_attributes(G,'weight').values()\n",
    "pos = nx.circular_layout(G)\n",
    "\n",
    "fig = plt.figure()\n",
    "nx.draw(G, pos, \n",
    "        edge_color=\"white\", \n",
    "        width=list(weights),\n",
    "        with_labels=True,\n",
    "        node_color= colors_nodes, node_size=5000)\n",
    "fig.set_facecolor(\"#00000F\")"
   ]
  },
  {
   "cell_type": "markdown",
   "metadata": {},
   "source": [
    "## Guests Stars over the 10 seasons"
   ]
  },
  {
   "cell_type": "code",
   "execution_count": 102,
   "metadata": {},
   "outputs": [],
   "source": [
    "guest_stars = pd.read_excel(\"Guest_Stars_DF.xlsx\")"
   ]
  },
  {
   "cell_type": "code",
   "execution_count": 103,
   "metadata": {},
   "outputs": [],
   "source": [
    "guest_stars = pd.pivot_table(guest_stars,index=[\"Actor\",\"season\"],\n",
    "                values = [\"quote\"],           \n",
    "               aggfunc='count',fill_value=0)"
   ]
  },
  {
   "cell_type": "code",
   "execution_count": 104,
   "metadata": {},
   "outputs": [],
   "source": [
    "guest_stars.reset_index(inplace = True)"
   ]
  },
  {
   "cell_type": "code",
   "execution_count": 105,
   "metadata": {},
   "outputs": [
    {
     "data": {
      "application/vnd.plotly.v1+json": {
       "config": {
        "plotlyServerURL": "https://plot.ly"
       },
       "data": [
        {
         "alignmentgroup": "True",
         "hovertemplate": "Actor=Adam Goldberg<br>season=%{x}<br>quote=%{y}<extra></extra>",
         "legendgroup": "Adam Goldberg",
         "marker": {
          "color": "#636efa"
         },
         "name": "Adam Goldberg",
         "offsetgroup": "Adam Goldberg",
         "orientation": "v",
         "showlegend": true,
         "textposition": "auto",
         "type": "bar",
         "x": [
          2
         ],
         "xaxis": "x",
         "y": [
          64
         ],
         "yaxis": "y"
        },
        {
         "alignmentgroup": "True",
         "hovertemplate": "Actor=Aisha Tyler<br>season=%{x}<br>quote=%{y}<extra></extra>",
         "legendgroup": "Aisha Tyler",
         "marker": {
          "color": "#EF553B"
         },
         "name": "Aisha Tyler",
         "offsetgroup": "Aisha Tyler",
         "orientation": "v",
         "showlegend": true,
         "textposition": "auto",
         "type": "bar",
         "x": [
          9,
          10
         ],
         "xaxis": "x",
         "y": [
          133,
          57
         ],
         "yaxis": "y"
        },
        {
         "alignmentgroup": "True",
         "hovertemplate": "Actor=Alec Baldwin<br>season=%{x}<br>quote=%{y}<extra></extra>",
         "legendgroup": "Alec Baldwin",
         "marker": {
          "color": "#00cc96"
         },
         "name": "Alec Baldwin",
         "offsetgroup": "Alec Baldwin",
         "orientation": "v",
         "showlegend": true,
         "textposition": "auto",
         "type": "bar",
         "x": [
          8
         ],
         "xaxis": "x",
         "y": [
          33
         ],
         "yaxis": "y"
        },
        {
         "alignmentgroup": "True",
         "hovertemplate": "Actor=Alison Sweeney<br>season=%{x}<br>quote=%{y}<extra></extra>",
         "legendgroup": "Alison Sweeney",
         "marker": {
          "color": "#ab63fa"
         },
         "name": "Alison Sweeney",
         "offsetgroup": "Alison Sweeney",
         "orientation": "v",
         "showlegend": true,
         "textposition": "auto",
         "type": "bar",
         "x": [
          7
         ],
         "xaxis": "x",
         "y": [
          4
         ],
         "yaxis": "y"
        },
        {
         "alignmentgroup": "True",
         "hovertemplate": "Actor=Anna Faris<br>season=%{x}<br>quote=%{y}<extra></extra>",
         "legendgroup": "Anna Faris",
         "marker": {
          "color": "#FFA15A"
         },
         "name": "Anna Faris",
         "offsetgroup": "Anna Faris",
         "orientation": "v",
         "showlegend": true,
         "textposition": "auto",
         "type": "bar",
         "x": [
          10
         ],
         "xaxis": "x",
         "y": [
          67
         ],
         "yaxis": "y"
        },
        {
         "alignmentgroup": "True",
         "hovertemplate": "Actor=Ben Stiller<br>season=%{x}<br>quote=%{y}<extra></extra>",
         "legendgroup": "Ben Stiller",
         "marker": {
          "color": "#19d3f3"
         },
         "name": "Ben Stiller",
         "offsetgroup": "Ben Stiller",
         "orientation": "v",
         "showlegend": true,
         "textposition": "auto",
         "type": "bar",
         "x": [
          3
         ],
         "xaxis": "x",
         "y": [
          21
         ],
         "yaxis": "y"
        },
        {
         "alignmentgroup": "True",
         "hovertemplate": "Actor=Billy Crystal<br>season=%{x}<br>quote=%{y}<extra></extra>",
         "legendgroup": "Billy Crystal",
         "marker": {
          "color": "#FF6692"
         },
         "name": "Billy Crystal",
         "offsetgroup": "Billy Crystal",
         "orientation": "v",
         "showlegend": true,
         "textposition": "auto",
         "type": "bar",
         "x": [
          3
         ],
         "xaxis": "x",
         "y": [
          11
         ],
         "yaxis": "y"
        },
        {
         "alignmentgroup": "True",
         "hovertemplate": "Actor=Brad Pitt<br>season=%{x}<br>quote=%{y}<extra></extra>",
         "legendgroup": "Brad Pitt",
         "marker": {
          "color": "#B6E880"
         },
         "name": "Brad Pitt",
         "offsetgroup": "Brad Pitt",
         "orientation": "v",
         "showlegend": true,
         "textposition": "auto",
         "type": "bar",
         "x": [
          8
         ],
         "xaxis": "x",
         "y": [
          50
         ],
         "yaxis": "y"
        },
        {
         "alignmentgroup": "True",
         "hovertemplate": "Actor=Brook Shields<br>season=%{x}<br>quote=%{y}<extra></extra>",
         "legendgroup": "Brook Shields",
         "marker": {
          "color": "#FF97FF"
         },
         "name": "Brook Shields",
         "offsetgroup": "Brook Shields",
         "orientation": "v",
         "showlegend": true,
         "textposition": "auto",
         "type": "bar",
         "x": [
          2
         ],
         "xaxis": "x",
         "y": [
          26
         ],
         "yaxis": "y"
        },
        {
         "alignmentgroup": "True",
         "hovertemplate": "Actor=Bruce Willis<br>season=%{x}<br>quote=%{y}<extra></extra>",
         "legendgroup": "Bruce Willis",
         "marker": {
          "color": "#FECB52"
         },
         "name": "Bruce Willis",
         "offsetgroup": "Bruce Willis",
         "orientation": "v",
         "showlegend": true,
         "textposition": "auto",
         "type": "bar",
         "x": [
          6
         ],
         "xaxis": "x",
         "y": [
          116
         ],
         "yaxis": "y"
        },
        {
         "alignmentgroup": "True",
         "hovertemplate": "Actor=Charlie Sheen<br>season=%{x}<br>quote=%{y}<extra></extra>",
         "legendgroup": "Charlie Sheen",
         "marker": {
          "color": "#636efa"
         },
         "name": "Charlie Sheen",
         "offsetgroup": "Charlie Sheen",
         "orientation": "v",
         "showlegend": true,
         "textposition": "auto",
         "type": "bar",
         "x": [
          2
         ],
         "xaxis": "x",
         "y": [
          32
         ],
         "yaxis": "y"
        },
        {
         "alignmentgroup": "True",
         "hovertemplate": "Actor=Charlton heston<br>season=%{x}<br>quote=%{y}<extra></extra>",
         "legendgroup": "Charlton heston",
         "marker": {
          "color": "#EF553B"
         },
         "name": "Charlton heston",
         "offsetgroup": "Charlton heston",
         "orientation": "v",
         "showlegend": true,
         "textposition": "auto",
         "type": "bar",
         "x": [
          4
         ],
         "xaxis": "x",
         "y": [
          9
         ],
         "yaxis": "y"
        },
        {
         "alignmentgroup": "True",
         "hovertemplate": "Actor=Chris Isaak <br>season=%{x}<br>quote=%{y}<extra></extra>",
         "legendgroup": "Chris Isaak ",
         "marker": {
          "color": "#00cc96"
         },
         "name": "Chris Isaak ",
         "offsetgroup": "Chris Isaak ",
         "orientation": "v",
         "showlegend": true,
         "textposition": "auto",
         "type": "bar",
         "x": [
          2
         ],
         "xaxis": "x",
         "y": [
          15
         ],
         "yaxis": "y"
        },
        {
         "alignmentgroup": "True",
         "hovertemplate": "Actor=Chris Parnell<br>season=%{x}<br>quote=%{y}<extra></extra>",
         "legendgroup": "Chris Parnell",
         "marker": {
          "color": "#ab63fa"
         },
         "name": "Chris Parnell",
         "offsetgroup": "Chris Parnell",
         "orientation": "v",
         "showlegend": true,
         "textposition": "auto",
         "type": "bar",
         "x": [
          8
         ],
         "xaxis": "x",
         "y": [
          10
         ],
         "yaxis": "y"
        },
        {
         "alignmentgroup": "True",
         "hovertemplate": "Actor=Chrissie Hynde<br>season=%{x}<br>quote=%{y}<extra></extra>",
         "legendgroup": "Chrissie Hynde",
         "marker": {
          "color": "#FFA15A"
         },
         "name": "Chrissie Hynde",
         "offsetgroup": "Chrissie Hynde",
         "orientation": "v",
         "showlegend": true,
         "textposition": "auto",
         "type": "bar",
         "x": [
          2
         ],
         "xaxis": "x",
         "y": [
          13
         ],
         "yaxis": "y"
        },
        {
         "alignmentgroup": "True",
         "hovertemplate": "Actor=Christina Applegate<br>season=%{x}<br>quote=%{y}<extra></extra>",
         "legendgroup": "Christina Applegate",
         "marker": {
          "color": "#19d3f3"
         },
         "name": "Christina Applegate",
         "offsetgroup": "Christina Applegate",
         "orientation": "v",
         "showlegend": true,
         "textposition": "auto",
         "type": "bar",
         "x": [
          9,
          10
         ],
         "xaxis": "x",
         "y": [
          59,
          65
         ],
         "yaxis": "y"
        },
        {
         "alignmentgroup": "True",
         "hovertemplate": "Actor=Dakota Fanning<br>season=%{x}<br>quote=%{y}<extra></extra>",
         "legendgroup": "Dakota Fanning",
         "marker": {
          "color": "#FF6692"
         },
         "name": "Dakota Fanning",
         "offsetgroup": "Dakota Fanning",
         "orientation": "v",
         "showlegend": true,
         "textposition": "auto",
         "type": "bar",
         "x": [
          10
         ],
         "xaxis": "x",
         "y": [
          11
         ],
         "yaxis": "y"
        },
        {
         "alignmentgroup": "True",
         "hovertemplate": "Actor=Danny DeVito <br>season=%{x}<br>quote=%{y}<extra></extra>",
         "legendgroup": "Danny DeVito ",
         "marker": {
          "color": "#B6E880"
         },
         "name": "Danny DeVito ",
         "offsetgroup": "Danny DeVito ",
         "orientation": "v",
         "showlegend": true,
         "textposition": "auto",
         "type": "bar",
         "x": [
          10
         ],
         "xaxis": "x",
         "y": [
          24
         ],
         "yaxis": "y"
        },
        {
         "alignmentgroup": "True",
         "hovertemplate": "Actor=David Arquette<br>season=%{x}<br>quote=%{y}<extra></extra>",
         "legendgroup": "David Arquette",
         "marker": {
          "color": "#FF97FF"
         },
         "name": "David Arquette",
         "offsetgroup": "David Arquette",
         "orientation": "v",
         "showlegend": true,
         "textposition": "auto",
         "type": "bar",
         "x": [
          3
         ],
         "xaxis": "x",
         "y": [
          24
         ],
         "yaxis": "y"
        },
        {
         "alignmentgroup": "True",
         "hovertemplate": "Actor=Denise Richards<br>season=%{x}<br>quote=%{y}<extra></extra>",
         "legendgroup": "Denise Richards",
         "marker": {
          "color": "#FECB52"
         },
         "name": "Denise Richards",
         "offsetgroup": "Denise Richards",
         "orientation": "v",
         "showlegend": true,
         "textposition": "auto",
         "type": "bar",
         "x": [
          7
         ],
         "xaxis": "x",
         "y": [
          16
         ],
         "yaxis": "y"
        },
        {
         "alignmentgroup": "True",
         "hovertemplate": "Actor=Dermot Mulroney<br>season=%{x}<br>quote=%{y}<extra></extra>",
         "legendgroup": "Dermot Mulroney",
         "marker": {
          "color": "#636efa"
         },
         "name": "Dermot Mulroney",
         "offsetgroup": "Dermot Mulroney",
         "orientation": "v",
         "showlegend": true,
         "textposition": "auto",
         "type": "bar",
         "x": [
          9
         ],
         "xaxis": "x",
         "y": [
          25
         ],
         "yaxis": "y"
        },
        {
         "alignmentgroup": "True",
         "hovertemplate": "Actor=Elle Macpherson<br>season=%{x}<br>quote=%{y}<extra></extra>",
         "legendgroup": "Elle Macpherson",
         "marker": {
          "color": "#EF553B"
         },
         "name": "Elle Macpherson",
         "offsetgroup": "Elle Macpherson",
         "orientation": "v",
         "showlegend": true,
         "textposition": "auto",
         "type": "bar",
         "x": [
          6
         ],
         "xaxis": "x",
         "y": [
          89
         ],
         "yaxis": "y"
        },
        {
         "alignmentgroup": "True",
         "hovertemplate": "Actor=Ellen Pompeo<br>season=%{x}<br>quote=%{y}<extra></extra>",
         "legendgroup": "Ellen Pompeo",
         "marker": {
          "color": "#00cc96"
         },
         "name": "Ellen Pompeo",
         "offsetgroup": "Ellen Pompeo",
         "orientation": "v",
         "showlegend": true,
         "textposition": "auto",
         "type": "bar",
         "x": [
          10
         ],
         "xaxis": "x",
         "y": [
          10
         ],
         "yaxis": "y"
        },
        {
         "alignmentgroup": "True",
         "hovertemplate": "Actor=Fred Willard <br>season=%{x}<br>quote=%{y}<extra></extra>",
         "legendgroup": "Fred Willard ",
         "marker": {
          "color": "#ab63fa"
         },
         "name": "Fred Willard ",
         "offsetgroup": "Fred Willard ",
         "orientation": "v",
         "showlegend": true,
         "textposition": "auto",
         "type": "bar",
         "x": [
          2
         ],
         "xaxis": "x",
         "y": [
          6
         ],
         "yaxis": "y"
        },
        {
         "alignmentgroup": "True",
         "hovertemplate": "Actor=Freddie Prinze Jr.<br>season=%{x}<br>quote=%{y}<extra></extra>",
         "legendgroup": "Freddie Prinze Jr.",
         "marker": {
          "color": "#FFA15A"
         },
         "name": "Freddie Prinze Jr.",
         "offsetgroup": "Freddie Prinze Jr.",
         "orientation": "v",
         "showlegend": true,
         "textposition": "auto",
         "type": "bar",
         "x": [
          9
         ],
         "xaxis": "x",
         "y": [
          29
         ],
         "yaxis": "y"
        },
        {
         "alignmentgroup": "True",
         "hovertemplate": "Actor=Gabrielle Union<br>season=%{x}<br>quote=%{y}<extra></extra>",
         "legendgroup": "Gabrielle Union",
         "marker": {
          "color": "#19d3f3"
         },
         "name": "Gabrielle Union",
         "offsetgroup": "Gabrielle Union",
         "orientation": "v",
         "showlegend": true,
         "textposition": "auto",
         "type": "bar",
         "x": [
          7
         ],
         "xaxis": "x",
         "y": [
          27
         ],
         "yaxis": "y"
        },
        {
         "alignmentgroup": "True",
         "hovertemplate": "Actor=Gary Oldman<br>season=%{x}<br>quote=%{y}<extra></extra>",
         "legendgroup": "Gary Oldman",
         "marker": {
          "color": "#FF6692"
         },
         "name": "Gary Oldman",
         "offsetgroup": "Gary Oldman",
         "orientation": "v",
         "showlegend": true,
         "textposition": "auto",
         "type": "bar",
         "x": [
          7
         ],
         "xaxis": "x",
         "y": [
          33
         ],
         "yaxis": "y"
        },
        {
         "alignmentgroup": "True",
         "hovertemplate": "Actor=George Clooney<br>season=%{x}<br>quote=%{y}<extra></extra>",
         "legendgroup": "George Clooney",
         "marker": {
          "color": "#B6E880"
         },
         "name": "George Clooney",
         "offsetgroup": "George Clooney",
         "orientation": "v",
         "showlegend": true,
         "textposition": "auto",
         "type": "bar",
         "x": [
          1
         ],
         "xaxis": "x",
         "y": [
          13
         ],
         "yaxis": "y"
        },
        {
         "alignmentgroup": "True",
         "hovertemplate": "Actor=Greg Kinnear<br>season=%{x}<br>quote=%{y}<extra></extra>",
         "legendgroup": "Greg Kinnear",
         "marker": {
          "color": "#FF97FF"
         },
         "name": "Greg Kinnear",
         "offsetgroup": "Greg Kinnear",
         "orientation": "v",
         "showlegend": true,
         "textposition": "auto",
         "type": "bar",
         "x": [
          10
         ],
         "xaxis": "x",
         "y": [
          38
         ],
         "yaxis": "y"
        },
        {
         "alignmentgroup": "True",
         "hovertemplate": "Actor=Hank Azaria<br>season=%{x}<br>quote=%{y}<extra></extra>",
         "legendgroup": "Hank Azaria",
         "marker": {
          "color": "#FECB52"
         },
         "name": "Hank Azaria",
         "offsetgroup": "Hank Azaria",
         "orientation": "v",
         "showlegend": true,
         "textposition": "auto",
         "type": "bar",
         "x": [
          1,
          7,
          9
         ],
         "xaxis": "x",
         "y": [
          28,
          20,
          72
         ],
         "yaxis": "y"
        },
        {
         "alignmentgroup": "True",
         "hovertemplate": "Actor=Helen Hunt<br>season=%{x}<br>quote=%{y}<extra></extra>",
         "legendgroup": "Helen Hunt",
         "marker": {
          "color": "#636efa"
         },
         "name": "Helen Hunt",
         "offsetgroup": "Helen Hunt",
         "orientation": "v",
         "showlegend": true,
         "textposition": "auto",
         "type": "bar",
         "x": [
          1
         ],
         "xaxis": "x",
         "y": [
          11
         ],
         "yaxis": "y"
        },
        {
         "alignmentgroup": "True",
         "hovertemplate": "Actor=Hugh Laurie<br>season=%{x}<br>quote=%{y}<extra></extra>",
         "legendgroup": "Hugh Laurie",
         "marker": {
          "color": "#EF553B"
         },
         "name": "Hugh Laurie",
         "offsetgroup": "Hugh Laurie",
         "orientation": "v",
         "showlegend": true,
         "textposition": "auto",
         "type": "bar",
         "x": [
          4
         ],
         "xaxis": "x",
         "y": [
          6
         ],
         "yaxis": "y"
        },
        {
         "alignmentgroup": "True",
         "hovertemplate": "Actor=Iqbal Theba<br>season=%{x}<br>quote=%{y}<extra></extra>",
         "legendgroup": "Iqbal Theba",
         "marker": {
          "color": "#00cc96"
         },
         "name": "Iqbal Theba",
         "offsetgroup": "Iqbal Theba",
         "orientation": "v",
         "showlegend": true,
         "textposition": "auto",
         "type": "bar",
         "x": [
          5
         ],
         "xaxis": "x",
         "y": [
          6
         ],
         "yaxis": "y"
        },
        {
         "alignmentgroup": "True",
         "hovertemplate": "Actor=Isabella Rossellini<br>season=%{x}<br>quote=%{y}<extra></extra>",
         "legendgroup": "Isabella Rossellini",
         "marker": {
          "color": "#ab63fa"
         },
         "name": "Isabella Rossellini",
         "offsetgroup": "Isabella Rossellini",
         "orientation": "v",
         "showlegend": true,
         "textposition": "auto",
         "type": "bar",
         "x": [
          3
         ],
         "xaxis": "x",
         "y": [
          10
         ],
         "yaxis": "y"
        },
        {
         "alignmentgroup": "True",
         "hovertemplate": "Actor=Jason Alexander<br>season=%{x}<br>quote=%{y}<extra></extra>",
         "legendgroup": "Jason Alexander",
         "marker": {
          "color": "#FFA15A"
         },
         "name": "Jason Alexander",
         "offsetgroup": "Jason Alexander",
         "orientation": "v",
         "showlegend": true,
         "textposition": "auto",
         "type": "bar",
         "x": [
          7
         ],
         "xaxis": "x",
         "y": [
          29
         ],
         "yaxis": "y"
        },
        {
         "alignmentgroup": "True",
         "hovertemplate": "Actor=Jay Leno<br>season=%{x}<br>quote=%{y}<extra></extra>",
         "legendgroup": "Jay Leno",
         "marker": {
          "color": "#19d3f3"
         },
         "name": "Jay Leno",
         "offsetgroup": "Jay Leno",
         "orientation": "v",
         "showlegend": true,
         "textposition": "auto",
         "type": "bar",
         "x": [
          1
         ],
         "xaxis": "x",
         "y": [
          4
         ],
         "yaxis": "y"
        },
        {
         "alignmentgroup": "True",
         "hovertemplate": "Actor=Jean-Claude Van Damme<br>season=%{x}<br>quote=%{y}<extra></extra>",
         "legendgroup": "Jean-Claude Van Damme",
         "marker": {
          "color": "#FF6692"
         },
         "name": "Jean-Claude Van Damme",
         "offsetgroup": "Jean-Claude Van Damme",
         "orientation": "v",
         "showlegend": true,
         "textposition": "auto",
         "type": "bar",
         "x": [
          2
         ],
         "xaxis": "x",
         "y": [
          14
         ],
         "yaxis": "y"
        },
        {
         "alignmentgroup": "True",
         "hovertemplate": "Actor=Jeff Goldblum<br>season=%{x}<br>quote=%{y}<extra></extra>",
         "legendgroup": "Jeff Goldblum",
         "marker": {
          "color": "#B6E880"
         },
         "name": "Jeff Goldblum",
         "offsetgroup": "Jeff Goldblum",
         "orientation": "v",
         "showlegend": true,
         "textposition": "auto",
         "type": "bar",
         "x": [
          9
         ],
         "xaxis": "x",
         "y": [
          33
         ],
         "yaxis": "y"
        },
        {
         "alignmentgroup": "True",
         "hovertemplate": "Actor=Jennifer Coolidge<br>season=%{x}<br>quote=%{y}<extra></extra>",
         "legendgroup": "Jennifer Coolidge",
         "marker": {
          "color": "#FF97FF"
         },
         "name": "Jennifer Coolidge",
         "offsetgroup": "Jennifer Coolidge",
         "orientation": "v",
         "showlegend": true,
         "textposition": "auto",
         "type": "bar",
         "x": [
          10
         ],
         "xaxis": "x",
         "y": [
          14
         ],
         "yaxis": "y"
        },
        {
         "alignmentgroup": "True",
         "hovertemplate": "Actor=Jennifer Grey<br>season=%{x}<br>quote=%{y}<extra></extra>",
         "legendgroup": "Jennifer Grey",
         "marker": {
          "color": "#FECB52"
         },
         "name": "Jennifer Grey",
         "offsetgroup": "Jennifer Grey",
         "orientation": "v",
         "showlegend": true,
         "textposition": "auto",
         "type": "bar",
         "x": [
          1
         ],
         "xaxis": "x",
         "y": [
          22
         ],
         "yaxis": "y"
        },
        {
         "alignmentgroup": "True",
         "hovertemplate": "Actor=Jill Goodacre<br>season=%{x}<br>quote=%{y}<extra></extra>",
         "legendgroup": "Jill Goodacre",
         "marker": {
          "color": "#636efa"
         },
         "name": "Jill Goodacre",
         "offsetgroup": "Jill Goodacre",
         "orientation": "v",
         "showlegend": true,
         "textposition": "auto",
         "type": "bar",
         "x": [
          1
         ],
         "xaxis": "x",
         "y": [
          13
         ],
         "yaxis": "y"
        },
        {
         "alignmentgroup": "True",
         "hovertemplate": "Actor=Jim Rash<br>season=%{x}<br>quote=%{y}<extra></extra>",
         "legendgroup": "Jim Rash",
         "marker": {
          "color": "#EF553B"
         },
         "name": "Jim Rash",
         "offsetgroup": "Jim Rash",
         "orientation": "v",
         "showlegend": true,
         "textposition": "auto",
         "type": "bar",
         "x": [
          10
         ],
         "xaxis": "x",
         "y": [
          8
         ],
         "yaxis": "y"
        },
        {
         "alignmentgroup": "True",
         "hovertemplate": "Actor=John Stamos<br>season=%{x}<br>quote=%{y}<extra></extra>",
         "legendgroup": "John Stamos",
         "marker": {
          "color": "#00cc96"
         },
         "name": "John Stamos",
         "offsetgroup": "John Stamos",
         "orientation": "v",
         "showlegend": true,
         "textposition": "auto",
         "type": "bar",
         "x": [
          9
         ],
         "xaxis": "x",
         "y": [
          20
         ],
         "yaxis": "y"
        },
        {
         "alignmentgroup": "True",
         "hovertemplate": "Actor=Jon Favreau<br>season=%{x}<br>quote=%{y}<extra></extra>",
         "legendgroup": "Jon Favreau",
         "marker": {
          "color": "#ab63fa"
         },
         "name": "Jon Favreau",
         "offsetgroup": "Jon Favreau",
         "orientation": "v",
         "showlegend": true,
         "textposition": "auto",
         "type": "bar",
         "x": [
          3
         ],
         "xaxis": "x",
         "y": [
          103
         ],
         "yaxis": "y"
        },
        {
         "alignmentgroup": "True",
         "hovertemplate": "Actor=Jon Lovitz<br>season=%{x}<br>quote=%{y}<extra></extra>",
         "legendgroup": "Jon Lovitz",
         "marker": {
          "color": "#FFA15A"
         },
         "name": "Jon Lovitz",
         "offsetgroup": "Jon Lovitz",
         "orientation": "v",
         "showlegend": true,
         "textposition": "auto",
         "type": "bar",
         "x": [
          1,
          9
         ],
         "xaxis": "x",
         "y": [
          23,
          13
         ],
         "yaxis": "y"
        },
        {
         "alignmentgroup": "True",
         "hovertemplate": "Actor=Julia Roberts<br>season=%{x}<br>quote=%{y}<extra></extra>",
         "legendgroup": "Julia Roberts",
         "marker": {
          "color": "#19d3f3"
         },
         "name": "Julia Roberts",
         "offsetgroup": "Julia Roberts",
         "orientation": "v",
         "showlegend": true,
         "textposition": "auto",
         "type": "bar",
         "x": [
          2
         ],
         "xaxis": "x",
         "y": [
          35
         ],
         "yaxis": "y"
        },
        {
         "alignmentgroup": "True",
         "hovertemplate": "Actor=Kathleen Turner<br>season=%{x}<br>quote=%{y}<extra></extra>",
         "legendgroup": "Kathleen Turner",
         "marker": {
          "color": "#FF6692"
         },
         "name": "Kathleen Turner",
         "offsetgroup": "Kathleen Turner",
         "orientation": "v",
         "showlegend": true,
         "textposition": "auto",
         "type": "bar",
         "x": [
          7
         ],
         "xaxis": "x",
         "y": [
          23
         ],
         "yaxis": "y"
        },
        {
         "alignmentgroup": "True",
         "hovertemplate": "Actor=Kristin Davis<br>season=%{x}<br>quote=%{y}<extra></extra>",
         "legendgroup": "Kristin Davis",
         "marker": {
          "color": "#B6E880"
         },
         "name": "Kristin Davis",
         "offsetgroup": "Kristin Davis",
         "orientation": "v",
         "showlegend": true,
         "textposition": "auto",
         "type": "bar",
         "x": [
          7
         ],
         "xaxis": "x",
         "y": [
          23
         ],
         "yaxis": "y"
        },
        {
         "alignmentgroup": "True",
         "hovertemplate": "Actor=Lea Thompson<br>season=%{x}<br>quote=%{y}<extra></extra>",
         "legendgroup": "Lea Thompson",
         "marker": {
          "color": "#FF97FF"
         },
         "name": "Lea Thompson",
         "offsetgroup": "Lea Thompson",
         "orientation": "v",
         "showlegend": true,
         "textposition": "auto",
         "type": "bar",
         "x": [
          2
         ],
         "xaxis": "x",
         "y": [
          6
         ],
         "yaxis": "y"
        },
        {
         "alignmentgroup": "True",
         "hovertemplate": "Actor=Leah Remini<br>season=%{x}<br>quote=%{y}<extra></extra>",
         "legendgroup": "Leah Remini",
         "marker": {
          "color": "#FECB52"
         },
         "name": "Leah Remini",
         "offsetgroup": "Leah Remini",
         "orientation": "v",
         "showlegend": true,
         "textposition": "auto",
         "type": "bar",
         "x": [
          1
         ],
         "xaxis": "x",
         "y": [
          21
         ],
         "yaxis": "y"
        },
        {
         "alignmentgroup": "True",
         "hovertemplate": "Actor=Mae Whitman<br>season=%{x}<br>quote=%{y}<extra></extra>",
         "legendgroup": "Mae Whitman",
         "marker": {
          "color": "#636efa"
         },
         "name": "Mae Whitman",
         "offsetgroup": "Mae Whitman",
         "orientation": "v",
         "showlegend": true,
         "textposition": "auto",
         "type": "bar",
         "x": [
          3
         ],
         "xaxis": "x",
         "y": [
          11
         ],
         "yaxis": "y"
        },
        {
         "alignmentgroup": "True",
         "hovertemplate": "Actor=Marlo Thomas<br>season=%{x}<br>quote=%{y}<extra></extra>",
         "legendgroup": "Marlo Thomas",
         "marker": {
          "color": "#EF553B"
         },
         "name": "Marlo Thomas",
         "offsetgroup": "Marlo Thomas",
         "orientation": "v",
         "showlegend": true,
         "textposition": "auto",
         "type": "bar",
         "x": [
          2,
          8
         ],
         "xaxis": "x",
         "y": [
          24,
          37
         ],
         "yaxis": "y"
        },
        {
         "alignmentgroup": "True",
         "hovertemplate": "Actor=Michael McKean<br>season=%{x}<br>quote=%{y}<extra></extra>",
         "legendgroup": "Michael McKean",
         "marker": {
          "color": "#00cc96"
         },
         "name": "Michael McKean",
         "offsetgroup": "Michael McKean",
         "orientation": "v",
         "showlegend": true,
         "textposition": "auto",
         "type": "bar",
         "x": [
          2
         ],
         "xaxis": "x",
         "y": [
          18
         ],
         "yaxis": "y"
        },
        {
         "alignmentgroup": "True",
         "hovertemplate": "Actor=Morgan Fairchild<br>season=%{x}<br>quote=%{y}<extra></extra>",
         "legendgroup": "Morgan Fairchild",
         "marker": {
          "color": "#ab63fa"
         },
         "name": "Morgan Fairchild",
         "offsetgroup": "Morgan Fairchild",
         "orientation": "v",
         "showlegend": true,
         "textposition": "auto",
         "type": "bar",
         "x": [
          1,
          5,
          7,
          8
         ],
         "xaxis": "x",
         "y": [
          28,
          1,
          7,
          4
         ],
         "yaxis": "y"
        },
        {
         "alignmentgroup": "True",
         "hovertemplate": "Actor=Noah Wyle<br>season=%{x}<br>quote=%{y}<extra></extra>",
         "legendgroup": "Noah Wyle",
         "marker": {
          "color": "#FFA15A"
         },
         "name": "Noah Wyle",
         "offsetgroup": "Noah Wyle",
         "orientation": "v",
         "showlegend": true,
         "textposition": "auto",
         "type": "bar",
         "x": [
          1
         ],
         "xaxis": "x",
         "y": [
          10
         ],
         "yaxis": "y"
        },
        {
         "alignmentgroup": "True",
         "hovertemplate": "Actor=Paul Rudd<br>season=%{x}<br>quote=%{y}<extra></extra>",
         "legendgroup": "Paul Rudd",
         "marker": {
          "color": "#19d3f3"
         },
         "name": "Paul Rudd",
         "offsetgroup": "Paul Rudd",
         "orientation": "v",
         "showlegend": true,
         "textposition": "auto",
         "type": "bar",
         "x": [
          9,
          10
         ],
         "xaxis": "x",
         "y": [
          229,
          116
         ],
         "yaxis": "y"
        },
        {
         "alignmentgroup": "True",
         "hovertemplate": "Actor=Rebecca Romijn<br>season=%{x}<br>quote=%{y}<extra></extra>",
         "legendgroup": "Rebecca Romijn",
         "marker": {
          "color": "#FF6692"
         },
         "name": "Rebecca Romijn",
         "offsetgroup": "Rebecca Romijn",
         "orientation": "v",
         "showlegend": true,
         "textposition": "auto",
         "type": "bar",
         "x": [
          4
         ],
         "xaxis": "x",
         "y": [
          17
         ],
         "yaxis": "y"
        },
        {
         "alignmentgroup": "True",
         "hovertemplate": "Actor=Reese Witherspoon<br>season=%{x}<br>quote=%{y}<extra></extra>",
         "legendgroup": "Reese Witherspoon",
         "marker": {
          "color": "#B6E880"
         },
         "name": "Reese Witherspoon",
         "offsetgroup": "Reese Witherspoon",
         "orientation": "v",
         "showlegend": true,
         "textposition": "auto",
         "type": "bar",
         "x": [
          6
         ],
         "xaxis": "x",
         "y": [
          67
         ],
         "yaxis": "y"
        },
        {
         "alignmentgroup": "True",
         "hovertemplate": "Actor=Robin Williams<br>season=%{x}<br>quote=%{y}<extra></extra>",
         "legendgroup": "Robin Williams",
         "marker": {
          "color": "#FF97FF"
         },
         "name": "Robin Williams",
         "offsetgroup": "Robin Williams",
         "orientation": "v",
         "showlegend": true,
         "textposition": "auto",
         "type": "bar",
         "x": [
          3
         ],
         "xaxis": "x",
         "y": [
          11
         ],
         "yaxis": "y"
        },
        {
         "alignmentgroup": "True",
         "hovertemplate": "Actor=Sarah \"Fergie\" Ferguson<br>season=%{x}<br>quote=%{y}<extra></extra>",
         "legendgroup": "Sarah \"Fergie\" Ferguson",
         "marker": {
          "color": "#FECB52"
         },
         "name": "Sarah \"Fergie\" Ferguson",
         "offsetgroup": "Sarah \"Fergie\" Ferguson",
         "orientation": "v",
         "showlegend": true,
         "textposition": "auto",
         "type": "bar",
         "x": [
          4
         ],
         "xaxis": "x",
         "y": [
          3
         ],
         "yaxis": "y"
        },
        {
         "alignmentgroup": "True",
         "hovertemplate": "Actor=Sean Penn<br>season=%{x}<br>quote=%{y}<extra></extra>",
         "legendgroup": "Sean Penn",
         "marker": {
          "color": "#636efa"
         },
         "name": "Sean Penn",
         "offsetgroup": "Sean Penn",
         "orientation": "v",
         "showlegend": true,
         "textposition": "auto",
         "type": "bar",
         "x": [
          8
         ],
         "xaxis": "x",
         "y": [
          62
         ],
         "yaxis": "y"
        },
        {
         "alignmentgroup": "True",
         "hovertemplate": "Actor=Selma Blair<br>season=%{x}<br>quote=%{y}<extra></extra>",
         "legendgroup": "Selma Blair",
         "marker": {
          "color": "#EF553B"
         },
         "name": "Selma Blair",
         "offsetgroup": "Selma Blair",
         "orientation": "v",
         "showlegend": true,
         "textposition": "auto",
         "type": "bar",
         "x": [
          9
         ],
         "xaxis": "x",
         "y": [
          15
         ],
         "yaxis": "y"
        },
        {
         "alignmentgroup": "True",
         "hovertemplate": "Actor=Soleil Moon Frye<br>season=%{x}<br>quote=%{y}<extra></extra>",
         "legendgroup": "Soleil Moon Frye",
         "marker": {
          "color": "#00cc96"
         },
         "name": "Soleil Moon Frye",
         "offsetgroup": "Soleil Moon Frye",
         "orientation": "v",
         "showlegend": true,
         "textposition": "auto",
         "type": "bar",
         "x": [
          5
         ],
         "xaxis": "x",
         "y": [
          15
         ],
         "yaxis": "y"
        },
        {
         "alignmentgroup": "True",
         "hovertemplate": "Actor=Susan Sarandon<br>season=%{x}<br>quote=%{y}<extra></extra>",
         "legendgroup": "Susan Sarandon",
         "marker": {
          "color": "#ab63fa"
         },
         "name": "Susan Sarandon",
         "offsetgroup": "Susan Sarandon",
         "orientation": "v",
         "showlegend": true,
         "textposition": "auto",
         "type": "bar",
         "x": [
          7
         ],
         "xaxis": "x",
         "y": [
          53
         ],
         "yaxis": "y"
        },
        {
         "alignmentgroup": "True",
         "hovertemplate": "Actor=Tom Selleck<br>season=%{x}<br>quote=%{y}<extra></extra>",
         "legendgroup": "Tom Selleck",
         "marker": {
          "color": "#FFA15A"
         },
         "name": "Tom Selleck",
         "offsetgroup": "Tom Selleck",
         "orientation": "v",
         "showlegend": true,
         "textposition": "auto",
         "type": "bar",
         "x": [
          2,
          3,
          6
         ],
         "xaxis": "x",
         "y": [
          128,
          43,
          50
         ],
         "yaxis": "y"
        },
        {
         "alignmentgroup": "True",
         "hovertemplate": "Actor=Winona Ryder<br>season=%{x}<br>quote=%{y}<extra></extra>",
         "legendgroup": "Winona Ryder",
         "marker": {
          "color": "#19d3f3"
         },
         "name": "Winona Ryder",
         "offsetgroup": "Winona Ryder",
         "orientation": "v",
         "showlegend": true,
         "textposition": "auto",
         "type": "bar",
         "x": [
          7
         ],
         "xaxis": "x",
         "y": [
          27
         ],
         "yaxis": "y"
        }
       ],
       "layout": {
        "barmode": "relative",
        "legend": {
         "title": {
          "text": "Actor"
         },
         "tracegroupgap": 0
        },
        "template": {
         "data": {
          "bar": [
           {
            "error_x": {
             "color": "#2a3f5f"
            },
            "error_y": {
             "color": "#2a3f5f"
            },
            "marker": {
             "line": {
              "color": "#E5ECF6",
              "width": 0.5
             }
            },
            "type": "bar"
           }
          ],
          "barpolar": [
           {
            "marker": {
             "line": {
              "color": "#E5ECF6",
              "width": 0.5
             }
            },
            "type": "barpolar"
           }
          ],
          "carpet": [
           {
            "aaxis": {
             "endlinecolor": "#2a3f5f",
             "gridcolor": "white",
             "linecolor": "white",
             "minorgridcolor": "white",
             "startlinecolor": "#2a3f5f"
            },
            "baxis": {
             "endlinecolor": "#2a3f5f",
             "gridcolor": "white",
             "linecolor": "white",
             "minorgridcolor": "white",
             "startlinecolor": "#2a3f5f"
            },
            "type": "carpet"
           }
          ],
          "choropleth": [
           {
            "colorbar": {
             "outlinewidth": 0,
             "ticks": ""
            },
            "type": "choropleth"
           }
          ],
          "contour": [
           {
            "colorbar": {
             "outlinewidth": 0,
             "ticks": ""
            },
            "colorscale": [
             [
              0,
              "#0d0887"
             ],
             [
              0.1111111111111111,
              "#46039f"
             ],
             [
              0.2222222222222222,
              "#7201a8"
             ],
             [
              0.3333333333333333,
              "#9c179e"
             ],
             [
              0.4444444444444444,
              "#bd3786"
             ],
             [
              0.5555555555555556,
              "#d8576b"
             ],
             [
              0.6666666666666666,
              "#ed7953"
             ],
             [
              0.7777777777777778,
              "#fb9f3a"
             ],
             [
              0.8888888888888888,
              "#fdca26"
             ],
             [
              1,
              "#f0f921"
             ]
            ],
            "type": "contour"
           }
          ],
          "contourcarpet": [
           {
            "colorbar": {
             "outlinewidth": 0,
             "ticks": ""
            },
            "type": "contourcarpet"
           }
          ],
          "heatmap": [
           {
            "colorbar": {
             "outlinewidth": 0,
             "ticks": ""
            },
            "colorscale": [
             [
              0,
              "#0d0887"
             ],
             [
              0.1111111111111111,
              "#46039f"
             ],
             [
              0.2222222222222222,
              "#7201a8"
             ],
             [
              0.3333333333333333,
              "#9c179e"
             ],
             [
              0.4444444444444444,
              "#bd3786"
             ],
             [
              0.5555555555555556,
              "#d8576b"
             ],
             [
              0.6666666666666666,
              "#ed7953"
             ],
             [
              0.7777777777777778,
              "#fb9f3a"
             ],
             [
              0.8888888888888888,
              "#fdca26"
             ],
             [
              1,
              "#f0f921"
             ]
            ],
            "type": "heatmap"
           }
          ],
          "heatmapgl": [
           {
            "colorbar": {
             "outlinewidth": 0,
             "ticks": ""
            },
            "colorscale": [
             [
              0,
              "#0d0887"
             ],
             [
              0.1111111111111111,
              "#46039f"
             ],
             [
              0.2222222222222222,
              "#7201a8"
             ],
             [
              0.3333333333333333,
              "#9c179e"
             ],
             [
              0.4444444444444444,
              "#bd3786"
             ],
             [
              0.5555555555555556,
              "#d8576b"
             ],
             [
              0.6666666666666666,
              "#ed7953"
             ],
             [
              0.7777777777777778,
              "#fb9f3a"
             ],
             [
              0.8888888888888888,
              "#fdca26"
             ],
             [
              1,
              "#f0f921"
             ]
            ],
            "type": "heatmapgl"
           }
          ],
          "histogram": [
           {
            "marker": {
             "colorbar": {
              "outlinewidth": 0,
              "ticks": ""
             }
            },
            "type": "histogram"
           }
          ],
          "histogram2d": [
           {
            "colorbar": {
             "outlinewidth": 0,
             "ticks": ""
            },
            "colorscale": [
             [
              0,
              "#0d0887"
             ],
             [
              0.1111111111111111,
              "#46039f"
             ],
             [
              0.2222222222222222,
              "#7201a8"
             ],
             [
              0.3333333333333333,
              "#9c179e"
             ],
             [
              0.4444444444444444,
              "#bd3786"
             ],
             [
              0.5555555555555556,
              "#d8576b"
             ],
             [
              0.6666666666666666,
              "#ed7953"
             ],
             [
              0.7777777777777778,
              "#fb9f3a"
             ],
             [
              0.8888888888888888,
              "#fdca26"
             ],
             [
              1,
              "#f0f921"
             ]
            ],
            "type": "histogram2d"
           }
          ],
          "histogram2dcontour": [
           {
            "colorbar": {
             "outlinewidth": 0,
             "ticks": ""
            },
            "colorscale": [
             [
              0,
              "#0d0887"
             ],
             [
              0.1111111111111111,
              "#46039f"
             ],
             [
              0.2222222222222222,
              "#7201a8"
             ],
             [
              0.3333333333333333,
              "#9c179e"
             ],
             [
              0.4444444444444444,
              "#bd3786"
             ],
             [
              0.5555555555555556,
              "#d8576b"
             ],
             [
              0.6666666666666666,
              "#ed7953"
             ],
             [
              0.7777777777777778,
              "#fb9f3a"
             ],
             [
              0.8888888888888888,
              "#fdca26"
             ],
             [
              1,
              "#f0f921"
             ]
            ],
            "type": "histogram2dcontour"
           }
          ],
          "mesh3d": [
           {
            "colorbar": {
             "outlinewidth": 0,
             "ticks": ""
            },
            "type": "mesh3d"
           }
          ],
          "parcoords": [
           {
            "line": {
             "colorbar": {
              "outlinewidth": 0,
              "ticks": ""
             }
            },
            "type": "parcoords"
           }
          ],
          "pie": [
           {
            "automargin": true,
            "type": "pie"
           }
          ],
          "scatter": [
           {
            "marker": {
             "colorbar": {
              "outlinewidth": 0,
              "ticks": ""
             }
            },
            "type": "scatter"
           }
          ],
          "scatter3d": [
           {
            "line": {
             "colorbar": {
              "outlinewidth": 0,
              "ticks": ""
             }
            },
            "marker": {
             "colorbar": {
              "outlinewidth": 0,
              "ticks": ""
             }
            },
            "type": "scatter3d"
           }
          ],
          "scattercarpet": [
           {
            "marker": {
             "colorbar": {
              "outlinewidth": 0,
              "ticks": ""
             }
            },
            "type": "scattercarpet"
           }
          ],
          "scattergeo": [
           {
            "marker": {
             "colorbar": {
              "outlinewidth": 0,
              "ticks": ""
             }
            },
            "type": "scattergeo"
           }
          ],
          "scattergl": [
           {
            "marker": {
             "colorbar": {
              "outlinewidth": 0,
              "ticks": ""
             }
            },
            "type": "scattergl"
           }
          ],
          "scattermapbox": [
           {
            "marker": {
             "colorbar": {
              "outlinewidth": 0,
              "ticks": ""
             }
            },
            "type": "scattermapbox"
           }
          ],
          "scatterpolar": [
           {
            "marker": {
             "colorbar": {
              "outlinewidth": 0,
              "ticks": ""
             }
            },
            "type": "scatterpolar"
           }
          ],
          "scatterpolargl": [
           {
            "marker": {
             "colorbar": {
              "outlinewidth": 0,
              "ticks": ""
             }
            },
            "type": "scatterpolargl"
           }
          ],
          "scatterternary": [
           {
            "marker": {
             "colorbar": {
              "outlinewidth": 0,
              "ticks": ""
             }
            },
            "type": "scatterternary"
           }
          ],
          "surface": [
           {
            "colorbar": {
             "outlinewidth": 0,
             "ticks": ""
            },
            "colorscale": [
             [
              0,
              "#0d0887"
             ],
             [
              0.1111111111111111,
              "#46039f"
             ],
             [
              0.2222222222222222,
              "#7201a8"
             ],
             [
              0.3333333333333333,
              "#9c179e"
             ],
             [
              0.4444444444444444,
              "#bd3786"
             ],
             [
              0.5555555555555556,
              "#d8576b"
             ],
             [
              0.6666666666666666,
              "#ed7953"
             ],
             [
              0.7777777777777778,
              "#fb9f3a"
             ],
             [
              0.8888888888888888,
              "#fdca26"
             ],
             [
              1,
              "#f0f921"
             ]
            ],
            "type": "surface"
           }
          ],
          "table": [
           {
            "cells": {
             "fill": {
              "color": "#EBF0F8"
             },
             "line": {
              "color": "white"
             }
            },
            "header": {
             "fill": {
              "color": "#C8D4E3"
             },
             "line": {
              "color": "white"
             }
            },
            "type": "table"
           }
          ]
         },
         "layout": {
          "annotationdefaults": {
           "arrowcolor": "#2a3f5f",
           "arrowhead": 0,
           "arrowwidth": 1
          },
          "autotypenumbers": "strict",
          "coloraxis": {
           "colorbar": {
            "outlinewidth": 0,
            "ticks": ""
           }
          },
          "colorscale": {
           "diverging": [
            [
             0,
             "#8e0152"
            ],
            [
             0.1,
             "#c51b7d"
            ],
            [
             0.2,
             "#de77ae"
            ],
            [
             0.3,
             "#f1b6da"
            ],
            [
             0.4,
             "#fde0ef"
            ],
            [
             0.5,
             "#f7f7f7"
            ],
            [
             0.6,
             "#e6f5d0"
            ],
            [
             0.7,
             "#b8e186"
            ],
            [
             0.8,
             "#7fbc41"
            ],
            [
             0.9,
             "#4d9221"
            ],
            [
             1,
             "#276419"
            ]
           ],
           "sequential": [
            [
             0,
             "#0d0887"
            ],
            [
             0.1111111111111111,
             "#46039f"
            ],
            [
             0.2222222222222222,
             "#7201a8"
            ],
            [
             0.3333333333333333,
             "#9c179e"
            ],
            [
             0.4444444444444444,
             "#bd3786"
            ],
            [
             0.5555555555555556,
             "#d8576b"
            ],
            [
             0.6666666666666666,
             "#ed7953"
            ],
            [
             0.7777777777777778,
             "#fb9f3a"
            ],
            [
             0.8888888888888888,
             "#fdca26"
            ],
            [
             1,
             "#f0f921"
            ]
           ],
           "sequentialminus": [
            [
             0,
             "#0d0887"
            ],
            [
             0.1111111111111111,
             "#46039f"
            ],
            [
             0.2222222222222222,
             "#7201a8"
            ],
            [
             0.3333333333333333,
             "#9c179e"
            ],
            [
             0.4444444444444444,
             "#bd3786"
            ],
            [
             0.5555555555555556,
             "#d8576b"
            ],
            [
             0.6666666666666666,
             "#ed7953"
            ],
            [
             0.7777777777777778,
             "#fb9f3a"
            ],
            [
             0.8888888888888888,
             "#fdca26"
            ],
            [
             1,
             "#f0f921"
            ]
           ]
          },
          "colorway": [
           "#636efa",
           "#EF553B",
           "#00cc96",
           "#ab63fa",
           "#FFA15A",
           "#19d3f3",
           "#FF6692",
           "#B6E880",
           "#FF97FF",
           "#FECB52"
          ],
          "font": {
           "color": "#2a3f5f"
          },
          "geo": {
           "bgcolor": "white",
           "lakecolor": "white",
           "landcolor": "#E5ECF6",
           "showlakes": true,
           "showland": true,
           "subunitcolor": "white"
          },
          "hoverlabel": {
           "align": "left"
          },
          "hovermode": "closest",
          "mapbox": {
           "style": "light"
          },
          "paper_bgcolor": "white",
          "plot_bgcolor": "#E5ECF6",
          "polar": {
           "angularaxis": {
            "gridcolor": "white",
            "linecolor": "white",
            "ticks": ""
           },
           "bgcolor": "#E5ECF6",
           "radialaxis": {
            "gridcolor": "white",
            "linecolor": "white",
            "ticks": ""
           }
          },
          "scene": {
           "xaxis": {
            "backgroundcolor": "#E5ECF6",
            "gridcolor": "white",
            "gridwidth": 2,
            "linecolor": "white",
            "showbackground": true,
            "ticks": "",
            "zerolinecolor": "white"
           },
           "yaxis": {
            "backgroundcolor": "#E5ECF6",
            "gridcolor": "white",
            "gridwidth": 2,
            "linecolor": "white",
            "showbackground": true,
            "ticks": "",
            "zerolinecolor": "white"
           },
           "zaxis": {
            "backgroundcolor": "#E5ECF6",
            "gridcolor": "white",
            "gridwidth": 2,
            "linecolor": "white",
            "showbackground": true,
            "ticks": "",
            "zerolinecolor": "white"
           }
          },
          "shapedefaults": {
           "line": {
            "color": "#2a3f5f"
           }
          },
          "ternary": {
           "aaxis": {
            "gridcolor": "white",
            "linecolor": "white",
            "ticks": ""
           },
           "baxis": {
            "gridcolor": "white",
            "linecolor": "white",
            "ticks": ""
           },
           "bgcolor": "#E5ECF6",
           "caxis": {
            "gridcolor": "white",
            "linecolor": "white",
            "ticks": ""
           }
          },
          "title": {
           "x": 0.05
          },
          "xaxis": {
           "automargin": true,
           "gridcolor": "white",
           "linecolor": "white",
           "ticks": "",
           "title": {
            "standoff": 15
           },
           "zerolinecolor": "white",
           "zerolinewidth": 2
          },
          "yaxis": {
           "automargin": true,
           "gridcolor": "white",
           "linecolor": "white",
           "ticks": "",
           "title": {
            "standoff": 15
           },
           "zerolinecolor": "white",
           "zerolinewidth": 2
          }
         }
        },
        "title": {
         "text": "Guest_Stars"
        },
        "xaxis": {
         "anchor": "y",
         "domain": [
          0,
          1
         ],
         "title": {
          "text": "season"
         }
        },
        "yaxis": {
         "anchor": "x",
         "domain": [
          0,
          1
         ],
         "title": {
          "text": "quote"
         }
        }
       }
      },
      "text/html": [
       "<div>                            <div id=\"b0586ebb-f542-4832-9d38-ff72f1af4588\" class=\"plotly-graph-div\" style=\"height:525px; width:100%;\"></div>            <script type=\"text/javascript\">                require([\"plotly\"], function(Plotly) {                    window.PLOTLYENV=window.PLOTLYENV || {};                                    if (document.getElementById(\"b0586ebb-f542-4832-9d38-ff72f1af4588\")) {                    Plotly.newPlot(                        \"b0586ebb-f542-4832-9d38-ff72f1af4588\",                        [{\"alignmentgroup\": \"True\", \"hovertemplate\": \"Actor=Adam Goldberg<br>season=%{x}<br>quote=%{y}<extra></extra>\", \"legendgroup\": \"Adam Goldberg\", \"marker\": {\"color\": \"#636efa\"}, \"name\": \"Adam Goldberg\", \"offsetgroup\": \"Adam Goldberg\", \"orientation\": \"v\", \"showlegend\": true, \"textposition\": \"auto\", \"type\": \"bar\", \"x\": [2], \"xaxis\": \"x\", \"y\": [64], \"yaxis\": \"y\"}, {\"alignmentgroup\": \"True\", \"hovertemplate\": \"Actor=Aisha Tyler<br>season=%{x}<br>quote=%{y}<extra></extra>\", \"legendgroup\": \"Aisha Tyler\", \"marker\": {\"color\": \"#EF553B\"}, \"name\": \"Aisha Tyler\", \"offsetgroup\": \"Aisha Tyler\", \"orientation\": \"v\", \"showlegend\": true, \"textposition\": \"auto\", \"type\": \"bar\", \"x\": [9, 10], \"xaxis\": \"x\", \"y\": [133, 57], \"yaxis\": \"y\"}, {\"alignmentgroup\": \"True\", \"hovertemplate\": \"Actor=Alec Baldwin<br>season=%{x}<br>quote=%{y}<extra></extra>\", \"legendgroup\": \"Alec Baldwin\", \"marker\": {\"color\": \"#00cc96\"}, \"name\": \"Alec Baldwin\", \"offsetgroup\": \"Alec Baldwin\", \"orientation\": \"v\", \"showlegend\": true, \"textposition\": \"auto\", \"type\": \"bar\", \"x\": [8], \"xaxis\": \"x\", \"y\": [33], \"yaxis\": \"y\"}, {\"alignmentgroup\": \"True\", \"hovertemplate\": \"Actor=Alison Sweeney<br>season=%{x}<br>quote=%{y}<extra></extra>\", \"legendgroup\": \"Alison Sweeney\", \"marker\": {\"color\": \"#ab63fa\"}, \"name\": \"Alison Sweeney\", \"offsetgroup\": \"Alison Sweeney\", \"orientation\": \"v\", \"showlegend\": true, \"textposition\": \"auto\", \"type\": \"bar\", \"x\": [7], \"xaxis\": \"x\", \"y\": [4], \"yaxis\": \"y\"}, {\"alignmentgroup\": \"True\", \"hovertemplate\": \"Actor=Anna Faris<br>season=%{x}<br>quote=%{y}<extra></extra>\", \"legendgroup\": \"Anna Faris\", \"marker\": {\"color\": \"#FFA15A\"}, \"name\": \"Anna Faris\", \"offsetgroup\": \"Anna Faris\", \"orientation\": \"v\", \"showlegend\": true, \"textposition\": \"auto\", \"type\": \"bar\", \"x\": [10], \"xaxis\": \"x\", \"y\": [67], \"yaxis\": \"y\"}, {\"alignmentgroup\": \"True\", \"hovertemplate\": \"Actor=Ben Stiller<br>season=%{x}<br>quote=%{y}<extra></extra>\", \"legendgroup\": \"Ben Stiller\", \"marker\": {\"color\": \"#19d3f3\"}, \"name\": \"Ben Stiller\", \"offsetgroup\": \"Ben Stiller\", \"orientation\": \"v\", \"showlegend\": true, \"textposition\": \"auto\", \"type\": \"bar\", \"x\": [3], \"xaxis\": \"x\", \"y\": [21], \"yaxis\": \"y\"}, {\"alignmentgroup\": \"True\", \"hovertemplate\": \"Actor=Billy Crystal<br>season=%{x}<br>quote=%{y}<extra></extra>\", \"legendgroup\": \"Billy Crystal\", \"marker\": {\"color\": \"#FF6692\"}, \"name\": \"Billy Crystal\", \"offsetgroup\": \"Billy Crystal\", \"orientation\": \"v\", \"showlegend\": true, \"textposition\": \"auto\", \"type\": \"bar\", \"x\": [3], \"xaxis\": \"x\", \"y\": [11], \"yaxis\": \"y\"}, {\"alignmentgroup\": \"True\", \"hovertemplate\": \"Actor=Brad Pitt<br>season=%{x}<br>quote=%{y}<extra></extra>\", \"legendgroup\": \"Brad Pitt\", \"marker\": {\"color\": \"#B6E880\"}, \"name\": \"Brad Pitt\", \"offsetgroup\": \"Brad Pitt\", \"orientation\": \"v\", \"showlegend\": true, \"textposition\": \"auto\", \"type\": \"bar\", \"x\": [8], \"xaxis\": \"x\", \"y\": [50], \"yaxis\": \"y\"}, {\"alignmentgroup\": \"True\", \"hovertemplate\": \"Actor=Brook Shields<br>season=%{x}<br>quote=%{y}<extra></extra>\", \"legendgroup\": \"Brook Shields\", \"marker\": {\"color\": \"#FF97FF\"}, \"name\": \"Brook Shields\", \"offsetgroup\": \"Brook Shields\", \"orientation\": \"v\", \"showlegend\": true, \"textposition\": \"auto\", \"type\": \"bar\", \"x\": [2], \"xaxis\": \"x\", \"y\": [26], \"yaxis\": \"y\"}, {\"alignmentgroup\": \"True\", \"hovertemplate\": \"Actor=Bruce Willis<br>season=%{x}<br>quote=%{y}<extra></extra>\", \"legendgroup\": \"Bruce Willis\", \"marker\": {\"color\": \"#FECB52\"}, \"name\": \"Bruce Willis\", \"offsetgroup\": \"Bruce Willis\", \"orientation\": \"v\", \"showlegend\": true, \"textposition\": \"auto\", \"type\": \"bar\", \"x\": [6], \"xaxis\": \"x\", \"y\": [116], \"yaxis\": \"y\"}, {\"alignmentgroup\": \"True\", \"hovertemplate\": \"Actor=Charlie Sheen<br>season=%{x}<br>quote=%{y}<extra></extra>\", \"legendgroup\": \"Charlie Sheen\", \"marker\": {\"color\": \"#636efa\"}, \"name\": \"Charlie Sheen\", \"offsetgroup\": \"Charlie Sheen\", \"orientation\": \"v\", \"showlegend\": true, \"textposition\": \"auto\", \"type\": \"bar\", \"x\": [2], \"xaxis\": \"x\", \"y\": [32], \"yaxis\": \"y\"}, {\"alignmentgroup\": \"True\", \"hovertemplate\": \"Actor=Charlton heston<br>season=%{x}<br>quote=%{y}<extra></extra>\", \"legendgroup\": \"Charlton heston\", \"marker\": {\"color\": \"#EF553B\"}, \"name\": \"Charlton heston\", \"offsetgroup\": \"Charlton heston\", \"orientation\": \"v\", \"showlegend\": true, \"textposition\": \"auto\", \"type\": \"bar\", \"x\": [4], \"xaxis\": \"x\", \"y\": [9], \"yaxis\": \"y\"}, {\"alignmentgroup\": \"True\", \"hovertemplate\": \"Actor=Chris Isaak\\u00a0<br>season=%{x}<br>quote=%{y}<extra></extra>\", \"legendgroup\": \"Chris Isaak\\u00a0\", \"marker\": {\"color\": \"#00cc96\"}, \"name\": \"Chris Isaak\\u00a0\", \"offsetgroup\": \"Chris Isaak\\u00a0\", \"orientation\": \"v\", \"showlegend\": true, \"textposition\": \"auto\", \"type\": \"bar\", \"x\": [2], \"xaxis\": \"x\", \"y\": [15], \"yaxis\": \"y\"}, {\"alignmentgroup\": \"True\", \"hovertemplate\": \"Actor=Chris Parnell<br>season=%{x}<br>quote=%{y}<extra></extra>\", \"legendgroup\": \"Chris Parnell\", \"marker\": {\"color\": \"#ab63fa\"}, \"name\": \"Chris Parnell\", \"offsetgroup\": \"Chris Parnell\", \"orientation\": \"v\", \"showlegend\": true, \"textposition\": \"auto\", \"type\": \"bar\", \"x\": [8], \"xaxis\": \"x\", \"y\": [10], \"yaxis\": \"y\"}, {\"alignmentgroup\": \"True\", \"hovertemplate\": \"Actor=Chrissie Hynde<br>season=%{x}<br>quote=%{y}<extra></extra>\", \"legendgroup\": \"Chrissie Hynde\", \"marker\": {\"color\": \"#FFA15A\"}, \"name\": \"Chrissie Hynde\", \"offsetgroup\": \"Chrissie Hynde\", \"orientation\": \"v\", \"showlegend\": true, \"textposition\": \"auto\", \"type\": \"bar\", \"x\": [2], \"xaxis\": \"x\", \"y\": [13], \"yaxis\": \"y\"}, {\"alignmentgroup\": \"True\", \"hovertemplate\": \"Actor=Christina Applegate<br>season=%{x}<br>quote=%{y}<extra></extra>\", \"legendgroup\": \"Christina Applegate\", \"marker\": {\"color\": \"#19d3f3\"}, \"name\": \"Christina Applegate\", \"offsetgroup\": \"Christina Applegate\", \"orientation\": \"v\", \"showlegend\": true, \"textposition\": \"auto\", \"type\": \"bar\", \"x\": [9, 10], \"xaxis\": \"x\", \"y\": [59, 65], \"yaxis\": \"y\"}, {\"alignmentgroup\": \"True\", \"hovertemplate\": \"Actor=Dakota Fanning<br>season=%{x}<br>quote=%{y}<extra></extra>\", \"legendgroup\": \"Dakota Fanning\", \"marker\": {\"color\": \"#FF6692\"}, \"name\": \"Dakota Fanning\", \"offsetgroup\": \"Dakota Fanning\", \"orientation\": \"v\", \"showlegend\": true, \"textposition\": \"auto\", \"type\": \"bar\", \"x\": [10], \"xaxis\": \"x\", \"y\": [11], \"yaxis\": \"y\"}, {\"alignmentgroup\": \"True\", \"hovertemplate\": \"Actor=Danny DeVito\\u00a0<br>season=%{x}<br>quote=%{y}<extra></extra>\", \"legendgroup\": \"Danny DeVito\\u00a0\", \"marker\": {\"color\": \"#B6E880\"}, \"name\": \"Danny DeVito\\u00a0\", \"offsetgroup\": \"Danny DeVito\\u00a0\", \"orientation\": \"v\", \"showlegend\": true, \"textposition\": \"auto\", \"type\": \"bar\", \"x\": [10], \"xaxis\": \"x\", \"y\": [24], \"yaxis\": \"y\"}, {\"alignmentgroup\": \"True\", \"hovertemplate\": \"Actor=David Arquette<br>season=%{x}<br>quote=%{y}<extra></extra>\", \"legendgroup\": \"David Arquette\", \"marker\": {\"color\": \"#FF97FF\"}, \"name\": \"David Arquette\", \"offsetgroup\": \"David Arquette\", \"orientation\": \"v\", \"showlegend\": true, \"textposition\": \"auto\", \"type\": \"bar\", \"x\": [3], \"xaxis\": \"x\", \"y\": [24], \"yaxis\": \"y\"}, {\"alignmentgroup\": \"True\", \"hovertemplate\": \"Actor=Denise Richards<br>season=%{x}<br>quote=%{y}<extra></extra>\", \"legendgroup\": \"Denise Richards\", \"marker\": {\"color\": \"#FECB52\"}, \"name\": \"Denise Richards\", \"offsetgroup\": \"Denise Richards\", \"orientation\": \"v\", \"showlegend\": true, \"textposition\": \"auto\", \"type\": \"bar\", \"x\": [7], \"xaxis\": \"x\", \"y\": [16], \"yaxis\": \"y\"}, {\"alignmentgroup\": \"True\", \"hovertemplate\": \"Actor=Dermot Mulroney<br>season=%{x}<br>quote=%{y}<extra></extra>\", \"legendgroup\": \"Dermot Mulroney\", \"marker\": {\"color\": \"#636efa\"}, \"name\": \"Dermot Mulroney\", \"offsetgroup\": \"Dermot Mulroney\", \"orientation\": \"v\", \"showlegend\": true, \"textposition\": \"auto\", \"type\": \"bar\", \"x\": [9], \"xaxis\": \"x\", \"y\": [25], \"yaxis\": \"y\"}, {\"alignmentgroup\": \"True\", \"hovertemplate\": \"Actor=Elle Macpherson<br>season=%{x}<br>quote=%{y}<extra></extra>\", \"legendgroup\": \"Elle Macpherson\", \"marker\": {\"color\": \"#EF553B\"}, \"name\": \"Elle Macpherson\", \"offsetgroup\": \"Elle Macpherson\", \"orientation\": \"v\", \"showlegend\": true, \"textposition\": \"auto\", \"type\": \"bar\", \"x\": [6], \"xaxis\": \"x\", \"y\": [89], \"yaxis\": \"y\"}, {\"alignmentgroup\": \"True\", \"hovertemplate\": \"Actor=Ellen Pompeo<br>season=%{x}<br>quote=%{y}<extra></extra>\", \"legendgroup\": \"Ellen Pompeo\", \"marker\": {\"color\": \"#00cc96\"}, \"name\": \"Ellen Pompeo\", \"offsetgroup\": \"Ellen Pompeo\", \"orientation\": \"v\", \"showlegend\": true, \"textposition\": \"auto\", \"type\": \"bar\", \"x\": [10], \"xaxis\": \"x\", \"y\": [10], \"yaxis\": \"y\"}, {\"alignmentgroup\": \"True\", \"hovertemplate\": \"Actor=Fred Willard\\u00a0<br>season=%{x}<br>quote=%{y}<extra></extra>\", \"legendgroup\": \"Fred Willard\\u00a0\", \"marker\": {\"color\": \"#ab63fa\"}, \"name\": \"Fred Willard\\u00a0\", \"offsetgroup\": \"Fred Willard\\u00a0\", \"orientation\": \"v\", \"showlegend\": true, \"textposition\": \"auto\", \"type\": \"bar\", \"x\": [2], \"xaxis\": \"x\", \"y\": [6], \"yaxis\": \"y\"}, {\"alignmentgroup\": \"True\", \"hovertemplate\": \"Actor=Freddie Prinze Jr.<br>season=%{x}<br>quote=%{y}<extra></extra>\", \"legendgroup\": \"Freddie Prinze Jr.\", \"marker\": {\"color\": \"#FFA15A\"}, \"name\": \"Freddie Prinze Jr.\", \"offsetgroup\": \"Freddie Prinze Jr.\", \"orientation\": \"v\", \"showlegend\": true, \"textposition\": \"auto\", \"type\": \"bar\", \"x\": [9], \"xaxis\": \"x\", \"y\": [29], \"yaxis\": \"y\"}, {\"alignmentgroup\": \"True\", \"hovertemplate\": \"Actor=Gabrielle Union<br>season=%{x}<br>quote=%{y}<extra></extra>\", \"legendgroup\": \"Gabrielle Union\", \"marker\": {\"color\": \"#19d3f3\"}, \"name\": \"Gabrielle Union\", \"offsetgroup\": \"Gabrielle Union\", \"orientation\": \"v\", \"showlegend\": true, \"textposition\": \"auto\", \"type\": \"bar\", \"x\": [7], \"xaxis\": \"x\", \"y\": [27], \"yaxis\": \"y\"}, {\"alignmentgroup\": \"True\", \"hovertemplate\": \"Actor=Gary Oldman<br>season=%{x}<br>quote=%{y}<extra></extra>\", \"legendgroup\": \"Gary Oldman\", \"marker\": {\"color\": \"#FF6692\"}, \"name\": \"Gary Oldman\", \"offsetgroup\": \"Gary Oldman\", \"orientation\": \"v\", \"showlegend\": true, \"textposition\": \"auto\", \"type\": \"bar\", \"x\": [7], \"xaxis\": \"x\", \"y\": [33], \"yaxis\": \"y\"}, {\"alignmentgroup\": \"True\", \"hovertemplate\": \"Actor=George Clooney<br>season=%{x}<br>quote=%{y}<extra></extra>\", \"legendgroup\": \"George Clooney\", \"marker\": {\"color\": \"#B6E880\"}, \"name\": \"George Clooney\", \"offsetgroup\": \"George Clooney\", \"orientation\": \"v\", \"showlegend\": true, \"textposition\": \"auto\", \"type\": \"bar\", \"x\": [1], \"xaxis\": \"x\", \"y\": [13], \"yaxis\": \"y\"}, {\"alignmentgroup\": \"True\", \"hovertemplate\": \"Actor=Greg Kinnear<br>season=%{x}<br>quote=%{y}<extra></extra>\", \"legendgroup\": \"Greg Kinnear\", \"marker\": {\"color\": \"#FF97FF\"}, \"name\": \"Greg Kinnear\", \"offsetgroup\": \"Greg Kinnear\", \"orientation\": \"v\", \"showlegend\": true, \"textposition\": \"auto\", \"type\": \"bar\", \"x\": [10], \"xaxis\": \"x\", \"y\": [38], \"yaxis\": \"y\"}, {\"alignmentgroup\": \"True\", \"hovertemplate\": \"Actor=Hank Azaria<br>season=%{x}<br>quote=%{y}<extra></extra>\", \"legendgroup\": \"Hank Azaria\", \"marker\": {\"color\": \"#FECB52\"}, \"name\": \"Hank Azaria\", \"offsetgroup\": \"Hank Azaria\", \"orientation\": \"v\", \"showlegend\": true, \"textposition\": \"auto\", \"type\": \"bar\", \"x\": [1, 7, 9], \"xaxis\": \"x\", \"y\": [28, 20, 72], \"yaxis\": \"y\"}, {\"alignmentgroup\": \"True\", \"hovertemplate\": \"Actor=Helen Hunt<br>season=%{x}<br>quote=%{y}<extra></extra>\", \"legendgroup\": \"Helen Hunt\", \"marker\": {\"color\": \"#636efa\"}, \"name\": \"Helen Hunt\", \"offsetgroup\": \"Helen Hunt\", \"orientation\": \"v\", \"showlegend\": true, \"textposition\": \"auto\", \"type\": \"bar\", \"x\": [1], \"xaxis\": \"x\", \"y\": [11], \"yaxis\": \"y\"}, {\"alignmentgroup\": \"True\", \"hovertemplate\": \"Actor=Hugh Laurie<br>season=%{x}<br>quote=%{y}<extra></extra>\", \"legendgroup\": \"Hugh Laurie\", \"marker\": {\"color\": \"#EF553B\"}, \"name\": \"Hugh Laurie\", \"offsetgroup\": \"Hugh Laurie\", \"orientation\": \"v\", \"showlegend\": true, \"textposition\": \"auto\", \"type\": \"bar\", \"x\": [4], \"xaxis\": \"x\", \"y\": [6], \"yaxis\": \"y\"}, {\"alignmentgroup\": \"True\", \"hovertemplate\": \"Actor=Iqbal Theba<br>season=%{x}<br>quote=%{y}<extra></extra>\", \"legendgroup\": \"Iqbal Theba\", \"marker\": {\"color\": \"#00cc96\"}, \"name\": \"Iqbal Theba\", \"offsetgroup\": \"Iqbal Theba\", \"orientation\": \"v\", \"showlegend\": true, \"textposition\": \"auto\", \"type\": \"bar\", \"x\": [5], \"xaxis\": \"x\", \"y\": [6], \"yaxis\": \"y\"}, {\"alignmentgroup\": \"True\", \"hovertemplate\": \"Actor=Isabella Rossellini<br>season=%{x}<br>quote=%{y}<extra></extra>\", \"legendgroup\": \"Isabella Rossellini\", \"marker\": {\"color\": \"#ab63fa\"}, \"name\": \"Isabella Rossellini\", \"offsetgroup\": \"Isabella Rossellini\", \"orientation\": \"v\", \"showlegend\": true, \"textposition\": \"auto\", \"type\": \"bar\", \"x\": [3], \"xaxis\": \"x\", \"y\": [10], \"yaxis\": \"y\"}, {\"alignmentgroup\": \"True\", \"hovertemplate\": \"Actor=Jason Alexander<br>season=%{x}<br>quote=%{y}<extra></extra>\", \"legendgroup\": \"Jason Alexander\", \"marker\": {\"color\": \"#FFA15A\"}, \"name\": \"Jason Alexander\", \"offsetgroup\": \"Jason Alexander\", \"orientation\": \"v\", \"showlegend\": true, \"textposition\": \"auto\", \"type\": \"bar\", \"x\": [7], \"xaxis\": \"x\", \"y\": [29], \"yaxis\": \"y\"}, {\"alignmentgroup\": \"True\", \"hovertemplate\": \"Actor=Jay Leno<br>season=%{x}<br>quote=%{y}<extra></extra>\", \"legendgroup\": \"Jay Leno\", \"marker\": {\"color\": \"#19d3f3\"}, \"name\": \"Jay Leno\", \"offsetgroup\": \"Jay Leno\", \"orientation\": \"v\", \"showlegend\": true, \"textposition\": \"auto\", \"type\": \"bar\", \"x\": [1], \"xaxis\": \"x\", \"y\": [4], \"yaxis\": \"y\"}, {\"alignmentgroup\": \"True\", \"hovertemplate\": \"Actor=Jean-Claude Van Damme<br>season=%{x}<br>quote=%{y}<extra></extra>\", \"legendgroup\": \"Jean-Claude Van Damme\", \"marker\": {\"color\": \"#FF6692\"}, \"name\": \"Jean-Claude Van Damme\", \"offsetgroup\": \"Jean-Claude Van Damme\", \"orientation\": \"v\", \"showlegend\": true, \"textposition\": \"auto\", \"type\": \"bar\", \"x\": [2], \"xaxis\": \"x\", \"y\": [14], \"yaxis\": \"y\"}, {\"alignmentgroup\": \"True\", \"hovertemplate\": \"Actor=Jeff Goldblum<br>season=%{x}<br>quote=%{y}<extra></extra>\", \"legendgroup\": \"Jeff Goldblum\", \"marker\": {\"color\": \"#B6E880\"}, \"name\": \"Jeff Goldblum\", \"offsetgroup\": \"Jeff Goldblum\", \"orientation\": \"v\", \"showlegend\": true, \"textposition\": \"auto\", \"type\": \"bar\", \"x\": [9], \"xaxis\": \"x\", \"y\": [33], \"yaxis\": \"y\"}, {\"alignmentgroup\": \"True\", \"hovertemplate\": \"Actor=Jennifer Coolidge<br>season=%{x}<br>quote=%{y}<extra></extra>\", \"legendgroup\": \"Jennifer Coolidge\", \"marker\": {\"color\": \"#FF97FF\"}, \"name\": \"Jennifer Coolidge\", \"offsetgroup\": \"Jennifer Coolidge\", \"orientation\": \"v\", \"showlegend\": true, \"textposition\": \"auto\", \"type\": \"bar\", \"x\": [10], \"xaxis\": \"x\", \"y\": [14], \"yaxis\": \"y\"}, {\"alignmentgroup\": \"True\", \"hovertemplate\": \"Actor=Jennifer Grey<br>season=%{x}<br>quote=%{y}<extra></extra>\", \"legendgroup\": \"Jennifer Grey\", \"marker\": {\"color\": \"#FECB52\"}, \"name\": \"Jennifer Grey\", \"offsetgroup\": \"Jennifer Grey\", \"orientation\": \"v\", \"showlegend\": true, \"textposition\": \"auto\", \"type\": \"bar\", \"x\": [1], \"xaxis\": \"x\", \"y\": [22], \"yaxis\": \"y\"}, {\"alignmentgroup\": \"True\", \"hovertemplate\": \"Actor=Jill Goodacre<br>season=%{x}<br>quote=%{y}<extra></extra>\", \"legendgroup\": \"Jill Goodacre\", \"marker\": {\"color\": \"#636efa\"}, \"name\": \"Jill Goodacre\", \"offsetgroup\": \"Jill Goodacre\", \"orientation\": \"v\", \"showlegend\": true, \"textposition\": \"auto\", \"type\": \"bar\", \"x\": [1], \"xaxis\": \"x\", \"y\": [13], \"yaxis\": \"y\"}, {\"alignmentgroup\": \"True\", \"hovertemplate\": \"Actor=Jim Rash<br>season=%{x}<br>quote=%{y}<extra></extra>\", \"legendgroup\": \"Jim Rash\", \"marker\": {\"color\": \"#EF553B\"}, \"name\": \"Jim Rash\", \"offsetgroup\": \"Jim Rash\", \"orientation\": \"v\", \"showlegend\": true, \"textposition\": \"auto\", \"type\": \"bar\", \"x\": [10], \"xaxis\": \"x\", \"y\": [8], \"yaxis\": \"y\"}, {\"alignmentgroup\": \"True\", \"hovertemplate\": \"Actor=John Stamos<br>season=%{x}<br>quote=%{y}<extra></extra>\", \"legendgroup\": \"John Stamos\", \"marker\": {\"color\": \"#00cc96\"}, \"name\": \"John Stamos\", \"offsetgroup\": \"John Stamos\", \"orientation\": \"v\", \"showlegend\": true, \"textposition\": \"auto\", \"type\": \"bar\", \"x\": [9], \"xaxis\": \"x\", \"y\": [20], \"yaxis\": \"y\"}, {\"alignmentgroup\": \"True\", \"hovertemplate\": \"Actor=Jon Favreau<br>season=%{x}<br>quote=%{y}<extra></extra>\", \"legendgroup\": \"Jon Favreau\", \"marker\": {\"color\": \"#ab63fa\"}, \"name\": \"Jon Favreau\", \"offsetgroup\": \"Jon Favreau\", \"orientation\": \"v\", \"showlegend\": true, \"textposition\": \"auto\", \"type\": \"bar\", \"x\": [3], \"xaxis\": \"x\", \"y\": [103], \"yaxis\": \"y\"}, {\"alignmentgroup\": \"True\", \"hovertemplate\": \"Actor=Jon Lovitz<br>season=%{x}<br>quote=%{y}<extra></extra>\", \"legendgroup\": \"Jon Lovitz\", \"marker\": {\"color\": \"#FFA15A\"}, \"name\": \"Jon Lovitz\", \"offsetgroup\": \"Jon Lovitz\", \"orientation\": \"v\", \"showlegend\": true, \"textposition\": \"auto\", \"type\": \"bar\", \"x\": [1, 9], \"xaxis\": \"x\", \"y\": [23, 13], \"yaxis\": \"y\"}, {\"alignmentgroup\": \"True\", \"hovertemplate\": \"Actor=Julia Roberts<br>season=%{x}<br>quote=%{y}<extra></extra>\", \"legendgroup\": \"Julia Roberts\", \"marker\": {\"color\": \"#19d3f3\"}, \"name\": \"Julia Roberts\", \"offsetgroup\": \"Julia Roberts\", \"orientation\": \"v\", \"showlegend\": true, \"textposition\": \"auto\", \"type\": \"bar\", \"x\": [2], \"xaxis\": \"x\", \"y\": [35], \"yaxis\": \"y\"}, {\"alignmentgroup\": \"True\", \"hovertemplate\": \"Actor=Kathleen Turner<br>season=%{x}<br>quote=%{y}<extra></extra>\", \"legendgroup\": \"Kathleen Turner\", \"marker\": {\"color\": \"#FF6692\"}, \"name\": \"Kathleen Turner\", \"offsetgroup\": \"Kathleen Turner\", \"orientation\": \"v\", \"showlegend\": true, \"textposition\": \"auto\", \"type\": \"bar\", \"x\": [7], \"xaxis\": \"x\", \"y\": [23], \"yaxis\": \"y\"}, {\"alignmentgroup\": \"True\", \"hovertemplate\": \"Actor=Kristin Davis<br>season=%{x}<br>quote=%{y}<extra></extra>\", \"legendgroup\": \"Kristin Davis\", \"marker\": {\"color\": \"#B6E880\"}, \"name\": \"Kristin Davis\", \"offsetgroup\": \"Kristin Davis\", \"orientation\": \"v\", \"showlegend\": true, \"textposition\": \"auto\", \"type\": \"bar\", \"x\": [7], \"xaxis\": \"x\", \"y\": [23], \"yaxis\": \"y\"}, {\"alignmentgroup\": \"True\", \"hovertemplate\": \"Actor=Lea Thompson<br>season=%{x}<br>quote=%{y}<extra></extra>\", \"legendgroup\": \"Lea Thompson\", \"marker\": {\"color\": \"#FF97FF\"}, \"name\": \"Lea Thompson\", \"offsetgroup\": \"Lea Thompson\", \"orientation\": \"v\", \"showlegend\": true, \"textposition\": \"auto\", \"type\": \"bar\", \"x\": [2], \"xaxis\": \"x\", \"y\": [6], \"yaxis\": \"y\"}, {\"alignmentgroup\": \"True\", \"hovertemplate\": \"Actor=Leah Remini<br>season=%{x}<br>quote=%{y}<extra></extra>\", \"legendgroup\": \"Leah Remini\", \"marker\": {\"color\": \"#FECB52\"}, \"name\": \"Leah Remini\", \"offsetgroup\": \"Leah Remini\", \"orientation\": \"v\", \"showlegend\": true, \"textposition\": \"auto\", \"type\": \"bar\", \"x\": [1], \"xaxis\": \"x\", \"y\": [21], \"yaxis\": \"y\"}, {\"alignmentgroup\": \"True\", \"hovertemplate\": \"Actor=Mae Whitman<br>season=%{x}<br>quote=%{y}<extra></extra>\", \"legendgroup\": \"Mae Whitman\", \"marker\": {\"color\": \"#636efa\"}, \"name\": \"Mae Whitman\", \"offsetgroup\": \"Mae Whitman\", \"orientation\": \"v\", \"showlegend\": true, \"textposition\": \"auto\", \"type\": \"bar\", \"x\": [3], \"xaxis\": \"x\", \"y\": [11], \"yaxis\": \"y\"}, {\"alignmentgroup\": \"True\", \"hovertemplate\": \"Actor=Marlo Thomas<br>season=%{x}<br>quote=%{y}<extra></extra>\", \"legendgroup\": \"Marlo Thomas\", \"marker\": {\"color\": \"#EF553B\"}, \"name\": \"Marlo Thomas\", \"offsetgroup\": \"Marlo Thomas\", \"orientation\": \"v\", \"showlegend\": true, \"textposition\": \"auto\", \"type\": \"bar\", \"x\": [2, 8], \"xaxis\": \"x\", \"y\": [24, 37], \"yaxis\": \"y\"}, {\"alignmentgroup\": \"True\", \"hovertemplate\": \"Actor=Michael McKean<br>season=%{x}<br>quote=%{y}<extra></extra>\", \"legendgroup\": \"Michael McKean\", \"marker\": {\"color\": \"#00cc96\"}, \"name\": \"Michael McKean\", \"offsetgroup\": \"Michael McKean\", \"orientation\": \"v\", \"showlegend\": true, \"textposition\": \"auto\", \"type\": \"bar\", \"x\": [2], \"xaxis\": \"x\", \"y\": [18], \"yaxis\": \"y\"}, {\"alignmentgroup\": \"True\", \"hovertemplate\": \"Actor=Morgan Fairchild<br>season=%{x}<br>quote=%{y}<extra></extra>\", \"legendgroup\": \"Morgan Fairchild\", \"marker\": {\"color\": \"#ab63fa\"}, \"name\": \"Morgan Fairchild\", \"offsetgroup\": \"Morgan Fairchild\", \"orientation\": \"v\", \"showlegend\": true, \"textposition\": \"auto\", \"type\": \"bar\", \"x\": [1, 5, 7, 8], \"xaxis\": \"x\", \"y\": [28, 1, 7, 4], \"yaxis\": \"y\"}, {\"alignmentgroup\": \"True\", \"hovertemplate\": \"Actor=Noah Wyle<br>season=%{x}<br>quote=%{y}<extra></extra>\", \"legendgroup\": \"Noah Wyle\", \"marker\": {\"color\": \"#FFA15A\"}, \"name\": \"Noah Wyle\", \"offsetgroup\": \"Noah Wyle\", \"orientation\": \"v\", \"showlegend\": true, \"textposition\": \"auto\", \"type\": \"bar\", \"x\": [1], \"xaxis\": \"x\", \"y\": [10], \"yaxis\": \"y\"}, {\"alignmentgroup\": \"True\", \"hovertemplate\": \"Actor=Paul Rudd<br>season=%{x}<br>quote=%{y}<extra></extra>\", \"legendgroup\": \"Paul Rudd\", \"marker\": {\"color\": \"#19d3f3\"}, \"name\": \"Paul Rudd\", \"offsetgroup\": \"Paul Rudd\", \"orientation\": \"v\", \"showlegend\": true, \"textposition\": \"auto\", \"type\": \"bar\", \"x\": [9, 10], \"xaxis\": \"x\", \"y\": [229, 116], \"yaxis\": \"y\"}, {\"alignmentgroup\": \"True\", \"hovertemplate\": \"Actor=Rebecca Romijn<br>season=%{x}<br>quote=%{y}<extra></extra>\", \"legendgroup\": \"Rebecca Romijn\", \"marker\": {\"color\": \"#FF6692\"}, \"name\": \"Rebecca Romijn\", \"offsetgroup\": \"Rebecca Romijn\", \"orientation\": \"v\", \"showlegend\": true, \"textposition\": \"auto\", \"type\": \"bar\", \"x\": [4], \"xaxis\": \"x\", \"y\": [17], \"yaxis\": \"y\"}, {\"alignmentgroup\": \"True\", \"hovertemplate\": \"Actor=Reese Witherspoon<br>season=%{x}<br>quote=%{y}<extra></extra>\", \"legendgroup\": \"Reese Witherspoon\", \"marker\": {\"color\": \"#B6E880\"}, \"name\": \"Reese Witherspoon\", \"offsetgroup\": \"Reese Witherspoon\", \"orientation\": \"v\", \"showlegend\": true, \"textposition\": \"auto\", \"type\": \"bar\", \"x\": [6], \"xaxis\": \"x\", \"y\": [67], \"yaxis\": \"y\"}, {\"alignmentgroup\": \"True\", \"hovertemplate\": \"Actor=Robin Williams<br>season=%{x}<br>quote=%{y}<extra></extra>\", \"legendgroup\": \"Robin Williams\", \"marker\": {\"color\": \"#FF97FF\"}, \"name\": \"Robin Williams\", \"offsetgroup\": \"Robin Williams\", \"orientation\": \"v\", \"showlegend\": true, \"textposition\": \"auto\", \"type\": \"bar\", \"x\": [3], \"xaxis\": \"x\", \"y\": [11], \"yaxis\": \"y\"}, {\"alignmentgroup\": \"True\", \"hovertemplate\": \"Actor=Sarah \\\"Fergie\\\" Ferguson<br>season=%{x}<br>quote=%{y}<extra></extra>\", \"legendgroup\": \"Sarah \\\"Fergie\\\" Ferguson\", \"marker\": {\"color\": \"#FECB52\"}, \"name\": \"Sarah \\\"Fergie\\\" Ferguson\", \"offsetgroup\": \"Sarah \\\"Fergie\\\" Ferguson\", \"orientation\": \"v\", \"showlegend\": true, \"textposition\": \"auto\", \"type\": \"bar\", \"x\": [4], \"xaxis\": \"x\", \"y\": [3], \"yaxis\": \"y\"}, {\"alignmentgroup\": \"True\", \"hovertemplate\": \"Actor=Sean Penn<br>season=%{x}<br>quote=%{y}<extra></extra>\", \"legendgroup\": \"Sean Penn\", \"marker\": {\"color\": \"#636efa\"}, \"name\": \"Sean Penn\", \"offsetgroup\": \"Sean Penn\", \"orientation\": \"v\", \"showlegend\": true, \"textposition\": \"auto\", \"type\": \"bar\", \"x\": [8], \"xaxis\": \"x\", \"y\": [62], \"yaxis\": \"y\"}, {\"alignmentgroup\": \"True\", \"hovertemplate\": \"Actor=Selma Blair<br>season=%{x}<br>quote=%{y}<extra></extra>\", \"legendgroup\": \"Selma Blair\", \"marker\": {\"color\": \"#EF553B\"}, \"name\": \"Selma Blair\", \"offsetgroup\": \"Selma Blair\", \"orientation\": \"v\", \"showlegend\": true, \"textposition\": \"auto\", \"type\": \"bar\", \"x\": [9], \"xaxis\": \"x\", \"y\": [15], \"yaxis\": \"y\"}, {\"alignmentgroup\": \"True\", \"hovertemplate\": \"Actor=Soleil Moon Frye<br>season=%{x}<br>quote=%{y}<extra></extra>\", \"legendgroup\": \"Soleil Moon Frye\", \"marker\": {\"color\": \"#00cc96\"}, \"name\": \"Soleil Moon Frye\", \"offsetgroup\": \"Soleil Moon Frye\", \"orientation\": \"v\", \"showlegend\": true, \"textposition\": \"auto\", \"type\": \"bar\", \"x\": [5], \"xaxis\": \"x\", \"y\": [15], \"yaxis\": \"y\"}, {\"alignmentgroup\": \"True\", \"hovertemplate\": \"Actor=Susan Sarandon<br>season=%{x}<br>quote=%{y}<extra></extra>\", \"legendgroup\": \"Susan Sarandon\", \"marker\": {\"color\": \"#ab63fa\"}, \"name\": \"Susan Sarandon\", \"offsetgroup\": \"Susan Sarandon\", \"orientation\": \"v\", \"showlegend\": true, \"textposition\": \"auto\", \"type\": \"bar\", \"x\": [7], \"xaxis\": \"x\", \"y\": [53], \"yaxis\": \"y\"}, {\"alignmentgroup\": \"True\", \"hovertemplate\": \"Actor=Tom Selleck<br>season=%{x}<br>quote=%{y}<extra></extra>\", \"legendgroup\": \"Tom Selleck\", \"marker\": {\"color\": \"#FFA15A\"}, \"name\": \"Tom Selleck\", \"offsetgroup\": \"Tom Selleck\", \"orientation\": \"v\", \"showlegend\": true, \"textposition\": \"auto\", \"type\": \"bar\", \"x\": [2, 3, 6], \"xaxis\": \"x\", \"y\": [128, 43, 50], \"yaxis\": \"y\"}, {\"alignmentgroup\": \"True\", \"hovertemplate\": \"Actor=Winona Ryder<br>season=%{x}<br>quote=%{y}<extra></extra>\", \"legendgroup\": \"Winona Ryder\", \"marker\": {\"color\": \"#19d3f3\"}, \"name\": \"Winona Ryder\", \"offsetgroup\": \"Winona Ryder\", \"orientation\": \"v\", \"showlegend\": true, \"textposition\": \"auto\", \"type\": \"bar\", \"x\": [7], \"xaxis\": \"x\", \"y\": [27], \"yaxis\": \"y\"}],                        {\"barmode\": \"relative\", \"legend\": {\"title\": {\"text\": \"Actor\"}, \"tracegroupgap\": 0}, \"template\": {\"data\": {\"bar\": [{\"error_x\": {\"color\": \"#2a3f5f\"}, \"error_y\": {\"color\": \"#2a3f5f\"}, \"marker\": {\"line\": {\"color\": \"#E5ECF6\", \"width\": 0.5}}, \"type\": \"bar\"}], \"barpolar\": [{\"marker\": {\"line\": {\"color\": \"#E5ECF6\", \"width\": 0.5}}, \"type\": \"barpolar\"}], \"carpet\": [{\"aaxis\": {\"endlinecolor\": \"#2a3f5f\", \"gridcolor\": \"white\", \"linecolor\": \"white\", \"minorgridcolor\": \"white\", \"startlinecolor\": \"#2a3f5f\"}, \"baxis\": {\"endlinecolor\": \"#2a3f5f\", \"gridcolor\": \"white\", \"linecolor\": \"white\", \"minorgridcolor\": \"white\", \"startlinecolor\": \"#2a3f5f\"}, \"type\": \"carpet\"}], \"choropleth\": [{\"colorbar\": {\"outlinewidth\": 0, \"ticks\": \"\"}, \"type\": \"choropleth\"}], \"contour\": [{\"colorbar\": {\"outlinewidth\": 0, \"ticks\": \"\"}, \"colorscale\": [[0.0, \"#0d0887\"], [0.1111111111111111, \"#46039f\"], [0.2222222222222222, \"#7201a8\"], [0.3333333333333333, \"#9c179e\"], [0.4444444444444444, \"#bd3786\"], [0.5555555555555556, \"#d8576b\"], [0.6666666666666666, \"#ed7953\"], [0.7777777777777778, \"#fb9f3a\"], [0.8888888888888888, \"#fdca26\"], [1.0, \"#f0f921\"]], \"type\": \"contour\"}], \"contourcarpet\": [{\"colorbar\": {\"outlinewidth\": 0, \"ticks\": \"\"}, \"type\": \"contourcarpet\"}], \"heatmap\": [{\"colorbar\": {\"outlinewidth\": 0, \"ticks\": \"\"}, \"colorscale\": [[0.0, \"#0d0887\"], [0.1111111111111111, \"#46039f\"], [0.2222222222222222, \"#7201a8\"], [0.3333333333333333, \"#9c179e\"], [0.4444444444444444, \"#bd3786\"], [0.5555555555555556, \"#d8576b\"], [0.6666666666666666, \"#ed7953\"], [0.7777777777777778, \"#fb9f3a\"], [0.8888888888888888, \"#fdca26\"], [1.0, \"#f0f921\"]], \"type\": \"heatmap\"}], \"heatmapgl\": [{\"colorbar\": {\"outlinewidth\": 0, \"ticks\": \"\"}, \"colorscale\": [[0.0, \"#0d0887\"], [0.1111111111111111, \"#46039f\"], [0.2222222222222222, \"#7201a8\"], [0.3333333333333333, \"#9c179e\"], [0.4444444444444444, \"#bd3786\"], [0.5555555555555556, \"#d8576b\"], [0.6666666666666666, \"#ed7953\"], [0.7777777777777778, \"#fb9f3a\"], [0.8888888888888888, \"#fdca26\"], [1.0, \"#f0f921\"]], \"type\": \"heatmapgl\"}], \"histogram\": [{\"marker\": {\"colorbar\": {\"outlinewidth\": 0, \"ticks\": \"\"}}, \"type\": \"histogram\"}], \"histogram2d\": [{\"colorbar\": {\"outlinewidth\": 0, \"ticks\": \"\"}, \"colorscale\": [[0.0, \"#0d0887\"], [0.1111111111111111, \"#46039f\"], [0.2222222222222222, \"#7201a8\"], [0.3333333333333333, \"#9c179e\"], [0.4444444444444444, \"#bd3786\"], [0.5555555555555556, \"#d8576b\"], [0.6666666666666666, \"#ed7953\"], [0.7777777777777778, \"#fb9f3a\"], [0.8888888888888888, \"#fdca26\"], [1.0, \"#f0f921\"]], \"type\": \"histogram2d\"}], \"histogram2dcontour\": [{\"colorbar\": {\"outlinewidth\": 0, \"ticks\": \"\"}, \"colorscale\": [[0.0, \"#0d0887\"], [0.1111111111111111, \"#46039f\"], [0.2222222222222222, \"#7201a8\"], [0.3333333333333333, \"#9c179e\"], [0.4444444444444444, \"#bd3786\"], [0.5555555555555556, \"#d8576b\"], [0.6666666666666666, \"#ed7953\"], [0.7777777777777778, \"#fb9f3a\"], [0.8888888888888888, \"#fdca26\"], [1.0, \"#f0f921\"]], \"type\": \"histogram2dcontour\"}], \"mesh3d\": [{\"colorbar\": {\"outlinewidth\": 0, \"ticks\": \"\"}, \"type\": \"mesh3d\"}], \"parcoords\": [{\"line\": {\"colorbar\": {\"outlinewidth\": 0, \"ticks\": \"\"}}, \"type\": \"parcoords\"}], \"pie\": [{\"automargin\": true, \"type\": \"pie\"}], \"scatter\": [{\"marker\": {\"colorbar\": {\"outlinewidth\": 0, \"ticks\": \"\"}}, \"type\": \"scatter\"}], \"scatter3d\": [{\"line\": {\"colorbar\": {\"outlinewidth\": 0, \"ticks\": \"\"}}, \"marker\": {\"colorbar\": {\"outlinewidth\": 0, \"ticks\": \"\"}}, \"type\": \"scatter3d\"}], \"scattercarpet\": [{\"marker\": {\"colorbar\": {\"outlinewidth\": 0, \"ticks\": \"\"}}, \"type\": \"scattercarpet\"}], \"scattergeo\": [{\"marker\": {\"colorbar\": {\"outlinewidth\": 0, \"ticks\": \"\"}}, \"type\": \"scattergeo\"}], \"scattergl\": [{\"marker\": {\"colorbar\": {\"outlinewidth\": 0, \"ticks\": \"\"}}, \"type\": \"scattergl\"}], \"scattermapbox\": [{\"marker\": {\"colorbar\": {\"outlinewidth\": 0, \"ticks\": \"\"}}, \"type\": \"scattermapbox\"}], \"scatterpolar\": [{\"marker\": {\"colorbar\": {\"outlinewidth\": 0, \"ticks\": \"\"}}, \"type\": \"scatterpolar\"}], \"scatterpolargl\": [{\"marker\": {\"colorbar\": {\"outlinewidth\": 0, \"ticks\": \"\"}}, \"type\": \"scatterpolargl\"}], \"scatterternary\": [{\"marker\": {\"colorbar\": {\"outlinewidth\": 0, \"ticks\": \"\"}}, \"type\": \"scatterternary\"}], \"surface\": [{\"colorbar\": {\"outlinewidth\": 0, \"ticks\": \"\"}, \"colorscale\": [[0.0, \"#0d0887\"], [0.1111111111111111, \"#46039f\"], [0.2222222222222222, \"#7201a8\"], [0.3333333333333333, \"#9c179e\"], [0.4444444444444444, \"#bd3786\"], [0.5555555555555556, \"#d8576b\"], [0.6666666666666666, \"#ed7953\"], [0.7777777777777778, \"#fb9f3a\"], [0.8888888888888888, \"#fdca26\"], [1.0, \"#f0f921\"]], \"type\": \"surface\"}], \"table\": [{\"cells\": {\"fill\": {\"color\": \"#EBF0F8\"}, \"line\": {\"color\": \"white\"}}, \"header\": {\"fill\": {\"color\": \"#C8D4E3\"}, \"line\": {\"color\": \"white\"}}, \"type\": \"table\"}]}, \"layout\": {\"annotationdefaults\": {\"arrowcolor\": \"#2a3f5f\", \"arrowhead\": 0, \"arrowwidth\": 1}, \"autotypenumbers\": \"strict\", \"coloraxis\": {\"colorbar\": {\"outlinewidth\": 0, \"ticks\": \"\"}}, \"colorscale\": {\"diverging\": [[0, \"#8e0152\"], [0.1, \"#c51b7d\"], [0.2, \"#de77ae\"], [0.3, \"#f1b6da\"], [0.4, \"#fde0ef\"], [0.5, \"#f7f7f7\"], [0.6, \"#e6f5d0\"], [0.7, \"#b8e186\"], [0.8, \"#7fbc41\"], [0.9, \"#4d9221\"], [1, \"#276419\"]], \"sequential\": [[0.0, \"#0d0887\"], [0.1111111111111111, \"#46039f\"], [0.2222222222222222, \"#7201a8\"], [0.3333333333333333, \"#9c179e\"], [0.4444444444444444, \"#bd3786\"], [0.5555555555555556, \"#d8576b\"], [0.6666666666666666, \"#ed7953\"], [0.7777777777777778, \"#fb9f3a\"], [0.8888888888888888, \"#fdca26\"], [1.0, \"#f0f921\"]], \"sequentialminus\": [[0.0, \"#0d0887\"], [0.1111111111111111, \"#46039f\"], [0.2222222222222222, \"#7201a8\"], [0.3333333333333333, \"#9c179e\"], [0.4444444444444444, \"#bd3786\"], [0.5555555555555556, \"#d8576b\"], [0.6666666666666666, \"#ed7953\"], [0.7777777777777778, \"#fb9f3a\"], [0.8888888888888888, \"#fdca26\"], [1.0, \"#f0f921\"]]}, \"colorway\": [\"#636efa\", \"#EF553B\", \"#00cc96\", \"#ab63fa\", \"#FFA15A\", \"#19d3f3\", \"#FF6692\", \"#B6E880\", \"#FF97FF\", \"#FECB52\"], \"font\": {\"color\": \"#2a3f5f\"}, \"geo\": {\"bgcolor\": \"white\", \"lakecolor\": \"white\", \"landcolor\": \"#E5ECF6\", \"showlakes\": true, \"showland\": true, \"subunitcolor\": \"white\"}, \"hoverlabel\": {\"align\": \"left\"}, \"hovermode\": \"closest\", \"mapbox\": {\"style\": \"light\"}, \"paper_bgcolor\": \"white\", \"plot_bgcolor\": \"#E5ECF6\", \"polar\": {\"angularaxis\": {\"gridcolor\": \"white\", \"linecolor\": \"white\", \"ticks\": \"\"}, \"bgcolor\": \"#E5ECF6\", \"radialaxis\": {\"gridcolor\": \"white\", \"linecolor\": \"white\", \"ticks\": \"\"}}, \"scene\": {\"xaxis\": {\"backgroundcolor\": \"#E5ECF6\", \"gridcolor\": \"white\", \"gridwidth\": 2, \"linecolor\": \"white\", \"showbackground\": true, \"ticks\": \"\", \"zerolinecolor\": \"white\"}, \"yaxis\": {\"backgroundcolor\": \"#E5ECF6\", \"gridcolor\": \"white\", \"gridwidth\": 2, \"linecolor\": \"white\", \"showbackground\": true, \"ticks\": \"\", \"zerolinecolor\": \"white\"}, \"zaxis\": {\"backgroundcolor\": \"#E5ECF6\", \"gridcolor\": \"white\", \"gridwidth\": 2, \"linecolor\": \"white\", \"showbackground\": true, \"ticks\": \"\", \"zerolinecolor\": \"white\"}}, \"shapedefaults\": {\"line\": {\"color\": \"#2a3f5f\"}}, \"ternary\": {\"aaxis\": {\"gridcolor\": \"white\", \"linecolor\": \"white\", \"ticks\": \"\"}, \"baxis\": {\"gridcolor\": \"white\", \"linecolor\": \"white\", \"ticks\": \"\"}, \"bgcolor\": \"#E5ECF6\", \"caxis\": {\"gridcolor\": \"white\", \"linecolor\": \"white\", \"ticks\": \"\"}}, \"title\": {\"x\": 0.05}, \"xaxis\": {\"automargin\": true, \"gridcolor\": \"white\", \"linecolor\": \"white\", \"ticks\": \"\", \"title\": {\"standoff\": 15}, \"zerolinecolor\": \"white\", \"zerolinewidth\": 2}, \"yaxis\": {\"automargin\": true, \"gridcolor\": \"white\", \"linecolor\": \"white\", \"ticks\": \"\", \"title\": {\"standoff\": 15}, \"zerolinecolor\": \"white\", \"zerolinewidth\": 2}}}, \"title\": {\"text\": \"Guest_Stars\"}, \"xaxis\": {\"anchor\": \"y\", \"domain\": [0.0, 1.0], \"title\": {\"text\": \"season\"}}, \"yaxis\": {\"anchor\": \"x\", \"domain\": [0.0, 1.0], \"title\": {\"text\": \"quote\"}}},                        {\"responsive\": true}                    ).then(function(){\n",
       "                            \n",
       "var gd = document.getElementById('b0586ebb-f542-4832-9d38-ff72f1af4588');\n",
       "var x = new MutationObserver(function (mutations, observer) {{\n",
       "        var display = window.getComputedStyle(gd).display;\n",
       "        if (!display || display === 'none') {{\n",
       "            console.log([gd, 'removed!']);\n",
       "            Plotly.purge(gd);\n",
       "            observer.disconnect();\n",
       "        }}\n",
       "}});\n",
       "\n",
       "// Listen for the removal of the full notebook cells\n",
       "var notebookContainer = gd.closest('#notebook-container');\n",
       "if (notebookContainer) {{\n",
       "    x.observe(notebookContainer, {childList: true});\n",
       "}}\n",
       "\n",
       "// Listen for the clearing of the current output cell\n",
       "var outputEl = gd.closest('.output');\n",
       "if (outputEl) {{\n",
       "    x.observe(outputEl, {childList: true});\n",
       "}}\n",
       "\n",
       "                        })                };                });            </script>        </div>"
      ]
     },
     "metadata": {},
     "output_type": "display_data"
    }
   ],
   "source": [
    "fig = px.bar(guest_stars, x=\"season\", y=\"quote\", color = \"Actor\", title=\"Guest_Stars\")\n",
    "fig.show()"
   ]
  },
  {
   "cell_type": "markdown",
   "metadata": {},
   "source": [
    "## Sentiment Analysis"
   ]
  },
  {
   "cell_type": "markdown",
   "metadata": {},
   "source": [
    "### Cleanning"
   ]
  },
  {
   "cell_type": "code",
   "execution_count": 106,
   "metadata": {},
   "outputs": [],
   "source": [
    "main_characters = [\"Ross\", \"Joey\",\"Chandler\",\"Phoebe\",\"Rachel\",\"Monica\"]"
   ]
  },
  {
   "cell_type": "code",
   "execution_count": 108,
   "metadata": {},
   "outputs": [
    {
     "data": {
      "text/html": [
       "<div>\n",
       "<style scoped>\n",
       "    .dataframe tbody tr th:only-of-type {\n",
       "        vertical-align: middle;\n",
       "    }\n",
       "\n",
       "    .dataframe tbody tr th {\n",
       "        vertical-align: top;\n",
       "    }\n",
       "\n",
       "    .dataframe thead th {\n",
       "        text-align: right;\n",
       "    }\n",
       "</style>\n",
       "<table border=\"1\" class=\"dataframe\">\n",
       "  <thead>\n",
       "    <tr style=\"text-align: right;\">\n",
       "      <th></th>\n",
       "      <th>author</th>\n",
       "      <th>quote</th>\n",
       "      <th>season</th>\n",
       "    </tr>\n",
       "  </thead>\n",
       "  <tbody>\n",
       "    <tr>\n",
       "      <th>0</th>\n",
       "      <td>Monica</td>\n",
       "      <td>There's nothing to tell! He's just some guy I ...</td>\n",
       "      <td>1.0</td>\n",
       "    </tr>\n",
       "    <tr>\n",
       "      <th>1</th>\n",
       "      <td>Joey</td>\n",
       "      <td>C'mon, you're going out with the guy! There's ...</td>\n",
       "      <td>1.0</td>\n",
       "    </tr>\n",
       "    <tr>\n",
       "      <th>2</th>\n",
       "      <td>Chandler</td>\n",
       "      <td>All right Joey, be nice. So does he have a hum...</td>\n",
       "      <td>1.0</td>\n",
       "    </tr>\n",
       "    <tr>\n",
       "      <th>3</th>\n",
       "      <td>Phoebe</td>\n",
       "      <td>Wait, does he eat chalk?</td>\n",
       "      <td>1.0</td>\n",
       "    </tr>\n",
       "    <tr>\n",
       "      <th>4</th>\n",
       "      <td>Phoebe</td>\n",
       "      <td>Just, 'cause, I don't want her to go through w...</td>\n",
       "      <td>1.0</td>\n",
       "    </tr>\n",
       "    <tr>\n",
       "      <th>...</th>\n",
       "      <td>...</td>\n",
       "      <td>...</td>\n",
       "      <td>...</td>\n",
       "    </tr>\n",
       "    <tr>\n",
       "      <th>49992</th>\n",
       "      <td>Chandler</td>\n",
       "      <td>Oh, it's gonna be okay.</td>\n",
       "      <td>10.0</td>\n",
       "    </tr>\n",
       "    <tr>\n",
       "      <th>49993</th>\n",
       "      <td>Rachel</td>\n",
       "      <td>(crying) Do you guys have to go to the new hou...</td>\n",
       "      <td>10.0</td>\n",
       "    </tr>\n",
       "    <tr>\n",
       "      <th>49994</th>\n",
       "      <td>Monica</td>\n",
       "      <td>We got some time.</td>\n",
       "      <td>10.0</td>\n",
       "    </tr>\n",
       "    <tr>\n",
       "      <th>49995</th>\n",
       "      <td>Rachel</td>\n",
       "      <td>Okay, should we get some coffee?</td>\n",
       "      <td>10.0</td>\n",
       "    </tr>\n",
       "    <tr>\n",
       "      <th>49996</th>\n",
       "      <td>Chandler</td>\n",
       "      <td>Sure. Where?</td>\n",
       "      <td>10.0</td>\n",
       "    </tr>\n",
       "  </tbody>\n",
       "</table>\n",
       "<p>49997 rows × 3 columns</p>\n",
       "</div>"
      ],
      "text/plain": [
       "         author                                              quote  season\n",
       "0        Monica  There's nothing to tell! He's just some guy I ...     1.0\n",
       "1          Joey  C'mon, you're going out with the guy! There's ...     1.0\n",
       "2      Chandler  All right Joey, be nice. So does he have a hum...     1.0\n",
       "3        Phoebe                           Wait, does he eat chalk?     1.0\n",
       "4        Phoebe  Just, 'cause, I don't want her to go through w...     1.0\n",
       "...         ...                                                ...     ...\n",
       "49992  Chandler                            Oh, it's gonna be okay.    10.0\n",
       "49993    Rachel  (crying) Do you guys have to go to the new hou...    10.0\n",
       "49994    Monica                                  We got some time.    10.0\n",
       "49995    Rachel                   Okay, should we get some coffee?    10.0\n",
       "49996  Chandler                                       Sure. Where?    10.0\n",
       "\n",
       "[49997 rows x 3 columns]"
      ]
     },
     "execution_count": 108,
     "metadata": {},
     "output_type": "execute_result"
    }
   ],
   "source": [
    "friends= friends[friends.author.isin(main_characters)].drop(columns=['episode_number', 'episode_title', \"quote_order\"]).reset_index(drop = True)\n",
    "friends"
   ]
  },
  {
   "cell_type": "code",
   "execution_count": 109,
   "metadata": {},
   "outputs": [
    {
     "data": {
      "text/plain": [
       "0        [there's nothing to tell,  he's just some guy ...\n",
       "1        [c'mon, you're going out with the guy,  there'...\n",
       "2        [all right joey, be nice,  so does he have a h...\n",
       "3                              [wait, does he eat chalk, ]\n",
       "4        [just, 'cause, i don't want her to go through ...\n",
       "                               ...                        \n",
       "49992                           [oh, it's gonna be okay, ]\n",
       "49993    [do you guys have to go to the new house right...\n",
       "49994                                 [we got some time, ]\n",
       "49995                  [okay, should we get some coffee, ]\n",
       "49996                                     [sure,  where, ]\n",
       "Name: quote, Length: 49997, dtype: object"
      ]
     },
     "execution_count": 109,
     "metadata": {},
     "output_type": "execute_result"
    }
   ],
   "source": [
    "friends[\"quote\"] = friends[\"quote\"].str.replace(\"\\(([^)]+)\\)\",\"\").str.strip().str.lower().str.split(\"[.|!|?]\", expand = False)\n",
    "friends[\"quote\"]"
   ]
  },
  {
   "cell_type": "code",
   "execution_count": 110,
   "metadata": {},
   "outputs": [],
   "source": [
    "friends = friends.explode(\"quote\")"
   ]
  },
  {
   "cell_type": "code",
   "execution_count": 111,
   "metadata": {},
   "outputs": [],
   "source": [
    "friends.reset_index(drop = True, inplace = True)"
   ]
  },
  {
   "cell_type": "code",
   "execution_count": 112,
   "metadata": {},
   "outputs": [],
   "source": [
    "scene = friends[friends[\"quote\"].str.contains(\"scene:\")].index.to_list()"
   ]
  },
  {
   "cell_type": "code",
   "execution_count": 113,
   "metadata": {},
   "outputs": [],
   "source": [
    "friends = friends.drop(friends.index[scene])"
   ]
  },
  {
   "cell_type": "code",
   "execution_count": 114,
   "metadata": {},
   "outputs": [],
   "source": [
    "friends[\"quote\"] = friends[\"quote\"].str.replace(\"[^a-zA-Z' ]\",\"\")"
   ]
  },
  {
   "cell_type": "code",
   "execution_count": 115,
   "metadata": {},
   "outputs": [],
   "source": [
    "friends.reset_index(drop = True, inplace = True)"
   ]
  },
  {
   "cell_type": "code",
   "execution_count": 116,
   "metadata": {},
   "outputs": [],
   "source": [
    "indexes = []\n",
    "for i in range(len(friends[\"quote\"])):\n",
    "    if len(friends[\"quote\"][i]) == 0:\n",
    "        indexes.append(i)"
   ]
  },
  {
   "cell_type": "code",
   "execution_count": 117,
   "metadata": {},
   "outputs": [],
   "source": [
    "friends = friends.drop(friends.index[indexes]).reset_index(drop = True)"
   ]
  },
  {
   "cell_type": "code",
   "execution_count": 118,
   "metadata": {},
   "outputs": [],
   "source": [
    "friends[\"quote\"] = friends[\"quote\"].str.strip()"
   ]
  },
  {
   "cell_type": "code",
   "execution_count": 119,
   "metadata": {},
   "outputs": [],
   "source": [
    "friends['number_words'] = friends['quote'].str.count(' ') + 1"
   ]
  },
  {
   "cell_type": "code",
   "execution_count": 120,
   "metadata": {},
   "outputs": [],
   "source": [
    "one_word = friends[friends[\"number_words\"] == 1].index.to_list()"
   ]
  },
  {
   "cell_type": "code",
   "execution_count": 121,
   "metadata": {},
   "outputs": [],
   "source": [
    "friends = friends.drop(friends.index[one_word]).reset_index(drop = True)"
   ]
  },
  {
   "cell_type": "code",
   "execution_count": 122,
   "metadata": {},
   "outputs": [],
   "source": [
    "friends[\"quote\"] = friends[\"quote\"].str.replace(\"'\\s\",\"\")"
   ]
  },
  {
   "cell_type": "code",
   "execution_count": 123,
   "metadata": {},
   "outputs": [],
   "source": [
    "friends[\"quote\"] = friends[\"quote\"].str.replace(\"'cause\",\"because\").str.replace(\"you know\",\"y'know\").str.replace(\"you are\",\"you're\").str.replace(\"come on\",\"c'mon\").str.replace(\"'kay\",\"okay\").str.replace(\"'em\",\"them\").str.replace(\"doin'\",\"doing\").str.replace(\"(ya)\",\"you\").str.replace(\"lemme\",\"let me\").str.replace(\"gonna\", \"going to\").str.replace(\"'\", \"\")"
   ]
  },
  {
   "cell_type": "code",
   "execution_count": 124,
   "metadata": {},
   "outputs": [],
   "source": [
    "friends.drop('number_words', axis='columns', inplace=True)"
   ]
  },
  {
   "cell_type": "code",
   "execution_count": 125,
   "metadata": {},
   "outputs": [
    {
     "data": {
      "text/html": [
       "<div>\n",
       "<style scoped>\n",
       "    .dataframe tbody tr th:only-of-type {\n",
       "        vertical-align: middle;\n",
       "    }\n",
       "\n",
       "    .dataframe tbody tr th {\n",
       "        vertical-align: top;\n",
       "    }\n",
       "\n",
       "    .dataframe thead th {\n",
       "        text-align: right;\n",
       "    }\n",
       "</style>\n",
       "<table border=\"1\" class=\"dataframe\">\n",
       "  <thead>\n",
       "    <tr style=\"text-align: right;\">\n",
       "      <th></th>\n",
       "      <th>author</th>\n",
       "      <th>quote</th>\n",
       "      <th>season</th>\n",
       "    </tr>\n",
       "  </thead>\n",
       "  <tbody>\n",
       "    <tr>\n",
       "      <th>0</th>\n",
       "      <td>Monica</td>\n",
       "      <td>theres nothing to tell</td>\n",
       "      <td>1.0</td>\n",
       "    </tr>\n",
       "    <tr>\n",
       "      <th>1</th>\n",
       "      <td>Monica</td>\n",
       "      <td>hes just some guy i work with</td>\n",
       "      <td>1.0</td>\n",
       "    </tr>\n",
       "    <tr>\n",
       "      <th>2</th>\n",
       "      <td>Joey</td>\n",
       "      <td>cmon youre going out with the guy</td>\n",
       "      <td>1.0</td>\n",
       "    </tr>\n",
       "    <tr>\n",
       "      <th>3</th>\n",
       "      <td>Joey</td>\n",
       "      <td>theres gotta be something wrong with him</td>\n",
       "      <td>1.0</td>\n",
       "    </tr>\n",
       "    <tr>\n",
       "      <th>4</th>\n",
       "      <td>Chandler</td>\n",
       "      <td>all right joey be nice</td>\n",
       "      <td>1.0</td>\n",
       "    </tr>\n",
       "  </tbody>\n",
       "</table>\n",
       "</div>"
      ],
      "text/plain": [
       "     author                                     quote  season\n",
       "0    Monica                    theres nothing to tell     1.0\n",
       "1    Monica             hes just some guy i work with     1.0\n",
       "2      Joey         cmon youre going out with the guy     1.0\n",
       "3      Joey  theres gotta be something wrong with him     1.0\n",
       "4  Chandler                    all right joey be nice     1.0"
      ]
     },
     "execution_count": 125,
     "metadata": {},
     "output_type": "execute_result"
    }
   ],
   "source": [
    "friends.head()"
   ]
  },
  {
   "cell_type": "markdown",
   "metadata": {},
   "source": [
    "## CountVectorizer (most spoken words)"
   ]
  },
  {
   "cell_type": "code",
   "execution_count": 126,
   "metadata": {},
   "outputs": [
    {
     "data": {
      "text/plain": [
       "<71548x903 sparse matrix of type '<class 'numpy.int64'>'\n",
       "\twith 30993 stored elements in Compressed Sparse Row format>"
      ]
     },
     "execution_count": 126,
     "metadata": {},
     "output_type": "execute_result"
    }
   ],
   "source": [
    "vectorizer = CountVectorizer(min_df = 0.0002, ngram_range =(3,3))\n",
    "matrix = vectorizer.fit_transform(friends[\"quote\"])\n",
    "matrix"
   ]
  },
  {
   "cell_type": "code",
   "execution_count": 127,
   "metadata": {},
   "outputs": [
    {
     "data": {
      "text/plain": [
       "(71548, 903)"
      ]
     },
     "execution_count": 127,
     "metadata": {},
     "output_type": "execute_result"
    }
   ],
   "source": [
    "matrix.shape"
   ]
  },
  {
   "cell_type": "code",
   "execution_count": 128,
   "metadata": {},
   "outputs": [],
   "source": [
    "y = friends.iloc[:, 0].values"
   ]
  },
  {
   "cell_type": "code",
   "execution_count": 129,
   "metadata": {},
   "outputs": [],
   "source": [
    "counts = pd.DataFrame(matrix.toarray(),index = list(y),\n",
    "                      columns=vectorizer.get_feature_names())"
   ]
  },
  {
   "cell_type": "code",
   "execution_count": 131,
   "metadata": {},
   "outputs": [],
   "source": [
    "counts = counts.groupby(counts.index).sum()"
   ]
  },
  {
   "cell_type": "code",
   "execution_count": 132,
   "metadata": {},
   "outputs": [
    {
     "data": {
      "text/plain": [
       "Index(['Chandler', 'Joey', 'Monica', 'Phoebe', 'Rachel', 'Ross'], dtype='object')"
      ]
     },
     "execution_count": 132,
     "metadata": {},
     "output_type": "execute_result"
    }
   ],
   "source": [
    "counts.T.columns"
   ]
  },
  {
   "cell_type": "code",
   "execution_count": 142,
   "metadata": {},
   "outputs": [
    {
     "data": {
      "text/plain": [
       "im going to       104\n",
       "going to be        97\n",
       "what are you       60\n",
       "oh my god          57\n",
       "youre going to     51\n",
       "going to do        45\n",
       "no no no           44\n",
       "what do you        44\n",
       "not going to       40\n",
       "check it out       37\n",
       "dont want to       35\n",
       "are you doing      33\n",
       "do you think       32\n",
       "going to go        27\n",
       "were going to      27\n",
       "talk to you        26\n",
       "days of our        26\n",
       "going to have      26\n",
       "want you to        25\n",
       "going to get       24\n",
       "Name: Joey, dtype: int64"
      ]
     },
     "execution_count": 142,
     "metadata": {},
     "output_type": "execute_result"
    }
   ],
   "source": [
    "counts.T[\"Joey\"].sort_values(ascending = False).head(20)"
   ]
  },
  {
   "cell_type": "markdown",
   "metadata": {},
   "source": [
    "## TfidfVectorizer (most spoken words by two people)"
   ]
  },
  {
   "cell_type": "code",
   "execution_count": 136,
   "metadata": {},
   "outputs": [],
   "source": [
    "from sklearn.feature_extraction.text import TfidfVectorizer\n",
    "tfidf = TfidfVectorizer(min_df = 0.0002, ngram_range =(3,3))"
   ]
  },
  {
   "cell_type": "code",
   "execution_count": 137,
   "metadata": {},
   "outputs": [],
   "source": [
    "X = tfidf.fit_transform(friends[\"quote\"])\n",
    "y = friends.iloc[:, 0].values"
   ]
  },
  {
   "cell_type": "code",
   "execution_count": 139,
   "metadata": {},
   "outputs": [],
   "source": [
    "counts2 = pd.DataFrame(X.toarray(),index = list(y),\n",
    "                      columns=tfidf.get_feature_names())\n",
    "counts2 = counts2.groupby(counts2.index).sum()"
   ]
  },
  {
   "cell_type": "code",
   "execution_count": 143,
   "metadata": {},
   "outputs": [
    {
     "data": {
      "text/plain": [
       "im going to       57.345227\n",
       "oh my god         53.227403\n",
       "going to be       51.587350\n",
       "what are you      36.516981\n",
       "check it out      31.715823\n",
       "youre going to    30.861968\n",
       "no no no          27.154339\n",
       "what do you       26.376158\n",
       "do you think      24.761189\n",
       "going to do       23.226338\n",
       "dont want to      23.080978\n",
       "are you doing     21.512586\n",
       "not going to      21.251351\n",
       "want you to       18.619246\n",
       "days of our       18.579231\n",
       "Name: Joey, dtype: float64"
      ]
     },
     "execution_count": 143,
     "metadata": {},
     "output_type": "execute_result"
    }
   ],
   "source": [
    "counts2.T[\"Joey\"].sort_values(ascending = False).head(15)"
   ]
  },
  {
   "cell_type": "markdown",
   "metadata": {},
   "source": [
    "## Código Extra"
   ]
  },
  {
   "cell_type": "code",
   "execution_count": 144,
   "metadata": {},
   "outputs": [
    {
     "data": {
      "image/png": "[encoded data removed]",
      "text/plain": [
       "<Figure size 1080x1080 with 1 Axes>"
      ]
     },
     "metadata": {},
     "output_type": "display_data"
    }
   ],
   "source": [
    "G=nx.from_pandas_edgelist(conversation_weights, 'A', 'B', create_using=nx.Graph() )\n",
    " \n",
    "# Custom the nodes:\n",
    "fig = plt.figure()\n",
    "nx.draw(G, with_labels=True, node_color='skyblue', node_size=1500, edge_color='white')\n",
    "fig.set_facecolor(\"#00000F\")"
   ]
  },
  {
   "cell_type": "code",
   "execution_count": null,
   "metadata": {},
   "outputs": [],
   "source": []
  }
 ],
 "metadata": {
  "kernelspec": {
   "display_name": "Python 3",
   "language": "python",
   "name": "python3"
  },
  "language_info": {
   "codemirror_mode": {
    "name": "ipython",
    "version": 3
   },
   "file_extension": ".py",
   "mimetype": "text/x-python",
   "name": "python",
   "nbconvert_exporter": "python",
   "pygments_lexer": "ipython3",
   "version": "3.8.5"
  },
  "toc": {
   "base_numbering": 1,
   "nav_menu": {},
   "number_sections": true,
   "sideBar": true,
   "skip_h1_title": false,
   "title_cell": "Table of Contents",
   "title_sidebar": "Contents",
   "toc_cell": false,
   "toc_position": {},
   "toc_section_display": true,
   "toc_window_display": false
  },
  "varInspector": {
   "cols": {
    "lenName": 16,
    "lenType": 16,
    "lenVar": 40
   },
   "kernels_config": {
    "python": {
     "delete_cmd_postfix": "",
     "delete_cmd_prefix": "del ",
     "library": "var_list.py",
     "varRefreshCmd": "print(var_dic_list())"
    },
    "r": {
     "delete_cmd_postfix": ") ",
     "delete_cmd_prefix": "rm(",
     "library": "var_list.r",
     "varRefreshCmd": "cat(var_dic_list()) "
    }
   },
   "types_to_exclude": [
    "module",
    "function",
    "builtin_function_or_method",
    "instance",
    "_Feature"
   ],
   "window_display": false
  }
 },
 "nbformat": 4,
 "nbformat_minor": 4
}
