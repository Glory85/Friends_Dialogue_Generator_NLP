{
 "cells": [
  {
   "cell_type": "markdown",
   "metadata": {
    "heading_collapsed": true
   },
   "source": [
    "## Importar librerías"
   ]
  },
  {
   "cell_type": "code",
   "execution_count": 263,
   "metadata": {
    "hidden": true
   },
   "outputs": [],
   "source": [
    "import pandas as pd\n",
    "from nltk.corpus import stopwords\n",
    "import seaborn as sns\n",
    "import numpy as np\n",
    "import spacy \n",
    "from sklearn.feature_extraction.text import CountVectorizer\n",
    "import re\n",
    "import nltk\n",
    "from nltk.stem import PorterStemmer\n",
    "from nltk.stem import LancasterStemmer\n",
    "from nltk.stem import WordNetLemmatizer\n",
    "from nltk.tokenize import sent_tokenize, word_tokenize\n",
    "from nltk.stem.snowball import SnowballStemmer\n",
    "from sklearn.neighbors import NearestNeighbors\n",
    "from sklearn.linear_model import LogisticRegression\n",
    "from nltk.corpus import stopwords\n",
    "from sklearn.model_selection import train_test_split\n",
    "import matplotlib.pyplot as plt\n",
    "from sklearn.naive_bayes import GaussianNB\n",
    "from sklearn.metrics import confusion_matrix\n",
    "from sklearn import tree\n",
    "from sklearn import metrics\n",
    "from sklearn.neighbors import KNeighborsClassifier"
   ]
  },
  {
   "cell_type": "markdown",
   "metadata": {},
   "source": [
    "## Data Cleanning"
   ]
  },
  {
   "cell_type": "code",
   "execution_count": 264,
   "metadata": {},
   "outputs": [],
   "source": [
    "friends = pd.read_csv(\"friends_quotes.csv\")"
   ]
  },
  {
   "cell_type": "code",
   "execution_count": 265,
   "metadata": {},
   "outputs": [],
   "source": [
    "chandler =[\"CHAN\",\"CHANDLER\",\"Chandler (Stands up and walks to Joey)\",\"Chandle\",\"Chandler (nearly weeping)\",\"Chandler (to Joey)\", \"Chandler (to Monica)\", \"Chandlers\"]\n",
    "monica =[\"Young Monica\",\"Fake Monica\", \"Fat Monica\", \"MONICA\",\"MNCA\",\"MOnica\",\"Monic\",\"Monica (to Ross)\",\"Monica about to have a heart attack\",\"Monica to Amy\",\"Monica to Emma\",\"Monica to Ross\",\"Monica (reads a form in her lap)\"] \n",
    "joey = [\"Fat Joey\",\"JOEY\",\"Joe\",\"Joey (staring at the cake)\",\"Joey (to Rachel)\",\"Joey (to Ross)\"]\n",
    "phoebe = [\"PHOE\",\"PHOEBE\",\"Phoeb\",\"Phoebe (to Mike)\",\"Phoebe (to Rachel)\",\"Phoebe (walking to Ross carrying a black leather jacket)\",\"Phoebe (watching the food on the table)\",\"Phoebe looks down\"]\n",
    "rachel = [\"RACH\",\"RACHEL\",\"RAHCEL\", \"Rache\",\"Rachel (crying)\",\"Rachel (leaving)\",\"Rachel (on the phone)\",\"Rachel (she flips the coin)\",\"Rachel opens their door\",\"Rachel to Emma\",\"Rachel (as Monica)\",\"Racel\"]\n",
    "ross = [\"ROSS\",\"Ross (on the verge of tears)\",\"Ross (stops recording)\",\"Ross (to Emma)\",\"Ross first has a look of 'huh' then changes it to sarcastic happy\",\"Ross looks down\",\"Ross makes some sort of sound to let us know it hurt\",\"Ross starts playing with a plate\",\"Ross starts talking over her 'do you remember' line\",\"Ross to Monica\",\"Ross with a look of wondering how long this is going to go on on his face\",\"Young Ross\",\"ros\"]"
   ]
  },
  {
   "cell_type": "code",
   "execution_count": 266,
   "metadata": {},
   "outputs": [],
   "source": [
    "friends[\"author\"] = friends[\"author\"].apply(lambda x: \"Chandler\" if x in chandler else x).apply(lambda x: \"Phoebe\" if x in phoebe else x).apply(lambda x: \"Joey\" if x in joey else x).apply(lambda x: \"Rachel\" if x in rachel else x).apply(lambda x: \"Ross\" if x in ross else x).apply(lambda x: \"Monica\" if x in monica else x).str.strip().str.lower().str.replace(\"ms. geller\",\"mrs. geller\").str.capitalize()"
   ]
  },
  {
   "cell_type": "code",
   "execution_count": 267,
   "metadata": {},
   "outputs": [],
   "source": [
    "more_common_characters = friends[\"author\"].value_counts().head(15).index.to_list()"
   ]
  },
  {
   "cell_type": "code",
   "execution_count": 268,
   "metadata": {},
   "outputs": [
    {
     "data": {
      "text/plain": [
       "Rachel        9129\n",
       "Ross          8932\n",
       "Monica        8339\n",
       "Chandler      8319\n",
       "Joey          8048\n",
       "Phoebe        7384\n",
       "Mike           351\n",
       "All            330\n",
       "Richard        256\n",
       "Janice         214\n",
       "Charlie        190\n",
       "Carol          187\n",
       "Emily          160\n",
       "Mr. geller     153\n",
       "Tag            146\n",
       "Name: author, dtype: int64"
      ]
     },
     "execution_count": 268,
     "metadata": {},
     "output_type": "execute_result"
    }
   ],
   "source": [
    "friends[\"author\"].value_counts().head(15)"
   ]
  },
  {
   "cell_type": "code",
   "execution_count": 269,
   "metadata": {},
   "outputs": [
    {
     "data": {
      "text/plain": [
       "9.0     229\n",
       "10.0    115\n",
       "4.0       4\n",
       "3.0       3\n",
       "Name: season, dtype: int64"
      ]
     },
     "execution_count": 269,
     "metadata": {},
     "output_type": "execute_result"
    }
   ],
   "source": [
    "friends[friends[\"author\"]==\"Mike\"][\"season\"].value_counts()# we need to delete the mikes from season 3 and 4  "
   ]
  },
  {
   "cell_type": "code",
   "execution_count": 270,
   "metadata": {},
   "outputs": [
    {
     "data": {
      "text/plain": [
       "2.0    128\n",
       "6.0     50\n",
       "3.0     43\n",
       "7.0     35\n",
       "Name: season, dtype: int64"
      ]
     },
     "execution_count": 270,
     "metadata": {},
     "output_type": "execute_result"
    }
   ],
   "source": [
    "friends[friends[\"author\"]==\"Richard\"][\"season\"].value_counts() # we need to delete the Richard from season 7"
   ]
  },
  {
   "cell_type": "code",
   "execution_count": 273,
   "metadata": {},
   "outputs": [],
   "source": [
    "more_common_characters.remove(\"All\")"
   ]
  },
  {
   "cell_type": "code",
   "execution_count": 282,
   "metadata": {},
   "outputs": [],
   "source": [
    "friends.drop(friends[(friends[\"author\"] == \"Mike\") & (friends[\"season\"].isin([\"3.0\",\"4.0\"]))].index,inplace = True)"
   ]
  },
  {
   "cell_type": "code",
   "execution_count": 283,
   "metadata": {},
   "outputs": [
    {
     "data": {
      "text/plain": [
       "9.0     229\n",
       "10.0    115\n",
       "Name: season, dtype: int64"
      ]
     },
     "execution_count": 283,
     "metadata": {},
     "output_type": "execute_result"
    }
   ],
   "source": [
    "friends[friends[\"author\"]==\"Mike\"][\"season\"].value_counts()"
   ]
  },
  {
   "cell_type": "code",
   "execution_count": 284,
   "metadata": {},
   "outputs": [],
   "source": [
    "friends.drop(friends[(friends[\"author\"] == \"Richard\") & (friends[\"season\"].isin([\"7.0\"]))].index,inplace = True)"
   ]
  },
  {
   "cell_type": "code",
   "execution_count": 285,
   "metadata": {},
   "outputs": [
    {
     "data": {
      "text/plain": [
       "2.0    128\n",
       "6.0     50\n",
       "3.0     43\n",
       "Name: season, dtype: int64"
      ]
     },
     "execution_count": 285,
     "metadata": {},
     "output_type": "execute_result"
    }
   ],
   "source": [
    "friends[friends[\"author\"]==\"Richard\"][\"season\"].value_counts()"
   ]
  },
  {
   "cell_type": "code",
   "execution_count": 387,
   "metadata": {},
   "outputs": [],
   "source": [
    "import matplotlib.pyplot as plt\n",
    "plt.rcParams[\"figure.figsize\"] = (15,9)"
   ]
  },
  {
   "cell_type": "code",
   "execution_count": 286,
   "metadata": {},
   "outputs": [
    {
     "data": {
      "text/plain": [
       "<AxesSubplot:xlabel='count', ylabel='author'>"
      ]
     },
     "execution_count": 286,
     "metadata": {},
     "output_type": "execute_result"
    },
    {
     "data": {
      "image/png": "[encoded data removed]",
      "text/plain": [
       "<Figure size 1080x360 with 1 Axes>"
      ]
     },
     "metadata": {
      "needs_background": "light"
     },
     "output_type": "display_data"
    }
   ],
   "source": [
    "sns.countplot(y='author', data=friends[friends.author.isin(more_common_characters)])"
   ]
  },
  {
   "cell_type": "code",
   "execution_count": 288,
   "metadata": {},
   "outputs": [
    {
     "data": {
      "text/html": [
       "<div>\n",
       "<style scoped>\n",
       "    .dataframe tbody tr th:only-of-type {\n",
       "        vertical-align: middle;\n",
       "    }\n",
       "\n",
       "    .dataframe tbody tr th {\n",
       "        vertical-align: top;\n",
       "    }\n",
       "\n",
       "    .dataframe thead th {\n",
       "        text-align: right;\n",
       "    }\n",
       "</style>\n",
       "<table border=\"1\" class=\"dataframe\">\n",
       "  <thead>\n",
       "    <tr style=\"text-align: right;\">\n",
       "      <th></th>\n",
       "      <th>author</th>\n",
       "      <th>episode_number</th>\n",
       "      <th>episode_title</th>\n",
       "      <th>quote</th>\n",
       "      <th>quote_order</th>\n",
       "      <th>season</th>\n",
       "    </tr>\n",
       "  </thead>\n",
       "  <tbody>\n",
       "    <tr>\n",
       "      <th>0</th>\n",
       "      <td>Monica</td>\n",
       "      <td>1.0</td>\n",
       "      <td>Monica Gets A Roommate</td>\n",
       "      <td>There's nothing to tell! He's just some guy I ...</td>\n",
       "      <td>0.0</td>\n",
       "      <td>1.0</td>\n",
       "    </tr>\n",
       "    <tr>\n",
       "      <th>1</th>\n",
       "      <td>Joey</td>\n",
       "      <td>1.0</td>\n",
       "      <td>Monica Gets A Roommate</td>\n",
       "      <td>C'mon, you're going out with the guy! There's ...</td>\n",
       "      <td>1.0</td>\n",
       "      <td>1.0</td>\n",
       "    </tr>\n",
       "    <tr>\n",
       "      <th>2</th>\n",
       "      <td>Chandler</td>\n",
       "      <td>1.0</td>\n",
       "      <td>Monica Gets A Roommate</td>\n",
       "      <td>All right Joey, be nice. So does he have a hum...</td>\n",
       "      <td>2.0</td>\n",
       "      <td>1.0</td>\n",
       "    </tr>\n",
       "    <tr>\n",
       "      <th>3</th>\n",
       "      <td>Phoebe</td>\n",
       "      <td>1.0</td>\n",
       "      <td>Monica Gets A Roommate</td>\n",
       "      <td>Wait, does he eat chalk?</td>\n",
       "      <td>3.0</td>\n",
       "      <td>1.0</td>\n",
       "    </tr>\n",
       "    <tr>\n",
       "      <th>4</th>\n",
       "      <td>Phoebe</td>\n",
       "      <td>1.0</td>\n",
       "      <td>Monica Gets A Roommate</td>\n",
       "      <td>Just, 'cause, I don't want her to go through w...</td>\n",
       "      <td>4.0</td>\n",
       "      <td>1.0</td>\n",
       "    </tr>\n",
       "    <tr>\n",
       "      <th>...</th>\n",
       "      <td>...</td>\n",
       "      <td>...</td>\n",
       "      <td>...</td>\n",
       "      <td>...</td>\n",
       "      <td>...</td>\n",
       "      <td>...</td>\n",
       "    </tr>\n",
       "    <tr>\n",
       "      <th>60286</th>\n",
       "      <td>Chandler</td>\n",
       "      <td>17.0</td>\n",
       "      <td>The Last One, Part I &amp; II</td>\n",
       "      <td>Oh, it's gonna be okay.</td>\n",
       "      <td>581.0</td>\n",
       "      <td>10.0</td>\n",
       "    </tr>\n",
       "    <tr>\n",
       "      <th>60287</th>\n",
       "      <td>Rachel</td>\n",
       "      <td>17.0</td>\n",
       "      <td>The Last One, Part I &amp; II</td>\n",
       "      <td>(crying) Do you guys have to go to the new hou...</td>\n",
       "      <td>582.0</td>\n",
       "      <td>10.0</td>\n",
       "    </tr>\n",
       "    <tr>\n",
       "      <th>60288</th>\n",
       "      <td>Monica</td>\n",
       "      <td>17.0</td>\n",
       "      <td>The Last One, Part I &amp; II</td>\n",
       "      <td>We got some time.</td>\n",
       "      <td>583.0</td>\n",
       "      <td>10.0</td>\n",
       "    </tr>\n",
       "    <tr>\n",
       "      <th>60289</th>\n",
       "      <td>Rachel</td>\n",
       "      <td>17.0</td>\n",
       "      <td>The Last One, Part I &amp; II</td>\n",
       "      <td>Okay, should we get some coffee?</td>\n",
       "      <td>584.0</td>\n",
       "      <td>10.0</td>\n",
       "    </tr>\n",
       "    <tr>\n",
       "      <th>60290</th>\n",
       "      <td>Chandler</td>\n",
       "      <td>17.0</td>\n",
       "      <td>The Last One, Part I &amp; II</td>\n",
       "      <td>Sure. Where?</td>\n",
       "      <td>585.0</td>\n",
       "      <td>10.0</td>\n",
       "    </tr>\n",
       "  </tbody>\n",
       "</table>\n",
       "<p>51766 rows × 6 columns</p>\n",
       "</div>"
      ],
      "text/plain": [
       "         author  episode_number              episode_title  \\\n",
       "0        Monica             1.0     Monica Gets A Roommate   \n",
       "1          Joey             1.0     Monica Gets A Roommate   \n",
       "2      Chandler             1.0     Monica Gets A Roommate   \n",
       "3        Phoebe             1.0     Monica Gets A Roommate   \n",
       "4        Phoebe             1.0     Monica Gets A Roommate   \n",
       "...         ...             ...                        ...   \n",
       "60286  Chandler            17.0  The Last One, Part I & II   \n",
       "60287    Rachel            17.0  The Last One, Part I & II   \n",
       "60288    Monica            17.0  The Last One, Part I & II   \n",
       "60289    Rachel            17.0  The Last One, Part I & II   \n",
       "60290  Chandler            17.0  The Last One, Part I & II   \n",
       "\n",
       "                                                   quote  quote_order  season  \n",
       "0      There's nothing to tell! He's just some guy I ...          0.0     1.0  \n",
       "1      C'mon, you're going out with the guy! There's ...          1.0     1.0  \n",
       "2      All right Joey, be nice. So does he have a hum...          2.0     1.0  \n",
       "3                               Wait, does he eat chalk?          3.0     1.0  \n",
       "4      Just, 'cause, I don't want her to go through w...          4.0     1.0  \n",
       "...                                                  ...          ...     ...  \n",
       "60286                            Oh, it's gonna be okay.        581.0    10.0  \n",
       "60287  (crying) Do you guys have to go to the new hou...        582.0    10.0  \n",
       "60288                                  We got some time.        583.0    10.0  \n",
       "60289                   Okay, should we get some coffee?        584.0    10.0  \n",
       "60290                                       Sure. Where?        585.0    10.0  \n",
       "\n",
       "[51766 rows x 6 columns]"
      ]
     },
     "execution_count": 288,
     "metadata": {},
     "output_type": "execute_result"
    }
   ],
   "source": [
    "new_df = friends[friends[\"author\"].isin(more_common_characters)]\n",
    "new_df"
   ]
  },
  {
   "cell_type": "code",
   "execution_count": null,
   "metadata": {},
   "outputs": [],
   "source": [
    "new_df.to_excel(r\"./all.xlsx\", index = False)"
   ]
  },
  {
   "cell_type": "code",
   "execution_count": 634,
   "metadata": {},
   "outputs": [],
   "source": [
    "episode1_12 = pd.read_excel(\"all_modified.xlsx\")"
   ]
  },
  {
   "cell_type": "code",
   "execution_count": 635,
   "metadata": {},
   "outputs": [],
   "source": [
    "conversation = [\"Ross, Rachel\",\"Ross, Carol\",\"Monica, Joey\",\"Chandler, Joey\",\"Chandler, Joey\",\"Phoebe, Rachel\",\"Ross, Joey\",\"Phoebe, Monica\",\"Chandler, Phoebe\",\"Ross, Chandler\",\"Chandler, Janice\",\"Chandler, Joey\",\"Chandler, Monica\",\"Rachel, Monica\"]"
   ]
  },
  {
   "cell_type": "code",
   "execution_count": 636,
   "metadata": {},
   "outputs": [
    {
     "data": {
      "text/plain": [
       "Ross, Rachel        0.222672\n",
       "Ross, Carol         0.161943\n",
       "Chandler, Joey      0.121457\n",
       "Monica, Joey        0.109312\n",
       "Phoebe, Rachel      0.076923\n",
       "Phoebe, Monica      0.066802\n",
       "Ross, Joey          0.066802\n",
       "Chandler, Phoebe    0.048583\n",
       "Ross, Chandler      0.040486\n",
       "Chandler, Janice    0.036437\n",
       "Rachel, Monica      0.024291\n",
       "Chandler, Monica    0.024291\n",
       "Name: Conversation, dtype: float64"
      ]
     },
     "execution_count": 636,
     "metadata": {},
     "output_type": "execute_result"
    }
   ],
   "source": [
    "conversation_weights = episode1_12[episode1_12[\"Conversation\"].isin(conversation)][\"Conversation\"].value_counts(normalize = True)\n",
    "conversation_weights"
   ]
  },
  {
   "cell_type": "code",
   "execution_count": 637,
   "metadata": {},
   "outputs": [],
   "source": [
    "import networkx as nx"
   ]
  },
  {
   "cell_type": "code",
   "execution_count": 638,
   "metadata": {},
   "outputs": [
    {
     "data": {
      "image/png": "[encoded data removed]",
      "text/plain": [
       "<Figure size 1080x648 with 1 Axes>"
      ]
     },
     "metadata": {},
     "output_type": "display_data"
    }
   ],
   "source": [
    "G = nx.Graph()\n",
    "G.add_node(\"Ross\", color='r')\n",
    "G.add_node(\"Rachel\", color='r')\n",
    "G.add_node(\"Phoebe\", color='b')\n",
    "G.add_node(\"Joey\", color='b')\n",
    "G.add_node(\"Chandler\", color='y')\n",
    "G.add_node(\"Monica\", color='y')\n",
    "G.add_node(\"Janice\", color='g')\n",
    "G.add_node(\"Carol\", color='g')\n",
    "\n",
    "G.add_edge(\"Ross\",\"Rachel\", weight=round(conversation_weights[0]*100))\n",
    "G.add_edge(\"Ross\",\"Carol\",weight=round(conversation_weights[1]*100))\n",
    "G.add_edge(\"Chandler\",\"Joey\",weight=round(conversation_weights[2]*100))\n",
    "G.add_edge(\"Monica\",\"Joey\", weight=round(conversation_weights[3]*100))\n",
    "G.add_edge(\"Phoebe\",\"Rachel\", weight=round(conversation_weights[4]*100))\n",
    "G.add_edge(\"Phoebe\",\"Monica\", weight=round(conversation_weights[5]*100))\n",
    "G.add_edge(\"Ross\",\"Joey\", weight=round(conversation_weights[6]*100))\n",
    "G.add_edge(\"Phoebe\",\"Chandler\", weight=round(conversation_weights[7]*100))\n",
    "G.add_edge(\"Chandler\",\"Ross\", weight=round(conversation_weights[8]*100))\n",
    "G.add_edge(\"Chandler\",\"Janice\", weight=round(conversation_weights[9]*100))\n",
    "G.add_edge(\"Monica\",\"Rachel\", weight=round(conversation_weights[10]*100))\n",
    "G.add_edge(\"Chandler\",\"Monica\", weight=round(conversation_weights[11]*100))\n",
    "\n",
    "\n",
    "colors_nodes = nx.get_node_attributes(G,'color').values()\n",
    "weights = nx.get_edge_attributes(G,'weight').values()\n",
    "\n",
    "pos = nx.circular_layout(G)\n",
    "nx.draw(G, pos, \n",
    "        edge_color=\"grey\", \n",
    "        width=list(weights),\n",
    "        with_labels=True,\n",
    "        node_color= colors_nodes, node_size=1500)"
   ]
  },
  {
   "cell_type": "code",
   "execution_count": 410,
   "metadata": {},
   "outputs": [],
   "source": [
    "#pd.set_option('display.max_rows', None)"
   ]
  },
  {
   "cell_type": "code",
   "execution_count": 639,
   "metadata": {},
   "outputs": [],
   "source": [
    "main_characters = [\"Ross\", \"Joey\",\"Chandler\",\"Phoebe\",\"Rachel\",\"Monica\"]"
   ]
  },
  {
   "cell_type": "code",
   "execution_count": 640,
   "metadata": {},
   "outputs": [
    {
     "data": {
      "text/html": [
       "<div>\n",
       "<style scoped>\n",
       "    .dataframe tbody tr th:only-of-type {\n",
       "        vertical-align: middle;\n",
       "    }\n",
       "\n",
       "    .dataframe tbody tr th {\n",
       "        vertical-align: top;\n",
       "    }\n",
       "\n",
       "    .dataframe thead th {\n",
       "        text-align: right;\n",
       "    }\n",
       "</style>\n",
       "<table border=\"1\" class=\"dataframe\">\n",
       "  <thead>\n",
       "    <tr style=\"text-align: right;\">\n",
       "      <th></th>\n",
       "      <th>author</th>\n",
       "      <th>quote</th>\n",
       "      <th>season</th>\n",
       "      <th>To Whom</th>\n",
       "      <th>Conversation</th>\n",
       "    </tr>\n",
       "  </thead>\n",
       "  <tbody>\n",
       "    <tr>\n",
       "      <th>0</th>\n",
       "      <td>Monica</td>\n",
       "      <td>There's nothing to tell! He's just some guy I ...</td>\n",
       "      <td>1</td>\n",
       "      <td>All</td>\n",
       "      <td>All</td>\n",
       "    </tr>\n",
       "    <tr>\n",
       "      <th>1</th>\n",
       "      <td>Joey</td>\n",
       "      <td>C'mon, you're going out with the guy! There's ...</td>\n",
       "      <td>1</td>\n",
       "      <td>All</td>\n",
       "      <td>All</td>\n",
       "    </tr>\n",
       "    <tr>\n",
       "      <th>2</th>\n",
       "      <td>Chandler</td>\n",
       "      <td>All right Joey, be nice. So does he have a hum...</td>\n",
       "      <td>1</td>\n",
       "      <td>All</td>\n",
       "      <td>All</td>\n",
       "    </tr>\n",
       "    <tr>\n",
       "      <th>3</th>\n",
       "      <td>Phoebe</td>\n",
       "      <td>Wait, does he eat chalk?</td>\n",
       "      <td>1</td>\n",
       "      <td>All</td>\n",
       "      <td>All</td>\n",
       "    </tr>\n",
       "    <tr>\n",
       "      <th>4</th>\n",
       "      <td>Phoebe</td>\n",
       "      <td>Just, 'cause, I don't want her to go through w...</td>\n",
       "      <td>1</td>\n",
       "      <td>All</td>\n",
       "      <td>All</td>\n",
       "    </tr>\n",
       "    <tr>\n",
       "      <th>...</th>\n",
       "      <td>...</td>\n",
       "      <td>...</td>\n",
       "      <td>...</td>\n",
       "      <td>...</td>\n",
       "      <td>...</td>\n",
       "    </tr>\n",
       "    <tr>\n",
       "      <th>2103</th>\n",
       "      <td>Joey</td>\n",
       "      <td>Uh, it's 2:30 in the morning!</td>\n",
       "      <td>1</td>\n",
       "      <td>All</td>\n",
       "      <td>All</td>\n",
       "    </tr>\n",
       "    <tr>\n",
       "      <th>2104</th>\n",
       "      <td>Chandler</td>\n",
       "      <td>Yeah, get out!</td>\n",
       "      <td>1</td>\n",
       "      <td>All</td>\n",
       "      <td>All</td>\n",
       "    </tr>\n",
       "    <tr>\n",
       "      <th>2105</th>\n",
       "      <td>Monica</td>\n",
       "      <td>You guys are always hanging out in my apartmen...</td>\n",
       "      <td>1</td>\n",
       "      <td>All</td>\n",
       "      <td>All</td>\n",
       "    </tr>\n",
       "    <tr>\n",
       "      <th>2106</th>\n",
       "      <td>Chandler</td>\n",
       "      <td>(to Joey) One more game?</td>\n",
       "      <td>1</td>\n",
       "      <td>All</td>\n",
       "      <td>All</td>\n",
       "    </tr>\n",
       "    <tr>\n",
       "      <th>2107</th>\n",
       "      <td>Joey</td>\n",
       "      <td>Oh yeah!</td>\n",
       "      <td>1</td>\n",
       "      <td>All</td>\n",
       "      <td>All</td>\n",
       "    </tr>\n",
       "  </tbody>\n",
       "</table>\n",
       "<p>2108 rows × 5 columns</p>\n",
       "</div>"
      ],
      "text/plain": [
       "        author                                              quote  season  \\\n",
       "0       Monica  There's nothing to tell! He's just some guy I ...       1   \n",
       "1         Joey  C'mon, you're going out with the guy! There's ...       1   \n",
       "2     Chandler  All right Joey, be nice. So does he have a hum...       1   \n",
       "3       Phoebe                           Wait, does he eat chalk?       1   \n",
       "4       Phoebe  Just, 'cause, I don't want her to go through w...       1   \n",
       "...        ...                                                ...     ...   \n",
       "2103      Joey                      Uh, it's 2:30 in the morning!       1   \n",
       "2104  Chandler                                     Yeah, get out!       1   \n",
       "2105    Monica  You guys are always hanging out in my apartmen...       1   \n",
       "2106  Chandler                           (to Joey) One more game?       1   \n",
       "2107      Joey                                           Oh yeah!       1   \n",
       "\n",
       "     To Whom Conversation  \n",
       "0        All          All  \n",
       "1        All          All  \n",
       "2        All          All  \n",
       "3        All          All  \n",
       "4        All          All  \n",
       "...      ...          ...  \n",
       "2103     All          All  \n",
       "2104     All          All  \n",
       "2105     All          All  \n",
       "2106     All          All  \n",
       "2107     All          All  \n",
       "\n",
       "[2108 rows x 5 columns]"
      ]
     },
     "execution_count": 640,
     "metadata": {},
     "output_type": "execute_result"
    }
   ],
   "source": [
    "episode1_12= episode1_12.drop(columns=['episode_number', 'episode_title', \"quote_order\"]).reset_index(drop = True)\n",
    "episode1_12"
   ]
  },
  {
   "cell_type": "code",
   "execution_count": 641,
   "metadata": {},
   "outputs": [
    {
     "data": {
      "text/plain": [
       "0       [there's nothing to tell,  he's just some guy ...\n",
       "1       [c'mon, you're going out with the guy,  there'...\n",
       "2       [all right joey, be nice,  so does he have a h...\n",
       "3                             [wait, does he eat chalk, ]\n",
       "4       [just, 'cause, i don't want her to go through ...\n",
       "                              ...                        \n",
       "2103                     [uh, it's 2:30 in the morning, ]\n",
       "2104                                    [yeah, get out, ]\n",
       "2105    [you guys are always hanging out in my apartme...\n",
       "2106                                    [one more game, ]\n",
       "2107                                          [oh yeah, ]\n",
       "Name: quote, Length: 2108, dtype: object"
      ]
     },
     "execution_count": 641,
     "metadata": {},
     "output_type": "execute_result"
    }
   ],
   "source": [
    "episode1_12[\"quote\"] = episode1_12[\"quote\"].str.replace(\"\\(([^)]+)\\)\",\"\").str.strip().str.lower().str.split(\"[.|!|?]\", expand = False)\n",
    "episode1_12[\"quote\"]"
   ]
  },
  {
   "cell_type": "code",
   "execution_count": 642,
   "metadata": {},
   "outputs": [],
   "source": [
    "episode1_12 = episode1_12.explode(\"quote\")"
   ]
  },
  {
   "cell_type": "code",
   "execution_count": 643,
   "metadata": {},
   "outputs": [],
   "source": [
    "episode1_12.reset_index(drop = True, inplace = True)"
   ]
  },
  {
   "cell_type": "code",
   "execution_count": 644,
   "metadata": {},
   "outputs": [
    {
     "data": {
      "text/plain": [
       "[150, 410]"
      ]
     },
     "execution_count": 644,
     "metadata": {},
     "output_type": "execute_result"
    }
   ],
   "source": [
    "scene = episode1_12[episode1_12[\"quote\"].str.contains(\"scene:\")].index.to_list()\n",
    "scene"
   ]
  },
  {
   "cell_type": "code",
   "execution_count": 645,
   "metadata": {},
   "outputs": [],
   "source": [
    "episode1_12 = episode1_12.drop(episode1_12.index[scene])"
   ]
  },
  {
   "cell_type": "code",
   "execution_count": 646,
   "metadata": {},
   "outputs": [],
   "source": [
    "episode1_12[\"quote\"] = episode1_12[\"quote\"].str.replace(\"[^a-zA-Z' ]\",\"\")"
   ]
  },
  {
   "cell_type": "code",
   "execution_count": 647,
   "metadata": {},
   "outputs": [],
   "source": [
    "episode1_12.reset_index(drop = True, inplace = True)"
   ]
  },
  {
   "cell_type": "code",
   "execution_count": 648,
   "metadata": {},
   "outputs": [],
   "source": [
    "indexes = []\n",
    "for i in range(len(episode1_12[\"quote\"])):\n",
    "    if len(episode1_12[\"quote\"][i]) == 0:\n",
    "        indexes.append(i)"
   ]
  },
  {
   "cell_type": "code",
   "execution_count": 649,
   "metadata": {},
   "outputs": [],
   "source": [
    "episode1_12 = episode1_12.drop(episode1_12.index[indexes]).reset_index(drop = True)"
   ]
  },
  {
   "cell_type": "code",
   "execution_count": 650,
   "metadata": {},
   "outputs": [],
   "source": [
    "episode1_12[\"quote\"] = episode1_12[\"quote\"].str.strip()"
   ]
  },
  {
   "cell_type": "code",
   "execution_count": 651,
   "metadata": {},
   "outputs": [],
   "source": [
    "episode1_12['number_words'] = episode1_12['quote'].str.count(' ') + 1"
   ]
  },
  {
   "cell_type": "code",
   "execution_count": 652,
   "metadata": {},
   "outputs": [],
   "source": [
    "one_word = episode1_12[episode1_12[\"number_words\"] == 1].index.to_list()"
   ]
  },
  {
   "cell_type": "code",
   "execution_count": 653,
   "metadata": {},
   "outputs": [],
   "source": [
    "episode1_12 = episode1_12.drop(episode1_12.index[one_word]).reset_index(drop = True)"
   ]
  },
  {
   "cell_type": "code",
   "execution_count": 654,
   "metadata": {},
   "outputs": [
    {
     "data": {
      "text/plain": [
       "oh my god                             17\n",
       "thank you                              8\n",
       "i know                                 8\n",
       "oh no                                  7\n",
       "oh god                                 6\n",
       "                                      ..\n",
       "you know what the scariest part is     1\n",
       "are these the shoes                    1\n",
       "how'd you get to that                  1\n",
       "she's gonna break the pact             1\n",
       "i need to borrow some moisturizer      1\n",
       "Name: quote, Length: 2879, dtype: int64"
      ]
     },
     "execution_count": 654,
     "metadata": {},
     "output_type": "execute_result"
    }
   ],
   "source": [
    "episode1_12[\"quote\"].value_counts()"
   ]
  },
  {
   "cell_type": "code",
   "execution_count": 655,
   "metadata": {},
   "outputs": [],
   "source": [
    "episode1_12[\"quote\"] = episode1_12[\"quote\"].str.replace(\"'\\s\",\"\")"
   ]
  },
  {
   "cell_type": "code",
   "execution_count": 656,
   "metadata": {},
   "outputs": [],
   "source": [
    "episode1_12[\"quote\"] = episode1_12[\"quote\"].str.replace(\"'cause\",\"because\").str.replace(\"you know\",\"y'know\").str.replace(\"you are\",\"you're\").str.replace(\"come on\",\"c'mon\").str.replace(\"'kay\",\"okay\").str.replace(\"'em\",\"them\").str.replace(\"doin'\",\"doing\").str.replace(\"(ya)\",\"you\").str.replace(\"lemme\",\"let me\").str.replace(\"gonna\", \"going to\").str.replace(\"'\", \"\")"
   ]
  },
  {
   "cell_type": "code",
   "execution_count": 657,
   "metadata": {},
   "outputs": [],
   "source": [
    "episode1_12.drop('number_words', axis='columns', inplace=True)"
   ]
  },
  {
   "cell_type": "markdown",
   "metadata": {},
   "source": [
    "## CountVectorizer (most spoken words by two people)"
   ]
  },
  {
   "cell_type": "code",
   "execution_count": 658,
   "metadata": {},
   "outputs": [
    {
     "data": {
      "text/plain": [
       "<3039x11968 sparse matrix of type '<class 'numpy.int64'>'\n",
       "\twith 13051 stored elements in Compressed Sparse Row format>"
      ]
     },
     "execution_count": 658,
     "metadata": {},
     "output_type": "execute_result"
    }
   ],
   "source": [
    "vectorizer = CountVectorizer(ngram_range =(3,3))\n",
    "\n",
    "matrix = vectorizer.fit_transform(episode1_12[\"quote\"])\n",
    "matrix"
   ]
  },
  {
   "cell_type": "code",
   "execution_count": 659,
   "metadata": {},
   "outputs": [],
   "source": [
    "y = episode1_12.iloc[:, 4].values"
   ]
  },
  {
   "cell_type": "code",
   "execution_count": 660,
   "metadata": {},
   "outputs": [],
   "source": [
    "counts = pd.DataFrame(matrix.toarray(),index = list(y),\n",
    "                      columns=vectorizer.get_feature_names())\n",
    "counts = counts.groupby(counts.index).sum()"
   ]
  },
  {
   "cell_type": "code",
   "execution_count": 661,
   "metadata": {},
   "outputs": [
    {
     "data": {
      "text/plain": [
       "Index(['All', 'Chandler, Janice', 'Chandler, Joey', 'Chandler, Monica',\n",
       "       'Chandler, Phoebe', 'Monica & Rachel & Ross', 'Monica, Joey',\n",
       "       'Monica, Joey & Phoebe', 'Monica, Rachel, Chandler, Joey',\n",
       "       'Phoebe, Monica', 'Phoebe, Rachel', 'Rachel, Monica', 'Ross, Carol',\n",
       "       'Ross, Chandler', 'Ross, Joey', 'Ross, Rachel', 'The boys',\n",
       "       'The girls'],\n",
       "      dtype='object')"
      ]
     },
     "execution_count": 661,
     "metadata": {},
     "output_type": "execute_result"
    }
   ],
   "source": [
    "counts.T.columns"
   ]
  },
  {
   "cell_type": "code",
   "execution_count": 663,
   "metadata": {},
   "outputs": [
    {
     "data": {
      "text/plain": [
       "you can wear           2\n",
       "im looking im          2\n",
       "its just my            2\n",
       "it stop it             2\n",
       "just my lens           2\n",
       "oh my god              2\n",
       "stop it stop           2\n",
       "looking im looking     2\n",
       "can wear rocky         1\n",
       "can wear bullwinkle    1\n",
       "the thing janice       1\n",
       "im going to            1\n",
       "mix and match          1\n",
       "or you can             1\n",
       "rocky and rockyor      1\n",
       "Name: Chandler, Janice, dtype: int64"
      ]
     },
     "execution_count": 663,
     "metadata": {},
     "output_type": "execute_result"
    }
   ],
   "source": [
    "counts.T[\"Chandler, Janice\"].sort_values(ascending = False).head(15)"
   ]
  },
  {
   "cell_type": "code",
   "execution_count": null,
   "metadata": {},
   "outputs": [],
   "source": []
  },
  {
   "cell_type": "markdown",
   "metadata": {},
   "source": [
    "## TfidfVectorizer (most spoken words by two people)"
   ]
  },
  {
   "cell_type": "code",
   "execution_count": 669,
   "metadata": {},
   "outputs": [],
   "source": [
    "from sklearn.feature_extraction.text import TfidfVectorizer\n",
    "tfidf = TfidfVectorizer(ngram_range =(3,3))"
   ]
  },
  {
   "cell_type": "code",
   "execution_count": 670,
   "metadata": {},
   "outputs": [],
   "source": [
    "X = tfidf.fit_transform(episode1_12[\"quote\"])\n",
    "y = episode1_12.iloc[:, 4].values"
   ]
  },
  {
   "cell_type": "code",
   "execution_count": 671,
   "metadata": {},
   "outputs": [],
   "source": [
    "counts2 = pd.DataFrame(X.toarray(),index = list(y),\n",
    "                      columns=tfidf.get_feature_names())\n",
    "counts2 = counts2.groupby(counts2.index).sum()"
   ]
  },
  {
   "cell_type": "code",
   "execution_count": 672,
   "metadata": {},
   "outputs": [
    {
     "data": {
      "text/plain": [
       "its just my          1.274611\n",
       "just my lens         1.274611\n",
       "are you ok           1.000000\n",
       "thats so sweet       1.000000\n",
       "whatever you want    1.000000\n",
       "well there you       0.737122\n",
       "thats not good       0.724527\n",
       "the thing janice     0.724527\n",
       "ill be right         0.724527\n",
       "it stop it           0.707107\n",
       "stop it stop         0.707107\n",
       "heres the thing      0.689246\n",
       "hey thats not        0.689246\n",
       "be right back        0.689246\n",
       "there you go         0.675760\n",
       "Name: Chandler, Janice, dtype: float64"
      ]
     },
     "execution_count": 672,
     "metadata": {},
     "output_type": "execute_result"
    }
   ],
   "source": [
    "counts2.T[\"Chandler, Janice\"].sort_values(ascending = False).head(15)"
   ]
  },
  {
   "cell_type": "code",
   "execution_count": null,
   "metadata": {},
   "outputs": [],
   "source": []
  }
 ],
 "metadata": {
  "kernelspec": {
   "display_name": "Python 3",
   "language": "python",
   "name": "python3"
  },
  "language_info": {
   "codemirror_mode": {
    "name": "ipython",
    "version": 3
   },
   "file_extension": ".py",
   "mimetype": "text/x-python",
   "name": "python",
   "nbconvert_exporter": "python",
   "pygments_lexer": "ipython3",
   "version": "3.8.5"
  },
  "toc": {
   "base_numbering": 1,
   "nav_menu": {},
   "number_sections": true,
   "sideBar": true,
   "skip_h1_title": false,
   "title_cell": "Table of Contents",
   "title_sidebar": "Contents",
   "toc_cell": false,
   "toc_position": {},
   "toc_section_display": true,
   "toc_window_display": false
  },
  "varInspector": {
   "cols": {
    "lenName": 16,
    "lenType": 16,
    "lenVar": 40
   },
   "kernels_config": {
    "python": {
     "delete_cmd_postfix": "",
     "delete_cmd_prefix": "del ",
     "library": "var_list.py",
     "varRefreshCmd": "print(var_dic_list())"
    },
    "r": {
     "delete_cmd_postfix": ") ",
     "delete_cmd_prefix": "rm(",
     "library": "var_list.r",
     "varRefreshCmd": "cat(var_dic_list()) "
    }
   },
   "types_to_exclude": [
    "module",
    "function",
    "builtin_function_or_method",
    "instance",
    "_Feature"
   ],
   "window_display": false
  }
 },
 "nbformat": 4,
 "nbformat_minor": 4
}
