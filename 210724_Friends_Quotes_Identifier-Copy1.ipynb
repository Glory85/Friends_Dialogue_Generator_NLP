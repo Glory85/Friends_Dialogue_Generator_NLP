{
 "cells": [
  {
   "cell_type": "markdown",
   "metadata": {},
   "source": [
    "## Importar librerías"
   ]
  },
  {
   "cell_type": "code",
   "execution_count": 919,
   "metadata": {},
   "outputs": [],
   "source": [
    "import pandas as pd\n",
    "from nltk.corpus import stopwords\n",
    "import seaborn as sns\n",
    "import numpy as np\n",
    "import spacy \n",
    "from sklearn.feature_extraction.text import CountVectorizer\n",
    "import re\n",
    "import nltk\n",
    "from nltk.stem import PorterStemmer\n",
    "from nltk.stem import LancasterStemmer\n",
    "from nltk.stem import WordNetLemmatizer\n",
    "from nltk.tokenize import sent_tokenize, word_tokenize\n",
    "from nltk.stem.snowball import SnowballStemmer\n",
    "from sklearn.neighbors import NearestNeighbors\n",
    "from sklearn.linear_model import LogisticRegression\n",
    "from nltk.corpus import stopwords\n",
    "from sklearn.model_selection import train_test_split\n",
    "import matplotlib.pyplot as plt\n",
    "from sklearn.naive_bayes import GaussianNB\n",
    "from sklearn.metrics import confusion_matrix\n",
    "from sklearn import tree\n",
    "from sklearn import metrics\n",
    "from sklearn.neighbors import KNeighborsClassifier\n",
    "import networkx as nx"
   ]
  },
  {
   "cell_type": "markdown",
   "metadata": {},
   "source": [
    "## Data Cleanning"
   ]
  },
  {
   "cell_type": "code",
   "execution_count": 920,
   "metadata": {},
   "outputs": [],
   "source": [
    "friends = pd.read_csv(\"friends_quotes.csv\")"
   ]
  },
  {
   "cell_type": "code",
   "execution_count": 921,
   "metadata": {},
   "outputs": [],
   "source": [
    "friends.drop(friends[(friends[\"season\"] == 1) & (friends[\"episode_number\"] == 16)].index,inplace = True)"
   ]
  },
  {
   "cell_type": "code",
   "execution_count": 922,
   "metadata": {},
   "outputs": [],
   "source": [
    "chandler =[\"CHAN\",\"CHANDLER\",\"Chandler (Stands up and walks to Joey)\",\"Chandle\",\"Chandler (nearly weeping)\",\"Chandler (to Joey)\", \"Chandler (to Monica)\", \"Chandlers\"]\n",
    "monica =[\"Young Monica\",\"Fake Monica\", \"Fat Monica\", \"MONICA\",\"MNCA\",\"MOnica\",\"Monic\",\"Monica (to Ross)\",\"Monica about to have a heart attack\",\"Monica to Amy\",\"Monica to Emma\",\"Monica to Ross\",\"Monica (reads a form in her lap)\"] \n",
    "joey = [\"Fat Joey\",\"JOEY\",\"Joe\",\"Joey (staring at the cake)\",\"Joey (to Rachel)\",\"Joey (to Ross)\"]\n",
    "phoebe = [\"PHOE\",\"PHOEBE\",\"Phoeb\",\"Phoebe (to Mike)\",\"Phoebe (to Rachel)\",\"Phoebe (walking to Ross carrying a black leather jacket)\",\"Phoebe (watching the food on the table)\",\"Phoebe looks down\"]\n",
    "rachel = [\"RACH\",\"RACHEL\",\"RAHCEL\", \"Rache\",\"Rachel (crying)\",\"Rachel (leaving)\",\"Rachel (on the phone)\",\"Rachel (she flips the coin)\",\"Rachel opens their door\",\"Rachel to Emma\",\"Rachel (as Monica)\",\"Racel\"]\n",
    "ross = [\"ROSS\",\"Ross (on the verge of tears)\",\"Ross (stops recording)\",\"Ross (to Emma)\",\"Ross first has a look of 'huh' then changes it to sarcastic happy\",\"Ross looks down\",\"Ross makes some sort of sound to let us know it hurt\",\"Ross starts playing with a plate\",\"Ross starts talking over her 'do you remember' line\",\"Ross to Monica\",\"Ross with a look of wondering how long this is going to go on on his face\",\"Young Ross\",\"ros\"]"
   ]
  },
  {
   "cell_type": "code",
   "execution_count": 923,
   "metadata": {},
   "outputs": [],
   "source": [
    "friends[\"author\"] = friends[\"author\"].apply(lambda x: \"Chandler\" if x in chandler else x).apply(lambda x: \"Phoebe\" if x in phoebe else x).apply(lambda x: \"Joey\" if x in joey else x).apply(lambda x: \"Rachel\" if x in rachel else x).apply(lambda x: \"Ross\" if x in ross else x).apply(lambda x: \"Monica\" if x in monica else x).str.strip().str.lower().str.replace(\"ms. geller\",\"mrs. geller\").str.capitalize()"
   ]
  },
  {
   "cell_type": "code",
   "execution_count": 924,
   "metadata": {},
   "outputs": [
    {
     "data": {
      "text/plain": [
       "Rachel      9107\n",
       "Ross        8932\n",
       "Monica      8322\n",
       "Chandler    8268\n",
       "Joey        8022\n",
       "Phoebe      7346\n",
       "Mike         351\n",
       "All          330\n",
       "Richard      256\n",
       "Janice       214\n",
       "Charlie      190\n",
       "Carol        187\n",
       "Emily        160\n",
       "Name: author, dtype: int64"
      ]
     },
     "execution_count": 924,
     "metadata": {},
     "output_type": "execute_result"
    }
   ],
   "source": [
    "friends[\"author\"].value_counts().head(13)"
   ]
  },
  {
   "cell_type": "code",
   "execution_count": 925,
   "metadata": {},
   "outputs": [],
   "source": [
    "more_common_characters = friends[\"author\"].value_counts().head(13).index.to_list()"
   ]
  },
  {
   "cell_type": "code",
   "execution_count": 926,
   "metadata": {},
   "outputs": [
    {
     "data": {
      "text/plain": [
       "9.0     229\n",
       "10.0    115\n",
       "4.0       4\n",
       "3.0       3\n",
       "Name: season, dtype: int64"
      ]
     },
     "execution_count": 926,
     "metadata": {},
     "output_type": "execute_result"
    }
   ],
   "source": [
    "friends[friends[\"author\"]==\"Mike\"][\"season\"].value_counts()# we need to delete the mikes from season 3 and 4  "
   ]
  },
  {
   "cell_type": "code",
   "execution_count": 927,
   "metadata": {},
   "outputs": [
    {
     "data": {
      "text/plain": [
       "2.0    128\n",
       "6.0     50\n",
       "3.0     43\n",
       "7.0     35\n",
       "Name: season, dtype: int64"
      ]
     },
     "execution_count": 927,
     "metadata": {},
     "output_type": "execute_result"
    }
   ],
   "source": [
    "friends[friends[\"author\"]==\"Richard\"][\"season\"].value_counts() # we need to delete the Richard from season 7"
   ]
  },
  {
   "cell_type": "code",
   "execution_count": 928,
   "metadata": {},
   "outputs": [],
   "source": [
    "more_common_characters.remove(\"All\")"
   ]
  },
  {
   "cell_type": "code",
   "execution_count": 929,
   "metadata": {},
   "outputs": [],
   "source": [
    "friends.drop(friends[(friends[\"author\"] == \"Mike\") & (friends[\"season\"].isin([\"3.0\",\"4.0\"]))].index,inplace = True)"
   ]
  },
  {
   "cell_type": "code",
   "execution_count": 930,
   "metadata": {},
   "outputs": [
    {
     "data": {
      "text/plain": [
       "9.0     229\n",
       "10.0    115\n",
       "Name: season, dtype: int64"
      ]
     },
     "execution_count": 930,
     "metadata": {},
     "output_type": "execute_result"
    }
   ],
   "source": [
    "friends[friends[\"author\"]==\"Mike\"][\"season\"].value_counts()"
   ]
  },
  {
   "cell_type": "code",
   "execution_count": 931,
   "metadata": {},
   "outputs": [],
   "source": [
    "friends.drop(friends[(friends[\"author\"] == \"Richard\") & (friends[\"season\"].isin([\"7.0\"]))].index,inplace = True)"
   ]
  },
  {
   "cell_type": "code",
   "execution_count": 932,
   "metadata": {},
   "outputs": [
    {
     "data": {
      "text/plain": [
       "2.0    128\n",
       "6.0     50\n",
       "3.0     43\n",
       "Name: season, dtype: int64"
      ]
     },
     "execution_count": 932,
     "metadata": {},
     "output_type": "execute_result"
    }
   ],
   "source": [
    "friends[friends[\"author\"]==\"Richard\"][\"season\"].value_counts()"
   ]
  },
  {
   "cell_type": "code",
   "execution_count": 933,
   "metadata": {},
   "outputs": [],
   "source": [
    "import matplotlib.pyplot as plt\n",
    "plt.rcParams[\"figure.figsize\"] = (15,9)"
   ]
  },
  {
   "cell_type": "code",
   "execution_count": 934,
   "metadata": {},
   "outputs": [
    {
     "data": {
      "text/plain": [
       "<AxesSubplot:xlabel='count', ylabel='author'>"
      ]
     },
     "execution_count": 934,
     "metadata": {},
     "output_type": "execute_result"
    },
    {
     "data": {
      "image/png": "[encoded data removed]",
      "text/plain": [
       "<Figure size 1080x648 with 1 Axes>"
      ]
     },
     "metadata": {
      "needs_background": "light"
     },
     "output_type": "display_data"
    }
   ],
   "source": [
    "sns.countplot(y='author', data=friends[friends.author.isin(more_common_characters)])"
   ]
  },
  {
   "cell_type": "code",
   "execution_count": 935,
   "metadata": {},
   "outputs": [
    {
     "data": {
      "text/html": [
       "<div>\n",
       "<style scoped>\n",
       "    .dataframe tbody tr th:only-of-type {\n",
       "        vertical-align: middle;\n",
       "    }\n",
       "\n",
       "    .dataframe tbody tr th {\n",
       "        vertical-align: top;\n",
       "    }\n",
       "\n",
       "    .dataframe thead th {\n",
       "        text-align: right;\n",
       "    }\n",
       "</style>\n",
       "<table border=\"1\" class=\"dataframe\">\n",
       "  <thead>\n",
       "    <tr style=\"text-align: right;\">\n",
       "      <th></th>\n",
       "      <th>author</th>\n",
       "      <th>episode_number</th>\n",
       "      <th>episode_title</th>\n",
       "      <th>quote</th>\n",
       "      <th>quote_order</th>\n",
       "      <th>season</th>\n",
       "    </tr>\n",
       "  </thead>\n",
       "  <tbody>\n",
       "    <tr>\n",
       "      <th>0</th>\n",
       "      <td>Monica</td>\n",
       "      <td>1.0</td>\n",
       "      <td>Monica Gets A Roommate</td>\n",
       "      <td>There's nothing to tell! He's just some guy I ...</td>\n",
       "      <td>0.0</td>\n",
       "      <td>1.0</td>\n",
       "    </tr>\n",
       "    <tr>\n",
       "      <th>1</th>\n",
       "      <td>Joey</td>\n",
       "      <td>1.0</td>\n",
       "      <td>Monica Gets A Roommate</td>\n",
       "      <td>C'mon, you're going out with the guy! There's ...</td>\n",
       "      <td>1.0</td>\n",
       "      <td>1.0</td>\n",
       "    </tr>\n",
       "    <tr>\n",
       "      <th>2</th>\n",
       "      <td>Chandler</td>\n",
       "      <td>1.0</td>\n",
       "      <td>Monica Gets A Roommate</td>\n",
       "      <td>All right Joey, be nice. So does he have a hum...</td>\n",
       "      <td>2.0</td>\n",
       "      <td>1.0</td>\n",
       "    </tr>\n",
       "    <tr>\n",
       "      <th>3</th>\n",
       "      <td>Phoebe</td>\n",
       "      <td>1.0</td>\n",
       "      <td>Monica Gets A Roommate</td>\n",
       "      <td>Wait, does he eat chalk?</td>\n",
       "      <td>3.0</td>\n",
       "      <td>1.0</td>\n",
       "    </tr>\n",
       "    <tr>\n",
       "      <th>4</th>\n",
       "      <td>Phoebe</td>\n",
       "      <td>1.0</td>\n",
       "      <td>Monica Gets A Roommate</td>\n",
       "      <td>Just, 'cause, I don't want her to go through w...</td>\n",
       "      <td>4.0</td>\n",
       "      <td>1.0</td>\n",
       "    </tr>\n",
       "    <tr>\n",
       "      <th>...</th>\n",
       "      <td>...</td>\n",
       "      <td>...</td>\n",
       "      <td>...</td>\n",
       "      <td>...</td>\n",
       "      <td>...</td>\n",
       "      <td>...</td>\n",
       "    </tr>\n",
       "    <tr>\n",
       "      <th>60286</th>\n",
       "      <td>Chandler</td>\n",
       "      <td>17.0</td>\n",
       "      <td>The Last One, Part I &amp; II</td>\n",
       "      <td>Oh, it's gonna be okay.</td>\n",
       "      <td>581.0</td>\n",
       "      <td>10.0</td>\n",
       "    </tr>\n",
       "    <tr>\n",
       "      <th>60287</th>\n",
       "      <td>Rachel</td>\n",
       "      <td>17.0</td>\n",
       "      <td>The Last One, Part I &amp; II</td>\n",
       "      <td>(crying) Do you guys have to go to the new hou...</td>\n",
       "      <td>582.0</td>\n",
       "      <td>10.0</td>\n",
       "    </tr>\n",
       "    <tr>\n",
       "      <th>60288</th>\n",
       "      <td>Monica</td>\n",
       "      <td>17.0</td>\n",
       "      <td>The Last One, Part I &amp; II</td>\n",
       "      <td>We got some time.</td>\n",
       "      <td>583.0</td>\n",
       "      <td>10.0</td>\n",
       "    </tr>\n",
       "    <tr>\n",
       "      <th>60289</th>\n",
       "      <td>Rachel</td>\n",
       "      <td>17.0</td>\n",
       "      <td>The Last One, Part I &amp; II</td>\n",
       "      <td>Okay, should we get some coffee?</td>\n",
       "      <td>584.0</td>\n",
       "      <td>10.0</td>\n",
       "    </tr>\n",
       "    <tr>\n",
       "      <th>60290</th>\n",
       "      <td>Chandler</td>\n",
       "      <td>17.0</td>\n",
       "      <td>The Last One, Part I &amp; II</td>\n",
       "      <td>Sure. Where?</td>\n",
       "      <td>585.0</td>\n",
       "      <td>10.0</td>\n",
       "    </tr>\n",
       "  </tbody>\n",
       "</table>\n",
       "<p>51313 rows × 6 columns</p>\n",
       "</div>"
      ],
      "text/plain": [
       "         author  episode_number              episode_title  \\\n",
       "0        Monica             1.0     Monica Gets A Roommate   \n",
       "1          Joey             1.0     Monica Gets A Roommate   \n",
       "2      Chandler             1.0     Monica Gets A Roommate   \n",
       "3        Phoebe             1.0     Monica Gets A Roommate   \n",
       "4        Phoebe             1.0     Monica Gets A Roommate   \n",
       "...         ...             ...                        ...   \n",
       "60286  Chandler            17.0  The Last One, Part I & II   \n",
       "60287    Rachel            17.0  The Last One, Part I & II   \n",
       "60288    Monica            17.0  The Last One, Part I & II   \n",
       "60289    Rachel            17.0  The Last One, Part I & II   \n",
       "60290  Chandler            17.0  The Last One, Part I & II   \n",
       "\n",
       "                                                   quote  quote_order  season  \n",
       "0      There's nothing to tell! He's just some guy I ...          0.0     1.0  \n",
       "1      C'mon, you're going out with the guy! There's ...          1.0     1.0  \n",
       "2      All right Joey, be nice. So does he have a hum...          2.0     1.0  \n",
       "3                               Wait, does he eat chalk?          3.0     1.0  \n",
       "4      Just, 'cause, I don't want her to go through w...          4.0     1.0  \n",
       "...                                                  ...          ...     ...  \n",
       "60286                            Oh, it's gonna be okay.        581.0    10.0  \n",
       "60287  (crying) Do you guys have to go to the new hou...        582.0    10.0  \n",
       "60288                                  We got some time.        583.0    10.0  \n",
       "60289                   Okay, should we get some coffee?        584.0    10.0  \n",
       "60290                                       Sure. Where?        585.0    10.0  \n",
       "\n",
       "[51313 rows x 6 columns]"
      ]
     },
     "execution_count": 935,
     "metadata": {},
     "output_type": "execute_result"
    }
   ],
   "source": [
    "new_df = friends[friends[\"author\"].isin(more_common_characters)]\n",
    "new_df"
   ]
  },
  {
   "cell_type": "code",
   "execution_count": 936,
   "metadata": {},
   "outputs": [],
   "source": [
    "new_df.to_excel(r\"./all.xlsx\", index = False)"
   ]
  },
  {
   "cell_type": "code",
   "execution_count": 937,
   "metadata": {},
   "outputs": [],
   "source": [
    "episode1_24 = pd.read_excel(\"all_modified.xlsx\")"
   ]
  },
  {
   "cell_type": "code",
   "execution_count": 938,
   "metadata": {},
   "outputs": [],
   "source": [
    "main_characters = [\"Ross\", \"Joey\",\"Chandler\",\"Phoebe\",\"Rachel\",\"Monica\"]"
   ]
  },
  {
   "cell_type": "code",
   "execution_count": 939,
   "metadata": {},
   "outputs": [
    {
     "data": {
      "text/html": [
       "<div>\n",
       "<style scoped>\n",
       "    .dataframe tbody tr th:only-of-type {\n",
       "        vertical-align: middle;\n",
       "    }\n",
       "\n",
       "    .dataframe tbody tr th {\n",
       "        vertical-align: top;\n",
       "    }\n",
       "\n",
       "    .dataframe thead th {\n",
       "        text-align: right;\n",
       "    }\n",
       "</style>\n",
       "<table border=\"1\" class=\"dataframe\">\n",
       "  <thead>\n",
       "    <tr style=\"text-align: right;\">\n",
       "      <th></th>\n",
       "      <th>author</th>\n",
       "      <th>quote</th>\n",
       "      <th>season</th>\n",
       "      <th>To Whom</th>\n",
       "      <th>Conversation</th>\n",
       "    </tr>\n",
       "  </thead>\n",
       "  <tbody>\n",
       "    <tr>\n",
       "      <th>0</th>\n",
       "      <td>Monica</td>\n",
       "      <td>There's nothing to tell! He's just some guy I ...</td>\n",
       "      <td>1</td>\n",
       "      <td>All</td>\n",
       "      <td>All</td>\n",
       "    </tr>\n",
       "    <tr>\n",
       "      <th>1</th>\n",
       "      <td>Joey</td>\n",
       "      <td>C'mon, you're going out with the guy! There's ...</td>\n",
       "      <td>1</td>\n",
       "      <td>All</td>\n",
       "      <td>All</td>\n",
       "    </tr>\n",
       "    <tr>\n",
       "      <th>2</th>\n",
       "      <td>Chandler</td>\n",
       "      <td>All right Joey, be nice. So does he have a hum...</td>\n",
       "      <td>1</td>\n",
       "      <td>All</td>\n",
       "      <td>All</td>\n",
       "    </tr>\n",
       "    <tr>\n",
       "      <th>3</th>\n",
       "      <td>Phoebe</td>\n",
       "      <td>Wait, does he eat chalk?</td>\n",
       "      <td>1</td>\n",
       "      <td>All</td>\n",
       "      <td>All</td>\n",
       "    </tr>\n",
       "    <tr>\n",
       "      <th>4</th>\n",
       "      <td>Phoebe</td>\n",
       "      <td>Just, 'cause, I don't want her to go through w...</td>\n",
       "      <td>1</td>\n",
       "      <td>All</td>\n",
       "      <td>All</td>\n",
       "    </tr>\n",
       "    <tr>\n",
       "      <th>...</th>\n",
       "      <td>...</td>\n",
       "      <td>...</td>\n",
       "      <td>...</td>\n",
       "      <td>...</td>\n",
       "      <td>...</td>\n",
       "    </tr>\n",
       "    <tr>\n",
       "      <th>3778</th>\n",
       "      <td>Joey</td>\n",
       "      <td>Seven hundred bucks!</td>\n",
       "      <td>1</td>\n",
       "      <td>Chandler</td>\n",
       "      <td>Chandler, Joey</td>\n",
       "    </tr>\n",
       "    <tr>\n",
       "      <th>3779</th>\n",
       "      <td>Chandler</td>\n",
       "      <td>Alright, you did it! Do we have any fruit?</td>\n",
       "      <td>1</td>\n",
       "      <td>Joey</td>\n",
       "      <td>Chandler, Joey</td>\n",
       "    </tr>\n",
       "    <tr>\n",
       "      <th>3780</th>\n",
       "      <td>Joey</td>\n",
       "      <td>Man, hell of a two weeks, huh? Y'know what, th...</td>\n",
       "      <td>1</td>\n",
       "      <td>Chandler</td>\n",
       "      <td>Chandler, Joey</td>\n",
       "    </tr>\n",
       "    <tr>\n",
       "      <th>3781</th>\n",
       "      <td>Chandler</td>\n",
       "      <td>Really? So, you're gonna stick with this 'it's...</td>\n",
       "      <td>1</td>\n",
       "      <td>Joey</td>\n",
       "      <td>Chandler, Joey</td>\n",
       "    </tr>\n",
       "    <tr>\n",
       "      <th>3782</th>\n",
       "      <td>Joey</td>\n",
       "      <td>What, are you crazy? When a blind man gets his...</td>\n",
       "      <td>1</td>\n",
       "      <td>Chandler</td>\n",
       "      <td>Chandler, Joey</td>\n",
       "    </tr>\n",
       "  </tbody>\n",
       "</table>\n",
       "<p>3783 rows × 5 columns</p>\n",
       "</div>"
      ],
      "text/plain": [
       "        author                                              quote  season  \\\n",
       "0       Monica  There's nothing to tell! He's just some guy I ...       1   \n",
       "1         Joey  C'mon, you're going out with the guy! There's ...       1   \n",
       "2     Chandler  All right Joey, be nice. So does he have a hum...       1   \n",
       "3       Phoebe                           Wait, does he eat chalk?       1   \n",
       "4       Phoebe  Just, 'cause, I don't want her to go through w...       1   \n",
       "...        ...                                                ...     ...   \n",
       "3778      Joey                               Seven hundred bucks!       1   \n",
       "3779  Chandler         Alright, you did it! Do we have any fruit?       1   \n",
       "3780      Joey  Man, hell of a two weeks, huh? Y'know what, th...       1   \n",
       "3781  Chandler  Really? So, you're gonna stick with this 'it's...       1   \n",
       "3782      Joey  What, are you crazy? When a blind man gets his...       1   \n",
       "\n",
       "       To Whom    Conversation  \n",
       "0          All             All  \n",
       "1          All             All  \n",
       "2          All             All  \n",
       "3          All             All  \n",
       "4          All             All  \n",
       "...        ...             ...  \n",
       "3778  Chandler  Chandler, Joey  \n",
       "3779      Joey  Chandler, Joey  \n",
       "3780  Chandler  Chandler, Joey  \n",
       "3781      Joey  Chandler, Joey  \n",
       "3782  Chandler  Chandler, Joey  \n",
       "\n",
       "[3783 rows x 5 columns]"
      ]
     },
     "execution_count": 939,
     "metadata": {},
     "output_type": "execute_result"
    }
   ],
   "source": [
    "episode1_24= episode1_24.drop(columns=['episode_number', 'episode_title', \"quote_order\"]).reset_index(drop = True)\n",
    "episode1_24"
   ]
  },
  {
   "cell_type": "code",
   "execution_count": 940,
   "metadata": {},
   "outputs": [
    {
     "data": {
      "text/plain": [
       "0       [there's nothing to tell,  he's just some guy ...\n",
       "1       [c'mon, you're going out with the guy,  there'...\n",
       "2       [all right joey, be nice,  so does he have a h...\n",
       "3                             [wait, does he eat chalk, ]\n",
       "4       [just, 'cause, i don't want her to go through ...\n",
       "                              ...                        \n",
       "3778                              [seven hundred bucks, ]\n",
       "3779       [alright, you did it,  do we have any fruit, ]\n",
       "3780    [man, hell of a two weeks, huh,  y'know what, ...\n",
       "3781    [really,  so, you're gonna stick with this 'it...\n",
       "3782    [what, are you crazy,  when a blind man gets h...\n",
       "Name: quote, Length: 3783, dtype: object"
      ]
     },
     "execution_count": 940,
     "metadata": {},
     "output_type": "execute_result"
    }
   ],
   "source": [
    "episode1_24[\"quote\"] = episode1_24[\"quote\"].str.replace(\"\\(([^)]+)\\)\",\"\").str.strip().str.lower().str.split(\"[.|!|?]\", expand = False)\n",
    "episode1_24[\"quote\"]"
   ]
  },
  {
   "cell_type": "code",
   "execution_count": 941,
   "metadata": {},
   "outputs": [],
   "source": [
    "episode1_24 = episode1_24.explode(\"quote\")"
   ]
  },
  {
   "cell_type": "code",
   "execution_count": 942,
   "metadata": {},
   "outputs": [],
   "source": [
    "episode1_24.reset_index(drop = True, inplace = True)"
   ]
  },
  {
   "cell_type": "code",
   "execution_count": 943,
   "metadata": {},
   "outputs": [
    {
     "data": {
      "text/plain": [
       "[150, 410]"
      ]
     },
     "execution_count": 943,
     "metadata": {},
     "output_type": "execute_result"
    }
   ],
   "source": [
    "scene = episode1_24[episode1_24[\"quote\"].str.contains(\"scene:\")].index.to_list()\n",
    "scene"
   ]
  },
  {
   "cell_type": "code",
   "execution_count": 944,
   "metadata": {},
   "outputs": [],
   "source": [
    "episode1_24 = episode1_24.drop(episode1_24.index[scene])"
   ]
  },
  {
   "cell_type": "code",
   "execution_count": 945,
   "metadata": {},
   "outputs": [],
   "source": [
    "episode1_24[\"quote\"] = episode1_24[\"quote\"].str.replace(\"[^a-zA-Z' ]\",\"\")"
   ]
  },
  {
   "cell_type": "code",
   "execution_count": 946,
   "metadata": {},
   "outputs": [],
   "source": [
    "episode1_24.reset_index(drop = True, inplace = True)"
   ]
  },
  {
   "cell_type": "code",
   "execution_count": 947,
   "metadata": {},
   "outputs": [],
   "source": [
    "indexes = []\n",
    "for i in range(len(episode1_24[\"quote\"])):\n",
    "    if len(episode1_24[\"quote\"][i]) == 0:\n",
    "        indexes.append(i)"
   ]
  },
  {
   "cell_type": "code",
   "execution_count": 948,
   "metadata": {},
   "outputs": [],
   "source": [
    "episode1_24 = episode1_24.drop(episode1_24.index[indexes]).reset_index(drop = True)"
   ]
  },
  {
   "cell_type": "code",
   "execution_count": 949,
   "metadata": {},
   "outputs": [],
   "source": [
    "episode1_24[\"quote\"] = episode1_24[\"quote\"].str.strip()"
   ]
  },
  {
   "cell_type": "code",
   "execution_count": 950,
   "metadata": {},
   "outputs": [],
   "source": [
    "episode1_24['number_words'] = episode1_24['quote'].str.count(' ') + 1"
   ]
  },
  {
   "cell_type": "code",
   "execution_count": 951,
   "metadata": {},
   "outputs": [],
   "source": [
    "one_word = episode1_24[episode1_24[\"number_words\"] == 1].index.to_list()"
   ]
  },
  {
   "cell_type": "code",
   "execution_count": 952,
   "metadata": {},
   "outputs": [],
   "source": [
    "episode1_24 = episode1_24.drop(episode1_24.index[one_word]).reset_index(drop = True)"
   ]
  },
  {
   "cell_type": "code",
   "execution_count": 953,
   "metadata": {},
   "outputs": [],
   "source": [
    "episode1_24[\"quote\"] = episode1_24[\"quote\"].str.replace(\"'\\s\",\"\")"
   ]
  },
  {
   "cell_type": "code",
   "execution_count": 954,
   "metadata": {},
   "outputs": [],
   "source": [
    "episode1_24[\"quote\"] = episode1_24[\"quote\"].str.replace(\"'cause\",\"because\").str.replace(\"you know\",\"y'know\").str.replace(\"you are\",\"you're\").str.replace(\"come on\",\"c'mon\").str.replace(\"'kay\",\"okay\").str.replace(\"'em\",\"them\").str.replace(\"doin'\",\"doing\").str.replace(\"(ya)\",\"you\").str.replace(\"lemme\",\"let me\").str.replace(\"gonna\", \"going to\").str.replace(\"'\", \"\")"
   ]
  },
  {
   "cell_type": "code",
   "execution_count": 955,
   "metadata": {},
   "outputs": [],
   "source": [
    "episode1_24.drop('number_words', axis='columns', inplace=True)"
   ]
  },
  {
   "cell_type": "code",
   "execution_count": 956,
   "metadata": {},
   "outputs": [
    {
     "data": {
      "text/plain": [
       "['All',\n",
       " 'The boys',\n",
       " 'Monica, Rachel, Chandler, Joey',\n",
       " 'Rachel, Monica',\n",
       " 'Monica & Rachel & Ross',\n",
       " 'Ross, Carol',\n",
       " 'Ross, Rachel',\n",
       " 'Chandler, Joey',\n",
       " 'The girls',\n",
       " 'Monica, Joey',\n",
       " 'Ross, Chandler',\n",
       " 'Chandler, Phoebe',\n",
       " 'Chandler, Janice',\n",
       " 'Chandler, Monica',\n",
       " 'Ross, Joey',\n",
       " 'Monica, Joey & Phoebe',\n",
       " 'Phoebe, Monica',\n",
       " 'Phoebe, Rachel',\n",
       " 'Chandler, Rachel',\n",
       " 'Janice, Joey',\n",
       " 'Joey, Phoebe',\n",
       " 'Ross, Phoebe']"
      ]
     },
     "execution_count": 956,
     "metadata": {},
     "output_type": "execute_result"
    }
   ],
   "source": [
    "conversation = list(episode1_24[\"Conversation\"].unique())\n",
    "conversation"
   ]
  },
  {
   "cell_type": "code",
   "execution_count": 957,
   "metadata": {},
   "outputs": [],
   "source": [
    "for i in [\"All\",\"The boys\",\"Monica, Rachel, Chandler, Joey\",\"Monica & Rachel & Ross\",\"The girls\",\"Monica, Joey & Phoebe\"]:\n",
    "    conversation.remove(i)"
   ]
  },
  {
   "cell_type": "code",
   "execution_count": 958,
   "metadata": {},
   "outputs": [
    {
     "data": {
      "text/plain": [
       "Ross, Rachel        0.179320\n",
       "Ross, Carol         0.136659\n",
       "Chandler, Joey      0.117137\n",
       "Ross, Joey          0.101229\n",
       "Rachel, Monica      0.100506\n",
       "Chandler, Phoebe    0.088214\n",
       "Chandler, Janice    0.070137\n",
       "Monica, Joey        0.059291\n",
       "Phoebe, Rachel      0.034707\n",
       "Phoebe, Monica      0.033984\n",
       "Ross, Chandler      0.031092\n",
       "Joey, Phoebe        0.019523\n",
       "Chandler, Monica    0.018077\n",
       "Chandler, Rachel    0.007231\n",
       "Ross, Phoebe        0.001446\n",
       "Janice, Joey        0.001446\n",
       "Name: Conversation, dtype: float64"
      ]
     },
     "execution_count": 958,
     "metadata": {},
     "output_type": "execute_result"
    }
   ],
   "source": [
    "conversation_weights = episode1_24[episode1_24[\"Conversation\"].isin(conversation)][\"Conversation\"].value_counts(normalize = True)\n",
    "conversation_weights"
   ]
  },
  {
   "cell_type": "code",
   "execution_count": 959,
   "metadata": {},
   "outputs": [],
   "source": [
    "conversation_weights = pd.DataFrame(conversation_weights).reset_index()"
   ]
  },
  {
   "cell_type": "code",
   "execution_count": 960,
   "metadata": {},
   "outputs": [
    {
     "data": {
      "text/html": [
       "<div>\n",
       "<style scoped>\n",
       "    .dataframe tbody tr th:only-of-type {\n",
       "        vertical-align: middle;\n",
       "    }\n",
       "\n",
       "    .dataframe tbody tr th {\n",
       "        vertical-align: top;\n",
       "    }\n",
       "\n",
       "    .dataframe thead th {\n",
       "        text-align: right;\n",
       "    }\n",
       "</style>\n",
       "<table border=\"1\" class=\"dataframe\">\n",
       "  <thead>\n",
       "    <tr style=\"text-align: right;\">\n",
       "      <th></th>\n",
       "      <th>index</th>\n",
       "      <th>Conversation</th>\n",
       "    </tr>\n",
       "  </thead>\n",
       "  <tbody>\n",
       "    <tr>\n",
       "      <th>0</th>\n",
       "      <td>Ross, Rachel</td>\n",
       "      <td>0.179320</td>\n",
       "    </tr>\n",
       "    <tr>\n",
       "      <th>1</th>\n",
       "      <td>Ross, Carol</td>\n",
       "      <td>0.136659</td>\n",
       "    </tr>\n",
       "    <tr>\n",
       "      <th>2</th>\n",
       "      <td>Chandler, Joey</td>\n",
       "      <td>0.117137</td>\n",
       "    </tr>\n",
       "    <tr>\n",
       "      <th>3</th>\n",
       "      <td>Ross, Joey</td>\n",
       "      <td>0.101229</td>\n",
       "    </tr>\n",
       "    <tr>\n",
       "      <th>4</th>\n",
       "      <td>Rachel, Monica</td>\n",
       "      <td>0.100506</td>\n",
       "    </tr>\n",
       "    <tr>\n",
       "      <th>5</th>\n",
       "      <td>Chandler, Phoebe</td>\n",
       "      <td>0.088214</td>\n",
       "    </tr>\n",
       "    <tr>\n",
       "      <th>6</th>\n",
       "      <td>Chandler, Janice</td>\n",
       "      <td>0.070137</td>\n",
       "    </tr>\n",
       "    <tr>\n",
       "      <th>7</th>\n",
       "      <td>Monica, Joey</td>\n",
       "      <td>0.059291</td>\n",
       "    </tr>\n",
       "    <tr>\n",
       "      <th>8</th>\n",
       "      <td>Phoebe, Rachel</td>\n",
       "      <td>0.034707</td>\n",
       "    </tr>\n",
       "    <tr>\n",
       "      <th>9</th>\n",
       "      <td>Phoebe, Monica</td>\n",
       "      <td>0.033984</td>\n",
       "    </tr>\n",
       "    <tr>\n",
       "      <th>10</th>\n",
       "      <td>Ross, Chandler</td>\n",
       "      <td>0.031092</td>\n",
       "    </tr>\n",
       "    <tr>\n",
       "      <th>11</th>\n",
       "      <td>Joey, Phoebe</td>\n",
       "      <td>0.019523</td>\n",
       "    </tr>\n",
       "    <tr>\n",
       "      <th>12</th>\n",
       "      <td>Chandler, Monica</td>\n",
       "      <td>0.018077</td>\n",
       "    </tr>\n",
       "    <tr>\n",
       "      <th>13</th>\n",
       "      <td>Chandler, Rachel</td>\n",
       "      <td>0.007231</td>\n",
       "    </tr>\n",
       "    <tr>\n",
       "      <th>14</th>\n",
       "      <td>Ross, Phoebe</td>\n",
       "      <td>0.001446</td>\n",
       "    </tr>\n",
       "    <tr>\n",
       "      <th>15</th>\n",
       "      <td>Janice, Joey</td>\n",
       "      <td>0.001446</td>\n",
       "    </tr>\n",
       "  </tbody>\n",
       "</table>\n",
       "</div>"
      ],
      "text/plain": [
       "               index  Conversation\n",
       "0       Ross, Rachel      0.179320\n",
       "1        Ross, Carol      0.136659\n",
       "2     Chandler, Joey      0.117137\n",
       "3         Ross, Joey      0.101229\n",
       "4     Rachel, Monica      0.100506\n",
       "5   Chandler, Phoebe      0.088214\n",
       "6   Chandler, Janice      0.070137\n",
       "7       Monica, Joey      0.059291\n",
       "8     Phoebe, Rachel      0.034707\n",
       "9     Phoebe, Monica      0.033984\n",
       "10    Ross, Chandler      0.031092\n",
       "11      Joey, Phoebe      0.019523\n",
       "12  Chandler, Monica      0.018077\n",
       "13  Chandler, Rachel      0.007231\n",
       "14      Ross, Phoebe      0.001446\n",
       "15      Janice, Joey      0.001446"
      ]
     },
     "execution_count": 960,
     "metadata": {},
     "output_type": "execute_result"
    }
   ],
   "source": [
    "conversation_weights"
   ]
  },
  {
   "cell_type": "code",
   "execution_count": 961,
   "metadata": {},
   "outputs": [],
   "source": [
    "conversation_weights[[\"A\",\"B\"]] = conversation_weights[\"index\"].str.split(\",\",expand=True)"
   ]
  },
  {
   "cell_type": "code",
   "execution_count": 962,
   "metadata": {},
   "outputs": [
    {
     "data": {
      "text/html": [
       "<div>\n",
       "<style scoped>\n",
       "    .dataframe tbody tr th:only-of-type {\n",
       "        vertical-align: middle;\n",
       "    }\n",
       "\n",
       "    .dataframe tbody tr th {\n",
       "        vertical-align: top;\n",
       "    }\n",
       "\n",
       "    .dataframe thead th {\n",
       "        text-align: right;\n",
       "    }\n",
       "</style>\n",
       "<table border=\"1\" class=\"dataframe\">\n",
       "  <thead>\n",
       "    <tr style=\"text-align: right;\">\n",
       "      <th></th>\n",
       "      <th>index</th>\n",
       "      <th>Conversation</th>\n",
       "      <th>A</th>\n",
       "      <th>B</th>\n",
       "    </tr>\n",
       "  </thead>\n",
       "  <tbody>\n",
       "    <tr>\n",
       "      <th>0</th>\n",
       "      <td>Ross, Rachel</td>\n",
       "      <td>0.179320</td>\n",
       "      <td>Ross</td>\n",
       "      <td>Rachel</td>\n",
       "    </tr>\n",
       "    <tr>\n",
       "      <th>1</th>\n",
       "      <td>Ross, Carol</td>\n",
       "      <td>0.136659</td>\n",
       "      <td>Ross</td>\n",
       "      <td>Carol</td>\n",
       "    </tr>\n",
       "    <tr>\n",
       "      <th>2</th>\n",
       "      <td>Chandler, Joey</td>\n",
       "      <td>0.117137</td>\n",
       "      <td>Chandler</td>\n",
       "      <td>Joey</td>\n",
       "    </tr>\n",
       "    <tr>\n",
       "      <th>3</th>\n",
       "      <td>Ross, Joey</td>\n",
       "      <td>0.101229</td>\n",
       "      <td>Ross</td>\n",
       "      <td>Joey</td>\n",
       "    </tr>\n",
       "    <tr>\n",
       "      <th>4</th>\n",
       "      <td>Rachel, Monica</td>\n",
       "      <td>0.100506</td>\n",
       "      <td>Rachel</td>\n",
       "      <td>Monica</td>\n",
       "    </tr>\n",
       "    <tr>\n",
       "      <th>5</th>\n",
       "      <td>Chandler, Phoebe</td>\n",
       "      <td>0.088214</td>\n",
       "      <td>Chandler</td>\n",
       "      <td>Phoebe</td>\n",
       "    </tr>\n",
       "    <tr>\n",
       "      <th>6</th>\n",
       "      <td>Chandler, Janice</td>\n",
       "      <td>0.070137</td>\n",
       "      <td>Chandler</td>\n",
       "      <td>Janice</td>\n",
       "    </tr>\n",
       "    <tr>\n",
       "      <th>7</th>\n",
       "      <td>Monica, Joey</td>\n",
       "      <td>0.059291</td>\n",
       "      <td>Monica</td>\n",
       "      <td>Joey</td>\n",
       "    </tr>\n",
       "    <tr>\n",
       "      <th>8</th>\n",
       "      <td>Phoebe, Rachel</td>\n",
       "      <td>0.034707</td>\n",
       "      <td>Phoebe</td>\n",
       "      <td>Rachel</td>\n",
       "    </tr>\n",
       "    <tr>\n",
       "      <th>9</th>\n",
       "      <td>Phoebe, Monica</td>\n",
       "      <td>0.033984</td>\n",
       "      <td>Phoebe</td>\n",
       "      <td>Monica</td>\n",
       "    </tr>\n",
       "    <tr>\n",
       "      <th>10</th>\n",
       "      <td>Ross, Chandler</td>\n",
       "      <td>0.031092</td>\n",
       "      <td>Ross</td>\n",
       "      <td>Chandler</td>\n",
       "    </tr>\n",
       "    <tr>\n",
       "      <th>11</th>\n",
       "      <td>Joey, Phoebe</td>\n",
       "      <td>0.019523</td>\n",
       "      <td>Joey</td>\n",
       "      <td>Phoebe</td>\n",
       "    </tr>\n",
       "    <tr>\n",
       "      <th>12</th>\n",
       "      <td>Chandler, Monica</td>\n",
       "      <td>0.018077</td>\n",
       "      <td>Chandler</td>\n",
       "      <td>Monica</td>\n",
       "    </tr>\n",
       "    <tr>\n",
       "      <th>13</th>\n",
       "      <td>Chandler, Rachel</td>\n",
       "      <td>0.007231</td>\n",
       "      <td>Chandler</td>\n",
       "      <td>Rachel</td>\n",
       "    </tr>\n",
       "    <tr>\n",
       "      <th>14</th>\n",
       "      <td>Ross, Phoebe</td>\n",
       "      <td>0.001446</td>\n",
       "      <td>Ross</td>\n",
       "      <td>Phoebe</td>\n",
       "    </tr>\n",
       "    <tr>\n",
       "      <th>15</th>\n",
       "      <td>Janice, Joey</td>\n",
       "      <td>0.001446</td>\n",
       "      <td>Janice</td>\n",
       "      <td>Joey</td>\n",
       "    </tr>\n",
       "  </tbody>\n",
       "</table>\n",
       "</div>"
      ],
      "text/plain": [
       "               index  Conversation         A          B\n",
       "0       Ross, Rachel      0.179320      Ross     Rachel\n",
       "1        Ross, Carol      0.136659      Ross      Carol\n",
       "2     Chandler, Joey      0.117137  Chandler       Joey\n",
       "3         Ross, Joey      0.101229      Ross       Joey\n",
       "4     Rachel, Monica      0.100506    Rachel     Monica\n",
       "5   Chandler, Phoebe      0.088214  Chandler     Phoebe\n",
       "6   Chandler, Janice      0.070137  Chandler     Janice\n",
       "7       Monica, Joey      0.059291    Monica       Joey\n",
       "8     Phoebe, Rachel      0.034707    Phoebe     Rachel\n",
       "9     Phoebe, Monica      0.033984    Phoebe     Monica\n",
       "10    Ross, Chandler      0.031092      Ross   Chandler\n",
       "11      Joey, Phoebe      0.019523      Joey     Phoebe\n",
       "12  Chandler, Monica      0.018077  Chandler     Monica\n",
       "13  Chandler, Rachel      0.007231  Chandler     Rachel\n",
       "14      Ross, Phoebe      0.001446      Ross     Phoebe\n",
       "15      Janice, Joey      0.001446    Janice       Joey"
      ]
     },
     "execution_count": 962,
     "metadata": {},
     "output_type": "execute_result"
    }
   ],
   "source": [
    "conversation_weights"
   ]
  },
  {
   "cell_type": "code",
   "execution_count": 963,
   "metadata": {},
   "outputs": [],
   "source": [
    "conversation_weights[\"A\"] = conversation_weights[\"A\"].str.strip()\n",
    "conversation_weights[\"B\"] = conversation_weights[\"B\"].str.strip()"
   ]
  },
  {
   "cell_type": "code",
   "execution_count": 964,
   "metadata": {},
   "outputs": [
    {
     "data": {
      "text/html": [
       "<div>\n",
       "<style scoped>\n",
       "    .dataframe tbody tr th:only-of-type {\n",
       "        vertical-align: middle;\n",
       "    }\n",
       "\n",
       "    .dataframe tbody tr th {\n",
       "        vertical-align: top;\n",
       "    }\n",
       "\n",
       "    .dataframe thead th {\n",
       "        text-align: right;\n",
       "    }\n",
       "</style>\n",
       "<table border=\"1\" class=\"dataframe\">\n",
       "  <thead>\n",
       "    <tr style=\"text-align: right;\">\n",
       "      <th></th>\n",
       "      <th>index</th>\n",
       "      <th>Conversation</th>\n",
       "      <th>A</th>\n",
       "      <th>B</th>\n",
       "    </tr>\n",
       "  </thead>\n",
       "  <tbody>\n",
       "    <tr>\n",
       "      <th>0</th>\n",
       "      <td>Ross, Rachel</td>\n",
       "      <td>0.179320</td>\n",
       "      <td>Ross</td>\n",
       "      <td>Rachel</td>\n",
       "    </tr>\n",
       "    <tr>\n",
       "      <th>1</th>\n",
       "      <td>Ross, Carol</td>\n",
       "      <td>0.136659</td>\n",
       "      <td>Ross</td>\n",
       "      <td>Carol</td>\n",
       "    </tr>\n",
       "    <tr>\n",
       "      <th>2</th>\n",
       "      <td>Chandler, Joey</td>\n",
       "      <td>0.117137</td>\n",
       "      <td>Chandler</td>\n",
       "      <td>Joey</td>\n",
       "    </tr>\n",
       "    <tr>\n",
       "      <th>3</th>\n",
       "      <td>Ross, Joey</td>\n",
       "      <td>0.101229</td>\n",
       "      <td>Ross</td>\n",
       "      <td>Joey</td>\n",
       "    </tr>\n",
       "    <tr>\n",
       "      <th>4</th>\n",
       "      <td>Rachel, Monica</td>\n",
       "      <td>0.100506</td>\n",
       "      <td>Rachel</td>\n",
       "      <td>Monica</td>\n",
       "    </tr>\n",
       "    <tr>\n",
       "      <th>5</th>\n",
       "      <td>Chandler, Phoebe</td>\n",
       "      <td>0.088214</td>\n",
       "      <td>Chandler</td>\n",
       "      <td>Phoebe</td>\n",
       "    </tr>\n",
       "    <tr>\n",
       "      <th>6</th>\n",
       "      <td>Chandler, Janice</td>\n",
       "      <td>0.070137</td>\n",
       "      <td>Chandler</td>\n",
       "      <td>Janice</td>\n",
       "    </tr>\n",
       "    <tr>\n",
       "      <th>7</th>\n",
       "      <td>Monica, Joey</td>\n",
       "      <td>0.059291</td>\n",
       "      <td>Monica</td>\n",
       "      <td>Joey</td>\n",
       "    </tr>\n",
       "    <tr>\n",
       "      <th>8</th>\n",
       "      <td>Phoebe, Rachel</td>\n",
       "      <td>0.034707</td>\n",
       "      <td>Phoebe</td>\n",
       "      <td>Rachel</td>\n",
       "    </tr>\n",
       "    <tr>\n",
       "      <th>9</th>\n",
       "      <td>Phoebe, Monica</td>\n",
       "      <td>0.033984</td>\n",
       "      <td>Phoebe</td>\n",
       "      <td>Monica</td>\n",
       "    </tr>\n",
       "    <tr>\n",
       "      <th>10</th>\n",
       "      <td>Ross, Chandler</td>\n",
       "      <td>0.031092</td>\n",
       "      <td>Ross</td>\n",
       "      <td>Chandler</td>\n",
       "    </tr>\n",
       "    <tr>\n",
       "      <th>11</th>\n",
       "      <td>Joey, Phoebe</td>\n",
       "      <td>0.019523</td>\n",
       "      <td>Joey</td>\n",
       "      <td>Phoebe</td>\n",
       "    </tr>\n",
       "    <tr>\n",
       "      <th>12</th>\n",
       "      <td>Chandler, Monica</td>\n",
       "      <td>0.018077</td>\n",
       "      <td>Chandler</td>\n",
       "      <td>Monica</td>\n",
       "    </tr>\n",
       "    <tr>\n",
       "      <th>13</th>\n",
       "      <td>Chandler, Rachel</td>\n",
       "      <td>0.007231</td>\n",
       "      <td>Chandler</td>\n",
       "      <td>Rachel</td>\n",
       "    </tr>\n",
       "    <tr>\n",
       "      <th>14</th>\n",
       "      <td>Ross, Phoebe</td>\n",
       "      <td>0.001446</td>\n",
       "      <td>Ross</td>\n",
       "      <td>Phoebe</td>\n",
       "    </tr>\n",
       "    <tr>\n",
       "      <th>15</th>\n",
       "      <td>Janice, Joey</td>\n",
       "      <td>0.001446</td>\n",
       "      <td>Janice</td>\n",
       "      <td>Joey</td>\n",
       "    </tr>\n",
       "  </tbody>\n",
       "</table>\n",
       "</div>"
      ],
      "text/plain": [
       "               index  Conversation         A         B\n",
       "0       Ross, Rachel      0.179320      Ross    Rachel\n",
       "1        Ross, Carol      0.136659      Ross     Carol\n",
       "2     Chandler, Joey      0.117137  Chandler      Joey\n",
       "3         Ross, Joey      0.101229      Ross      Joey\n",
       "4     Rachel, Monica      0.100506    Rachel    Monica\n",
       "5   Chandler, Phoebe      0.088214  Chandler    Phoebe\n",
       "6   Chandler, Janice      0.070137  Chandler    Janice\n",
       "7       Monica, Joey      0.059291    Monica      Joey\n",
       "8     Phoebe, Rachel      0.034707    Phoebe    Rachel\n",
       "9     Phoebe, Monica      0.033984    Phoebe    Monica\n",
       "10    Ross, Chandler      0.031092      Ross  Chandler\n",
       "11      Joey, Phoebe      0.019523      Joey    Phoebe\n",
       "12  Chandler, Monica      0.018077  Chandler    Monica\n",
       "13  Chandler, Rachel      0.007231  Chandler    Rachel\n",
       "14      Ross, Phoebe      0.001446      Ross    Phoebe\n",
       "15      Janice, Joey      0.001446    Janice      Joey"
      ]
     },
     "execution_count": 964,
     "metadata": {},
     "output_type": "execute_result"
    }
   ],
   "source": [
    "conversation_weights"
   ]
  },
  {
   "cell_type": "code",
   "execution_count": 965,
   "metadata": {},
   "outputs": [
    {
     "data": {
      "image/png": "[encoded data removed]",
      "text/plain": [
       "<Figure size 1080x648 with 1 Axes>"
      ]
     },
     "metadata": {},
     "output_type": "display_data"
    }
   ],
   "source": [
    "G = nx.Graph()\n",
    "G.add_node(\"Ross\", color='r')\n",
    "G.add_node(\"Rachel\", color='r')\n",
    "G.add_node(\"Phoebe\", color='b')\n",
    "G.add_node(\"Joey\", color='b')\n",
    "G.add_node(\"Chandler\", color='y')\n",
    "G.add_node(\"Monica\", color='y')\n",
    "G.add_node(\"Janice\", color='g')\n",
    "G.add_node(\"Carol\", color='g')\n",
    "\n",
    "for i in range(len(conversation_weights)):\n",
    "    G.add_edge(conversation_weights[\"A\"][i],conversation_weights[\"B\"][i], weight=round(conversation_weights[\"Conversation\"][i]*100))\n",
    "\n",
    "colors_nodes = nx.get_node_attributes(G,'color').values()\n",
    "weights = nx.get_edge_attributes(G,'weight').values()\n",
    "pos = nx.circular_layout(G)\n",
    "nx.draw(G, pos, \n",
    "        edge_color=\"grey\", \n",
    "        width=list(weights),\n",
    "        with_labels=True,\n",
    "        node_color= colors_nodes, node_size=1500)"
   ]
  },
  {
   "cell_type": "markdown",
   "metadata": {},
   "source": [
    "## CountVectorizer (most spoken words by two people)"
   ]
  },
  {
   "cell_type": "code",
   "execution_count": 966,
   "metadata": {},
   "outputs": [
    {
     "data": {
      "text/plain": [
       "<5594x20348 sparse matrix of type '<class 'numpy.int64'>'\n",
       "\twith 22855 stored elements in Compressed Sparse Row format>"
      ]
     },
     "execution_count": 966,
     "metadata": {},
     "output_type": "execute_result"
    }
   ],
   "source": [
    "vectorizer = CountVectorizer(ngram_range =(3,3))\n",
    "\n",
    "matrix = vectorizer.fit_transform(episode1_24[\"quote\"])\n",
    "matrix"
   ]
  },
  {
   "cell_type": "code",
   "execution_count": 967,
   "metadata": {},
   "outputs": [],
   "source": [
    "y = episode1_24.iloc[:, 4].values"
   ]
  },
  {
   "cell_type": "code",
   "execution_count": 968,
   "metadata": {},
   "outputs": [],
   "source": [
    "counts = pd.DataFrame(matrix.toarray(),index = list(y),\n",
    "                      columns=vectorizer.get_feature_names())\n",
    "counts = counts.groupby(counts.index).sum()"
   ]
  },
  {
   "cell_type": "code",
   "execution_count": 969,
   "metadata": {},
   "outputs": [
    {
     "data": {
      "text/plain": [
       "Index(['All', 'Chandler, Janice', 'Chandler, Joey', 'Chandler, Monica',\n",
       "       'Chandler, Phoebe', 'Chandler, Rachel', 'Janice, Joey', 'Joey, Phoebe',\n",
       "       'Monica & Rachel & Ross', 'Monica, Joey', 'Monica, Joey & Phoebe',\n",
       "       'Monica, Rachel, Chandler, Joey', 'Phoebe, Monica', 'Phoebe, Rachel',\n",
       "       'Rachel, Monica', 'Ross, Carol', 'Ross, Chandler', 'Ross, Joey',\n",
       "       'Ross, Phoebe', 'Ross, Rachel', 'The boys', 'The girls'],\n",
       "      dtype='object')"
      ]
     },
     "execution_count": 969,
     "metadata": {},
     "output_type": "execute_result"
    }
   ],
   "source": [
    "counts.T.columns"
   ]
  },
  {
   "cell_type": "code",
   "execution_count": 970,
   "metadata": {},
   "outputs": [
    {
     "data": {
      "text/plain": [
       "looking im looking       2\n",
       "to tell you              2\n",
       "it stop it               2\n",
       "im looking im            2\n",
       "you can wear             2\n",
       "tell you this            2\n",
       "just my lens             2\n",
       "its just my              2\n",
       "stop it stop             2\n",
       "for me to                2\n",
       "me to tell               2\n",
       "way for me               2\n",
       "oh my god                2\n",
       "brought you something    1\n",
       "hello funny valentine    1\n",
       "Name: Chandler, Janice, dtype: int64"
      ]
     },
     "execution_count": 970,
     "metadata": {},
     "output_type": "execute_result"
    }
   ],
   "source": [
    "counts.T[\"Chandler, Janice\"].sort_values(ascending = False).head(15)"
   ]
  },
  {
   "cell_type": "markdown",
   "metadata": {},
   "source": [
    "## TfidfVectorizer (most spoken words by two people)"
   ]
  },
  {
   "cell_type": "code",
   "execution_count": 971,
   "metadata": {},
   "outputs": [],
   "source": [
    "from sklearn.feature_extraction.text import TfidfVectorizer\n",
    "tfidf = TfidfVectorizer(ngram_range =(3,3))"
   ]
  },
  {
   "cell_type": "code",
   "execution_count": 972,
   "metadata": {},
   "outputs": [],
   "source": [
    "X = tfidf.fit_transform(episode1_24[\"quote\"])\n",
    "y = episode1_24.iloc[:, 4].values"
   ]
  },
  {
   "cell_type": "code",
   "execution_count": 973,
   "metadata": {},
   "outputs": [],
   "source": [
    "counts2 = pd.DataFrame(X.toarray(),index = list(y),\n",
    "                      columns=tfidf.get_feature_names())\n",
    "counts2 = counts2.groupby(counts2.index).sum()"
   ]
  },
  {
   "cell_type": "code",
   "execution_count": 974,
   "metadata": {},
   "outputs": [
    {
     "data": {
      "text/plain": [
       "its just my              1.284457\n",
       "just my lens             1.284457\n",
       "thats right each         1.000000\n",
       "how you doing            1.000000\n",
       "hey its janice           1.000000\n",
       "and yknow it             1.000000\n",
       "oh no dont               1.000000\n",
       "who invited who          1.000000\n",
       "big screen tv            1.000000\n",
       "are you ok               1.000000\n",
       "you got it               1.000000\n",
       "thats so sweet           1.000000\n",
       "brought you something    1.000000\n",
       "hello funny valentine    1.000000\n",
       "whatever you want        1.000000\n",
       "Name: Chandler, Janice, dtype: float64"
      ]
     },
     "execution_count": 974,
     "metadata": {},
     "output_type": "execute_result"
    }
   ],
   "source": [
    "counts2.T[\"Chandler, Janice\"].sort_values(ascending = False).head(15)"
   ]
  },
  {
   "cell_type": "code",
   "execution_count": null,
   "metadata": {},
   "outputs": [],
   "source": []
  }
 ],
 "metadata": {
  "kernelspec": {
   "display_name": "Python 3",
   "language": "python",
   "name": "python3"
  },
  "language_info": {
   "codemirror_mode": {
    "name": "ipython",
    "version": 3
   },
   "file_extension": ".py",
   "mimetype": "text/x-python",
   "name": "python",
   "nbconvert_exporter": "python",
   "pygments_lexer": "ipython3",
   "version": "3.8.5"
  },
  "toc": {
   "base_numbering": 1,
   "nav_menu": {},
   "number_sections": true,
   "sideBar": true,
   "skip_h1_title": false,
   "title_cell": "Table of Contents",
   "title_sidebar": "Contents",
   "toc_cell": false,
   "toc_position": {},
   "toc_section_display": true,
   "toc_window_display": false
  },
  "varInspector": {
   "cols": {
    "lenName": 16,
    "lenType": 16,
    "lenVar": 40
   },
   "kernels_config": {
    "python": {
     "delete_cmd_postfix": "",
     "delete_cmd_prefix": "del ",
     "library": "var_list.py",
     "varRefreshCmd": "print(var_dic_list())"
    },
    "r": {
     "delete_cmd_postfix": ") ",
     "delete_cmd_prefix": "rm(",
     "library": "var_list.r",
     "varRefreshCmd": "cat(var_dic_list()) "
    }
   },
   "types_to_exclude": [
    "module",
    "function",
    "builtin_function_or_method",
    "instance",
    "_Feature"
   ],
   "window_display": false
  }
 },
 "nbformat": 4,
 "nbformat_minor": 4
}
