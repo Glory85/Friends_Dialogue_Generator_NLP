{
  "nbformat": 4,
  "nbformat_minor": 0,
  "metadata": {
    "celltoolbar": "Slideshow",
    "colab": {
      "name": "Friends Dialogue Generator & Data Visualisation_Final Project.ipynb",
      "provenance": [],
      "collapsed_sections": [
        "Foy6rPwWi4cm",
        "qudJAsj7n3qJ",
        "Q4dekdhtoo1s",
        "vnyk9yWEq2YB",
        "tIP7YuCXSbc3",
        "iTOUjYfNUpsI",
        "3f8gn9DH4I-n"
      ]
    },
    "hide_input": false,
    "kernelspec": {
      "display_name": "Python 3",
      "language": "python",
      "name": "python3"
    },
    "language_info": {
      "codemirror_mode": {
        "name": "ipython",
        "version": 3
      },
      "file_extension": ".py",
      "mimetype": "text/x-python",
      "name": "python",
      "nbconvert_exporter": "python",
      "pygments_lexer": "ipython3",
      "version": "3.8.5"
    },
    "toc": {
      "base_numbering": 1,
      "nav_menu": {},
      "number_sections": true,
      "sideBar": true,
      "skip_h1_title": false,
      "title_cell": "Table of Contents",
      "title_sidebar": "Contents",
      "toc_cell": false,
      "toc_position": {},
      "toc_section_display": true,
      "toc_window_display": false
    },
    "varInspector": {
      "cols": {
        "lenName": 16,
        "lenType": 16,
        "lenVar": 40
      },
      "kernels_config": {
        "python": {
          "delete_cmd_postfix": "",
          "delete_cmd_prefix": "del ",
          "library": "var_list.py",
          "varRefreshCmd": "print(var_dic_list())"
        },
        "r": {
          "delete_cmd_postfix": ") ",
          "delete_cmd_prefix": "rm(",
          "library": "var_list.r",
          "varRefreshCmd": "cat(var_dic_list()) "
        }
      },
      "types_to_exclude": [
        "module",
        "function",
        "builtin_function_or_method",
        "instance",
        "_Feature"
      ],
      "window_display": false
    },
    "widgets": {
      "application/vnd.jupyter.widget-state+json": {
        "da3f504bbb3f47d6aec4b44b2edc4777": {
          "model_module": "@jupyter-widgets/controls",
          "model_name": "VBoxModel",
          "state": {
            "_view_name": "VBoxView",
            "_dom_classes": [
              "widget-interact"
            ],
            "_model_name": "VBoxModel",
            "_view_module": "@jupyter-widgets/controls",
            "_model_module_version": "1.5.0",
            "_view_count": null,
            "_view_module_version": "1.5.0",
            "box_style": "",
            "layout": "IPY_MODEL_91bfeeb280cd45448ae6453e0d462d6a",
            "_model_module": "@jupyter-widgets/controls",
            "children": [
              "IPY_MODEL_176a24fa31984f24bfc6ca58a6133f60",
              "IPY_MODEL_ddf8393511404d3780365eb6cc5f6534"
            ]
          }
        },
        "91bfeeb280cd45448ae6453e0d462d6a": {
          "model_module": "@jupyter-widgets/base",
          "model_name": "LayoutModel",
          "state": {
            "_view_name": "LayoutView",
            "grid_template_rows": null,
            "right": null,
            "justify_content": null,
            "_view_module": "@jupyter-widgets/base",
            "overflow": null,
            "_model_module_version": "1.2.0",
            "_view_count": null,
            "flex_flow": null,
            "width": null,
            "min_width": null,
            "border": null,
            "align_items": null,
            "bottom": null,
            "_model_module": "@jupyter-widgets/base",
            "top": null,
            "grid_column": null,
            "overflow_y": null,
            "overflow_x": null,
            "grid_auto_flow": null,
            "grid_area": null,
            "grid_template_columns": null,
            "flex": null,
            "_model_name": "LayoutModel",
            "justify_items": null,
            "grid_row": null,
            "max_height": null,
            "align_content": null,
            "visibility": null,
            "align_self": null,
            "height": null,
            "min_height": null,
            "padding": null,
            "grid_auto_rows": null,
            "grid_gap": null,
            "max_width": null,
            "order": null,
            "_view_module_version": "1.2.0",
            "grid_template_areas": null,
            "object_position": null,
            "object_fit": null,
            "grid_auto_columns": null,
            "margin": null,
            "display": null,
            "left": null
          }
        },
        "176a24fa31984f24bfc6ca58a6133f60": {
          "model_module": "@jupyter-widgets/controls",
          "model_name": "IntSliderModel",
          "state": {
            "_view_name": "IntSliderView",
            "style": "IPY_MODEL_ff4855087ca24ba9b502c9ed4071ee95",
            "_dom_classes": [],
            "description": "Season",
            "step": 1,
            "_model_name": "IntSliderModel",
            "orientation": "horizontal",
            "max": 10,
            "_view_module": "@jupyter-widgets/controls",
            "_model_module_version": "1.5.0",
            "value": 1,
            "_view_count": null,
            "disabled": false,
            "_view_module_version": "1.5.0",
            "min": 1,
            "continuous_update": true,
            "readout_format": "d",
            "description_tooltip": null,
            "readout": true,
            "_model_module": "@jupyter-widgets/controls",
            "layout": "IPY_MODEL_fa39de587a074b69bdf9f1096c1e6e7f"
          }
        },
        "ddf8393511404d3780365eb6cc5f6534": {
          "model_module": "@jupyter-widgets/output",
          "model_name": "OutputModel",
          "state": {
            "_view_name": "OutputView",
            "msg_id": "",
            "_dom_classes": [],
            "_model_name": "OutputModel",
            "outputs": [
              {
                "output_type": "display_data",
                "metadata": {
                  "tags": []
                },
                "image/png": "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\n",
                "text/plain": "<Figure size 504x504 with 1 Axes>"
              }
            ],
            "_view_module": "@jupyter-widgets/output",
            "_model_module_version": "1.0.0",
            "_view_count": null,
            "_view_module_version": "1.0.0",
            "layout": "IPY_MODEL_df14ab5477284cda9fc36f9f01124d79",
            "_model_module": "@jupyter-widgets/output"
          }
        },
        "ff4855087ca24ba9b502c9ed4071ee95": {
          "model_module": "@jupyter-widgets/controls",
          "model_name": "SliderStyleModel",
          "state": {
            "_view_name": "StyleView",
            "handle_color": null,
            "_model_name": "SliderStyleModel",
            "description_width": "",
            "_view_module": "@jupyter-widgets/base",
            "_model_module_version": "1.5.0",
            "_view_count": null,
            "_view_module_version": "1.2.0",
            "_model_module": "@jupyter-widgets/controls"
          }
        },
        "fa39de587a074b69bdf9f1096c1e6e7f": {
          "model_module": "@jupyter-widgets/base",
          "model_name": "LayoutModel",
          "state": {
            "_view_name": "LayoutView",
            "grid_template_rows": null,
            "right": null,
            "justify_content": null,
            "_view_module": "@jupyter-widgets/base",
            "overflow": null,
            "_model_module_version": "1.2.0",
            "_view_count": null,
            "flex_flow": null,
            "width": null,
            "min_width": null,
            "border": null,
            "align_items": null,
            "bottom": null,
            "_model_module": "@jupyter-widgets/base",
            "top": null,
            "grid_column": null,
            "overflow_y": null,
            "overflow_x": null,
            "grid_auto_flow": null,
            "grid_area": null,
            "grid_template_columns": null,
            "flex": null,
            "_model_name": "LayoutModel",
            "justify_items": null,
            "grid_row": null,
            "max_height": null,
            "align_content": null,
            "visibility": null,
            "align_self": null,
            "height": null,
            "min_height": null,
            "padding": null,
            "grid_auto_rows": null,
            "grid_gap": null,
            "max_width": null,
            "order": null,
            "_view_module_version": "1.2.0",
            "grid_template_areas": null,
            "object_position": null,
            "object_fit": null,
            "grid_auto_columns": null,
            "margin": null,
            "display": null,
            "left": null
          }
        },
        "df14ab5477284cda9fc36f9f01124d79": {
          "model_module": "@jupyter-widgets/base",
          "model_name": "LayoutModel",
          "state": {
            "_view_name": "LayoutView",
            "grid_template_rows": null,
            "right": null,
            "justify_content": null,
            "_view_module": "@jupyter-widgets/base",
            "overflow": null,
            "_model_module_version": "1.2.0",
            "_view_count": null,
            "flex_flow": null,
            "width": null,
            "min_width": null,
            "border": null,
            "align_items": null,
            "bottom": null,
            "_model_module": "@jupyter-widgets/base",
            "top": null,
            "grid_column": null,
            "overflow_y": null,
            "overflow_x": null,
            "grid_auto_flow": null,
            "grid_area": null,
            "grid_template_columns": null,
            "flex": null,
            "_model_name": "LayoutModel",
            "justify_items": null,
            "grid_row": null,
            "max_height": null,
            "align_content": null,
            "visibility": null,
            "align_self": null,
            "height": null,
            "min_height": null,
            "padding": null,
            "grid_auto_rows": null,
            "grid_gap": null,
            "max_width": null,
            "order": null,
            "_view_module_version": "1.2.0",
            "grid_template_areas": null,
            "object_position": null,
            "object_fit": null,
            "grid_auto_columns": null,
            "margin": null,
            "display": null,
            "left": null
          }
        },
        "3f5282c127904e8186ffc471f8b118ea": {
          "model_module": "@jupyter-widgets/controls",
          "model_name": "VBoxModel",
          "state": {
            "_view_name": "VBoxView",
            "_dom_classes": [
              "widget-interact"
            ],
            "_model_name": "VBoxModel",
            "_view_module": "@jupyter-widgets/controls",
            "_model_module_version": "1.5.0",
            "_view_count": null,
            "_view_module_version": "1.5.0",
            "box_style": "",
            "layout": "IPY_MODEL_982d7c9bec434614bb9f4ec1ac2cd149",
            "_model_module": "@jupyter-widgets/controls",
            "children": [
              "IPY_MODEL_43cb764edd5647a68bac3c1c575d3c4b",
              "IPY_MODEL_27ff598c4fb64bb29b89faa0969309d9"
            ]
          }
        },
        "982d7c9bec434614bb9f4ec1ac2cd149": {
          "model_module": "@jupyter-widgets/base",
          "model_name": "LayoutModel",
          "state": {
            "_view_name": "LayoutView",
            "grid_template_rows": null,
            "right": null,
            "justify_content": null,
            "_view_module": "@jupyter-widgets/base",
            "overflow": null,
            "_model_module_version": "1.2.0",
            "_view_count": null,
            "flex_flow": null,
            "width": null,
            "min_width": null,
            "border": null,
            "align_items": null,
            "bottom": null,
            "_model_module": "@jupyter-widgets/base",
            "top": null,
            "grid_column": null,
            "overflow_y": null,
            "overflow_x": null,
            "grid_auto_flow": null,
            "grid_area": null,
            "grid_template_columns": null,
            "flex": null,
            "_model_name": "LayoutModel",
            "justify_items": null,
            "grid_row": null,
            "max_height": null,
            "align_content": null,
            "visibility": null,
            "align_self": null,
            "height": null,
            "min_height": null,
            "padding": null,
            "grid_auto_rows": null,
            "grid_gap": null,
            "max_width": null,
            "order": null,
            "_view_module_version": "1.2.0",
            "grid_template_areas": null,
            "object_position": null,
            "object_fit": null,
            "grid_auto_columns": null,
            "margin": null,
            "display": null,
            "left": null
          }
        },
        "43cb764edd5647a68bac3c1c575d3c4b": {
          "model_module": "@jupyter-widgets/controls",
          "model_name": "DropdownModel",
          "state": {
            "_options_labels": [
              "Chandler",
              "Joey",
              "Monica",
              "Phoebe",
              "Rachel",
              "Ross"
            ],
            "_view_name": "DropdownView",
            "style": "IPY_MODEL_814a2309a6244b978a99c87298487540",
            "_dom_classes": [],
            "description": "actor",
            "_model_name": "DropdownModel",
            "index": 0,
            "_view_module": "@jupyter-widgets/controls",
            "_model_module_version": "1.5.0",
            "_view_count": null,
            "disabled": false,
            "_view_module_version": "1.5.0",
            "description_tooltip": null,
            "_model_module": "@jupyter-widgets/controls",
            "layout": "IPY_MODEL_ed89e3ecff8e4e8d8de4dd53dfc93db1"
          }
        },
        "27ff598c4fb64bb29b89faa0969309d9": {
          "model_module": "@jupyter-widgets/output",
          "model_name": "OutputModel",
          "state": {
            "_view_name": "OutputView",
            "msg_id": "",
            "_dom_classes": [],
            "_model_name": "OutputModel",
            "outputs": [
              {
                "output_type": "display_data",
                "metadata": {
                  "tags": []
                },
                "text/html": "<html>\n<head><meta charset=\"utf-8\" /></head>\n<body>\n    <div>\n            <script src=\"https://cdnjs.cloudflare.com/ajax/libs/mathjax/2.7.5/MathJax.js?config=TeX-AMS-MML_SVG\"></script><script type=\"text/javascript\">if (window.MathJax) {MathJax.Hub.Config({SVG: {font: \"STIX-Web\"}});}</script>\n                <script type=\"text/javascript\">window.PlotlyConfig = {MathJaxConfig: 'local'};</script>\n        <script src=\"https://cdn.plot.ly/plotly-latest.min.js\"></script>    \n            <div id=\"0e066e37-83ca-40b3-978b-fb3d0aa065e8\" class=\"plotly-graph-div\" style=\"height:525px; width:100%;\"></div>\n            <script type=\"text/javascript\">\n                \n                    window.PLOTLYENV=window.PLOTLYENV || {};\n                    \n                if (document.getElementById(\"0e066e37-83ca-40b3-978b-fb3d0aa065e8\")) {\n                    Plotly.newPlot(\n                        '0e066e37-83ca-40b3-978b-fb3d0aa065e8',\n                        [{\"hovertemplate\": \"%{y}: %{x}\", \"name\": \"Negative\", \"orientation\": \"h\", \"type\": \"bar\", \"x\": [-64, -40, -34, -22, -22, -15, -15, -13, -12, -11, 0, 0, 0, 0, 0, 0, 0, 0, 0, 0], \"y\": [\"bad\", \"crazy\", \"stupid\", \"hate\", \"mad\", \"horrible\", \"worst\", \"cold\", \"afraid\", \"chicken\", \"perfect\", \"amazing\", \"win\", \"beautiful\", \"happy\", \"kind\", \"best\", \"nice\", \"great\", \"good\"]}, {\"hovertemplate\": \"%{y}: %{x}\", \"name\": \"Positive\", \"orientation\": \"h\", \"type\": \"bar\", \"x\": [0, 0, 0, 0, 0, 0, 0, 0, 0, 0, 21, 23, 29, 33, 42, 45, 51, 74, 168, 206], \"y\": [\"bad\", \"crazy\", \"stupid\", \"hate\", \"mad\", \"horrible\", \"worst\", \"cold\", \"afraid\", \"chicken\", \"perfect\", \"amazing\", \"win\", \"beautiful\", \"happy\", \"kind\", \"best\", \"nice\", \"great\", \"good\"]}],\n                        {\"template\": {\"data\": {\"bar\": [{\"error_x\": {\"color\": \"#2a3f5f\"}, \"error_y\": {\"color\": \"#2a3f5f\"}, \"marker\": {\"line\": {\"color\": \"#E5ECF6\", \"width\": 0.5}}, \"type\": \"bar\"}], \"barpolar\": [{\"marker\": {\"line\": {\"color\": \"#E5ECF6\", \"width\": 0.5}}, \"type\": \"barpolar\"}], \"carpet\": [{\"aaxis\": {\"endlinecolor\": \"#2a3f5f\", \"gridcolor\": \"white\", \"linecolor\": \"white\", \"minorgridcolor\": \"white\", \"startlinecolor\": \"#2a3f5f\"}, \"baxis\": {\"endlinecolor\": \"#2a3f5f\", \"gridcolor\": \"white\", \"linecolor\": \"white\", \"minorgridcolor\": \"white\", \"startlinecolor\": \"#2a3f5f\"}, \"type\": \"carpet\"}], \"choropleth\": [{\"colorbar\": {\"outlinewidth\": 0, \"ticks\": \"\"}, \"type\": \"choropleth\"}], \"contour\": [{\"colorbar\": {\"outlinewidth\": 0, \"ticks\": \"\"}, \"colorscale\": [[0.0, \"#0d0887\"], [0.1111111111111111, \"#46039f\"], [0.2222222222222222, \"#7201a8\"], [0.3333333333333333, \"#9c179e\"], [0.4444444444444444, \"#bd3786\"], [0.5555555555555556, \"#d8576b\"], [0.6666666666666666, \"#ed7953\"], [0.7777777777777778, \"#fb9f3a\"], [0.8888888888888888, \"#fdca26\"], [1.0, \"#f0f921\"]], \"type\": \"contour\"}], \"contourcarpet\": [{\"colorbar\": {\"outlinewidth\": 0, \"ticks\": \"\"}, \"type\": \"contourcarpet\"}], \"heatmap\": [{\"colorbar\": {\"outlinewidth\": 0, \"ticks\": \"\"}, \"colorscale\": [[0.0, \"#0d0887\"], [0.1111111111111111, \"#46039f\"], [0.2222222222222222, \"#7201a8\"], [0.3333333333333333, \"#9c179e\"], [0.4444444444444444, \"#bd3786\"], [0.5555555555555556, \"#d8576b\"], [0.6666666666666666, \"#ed7953\"], [0.7777777777777778, \"#fb9f3a\"], [0.8888888888888888, \"#fdca26\"], [1.0, \"#f0f921\"]], \"type\": \"heatmap\"}], \"heatmapgl\": [{\"colorbar\": {\"outlinewidth\": 0, \"ticks\": \"\"}, \"colorscale\": [[0.0, \"#0d0887\"], [0.1111111111111111, \"#46039f\"], [0.2222222222222222, \"#7201a8\"], [0.3333333333333333, \"#9c179e\"], [0.4444444444444444, \"#bd3786\"], [0.5555555555555556, \"#d8576b\"], [0.6666666666666666, \"#ed7953\"], [0.7777777777777778, \"#fb9f3a\"], [0.8888888888888888, \"#fdca26\"], [1.0, \"#f0f921\"]], \"type\": \"heatmapgl\"}], \"histogram\": [{\"marker\": {\"colorbar\": {\"outlinewidth\": 0, \"ticks\": \"\"}}, \"type\": \"histogram\"}], \"histogram2d\": [{\"colorbar\": {\"outlinewidth\": 0, \"ticks\": \"\"}, \"colorscale\": [[0.0, \"#0d0887\"], [0.1111111111111111, \"#46039f\"], [0.2222222222222222, \"#7201a8\"], [0.3333333333333333, \"#9c179e\"], [0.4444444444444444, \"#bd3786\"], [0.5555555555555556, \"#d8576b\"], [0.6666666666666666, \"#ed7953\"], [0.7777777777777778, \"#fb9f3a\"], [0.8888888888888888, \"#fdca26\"], [1.0, \"#f0f921\"]], \"type\": \"histogram2d\"}], \"histogram2dcontour\": [{\"colorbar\": {\"outlinewidth\": 0, \"ticks\": \"\"}, \"colorscale\": [[0.0, \"#0d0887\"], [0.1111111111111111, \"#46039f\"], [0.2222222222222222, \"#7201a8\"], [0.3333333333333333, \"#9c179e\"], [0.4444444444444444, \"#bd3786\"], [0.5555555555555556, \"#d8576b\"], [0.6666666666666666, \"#ed7953\"], [0.7777777777777778, \"#fb9f3a\"], [0.8888888888888888, \"#fdca26\"], [1.0, \"#f0f921\"]], \"type\": \"histogram2dcontour\"}], \"mesh3d\": [{\"colorbar\": {\"outlinewidth\": 0, \"ticks\": \"\"}, \"type\": \"mesh3d\"}], \"parcoords\": [{\"line\": {\"colorbar\": {\"outlinewidth\": 0, \"ticks\": \"\"}}, \"type\": \"parcoords\"}], \"pie\": [{\"automargin\": true, \"type\": \"pie\"}], \"scatter\": [{\"marker\": {\"colorbar\": {\"outlinewidth\": 0, \"ticks\": \"\"}}, \"type\": \"scatter\"}], \"scatter3d\": [{\"line\": {\"colorbar\": {\"outlinewidth\": 0, \"ticks\": \"\"}}, \"marker\": {\"colorbar\": {\"outlinewidth\": 0, \"ticks\": \"\"}}, \"type\": \"scatter3d\"}], \"scattercarpet\": [{\"marker\": {\"colorbar\": {\"outlinewidth\": 0, \"ticks\": \"\"}}, \"type\": \"scattercarpet\"}], \"scattergeo\": [{\"marker\": {\"colorbar\": {\"outlinewidth\": 0, \"ticks\": \"\"}}, \"type\": \"scattergeo\"}], \"scattergl\": [{\"marker\": {\"colorbar\": {\"outlinewidth\": 0, \"ticks\": \"\"}}, \"type\": \"scattergl\"}], \"scattermapbox\": [{\"marker\": {\"colorbar\": {\"outlinewidth\": 0, \"ticks\": \"\"}}, \"type\": \"scattermapbox\"}], \"scatterpolar\": [{\"marker\": {\"colorbar\": {\"outlinewidth\": 0, \"ticks\": \"\"}}, \"type\": \"scatterpolar\"}], \"scatterpolargl\": [{\"marker\": {\"colorbar\": {\"outlinewidth\": 0, \"ticks\": \"\"}}, \"type\": \"scatterpolargl\"}], \"scatterternary\": [{\"marker\": {\"colorbar\": {\"outlinewidth\": 0, \"ticks\": \"\"}}, \"type\": \"scatterternary\"}], \"surface\": [{\"colorbar\": {\"outlinewidth\": 0, \"ticks\": \"\"}, \"colorscale\": [[0.0, \"#0d0887\"], [0.1111111111111111, \"#46039f\"], [0.2222222222222222, \"#7201a8\"], [0.3333333333333333, \"#9c179e\"], [0.4444444444444444, \"#bd3786\"], [0.5555555555555556, \"#d8576b\"], [0.6666666666666666, \"#ed7953\"], [0.7777777777777778, \"#fb9f3a\"], [0.8888888888888888, \"#fdca26\"], [1.0, \"#f0f921\"]], \"type\": \"surface\"}], \"table\": [{\"cells\": {\"fill\": {\"color\": \"#EBF0F8\"}, \"line\": {\"color\": \"white\"}}, \"header\": {\"fill\": {\"color\": \"#C8D4E3\"}, \"line\": {\"color\": \"white\"}}, \"type\": \"table\"}]}, \"layout\": {\"annotationdefaults\": {\"arrowcolor\": \"#2a3f5f\", \"arrowhead\": 0, \"arrowwidth\": 1}, \"coloraxis\": {\"colorbar\": {\"outlinewidth\": 0, \"ticks\": \"\"}}, \"colorscale\": {\"diverging\": [[0, \"#8e0152\"], [0.1, \"#c51b7d\"], [0.2, \"#de77ae\"], [0.3, \"#f1b6da\"], [0.4, \"#fde0ef\"], [0.5, \"#f7f7f7\"], [0.6, \"#e6f5d0\"], [0.7, \"#b8e186\"], [0.8, \"#7fbc41\"], [0.9, \"#4d9221\"], [1, \"#276419\"]], \"sequential\": [[0.0, \"#0d0887\"], [0.1111111111111111, \"#46039f\"], [0.2222222222222222, \"#7201a8\"], [0.3333333333333333, \"#9c179e\"], [0.4444444444444444, \"#bd3786\"], [0.5555555555555556, \"#d8576b\"], [0.6666666666666666, \"#ed7953\"], [0.7777777777777778, \"#fb9f3a\"], [0.8888888888888888, \"#fdca26\"], [1.0, \"#f0f921\"]], \"sequentialminus\": [[0.0, \"#0d0887\"], [0.1111111111111111, \"#46039f\"], [0.2222222222222222, \"#7201a8\"], [0.3333333333333333, \"#9c179e\"], [0.4444444444444444, \"#bd3786\"], [0.5555555555555556, \"#d8576b\"], [0.6666666666666666, \"#ed7953\"], [0.7777777777777778, \"#fb9f3a\"], [0.8888888888888888, \"#fdca26\"], [1.0, \"#f0f921\"]]}, \"colorway\": [\"#636efa\", \"#EF553B\", \"#00cc96\", \"#ab63fa\", \"#FFA15A\", \"#19d3f3\", \"#FF6692\", \"#B6E880\", \"#FF97FF\", \"#FECB52\"], \"font\": {\"color\": \"#2a3f5f\"}, \"geo\": {\"bgcolor\": \"white\", \"lakecolor\": \"white\", \"landcolor\": \"#E5ECF6\", \"showlakes\": true, \"showland\": true, \"subunitcolor\": \"white\"}, \"hoverlabel\": {\"align\": \"left\"}, \"hovermode\": \"closest\", \"mapbox\": {\"style\": \"light\"}, \"paper_bgcolor\": \"white\", \"plot_bgcolor\": \"#E5ECF6\", \"polar\": {\"angularaxis\": {\"gridcolor\": \"white\", \"linecolor\": \"white\", \"ticks\": \"\"}, \"bgcolor\": \"#E5ECF6\", \"radialaxis\": {\"gridcolor\": \"white\", \"linecolor\": \"white\", \"ticks\": \"\"}}, \"scene\": {\"xaxis\": {\"backgroundcolor\": \"#E5ECF6\", \"gridcolor\": \"white\", \"gridwidth\": 2, \"linecolor\": \"white\", \"showbackground\": true, \"ticks\": \"\", \"zerolinecolor\": \"white\"}, \"yaxis\": {\"backgroundcolor\": \"#E5ECF6\", \"gridcolor\": \"white\", \"gridwidth\": 2, \"linecolor\": \"white\", \"showbackground\": true, \"ticks\": \"\", \"zerolinecolor\": \"white\"}, \"zaxis\": {\"backgroundcolor\": \"#E5ECF6\", \"gridcolor\": \"white\", \"gridwidth\": 2, \"linecolor\": \"white\", \"showbackground\": true, \"ticks\": \"\", \"zerolinecolor\": \"white\"}}, \"shapedefaults\": {\"line\": {\"color\": \"#2a3f5f\"}}, \"ternary\": {\"aaxis\": {\"gridcolor\": \"white\", \"linecolor\": \"white\", \"ticks\": \"\"}, \"baxis\": {\"gridcolor\": \"white\", \"linecolor\": \"white\", \"ticks\": \"\"}, \"bgcolor\": \"#E5ECF6\", \"caxis\": {\"gridcolor\": \"white\", \"linecolor\": \"white\", \"ticks\": \"\"}}, \"title\": {\"x\": 0.05}, \"xaxis\": {\"automargin\": true, \"gridcolor\": \"white\", \"linecolor\": \"white\", \"ticks\": \"\", \"title\": {\"standoff\": 15}, \"zerolinecolor\": \"white\", \"zerolinewidth\": 2}, \"yaxis\": {\"automargin\": true, \"gridcolor\": \"white\", \"linecolor\": \"white\", \"ticks\": \"\", \"title\": {\"standoff\": 15}, \"zerolinecolor\": \"white\", \"zerolinewidth\": 2}}}, \"title\": {\"text\": \"Chandler's Sentiment Analysis\"}},\n                        {\"responsive\": true}\n                    ).then(function(){\n                            \nvar gd = document.getElementById('0e066e37-83ca-40b3-978b-fb3d0aa065e8');\nvar x = new MutationObserver(function (mutations, observer) {{\n        var display = window.getComputedStyle(gd).display;\n        if (!display || display === 'none') {{\n            console.log([gd, 'removed!']);\n            Plotly.purge(gd);\n            observer.disconnect();\n        }}\n}});\n\n// Listen for the removal of the full notebook cells\nvar notebookContainer = gd.closest('#notebook-container');\nif (notebookContainer) {{\n    x.observe(notebookContainer, {childList: true});\n}}\n\n// Listen for the clearing of the current output cell\nvar outputEl = gd.closest('.output');\nif (outputEl) {{\n    x.observe(outputEl, {childList: true});\n}}\n\n                        })\n                };\n                \n            </script>\n        </div>\n</body>\n</html>"
              }
            ],
            "_view_module": "@jupyter-widgets/output",
            "_model_module_version": "1.0.0",
            "_view_count": null,
            "_view_module_version": "1.0.0",
            "layout": "IPY_MODEL_0e2d875219984e38a9c6c42f017cec1a",
            "_model_module": "@jupyter-widgets/output"
          }
        },
        "814a2309a6244b978a99c87298487540": {
          "model_module": "@jupyter-widgets/controls",
          "model_name": "DescriptionStyleModel",
          "state": {
            "_view_name": "StyleView",
            "_model_name": "DescriptionStyleModel",
            "description_width": "",
            "_view_module": "@jupyter-widgets/base",
            "_model_module_version": "1.5.0",
            "_view_count": null,
            "_view_module_version": "1.2.0",
            "_model_module": "@jupyter-widgets/controls"
          }
        },
        "ed89e3ecff8e4e8d8de4dd53dfc93db1": {
          "model_module": "@jupyter-widgets/base",
          "model_name": "LayoutModel",
          "state": {
            "_view_name": "LayoutView",
            "grid_template_rows": null,
            "right": null,
            "justify_content": null,
            "_view_module": "@jupyter-widgets/base",
            "overflow": null,
            "_model_module_version": "1.2.0",
            "_view_count": null,
            "flex_flow": null,
            "width": null,
            "min_width": null,
            "border": null,
            "align_items": null,
            "bottom": null,
            "_model_module": "@jupyter-widgets/base",
            "top": null,
            "grid_column": null,
            "overflow_y": null,
            "overflow_x": null,
            "grid_auto_flow": null,
            "grid_area": null,
            "grid_template_columns": null,
            "flex": null,
            "_model_name": "LayoutModel",
            "justify_items": null,
            "grid_row": null,
            "max_height": null,
            "align_content": null,
            "visibility": null,
            "align_self": null,
            "height": null,
            "min_height": null,
            "padding": null,
            "grid_auto_rows": null,
            "grid_gap": null,
            "max_width": null,
            "order": null,
            "_view_module_version": "1.2.0",
            "grid_template_areas": null,
            "object_position": null,
            "object_fit": null,
            "grid_auto_columns": null,
            "margin": null,
            "display": null,
            "left": null
          }
        },
        "0e2d875219984e38a9c6c42f017cec1a": {
          "model_module": "@jupyter-widgets/base",
          "model_name": "LayoutModel",
          "state": {
            "_view_name": "LayoutView",
            "grid_template_rows": null,
            "right": null,
            "justify_content": null,
            "_view_module": "@jupyter-widgets/base",
            "overflow": null,
            "_model_module_version": "1.2.0",
            "_view_count": null,
            "flex_flow": null,
            "width": null,
            "min_width": null,
            "border": null,
            "align_items": null,
            "bottom": null,
            "_model_module": "@jupyter-widgets/base",
            "top": null,
            "grid_column": null,
            "overflow_y": null,
            "overflow_x": null,
            "grid_auto_flow": null,
            "grid_area": null,
            "grid_template_columns": null,
            "flex": null,
            "_model_name": "LayoutModel",
            "justify_items": null,
            "grid_row": null,
            "max_height": null,
            "align_content": null,
            "visibility": null,
            "align_self": null,
            "height": null,
            "min_height": null,
            "padding": null,
            "grid_auto_rows": null,
            "grid_gap": null,
            "max_width": null,
            "order": null,
            "_view_module_version": "1.2.0",
            "grid_template_areas": null,
            "object_position": null,
            "object_fit": null,
            "grid_auto_columns": null,
            "margin": null,
            "display": null,
            "left": null
          }
        },
        "8c885ea1edbb4b4cab16034837b40f6b": {
          "model_module": "@jupyter-widgets/controls",
          "model_name": "HBoxModel",
          "state": {
            "_view_name": "HBoxView",
            "_dom_classes": [],
            "_model_name": "HBoxModel",
            "_view_module": "@jupyter-widgets/controls",
            "_model_module_version": "1.5.0",
            "_view_count": null,
            "_view_module_version": "1.5.0",
            "box_style": "",
            "layout": "IPY_MODEL_f07e78b6adaf4079b8e697752059299d",
            "_model_module": "@jupyter-widgets/controls",
            "children": [
              "IPY_MODEL_1b50293479e146929d34901f2ed47d22",
              "IPY_MODEL_938cfaaec4a84192bf24a024a164681f"
            ]
          }
        },
        "f07e78b6adaf4079b8e697752059299d": {
          "model_module": "@jupyter-widgets/base",
          "model_name": "LayoutModel",
          "state": {
            "_view_name": "LayoutView",
            "grid_template_rows": null,
            "right": null,
            "justify_content": null,
            "_view_module": "@jupyter-widgets/base",
            "overflow": null,
            "_model_module_version": "1.2.0",
            "_view_count": null,
            "flex_flow": null,
            "width": null,
            "min_width": null,
            "border": null,
            "align_items": null,
            "bottom": null,
            "_model_module": "@jupyter-widgets/base",
            "top": null,
            "grid_column": null,
            "overflow_y": null,
            "overflow_x": null,
            "grid_auto_flow": null,
            "grid_area": null,
            "grid_template_columns": null,
            "flex": null,
            "_model_name": "LayoutModel",
            "justify_items": null,
            "grid_row": null,
            "max_height": null,
            "align_content": null,
            "visibility": null,
            "align_self": null,
            "height": null,
            "min_height": null,
            "padding": null,
            "grid_auto_rows": null,
            "grid_gap": null,
            "max_width": null,
            "order": null,
            "_view_module_version": "1.2.0",
            "grid_template_areas": null,
            "object_position": null,
            "object_fit": null,
            "grid_auto_columns": null,
            "margin": null,
            "display": null,
            "left": null
          }
        },
        "1b50293479e146929d34901f2ed47d22": {
          "model_module": "@jupyter-widgets/controls",
          "model_name": "FloatProgressModel",
          "state": {
            "_view_name": "ProgressView",
            "style": "IPY_MODEL_07387cd2d8d64e48bc248e1969dca0c7",
            "_dom_classes": [],
            "description": "Downloading: 100%",
            "_model_name": "FloatProgressModel",
            "bar_style": "success",
            "max": 26,
            "_view_module": "@jupyter-widgets/controls",
            "_model_module_version": "1.5.0",
            "value": 26,
            "_view_count": null,
            "_view_module_version": "1.5.0",
            "orientation": "horizontal",
            "min": 0,
            "description_tooltip": null,
            "_model_module": "@jupyter-widgets/controls",
            "layout": "IPY_MODEL_fbb504f40f234d07a4a71dea37d32b6e"
          }
        },
        "938cfaaec4a84192bf24a024a164681f": {
          "model_module": "@jupyter-widgets/controls",
          "model_name": "HTMLModel",
          "state": {
            "_view_name": "HTMLView",
            "style": "IPY_MODEL_f9fc84dd25994013b4af3f55bd9bf07c",
            "_dom_classes": [],
            "description": "",
            "_model_name": "HTMLModel",
            "placeholder": "​",
            "_view_module": "@jupyter-widgets/controls",
            "_model_module_version": "1.5.0",
            "value": " 26.0/26.0 [00:00&lt;00:00, 33.7B/s]",
            "_view_count": null,
            "_view_module_version": "1.5.0",
            "description_tooltip": null,
            "_model_module": "@jupyter-widgets/controls",
            "layout": "IPY_MODEL_c13fafe8dbdb459aab2092abed056b72"
          }
        },
        "07387cd2d8d64e48bc248e1969dca0c7": {
          "model_module": "@jupyter-widgets/controls",
          "model_name": "ProgressStyleModel",
          "state": {
            "_view_name": "StyleView",
            "_model_name": "ProgressStyleModel",
            "description_width": "initial",
            "_view_module": "@jupyter-widgets/base",
            "_model_module_version": "1.5.0",
            "_view_count": null,
            "_view_module_version": "1.2.0",
            "bar_color": null,
            "_model_module": "@jupyter-widgets/controls"
          }
        },
        "fbb504f40f234d07a4a71dea37d32b6e": {
          "model_module": "@jupyter-widgets/base",
          "model_name": "LayoutModel",
          "state": {
            "_view_name": "LayoutView",
            "grid_template_rows": null,
            "right": null,
            "justify_content": null,
            "_view_module": "@jupyter-widgets/base",
            "overflow": null,
            "_model_module_version": "1.2.0",
            "_view_count": null,
            "flex_flow": null,
            "width": null,
            "min_width": null,
            "border": null,
            "align_items": null,
            "bottom": null,
            "_model_module": "@jupyter-widgets/base",
            "top": null,
            "grid_column": null,
            "overflow_y": null,
            "overflow_x": null,
            "grid_auto_flow": null,
            "grid_area": null,
            "grid_template_columns": null,
            "flex": null,
            "_model_name": "LayoutModel",
            "justify_items": null,
            "grid_row": null,
            "max_height": null,
            "align_content": null,
            "visibility": null,
            "align_self": null,
            "height": null,
            "min_height": null,
            "padding": null,
            "grid_auto_rows": null,
            "grid_gap": null,
            "max_width": null,
            "order": null,
            "_view_module_version": "1.2.0",
            "grid_template_areas": null,
            "object_position": null,
            "object_fit": null,
            "grid_auto_columns": null,
            "margin": null,
            "display": null,
            "left": null
          }
        },
        "f9fc84dd25994013b4af3f55bd9bf07c": {
          "model_module": "@jupyter-widgets/controls",
          "model_name": "DescriptionStyleModel",
          "state": {
            "_view_name": "StyleView",
            "_model_name": "DescriptionStyleModel",
            "description_width": "",
            "_view_module": "@jupyter-widgets/base",
            "_model_module_version": "1.5.0",
            "_view_count": null,
            "_view_module_version": "1.2.0",
            "_model_module": "@jupyter-widgets/controls"
          }
        },
        "c13fafe8dbdb459aab2092abed056b72": {
          "model_module": "@jupyter-widgets/base",
          "model_name": "LayoutModel",
          "state": {
            "_view_name": "LayoutView",
            "grid_template_rows": null,
            "right": null,
            "justify_content": null,
            "_view_module": "@jupyter-widgets/base",
            "overflow": null,
            "_model_module_version": "1.2.0",
            "_view_count": null,
            "flex_flow": null,
            "width": null,
            "min_width": null,
            "border": null,
            "align_items": null,
            "bottom": null,
            "_model_module": "@jupyter-widgets/base",
            "top": null,
            "grid_column": null,
            "overflow_y": null,
            "overflow_x": null,
            "grid_auto_flow": null,
            "grid_area": null,
            "grid_template_columns": null,
            "flex": null,
            "_model_name": "LayoutModel",
            "justify_items": null,
            "grid_row": null,
            "max_height": null,
            "align_content": null,
            "visibility": null,
            "align_self": null,
            "height": null,
            "min_height": null,
            "padding": null,
            "grid_auto_rows": null,
            "grid_gap": null,
            "max_width": null,
            "order": null,
            "_view_module_version": "1.2.0",
            "grid_template_areas": null,
            "object_position": null,
            "object_fit": null,
            "grid_auto_columns": null,
            "margin": null,
            "display": null,
            "left": null
          }
        },
        "aae15e6082794a908151b48842080794": {
          "model_module": "@jupyter-widgets/controls",
          "model_name": "HBoxModel",
          "state": {
            "_view_name": "HBoxView",
            "_dom_classes": [],
            "_model_name": "HBoxModel",
            "_view_module": "@jupyter-widgets/controls",
            "_model_module_version": "1.5.0",
            "_view_count": null,
            "_view_module_version": "1.5.0",
            "box_style": "",
            "layout": "IPY_MODEL_d1f5a84da98746b7baf4537deab79412",
            "_model_module": "@jupyter-widgets/controls",
            "children": [
              "IPY_MODEL_4f95425ce7f04319ae75b7bed7bfdcef",
              "IPY_MODEL_829074d2620342f7a9bbedc9d8ecda6d"
            ]
          }
        },
        "d1f5a84da98746b7baf4537deab79412": {
          "model_module": "@jupyter-widgets/base",
          "model_name": "LayoutModel",
          "state": {
            "_view_name": "LayoutView",
            "grid_template_rows": null,
            "right": null,
            "justify_content": null,
            "_view_module": "@jupyter-widgets/base",
            "overflow": null,
            "_model_module_version": "1.2.0",
            "_view_count": null,
            "flex_flow": null,
            "width": null,
            "min_width": null,
            "border": null,
            "align_items": null,
            "bottom": null,
            "_model_module": "@jupyter-widgets/base",
            "top": null,
            "grid_column": null,
            "overflow_y": null,
            "overflow_x": null,
            "grid_auto_flow": null,
            "grid_area": null,
            "grid_template_columns": null,
            "flex": null,
            "_model_name": "LayoutModel",
            "justify_items": null,
            "grid_row": null,
            "max_height": null,
            "align_content": null,
            "visibility": null,
            "align_self": null,
            "height": null,
            "min_height": null,
            "padding": null,
            "grid_auto_rows": null,
            "grid_gap": null,
            "max_width": null,
            "order": null,
            "_view_module_version": "1.2.0",
            "grid_template_areas": null,
            "object_position": null,
            "object_fit": null,
            "grid_auto_columns": null,
            "margin": null,
            "display": null,
            "left": null
          }
        },
        "4f95425ce7f04319ae75b7bed7bfdcef": {
          "model_module": "@jupyter-widgets/controls",
          "model_name": "FloatProgressModel",
          "state": {
            "_view_name": "ProgressView",
            "style": "IPY_MODEL_9ba093da8bcd40e7885bfd8432c0dda0",
            "_dom_classes": [],
            "description": "Downloading: 100%",
            "_model_name": "FloatProgressModel",
            "bar_style": "success",
            "max": 642,
            "_view_module": "@jupyter-widgets/controls",
            "_model_module_version": "1.5.0",
            "value": 642,
            "_view_count": null,
            "_view_module_version": "1.5.0",
            "orientation": "horizontal",
            "min": 0,
            "description_tooltip": null,
            "_model_module": "@jupyter-widgets/controls",
            "layout": "IPY_MODEL_b170cd0645df4e74bbf468aeecc426a9"
          }
        },
        "829074d2620342f7a9bbedc9d8ecda6d": {
          "model_module": "@jupyter-widgets/controls",
          "model_name": "HTMLModel",
          "state": {
            "_view_name": "HTMLView",
            "style": "IPY_MODEL_cab3da961f7045569bce9d0da8fe2ca2",
            "_dom_classes": [],
            "description": "",
            "_model_name": "HTMLModel",
            "placeholder": "​",
            "_view_module": "@jupyter-widgets/controls",
            "_model_module_version": "1.5.0",
            "value": " 642/642 [00:00&lt;00:00, 4.46kB/s]",
            "_view_count": null,
            "_view_module_version": "1.5.0",
            "description_tooltip": null,
            "_model_module": "@jupyter-widgets/controls",
            "layout": "IPY_MODEL_18631fe8158d47a1b1e55730b7bb93ee"
          }
        },
        "9ba093da8bcd40e7885bfd8432c0dda0": {
          "model_module": "@jupyter-widgets/controls",
          "model_name": "ProgressStyleModel",
          "state": {
            "_view_name": "StyleView",
            "_model_name": "ProgressStyleModel",
            "description_width": "initial",
            "_view_module": "@jupyter-widgets/base",
            "_model_module_version": "1.5.0",
            "_view_count": null,
            "_view_module_version": "1.2.0",
            "bar_color": null,
            "_model_module": "@jupyter-widgets/controls"
          }
        },
        "b170cd0645df4e74bbf468aeecc426a9": {
          "model_module": "@jupyter-widgets/base",
          "model_name": "LayoutModel",
          "state": {
            "_view_name": "LayoutView",
            "grid_template_rows": null,
            "right": null,
            "justify_content": null,
            "_view_module": "@jupyter-widgets/base",
            "overflow": null,
            "_model_module_version": "1.2.0",
            "_view_count": null,
            "flex_flow": null,
            "width": null,
            "min_width": null,
            "border": null,
            "align_items": null,
            "bottom": null,
            "_model_module": "@jupyter-widgets/base",
            "top": null,
            "grid_column": null,
            "overflow_y": null,
            "overflow_x": null,
            "grid_auto_flow": null,
            "grid_area": null,
            "grid_template_columns": null,
            "flex": null,
            "_model_name": "LayoutModel",
            "justify_items": null,
            "grid_row": null,
            "max_height": null,
            "align_content": null,
            "visibility": null,
            "align_self": null,
            "height": null,
            "min_height": null,
            "padding": null,
            "grid_auto_rows": null,
            "grid_gap": null,
            "max_width": null,
            "order": null,
            "_view_module_version": "1.2.0",
            "grid_template_areas": null,
            "object_position": null,
            "object_fit": null,
            "grid_auto_columns": null,
            "margin": null,
            "display": null,
            "left": null
          }
        },
        "cab3da961f7045569bce9d0da8fe2ca2": {
          "model_module": "@jupyter-widgets/controls",
          "model_name": "DescriptionStyleModel",
          "state": {
            "_view_name": "StyleView",
            "_model_name": "DescriptionStyleModel",
            "description_width": "",
            "_view_module": "@jupyter-widgets/base",
            "_model_module_version": "1.5.0",
            "_view_count": null,
            "_view_module_version": "1.2.0",
            "_model_module": "@jupyter-widgets/controls"
          }
        },
        "18631fe8158d47a1b1e55730b7bb93ee": {
          "model_module": "@jupyter-widgets/base",
          "model_name": "LayoutModel",
          "state": {
            "_view_name": "LayoutView",
            "grid_template_rows": null,
            "right": null,
            "justify_content": null,
            "_view_module": "@jupyter-widgets/base",
            "overflow": null,
            "_model_module_version": "1.2.0",
            "_view_count": null,
            "flex_flow": null,
            "width": null,
            "min_width": null,
            "border": null,
            "align_items": null,
            "bottom": null,
            "_model_module": "@jupyter-widgets/base",
            "top": null,
            "grid_column": null,
            "overflow_y": null,
            "overflow_x": null,
            "grid_auto_flow": null,
            "grid_area": null,
            "grid_template_columns": null,
            "flex": null,
            "_model_name": "LayoutModel",
            "justify_items": null,
            "grid_row": null,
            "max_height": null,
            "align_content": null,
            "visibility": null,
            "align_self": null,
            "height": null,
            "min_height": null,
            "padding": null,
            "grid_auto_rows": null,
            "grid_gap": null,
            "max_width": null,
            "order": null,
            "_view_module_version": "1.2.0",
            "grid_template_areas": null,
            "object_position": null,
            "object_fit": null,
            "grid_auto_columns": null,
            "margin": null,
            "display": null,
            "left": null
          }
        },
        "8cd275ee79cf498a874270f8b5be455a": {
          "model_module": "@jupyter-widgets/controls",
          "model_name": "HBoxModel",
          "state": {
            "_view_name": "HBoxView",
            "_dom_classes": [],
            "_model_name": "HBoxModel",
            "_view_module": "@jupyter-widgets/controls",
            "_model_module_version": "1.5.0",
            "_view_count": null,
            "_view_module_version": "1.5.0",
            "box_style": "",
            "layout": "IPY_MODEL_c4cefe347ffe47d0a2faa6646c57109b",
            "_model_module": "@jupyter-widgets/controls",
            "children": [
              "IPY_MODEL_da0bb9589ad646c3811926d5107cab70",
              "IPY_MODEL_c5a1aa5b85f049478ab2c6311b06401a"
            ]
          }
        },
        "c4cefe347ffe47d0a2faa6646c57109b": {
          "model_module": "@jupyter-widgets/base",
          "model_name": "LayoutModel",
          "state": {
            "_view_name": "LayoutView",
            "grid_template_rows": null,
            "right": null,
            "justify_content": null,
            "_view_module": "@jupyter-widgets/base",
            "overflow": null,
            "_model_module_version": "1.2.0",
            "_view_count": null,
            "flex_flow": null,
            "width": null,
            "min_width": null,
            "border": null,
            "align_items": null,
            "bottom": null,
            "_model_module": "@jupyter-widgets/base",
            "top": null,
            "grid_column": null,
            "overflow_y": null,
            "overflow_x": null,
            "grid_auto_flow": null,
            "grid_area": null,
            "grid_template_columns": null,
            "flex": null,
            "_model_name": "LayoutModel",
            "justify_items": null,
            "grid_row": null,
            "max_height": null,
            "align_content": null,
            "visibility": null,
            "align_self": null,
            "height": null,
            "min_height": null,
            "padding": null,
            "grid_auto_rows": null,
            "grid_gap": null,
            "max_width": null,
            "order": null,
            "_view_module_version": "1.2.0",
            "grid_template_areas": null,
            "object_position": null,
            "object_fit": null,
            "grid_auto_columns": null,
            "margin": null,
            "display": null,
            "left": null
          }
        },
        "da0bb9589ad646c3811926d5107cab70": {
          "model_module": "@jupyter-widgets/controls",
          "model_name": "FloatProgressModel",
          "state": {
            "_view_name": "ProgressView",
            "style": "IPY_MODEL_d373f32dcee042f0bf5c742490652095",
            "_dom_classes": [],
            "description": "Downloading: 100%",
            "_model_name": "FloatProgressModel",
            "bar_style": "success",
            "max": 1042301,
            "_view_module": "@jupyter-widgets/controls",
            "_model_module_version": "1.5.0",
            "value": 1042301,
            "_view_count": null,
            "_view_module_version": "1.5.0",
            "orientation": "horizontal",
            "min": 0,
            "description_tooltip": null,
            "_model_module": "@jupyter-widgets/controls",
            "layout": "IPY_MODEL_8005c3ade8644bca90461841ddcf9059"
          }
        },
        "c5a1aa5b85f049478ab2c6311b06401a": {
          "model_module": "@jupyter-widgets/controls",
          "model_name": "HTMLModel",
          "state": {
            "_view_name": "HTMLView",
            "style": "IPY_MODEL_adc145adb072461db787a8c6fed31bff",
            "_dom_classes": [],
            "description": "",
            "_model_name": "HTMLModel",
            "placeholder": "​",
            "_view_module": "@jupyter-widgets/controls",
            "_model_module_version": "1.5.0",
            "value": " 1.04M/1.04M [00:01&lt;00:00, 630kB/s]",
            "_view_count": null,
            "_view_module_version": "1.5.0",
            "description_tooltip": null,
            "_model_module": "@jupyter-widgets/controls",
            "layout": "IPY_MODEL_87ae632667ac437cad0b278efd80d1d9"
          }
        },
        "d373f32dcee042f0bf5c742490652095": {
          "model_module": "@jupyter-widgets/controls",
          "model_name": "ProgressStyleModel",
          "state": {
            "_view_name": "StyleView",
            "_model_name": "ProgressStyleModel",
            "description_width": "initial",
            "_view_module": "@jupyter-widgets/base",
            "_model_module_version": "1.5.0",
            "_view_count": null,
            "_view_module_version": "1.2.0",
            "bar_color": null,
            "_model_module": "@jupyter-widgets/controls"
          }
        },
        "8005c3ade8644bca90461841ddcf9059": {
          "model_module": "@jupyter-widgets/base",
          "model_name": "LayoutModel",
          "state": {
            "_view_name": "LayoutView",
            "grid_template_rows": null,
            "right": null,
            "justify_content": null,
            "_view_module": "@jupyter-widgets/base",
            "overflow": null,
            "_model_module_version": "1.2.0",
            "_view_count": null,
            "flex_flow": null,
            "width": null,
            "min_width": null,
            "border": null,
            "align_items": null,
            "bottom": null,
            "_model_module": "@jupyter-widgets/base",
            "top": null,
            "grid_column": null,
            "overflow_y": null,
            "overflow_x": null,
            "grid_auto_flow": null,
            "grid_area": null,
            "grid_template_columns": null,
            "flex": null,
            "_model_name": "LayoutModel",
            "justify_items": null,
            "grid_row": null,
            "max_height": null,
            "align_content": null,
            "visibility": null,
            "align_self": null,
            "height": null,
            "min_height": null,
            "padding": null,
            "grid_auto_rows": null,
            "grid_gap": null,
            "max_width": null,
            "order": null,
            "_view_module_version": "1.2.0",
            "grid_template_areas": null,
            "object_position": null,
            "object_fit": null,
            "grid_auto_columns": null,
            "margin": null,
            "display": null,
            "left": null
          }
        },
        "adc145adb072461db787a8c6fed31bff": {
          "model_module": "@jupyter-widgets/controls",
          "model_name": "DescriptionStyleModel",
          "state": {
            "_view_name": "StyleView",
            "_model_name": "DescriptionStyleModel",
            "description_width": "",
            "_view_module": "@jupyter-widgets/base",
            "_model_module_version": "1.5.0",
            "_view_count": null,
            "_view_module_version": "1.2.0",
            "_model_module": "@jupyter-widgets/controls"
          }
        },
        "87ae632667ac437cad0b278efd80d1d9": {
          "model_module": "@jupyter-widgets/base",
          "model_name": "LayoutModel",
          "state": {
            "_view_name": "LayoutView",
            "grid_template_rows": null,
            "right": null,
            "justify_content": null,
            "_view_module": "@jupyter-widgets/base",
            "overflow": null,
            "_model_module_version": "1.2.0",
            "_view_count": null,
            "flex_flow": null,
            "width": null,
            "min_width": null,
            "border": null,
            "align_items": null,
            "bottom": null,
            "_model_module": "@jupyter-widgets/base",
            "top": null,
            "grid_column": null,
            "overflow_y": null,
            "overflow_x": null,
            "grid_auto_flow": null,
            "grid_area": null,
            "grid_template_columns": null,
            "flex": null,
            "_model_name": "LayoutModel",
            "justify_items": null,
            "grid_row": null,
            "max_height": null,
            "align_content": null,
            "visibility": null,
            "align_self": null,
            "height": null,
            "min_height": null,
            "padding": null,
            "grid_auto_rows": null,
            "grid_gap": null,
            "max_width": null,
            "order": null,
            "_view_module_version": "1.2.0",
            "grid_template_areas": null,
            "object_position": null,
            "object_fit": null,
            "grid_auto_columns": null,
            "margin": null,
            "display": null,
            "left": null
          }
        },
        "a637dfb1ffd24d2bbb33c8327205946f": {
          "model_module": "@jupyter-widgets/controls",
          "model_name": "HBoxModel",
          "state": {
            "_view_name": "HBoxView",
            "_dom_classes": [],
            "_model_name": "HBoxModel",
            "_view_module": "@jupyter-widgets/controls",
            "_model_module_version": "1.5.0",
            "_view_count": null,
            "_view_module_version": "1.5.0",
            "box_style": "",
            "layout": "IPY_MODEL_d2118b3604e540cd881419e8001f3ab5",
            "_model_module": "@jupyter-widgets/controls",
            "children": [
              "IPY_MODEL_e9c5b81e69344eaf82f3ffe70da7839d",
              "IPY_MODEL_455a8efdec8943a29b1f58171df11deb"
            ]
          }
        },
        "d2118b3604e540cd881419e8001f3ab5": {
          "model_module": "@jupyter-widgets/base",
          "model_name": "LayoutModel",
          "state": {
            "_view_name": "LayoutView",
            "grid_template_rows": null,
            "right": null,
            "justify_content": null,
            "_view_module": "@jupyter-widgets/base",
            "overflow": null,
            "_model_module_version": "1.2.0",
            "_view_count": null,
            "flex_flow": null,
            "width": null,
            "min_width": null,
            "border": null,
            "align_items": null,
            "bottom": null,
            "_model_module": "@jupyter-widgets/base",
            "top": null,
            "grid_column": null,
            "overflow_y": null,
            "overflow_x": null,
            "grid_auto_flow": null,
            "grid_area": null,
            "grid_template_columns": null,
            "flex": null,
            "_model_name": "LayoutModel",
            "justify_items": null,
            "grid_row": null,
            "max_height": null,
            "align_content": null,
            "visibility": null,
            "align_self": null,
            "height": null,
            "min_height": null,
            "padding": null,
            "grid_auto_rows": null,
            "grid_gap": null,
            "max_width": null,
            "order": null,
            "_view_module_version": "1.2.0",
            "grid_template_areas": null,
            "object_position": null,
            "object_fit": null,
            "grid_auto_columns": null,
            "margin": null,
            "display": null,
            "left": null
          }
        },
        "e9c5b81e69344eaf82f3ffe70da7839d": {
          "model_module": "@jupyter-widgets/controls",
          "model_name": "FloatProgressModel",
          "state": {
            "_view_name": "ProgressView",
            "style": "IPY_MODEL_a6067728373d4dec9bf6c3034014363a",
            "_dom_classes": [],
            "description": "Downloading: 100%",
            "_model_name": "FloatProgressModel",
            "bar_style": "success",
            "max": 456318,
            "_view_module": "@jupyter-widgets/controls",
            "_model_module_version": "1.5.0",
            "value": 456318,
            "_view_count": null,
            "_view_module_version": "1.5.0",
            "orientation": "horizontal",
            "min": 0,
            "description_tooltip": null,
            "_model_module": "@jupyter-widgets/controls",
            "layout": "IPY_MODEL_26b369ddae5849539a0d216ef37e0b19"
          }
        },
        "455a8efdec8943a29b1f58171df11deb": {
          "model_module": "@jupyter-widgets/controls",
          "model_name": "HTMLModel",
          "state": {
            "_view_name": "HTMLView",
            "style": "IPY_MODEL_bbc355f5fe0f4b2790921cf2f07433d1",
            "_dom_classes": [],
            "description": "",
            "_model_name": "HTMLModel",
            "placeholder": "​",
            "_view_module": "@jupyter-widgets/controls",
            "_model_module_version": "1.5.0",
            "value": " 456k/456k [00:00&lt;00:00, 523kB/s]",
            "_view_count": null,
            "_view_module_version": "1.5.0",
            "description_tooltip": null,
            "_model_module": "@jupyter-widgets/controls",
            "layout": "IPY_MODEL_bfbaf72e3d144919b04cfbeea5828f4f"
          }
        },
        "a6067728373d4dec9bf6c3034014363a": {
          "model_module": "@jupyter-widgets/controls",
          "model_name": "ProgressStyleModel",
          "state": {
            "_view_name": "StyleView",
            "_model_name": "ProgressStyleModel",
            "description_width": "initial",
            "_view_module": "@jupyter-widgets/base",
            "_model_module_version": "1.5.0",
            "_view_count": null,
            "_view_module_version": "1.2.0",
            "bar_color": null,
            "_model_module": "@jupyter-widgets/controls"
          }
        },
        "26b369ddae5849539a0d216ef37e0b19": {
          "model_module": "@jupyter-widgets/base",
          "model_name": "LayoutModel",
          "state": {
            "_view_name": "LayoutView",
            "grid_template_rows": null,
            "right": null,
            "justify_content": null,
            "_view_module": "@jupyter-widgets/base",
            "overflow": null,
            "_model_module_version": "1.2.0",
            "_view_count": null,
            "flex_flow": null,
            "width": null,
            "min_width": null,
            "border": null,
            "align_items": null,
            "bottom": null,
            "_model_module": "@jupyter-widgets/base",
            "top": null,
            "grid_column": null,
            "overflow_y": null,
            "overflow_x": null,
            "grid_auto_flow": null,
            "grid_area": null,
            "grid_template_columns": null,
            "flex": null,
            "_model_name": "LayoutModel",
            "justify_items": null,
            "grid_row": null,
            "max_height": null,
            "align_content": null,
            "visibility": null,
            "align_self": null,
            "height": null,
            "min_height": null,
            "padding": null,
            "grid_auto_rows": null,
            "grid_gap": null,
            "max_width": null,
            "order": null,
            "_view_module_version": "1.2.0",
            "grid_template_areas": null,
            "object_position": null,
            "object_fit": null,
            "grid_auto_columns": null,
            "margin": null,
            "display": null,
            "left": null
          }
        },
        "bbc355f5fe0f4b2790921cf2f07433d1": {
          "model_module": "@jupyter-widgets/controls",
          "model_name": "DescriptionStyleModel",
          "state": {
            "_view_name": "StyleView",
            "_model_name": "DescriptionStyleModel",
            "description_width": "",
            "_view_module": "@jupyter-widgets/base",
            "_model_module_version": "1.5.0",
            "_view_count": null,
            "_view_module_version": "1.2.0",
            "_model_module": "@jupyter-widgets/controls"
          }
        },
        "bfbaf72e3d144919b04cfbeea5828f4f": {
          "model_module": "@jupyter-widgets/base",
          "model_name": "LayoutModel",
          "state": {
            "_view_name": "LayoutView",
            "grid_template_rows": null,
            "right": null,
            "justify_content": null,
            "_view_module": "@jupyter-widgets/base",
            "overflow": null,
            "_model_module_version": "1.2.0",
            "_view_count": null,
            "flex_flow": null,
            "width": null,
            "min_width": null,
            "border": null,
            "align_items": null,
            "bottom": null,
            "_model_module": "@jupyter-widgets/base",
            "top": null,
            "grid_column": null,
            "overflow_y": null,
            "overflow_x": null,
            "grid_auto_flow": null,
            "grid_area": null,
            "grid_template_columns": null,
            "flex": null,
            "_model_name": "LayoutModel",
            "justify_items": null,
            "grid_row": null,
            "max_height": null,
            "align_content": null,
            "visibility": null,
            "align_self": null,
            "height": null,
            "min_height": null,
            "padding": null,
            "grid_auto_rows": null,
            "grid_gap": null,
            "max_width": null,
            "order": null,
            "_view_module_version": "1.2.0",
            "grid_template_areas": null,
            "object_position": null,
            "object_fit": null,
            "grid_auto_columns": null,
            "margin": null,
            "display": null,
            "left": null
          }
        }
      }
    }
  },
  "cells": [
    {
      "cell_type": "markdown",
      "metadata": {
        "id": "79V8U1EVGYlv"
      },
      "source": [
        "<h1> <b> GENERADOR DE DIÁLOGO & CLASIFICADOR DE \"QUOTES\" - SERIE FRIENDS  </b></h1>\n",
        "<h3> <b>  GLÒRIA CAMP - AGOSTO 2021 </b></h3>\n"
      ]
    },
    {
      "cell_type": "raw",
      "metadata": {
        "id": "Iyu37dHiYzAm"
      },
      "source": [
        "![alt text](https://media.giphy.com/media/luvcXlAjCTZKw/giphy.gif)\n",
        "Image from [Giphy](https://giphy.com/)"
      ]
    },
    {
      "cell_type": "markdown",
      "metadata": {
        "id": "p603ujkW_s1q"
      },
      "source": [
        "<h1> <b> OBJETIVO DEL PROYECTO </b></h1>\n",
        "\n",
        "<h3> <b> CREAR UN GENERADOR DE DIÁLOGO, UN CLASIFICADOR DE \"QUOTES\" Y VISUALIZACIONES VARIAS, PARA PUBLICARLO EN UNA WEB PARA LOS FANS DE FRIENDS EN HONOR A LA REUNIÓN DE ESTE AÑO </b></h3>\n"
      ]
    },
    {
      "cell_type": "markdown",
      "metadata": {
        "id": "XOqM0Q2tYzAo"
      },
      "source": [
        "<h1> <b> DATASETS </b></h1>\n",
        "\n",
        "<ul>\n",
        "  <li><h2> <b>\"friends_quotes\"</b> : dataset de Kaggle https://www.kaggle.com/ryanstonebraker/friends-transcript </li></h2>\n",
        "  <li><h2> <b>\"Guest_Stars_DF\"</b> : dataset creado a partir del friends_quotes dataset y modificado manualmente. Este contiene las líneas que han tenido diferentes actores/actrices invitados/as a la serie durante las 10 temporadas. </li></h2>\n",
        "  <li><h2> <b>\"season1_df_modified\"</b> : dataset creado a partir del friends_quotes dataset y modificado manualmente. Este contiene las conversaciones por parejas (no contiene las conversaciones grupales), de los 9 personajes que más frases tienen en la primera temporada </li></h2>\n",
        "  <li><h2> <b>\"script_ross\"</b> : dataset creado a partir del friends_quotes dataset y modificado manualmente. Este contiene los diálogos entre Ross y otras personas de la serie en la primera temporada.  </li></h2>\n",
        "</ul>"
      ]
    },
    {
      "cell_type": "markdown",
      "metadata": {
        "id": "yRPTI23kDnWn"
      },
      "source": [
        "<h1> <b> PREGUNTAS </b></h1>\n",
        "\n",
        "<ol>\n",
        "  <h2> <b> <li>¿Cuáles son los 9 personajes con más líneas de texto en cada temporada?</li> </b> </h2>\n",
        "<h2> <b> <li> ¿Cuáles de estos personajes hablan más entre ellos en la primera temporada? </li> </b> </h2>\n",
        "<h2> <b> <li>¿Qué actores/actrices invitados aparecieron durante las 10 temporadas?</li> </b> </h2>\n",
        "<h2> <b> <li>¿Quién de los 6 personajes principales es más positivo/negativo? </li> </b> </h2>\n",
        "<h2> <b> <li>Clasificador de \"quotes\": ¿Quién ha dicho qué? </li> </b> </h2>\n",
        "<h2> <b> <li>Generador de diálogo: ¿qué diría Ross?</li> </b> </h2>\n",
        "</ol>"
      ]
    },
    {
      "cell_type": "markdown",
      "metadata": {
        "id": "Foy6rPwWi4cm"
      },
      "source": [
        "#####Code"
      ]
    },
    {
      "cell_type": "code",
      "metadata": {
        "id": "3GXC5SHMYzAh"
      },
      "source": [
        "# Data Wrangling Libraries\n",
        "\n",
        "import pandas as pd\n",
        "import numpy as np\n",
        "import re\n",
        "\n",
        "# NLP\n",
        "\n",
        "import nltk\n",
        "from textblob import TextBlob\n",
        "from nltk.stem import PorterStemmer\n",
        "from nltk.stem import LancasterStemmer\n",
        "from nltk.stem import WordNetLemmatizer\n",
        "from nltk.tokenize import sent_tokenize, word_tokenize\n",
        "from nltk.stem.snowball import SnowballStemmer\n",
        "from nltk.corpus import stopwords\n",
        "from sklearn.feature_extraction.text import CountVectorizer\n",
        "from sklearn.feature_extraction.text import TfidfVectorizer\n",
        "from sklearn.model_selection import train_test_split\n",
        "from sklearn.neighbors import KNeighborsClassifier\n",
        "from sklearn.metrics import confusion_matrix, classification_report\n",
        "\n",
        "\n",
        "# Data Visualisation Libraries\n",
        "\n",
        "import seaborn as sns\n",
        "import networkx as nx\n",
        "import cufflinks as cf\n",
        "import plotly.express as px\n",
        "from ipywidgets import interact\n",
        "import plotly.figure_factory as ff\n",
        "import matplotlib.pyplot as plt\n",
        "from ipywidgets import Dropdown, IntSlider\n",
        "import ipywidgets as widgets\n",
        "import plotly.graph_objects as go\n",
        "\n",
        "#Others\n",
        "import warnings\n",
        "warnings.filterwarnings(\"ignore\")"
      ],
      "execution_count": 1,
      "outputs": []
    },
    {
      "cell_type": "code",
      "metadata": {
        "colab": {
          "base_uri": "https://localhost:8080/"
        },
        "id": "StXNvSl9ZsdU",
        "outputId": "d2cca726-5cf2-46f4-af72-f2c1ffd20a4e"
      },
      "source": [
        "from google.colab import drive\n",
        "drive.mount('/content/gdrive')"
      ],
      "execution_count": 2,
      "outputs": [
        {
          "output_type": "stream",
          "text": [
            "Mounted at /content/gdrive\n"
          ],
          "name": "stdout"
        }
      ]
    },
    {
      "cell_type": "code",
      "metadata": {
        "id": "1losLbnHi0Ec"
      },
      "source": [
        "friends = pd.read_csv(\"/content/gdrive/MyDrive/Colab Notebooks/friends_quotes.csv\")\n",
        "season_1_main_characters = pd.read_excel(\"/content/gdrive/MyDrive/Colab Notebooks/season1_df_modified.xlsx\")\n",
        "guest_stars = pd.read_excel(\"/content/gdrive/MyDrive/Colab Notebooks/Guest_Stars_DF.xlsx\")\n"
      ],
      "execution_count": 3,
      "outputs": []
    },
    {
      "cell_type": "code",
      "metadata": {
        "id": "IQXMOuK5YzAs"
      },
      "source": [
        "#el episodio 16 no está bien \"escrapeado\", así que eliminamos las líneas.\n",
        "friends.drop(friends[(friends[\"season\"] == 1) & (friends[\"episode_number\"] == 16)].index,inplace = True)\n",
        "# eliminamos las líneas en la columna \"author\" es \"All\"\n",
        "friends.drop(friends[(friends[\"author\"] == \"All\")].index,inplace = True)"
      ],
      "execution_count": 4,
      "outputs": []
    },
    {
      "cell_type": "code",
      "metadata": {
        "cellView": "code",
        "id": "hrYs78DsYzAv"
      },
      "source": [
        "friends[\"author\"] = friends[\"author\"].str.replace(\"ms. geller\",\"mrs. geller\").str.replace(\"judy\",\"mrs. geller\").str.replace(\"frank jr\",\"frank\")"
      ],
      "execution_count": 5,
      "outputs": []
    },
    {
      "cell_type": "code",
      "metadata": {
        "id": "S2dPyUJ7YzAw"
      },
      "source": [
        "friends[\"author\"] = friends[\"author\"].str.replace(\"\\(([^)]+)\\)\",\"\").str.lower().str.strip()"
      ],
      "execution_count": 6,
      "outputs": []
    },
    {
      "cell_type": "code",
      "metadata": {
        "id": "uEeAQi26YzAz"
      },
      "source": [
        "chandler =[\"chan\",\"chandle\",\"chandlers\"]\n",
        "monica =[\"young monica\",\"fat monica\",\"mnca\",\"monic\",\"monica about to have a heart attack\",\"monica to amy\",\"monica to emma\",\"monica to ross\"] \n",
        "joey = [\"fat joey\",\"joe\"]\n",
        "phoebe = [\"phoe\",\"phoeb\",\"phoebe looks down\"]\n",
        "rachel = [\"big nosed rachel\",\"rach\",\"rahcel\",\"rache\",\"rachel opens their door\",\"rachel to emma\",\"racel\"]\n",
        "ross = [\"ross first has a look of 'huh' then changes it to sarcastic happy\",\"ross looks down\",\"ross makes some sort of sound to let us know it hurt\",\"ross starts playing with a plate\",\"ross starts talking over her 'do you remember' line\",\"ross to monica\",\"ross with a look of wondering how long this is going to go on on his face\",\"young ross\",\"ros\"]"
      ],
      "execution_count": 7,
      "outputs": []
    },
    {
      "cell_type": "code",
      "metadata": {
        "id": "07ZAHhZLYzA0"
      },
      "source": [
        "def replace_author(i):\n",
        "    if i in chandler: \n",
        "        i = \"chandler\" \n",
        "    elif i in monica:\n",
        "        i = \"monica\"\n",
        "    elif i in joey: \n",
        "        i = \"joey\"\n",
        "    elif i in phoebe:\n",
        "        i = \"phoebe\"\n",
        "    elif i in rachel: \n",
        "        i = \"rachel\"\n",
        "    elif i in ross:\n",
        "        i = \"ross\"\n",
        "    else:\n",
        "        return i"
      ],
      "execution_count": 8,
      "outputs": []
    },
    {
      "cell_type": "code",
      "metadata": {
        "id": "yInbiGVcYzA1"
      },
      "source": [
        "friends[\"author\"] = friends[\"author\"].apply(replace_author).str.capitalize()"
      ],
      "execution_count": 9,
      "outputs": []
    },
    {
      "cell_type": "markdown",
      "metadata": {
        "id": "TN3KoAFKYzA2"
      },
      "source": [
        "#**¿Cuáles son los 9 personajes con más líneas de texto en cada temporada?**"
      ]
    },
    {
      "cell_type": "markdown",
      "metadata": {
        "id": "QH_9yf47l7bF"
      },
      "source": [
        "![alt text](https://media.giphy.com/media/JQSCdkVWIY1CF51sjG/giphy.gif)\n",
        "\n",
        "Image from [Giphy](https://giphy.com/)"
      ]
    },
    {
      "cell_type": "code",
      "metadata": {
        "colab": {
          "base_uri": "https://localhost:8080/",
          "height": 513,
          "referenced_widgets": [
            "da3f504bbb3f47d6aec4b44b2edc4777",
            "91bfeeb280cd45448ae6453e0d462d6a",
            "176a24fa31984f24bfc6ca58a6133f60",
            "ddf8393511404d3780365eb6cc5f6534",
            "ff4855087ca24ba9b502c9ed4071ee95",
            "fa39de587a074b69bdf9f1096c1e6e7f",
            "df14ab5477284cda9fc36f9f01124d79"
          ]
        },
        "id": "m118KyMhYzA3",
        "cellView": "form",
        "outputId": "f2e31381-7728-407e-f5f6-98bf6a7ad46a"
      },
      "source": [
        "#@title\n",
        "@interact(Season = IntSlider(min=1, max=10, step=1,value=1))\n",
        "def more_common_characters(Season):\n",
        "    more_common = friends[friends.season == Season][\"author\"].value_counts().head(9).index.to_list()\n",
        "    sns.set(rc={'figure.figsize':(7,7),'axes.facecolor':'black'}, font_scale=1.5)\n",
        "    palette = [\"red\",\"yellow\",\"#23c6f7\"]\n",
        "    sns.countplot(y='author', data=friends[(friends.author.isin(more_common)) & (friends.season == Season)], order = more_common, palette = palette)\n",
        "    plt.xlabel(\"Number of lines\")\n",
        "    plt.ylabel(\"Character\")\n",
        "    plt.title('9 Characters with more lines per season')\n",
        "    plt.show()"
      ],
      "execution_count": 10,
      "outputs": [
        {
          "output_type": "display_data",
          "data": {
            "application/vnd.jupyter.widget-view+json": {
              "model_id": "da3f504bbb3f47d6aec4b44b2edc4777",
              "version_minor": 0,
              "version_major": 2
            },
            "text/plain": [
              "interactive(children=(IntSlider(value=1, description='Season', max=10, min=1), Output()), _dom_classes=('widge…"
            ]
          },
          "metadata": {
            "tags": []
          }
        }
      ]
    },
    {
      "cell_type": "markdown",
      "metadata": {
        "id": "qudJAsj7n3qJ"
      },
      "source": [
        "#####Code"
      ]
    },
    {
      "cell_type": "code",
      "metadata": {
        "colab": {
          "base_uri": "https://localhost:8080/",
          "height": 603
        },
        "id": "5NX73NX6YzA4",
        "outputId": "a2ec01f7-27fa-4e7a-fbb8-28c5ff330132"
      },
      "source": [
        "conversation_weights = pd.DataFrame(season_1_main_characters[\"Conversation\"].value_counts(normalize = True)).reset_index()\n",
        "conversation_weights"
      ],
      "execution_count": 11,
      "outputs": [
        {
          "output_type": "execute_result",
          "data": {
            "text/html": [
              "<div>\n",
              "<style scoped>\n",
              "    .dataframe tbody tr th:only-of-type {\n",
              "        vertical-align: middle;\n",
              "    }\n",
              "\n",
              "    .dataframe tbody tr th {\n",
              "        vertical-align: top;\n",
              "    }\n",
              "\n",
              "    .dataframe thead th {\n",
              "        text-align: right;\n",
              "    }\n",
              "</style>\n",
              "<table border=\"1\" class=\"dataframe\">\n",
              "  <thead>\n",
              "    <tr style=\"text-align: right;\">\n",
              "      <th></th>\n",
              "      <th>index</th>\n",
              "      <th>Conversation</th>\n",
              "    </tr>\n",
              "  </thead>\n",
              "  <tbody>\n",
              "    <tr>\n",
              "      <th>0</th>\n",
              "      <td>Ross, Rachel</td>\n",
              "      <td>0.171171</td>\n",
              "    </tr>\n",
              "    <tr>\n",
              "      <th>1</th>\n",
              "      <td>Ross, Carol</td>\n",
              "      <td>0.114114</td>\n",
              "    </tr>\n",
              "    <tr>\n",
              "      <th>2</th>\n",
              "      <td>Chandler, Joey</td>\n",
              "      <td>0.113113</td>\n",
              "    </tr>\n",
              "    <tr>\n",
              "      <th>3</th>\n",
              "      <td>Rachel, Monica</td>\n",
              "      <td>0.086086</td>\n",
              "    </tr>\n",
              "    <tr>\n",
              "      <th>4</th>\n",
              "      <td>Chandler, Phoebe</td>\n",
              "      <td>0.083083</td>\n",
              "    </tr>\n",
              "    <tr>\n",
              "      <th>5</th>\n",
              "      <td>Ross, Joey</td>\n",
              "      <td>0.079079</td>\n",
              "    </tr>\n",
              "    <tr>\n",
              "      <th>6</th>\n",
              "      <td>Susan, Ross</td>\n",
              "      <td>0.065065</td>\n",
              "    </tr>\n",
              "    <tr>\n",
              "      <th>7</th>\n",
              "      <td>Monica, Joey</td>\n",
              "      <td>0.062062</td>\n",
              "    </tr>\n",
              "    <tr>\n",
              "      <th>8</th>\n",
              "      <td>Chandler, Janice</td>\n",
              "      <td>0.054054</td>\n",
              "    </tr>\n",
              "    <tr>\n",
              "      <th>9</th>\n",
              "      <td>Phoebe, Rachel</td>\n",
              "      <td>0.038038</td>\n",
              "    </tr>\n",
              "    <tr>\n",
              "      <th>10</th>\n",
              "      <td>Phoebe, Monica</td>\n",
              "      <td>0.033033</td>\n",
              "    </tr>\n",
              "    <tr>\n",
              "      <th>11</th>\n",
              "      <td>Ross, Chandler</td>\n",
              "      <td>0.031031</td>\n",
              "    </tr>\n",
              "    <tr>\n",
              "      <th>12</th>\n",
              "      <td>Joey, Phoebe</td>\n",
              "      <td>0.022022</td>\n",
              "    </tr>\n",
              "    <tr>\n",
              "      <th>13</th>\n",
              "      <td>Susan, Carol</td>\n",
              "      <td>0.020020</td>\n",
              "    </tr>\n",
              "    <tr>\n",
              "      <th>14</th>\n",
              "      <td>Chandler, Monica</td>\n",
              "      <td>0.016016</td>\n",
              "    </tr>\n",
              "    <tr>\n",
              "      <th>15</th>\n",
              "      <td>Chandler, Rachel</td>\n",
              "      <td>0.009009</td>\n",
              "    </tr>\n",
              "    <tr>\n",
              "      <th>16</th>\n",
              "      <td>Ross, Phoebe</td>\n",
              "      <td>0.002002</td>\n",
              "    </tr>\n",
              "    <tr>\n",
              "      <th>17</th>\n",
              "      <td>Janice, Joey</td>\n",
              "      <td>0.001001</td>\n",
              "    </tr>\n",
              "  </tbody>\n",
              "</table>\n",
              "</div>"
            ],
            "text/plain": [
              "               index  Conversation\n",
              "0       Ross, Rachel      0.171171\n",
              "1        Ross, Carol      0.114114\n",
              "2     Chandler, Joey      0.113113\n",
              "3     Rachel, Monica      0.086086\n",
              "4   Chandler, Phoebe      0.083083\n",
              "5         Ross, Joey      0.079079\n",
              "6        Susan, Ross      0.065065\n",
              "7       Monica, Joey      0.062062\n",
              "8   Chandler, Janice      0.054054\n",
              "9     Phoebe, Rachel      0.038038\n",
              "10    Phoebe, Monica      0.033033\n",
              "11    Ross, Chandler      0.031031\n",
              "12      Joey, Phoebe      0.022022\n",
              "13      Susan, Carol      0.020020\n",
              "14  Chandler, Monica      0.016016\n",
              "15  Chandler, Rachel      0.009009\n",
              "16      Ross, Phoebe      0.002002\n",
              "17      Janice, Joey      0.001001"
            ]
          },
          "metadata": {
            "tags": []
          },
          "execution_count": 11
        }
      ]
    },
    {
      "cell_type": "code",
      "metadata": {
        "id": "WY9NC0R7YzA5"
      },
      "source": [
        "conversation_weights[[\"A\",\"B\"]] = conversation_weights[\"index\"].str.split(\",\",expand=True)"
      ],
      "execution_count": 12,
      "outputs": []
    },
    {
      "cell_type": "code",
      "metadata": {
        "id": "H-mjLmo8YzA6"
      },
      "source": [
        "conversation_weights[\"A\"] = conversation_weights[\"A\"].str.strip()\n",
        "conversation_weights[\"B\"] = conversation_weights[\"B\"].str.strip()"
      ],
      "execution_count": 13,
      "outputs": []
    },
    {
      "cell_type": "markdown",
      "metadata": {
        "id": "kTnqGxL2YzA4"
      },
      "source": [
        "#**¿Cuáles de estos personajes hablan más entre ellos en la primera temporada?**\n"
      ]
    },
    {
      "cell_type": "markdown",
      "metadata": {
        "id": "S_i90fvnnM8a"
      },
      "source": [
        "![alt text](https://media.giphy.com/media/S9ndPlQlnSnqvGMMZv/giphy.gif)\n",
        "\n",
        "Image from [Giphy](https://giphy.com/)\n"
      ]
    },
    {
      "cell_type": "code",
      "metadata": {
        "colab": {
          "base_uri": "https://localhost:8080/",
          "height": 679
        },
        "id": "OgeKXuMpYzA6",
        "cellView": "form",
        "outputId": "b621be30-b701-464e-e9e0-7fe54c06a19d"
      },
      "source": [
        "#@title\n",
        "plt.rcParams[\"figure.figsize\"] = (10,9)\n",
        "\n",
        "G = nx.Graph()\n",
        "G.add_node(\"Ross\", color='red')\n",
        "G.add_node(\"Rachel\", color='blue')\n",
        "G.add_node(\"Phoebe\", color='blue')\n",
        "G.add_node(\"Joey\", color='yellow')\n",
        "G.add_node(\"Chandler\", color='red')\n",
        "G.add_node(\"Monica\", color='yellow')\n",
        "G.add_node(\"Janice\", color='blue')\n",
        "G.add_node(\"Carol\", color='red')\n",
        "G.add_node(\"Susan\", color='yellow')\n",
        "\n",
        "for i in range(len(conversation_weights)):\n",
        "    G.add_edge(conversation_weights[\"A\"][i],conversation_weights[\"B\"][i], weight=round(conversation_weights[\"Conversation\"][i]*100))\n",
        "\n",
        "colors_nodes = nx.get_node_attributes(G,'color').values()\n",
        "weights = nx.get_edge_attributes(G,'weight').values()\n",
        "pos = nx.circular_layout(G)\n",
        "\n",
        "fig = plt.figure()\n",
        "nx.draw(G, pos, \n",
        "        edge_color=\"white\", \n",
        "        width=list(weights),\n",
        "        with_labels=True,\n",
        "        node_color= colors_nodes, node_size=4500, font_weight='bold', font_color='black', font_size = 13)\n",
        "\n",
        "fig.set_facecolor(\"#00000F\")"
      ],
      "execution_count": 14,
      "outputs": [
        {
          "output_type": "display_data",
          "data": {
            "image/png": "[encoded data removed]",
            "text/plain": [
              "<Figure size 720x648 with 1 Axes>"
            ]
          },
          "metadata": {
            "tags": []
          }
        }
      ]
    },
    {
      "cell_type": "markdown",
      "metadata": {
        "id": "Q4dekdhtoo1s"
      },
      "source": [
        "####Code"
      ]
    },
    {
      "cell_type": "code",
      "metadata": {
        "id": "QguJ1b-HYzA8"
      },
      "source": [
        "guest_stars = pd.pivot_table(guest_stars,index=[\"Actor\",\"season\"],\n",
        "                values = [\"quote\"],           \n",
        "               aggfunc='count',fill_value=0)"
      ],
      "execution_count": 15,
      "outputs": []
    },
    {
      "cell_type": "code",
      "metadata": {
        "id": "6cNCnXKCYzA8"
      },
      "source": [
        "guest_stars.reset_index(inplace = True)"
      ],
      "execution_count": 16,
      "outputs": []
    },
    {
      "cell_type": "markdown",
      "metadata": {
        "id": "K2YKuEhxYzA7"
      },
      "source": [
        "#**¿Qué actores/actrices invitados aparecieron durante las 10 temporadas?**\n"
      ]
    },
    {
      "cell_type": "markdown",
      "metadata": {
        "id": "f1v1lGXfp4gE"
      },
      "source": [
        " ![alt text]( https://media.giphy.com/media/KzPyQ5n4rOYmSh4gRg/giphy.gif)\n",
        "\n",
        "Image from [Giphy](https://giphy.com/)"
      ]
    },
    {
      "cell_type": "code",
      "metadata": {
        "colab": {
          "base_uri": "https://localhost:8080/",
          "height": 542
        },
        "id": "LYX8TQ1LYzA9",
        "cellView": "form",
        "outputId": "1f824557-bf91-4fc1-ccb3-4b3d5c1d849f"
      },
      "source": [
        "#@title\n",
        "fig = px.bar(guest_stars, x=\"season\", y=\"quote\", color = \"Actor\", labels = {\"quote\": \"Number of lines\", \"season\": \"Season\"})\n",
        "fig.show()"
      ],
      "execution_count": 17,
      "outputs": [
        {
          "output_type": "display_data",
          "data": {
            "text/html": [
              "<html>\n",
              "<head><meta charset=\"utf-8\" /></head>\n",
              "<body>\n",
              "    <div>\n",
              "            <script src=\"https://cdnjs.cloudflare.com/ajax/libs/mathjax/2.7.5/MathJax.js?config=TeX-AMS-MML_SVG\"></script><script type=\"text/javascript\">if (window.MathJax) {MathJax.Hub.Config({SVG: {font: \"STIX-Web\"}});}</script>\n",
              "                <script type=\"text/javascript\">window.PlotlyConfig = {MathJaxConfig: 'local'};</script>\n",
              "        <script src=\"https://cdn.plot.ly/plotly-latest.min.js\"></script>    \n",
              "            <div id=\"94a5b090-a846-494b-9086-e5d8270715ce\" class=\"plotly-graph-div\" style=\"height:525px; width:100%;\"></div>\n",
              "            <script type=\"text/javascript\">\n",
              "                \n",
              "                    window.PLOTLYENV=window.PLOTLYENV || {};\n",
              "                    \n",
              "                if (document.getElementById(\"94a5b090-a846-494b-9086-e5d8270715ce\")) {\n",
              "                    Plotly.newPlot(\n",
              "                        '94a5b090-a846-494b-9086-e5d8270715ce',\n",
              "                        [{\"alignmentgroup\": \"True\", \"hoverlabel\": {\"namelength\": 0}, \"hovertemplate\": \"Actor=Adam Goldberg<br>Season=%{x}<br>Number of lines=%{y}\", \"legendgroup\": \"Actor=Adam Goldberg\", \"marker\": {\"color\": \"#636efa\"}, \"name\": \"Actor=Adam Goldberg\", \"offsetgroup\": \"Actor=Adam Goldberg\", \"orientation\": \"v\", \"showlegend\": true, \"textposition\": \"auto\", \"type\": \"bar\", \"x\": [2], \"xaxis\": \"x\", \"y\": [64], \"yaxis\": \"y\"}, {\"alignmentgroup\": \"True\", \"hoverlabel\": {\"namelength\": 0}, \"hovertemplate\": \"Actor=Aisha Tyler<br>Season=%{x}<br>Number of lines=%{y}\", \"legendgroup\": \"Actor=Aisha Tyler\", \"marker\": {\"color\": \"#EF553B\"}, \"name\": \"Actor=Aisha Tyler\", \"offsetgroup\": \"Actor=Aisha Tyler\", \"orientation\": \"v\", \"showlegend\": true, \"textposition\": \"auto\", \"type\": \"bar\", \"x\": [9, 10], \"xaxis\": \"x\", \"y\": [133, 57], \"yaxis\": \"y\"}, {\"alignmentgroup\": \"True\", \"hoverlabel\": {\"namelength\": 0}, \"hovertemplate\": \"Actor=Alec Baldwin<br>Season=%{x}<br>Number of lines=%{y}\", \"legendgroup\": \"Actor=Alec Baldwin\", \"marker\": {\"color\": \"#00cc96\"}, \"name\": \"Actor=Alec Baldwin\", \"offsetgroup\": \"Actor=Alec Baldwin\", \"orientation\": \"v\", \"showlegend\": true, \"textposition\": \"auto\", \"type\": \"bar\", \"x\": [8], \"xaxis\": \"x\", \"y\": [33], \"yaxis\": \"y\"}, {\"alignmentgroup\": \"True\", \"hoverlabel\": {\"namelength\": 0}, \"hovertemplate\": \"Actor=Alison Sweeney<br>Season=%{x}<br>Number of lines=%{y}\", \"legendgroup\": \"Actor=Alison Sweeney\", \"marker\": {\"color\": \"#ab63fa\"}, \"name\": \"Actor=Alison Sweeney\", \"offsetgroup\": \"Actor=Alison Sweeney\", \"orientation\": \"v\", \"showlegend\": true, \"textposition\": \"auto\", \"type\": \"bar\", \"x\": [7], \"xaxis\": \"x\", \"y\": [4], \"yaxis\": \"y\"}, {\"alignmentgroup\": \"True\", \"hoverlabel\": {\"namelength\": 0}, \"hovertemplate\": \"Actor=Anna Faris<br>Season=%{x}<br>Number of lines=%{y}\", \"legendgroup\": \"Actor=Anna Faris\", \"marker\": {\"color\": \"#FFA15A\"}, \"name\": \"Actor=Anna Faris\", \"offsetgroup\": \"Actor=Anna Faris\", \"orientation\": \"v\", \"showlegend\": true, \"textposition\": \"auto\", \"type\": \"bar\", \"x\": [10], \"xaxis\": \"x\", \"y\": [67], \"yaxis\": \"y\"}, {\"alignmentgroup\": \"True\", \"hoverlabel\": {\"namelength\": 0}, \"hovertemplate\": \"Actor=Ben Stiller<br>Season=%{x}<br>Number of lines=%{y}\", \"legendgroup\": \"Actor=Ben Stiller\", \"marker\": {\"color\": \"#19d3f3\"}, \"name\": \"Actor=Ben Stiller\", \"offsetgroup\": \"Actor=Ben Stiller\", \"orientation\": \"v\", \"showlegend\": true, \"textposition\": \"auto\", \"type\": \"bar\", \"x\": [3], \"xaxis\": \"x\", \"y\": [21], \"yaxis\": \"y\"}, {\"alignmentgroup\": \"True\", \"hoverlabel\": {\"namelength\": 0}, \"hovertemplate\": \"Actor=Billy Crystal<br>Season=%{x}<br>Number of lines=%{y}\", \"legendgroup\": \"Actor=Billy Crystal\", \"marker\": {\"color\": \"#FF6692\"}, \"name\": \"Actor=Billy Crystal\", \"offsetgroup\": \"Actor=Billy Crystal\", \"orientation\": \"v\", \"showlegend\": true, \"textposition\": \"auto\", \"type\": \"bar\", \"x\": [3], \"xaxis\": \"x\", \"y\": [11], \"yaxis\": \"y\"}, {\"alignmentgroup\": \"True\", \"hoverlabel\": {\"namelength\": 0}, \"hovertemplate\": \"Actor=Brad Pitt<br>Season=%{x}<br>Number of lines=%{y}\", \"legendgroup\": \"Actor=Brad Pitt\", \"marker\": {\"color\": \"#B6E880\"}, \"name\": \"Actor=Brad Pitt\", \"offsetgroup\": \"Actor=Brad Pitt\", \"orientation\": \"v\", \"showlegend\": true, \"textposition\": \"auto\", \"type\": \"bar\", \"x\": [8], \"xaxis\": \"x\", \"y\": [50], \"yaxis\": \"y\"}, {\"alignmentgroup\": \"True\", \"hoverlabel\": {\"namelength\": 0}, \"hovertemplate\": \"Actor=Brook Shields<br>Season=%{x}<br>Number of lines=%{y}\", \"legendgroup\": \"Actor=Brook Shields\", \"marker\": {\"color\": \"#FF97FF\"}, \"name\": \"Actor=Brook Shields\", \"offsetgroup\": \"Actor=Brook Shields\", \"orientation\": \"v\", \"showlegend\": true, \"textposition\": \"auto\", \"type\": \"bar\", \"x\": [2], \"xaxis\": \"x\", \"y\": [26], \"yaxis\": \"y\"}, {\"alignmentgroup\": \"True\", \"hoverlabel\": {\"namelength\": 0}, \"hovertemplate\": \"Actor=Bruce Willis<br>Season=%{x}<br>Number of lines=%{y}\", \"legendgroup\": \"Actor=Bruce Willis\", \"marker\": {\"color\": \"#FECB52\"}, \"name\": \"Actor=Bruce Willis\", \"offsetgroup\": \"Actor=Bruce Willis\", \"orientation\": \"v\", \"showlegend\": true, \"textposition\": \"auto\", \"type\": \"bar\", \"x\": [6], \"xaxis\": \"x\", \"y\": [116], \"yaxis\": \"y\"}, {\"alignmentgroup\": \"True\", \"hoverlabel\": {\"namelength\": 0}, \"hovertemplate\": \"Actor=Charlie Sheen<br>Season=%{x}<br>Number of lines=%{y}\", \"legendgroup\": \"Actor=Charlie Sheen\", \"marker\": {\"color\": \"#636efa\"}, \"name\": \"Actor=Charlie Sheen\", \"offsetgroup\": \"Actor=Charlie Sheen\", \"orientation\": \"v\", \"showlegend\": true, \"textposition\": \"auto\", \"type\": \"bar\", \"x\": [2], \"xaxis\": \"x\", \"y\": [32], \"yaxis\": \"y\"}, {\"alignmentgroup\": \"True\", \"hoverlabel\": {\"namelength\": 0}, \"hovertemplate\": \"Actor=Charlton heston<br>Season=%{x}<br>Number of lines=%{y}\", \"legendgroup\": \"Actor=Charlton heston\", \"marker\": {\"color\": \"#EF553B\"}, \"name\": \"Actor=Charlton heston\", \"offsetgroup\": \"Actor=Charlton heston\", \"orientation\": \"v\", \"showlegend\": true, \"textposition\": \"auto\", \"type\": \"bar\", \"x\": [4], \"xaxis\": \"x\", \"y\": [9], \"yaxis\": \"y\"}, {\"alignmentgroup\": \"True\", \"hoverlabel\": {\"namelength\": 0}, \"hovertemplate\": \"Actor=Chris Isaak\\u00a0<br>Season=%{x}<br>Number of lines=%{y}\", \"legendgroup\": \"Actor=Chris Isaak\\u00a0\", \"marker\": {\"color\": \"#00cc96\"}, \"name\": \"Actor=Chris Isaak\\u00a0\", \"offsetgroup\": \"Actor=Chris Isaak\\u00a0\", \"orientation\": \"v\", \"showlegend\": true, \"textposition\": \"auto\", \"type\": \"bar\", \"x\": [2], \"xaxis\": \"x\", \"y\": [15], \"yaxis\": \"y\"}, {\"alignmentgroup\": \"True\", \"hoverlabel\": {\"namelength\": 0}, \"hovertemplate\": \"Actor=Chris Parnell<br>Season=%{x}<br>Number of lines=%{y}\", \"legendgroup\": \"Actor=Chris Parnell\", \"marker\": {\"color\": \"#ab63fa\"}, \"name\": \"Actor=Chris Parnell\", \"offsetgroup\": \"Actor=Chris Parnell\", \"orientation\": \"v\", \"showlegend\": true, \"textposition\": \"auto\", \"type\": \"bar\", \"x\": [8], \"xaxis\": \"x\", \"y\": [10], \"yaxis\": \"y\"}, {\"alignmentgroup\": \"True\", \"hoverlabel\": {\"namelength\": 0}, \"hovertemplate\": \"Actor=Chrissie Hynde<br>Season=%{x}<br>Number of lines=%{y}\", \"legendgroup\": \"Actor=Chrissie Hynde\", \"marker\": {\"color\": \"#FFA15A\"}, \"name\": \"Actor=Chrissie Hynde\", \"offsetgroup\": \"Actor=Chrissie Hynde\", \"orientation\": \"v\", \"showlegend\": true, \"textposition\": \"auto\", \"type\": \"bar\", \"x\": [2], \"xaxis\": \"x\", \"y\": [13], \"yaxis\": \"y\"}, {\"alignmentgroup\": \"True\", \"hoverlabel\": {\"namelength\": 0}, \"hovertemplate\": \"Actor=Christina Applegate<br>Season=%{x}<br>Number of lines=%{y}\", \"legendgroup\": \"Actor=Christina Applegate\", \"marker\": {\"color\": \"#19d3f3\"}, \"name\": \"Actor=Christina Applegate\", \"offsetgroup\": \"Actor=Christina Applegate\", \"orientation\": \"v\", \"showlegend\": true, \"textposition\": \"auto\", \"type\": \"bar\", \"x\": [9, 10], \"xaxis\": \"x\", \"y\": [59, 65], \"yaxis\": \"y\"}, {\"alignmentgroup\": \"True\", \"hoverlabel\": {\"namelength\": 0}, \"hovertemplate\": \"Actor=Dakota Fanning<br>Season=%{x}<br>Number of lines=%{y}\", \"legendgroup\": \"Actor=Dakota Fanning\", \"marker\": {\"color\": \"#FF6692\"}, \"name\": \"Actor=Dakota Fanning\", \"offsetgroup\": \"Actor=Dakota Fanning\", \"orientation\": \"v\", \"showlegend\": true, \"textposition\": \"auto\", \"type\": \"bar\", \"x\": [10], \"xaxis\": \"x\", \"y\": [11], \"yaxis\": \"y\"}, {\"alignmentgroup\": \"True\", \"hoverlabel\": {\"namelength\": 0}, \"hovertemplate\": \"Actor=Danny DeVito\\u00a0<br>Season=%{x}<br>Number of lines=%{y}\", \"legendgroup\": \"Actor=Danny DeVito\\u00a0\", \"marker\": {\"color\": \"#B6E880\"}, \"name\": \"Actor=Danny DeVito\\u00a0\", \"offsetgroup\": \"Actor=Danny DeVito\\u00a0\", \"orientation\": \"v\", \"showlegend\": true, \"textposition\": \"auto\", \"type\": \"bar\", \"x\": [10], \"xaxis\": \"x\", \"y\": [24], \"yaxis\": \"y\"}, {\"alignmentgroup\": \"True\", \"hoverlabel\": {\"namelength\": 0}, \"hovertemplate\": \"Actor=David Arquette<br>Season=%{x}<br>Number of lines=%{y}\", \"legendgroup\": \"Actor=David Arquette\", \"marker\": {\"color\": \"#FF97FF\"}, \"name\": \"Actor=David Arquette\", \"offsetgroup\": \"Actor=David Arquette\", \"orientation\": \"v\", \"showlegend\": true, \"textposition\": \"auto\", \"type\": \"bar\", \"x\": [3], \"xaxis\": \"x\", \"y\": [24], \"yaxis\": \"y\"}, {\"alignmentgroup\": \"True\", \"hoverlabel\": {\"namelength\": 0}, \"hovertemplate\": \"Actor=Denise Richards<br>Season=%{x}<br>Number of lines=%{y}\", \"legendgroup\": \"Actor=Denise Richards\", \"marker\": {\"color\": \"#FECB52\"}, \"name\": \"Actor=Denise Richards\", \"offsetgroup\": \"Actor=Denise Richards\", \"orientation\": \"v\", \"showlegend\": true, \"textposition\": \"auto\", \"type\": \"bar\", \"x\": [7], \"xaxis\": \"x\", \"y\": [16], \"yaxis\": \"y\"}, {\"alignmentgroup\": \"True\", \"hoverlabel\": {\"namelength\": 0}, \"hovertemplate\": \"Actor=Dermot Mulroney<br>Season=%{x}<br>Number of lines=%{y}\", \"legendgroup\": \"Actor=Dermot Mulroney\", \"marker\": {\"color\": \"#636efa\"}, \"name\": \"Actor=Dermot Mulroney\", \"offsetgroup\": \"Actor=Dermot Mulroney\", \"orientation\": \"v\", \"showlegend\": true, \"textposition\": \"auto\", \"type\": \"bar\", \"x\": [9], \"xaxis\": \"x\", \"y\": [25], \"yaxis\": \"y\"}, {\"alignmentgroup\": \"True\", \"hoverlabel\": {\"namelength\": 0}, \"hovertemplate\": \"Actor=Elle Macpherson<br>Season=%{x}<br>Number of lines=%{y}\", \"legendgroup\": \"Actor=Elle Macpherson\", \"marker\": {\"color\": \"#EF553B\"}, \"name\": \"Actor=Elle Macpherson\", \"offsetgroup\": \"Actor=Elle Macpherson\", \"orientation\": \"v\", \"showlegend\": true, \"textposition\": \"auto\", \"type\": \"bar\", \"x\": [6], \"xaxis\": \"x\", \"y\": [89], \"yaxis\": \"y\"}, {\"alignmentgroup\": \"True\", \"hoverlabel\": {\"namelength\": 0}, \"hovertemplate\": \"Actor=Ellen Pompeo<br>Season=%{x}<br>Number of lines=%{y}\", \"legendgroup\": \"Actor=Ellen Pompeo\", \"marker\": {\"color\": \"#00cc96\"}, \"name\": \"Actor=Ellen Pompeo\", \"offsetgroup\": \"Actor=Ellen Pompeo\", \"orientation\": \"v\", \"showlegend\": true, \"textposition\": \"auto\", \"type\": \"bar\", \"x\": [10], \"xaxis\": \"x\", \"y\": [10], \"yaxis\": \"y\"}, {\"alignmentgroup\": \"True\", \"hoverlabel\": {\"namelength\": 0}, \"hovertemplate\": \"Actor=Fred Willard\\u00a0<br>Season=%{x}<br>Number of lines=%{y}\", \"legendgroup\": \"Actor=Fred Willard\\u00a0\", \"marker\": {\"color\": \"#ab63fa\"}, \"name\": \"Actor=Fred Willard\\u00a0\", \"offsetgroup\": \"Actor=Fred Willard\\u00a0\", \"orientation\": \"v\", \"showlegend\": true, \"textposition\": \"auto\", \"type\": \"bar\", \"x\": [2], \"xaxis\": \"x\", \"y\": [6], \"yaxis\": \"y\"}, {\"alignmentgroup\": \"True\", \"hoverlabel\": {\"namelength\": 0}, \"hovertemplate\": \"Actor=Freddie Prinze Jr.<br>Season=%{x}<br>Number of lines=%{y}\", \"legendgroup\": \"Actor=Freddie Prinze Jr.\", \"marker\": {\"color\": \"#FFA15A\"}, \"name\": \"Actor=Freddie Prinze Jr.\", \"offsetgroup\": \"Actor=Freddie Prinze Jr.\", \"orientation\": \"v\", \"showlegend\": true, \"textposition\": \"auto\", \"type\": \"bar\", \"x\": [9], \"xaxis\": \"x\", \"y\": [29], \"yaxis\": \"y\"}, {\"alignmentgroup\": \"True\", \"hoverlabel\": {\"namelength\": 0}, \"hovertemplate\": \"Actor=Gabrielle Union<br>Season=%{x}<br>Number of lines=%{y}\", \"legendgroup\": \"Actor=Gabrielle Union\", \"marker\": {\"color\": \"#19d3f3\"}, \"name\": \"Actor=Gabrielle Union\", \"offsetgroup\": \"Actor=Gabrielle Union\", \"orientation\": \"v\", \"showlegend\": true, \"textposition\": \"auto\", \"type\": \"bar\", \"x\": [7], \"xaxis\": \"x\", \"y\": [27], \"yaxis\": \"y\"}, {\"alignmentgroup\": \"True\", \"hoverlabel\": {\"namelength\": 0}, \"hovertemplate\": \"Actor=Gary Oldman<br>Season=%{x}<br>Number of lines=%{y}\", \"legendgroup\": \"Actor=Gary Oldman\", \"marker\": {\"color\": \"#FF6692\"}, \"name\": \"Actor=Gary Oldman\", \"offsetgroup\": \"Actor=Gary Oldman\", \"orientation\": \"v\", \"showlegend\": true, \"textposition\": \"auto\", \"type\": \"bar\", \"x\": [7], \"xaxis\": \"x\", \"y\": [33], \"yaxis\": \"y\"}, {\"alignmentgroup\": \"True\", \"hoverlabel\": {\"namelength\": 0}, \"hovertemplate\": \"Actor=George Clooney<br>Season=%{x}<br>Number of lines=%{y}\", \"legendgroup\": \"Actor=George Clooney\", \"marker\": {\"color\": \"#B6E880\"}, \"name\": \"Actor=George Clooney\", \"offsetgroup\": \"Actor=George Clooney\", \"orientation\": \"v\", \"showlegend\": true, \"textposition\": \"auto\", \"type\": \"bar\", \"x\": [1], \"xaxis\": \"x\", \"y\": [13], \"yaxis\": \"y\"}, {\"alignmentgroup\": \"True\", \"hoverlabel\": {\"namelength\": 0}, \"hovertemplate\": \"Actor=Greg Kinnear<br>Season=%{x}<br>Number of lines=%{y}\", \"legendgroup\": \"Actor=Greg Kinnear\", \"marker\": {\"color\": \"#FF97FF\"}, \"name\": \"Actor=Greg Kinnear\", \"offsetgroup\": \"Actor=Greg Kinnear\", \"orientation\": \"v\", \"showlegend\": true, \"textposition\": \"auto\", \"type\": \"bar\", \"x\": [10], \"xaxis\": \"x\", \"y\": [38], \"yaxis\": \"y\"}, {\"alignmentgroup\": \"True\", \"hoverlabel\": {\"namelength\": 0}, \"hovertemplate\": \"Actor=Hank Azaria<br>Season=%{x}<br>Number of lines=%{y}\", \"legendgroup\": \"Actor=Hank Azaria\", \"marker\": {\"color\": \"#FECB52\"}, \"name\": \"Actor=Hank Azaria\", \"offsetgroup\": \"Actor=Hank Azaria\", \"orientation\": \"v\", \"showlegend\": true, \"textposition\": \"auto\", \"type\": \"bar\", \"x\": [1, 7, 9], \"xaxis\": \"x\", \"y\": [28, 20, 72], \"yaxis\": \"y\"}, {\"alignmentgroup\": \"True\", \"hoverlabel\": {\"namelength\": 0}, \"hovertemplate\": \"Actor=Helen Hunt<br>Season=%{x}<br>Number of lines=%{y}\", \"legendgroup\": \"Actor=Helen Hunt\", \"marker\": {\"color\": \"#636efa\"}, \"name\": \"Actor=Helen Hunt\", \"offsetgroup\": \"Actor=Helen Hunt\", \"orientation\": \"v\", \"showlegend\": true, \"textposition\": \"auto\", \"type\": \"bar\", \"x\": [1], \"xaxis\": \"x\", \"y\": [11], \"yaxis\": \"y\"}, {\"alignmentgroup\": \"True\", \"hoverlabel\": {\"namelength\": 0}, \"hovertemplate\": \"Actor=Hugh Laurie<br>Season=%{x}<br>Number of lines=%{y}\", \"legendgroup\": \"Actor=Hugh Laurie\", \"marker\": {\"color\": \"#EF553B\"}, \"name\": \"Actor=Hugh Laurie\", \"offsetgroup\": \"Actor=Hugh Laurie\", \"orientation\": \"v\", \"showlegend\": true, \"textposition\": \"auto\", \"type\": \"bar\", \"x\": [4], \"xaxis\": \"x\", \"y\": [6], \"yaxis\": \"y\"}, {\"alignmentgroup\": \"True\", \"hoverlabel\": {\"namelength\": 0}, \"hovertemplate\": \"Actor=Iqbal Theba<br>Season=%{x}<br>Number of lines=%{y}\", \"legendgroup\": \"Actor=Iqbal Theba\", \"marker\": {\"color\": \"#00cc96\"}, \"name\": \"Actor=Iqbal Theba\", \"offsetgroup\": \"Actor=Iqbal Theba\", \"orientation\": \"v\", \"showlegend\": true, \"textposition\": \"auto\", \"type\": \"bar\", \"x\": [5], \"xaxis\": \"x\", \"y\": [6], \"yaxis\": \"y\"}, {\"alignmentgroup\": \"True\", \"hoverlabel\": {\"namelength\": 0}, \"hovertemplate\": \"Actor=Isabella Rossellini<br>Season=%{x}<br>Number of lines=%{y}\", \"legendgroup\": \"Actor=Isabella Rossellini\", \"marker\": {\"color\": \"#ab63fa\"}, \"name\": \"Actor=Isabella Rossellini\", \"offsetgroup\": \"Actor=Isabella Rossellini\", \"orientation\": \"v\", \"showlegend\": true, \"textposition\": \"auto\", \"type\": \"bar\", \"x\": [3], \"xaxis\": \"x\", \"y\": [10], \"yaxis\": \"y\"}, {\"alignmentgroup\": \"True\", \"hoverlabel\": {\"namelength\": 0}, \"hovertemplate\": \"Actor=Jason Alexander<br>Season=%{x}<br>Number of lines=%{y}\", \"legendgroup\": \"Actor=Jason Alexander\", \"marker\": {\"color\": \"#FFA15A\"}, \"name\": \"Actor=Jason Alexander\", \"offsetgroup\": \"Actor=Jason Alexander\", \"orientation\": \"v\", \"showlegend\": true, \"textposition\": \"auto\", \"type\": \"bar\", \"x\": [7], \"xaxis\": \"x\", \"y\": [29], \"yaxis\": \"y\"}, {\"alignmentgroup\": \"True\", \"hoverlabel\": {\"namelength\": 0}, \"hovertemplate\": \"Actor=Jay Leno<br>Season=%{x}<br>Number of lines=%{y}\", \"legendgroup\": \"Actor=Jay Leno\", \"marker\": {\"color\": \"#19d3f3\"}, \"name\": \"Actor=Jay Leno\", \"offsetgroup\": \"Actor=Jay Leno\", \"orientation\": \"v\", \"showlegend\": true, \"textposition\": \"auto\", \"type\": \"bar\", \"x\": [1], \"xaxis\": \"x\", \"y\": [4], \"yaxis\": \"y\"}, {\"alignmentgroup\": \"True\", \"hoverlabel\": {\"namelength\": 0}, \"hovertemplate\": \"Actor=Jean-Claude Van Damme<br>Season=%{x}<br>Number of lines=%{y}\", \"legendgroup\": \"Actor=Jean-Claude Van Damme\", \"marker\": {\"color\": \"#FF6692\"}, \"name\": \"Actor=Jean-Claude Van Damme\", \"offsetgroup\": \"Actor=Jean-Claude Van Damme\", \"orientation\": \"v\", \"showlegend\": true, \"textposition\": \"auto\", \"type\": \"bar\", \"x\": [2], \"xaxis\": \"x\", \"y\": [14], \"yaxis\": \"y\"}, {\"alignmentgroup\": \"True\", \"hoverlabel\": {\"namelength\": 0}, \"hovertemplate\": \"Actor=Jeff Goldblum<br>Season=%{x}<br>Number of lines=%{y}\", \"legendgroup\": \"Actor=Jeff Goldblum\", \"marker\": {\"color\": \"#B6E880\"}, \"name\": \"Actor=Jeff Goldblum\", \"offsetgroup\": \"Actor=Jeff Goldblum\", \"orientation\": \"v\", \"showlegend\": true, \"textposition\": \"auto\", \"type\": \"bar\", \"x\": [9], \"xaxis\": \"x\", \"y\": [33], \"yaxis\": \"y\"}, {\"alignmentgroup\": \"True\", \"hoverlabel\": {\"namelength\": 0}, \"hovertemplate\": \"Actor=Jennifer Coolidge<br>Season=%{x}<br>Number of lines=%{y}\", \"legendgroup\": \"Actor=Jennifer Coolidge\", \"marker\": {\"color\": \"#FF97FF\"}, \"name\": \"Actor=Jennifer Coolidge\", \"offsetgroup\": \"Actor=Jennifer Coolidge\", \"orientation\": \"v\", \"showlegend\": true, \"textposition\": \"auto\", \"type\": \"bar\", \"x\": [10], \"xaxis\": \"x\", \"y\": [14], \"yaxis\": \"y\"}, {\"alignmentgroup\": \"True\", \"hoverlabel\": {\"namelength\": 0}, \"hovertemplate\": \"Actor=Jennifer Grey<br>Season=%{x}<br>Number of lines=%{y}\", \"legendgroup\": \"Actor=Jennifer Grey\", \"marker\": {\"color\": \"#FECB52\"}, \"name\": \"Actor=Jennifer Grey\", \"offsetgroup\": \"Actor=Jennifer Grey\", \"orientation\": \"v\", \"showlegend\": true, \"textposition\": \"auto\", \"type\": \"bar\", \"x\": [1], \"xaxis\": \"x\", \"y\": [22], \"yaxis\": \"y\"}, {\"alignmentgroup\": \"True\", \"hoverlabel\": {\"namelength\": 0}, \"hovertemplate\": \"Actor=Jill Goodacre<br>Season=%{x}<br>Number of lines=%{y}\", \"legendgroup\": \"Actor=Jill Goodacre\", \"marker\": {\"color\": \"#636efa\"}, \"name\": \"Actor=Jill Goodacre\", \"offsetgroup\": \"Actor=Jill Goodacre\", \"orientation\": \"v\", \"showlegend\": true, \"textposition\": \"auto\", \"type\": \"bar\", \"x\": [1], \"xaxis\": \"x\", \"y\": [13], \"yaxis\": \"y\"}, {\"alignmentgroup\": \"True\", \"hoverlabel\": {\"namelength\": 0}, \"hovertemplate\": \"Actor=Jim Rash<br>Season=%{x}<br>Number of lines=%{y}\", \"legendgroup\": \"Actor=Jim Rash\", \"marker\": {\"color\": \"#EF553B\"}, \"name\": \"Actor=Jim Rash\", \"offsetgroup\": \"Actor=Jim Rash\", \"orientation\": \"v\", \"showlegend\": true, \"textposition\": \"auto\", \"type\": \"bar\", \"x\": [10], \"xaxis\": \"x\", \"y\": [8], \"yaxis\": \"y\"}, {\"alignmentgroup\": \"True\", \"hoverlabel\": {\"namelength\": 0}, \"hovertemplate\": \"Actor=John Stamos<br>Season=%{x}<br>Number of lines=%{y}\", \"legendgroup\": \"Actor=John Stamos\", \"marker\": {\"color\": \"#00cc96\"}, \"name\": \"Actor=John Stamos\", \"offsetgroup\": \"Actor=John Stamos\", \"orientation\": \"v\", \"showlegend\": true, \"textposition\": \"auto\", \"type\": \"bar\", \"x\": [9], \"xaxis\": \"x\", \"y\": [20], \"yaxis\": \"y\"}, {\"alignmentgroup\": \"True\", \"hoverlabel\": {\"namelength\": 0}, \"hovertemplate\": \"Actor=Jon Favreau<br>Season=%{x}<br>Number of lines=%{y}\", \"legendgroup\": \"Actor=Jon Favreau\", \"marker\": {\"color\": \"#ab63fa\"}, \"name\": \"Actor=Jon Favreau\", \"offsetgroup\": \"Actor=Jon Favreau\", \"orientation\": \"v\", \"showlegend\": true, \"textposition\": \"auto\", \"type\": \"bar\", \"x\": [3], \"xaxis\": \"x\", \"y\": [103], \"yaxis\": \"y\"}, {\"alignmentgroup\": \"True\", \"hoverlabel\": {\"namelength\": 0}, \"hovertemplate\": \"Actor=Jon Lovitz<br>Season=%{x}<br>Number of lines=%{y}\", \"legendgroup\": \"Actor=Jon Lovitz\", \"marker\": {\"color\": \"#FFA15A\"}, \"name\": \"Actor=Jon Lovitz\", \"offsetgroup\": \"Actor=Jon Lovitz\", \"orientation\": \"v\", \"showlegend\": true, \"textposition\": \"auto\", \"type\": \"bar\", \"x\": [1, 9], \"xaxis\": \"x\", \"y\": [23, 13], \"yaxis\": \"y\"}, {\"alignmentgroup\": \"True\", \"hoverlabel\": {\"namelength\": 0}, \"hovertemplate\": \"Actor=Julia Roberts<br>Season=%{x}<br>Number of lines=%{y}\", \"legendgroup\": \"Actor=Julia Roberts\", \"marker\": {\"color\": \"#19d3f3\"}, \"name\": \"Actor=Julia Roberts\", \"offsetgroup\": \"Actor=Julia Roberts\", \"orientation\": \"v\", \"showlegend\": true, \"textposition\": \"auto\", \"type\": \"bar\", \"x\": [2], \"xaxis\": \"x\", \"y\": [35], \"yaxis\": \"y\"}, {\"alignmentgroup\": \"True\", \"hoverlabel\": {\"namelength\": 0}, \"hovertemplate\": \"Actor=Kathleen Turner<br>Season=%{x}<br>Number of lines=%{y}\", \"legendgroup\": \"Actor=Kathleen Turner\", \"marker\": {\"color\": \"#FF6692\"}, \"name\": \"Actor=Kathleen Turner\", \"offsetgroup\": \"Actor=Kathleen Turner\", \"orientation\": \"v\", \"showlegend\": true, \"textposition\": \"auto\", \"type\": \"bar\", \"x\": [7], \"xaxis\": \"x\", \"y\": [23], \"yaxis\": \"y\"}, {\"alignmentgroup\": \"True\", \"hoverlabel\": {\"namelength\": 0}, \"hovertemplate\": \"Actor=Kristin Davis<br>Season=%{x}<br>Number of lines=%{y}\", \"legendgroup\": \"Actor=Kristin Davis\", \"marker\": {\"color\": \"#B6E880\"}, \"name\": \"Actor=Kristin Davis\", \"offsetgroup\": \"Actor=Kristin Davis\", \"orientation\": \"v\", \"showlegend\": true, \"textposition\": \"auto\", \"type\": \"bar\", \"x\": [7], \"xaxis\": \"x\", \"y\": [23], \"yaxis\": \"y\"}, {\"alignmentgroup\": \"True\", \"hoverlabel\": {\"namelength\": 0}, \"hovertemplate\": \"Actor=Lea Thompson<br>Season=%{x}<br>Number of lines=%{y}\", \"legendgroup\": \"Actor=Lea Thompson\", \"marker\": {\"color\": \"#FF97FF\"}, \"name\": \"Actor=Lea Thompson\", \"offsetgroup\": \"Actor=Lea Thompson\", \"orientation\": \"v\", \"showlegend\": true, \"textposition\": \"auto\", \"type\": \"bar\", \"x\": [2], \"xaxis\": \"x\", \"y\": [6], \"yaxis\": \"y\"}, {\"alignmentgroup\": \"True\", \"hoverlabel\": {\"namelength\": 0}, \"hovertemplate\": \"Actor=Leah Remini<br>Season=%{x}<br>Number of lines=%{y}\", \"legendgroup\": \"Actor=Leah Remini\", \"marker\": {\"color\": \"#FECB52\"}, \"name\": \"Actor=Leah Remini\", \"offsetgroup\": \"Actor=Leah Remini\", \"orientation\": \"v\", \"showlegend\": true, \"textposition\": \"auto\", \"type\": \"bar\", \"x\": [1], \"xaxis\": \"x\", \"y\": [21], \"yaxis\": \"y\"}, {\"alignmentgroup\": \"True\", \"hoverlabel\": {\"namelength\": 0}, \"hovertemplate\": \"Actor=Mae Whitman<br>Season=%{x}<br>Number of lines=%{y}\", \"legendgroup\": \"Actor=Mae Whitman\", \"marker\": {\"color\": \"#636efa\"}, \"name\": \"Actor=Mae Whitman\", \"offsetgroup\": \"Actor=Mae Whitman\", \"orientation\": \"v\", \"showlegend\": true, \"textposition\": \"auto\", \"type\": \"bar\", \"x\": [3], \"xaxis\": \"x\", \"y\": [11], \"yaxis\": \"y\"}, {\"alignmentgroup\": \"True\", \"hoverlabel\": {\"namelength\": 0}, \"hovertemplate\": \"Actor=Marlo Thomas<br>Season=%{x}<br>Number of lines=%{y}\", \"legendgroup\": \"Actor=Marlo Thomas\", \"marker\": {\"color\": \"#EF553B\"}, \"name\": \"Actor=Marlo Thomas\", \"offsetgroup\": \"Actor=Marlo Thomas\", \"orientation\": \"v\", \"showlegend\": true, \"textposition\": \"auto\", \"type\": \"bar\", \"x\": [2, 8], \"xaxis\": \"x\", \"y\": [24, 37], \"yaxis\": \"y\"}, {\"alignmentgroup\": \"True\", \"hoverlabel\": {\"namelength\": 0}, \"hovertemplate\": \"Actor=Michael McKean<br>Season=%{x}<br>Number of lines=%{y}\", \"legendgroup\": \"Actor=Michael McKean\", \"marker\": {\"color\": \"#00cc96\"}, \"name\": \"Actor=Michael McKean\", \"offsetgroup\": \"Actor=Michael McKean\", \"orientation\": \"v\", \"showlegend\": true, \"textposition\": \"auto\", \"type\": \"bar\", \"x\": [2], \"xaxis\": \"x\", \"y\": [18], \"yaxis\": \"y\"}, {\"alignmentgroup\": \"True\", \"hoverlabel\": {\"namelength\": 0}, \"hovertemplate\": \"Actor=Morgan Fairchild<br>Season=%{x}<br>Number of lines=%{y}\", \"legendgroup\": \"Actor=Morgan Fairchild\", \"marker\": {\"color\": \"#ab63fa\"}, \"name\": \"Actor=Morgan Fairchild\", \"offsetgroup\": \"Actor=Morgan Fairchild\", \"orientation\": \"v\", \"showlegend\": true, \"textposition\": \"auto\", \"type\": \"bar\", \"x\": [1, 5, 7, 8], \"xaxis\": \"x\", \"y\": [28, 1, 7, 4], \"yaxis\": \"y\"}, {\"alignmentgroup\": \"True\", \"hoverlabel\": {\"namelength\": 0}, \"hovertemplate\": \"Actor=Noah Wyle<br>Season=%{x}<br>Number of lines=%{y}\", \"legendgroup\": \"Actor=Noah Wyle\", \"marker\": {\"color\": \"#FFA15A\"}, \"name\": \"Actor=Noah Wyle\", \"offsetgroup\": \"Actor=Noah Wyle\", \"orientation\": \"v\", \"showlegend\": true, \"textposition\": \"auto\", \"type\": \"bar\", \"x\": [1], \"xaxis\": \"x\", \"y\": [10], \"yaxis\": \"y\"}, {\"alignmentgroup\": \"True\", \"hoverlabel\": {\"namelength\": 0}, \"hovertemplate\": \"Actor=Paul Rudd<br>Season=%{x}<br>Number of lines=%{y}\", \"legendgroup\": \"Actor=Paul Rudd\", \"marker\": {\"color\": \"#19d3f3\"}, \"name\": \"Actor=Paul Rudd\", \"offsetgroup\": \"Actor=Paul Rudd\", \"orientation\": \"v\", \"showlegend\": true, \"textposition\": \"auto\", \"type\": \"bar\", \"x\": [9, 10], \"xaxis\": \"x\", \"y\": [229, 116], \"yaxis\": \"y\"}, {\"alignmentgroup\": \"True\", \"hoverlabel\": {\"namelength\": 0}, \"hovertemplate\": \"Actor=Rebecca Romijn<br>Season=%{x}<br>Number of lines=%{y}\", \"legendgroup\": \"Actor=Rebecca Romijn\", \"marker\": {\"color\": \"#FF6692\"}, \"name\": \"Actor=Rebecca Romijn\", \"offsetgroup\": \"Actor=Rebecca Romijn\", \"orientation\": \"v\", \"showlegend\": true, \"textposition\": \"auto\", \"type\": \"bar\", \"x\": [4], \"xaxis\": \"x\", \"y\": [17], \"yaxis\": \"y\"}, {\"alignmentgroup\": \"True\", \"hoverlabel\": {\"namelength\": 0}, \"hovertemplate\": \"Actor=Reese Witherspoon<br>Season=%{x}<br>Number of lines=%{y}\", \"legendgroup\": \"Actor=Reese Witherspoon\", \"marker\": {\"color\": \"#B6E880\"}, \"name\": \"Actor=Reese Witherspoon\", \"offsetgroup\": \"Actor=Reese Witherspoon\", \"orientation\": \"v\", \"showlegend\": true, \"textposition\": \"auto\", \"type\": \"bar\", \"x\": [6], \"xaxis\": \"x\", \"y\": [67], \"yaxis\": \"y\"}, {\"alignmentgroup\": \"True\", \"hoverlabel\": {\"namelength\": 0}, \"hovertemplate\": \"Actor=Robin Williams<br>Season=%{x}<br>Number of lines=%{y}\", \"legendgroup\": \"Actor=Robin Williams\", \"marker\": {\"color\": \"#FF97FF\"}, \"name\": \"Actor=Robin Williams\", \"offsetgroup\": \"Actor=Robin Williams\", \"orientation\": \"v\", \"showlegend\": true, \"textposition\": \"auto\", \"type\": \"bar\", \"x\": [3], \"xaxis\": \"x\", \"y\": [11], \"yaxis\": \"y\"}, {\"alignmentgroup\": \"True\", \"hoverlabel\": {\"namelength\": 0}, \"hovertemplate\": \"Actor=Sarah \\\"Fergie\\\" Ferguson<br>Season=%{x}<br>Number of lines=%{y}\", \"legendgroup\": \"Actor=Sarah \\\"Fergie\\\" Ferguson\", \"marker\": {\"color\": \"#FECB52\"}, \"name\": \"Actor=Sarah \\\"Fergie\\\" Ferguson\", \"offsetgroup\": \"Actor=Sarah \\\"Fergie\\\" Ferguson\", \"orientation\": \"v\", \"showlegend\": true, \"textposition\": \"auto\", \"type\": \"bar\", \"x\": [4], \"xaxis\": \"x\", \"y\": [3], \"yaxis\": \"y\"}, {\"alignmentgroup\": \"True\", \"hoverlabel\": {\"namelength\": 0}, \"hovertemplate\": \"Actor=Sean Penn<br>Season=%{x}<br>Number of lines=%{y}\", \"legendgroup\": \"Actor=Sean Penn\", \"marker\": {\"color\": \"#636efa\"}, \"name\": \"Actor=Sean Penn\", \"offsetgroup\": \"Actor=Sean Penn\", \"orientation\": \"v\", \"showlegend\": true, \"textposition\": \"auto\", \"type\": \"bar\", \"x\": [8], \"xaxis\": \"x\", \"y\": [62], \"yaxis\": \"y\"}, {\"alignmentgroup\": \"True\", \"hoverlabel\": {\"namelength\": 0}, \"hovertemplate\": \"Actor=Selma Blair<br>Season=%{x}<br>Number of lines=%{y}\", \"legendgroup\": \"Actor=Selma Blair\", \"marker\": {\"color\": \"#EF553B\"}, \"name\": \"Actor=Selma Blair\", \"offsetgroup\": \"Actor=Selma Blair\", \"orientation\": \"v\", \"showlegend\": true, \"textposition\": \"auto\", \"type\": \"bar\", \"x\": [9], \"xaxis\": \"x\", \"y\": [15], \"yaxis\": \"y\"}, {\"alignmentgroup\": \"True\", \"hoverlabel\": {\"namelength\": 0}, \"hovertemplate\": \"Actor=Soleil Moon Frye<br>Season=%{x}<br>Number of lines=%{y}\", \"legendgroup\": \"Actor=Soleil Moon Frye\", \"marker\": {\"color\": \"#00cc96\"}, \"name\": \"Actor=Soleil Moon Frye\", \"offsetgroup\": \"Actor=Soleil Moon Frye\", \"orientation\": \"v\", \"showlegend\": true, \"textposition\": \"auto\", \"type\": \"bar\", \"x\": [5], \"xaxis\": \"x\", \"y\": [15], \"yaxis\": \"y\"}, {\"alignmentgroup\": \"True\", \"hoverlabel\": {\"namelength\": 0}, \"hovertemplate\": \"Actor=Susan Sarandon<br>Season=%{x}<br>Number of lines=%{y}\", \"legendgroup\": \"Actor=Susan Sarandon\", \"marker\": {\"color\": \"#ab63fa\"}, \"name\": \"Actor=Susan Sarandon\", \"offsetgroup\": \"Actor=Susan Sarandon\", \"orientation\": \"v\", \"showlegend\": true, \"textposition\": \"auto\", \"type\": \"bar\", \"x\": [7], \"xaxis\": \"x\", \"y\": [53], \"yaxis\": \"y\"}, {\"alignmentgroup\": \"True\", \"hoverlabel\": {\"namelength\": 0}, \"hovertemplate\": \"Actor=Tom Selleck<br>Season=%{x}<br>Number of lines=%{y}\", \"legendgroup\": \"Actor=Tom Selleck\", \"marker\": {\"color\": \"#FFA15A\"}, \"name\": \"Actor=Tom Selleck\", \"offsetgroup\": \"Actor=Tom Selleck\", \"orientation\": \"v\", \"showlegend\": true, \"textposition\": \"auto\", \"type\": \"bar\", \"x\": [2, 3, 6], \"xaxis\": \"x\", \"y\": [128, 43, 50], \"yaxis\": \"y\"}, {\"alignmentgroup\": \"True\", \"hoverlabel\": {\"namelength\": 0}, \"hovertemplate\": \"Actor=Winona Ryder<br>Season=%{x}<br>Number of lines=%{y}\", \"legendgroup\": \"Actor=Winona Ryder\", \"marker\": {\"color\": \"#19d3f3\"}, \"name\": \"Actor=Winona Ryder\", \"offsetgroup\": \"Actor=Winona Ryder\", \"orientation\": \"v\", \"showlegend\": true, \"textposition\": \"auto\", \"type\": \"bar\", \"x\": [7], \"xaxis\": \"x\", \"y\": [27], \"yaxis\": \"y\"}],\n",
              "                        {\"barmode\": \"relative\", \"legend\": {\"tracegroupgap\": 0}, \"margin\": {\"t\": 60}, \"template\": {\"data\": {\"bar\": [{\"error_x\": {\"color\": \"#2a3f5f\"}, \"error_y\": {\"color\": \"#2a3f5f\"}, \"marker\": {\"line\": {\"color\": \"#E5ECF6\", \"width\": 0.5}}, \"type\": \"bar\"}], \"barpolar\": [{\"marker\": {\"line\": {\"color\": \"#E5ECF6\", \"width\": 0.5}}, \"type\": \"barpolar\"}], \"carpet\": [{\"aaxis\": {\"endlinecolor\": \"#2a3f5f\", \"gridcolor\": \"white\", \"linecolor\": \"white\", \"minorgridcolor\": \"white\", \"startlinecolor\": \"#2a3f5f\"}, \"baxis\": {\"endlinecolor\": \"#2a3f5f\", \"gridcolor\": \"white\", \"linecolor\": \"white\", \"minorgridcolor\": \"white\", \"startlinecolor\": \"#2a3f5f\"}, \"type\": \"carpet\"}], \"choropleth\": [{\"colorbar\": {\"outlinewidth\": 0, \"ticks\": \"\"}, \"type\": \"choropleth\"}], \"contour\": [{\"colorbar\": {\"outlinewidth\": 0, \"ticks\": \"\"}, \"colorscale\": [[0.0, \"#0d0887\"], [0.1111111111111111, \"#46039f\"], [0.2222222222222222, \"#7201a8\"], [0.3333333333333333, \"#9c179e\"], [0.4444444444444444, \"#bd3786\"], [0.5555555555555556, \"#d8576b\"], [0.6666666666666666, \"#ed7953\"], [0.7777777777777778, \"#fb9f3a\"], [0.8888888888888888, \"#fdca26\"], [1.0, \"#f0f921\"]], \"type\": \"contour\"}], \"contourcarpet\": [{\"colorbar\": {\"outlinewidth\": 0, \"ticks\": \"\"}, \"type\": \"contourcarpet\"}], \"heatmap\": [{\"colorbar\": {\"outlinewidth\": 0, \"ticks\": \"\"}, \"colorscale\": [[0.0, \"#0d0887\"], [0.1111111111111111, \"#46039f\"], [0.2222222222222222, \"#7201a8\"], [0.3333333333333333, \"#9c179e\"], [0.4444444444444444, \"#bd3786\"], [0.5555555555555556, \"#d8576b\"], [0.6666666666666666, \"#ed7953\"], [0.7777777777777778, \"#fb9f3a\"], [0.8888888888888888, \"#fdca26\"], [1.0, \"#f0f921\"]], \"type\": \"heatmap\"}], \"heatmapgl\": [{\"colorbar\": {\"outlinewidth\": 0, \"ticks\": \"\"}, \"colorscale\": [[0.0, \"#0d0887\"], [0.1111111111111111, \"#46039f\"], [0.2222222222222222, \"#7201a8\"], [0.3333333333333333, \"#9c179e\"], [0.4444444444444444, \"#bd3786\"], [0.5555555555555556, \"#d8576b\"], [0.6666666666666666, \"#ed7953\"], [0.7777777777777778, \"#fb9f3a\"], [0.8888888888888888, \"#fdca26\"], [1.0, \"#f0f921\"]], \"type\": \"heatmapgl\"}], \"histogram\": [{\"marker\": {\"colorbar\": {\"outlinewidth\": 0, \"ticks\": \"\"}}, \"type\": \"histogram\"}], \"histogram2d\": [{\"colorbar\": {\"outlinewidth\": 0, \"ticks\": \"\"}, \"colorscale\": [[0.0, \"#0d0887\"], [0.1111111111111111, \"#46039f\"], [0.2222222222222222, \"#7201a8\"], [0.3333333333333333, \"#9c179e\"], [0.4444444444444444, \"#bd3786\"], [0.5555555555555556, \"#d8576b\"], [0.6666666666666666, \"#ed7953\"], [0.7777777777777778, \"#fb9f3a\"], [0.8888888888888888, \"#fdca26\"], [1.0, \"#f0f921\"]], \"type\": \"histogram2d\"}], \"histogram2dcontour\": [{\"colorbar\": {\"outlinewidth\": 0, \"ticks\": \"\"}, \"colorscale\": [[0.0, \"#0d0887\"], [0.1111111111111111, \"#46039f\"], [0.2222222222222222, \"#7201a8\"], [0.3333333333333333, \"#9c179e\"], [0.4444444444444444, \"#bd3786\"], [0.5555555555555556, \"#d8576b\"], [0.6666666666666666, \"#ed7953\"], [0.7777777777777778, \"#fb9f3a\"], [0.8888888888888888, \"#fdca26\"], [1.0, \"#f0f921\"]], \"type\": \"histogram2dcontour\"}], \"mesh3d\": [{\"colorbar\": {\"outlinewidth\": 0, \"ticks\": \"\"}, \"type\": \"mesh3d\"}], \"parcoords\": [{\"line\": {\"colorbar\": {\"outlinewidth\": 0, \"ticks\": \"\"}}, \"type\": \"parcoords\"}], \"pie\": [{\"automargin\": true, \"type\": \"pie\"}], \"scatter\": [{\"marker\": {\"colorbar\": {\"outlinewidth\": 0, \"ticks\": \"\"}}, \"type\": \"scatter\"}], \"scatter3d\": [{\"line\": {\"colorbar\": {\"outlinewidth\": 0, \"ticks\": \"\"}}, \"marker\": {\"colorbar\": {\"outlinewidth\": 0, \"ticks\": \"\"}}, \"type\": \"scatter3d\"}], \"scattercarpet\": [{\"marker\": {\"colorbar\": {\"outlinewidth\": 0, \"ticks\": \"\"}}, \"type\": \"scattercarpet\"}], \"scattergeo\": [{\"marker\": {\"colorbar\": {\"outlinewidth\": 0, \"ticks\": \"\"}}, \"type\": \"scattergeo\"}], \"scattergl\": [{\"marker\": {\"colorbar\": {\"outlinewidth\": 0, \"ticks\": \"\"}}, \"type\": \"scattergl\"}], \"scattermapbox\": [{\"marker\": {\"colorbar\": {\"outlinewidth\": 0, \"ticks\": \"\"}}, \"type\": \"scattermapbox\"}], \"scatterpolar\": [{\"marker\": {\"colorbar\": {\"outlinewidth\": 0, \"ticks\": \"\"}}, \"type\": \"scatterpolar\"}], \"scatterpolargl\": [{\"marker\": {\"colorbar\": {\"outlinewidth\": 0, \"ticks\": \"\"}}, \"type\": \"scatterpolargl\"}], \"scatterternary\": [{\"marker\": {\"colorbar\": {\"outlinewidth\": 0, \"ticks\": \"\"}}, \"type\": \"scatterternary\"}], \"surface\": [{\"colorbar\": {\"outlinewidth\": 0, \"ticks\": \"\"}, \"colorscale\": [[0.0, \"#0d0887\"], [0.1111111111111111, \"#46039f\"], [0.2222222222222222, \"#7201a8\"], [0.3333333333333333, \"#9c179e\"], [0.4444444444444444, \"#bd3786\"], [0.5555555555555556, \"#d8576b\"], [0.6666666666666666, \"#ed7953\"], [0.7777777777777778, \"#fb9f3a\"], [0.8888888888888888, \"#fdca26\"], [1.0, \"#f0f921\"]], \"type\": \"surface\"}], \"table\": [{\"cells\": {\"fill\": {\"color\": \"#EBF0F8\"}, \"line\": {\"color\": \"white\"}}, \"header\": {\"fill\": {\"color\": \"#C8D4E3\"}, \"line\": {\"color\": \"white\"}}, \"type\": \"table\"}]}, \"layout\": {\"annotationdefaults\": {\"arrowcolor\": \"#2a3f5f\", \"arrowhead\": 0, \"arrowwidth\": 1}, \"coloraxis\": {\"colorbar\": {\"outlinewidth\": 0, \"ticks\": \"\"}}, \"colorscale\": {\"diverging\": [[0, \"#8e0152\"], [0.1, \"#c51b7d\"], [0.2, \"#de77ae\"], [0.3, \"#f1b6da\"], [0.4, \"#fde0ef\"], [0.5, \"#f7f7f7\"], [0.6, \"#e6f5d0\"], [0.7, \"#b8e186\"], [0.8, \"#7fbc41\"], [0.9, \"#4d9221\"], [1, \"#276419\"]], \"sequential\": [[0.0, \"#0d0887\"], [0.1111111111111111, \"#46039f\"], [0.2222222222222222, \"#7201a8\"], [0.3333333333333333, \"#9c179e\"], [0.4444444444444444, \"#bd3786\"], [0.5555555555555556, \"#d8576b\"], [0.6666666666666666, \"#ed7953\"], [0.7777777777777778, \"#fb9f3a\"], [0.8888888888888888, \"#fdca26\"], [1.0, \"#f0f921\"]], \"sequentialminus\": [[0.0, \"#0d0887\"], [0.1111111111111111, \"#46039f\"], [0.2222222222222222, \"#7201a8\"], [0.3333333333333333, \"#9c179e\"], [0.4444444444444444, \"#bd3786\"], [0.5555555555555556, \"#d8576b\"], [0.6666666666666666, \"#ed7953\"], [0.7777777777777778, \"#fb9f3a\"], [0.8888888888888888, \"#fdca26\"], [1.0, \"#f0f921\"]]}, \"colorway\": [\"#636efa\", \"#EF553B\", \"#00cc96\", \"#ab63fa\", \"#FFA15A\", \"#19d3f3\", \"#FF6692\", \"#B6E880\", \"#FF97FF\", \"#FECB52\"], \"font\": {\"color\": \"#2a3f5f\"}, \"geo\": {\"bgcolor\": \"white\", \"lakecolor\": \"white\", \"landcolor\": \"#E5ECF6\", \"showlakes\": true, \"showland\": true, \"subunitcolor\": \"white\"}, \"hoverlabel\": {\"align\": \"left\"}, \"hovermode\": \"closest\", \"mapbox\": {\"style\": \"light\"}, \"paper_bgcolor\": \"white\", \"plot_bgcolor\": \"#E5ECF6\", \"polar\": {\"angularaxis\": {\"gridcolor\": \"white\", \"linecolor\": \"white\", \"ticks\": \"\"}, \"bgcolor\": \"#E5ECF6\", \"radialaxis\": {\"gridcolor\": \"white\", \"linecolor\": \"white\", \"ticks\": \"\"}}, \"scene\": {\"xaxis\": {\"backgroundcolor\": \"#E5ECF6\", \"gridcolor\": \"white\", \"gridwidth\": 2, \"linecolor\": \"white\", \"showbackground\": true, \"ticks\": \"\", \"zerolinecolor\": \"white\"}, \"yaxis\": {\"backgroundcolor\": \"#E5ECF6\", \"gridcolor\": \"white\", \"gridwidth\": 2, \"linecolor\": \"white\", \"showbackground\": true, \"ticks\": \"\", \"zerolinecolor\": \"white\"}, \"zaxis\": {\"backgroundcolor\": \"#E5ECF6\", \"gridcolor\": \"white\", \"gridwidth\": 2, \"linecolor\": \"white\", \"showbackground\": true, \"ticks\": \"\", \"zerolinecolor\": \"white\"}}, \"shapedefaults\": {\"line\": {\"color\": \"#2a3f5f\"}}, \"ternary\": {\"aaxis\": {\"gridcolor\": \"white\", \"linecolor\": \"white\", \"ticks\": \"\"}, \"baxis\": {\"gridcolor\": \"white\", \"linecolor\": \"white\", \"ticks\": \"\"}, \"bgcolor\": \"#E5ECF6\", \"caxis\": {\"gridcolor\": \"white\", \"linecolor\": \"white\", \"ticks\": \"\"}}, \"title\": {\"x\": 0.05}, \"xaxis\": {\"automargin\": true, \"gridcolor\": \"white\", \"linecolor\": \"white\", \"ticks\": \"\", \"title\": {\"standoff\": 15}, \"zerolinecolor\": \"white\", \"zerolinewidth\": 2}, \"yaxis\": {\"automargin\": true, \"gridcolor\": \"white\", \"linecolor\": \"white\", \"ticks\": \"\", \"title\": {\"standoff\": 15}, \"zerolinecolor\": \"white\", \"zerolinewidth\": 2}}}, \"xaxis\": {\"anchor\": \"y\", \"domain\": [0.0, 1.0], \"title\": {\"text\": \"Season\"}}, \"yaxis\": {\"anchor\": \"x\", \"domain\": [0.0, 1.0], \"title\": {\"text\": \"Number of lines\"}}},\n",
              "                        {\"responsive\": true}\n",
              "                    ).then(function(){\n",
              "                            \n",
              "var gd = document.getElementById('94a5b090-a846-494b-9086-e5d8270715ce');\n",
              "var x = new MutationObserver(function (mutations, observer) {{\n",
              "        var display = window.getComputedStyle(gd).display;\n",
              "        if (!display || display === 'none') {{\n",
              "            console.log([gd, 'removed!']);\n",
              "            Plotly.purge(gd);\n",
              "            observer.disconnect();\n",
              "        }}\n",
              "}});\n",
              "\n",
              "// Listen for the removal of the full notebook cells\n",
              "var notebookContainer = gd.closest('#notebook-container');\n",
              "if (notebookContainer) {{\n",
              "    x.observe(notebookContainer, {childList: true});\n",
              "}}\n",
              "\n",
              "// Listen for the clearing of the current output cell\n",
              "var outputEl = gd.closest('.output');\n",
              "if (outputEl) {{\n",
              "    x.observe(outputEl, {childList: true});\n",
              "}}\n",
              "\n",
              "                        })\n",
              "                };\n",
              "                \n",
              "            </script>\n",
              "        </div>\n",
              "</body>\n",
              "</html>"
            ]
          },
          "metadata": {
            "tags": []
          }
        }
      ]
    },
    {
      "cell_type": "markdown",
      "metadata": {
        "id": "vnyk9yWEq2YB"
      },
      "source": [
        "####Code"
      ]
    },
    {
      "cell_type": "code",
      "metadata": {
        "id": "RYmodwt5YzA-"
      },
      "source": [
        "main_characters = [\"Ross\", \"Joey\",\"Chandler\",\"Phoebe\",\"Rachel\",\"Monica\"]"
      ],
      "execution_count": 18,
      "outputs": []
    },
    {
      "cell_type": "code",
      "metadata": {
        "id": "WxhUimDIYzA-"
      },
      "source": [
        "friends2= friends[friends.author.isin(main_characters)].drop(columns=['episode_number', 'episode_title', \"quote_order\"]).reset_index(drop = True)"
      ],
      "execution_count": 19,
      "outputs": []
    },
    {
      "cell_type": "code",
      "metadata": {
        "id": "pl1yWBz9YzA-"
      },
      "source": [
        "friends2[\"quote\"] = friends2[\"quote\"].str.replace(\"\\(([^)]+)\\)\",\"\").str.strip().str.lower().str.split(\"[.|!|?]\", expand = False)"
      ],
      "execution_count": 20,
      "outputs": []
    },
    {
      "cell_type": "code",
      "metadata": {
        "id": "JGHGRUFEYzA_"
      },
      "source": [
        "friends2 = friends2.explode(\"quote\")"
      ],
      "execution_count": 21,
      "outputs": []
    },
    {
      "cell_type": "code",
      "metadata": {
        "id": "0b9Eph_VYzA_"
      },
      "source": [
        "friends2.reset_index(drop = True, inplace = True)"
      ],
      "execution_count": 22,
      "outputs": []
    },
    {
      "cell_type": "code",
      "metadata": {
        "id": "I6lG74mBYzA_"
      },
      "source": [
        "scene = friends2[friends2[\"quote\"].str.contains(\"scene:\")].index.to_list()"
      ],
      "execution_count": 23,
      "outputs": []
    },
    {
      "cell_type": "code",
      "metadata": {
        "id": "rbLjxVuNYzBA"
      },
      "source": [
        "friends2 = friends2.drop(friends2.index[scene])"
      ],
      "execution_count": 24,
      "outputs": []
    },
    {
      "cell_type": "code",
      "metadata": {
        "id": "DiS9RSGyYzBA"
      },
      "source": [
        "friends2[\"quote\"] = friends2[\"quote\"].str.replace(\"[^a-zA-Z' ]\",\"\")"
      ],
      "execution_count": 25,
      "outputs": []
    },
    {
      "cell_type": "code",
      "metadata": {
        "id": "sh808VZVYzBA"
      },
      "source": [
        "friends2.reset_index(drop = True, inplace = True)"
      ],
      "execution_count": 26,
      "outputs": []
    },
    {
      "cell_type": "code",
      "metadata": {
        "id": "y1AHPdxlYzBB"
      },
      "source": [
        "indexes = [] #eliminamos celdas vacías\n",
        "for i in range(len(friends2[\"quote\"])):\n",
        "    if len(friends2[\"quote\"][i]) == 0:\n",
        "        indexes.append(i)"
      ],
      "execution_count": 27,
      "outputs": []
    },
    {
      "cell_type": "code",
      "metadata": {
        "id": "utOf823XYzBB"
      },
      "source": [
        "friends2 = friends2.drop(friends2.index[indexes]).reset_index(drop = True)"
      ],
      "execution_count": 28,
      "outputs": []
    },
    {
      "cell_type": "code",
      "metadata": {
        "id": "Wdl5irrtYzBB"
      },
      "source": [
        "friends2[\"quote\"] = friends2[\"quote\"].str.strip().str.replace(\"'\\s\",\"\").str.replace(\"'cause\",\"because\").str.replace(\"you know\",\"y'know\").str.replace(\"you are\",\"you're\").str.replace(\"come on\",\"c'mon\").str.replace(\"'kay\",\"okay\").str.replace(\"'em\",\"them\").str.replace(\"doin'\",\"doing\").str.replace(\"(ya)\",\"you\").str.replace(\"lemme\",\"let me\").str.replace(\"gonna\", \"going to\").str.replace(\"'\", \"\")"
      ],
      "execution_count": 29,
      "outputs": []
    },
    {
      "cell_type": "code",
      "metadata": {
        "id": "vaBBncH7YzBB"
      },
      "source": [
        "def polarity(x):\n",
        "    return TextBlob(x).polarity"
      ],
      "execution_count": 30,
      "outputs": []
    },
    {
      "cell_type": "code",
      "metadata": {
        "id": "fOZUgk18YzBC"
      },
      "source": [
        "def sentiment_analysis(x):\n",
        "    if x > 0.5: \n",
        "        x = \"Positive\"\n",
        "    elif x < -0.5:\n",
        "        x = \"Negative\"\n",
        "    else:\n",
        "        x = \"Neutral\"\n",
        "    return x\n",
        "#Less than 0 denotes Negative, I prefer to set < - 0.5\n",
        "#Equal to 0  denotes Neutral\n",
        "#Greater than 0 denotes Positive, I prefer to set > 0.5"
      ],
      "execution_count": 31,
      "outputs": []
    },
    {
      "cell_type": "code",
      "metadata": {
        "colab": {
          "base_uri": "https://localhost:8080/"
        },
        "id": "qD7FHsvkYzBC",
        "outputId": "13499aed-8e0d-4fd8-aff0-444dd47968bd"
      },
      "source": [
        "#min_df ignore terms that have a document frequency strictly lower than the given threshold.\n",
        "vectorizer = CountVectorizer(min_df = 0.0002, ngram_range =(1,1))\n",
        "matrix = vectorizer.fit_transform(friends2[\"quote\"])\n",
        "matrix"
      ],
      "execution_count": 32,
      "outputs": [
        {
          "output_type": "execute_result",
          "data": {
            "text/plain": [
              "<88531x1625 sparse matrix of type '<class 'numpy.int64'>'\n",
              "\twith 424199 stored elements in Compressed Sparse Row format>"
            ]
          },
          "metadata": {
            "tags": []
          },
          "execution_count": 32
        }
      ]
    },
    {
      "cell_type": "code",
      "metadata": {
        "colab": {
          "base_uri": "https://localhost:8080/"
        },
        "id": "Emss3dCNYzBD",
        "outputId": "64a70613-e813-44fa-bac1-083eeb208a99"
      },
      "source": [
        "matrix.shape"
      ],
      "execution_count": 33,
      "outputs": [
        {
          "output_type": "execute_result",
          "data": {
            "text/plain": [
              "(88531, 1625)"
            ]
          },
          "metadata": {
            "tags": []
          },
          "execution_count": 33
        }
      ]
    },
    {
      "cell_type": "code",
      "metadata": {
        "id": "QFjdkbahYzBD"
      },
      "source": [
        "y = friends2.iloc[:, 0].values"
      ],
      "execution_count": 34,
      "outputs": []
    },
    {
      "cell_type": "code",
      "metadata": {
        "id": "CH1oPMUNYzBD"
      },
      "source": [
        "counts = pd.DataFrame(matrix.toarray(),index = list(y),\n",
        "                      columns=vectorizer.get_feature_names())"
      ],
      "execution_count": 35,
      "outputs": []
    },
    {
      "cell_type": "code",
      "metadata": {
        "colab": {
          "base_uri": "https://localhost:8080/",
          "height": 252
        },
        "id": "tFaDmLhOYzBD",
        "outputId": "fdb76370-8838-475e-c011-3ba0108cebfc"
      },
      "source": [
        "counts.head()"
      ],
      "execution_count": 36,
      "outputs": [
        {
          "output_type": "execute_result",
          "data": {
            "text/html": [
              "<div>\n",
              "<style scoped>\n",
              "    .dataframe tbody tr th:only-of-type {\n",
              "        vertical-align: middle;\n",
              "    }\n",
              "\n",
              "    .dataframe tbody tr th {\n",
              "        vertical-align: top;\n",
              "    }\n",
              "\n",
              "    .dataframe thead th {\n",
              "        text-align: right;\n",
              "    }\n",
              "</style>\n",
              "<table border=\"1\" class=\"dataframe\">\n",
              "  <thead>\n",
              "    <tr style=\"text-align: right;\">\n",
              "      <th></th>\n",
              "      <th>able</th>\n",
              "      <th>about</th>\n",
              "      <th>absolutely</th>\n",
              "      <th>accent</th>\n",
              "      <th>accept</th>\n",
              "      <th>accident</th>\n",
              "      <th>across</th>\n",
              "      <th>act</th>\n",
              "      <th>acting</th>\n",
              "      <th>actor</th>\n",
              "      <th>actual</th>\n",
              "      <th>actually</th>\n",
              "      <th>admit</th>\n",
              "      <th>advice</th>\n",
              "      <th>afraid</th>\n",
              "      <th>after</th>\n",
              "      <th>afternoon</th>\n",
              "      <th>again</th>\n",
              "      <th>against</th>\n",
              "      <th>age</th>\n",
              "      <th>agent</th>\n",
              "      <th>ago</th>\n",
              "      <th>agreed</th>\n",
              "      <th>ah</th>\n",
              "      <th>ahead</th>\n",
              "      <th>ahh</th>\n",
              "      <th>ahhh</th>\n",
              "      <th>air</th>\n",
              "      <th>airport</th>\n",
              "      <th>alive</th>\n",
              "      <th>all</th>\n",
              "      <th>allowed</th>\n",
              "      <th>almost</th>\n",
              "      <th>alone</th>\n",
              "      <th>along</th>\n",
              "      <th>already</th>\n",
              "      <th>alright</th>\n",
              "      <th>also</th>\n",
              "      <th>although</th>\n",
              "      <th>always</th>\n",
              "      <th>...</th>\n",
              "      <th>worked</th>\n",
              "      <th>working</th>\n",
              "      <th>works</th>\n",
              "      <th>world</th>\n",
              "      <th>worried</th>\n",
              "      <th>worry</th>\n",
              "      <th>worse</th>\n",
              "      <th>worst</th>\n",
              "      <th>worth</th>\n",
              "      <th>would</th>\n",
              "      <th>wouldnt</th>\n",
              "      <th>wouldve</th>\n",
              "      <th>wow</th>\n",
              "      <th>write</th>\n",
              "      <th>writing</th>\n",
              "      <th>wrong</th>\n",
              "      <th>wrote</th>\n",
              "      <th>yeah</th>\n",
              "      <th>yeahyeah</th>\n",
              "      <th>year</th>\n",
              "      <th>years</th>\n",
              "      <th>yelling</th>\n",
              "      <th>yep</th>\n",
              "      <th>yes</th>\n",
              "      <th>yesterday</th>\n",
              "      <th>yet</th>\n",
              "      <th>yknow</th>\n",
              "      <th>york</th>\n",
              "      <th>you</th>\n",
              "      <th>youd</th>\n",
              "      <th>youll</th>\n",
              "      <th>young</th>\n",
              "      <th>your</th>\n",
              "      <th>youre</th>\n",
              "      <th>youreyoure</th>\n",
              "      <th>yours</th>\n",
              "      <th>yourself</th>\n",
              "      <th>youve</th>\n",
              "      <th>youy</th>\n",
              "      <th>youyou</th>\n",
              "    </tr>\n",
              "  </thead>\n",
              "  <tbody>\n",
              "    <tr>\n",
              "      <th>Monica</th>\n",
              "      <td>0</td>\n",
              "      <td>0</td>\n",
              "      <td>0</td>\n",
              "      <td>0</td>\n",
              "      <td>0</td>\n",
              "      <td>0</td>\n",
              "      <td>0</td>\n",
              "      <td>0</td>\n",
              "      <td>0</td>\n",
              "      <td>0</td>\n",
              "      <td>0</td>\n",
              "      <td>0</td>\n",
              "      <td>0</td>\n",
              "      <td>0</td>\n",
              "      <td>0</td>\n",
              "      <td>0</td>\n",
              "      <td>0</td>\n",
              "      <td>0</td>\n",
              "      <td>0</td>\n",
              "      <td>0</td>\n",
              "      <td>0</td>\n",
              "      <td>0</td>\n",
              "      <td>0</td>\n",
              "      <td>0</td>\n",
              "      <td>0</td>\n",
              "      <td>0</td>\n",
              "      <td>0</td>\n",
              "      <td>0</td>\n",
              "      <td>0</td>\n",
              "      <td>0</td>\n",
              "      <td>0</td>\n",
              "      <td>0</td>\n",
              "      <td>0</td>\n",
              "      <td>0</td>\n",
              "      <td>0</td>\n",
              "      <td>0</td>\n",
              "      <td>0</td>\n",
              "      <td>0</td>\n",
              "      <td>0</td>\n",
              "      <td>0</td>\n",
              "      <td>...</td>\n",
              "      <td>0</td>\n",
              "      <td>0</td>\n",
              "      <td>0</td>\n",
              "      <td>0</td>\n",
              "      <td>0</td>\n",
              "      <td>0</td>\n",
              "      <td>0</td>\n",
              "      <td>0</td>\n",
              "      <td>0</td>\n",
              "      <td>0</td>\n",
              "      <td>0</td>\n",
              "      <td>0</td>\n",
              "      <td>0</td>\n",
              "      <td>0</td>\n",
              "      <td>0</td>\n",
              "      <td>0</td>\n",
              "      <td>0</td>\n",
              "      <td>0</td>\n",
              "      <td>0</td>\n",
              "      <td>0</td>\n",
              "      <td>0</td>\n",
              "      <td>0</td>\n",
              "      <td>0</td>\n",
              "      <td>0</td>\n",
              "      <td>0</td>\n",
              "      <td>0</td>\n",
              "      <td>0</td>\n",
              "      <td>0</td>\n",
              "      <td>0</td>\n",
              "      <td>0</td>\n",
              "      <td>0</td>\n",
              "      <td>0</td>\n",
              "      <td>0</td>\n",
              "      <td>0</td>\n",
              "      <td>0</td>\n",
              "      <td>0</td>\n",
              "      <td>0</td>\n",
              "      <td>0</td>\n",
              "      <td>0</td>\n",
              "      <td>0</td>\n",
              "    </tr>\n",
              "    <tr>\n",
              "      <th>Monica</th>\n",
              "      <td>0</td>\n",
              "      <td>0</td>\n",
              "      <td>0</td>\n",
              "      <td>0</td>\n",
              "      <td>0</td>\n",
              "      <td>0</td>\n",
              "      <td>0</td>\n",
              "      <td>0</td>\n",
              "      <td>0</td>\n",
              "      <td>0</td>\n",
              "      <td>0</td>\n",
              "      <td>0</td>\n",
              "      <td>0</td>\n",
              "      <td>0</td>\n",
              "      <td>0</td>\n",
              "      <td>0</td>\n",
              "      <td>0</td>\n",
              "      <td>0</td>\n",
              "      <td>0</td>\n",
              "      <td>0</td>\n",
              "      <td>0</td>\n",
              "      <td>0</td>\n",
              "      <td>0</td>\n",
              "      <td>0</td>\n",
              "      <td>0</td>\n",
              "      <td>0</td>\n",
              "      <td>0</td>\n",
              "      <td>0</td>\n",
              "      <td>0</td>\n",
              "      <td>0</td>\n",
              "      <td>0</td>\n",
              "      <td>0</td>\n",
              "      <td>0</td>\n",
              "      <td>0</td>\n",
              "      <td>0</td>\n",
              "      <td>0</td>\n",
              "      <td>0</td>\n",
              "      <td>0</td>\n",
              "      <td>0</td>\n",
              "      <td>0</td>\n",
              "      <td>...</td>\n",
              "      <td>0</td>\n",
              "      <td>0</td>\n",
              "      <td>0</td>\n",
              "      <td>0</td>\n",
              "      <td>0</td>\n",
              "      <td>0</td>\n",
              "      <td>0</td>\n",
              "      <td>0</td>\n",
              "      <td>0</td>\n",
              "      <td>0</td>\n",
              "      <td>0</td>\n",
              "      <td>0</td>\n",
              "      <td>0</td>\n",
              "      <td>0</td>\n",
              "      <td>0</td>\n",
              "      <td>0</td>\n",
              "      <td>0</td>\n",
              "      <td>0</td>\n",
              "      <td>0</td>\n",
              "      <td>0</td>\n",
              "      <td>0</td>\n",
              "      <td>0</td>\n",
              "      <td>0</td>\n",
              "      <td>0</td>\n",
              "      <td>0</td>\n",
              "      <td>0</td>\n",
              "      <td>0</td>\n",
              "      <td>0</td>\n",
              "      <td>0</td>\n",
              "      <td>0</td>\n",
              "      <td>0</td>\n",
              "      <td>0</td>\n",
              "      <td>0</td>\n",
              "      <td>0</td>\n",
              "      <td>0</td>\n",
              "      <td>0</td>\n",
              "      <td>0</td>\n",
              "      <td>0</td>\n",
              "      <td>0</td>\n",
              "      <td>0</td>\n",
              "    </tr>\n",
              "    <tr>\n",
              "      <th>Joey</th>\n",
              "      <td>0</td>\n",
              "      <td>0</td>\n",
              "      <td>0</td>\n",
              "      <td>0</td>\n",
              "      <td>0</td>\n",
              "      <td>0</td>\n",
              "      <td>0</td>\n",
              "      <td>0</td>\n",
              "      <td>0</td>\n",
              "      <td>0</td>\n",
              "      <td>0</td>\n",
              "      <td>0</td>\n",
              "      <td>0</td>\n",
              "      <td>0</td>\n",
              "      <td>0</td>\n",
              "      <td>0</td>\n",
              "      <td>0</td>\n",
              "      <td>0</td>\n",
              "      <td>0</td>\n",
              "      <td>0</td>\n",
              "      <td>0</td>\n",
              "      <td>0</td>\n",
              "      <td>0</td>\n",
              "      <td>0</td>\n",
              "      <td>0</td>\n",
              "      <td>0</td>\n",
              "      <td>0</td>\n",
              "      <td>0</td>\n",
              "      <td>0</td>\n",
              "      <td>0</td>\n",
              "      <td>0</td>\n",
              "      <td>0</td>\n",
              "      <td>0</td>\n",
              "      <td>0</td>\n",
              "      <td>0</td>\n",
              "      <td>0</td>\n",
              "      <td>0</td>\n",
              "      <td>0</td>\n",
              "      <td>0</td>\n",
              "      <td>0</td>\n",
              "      <td>...</td>\n",
              "      <td>0</td>\n",
              "      <td>0</td>\n",
              "      <td>0</td>\n",
              "      <td>0</td>\n",
              "      <td>0</td>\n",
              "      <td>0</td>\n",
              "      <td>0</td>\n",
              "      <td>0</td>\n",
              "      <td>0</td>\n",
              "      <td>0</td>\n",
              "      <td>0</td>\n",
              "      <td>0</td>\n",
              "      <td>0</td>\n",
              "      <td>0</td>\n",
              "      <td>0</td>\n",
              "      <td>0</td>\n",
              "      <td>0</td>\n",
              "      <td>0</td>\n",
              "      <td>0</td>\n",
              "      <td>0</td>\n",
              "      <td>0</td>\n",
              "      <td>0</td>\n",
              "      <td>0</td>\n",
              "      <td>0</td>\n",
              "      <td>0</td>\n",
              "      <td>0</td>\n",
              "      <td>0</td>\n",
              "      <td>0</td>\n",
              "      <td>0</td>\n",
              "      <td>0</td>\n",
              "      <td>0</td>\n",
              "      <td>0</td>\n",
              "      <td>0</td>\n",
              "      <td>1</td>\n",
              "      <td>0</td>\n",
              "      <td>0</td>\n",
              "      <td>0</td>\n",
              "      <td>0</td>\n",
              "      <td>0</td>\n",
              "      <td>0</td>\n",
              "    </tr>\n",
              "    <tr>\n",
              "      <th>Joey</th>\n",
              "      <td>0</td>\n",
              "      <td>0</td>\n",
              "      <td>0</td>\n",
              "      <td>0</td>\n",
              "      <td>0</td>\n",
              "      <td>0</td>\n",
              "      <td>0</td>\n",
              "      <td>0</td>\n",
              "      <td>0</td>\n",
              "      <td>0</td>\n",
              "      <td>0</td>\n",
              "      <td>0</td>\n",
              "      <td>0</td>\n",
              "      <td>0</td>\n",
              "      <td>0</td>\n",
              "      <td>0</td>\n",
              "      <td>0</td>\n",
              "      <td>0</td>\n",
              "      <td>0</td>\n",
              "      <td>0</td>\n",
              "      <td>0</td>\n",
              "      <td>0</td>\n",
              "      <td>0</td>\n",
              "      <td>0</td>\n",
              "      <td>0</td>\n",
              "      <td>0</td>\n",
              "      <td>0</td>\n",
              "      <td>0</td>\n",
              "      <td>0</td>\n",
              "      <td>0</td>\n",
              "      <td>0</td>\n",
              "      <td>0</td>\n",
              "      <td>0</td>\n",
              "      <td>0</td>\n",
              "      <td>0</td>\n",
              "      <td>0</td>\n",
              "      <td>0</td>\n",
              "      <td>0</td>\n",
              "      <td>0</td>\n",
              "      <td>0</td>\n",
              "      <td>...</td>\n",
              "      <td>0</td>\n",
              "      <td>0</td>\n",
              "      <td>0</td>\n",
              "      <td>0</td>\n",
              "      <td>0</td>\n",
              "      <td>0</td>\n",
              "      <td>0</td>\n",
              "      <td>0</td>\n",
              "      <td>0</td>\n",
              "      <td>0</td>\n",
              "      <td>0</td>\n",
              "      <td>0</td>\n",
              "      <td>0</td>\n",
              "      <td>0</td>\n",
              "      <td>0</td>\n",
              "      <td>1</td>\n",
              "      <td>0</td>\n",
              "      <td>0</td>\n",
              "      <td>0</td>\n",
              "      <td>0</td>\n",
              "      <td>0</td>\n",
              "      <td>0</td>\n",
              "      <td>0</td>\n",
              "      <td>0</td>\n",
              "      <td>0</td>\n",
              "      <td>0</td>\n",
              "      <td>0</td>\n",
              "      <td>0</td>\n",
              "      <td>0</td>\n",
              "      <td>0</td>\n",
              "      <td>0</td>\n",
              "      <td>0</td>\n",
              "      <td>0</td>\n",
              "      <td>0</td>\n",
              "      <td>0</td>\n",
              "      <td>0</td>\n",
              "      <td>0</td>\n",
              "      <td>0</td>\n",
              "      <td>0</td>\n",
              "      <td>0</td>\n",
              "    </tr>\n",
              "    <tr>\n",
              "      <th>Chandler</th>\n",
              "      <td>0</td>\n",
              "      <td>0</td>\n",
              "      <td>0</td>\n",
              "      <td>0</td>\n",
              "      <td>0</td>\n",
              "      <td>0</td>\n",
              "      <td>0</td>\n",
              "      <td>0</td>\n",
              "      <td>0</td>\n",
              "      <td>0</td>\n",
              "      <td>0</td>\n",
              "      <td>0</td>\n",
              "      <td>0</td>\n",
              "      <td>0</td>\n",
              "      <td>0</td>\n",
              "      <td>0</td>\n",
              "      <td>0</td>\n",
              "      <td>0</td>\n",
              "      <td>0</td>\n",
              "      <td>0</td>\n",
              "      <td>0</td>\n",
              "      <td>0</td>\n",
              "      <td>0</td>\n",
              "      <td>0</td>\n",
              "      <td>0</td>\n",
              "      <td>0</td>\n",
              "      <td>0</td>\n",
              "      <td>0</td>\n",
              "      <td>0</td>\n",
              "      <td>0</td>\n",
              "      <td>1</td>\n",
              "      <td>0</td>\n",
              "      <td>0</td>\n",
              "      <td>0</td>\n",
              "      <td>0</td>\n",
              "      <td>0</td>\n",
              "      <td>0</td>\n",
              "      <td>0</td>\n",
              "      <td>0</td>\n",
              "      <td>0</td>\n",
              "      <td>...</td>\n",
              "      <td>0</td>\n",
              "      <td>0</td>\n",
              "      <td>0</td>\n",
              "      <td>0</td>\n",
              "      <td>0</td>\n",
              "      <td>0</td>\n",
              "      <td>0</td>\n",
              "      <td>0</td>\n",
              "      <td>0</td>\n",
              "      <td>0</td>\n",
              "      <td>0</td>\n",
              "      <td>0</td>\n",
              "      <td>0</td>\n",
              "      <td>0</td>\n",
              "      <td>0</td>\n",
              "      <td>0</td>\n",
              "      <td>0</td>\n",
              "      <td>0</td>\n",
              "      <td>0</td>\n",
              "      <td>0</td>\n",
              "      <td>0</td>\n",
              "      <td>0</td>\n",
              "      <td>0</td>\n",
              "      <td>0</td>\n",
              "      <td>0</td>\n",
              "      <td>0</td>\n",
              "      <td>0</td>\n",
              "      <td>0</td>\n",
              "      <td>0</td>\n",
              "      <td>0</td>\n",
              "      <td>0</td>\n",
              "      <td>0</td>\n",
              "      <td>0</td>\n",
              "      <td>0</td>\n",
              "      <td>0</td>\n",
              "      <td>0</td>\n",
              "      <td>0</td>\n",
              "      <td>0</td>\n",
              "      <td>0</td>\n",
              "      <td>0</td>\n",
              "    </tr>\n",
              "  </tbody>\n",
              "</table>\n",
              "<p>5 rows × 1625 columns</p>\n",
              "</div>"
            ],
            "text/plain": [
              "          able  about  absolutely  accent  ...  yourself  youve  youy  youyou\n",
              "Monica       0      0           0       0  ...         0      0     0       0\n",
              "Monica       0      0           0       0  ...         0      0     0       0\n",
              "Joey         0      0           0       0  ...         0      0     0       0\n",
              "Joey         0      0           0       0  ...         0      0     0       0\n",
              "Chandler     0      0           0       0  ...         0      0     0       0\n",
              "\n",
              "[5 rows x 1625 columns]"
            ]
          },
          "metadata": {
            "tags": []
          },
          "execution_count": 36
        }
      ]
    },
    {
      "cell_type": "code",
      "metadata": {
        "id": "uPT2p7itYzBE"
      },
      "source": [
        "counts = counts.groupby(counts.index).sum()"
      ],
      "execution_count": 37,
      "outputs": []
    },
    {
      "cell_type": "code",
      "metadata": {
        "colab": {
          "base_uri": "https://localhost:8080/"
        },
        "id": "VBMSnTRPYzBE",
        "outputId": "c01ec1c1-5a20-47d4-8a88-0eb4abbdfcd5"
      },
      "source": [
        "counts.T.columns"
      ],
      "execution_count": 38,
      "outputs": [
        {
          "output_type": "execute_result",
          "data": {
            "text/plain": [
              "Index(['Chandler', 'Joey', 'Monica', 'Phoebe', 'Rachel', 'Ross'], dtype='object')"
            ]
          },
          "metadata": {
            "tags": []
          },
          "execution_count": 38
        }
      ]
    },
    {
      "cell_type": "code",
      "metadata": {
        "colab": {
          "base_uri": "https://localhost:8080/",
          "height": 417
        },
        "id": "uq4KBf5dYzBF",
        "outputId": "cdd27759-db3e-4890-e170-3376de6a18f6"
      },
      "source": [
        "most_spoken_words = counts.T.reset_index()\n",
        "most_spoken_words"
      ],
      "execution_count": 39,
      "outputs": [
        {
          "output_type": "execute_result",
          "data": {
            "text/html": [
              "<div>\n",
              "<style scoped>\n",
              "    .dataframe tbody tr th:only-of-type {\n",
              "        vertical-align: middle;\n",
              "    }\n",
              "\n",
              "    .dataframe tbody tr th {\n",
              "        vertical-align: top;\n",
              "    }\n",
              "\n",
              "    .dataframe thead th {\n",
              "        text-align: right;\n",
              "    }\n",
              "</style>\n",
              "<table border=\"1\" class=\"dataframe\">\n",
              "  <thead>\n",
              "    <tr style=\"text-align: right;\">\n",
              "      <th></th>\n",
              "      <th>index</th>\n",
              "      <th>Chandler</th>\n",
              "      <th>Joey</th>\n",
              "      <th>Monica</th>\n",
              "      <th>Phoebe</th>\n",
              "      <th>Rachel</th>\n",
              "      <th>Ross</th>\n",
              "    </tr>\n",
              "  </thead>\n",
              "  <tbody>\n",
              "    <tr>\n",
              "      <th>0</th>\n",
              "      <td>able</td>\n",
              "      <td>11</td>\n",
              "      <td>10</td>\n",
              "      <td>9</td>\n",
              "      <td>8</td>\n",
              "      <td>11</td>\n",
              "      <td>16</td>\n",
              "    </tr>\n",
              "    <tr>\n",
              "      <th>1</th>\n",
              "      <td>about</td>\n",
              "      <td>339</td>\n",
              "      <td>406</td>\n",
              "      <td>379</td>\n",
              "      <td>319</td>\n",
              "      <td>379</td>\n",
              "      <td>398</td>\n",
              "    </tr>\n",
              "    <tr>\n",
              "      <th>2</th>\n",
              "      <td>absolutely</td>\n",
              "      <td>9</td>\n",
              "      <td>11</td>\n",
              "      <td>17</td>\n",
              "      <td>9</td>\n",
              "      <td>25</td>\n",
              "      <td>11</td>\n",
              "    </tr>\n",
              "    <tr>\n",
              "      <th>3</th>\n",
              "      <td>accent</td>\n",
              "      <td>2</td>\n",
              "      <td>5</td>\n",
              "      <td>4</td>\n",
              "      <td>2</td>\n",
              "      <td>1</td>\n",
              "      <td>5</td>\n",
              "    </tr>\n",
              "    <tr>\n",
              "      <th>4</th>\n",
              "      <td>accept</td>\n",
              "      <td>5</td>\n",
              "      <td>0</td>\n",
              "      <td>4</td>\n",
              "      <td>2</td>\n",
              "      <td>3</td>\n",
              "      <td>7</td>\n",
              "    </tr>\n",
              "    <tr>\n",
              "      <th>...</th>\n",
              "      <td>...</td>\n",
              "      <td>...</td>\n",
              "      <td>...</td>\n",
              "      <td>...</td>\n",
              "      <td>...</td>\n",
              "      <td>...</td>\n",
              "      <td>...</td>\n",
              "    </tr>\n",
              "    <tr>\n",
              "      <th>1620</th>\n",
              "      <td>yours</td>\n",
              "      <td>16</td>\n",
              "      <td>13</td>\n",
              "      <td>14</td>\n",
              "      <td>13</td>\n",
              "      <td>12</td>\n",
              "      <td>12</td>\n",
              "    </tr>\n",
              "    <tr>\n",
              "      <th>1621</th>\n",
              "      <td>yourself</td>\n",
              "      <td>20</td>\n",
              "      <td>16</td>\n",
              "      <td>28</td>\n",
              "      <td>26</td>\n",
              "      <td>20</td>\n",
              "      <td>20</td>\n",
              "    </tr>\n",
              "    <tr>\n",
              "      <th>1622</th>\n",
              "      <td>youve</td>\n",
              "      <td>40</td>\n",
              "      <td>34</td>\n",
              "      <td>40</td>\n",
              "      <td>37</td>\n",
              "      <td>47</td>\n",
              "      <td>45</td>\n",
              "    </tr>\n",
              "    <tr>\n",
              "      <th>1623</th>\n",
              "      <td>youy</td>\n",
              "      <td>3</td>\n",
              "      <td>0</td>\n",
              "      <td>5</td>\n",
              "      <td>29</td>\n",
              "      <td>6</td>\n",
              "      <td>10</td>\n",
              "    </tr>\n",
              "    <tr>\n",
              "      <th>1624</th>\n",
              "      <td>youyou</td>\n",
              "      <td>12</td>\n",
              "      <td>18</td>\n",
              "      <td>18</td>\n",
              "      <td>3</td>\n",
              "      <td>16</td>\n",
              "      <td>37</td>\n",
              "    </tr>\n",
              "  </tbody>\n",
              "</table>\n",
              "<p>1625 rows × 7 columns</p>\n",
              "</div>"
            ],
            "text/plain": [
              "           index  Chandler  Joey  Monica  Phoebe  Rachel  Ross\n",
              "0           able        11    10       9       8      11    16\n",
              "1          about       339   406     379     319     379   398\n",
              "2     absolutely         9    11      17       9      25    11\n",
              "3         accent         2     5       4       2       1     5\n",
              "4         accept         5     0       4       2       3     7\n",
              "...          ...       ...   ...     ...     ...     ...   ...\n",
              "1620       yours        16    13      14      13      12    12\n",
              "1621    yourself        20    16      28      26      20    20\n",
              "1622       youve        40    34      40      37      47    45\n",
              "1623        youy         3     0       5      29       6    10\n",
              "1624      youyou        12    18      18       3      16    37\n",
              "\n",
              "[1625 rows x 7 columns]"
            ]
          },
          "metadata": {
            "tags": []
          },
          "execution_count": 39
        }
      ]
    },
    {
      "cell_type": "code",
      "metadata": {
        "colab": {
          "base_uri": "https://localhost:8080/"
        },
        "id": "66q-cNrrYzBG",
        "outputId": "2f54d789-50e5-4522-80ce-6683eb55e97e"
      },
      "source": [
        "nltk.download('stopwords')\n",
        "stop_words = stopwords.words('english')"
      ],
      "execution_count": 40,
      "outputs": [
        {
          "output_type": "stream",
          "text": [
            "[nltk_data] Downloading package stopwords to /root/nltk_data...\n",
            "[nltk_data]   Unzipping corpora/stopwords.zip.\n"
          ],
          "name": "stdout"
        }
      ]
    },
    {
      "cell_type": "code",
      "metadata": {
        "id": "UFPv1uL2YzBG"
      },
      "source": [
        "most_spoken_words[\"sentiment\"] = most_spoken_words[\"index\"].apply(polarity).apply(sentiment_analysis)"
      ],
      "execution_count": 41,
      "outputs": []
    },
    {
      "cell_type": "code",
      "metadata": {
        "id": "IPsPOa_rYzBG"
      },
      "source": [
        "most_spoken_words.drop(most_spoken_words[most_spoken_words[\"index\"].isin(stop_words)].index,inplace = True)"
      ],
      "execution_count": 42,
      "outputs": []
    },
    {
      "cell_type": "code",
      "metadata": {
        "id": "FHcm1njOYzBG"
      },
      "source": [
        "most_spoken_words.drop(most_spoken_words[most_spoken_words[\"sentiment\"]==\"Neutral\"].index,inplace = True)"
      ],
      "execution_count": 43,
      "outputs": []
    },
    {
      "cell_type": "code",
      "metadata": {
        "id": "yPQ3nzjSYzBH"
      },
      "source": [
        "most_spoken_words.set_index(['index','sentiment'], inplace = True)"
      ],
      "execution_count": 44,
      "outputs": []
    },
    {
      "cell_type": "markdown",
      "metadata": {
        "id": "K9WN3iVZYzA-"
      },
      "source": [
        "#**¿Quién de los 6 personajes principales es más positivo/negativo?**"
      ]
    },
    {
      "cell_type": "markdown",
      "metadata": {
        "id": "nDXbliVNt0UI"
      },
      "source": [
        "![alt text](https://media.giphy.com/media/31lPv5L3aIvTi/giphy.gif)\n",
        "\n",
        "Image from [Giphy](https://giphy.com/)\n"
      ]
    },
    {
      "cell_type": "code",
      "metadata": {
        "colab": {
          "base_uri": "https://localhost:8080/",
          "height": 574,
          "referenced_widgets": [
            "3f5282c127904e8186ffc471f8b118ea",
            "982d7c9bec434614bb9f4ec1ac2cd149",
            "43cb764edd5647a68bac3c1c575d3c4b",
            "27ff598c4fb64bb29b89faa0969309d9",
            "814a2309a6244b978a99c87298487540",
            "ed89e3ecff8e4e8d8de4dd53dfc93db1",
            "0e2d875219984e38a9c6c42f017cec1a"
          ]
        },
        "id": "6XaP9t7nYzBH",
        "cellView": "form",
        "outputId": "958dd674-2ed4-41a8-eefa-9d6a748129be"
      },
      "source": [
        "#@title\n",
        "@interact(actor =list(most_spoken_words.columns))\n",
        "def sentiment(actor):\n",
        "    x = pd.DataFrame(most_spoken_words.loc[:,actor]).reset_index()\n",
        "    positive = x[x.sentiment == \"Positive\"].sort_values(by = actor, ascending = False).head(10)\n",
        "    negative = x[x.sentiment == \"Negative\"].sort_values(by = actor, ascending = False).head(10)\n",
        "    negative[actor] = negative[actor] * -1\n",
        "    sa_ch = pd.concat([positive,negative])\n",
        "    gfg = sa_ch.pivot_table(sa_ch,index='index', columns='sentiment', fill_value = 0)\n",
        "    gfg.columns = gfg.columns.droplevel(0)\n",
        "    gfg = gfg.sort_values(['Positive','Negative'], ascending = True)\n",
        "    \n",
        "    Diverging = go.Figure()\n",
        "    Diverging.add_trace(go.Bar(x=gfg[\"Negative\"],\n",
        "                               y=gfg.index,\n",
        "                               orientation='h',\n",
        "                               name=\"Negative\",\n",
        "                               hovertemplate=\"%{y}: %{x}\"))\n",
        "\n",
        "    Diverging.add_trace(go.Bar(x=gfg[\"Positive\"],\n",
        "                               y=gfg.index,\n",
        "                               orientation='h',\n",
        "                               name=\"Positive\",\n",
        "                               hovertemplate=\"%{y}: %{x}\"))\n",
        "\n",
        "    Diverging.update_layout(title_text= f\"{actor}'s Sentiment Analysis\")\n",
        "    Diverging.show()"
      ],
      "execution_count": 45,
      "outputs": [
        {
          "output_type": "display_data",
          "data": {
            "application/vnd.jupyter.widget-view+json": {
              "model_id": "3f5282c127904e8186ffc471f8b118ea",
              "version_minor": 0,
              "version_major": 2
            },
            "text/plain": [
              "interactive(children=(Dropdown(description='actor', options=('Chandler', 'Joey', 'Monica', 'Phoebe', 'Rachel',…"
            ]
          },
          "metadata": {
            "tags": []
          }
        }
      ]
    },
    {
      "cell_type": "markdown",
      "metadata": {
        "id": "iqfcvr4Ck3z5"
      },
      "source": [
        "#**NLP (Procesamiento del Lenguaje Natural)**"
      ]
    },
    {
      "cell_type": "markdown",
      "metadata": {
        "id": "Jps1qUQJITWR"
      },
      "source": [
        "![flow.PNG](data:image/png;base64,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)"
      ]
    },
    {
      "cell_type": "markdown",
      "metadata": {
        "id": "CWi5Ew4AHhNu"
      },
      "source": [
        "#**Clasificador de \"quotes\": ¿Quién ha dicho qué?**"
      ]
    },
    {
      "cell_type": "markdown",
      "metadata": {
        "id": "BMF5fkVAJZSm"
      },
      "source": [
        "![alt text](https://media.giphy.com/media/EU1obAC38GuWI/giphy.gif)\n",
        "\n",
        "Image from [Giphy](https://giphy.com/)\n"
      ]
    },
    {
      "cell_type": "markdown",
      "metadata": {
        "id": "tIP7YuCXSbc3"
      },
      "source": [
        "####Code"
      ]
    },
    {
      "cell_type": "code",
      "metadata": {
        "id": "6BPT0BJlTHb9"
      },
      "source": [
        "tfidf = TfidfVectorizer(min_df = 0.0005, ngram_range =(1,3))"
      ],
      "execution_count": 46,
      "outputs": []
    },
    {
      "cell_type": "code",
      "metadata": {
        "id": "p7XKTO4WTB90"
      },
      "source": [
        "X1 = tfidf.fit_transform(friends2[friends2.author.isin((\"Ross\", \"Rachel\"))][\"quote\"])\n",
        "y1 = friends2[friends2.author.isin((\"Ross\", \"Rachel\"))][\"author\"].values"
      ],
      "execution_count": 47,
      "outputs": []
    },
    {
      "cell_type": "code",
      "metadata": {
        "colab": {
          "base_uri": "https://localhost:8080/"
        },
        "id": "f0QyJ7fbDs-z",
        "outputId": "11f2ca47-05fd-4290-8603-ade089a33848"
      },
      "source": [
        "X1.shape"
      ],
      "execution_count": 48,
      "outputs": [
        {
          "output_type": "execute_result",
          "data": {
            "text/plain": [
              "(32402, 2041)"
            ]
          },
          "metadata": {
            "tags": []
          },
          "execution_count": 48
        }
      ]
    },
    {
      "cell_type": "code",
      "metadata": {
        "colab": {
          "base_uri": "https://localhost:8080/"
        },
        "id": "xSW2bzkW_nCU",
        "outputId": "e8273ec8-f6f4-4916-aac1-b630ca0fc1d0"
      },
      "source": [
        "y1.shape"
      ],
      "execution_count": 49,
      "outputs": [
        {
          "output_type": "execute_result",
          "data": {
            "text/plain": [
              "(32402,)"
            ]
          },
          "metadata": {
            "tags": []
          },
          "execution_count": 49
        }
      ]
    },
    {
      "cell_type": "code",
      "metadata": {
        "id": "8JJkh7K5SiE_"
      },
      "source": [
        "X1_train, X1_test, y1_train, y1_test = train_test_split(X1, y1, test_size = 0.20, random_state = 0)"
      ],
      "execution_count": 50,
      "outputs": []
    },
    {
      "cell_type": "code",
      "metadata": {
        "colab": {
          "base_uri": "https://localhost:8080/"
        },
        "id": "aleTAEy5TwFf",
        "outputId": "7b9e2c1d-475c-4f2c-cbf4-8c36066f7aff"
      },
      "source": [
        "X1_train.shape"
      ],
      "execution_count": 51,
      "outputs": [
        {
          "output_type": "execute_result",
          "data": {
            "text/plain": [
              "(25921, 2041)"
            ]
          },
          "metadata": {
            "tags": []
          },
          "execution_count": 51
        }
      ]
    },
    {
      "cell_type": "code",
      "metadata": {
        "colab": {
          "base_uri": "https://localhost:8080/"
        },
        "id": "_oPVKJQ_TwQa",
        "outputId": "05562a15-f53a-4cb1-b161-6bfcf4786389"
      },
      "source": [
        "neigh = KNeighborsClassifier(n_neighbors=5, algorithm = \"brute\")\n",
        "neigh.fit(X1_train, y1_train)"
      ],
      "execution_count": 52,
      "outputs": [
        {
          "output_type": "execute_result",
          "data": {
            "text/plain": [
              "KNeighborsClassifier(algorithm='brute', leaf_size=30, metric='minkowski',\n",
              "                     metric_params=None, n_jobs=None, n_neighbors=5, p=2,\n",
              "                     weights='uniform')"
            ]
          },
          "metadata": {
            "tags": []
          },
          "execution_count": 52
        }
      ]
    },
    {
      "cell_type": "code",
      "metadata": {
        "id": "Hp5hYl_WTwI7"
      },
      "source": [
        "y1_pred = neigh.predict(X1_test)"
      ],
      "execution_count": 53,
      "outputs": []
    },
    {
      "cell_type": "code",
      "metadata": {
        "colab": {
          "base_uri": "https://localhost:8080/"
        },
        "id": "3HcqODUqHgC9",
        "outputId": "81b70127-6332-4564-eb23-039208ad9263"
      },
      "source": [
        "print(classification_report(y1_test, y1_pred))"
      ],
      "execution_count": 54,
      "outputs": [
        {
          "output_type": "stream",
          "text": [
            "              precision    recall  f1-score   support\n",
            "\n",
            "      Rachel       0.54      0.57      0.55      3227\n",
            "        Ross       0.55      0.52      0.53      3254\n",
            "\n",
            "    accuracy                           0.54      6481\n",
            "   macro avg       0.54      0.54      0.54      6481\n",
            "weighted avg       0.54      0.54      0.54      6481\n",
            "\n"
          ],
          "name": "stdout"
        }
      ]
    },
    {
      "cell_type": "markdown",
      "metadata": {
        "id": "fNDJO3u6VVBA"
      },
      "source": [
        "#**Confusion Matrix with two Characters: Ross & Rachel**"
      ]
    },
    {
      "cell_type": "code",
      "metadata": {
        "colab": {
          "base_uri": "https://localhost:8080/",
          "height": 276
        },
        "id": "GNzoW7DlUMkg",
        "cellView": "form",
        "outputId": "21b94bf8-e841-4fca-dba4-292282883d1b"
      },
      "source": [
        "#@title\n",
        "cm = confusion_matrix(y1_test, y1_pred)\n",
        "plt.figure(figsize = (4,4))\n",
        "palette = [\"yellow\",\"red\",\"blue\",\"black\"]\n",
        "_ = sns.heatmap(cm, annot = True, fmt='g', cmap = palette, linecolor = \"black\", linewidths=0.5)"
      ],
      "execution_count": 78,
      "outputs": [
        {
          "output_type": "display_data",
          "data": {
            "image/png": "[encoded data removed]",
            "text/plain": [
              "<Figure size 288x288 with 2 Axes>"
            ]
          },
          "metadata": {
            "tags": []
          }
        }
      ]
    },
    {
      "cell_type": "markdown",
      "metadata": {
        "id": "iTOUjYfNUpsI"
      },
      "source": [
        "####Code"
      ]
    },
    {
      "cell_type": "code",
      "metadata": {
        "id": "Tph2iX-9Mvlv"
      },
      "source": [
        "tfidf = TfidfVectorizer(min_df = 0.0005, ngram_range =(1,3))"
      ],
      "execution_count": 79,
      "outputs": []
    },
    {
      "cell_type": "code",
      "metadata": {
        "id": "hmE8jDCVOAWP"
      },
      "source": [
        "X2 = tfidf.fit_transform(friends2[\"quote\"])\n",
        "y2 = friends2[\"author\"].values"
      ],
      "execution_count": 81,
      "outputs": []
    },
    {
      "cell_type": "code",
      "metadata": {
        "id": "CxyoHd7SOAeV"
      },
      "source": [
        "X2_train, X2_test, y2_train, y2_test = train_test_split(X2, y2, test_size = 0.20, random_state = 0)"
      ],
      "execution_count": 82,
      "outputs": []
    },
    {
      "cell_type": "code",
      "metadata": {
        "colab": {
          "base_uri": "https://localhost:8080/"
        },
        "id": "myqK-KSpOAiW",
        "outputId": "c09f0076-399b-4ea3-ddd2-67352a623f05"
      },
      "source": [
        "X2_train.shape"
      ],
      "execution_count": 83,
      "outputs": [
        {
          "output_type": "execute_result",
          "data": {
            "text/plain": [
              "(70824, 2029)"
            ]
          },
          "metadata": {
            "tags": []
          },
          "execution_count": 83
        }
      ]
    },
    {
      "cell_type": "code",
      "metadata": {
        "colab": {
          "base_uri": "https://localhost:8080/"
        },
        "id": "4QIkCGynOAo8",
        "outputId": "a8bb483b-e6fe-4360-d838-4e51faa7ee4f"
      },
      "source": [
        "neigh = KNeighborsClassifier(n_neighbors=5, algorithm = \"brute\")\n",
        "neigh.fit(X2_train, y2_train)"
      ],
      "execution_count": 84,
      "outputs": [
        {
          "output_type": "execute_result",
          "data": {
            "text/plain": [
              "KNeighborsClassifier(algorithm='brute', leaf_size=30, metric='minkowski',\n",
              "                     metric_params=None, n_jobs=None, n_neighbors=5, p=2,\n",
              "                     weights='uniform')"
            ]
          },
          "metadata": {
            "tags": []
          },
          "execution_count": 84
        }
      ]
    },
    {
      "cell_type": "code",
      "metadata": {
        "id": "1pnXBDwyQ-Fd"
      },
      "source": [
        "y2_pred = neigh.predict(X2_test)"
      ],
      "execution_count": 85,
      "outputs": []
    },
    {
      "cell_type": "code",
      "metadata": {
        "colab": {
          "base_uri": "https://localhost:8080/"
        },
        "id": "LRp3qtbeHuKd",
        "outputId": "cb1a38e1-ff8a-4c71-b8d2-5b531aeea95a"
      },
      "source": [
        "print(classification_report(y2_test, y2_pred))"
      ],
      "execution_count": 86,
      "outputs": [
        {
          "output_type": "stream",
          "text": [
            "              precision    recall  f1-score   support\n",
            "\n",
            "    Chandler       0.19      0.29      0.23      2751\n",
            "        Joey       0.21      0.26      0.23      3035\n",
            "      Monica       0.19      0.18      0.19      2742\n",
            "      Phoebe       0.21      0.16      0.18      2803\n",
            "      Rachel       0.24      0.17      0.20      3236\n",
            "        Ross       0.22      0.18      0.20      3140\n",
            "\n",
            "    accuracy                           0.21     17707\n",
            "   macro avg       0.21      0.21      0.20     17707\n",
            "weighted avg       0.21      0.21      0.20     17707\n",
            "\n"
          ],
          "name": "stdout"
        }
      ]
    },
    {
      "cell_type": "markdown",
      "metadata": {
        "id": "OdMGtB2jWwCM"
      },
      "source": [
        "#**Confusion Matrix with the 6 main characters**"
      ]
    },
    {
      "cell_type": "code",
      "metadata": {
        "colab": {
          "base_uri": "https://localhost:8080/",
          "height": 388
        },
        "id": "JiE0qPe8RRj8",
        "cellView": "form",
        "outputId": "52b7c3e8-b59e-4044-e545-cf66b9af9452"
      },
      "source": [
        "#@title\n",
        "cm = confusion_matrix(y2_test, y2_pred)\n",
        "plt.figure(figsize = (6,6))\n",
        "palette = [\"yellow\",\"red\",\"blue\",\"black\"]\n",
        "_ = sns.heatmap(cm, annot = True, fmt='g', cmap = palette, linecolor = \"black\", linewidths=0.5)"
      ],
      "execution_count": 63,
      "outputs": [
        {
          "output_type": "display_data",
          "data": {
            "image/png": "[encoded data removed]",
            "text/plain": [
              "<Figure size 432x432 with 2 Axes>"
            ]
          },
          "metadata": {
            "tags": []
          }
        }
      ]
    },
    {
      "cell_type": "markdown",
      "metadata": {
        "id": "3f8gn9DH4I-n"
      },
      "source": [
        "#### Code"
      ]
    },
    {
      "cell_type": "markdown",
      "metadata": {
        "id": "dGBxdo1ThsXh"
      },
      "source": [
        "I used the code from this article:\n",
        "\n",
        "https://towardsdatascience.com/make-your-own-rick-sanchez-bot-with-transformers-and-dialogpt-fine-tuning-f85e6d1f4e30"
      ]
    },
    {
      "cell_type": "code",
      "metadata": {
        "colab": {
          "base_uri": "https://localhost:8080/"
        },
        "id": "AovOVTTC471N",
        "outputId": "8416611c-7116-450c-d3d2-cc091341f6f7"
      },
      "source": [
        "!pip install transformers"
      ],
      "execution_count": 64,
      "outputs": [
        {
          "output_type": "stream",
          "text": [
            "Collecting transformers\n",
            "  Downloading transformers-4.9.2-py3-none-any.whl (2.6 MB)\n",
            "\u001b[K     |████████████████████████████████| 2.6 MB 8.9 MB/s \n",
            "\u001b[?25hRequirement already satisfied: requests in /usr/local/lib/python3.7/dist-packages (from transformers) (2.23.0)\n",
            "Requirement already satisfied: regex!=2019.12.17 in /usr/local/lib/python3.7/dist-packages (from transformers) (2019.12.20)\n",
            "Requirement already satisfied: filelock in /usr/local/lib/python3.7/dist-packages (from transformers) (3.0.12)\n",
            "Requirement already satisfied: tqdm>=4.27 in /usr/local/lib/python3.7/dist-packages (from transformers) (4.41.1)\n",
            "Collecting sacremoses\n",
            "  Downloading sacremoses-0.0.45-py3-none-any.whl (895 kB)\n",
            "\u001b[K     |████████████████████████████████| 895 kB 46.5 MB/s \n",
            "\u001b[?25hRequirement already satisfied: numpy>=1.17 in /usr/local/lib/python3.7/dist-packages (from transformers) (1.19.5)\n",
            "Collecting pyyaml>=5.1\n",
            "  Downloading PyYAML-5.4.1-cp37-cp37m-manylinux1_x86_64.whl (636 kB)\n",
            "\u001b[K     |████████████████████████████████| 636 kB 54.9 MB/s \n",
            "\u001b[?25hCollecting tokenizers<0.11,>=0.10.1\n",
            "  Downloading tokenizers-0.10.3-cp37-cp37m-manylinux_2_5_x86_64.manylinux1_x86_64.manylinux_2_12_x86_64.manylinux2010_x86_64.whl (3.3 MB)\n",
            "\u001b[K     |████████████████████████████████| 3.3 MB 50.6 MB/s \n",
            "\u001b[?25hRequirement already satisfied: importlib-metadata in /usr/local/lib/python3.7/dist-packages (from transformers) (4.6.1)\n",
            "Collecting huggingface-hub==0.0.12\n",
            "  Downloading huggingface_hub-0.0.12-py3-none-any.whl (37 kB)\n",
            "Requirement already satisfied: packaging in /usr/local/lib/python3.7/dist-packages (from transformers) (21.0)\n",
            "Requirement already satisfied: typing-extensions in /usr/local/lib/python3.7/dist-packages (from huggingface-hub==0.0.12->transformers) (3.7.4.3)\n",
            "Requirement already satisfied: pyparsing>=2.0.2 in /usr/local/lib/python3.7/dist-packages (from packaging->transformers) (2.4.7)\n",
            "Requirement already satisfied: zipp>=0.5 in /usr/local/lib/python3.7/dist-packages (from importlib-metadata->transformers) (3.5.0)\n",
            "Requirement already satisfied: idna<3,>=2.5 in /usr/local/lib/python3.7/dist-packages (from requests->transformers) (2.10)\n",
            "Requirement already satisfied: chardet<4,>=3.0.2 in /usr/local/lib/python3.7/dist-packages (from requests->transformers) (3.0.4)\n",
            "Requirement already satisfied: certifi>=2017.4.17 in /usr/local/lib/python3.7/dist-packages (from requests->transformers) (2021.5.30)\n",
            "Requirement already satisfied: urllib3!=1.25.0,!=1.25.1,<1.26,>=1.21.1 in /usr/local/lib/python3.7/dist-packages (from requests->transformers) (1.24.3)\n",
            "Requirement already satisfied: six in /usr/local/lib/python3.7/dist-packages (from sacremoses->transformers) (1.15.0)\n",
            "Requirement already satisfied: click in /usr/local/lib/python3.7/dist-packages (from sacremoses->transformers) (7.1.2)\n",
            "Requirement already satisfied: joblib in /usr/local/lib/python3.7/dist-packages (from sacremoses->transformers) (1.0.1)\n",
            "Installing collected packages: tokenizers, sacremoses, pyyaml, huggingface-hub, transformers\n",
            "  Attempting uninstall: pyyaml\n",
            "    Found existing installation: PyYAML 3.13\n",
            "    Uninstalling PyYAML-3.13:\n",
            "      Successfully uninstalled PyYAML-3.13\n",
            "Successfully installed huggingface-hub-0.0.12 pyyaml-5.4.1 sacremoses-0.0.45 tokenizers-0.10.3 transformers-4.9.2\n"
          ],
          "name": "stdout"
        }
      ]
    },
    {
      "cell_type": "code",
      "metadata": {
        "id": "SIZR5C3u20_8"
      },
      "source": [
        "import glob\n",
        "import logging\n",
        "import os\n",
        "import pickle\n",
        "import random\n",
        "import re\n",
        "import shutil\n",
        "from typing import Dict, List, Tuple\n",
        "\n",
        "import pandas as pd\n",
        "import numpy as np\n",
        "import torch\n",
        "\n",
        "from sklearn.model_selection import train_test_split\n",
        "\n",
        "from torch.nn.utils.rnn import pad_sequence\n",
        "from torch.utils.data import DataLoader, Dataset, RandomSampler, SequentialSampler\n",
        "from torch.utils.data.distributed import DistributedSampler\n",
        "from tqdm.notebook import tqdm, trange\n",
        "\n",
        "from pathlib import Path\n",
        "\n",
        "from transformers import (\n",
        "    MODEL_WITH_LM_HEAD_MAPPING,\n",
        "    WEIGHTS_NAME,\n",
        "    AdamW,\n",
        "    AutoConfig,\n",
        "    AutoModelWithLMHead,\n",
        "    AutoTokenizer,\n",
        "    PreTrainedModel,\n",
        "    PreTrainedTokenizer,\n",
        "    get_linear_schedule_with_warmup,\n",
        ")\n",
        "\n",
        "\n",
        "try:\n",
        "    from torch.utils.tensorboard import SummaryWriter\n",
        "except ImportError:\n",
        "    from tensorboardX import SummaryWriter\n",
        "\n",
        "# Configs\n",
        "logger = logging.getLogger(__name__)\n",
        "\n",
        "MODEL_CONFIG_CLASSES = list(MODEL_WITH_LM_HEAD_MAPPING.keys())\n",
        "MODEL_TYPES = tuple(conf.model_type for conf in MODEL_CONFIG_CLASSES)\n"
      ],
      "execution_count": 65,
      "outputs": []
    },
    {
      "cell_type": "code",
      "metadata": {
        "id": "CVKyyfOm21Eg"
      },
      "source": [
        "class Args():\n",
        "    def __init__(self):\n",
        "        self.output_dir = '/content/gdrive/MyDrive/Colab Notebooks/output-small'\n",
        "        self.model_type = 'gpt2'\n",
        "        self.model_name_or_path = 'microsoft/DialoGPT-medium' \n",
        "        self.config_name = 'microsoft/DialoGPT-medium'\n",
        "        self.tokenizer_name = 'microsoft/DialoGPT-medium'\n",
        "        self.cache_dir = 'cached'\n",
        "        self.block_size = 512\n",
        "        self.do_train = True\n",
        "        self.do_eval = True\n",
        "        self.evaluate_during_training = False\n",
        "        self.per_gpu_train_batch_size = 4\n",
        "        self.per_gpu_eval_batch_size = 4\n",
        "        self.gradient_accumulation_steps = 1\n",
        "        self.learning_rate = 5e-5\n",
        "        self.weight_decay = 0.0\n",
        "        self.adam_epsilon = 1e-8\n",
        "        self.max_grad_norm = 1.0\n",
        "        self.num_train_epochs = 5\n",
        "        self.max_steps = -1\n",
        "        self.warmup_steps = 0\n",
        "        self.logging_steps = 1000\n",
        "        self.save_steps = 3500\n",
        "        self.save_total_limit = None\n",
        "        self.eval_all_checkpoints = False\n",
        "        self.no_cuda = False\n",
        "        self.overwrite_output_dir = True\n",
        "        self.overwrite_cache = True\n",
        "        self.should_continue = False\n",
        "        self.seed = 42\n",
        "        self.local_rank = -1\n",
        "        self.fp16 = False\n",
        "        self.fp16_opt_level = 'O1'\n",
        "\n",
        "args = Args()"
      ],
      "execution_count": 66,
      "outputs": []
    },
    {
      "cell_type": "code",
      "metadata": {
        "id": "QcLj-28y21KC"
      },
      "source": [
        "script_ross = pd.read_excel('/content/gdrive/MyDrive/Colab Notebooks/script_ross.xlsx')"
      ],
      "execution_count": 67,
      "outputs": []
    },
    {
      "cell_type": "code",
      "metadata": {
        "colab": {
          "base_uri": "https://localhost:8080/",
          "height": 203
        },
        "id": "AqQZSvCt21PG",
        "outputId": "249f90ca-99f6-4c57-cf6e-04663aea62cd"
      },
      "source": [
        "script_ross.head()"
      ],
      "execution_count": 68,
      "outputs": [
        {
          "output_type": "execute_result",
          "data": {
            "text/html": [
              "<div>\n",
              "<style scoped>\n",
              "    .dataframe tbody tr th:only-of-type {\n",
              "        vertical-align: middle;\n",
              "    }\n",
              "\n",
              "    .dataframe tbody tr th {\n",
              "        vertical-align: top;\n",
              "    }\n",
              "\n",
              "    .dataframe thead th {\n",
              "        text-align: right;\n",
              "    }\n",
              "</style>\n",
              "<table border=\"1\" class=\"dataframe\">\n",
              "  <thead>\n",
              "    <tr style=\"text-align: right;\">\n",
              "      <th></th>\n",
              "      <th>author</th>\n",
              "      <th>episode_number</th>\n",
              "      <th>episode_title</th>\n",
              "      <th>quote</th>\n",
              "      <th>quote_order</th>\n",
              "      <th>season</th>\n",
              "      <th>To Whom</th>\n",
              "      <th>Conversation</th>\n",
              "    </tr>\n",
              "  </thead>\n",
              "  <tbody>\n",
              "    <tr>\n",
              "      <th>0</th>\n",
              "      <td>Carol</td>\n",
              "      <td>2.0</td>\n",
              "      <td>The Sonogram At The End</td>\n",
              "      <td>Hello!</td>\n",
              "      <td>21.0</td>\n",
              "      <td>1.0</td>\n",
              "      <td>Ross</td>\n",
              "      <td>Ross, Carol</td>\n",
              "    </tr>\n",
              "    <tr>\n",
              "      <th>1</th>\n",
              "      <td>Ross</td>\n",
              "      <td>2.0</td>\n",
              "      <td>The Sonogram At The End</td>\n",
              "      <td>You look great. I, uh... I hate that.</td>\n",
              "      <td>22.0</td>\n",
              "      <td>1.0</td>\n",
              "      <td>Carol</td>\n",
              "      <td>Ross, Carol</td>\n",
              "    </tr>\n",
              "    <tr>\n",
              "      <th>2</th>\n",
              "      <td>Carol</td>\n",
              "      <td>2.0</td>\n",
              "      <td>The Sonogram At The End</td>\n",
              "      <td>Sorry. You look good too.</td>\n",
              "      <td>23.0</td>\n",
              "      <td>1.0</td>\n",
              "      <td>Ross</td>\n",
              "      <td>Ross, Carol</td>\n",
              "    </tr>\n",
              "    <tr>\n",
              "      <th>3</th>\n",
              "      <td>Ross</td>\n",
              "      <td>2.0</td>\n",
              "      <td>The Sonogram At The End</td>\n",
              "      <td>Ah, well, in here, anyone who... stands erect....</td>\n",
              "      <td>24.0</td>\n",
              "      <td>1.0</td>\n",
              "      <td>Carol</td>\n",
              "      <td>Ross, Carol</td>\n",
              "    </tr>\n",
              "    <tr>\n",
              "      <th>4</th>\n",
              "      <td>Carol</td>\n",
              "      <td>2.0</td>\n",
              "      <td>The Sonogram At The End</td>\n",
              "      <td>A lesbian?</td>\n",
              "      <td>25.0</td>\n",
              "      <td>1.0</td>\n",
              "      <td>Ross</td>\n",
              "      <td>Ross, Carol</td>\n",
              "    </tr>\n",
              "  </tbody>\n",
              "</table>\n",
              "</div>"
            ],
            "text/plain": [
              "  author  episode_number            episode_title  ... season  To Whom  Conversation\n",
              "0  Carol             2.0  The Sonogram At The End  ...    1.0     Ross   Ross, Carol\n",
              "1   Ross             2.0  The Sonogram At The End  ...    1.0    Carol   Ross, Carol\n",
              "2  Carol             2.0  The Sonogram At The End  ...    1.0     Ross   Ross, Carol\n",
              "3   Ross             2.0  The Sonogram At The End  ...    1.0    Carol   Ross, Carol\n",
              "4  Carol             2.0  The Sonogram At The End  ...    1.0     Ross   Ross, Carol\n",
              "\n",
              "[5 rows x 8 columns]"
            ]
          },
          "metadata": {
            "tags": []
          },
          "execution_count": 68
        }
      ]
    },
    {
      "cell_type": "code",
      "metadata": {
        "id": "4n4lMkZe21Ug"
      },
      "source": [
        "script_ross[\"quote\"] = script_ross[\"quote\"].str.replace(\"\\(([^)]+)\\)\",\"\").str.strip()"
      ],
      "execution_count": 69,
      "outputs": []
    },
    {
      "cell_type": "code",
      "metadata": {
        "colab": {
          "base_uri": "https://localhost:8080/",
          "height": 287
        },
        "id": "JddqUCWR8JLl",
        "outputId": "41a00180-001c-432e-cdfa-0bea4c351b3b"
      },
      "source": [
        "contexted = []\n",
        "n = 7\n",
        "for i in range(n, len(script_ross['quote'])):\n",
        "  row = []\n",
        "  prev = i - 1 - n # we additionally subtract 1, so row will contain current response and 7 previous responses  \n",
        "  for j in range(i, prev, -1):\n",
        "    row.append(script_ross['quote'][j])\n",
        "  contexted.append(row)\n",
        "columns = ['response', 'context'] \n",
        "columns = columns + ['context/'+str(i) for i in range(n-1)]\n",
        "df = pd.DataFrame.from_records(contexted, columns=columns)\n",
        "df.head(5)"
      ],
      "execution_count": 70,
      "outputs": [
        {
          "output_type": "execute_result",
          "data": {
            "text/html": [
              "<div>\n",
              "<style scoped>\n",
              "    .dataframe tbody tr th:only-of-type {\n",
              "        vertical-align: middle;\n",
              "    }\n",
              "\n",
              "    .dataframe tbody tr th {\n",
              "        vertical-align: top;\n",
              "    }\n",
              "\n",
              "    .dataframe thead th {\n",
              "        text-align: right;\n",
              "    }\n",
              "</style>\n",
              "<table border=\"1\" class=\"dataframe\">\n",
              "  <thead>\n",
              "    <tr style=\"text-align: right;\">\n",
              "      <th></th>\n",
              "      <th>response</th>\n",
              "      <th>context</th>\n",
              "      <th>context/0</th>\n",
              "      <th>context/1</th>\n",
              "      <th>context/2</th>\n",
              "      <th>context/3</th>\n",
              "      <th>context/4</th>\n",
              "      <th>context/5</th>\n",
              "    </tr>\n",
              "  </thead>\n",
              "  <tbody>\n",
              "    <tr>\n",
              "      <th>0</th>\n",
              "      <td>Why- why are you here, Carol?</td>\n",
              "      <td>Marty's still totally paranoid. Oh, and, uh-</td>\n",
              "      <td>Well... you never know. How's, um.. how's the ...</td>\n",
              "      <td>A lesbian?</td>\n",
              "      <td>Ah, well, in here, anyone who... stands erect....</td>\n",
              "      <td>Sorry. You look good too.</td>\n",
              "      <td>You look great. I, uh... I hate that.</td>\n",
              "      <td>Hello!</td>\n",
              "    </tr>\n",
              "    <tr>\n",
              "      <th>1</th>\n",
              "      <td>I'm pregnant.</td>\n",
              "      <td>Why- why are you here, Carol?</td>\n",
              "      <td>Marty's still totally paranoid. Oh, and, uh-</td>\n",
              "      <td>Well... you never know. How's, um.. how's the ...</td>\n",
              "      <td>A lesbian?</td>\n",
              "      <td>Ah, well, in here, anyone who... stands erect....</td>\n",
              "      <td>Sorry. You look good too.</td>\n",
              "      <td>You look great. I, uh... I hate that.</td>\n",
              "    </tr>\n",
              "    <tr>\n",
              "      <th>2</th>\n",
              "      <td>Pregnant?!</td>\n",
              "      <td>I'm pregnant.</td>\n",
              "      <td>Why- why are you here, Carol?</td>\n",
              "      <td>Marty's still totally paranoid. Oh, and, uh-</td>\n",
              "      <td>Well... you never know. How's, um.. how's the ...</td>\n",
              "      <td>A lesbian?</td>\n",
              "      <td>Ah, well, in here, anyone who... stands erect....</td>\n",
              "      <td>Sorry. You look good too.</td>\n",
              "    </tr>\n",
              "    <tr>\n",
              "      <th>3</th>\n",
              "      <td>I'm just cleaning up.</td>\n",
              "      <td>Pregnant?!</td>\n",
              "      <td>I'm pregnant.</td>\n",
              "      <td>Why- why are you here, Carol?</td>\n",
              "      <td>Marty's still totally paranoid. Oh, and, uh-</td>\n",
              "      <td>Well... you never know. How's, um.. how's the ...</td>\n",
              "      <td>A lesbian?</td>\n",
              "      <td>Ah, well, in here, anyone who... stands erect....</td>\n",
              "    </tr>\n",
              "    <tr>\n",
              "      <th>4</th>\n",
              "      <td>D'ya.. uh.. d'ya need any help?</td>\n",
              "      <td>I'm just cleaning up.</td>\n",
              "      <td>Pregnant?!</td>\n",
              "      <td>I'm pregnant.</td>\n",
              "      <td>Why- why are you here, Carol?</td>\n",
              "      <td>Marty's still totally paranoid. Oh, and, uh-</td>\n",
              "      <td>Well... you never know. How's, um.. how's the ...</td>\n",
              "      <td>A lesbian?</td>\n",
              "    </tr>\n",
              "  </tbody>\n",
              "</table>\n",
              "</div>"
            ],
            "text/plain": [
              "                          response  ...                                          context/5\n",
              "0    Why- why are you here, Carol?  ...                                             Hello!\n",
              "1                    I'm pregnant.  ...              You look great. I, uh... I hate that.\n",
              "2                       Pregnant?!  ...                          Sorry. You look good too.\n",
              "3            I'm just cleaning up.  ...  Ah, well, in here, anyone who... stands erect....\n",
              "4  D'ya.. uh.. d'ya need any help?  ...                                         A lesbian?\n",
              "\n",
              "[5 rows x 8 columns]"
            ]
          },
          "metadata": {
            "tags": []
          },
          "execution_count": 70
        }
      ]
    },
    {
      "cell_type": "code",
      "metadata": {
        "id": "iBkb-0U821d-"
      },
      "source": [
        "trn_df, val_df = train_test_split(df, test_size = 0.1)"
      ],
      "execution_count": 71,
      "outputs": []
    },
    {
      "cell_type": "code",
      "metadata": {
        "id": "3gHDmumx21hl"
      },
      "source": [
        "def construct_conv(row, tokenizer, eos = True):\n",
        "    flatten = lambda l: [item for sublist in l for item in sublist]\n",
        "    conv = list(reversed([tokenizer.encode(x) + [tokenizer.eos_token_id] for x in row]))\n",
        "    conv = flatten(conv)\n",
        "    return conv\n",
        "\n",
        "class ConversationDataset(Dataset):\n",
        "    def __init__(self, tokenizer: PreTrainedTokenizer, args, df, block_size=512):\n",
        "\n",
        "        block_size = block_size - (tokenizer.model_max_length - tokenizer.max_len_single_sentence)\n",
        "\n",
        "        directory = args.cache_dir\n",
        "        cached_features_file = os.path.join(\n",
        "            directory, args.model_type + \"_cached_lm_\" + str(block_size)\n",
        "        )\n",
        "\n",
        "        if os.path.exists(cached_features_file) and not args.overwrite_cache:\n",
        "            logger.info(\"Loading features from cached file %s\", cached_features_file)\n",
        "            with open(cached_features_file, \"rb\") as handle:\n",
        "                self.examples = pickle.load(handle)\n",
        "        else:\n",
        "            logger.info(\"Creating features from dataset file at %s\", directory)\n",
        "\n",
        "            self.examples = []\n",
        "            for _, row in df.iterrows():\n",
        "                conv = construct_conv(row, tokenizer)\n",
        "                self.examples.append(conv)\n",
        "\n",
        "            logger.info(\"Saving features into cached file %s\", cached_features_file)\n",
        "            with open(cached_features_file, \"wb\") as handle:\n",
        "                pickle.dump(self.examples, handle, protocol=pickle.HIGHEST_PROTOCOL)\n",
        "\n",
        "    def __len__(self):\n",
        "        return len(self.examples)\n",
        "\n",
        "    def __getitem__(self, item):\n",
        "        return torch.tensor(self.examples[item], dtype=torch.long)\n",
        "      \n",
        "# Cacheing and storing of data/checkpoints\n",
        "\n",
        "def load_and_cache_examples(args, tokenizer, df_trn, df_val, evaluate=False):\n",
        "    return ConversationDataset(tokenizer, args, df_val if evaluate else df_trn)\n",
        "\n",
        "def set_seed(args):\n",
        "    random.seed(args.seed)\n",
        "    np.random.seed(args.seed)\n",
        "    torch.manual_seed(args.seed)\n",
        "    if args.n_gpu > 0:\n",
        "        torch.cuda.manual_seed_all(args.seed)\n",
        "\n",
        "def _sorted_checkpoints(args, checkpoint_prefix=\"checkpoint\", use_mtime=False) -> List[str]:\n",
        "    ordering_and_checkpoint_path = []\n",
        "\n",
        "    glob_checkpoints = glob.glob(os.path.join(args.output_dir, \"{}-*\".format(checkpoint_prefix)))\n",
        "\n",
        "    for path in glob_checkpoints:\n",
        "        if use_mtime:\n",
        "            ordering_and_checkpoint_path.append((os.path.getmtime(path), path))\n",
        "        else:\n",
        "            regex_match = re.match(\".*{}-([0-9]+)\".format(checkpoint_prefix), path)\n",
        "            if regex_match and regex_match.groups():\n",
        "                ordering_and_checkpoint_path.append((int(regex_match.groups()[0]), path))\n",
        "\n",
        "    checkpoints_sorted = sorted(ordering_and_checkpoint_path)\n",
        "    checkpoints_sorted = [checkpoint[1] for checkpoint in checkpoints_sorted]\n",
        "    return checkpoints_sorted\n",
        "\n",
        "def _rotate_checkpoints(args, checkpoint_prefix=\"checkpoint\", use_mtime=False) -> None:\n",
        "    if not args.save_total_limit:\n",
        "        return\n",
        "    if args.save_total_limit <= 0:\n",
        "        return\n",
        "\n",
        "    # Check if we should delete older checkpoint(s)\n",
        "    checkpoints_sorted = _sorted_checkpoints(args, checkpoint_prefix, use_mtime)\n",
        "    if len(checkpoints_sorted) <= args.save_total_limit:\n",
        "        return\n",
        "\n",
        "    number_of_checkpoints_to_delete = max(0, len(checkpoints_sorted) - args.save_total_limit)\n",
        "    checkpoints_to_be_deleted = checkpoints_sorted[:number_of_checkpoints_to_delete]\n",
        "    for checkpoint in checkpoints_to_be_deleted:\n",
        "        logger.info(\"Deleting older checkpoint [{}] due to args.save_total_limit\".format(checkpoint))\n",
        "        shutil.rmtree(checkpoint)"
      ],
      "execution_count": 72,
      "outputs": []
    },
    {
      "cell_type": "code",
      "metadata": {
        "id": "adiQz9oS21nB"
      },
      "source": [
        "def train(args, train_dataset, model: PreTrainedModel, tokenizer: PreTrainedTokenizer) -> Tuple[int, float]:\n",
        "    \"\"\" Train the model \"\"\"\n",
        "    if args.local_rank in [-1, 0]:\n",
        "        tb_writer = SummaryWriter()\n",
        "\n",
        "    args.train_batch_size = args.per_gpu_train_batch_size * max(1, args.n_gpu)\n",
        "\n",
        "    def collate(examples: List[torch.Tensor]):\n",
        "        if tokenizer._pad_token is None:\n",
        "            return pad_sequence(examples, batch_first=True)\n",
        "        return pad_sequence(examples, batch_first=True, padding_value=tokenizer.pad_token_id)\n",
        "\n",
        "    train_sampler = RandomSampler(train_dataset) if args.local_rank == -1 else DistributedSampler(train_dataset)\n",
        "    train_dataloader = DataLoader(\n",
        "        train_dataset, sampler=train_sampler, batch_size=args.train_batch_size, collate_fn=collate, drop_last = True\n",
        "    )\n",
        "\n",
        "    if args.max_steps > 0:\n",
        "        t_total = args.max_steps\n",
        "        args.num_train_epochs = args.max_steps // (len(train_dataloader) // args.gradient_accumulation_steps) + 1\n",
        "    else:\n",
        "        t_total = len(train_dataloader) // args.gradient_accumulation_steps * args.num_train_epochs\n",
        "\n",
        "    model = model.module if hasattr(model, \"module\") else model  # Take care of distributed/parallel training\n",
        "    model.resize_token_embeddings(len(tokenizer))\n",
        "    # add_special_tokens_(model, tokenizer)\n",
        "\n",
        "\n",
        "    # Prepare optimizer and schedule (linear warmup and decay)\n",
        "    no_decay = [\"bias\", \"LayerNorm.weight\"]\n",
        "    optimizer_grouped_parameters = [\n",
        "        {\n",
        "            \"params\": [p for n, p in model.named_parameters() if not any(nd in n for nd in no_decay)],\n",
        "            \"weight_decay\": args.weight_decay,\n",
        "        },\n",
        "        {\"params\": [p for n, p in model.named_parameters() if any(nd in n for nd in no_decay)], \"weight_decay\": 0.0},\n",
        "    ]\n",
        "    optimizer = AdamW(optimizer_grouped_parameters, lr=args.learning_rate, eps=args.adam_epsilon)\n",
        "    scheduler = get_linear_schedule_with_warmup(\n",
        "        optimizer, num_warmup_steps=args.warmup_steps, num_training_steps=t_total\n",
        "    )\n",
        "\n",
        "    # Check if saved optimizer or scheduler states exist\n",
        "    if (\n",
        "        args.model_name_or_path\n",
        "        and os.path.isfile(os.path.join(args.model_name_or_path, \"optimizer.pt\"))\n",
        "        and os.path.isfile(os.path.join(args.model_name_or_path, \"scheduler.pt\"))\n",
        "    ):\n",
        "        # Load in optimizer and scheduler states\n",
        "        optimizer.load_state_dict(torch.load(os.path.join(args.model_name_or_path, \"optimizer.pt\")))\n",
        "        scheduler.load_state_dict(torch.load(os.path.join(args.model_name_or_path, \"scheduler.pt\")))\n",
        "\n",
        "    if args.fp16:\n",
        "        try:\n",
        "            from apex import amp\n",
        "        except ImportError:\n",
        "            raise ImportError(\"Please install apex from https://www.github.com/nvidia/apex to use fp16 training.\")\n",
        "        model, optimizer = amp.initialize(model, optimizer, opt_level=args.fp16_opt_level)\n",
        "\n",
        "    # multi-gpu training (should be after apex fp16 initialization)\n",
        "    if args.n_gpu > 1:\n",
        "        model = torch.nn.DataParallel(model)\n",
        "\n",
        "    # Distributed training (should be after apex fp16 initialization)\n",
        "    if args.local_rank != -1:\n",
        "        model = torch.nn.parallel.DistributedDataParallel(\n",
        "            model, device_ids=[args.local_rank], output_device=args.local_rank, find_unused_parameters=True\n",
        "        )\n",
        "\n",
        "    # Train!\n",
        "    logger.info(\"***** Running training *****\")\n",
        "    logger.info(\"  Num examples = %d\", len(train_dataset))\n",
        "    logger.info(\"  Num Epochs = %d\", args.num_train_epochs)\n",
        "    logger.info(\"  Instantaneous batch size per GPU = %d\", args.per_gpu_train_batch_size)\n",
        "    logger.info(\n",
        "        \"  Total train batch size (w. parallel, distributed & accumulation) = %d\",\n",
        "        args.train_batch_size\n",
        "        * args.gradient_accumulation_steps\n",
        "        * (torch.distributed.get_world_size() if args.local_rank != -1 else 1),\n",
        "    )\n",
        "    logger.info(\"  Gradient Accumulation steps = %d\", args.gradient_accumulation_steps)\n",
        "    logger.info(\"  Total optimization steps = %d\", t_total)\n",
        "\n",
        "    global_step = 0\n",
        "    epochs_trained = 0\n",
        "    steps_trained_in_current_epoch = 0\n",
        "    # Check if continuing training from a checkpoint\n",
        "    if args.model_name_or_path and os.path.exists(args.model_name_or_path):\n",
        "        try:\n",
        "            # set global_step to gobal_step of last saved checkpoint from model path\n",
        "            checkpoint_suffix = args.model_name_or_path.split(\"-\")[-1].split(\"/\")[0]\n",
        "            global_step = int(checkpoint_suffix)\n",
        "            epochs_trained = global_step // (len(train_dataloader) // args.gradient_accumulation_steps)\n",
        "            steps_trained_in_current_epoch = global_step % (len(train_dataloader) // args.gradient_accumulation_steps)\n",
        "\n",
        "            logger.info(\"  Continuing training from checkpoint, will skip to saved global_step\")\n",
        "            logger.info(\"  Continuing training from epoch %d\", epochs_trained)\n",
        "            logger.info(\"  Continuing training from global step %d\", global_step)\n",
        "            logger.info(\"  Will skip the first %d steps in the first epoch\", steps_trained_in_current_epoch)\n",
        "        except ValueError:\n",
        "            logger.info(\"  Starting fine-tuning.\")\n",
        "\n",
        "    tr_loss, logging_loss = 0.0, 0.0\n",
        "\n",
        "    model.zero_grad()\n",
        "    train_iterator = trange(\n",
        "        epochs_trained, int(args.num_train_epochs), desc=\"Epoch\", disable=args.local_rank not in [-1, 0]\n",
        "    )\n",
        "    set_seed(args)  # Added here for reproducibility\n",
        "    for _ in train_iterator:\n",
        "        epoch_iterator = tqdm(train_dataloader, desc=\"Iteration\", disable=args.local_rank not in [-1, 0])\n",
        "        for step, batch in enumerate(epoch_iterator):\n",
        "\n",
        "            # Skip past any already trained steps if resuming training\n",
        "            if steps_trained_in_current_epoch > 0:\n",
        "                steps_trained_in_current_epoch -= 1\n",
        "                continue\n",
        "\n",
        "            inputs, labels = (batch, batch)\n",
        "            if inputs.shape[1] > 1024: continue\n",
        "            inputs = inputs.to(args.device)\n",
        "            labels = labels.to(args.device)\n",
        "            model.train()\n",
        "            outputs = model(inputs, labels=labels)\n",
        "            loss = outputs[0]  # model outputs are always tuple in transformers (see doc)\n",
        "\n",
        "            if args.n_gpu > 1:\n",
        "                loss = loss.mean()  # mean() to average on multi-gpu parallel training\n",
        "            if args.gradient_accumulation_steps > 1:\n",
        "                loss = loss / args.gradient_accumulation_steps\n",
        "\n",
        "            if args.fp16:\n",
        "                with amp.scale_loss(loss, optimizer) as scaled_loss:\n",
        "                    scaled_loss.backward()\n",
        "            else:\n",
        "                loss.backward()\n",
        "\n",
        "            tr_loss += loss.item()\n",
        "            if (step + 1) % args.gradient_accumulation_steps == 0:\n",
        "                if args.fp16:\n",
        "                    torch.nn.utils.clip_grad_norm_(amp.master_params(optimizer), args.max_grad_norm)\n",
        "                else:\n",
        "                    torch.nn.utils.clip_grad_norm_(model.parameters(), args.max_grad_norm)\n",
        "                optimizer.step()\n",
        "                scheduler.step()  # Update learning rate schedule\n",
        "                model.zero_grad()\n",
        "                global_step += 1\n",
        "\n",
        "                if args.local_rank in [-1, 0] and args.logging_steps > 0 and global_step % args.logging_steps == 0:\n",
        "                    # Log metrics\n",
        "                    if (\n",
        "                        args.local_rank == -1 and args.evaluate_during_training\n",
        "                    ):  # Only evaluate when single GPU otherwise metrics may not average well\n",
        "                        results = evaluate(args, model, tokenizer)\n",
        "                        for key, value in results.items():\n",
        "                            tb_writer.add_scalar(\"eval_{}\".format(key), value, global_step)\n",
        "                    tb_writer.add_scalar(\"lr\", scheduler.get_lr()[0], global_step)\n",
        "                    tb_writer.add_scalar(\"loss\", (tr_loss - logging_loss) / args.logging_steps, global_step)\n",
        "                    logging_loss = tr_loss\n",
        "\n",
        "                if args.local_rank in [-1, 0] and args.save_steps > 0 and global_step % args.save_steps == 0:\n",
        "                    checkpoint_prefix = \"checkpoint\"\n",
        "                    # Save model checkpoint\n",
        "                    output_dir = os.path.join(args.output_dir, \"{}-{}\".format(checkpoint_prefix, global_step))\n",
        "                    os.makedirs(output_dir, exist_ok=True)\n",
        "                    model_to_save = (\n",
        "                        model.module if hasattr(model, \"module\") else model\n",
        "                    )  # Take care of distributed/parallel training\n",
        "                    model_to_save.save_pretrained(output_dir)\n",
        "                    tokenizer.save_pretrained(output_dir)\n",
        "\n",
        "                    torch.save(args, os.path.join(output_dir, \"training_args.bin\"))\n",
        "                    logger.info(\"Saving model checkpoint to %s\", output_dir)\n",
        "\n",
        "                    _rotate_checkpoints(args, checkpoint_prefix)\n",
        "\n",
        "                    torch.save(optimizer.state_dict(), os.path.join(output_dir, \"optimizer.pt\"))\n",
        "                    torch.save(scheduler.state_dict(), os.path.join(output_dir, \"scheduler.pt\"))\n",
        "                    logger.info(\"Saving optimizer and scheduler states to %s\", output_dir)\n",
        "\n",
        "            if args.max_steps > 0 and global_step > args.max_steps:\n",
        "                epoch_iterator.close()\n",
        "                break\n",
        "        if args.max_steps > 0 and global_step > args.max_steps:\n",
        "            train_iterator.close()\n",
        "            break\n",
        "\n",
        "    if args.local_rank in [-1, 0]:\n",
        "        tb_writer.close()\n",
        "\n",
        "    return global_step, tr_loss / global_step\n",
        "\n",
        "# Evaluation of some model\n",
        "\n",
        "def evaluate(args, model: PreTrainedModel, tokenizer: PreTrainedTokenizer, df_trn, df_val, prefix=\"\") -> Dict:\n",
        "    # Loop to handle MNLI double evaluation (matched, mis-matched)\n",
        "    eval_output_dir = args.output_dir\n",
        "\n",
        "    eval_dataset = load_and_cache_examples(args, tokenizer, df_trn, df_val, evaluate=True)\n",
        "    os.makedirs(eval_output_dir, exist_ok=True)\n",
        "    args.eval_batch_size = args.per_gpu_eval_batch_size * max(1, args.n_gpu)\n",
        "    # Note that DistributedSampler samples randomly\n",
        "\n",
        "    def collate(examples: List[torch.Tensor]):\n",
        "        if tokenizer._pad_token is None:\n",
        "            return pad_sequence(examples, batch_first=True)\n",
        "        return pad_sequence(examples, batch_first=True, padding_value=tokenizer.pad_token_id)\n",
        "\n",
        "    eval_sampler = SequentialSampler(eval_dataset)\n",
        "    eval_dataloader = DataLoader(\n",
        "        eval_dataset, sampler=eval_sampler, batch_size=args.eval_batch_size, collate_fn=collate, drop_last = True\n",
        "    )\n",
        "\n",
        "    # multi-gpu evaluate\n",
        "    if args.n_gpu > 1:\n",
        "        model = torch.nn.DataParallel(model)\n",
        "\n",
        "    # Eval!\n",
        "    logger.info(\"***** Running evaluation {} *****\".format(prefix))\n",
        "    logger.info(\"  Num examples = %d\", len(eval_dataset))\n",
        "    logger.info(\"  Batch size = %d\", args.eval_batch_size)\n",
        "    eval_loss = 0.0\n",
        "    nb_eval_steps = 0\n",
        "    model.eval()\n",
        "\n",
        "    for batch in tqdm(eval_dataloader, desc=\"Evaluating\"):\n",
        "        inputs, labels = (batch, batch)\n",
        "        inputs = inputs.to(args.device)\n",
        "        labels = labels.to(args.device)\n",
        "\n",
        "        with torch.no_grad():\n",
        "            outputs = model(inputs, labels=labels)\n",
        "            lm_loss = outputs[0]\n",
        "            eval_loss += lm_loss.mean().item()\n",
        "        nb_eval_steps += 1\n",
        "\n",
        "    eval_loss = eval_loss / nb_eval_steps\n",
        "    perplexity = torch.exp(torch.tensor(eval_loss))\n",
        "\n",
        "    result = {\"perplexity\": perplexity}\n",
        "\n",
        "    output_eval_file = os.path.join(eval_output_dir, prefix, \"eval_results.txt\")\n",
        "    with open(output_eval_file, \"w\") as writer:\n",
        "        logger.info(\"***** Eval results {} *****\".format(prefix))\n",
        "        for key in sorted(result.keys()):\n",
        "            logger.info(\"  %s = %s\", key, str(result[key]))\n",
        "            writer.write(\"%s = %s\\n\" % (key, str(result[key])))\n",
        "\n",
        "    return result"
      ],
      "execution_count": 73,
      "outputs": []
    },
    {
      "cell_type": "code",
      "metadata": {
        "id": "VmZbnKJ63pEn"
      },
      "source": [
        "def main(df_trn, df_val):\n",
        "      args = Args()\n",
        "\n",
        "      if args.should_continue:\n",
        "          sorted_checkpoints = _sorted_checkpoints(args)\n",
        "          if len(sorted_checkpoints) == 0:\n",
        "              raise ValueError(\"Used --should_continue but no checkpoint was found in --output_dir.\")\n",
        "          else:\n",
        "              args.model_name_or_path = sorted_checkpoints[-1]\n",
        "\n",
        "      if (\n",
        "          os.path.exists(args.output_dir)\n",
        "          and os.listdir(args.output_dir)\n",
        "          and args.do_train\n",
        "          and not args.overwrite_output_dir\n",
        "          and not args.should_continue\n",
        "      ):\n",
        "          raise ValueError(\n",
        "              \"Output directory ({}) already exists and is not empty. Use --overwrite_output_dir to overcome.\".format(\n",
        "                  args.output_dir\n",
        "              )\n",
        "          )\n",
        "\n",
        "      # Setup CUDA, GPU & distributed training\n",
        "      device = torch.device(\"cuda\")\n",
        "      args.n_gpu = torch.cuda.device_count()\n",
        "      args.device = device\n",
        "\n",
        "      # Setup logging\n",
        "      logging.basicConfig(\n",
        "          format=\"%(asctime)s - %(levelname)s - %(name)s -   %(message)s\",\n",
        "          datefmt=\"%m/%d/%Y %H:%M:%S\",\n",
        "          level=logging.INFO if args.local_rank in [-1, 0] else logging.WARN,\n",
        "      )\n",
        "      logger.warning(\n",
        "          \"Process rank: %s, device: %s, n_gpu: %s, distributed training: %s, 16-bits training: %s\",\n",
        "          args.local_rank,\n",
        "          device,\n",
        "          args.n_gpu,\n",
        "          bool(args.local_rank != -1),\n",
        "          args.fp16,\n",
        "      )\n",
        "\n",
        "      # Set seed\n",
        "      set_seed(args)\n",
        "\n",
        "      config = AutoConfig.from_pretrained(args.config_name, cache_dir=args.cache_dir)\n",
        "      tokenizer = AutoTokenizer.from_pretrained(args.tokenizer_name, cache_dir=args.cache_dir)\n",
        "      model = AutoModelWithLMHead.from_pretrained(\n",
        "          args.model_name_or_path,\n",
        "          from_tf=False,\n",
        "          config=config,\n",
        "          cache_dir=args.cache_dir,\n",
        "      )\n",
        "      model.to(args.device)\n",
        "\n",
        "      logger.info(\"Training/evaluation parameters %s\", args)\n",
        "\n",
        "      # Training\n",
        "      if args.do_train:\n",
        "          train_dataset = load_and_cache_examples(args, tokenizer, df_trn, df_val, evaluate=False)\n",
        "\n",
        "          global_step, tr_loss = train(args, train_dataset, model, tokenizer)\n",
        "          logger.info(\" global_step = %s, average loss = %s\", global_step, tr_loss)\n",
        "\n",
        "      # Saving best-practices: if you use save_pretrained for the model and tokenizer, you can reload them using from_pretrained()\n",
        "      if args.do_train:\n",
        "          # Create output directory if needed\n",
        "          os.makedirs(args.output_dir, exist_ok=True)\n",
        "\n",
        "          logger.info(\"Saving model checkpoint to %s\", args.output_dir)\n",
        "          # Save a trained model, configuration and tokenizer using `save_pretrained()`.\n",
        "          # They can then be reloaded using `from_pretrained()`\n",
        "          model_to_save = (\n",
        "              model.module if hasattr(model, \"module\") else model\n",
        "          )  # Take care of distributed/parallel training\n",
        "          model_to_save.save_pretrained(args.output_dir)\n",
        "          tokenizer.save_pretrained(args.output_dir)\n",
        "\n",
        "          # Good practice: save your training arguments together with the trained model\n",
        "          torch.save(args, os.path.join(args.output_dir, \"training_args.bin\"))\n",
        "\n",
        "          # Load a trained model and vocabulary that you have fine-tuned\n",
        "          model = AutoModelWithLMHead.from_pretrained(args.output_dir)\n",
        "          tokenizer = AutoTokenizer.from_pretrained(args.output_dir)\n",
        "          model.to(args.device)\n",
        "\n",
        "      # Evaluation\n",
        "      results = {}\n",
        "      if args.do_eval and args.local_rank in [-1, 0]:\n",
        "          checkpoints = [args.output_dir]\n",
        "          if args.eval_all_checkpoints:\n",
        "              checkpoints = list(\n",
        "                  os.path.dirname(c) for c in sorted(glob.glob(args.output_dir + \"/**/\" + WEIGHTS_NAME, recursive=True))\n",
        "              )\n",
        "              logging.getLogger(\"transformers.modeling_utils\").setLevel(logging.WARN)  # Reduce logging\n",
        "          logger.info(\"Evaluate the following checkpoints: %s\", checkpoints)\n",
        "          for checkpoint in checkpoints:\n",
        "              global_step = checkpoint.split(\"-\")[-1] if len(checkpoints) > 1 else \"\"\n",
        "              prefix = checkpoint.split(\"/\")[-1] if checkpoint.find(\"checkpoint\") != -1 else \"\"\n",
        "\n",
        "              model = AutoModelWithLMHead.from_pretrained(checkpoint)\n",
        "              model.to(args.device)\n",
        "              result = evaluate(args, model, tokenizer, df_trn, df_val, prefix=prefix)\n",
        "              result = dict((k + \"_{}\".format(global_step), v) for k, v in result.items())\n",
        "              results.update(result)\n",
        "\n",
        "      return results"
      ],
      "execution_count": 74,
      "outputs": []
    },
    {
      "cell_type": "code",
      "metadata": {
        "id": "3NOIBGTr3pNW"
      },
      "source": [
        "#main(trn_df, val_df)"
      ],
      "execution_count": 75,
      "outputs": []
    },
    {
      "cell_type": "code",
      "metadata": {
        "id": "cGcNCYG9-fRA",
        "colab": {
          "base_uri": "https://localhost:8080/",
          "height": 212,
          "referenced_widgets": [
            "8c885ea1edbb4b4cab16034837b40f6b",
            "f07e78b6adaf4079b8e697752059299d",
            "1b50293479e146929d34901f2ed47d22",
            "938cfaaec4a84192bf24a024a164681f",
            "07387cd2d8d64e48bc248e1969dca0c7",
            "fbb504f40f234d07a4a71dea37d32b6e",
            "f9fc84dd25994013b4af3f55bd9bf07c",
            "c13fafe8dbdb459aab2092abed056b72",
            "aae15e6082794a908151b48842080794",
            "d1f5a84da98746b7baf4537deab79412",
            "4f95425ce7f04319ae75b7bed7bfdcef",
            "829074d2620342f7a9bbedc9d8ecda6d",
            "9ba093da8bcd40e7885bfd8432c0dda0",
            "b170cd0645df4e74bbf468aeecc426a9",
            "cab3da961f7045569bce9d0da8fe2ca2",
            "18631fe8158d47a1b1e55730b7bb93ee",
            "8cd275ee79cf498a874270f8b5be455a",
            "c4cefe347ffe47d0a2faa6646c57109b",
            "da0bb9589ad646c3811926d5107cab70",
            "c5a1aa5b85f049478ab2c6311b06401a",
            "d373f32dcee042f0bf5c742490652095",
            "8005c3ade8644bca90461841ddcf9059",
            "adc145adb072461db787a8c6fed31bff",
            "87ae632667ac437cad0b278efd80d1d9",
            "a637dfb1ffd24d2bbb33c8327205946f",
            "d2118b3604e540cd881419e8001f3ab5",
            "e9c5b81e69344eaf82f3ffe70da7839d",
            "455a8efdec8943a29b1f58171df11deb",
            "a6067728373d4dec9bf6c3034014363a",
            "26b369ddae5849539a0d216ef37e0b19",
            "bbc355f5fe0f4b2790921cf2f07433d1",
            "bfbaf72e3d144919b04cfbeea5828f4f"
          ]
        },
        "outputId": "fdf2063b-af1b-4c4f-98e7-4db5fa769a30"
      },
      "source": [
        "#@title\n",
        "tokenizer = AutoTokenizer.from_pretrained('microsoft/DialoGPT-medium')\n",
        "model = AutoModelWithLMHead.from_pretrained('/content/gdrive/MyDrive/Colab Notebooks/output-small')\n"
      ],
      "execution_count": 76,
      "outputs": [
        {
          "output_type": "display_data",
          "data": {
            "application/vnd.jupyter.widget-view+json": {
              "model_id": "8c885ea1edbb4b4cab16034837b40f6b",
              "version_minor": 0,
              "version_major": 2
            },
            "text/plain": [
              "HBox(children=(FloatProgress(value=0.0, description='Downloading', max=26.0, style=ProgressStyle(description_w…"
            ]
          },
          "metadata": {
            "tags": []
          }
        },
        {
          "output_type": "stream",
          "text": [
            "\n"
          ],
          "name": "stdout"
        },
        {
          "output_type": "display_data",
          "data": {
            "application/vnd.jupyter.widget-view+json": {
              "model_id": "aae15e6082794a908151b48842080794",
              "version_minor": 0,
              "version_major": 2
            },
            "text/plain": [
              "HBox(children=(FloatProgress(value=0.0, description='Downloading', max=642.0, style=ProgressStyle(description_…"
            ]
          },
          "metadata": {
            "tags": []
          }
        },
        {
          "output_type": "stream",
          "text": [
            "\n"
          ],
          "name": "stdout"
        },
        {
          "output_type": "display_data",
          "data": {
            "application/vnd.jupyter.widget-view+json": {
              "model_id": "8cd275ee79cf498a874270f8b5be455a",
              "version_minor": 0,
              "version_major": 2
            },
            "text/plain": [
              "HBox(children=(FloatProgress(value=0.0, description='Downloading', max=1042301.0, style=ProgressStyle(descript…"
            ]
          },
          "metadata": {
            "tags": []
          }
        },
        {
          "output_type": "stream",
          "text": [
            "\n"
          ],
          "name": "stdout"
        },
        {
          "output_type": "display_data",
          "data": {
            "application/vnd.jupyter.widget-view+json": {
              "model_id": "a637dfb1ffd24d2bbb33c8327205946f",
              "version_minor": 0,
              "version_major": 2
            },
            "text/plain": [
              "HBox(children=(FloatProgress(value=0.0, description='Downloading', max=456318.0, style=ProgressStyle(descripti…"
            ]
          },
          "metadata": {
            "tags": []
          }
        },
        {
          "output_type": "stream",
          "text": [
            "\n"
          ],
          "name": "stdout"
        }
      ]
    },
    {
      "cell_type": "markdown",
      "metadata": {
        "id": "w3sTkNkV4WN3"
      },
      "source": [
        "#**Generador de diálogo: ¿Qué diría Ross?**"
      ]
    },
    {
      "cell_type": "markdown",
      "metadata": {
        "id": "UhhaTNXc4cLj"
      },
      "source": [
        "\n",
        "![alt text](https://media.giphy.com/media/FY56lXEc3KY9y/giphy.gif)\n",
        "\n",
        "Image from [Giphy](https://giphy.com/)\n"
      ]
    },
    {
      "cell_type": "code",
      "metadata": {
        "colab": {
          "base_uri": "https://localhost:8080/"
        },
        "id": "MRHAfAuh3pU_",
        "cellView": "form",
        "outputId": "666c608c-beb2-49e5-ed6e-0d8ac74da931"
      },
      "source": [
        "#@title\n",
        "# Let's chat for 5 lines\n",
        "for step in range(5):\n",
        "    # encode the new user input, add the eos_token and return a tensor in Pytorch\n",
        "    new_user_input_ids = tokenizer.encode(input(\">> User:\") + tokenizer.eos_token, return_tensors='pt')\n",
        "    # print(new_user_input_ids)\n",
        "# append the new user input tokens to the chat history\n",
        "    bot_input_ids = torch.cat([chat_history_ids, new_user_input_ids], dim=-1) if step > 0 else new_user_input_ids\n",
        "# generated a response while limiting the total chat history to 1000 tokens, \n",
        "    chat_history_ids = model.generate(\n",
        "        bot_input_ids, max_length=200,\n",
        "        pad_token_id=tokenizer.eos_token_id,  \n",
        "        no_repeat_ngram_size=3,       \n",
        "        do_sample=True, \n",
        "        top_k=100, \n",
        "        top_p=0.7,\n",
        "        temperature = 0.8\n",
        "    )\n",
        "    \n",
        "    # pretty print last ouput tokens from bot\n",
        "    print(\"RossBot: {}\".format(tokenizer.decode(chat_history_ids[:, bot_input_ids.shape[-1]:][0], skip_special_tokens=True)))\n"
      ],
      "execution_count": 77,
      "outputs": [
        {
          "output_type": "stream",
          "text": [
            ">> User:Hello Ross\n",
            "RossBot: Hi\n",
            ">> User:Would you like to go for a coffee?\n",
            "RossBot: Sure\n",
            ">> User:where should we go\n",
            "RossBot: There you go\n",
            ">> User:great\n",
            "RossBot: So uh Rachel what are you uh what're you doing tonight?\n",
            ">> User:go on a date with you?\n",
            "RossBot: !!!?!!\n"
          ],
          "name": "stdout"
        }
      ]
    },
    {
      "cell_type": "markdown",
      "metadata": {
        "id": "pD9XW8WeJ4IP"
      },
      "source": [
        "**CONVERSATION 1**\n",
        "\n",
        "* **User**:Hey Ross, how are you?\n",
        "* **RossBot** good you?\n",
        "* **User**:All good thanks! So should we have coffee?\n",
        "* **RossBot** sure\n",
        "* **User**:where should we go?\n",
        "* **RossBot** to the bar\n",
        "* **User**:maybe better a coffee shop\n",
        "* **RossBot** there you go!\n",
        "* **User**:great, let's go!\n",
        "* **RossBot** !!!?!!"
      ]
    },
    {
      "cell_type": "markdown",
      "metadata": {
        "id": "Zzyq7sqqNA4W"
      },
      "source": [
        "**CONVERSATION 2**\n",
        "\n",
        "* **User**:hey, what's up\n",
        "* **RossBot** nothing much\n",
        "* **User**:ok, same here\n",
        "* **RossBot** so what're you uh what're um you nervous about?\n",
        "* **User**:I have a job interview\n",
        "* **RossBot** oh god  oh god  what's wrong with me?\n",
        "* **User**:nothing!!\n",
        "* **RossBot** look carol never threw me out of a room before you came along\n",
        "* **User**:well, things have changed\n",
        "* **RossBot** !!!?!!"
      ]
    },
    {
      "cell_type": "markdown",
      "metadata": {
        "id": "Y-dvVh6NNXpe"
      },
      "source": [
        "**CONVERSATION 3**\n",
        "\n",
        "* **User**:Hey, long time no see\n",
        "* **RossBot**: you didn't tell us about the cat\n",
        "* **User**:what cat?\n",
        "* **RossBot**: the one you left in the box\n",
        "* **User**:it's not mine\n",
        "* **RossBot**: look it's just a warm fuzzy blanket\n",
        "* **User**:which color?\n",
        "* **RossBot**: maroon is nice\n",
        "* **User**:It's awful\n",
        "* **RossBot**: it is it is"
      ]
    },
    {
      "cell_type": "markdown",
      "metadata": {
        "id": "41GBT9nzbpBG"
      },
      "source": [
        "**CONVERSATION 4**\n",
        "\n",
        "* **User**:You like this woman, right?\n",
        "* **RossBot**: yeah\n",
        "* **User**:you wanna see her again right?\n",
        "* **RossBot**: sure\n",
        "* **User**:so what will you do?\n",
        "* **RossBot**: i'm gonna go out there and see what i can do\n",
        "* **User**:All right, relax\n",
        "* **RossBot**: alright\n",
        "* **User**:you can do it!!\n",
        "* **RossBot**: !!!?!!"
      ]
    },
    {
      "cell_type": "markdown",
      "metadata": {
        "id": "AdkcQH_c5TC6"
      },
      "source": [
        "**CONVERSATION 5**\n",
        "\n",
        "* **User**:what's up?\n",
        "* **RossBot**: Nothing much uh\n",
        "* **User**::Are you hungry?\n",
        "* **RossBot**: Mmmm\n",
        "* **User**::What would you like to eat?\n",
        "* **RossBot**: Well um I don't know maybe a nice cold steak but that's it\n",
        "* **User**::Well, this I can cook\n",
        "* **RossBot**: That's great\n",
        "* **User**::Will you buy dessert?\n",
        "* **RossBot**: !!!?!!,!!'!!"
      ]
    },
    {
      "cell_type": "markdown",
      "metadata": {
        "id": "-ni7aCVZRcHJ"
      },
      "source": [
        "\n",
        "![alt text](https://media.giphy.com/media/KxhMgiklWomI1iUpFU/giphy.gif)\n",
        "\n",
        "Image from [Giphy](https://giphy.com/)"
      ]
    }
  ]
}