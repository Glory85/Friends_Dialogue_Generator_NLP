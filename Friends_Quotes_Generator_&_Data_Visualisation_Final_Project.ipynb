{
  "nbformat": 4,
  "nbformat_minor": 0,
  "metadata": {
    "celltoolbar": "Slideshow",
    "colab": {
      "name": "Friends Quotes Generator & Data Visualisation_Final Project.ipynb",
      "provenance": [],
      "collapsed_sections": []
    },
    "hide_input": false,
    "kernelspec": {
      "display_name": "Python 3",
      "language": "python",
      "name": "python3"
    },
    "language_info": {
      "codemirror_mode": {
        "name": "ipython",
        "version": 3
      },
      "file_extension": ".py",
      "mimetype": "text/x-python",
      "name": "python",
      "nbconvert_exporter": "python",
      "pygments_lexer": "ipython3",
      "version": "3.8.5"
    },
    "toc": {
      "base_numbering": 1,
      "nav_menu": {},
      "number_sections": true,
      "sideBar": true,
      "skip_h1_title": false,
      "title_cell": "Table of Contents",
      "title_sidebar": "Contents",
      "toc_cell": false,
      "toc_position": {},
      "toc_section_display": true,
      "toc_window_display": false
    },
    "varInspector": {
      "cols": {
        "lenName": 16,
        "lenType": 16,
        "lenVar": 40
      },
      "kernels_config": {
        "python": {
          "delete_cmd_postfix": "",
          "delete_cmd_prefix": "del ",
          "library": "var_list.py",
          "varRefreshCmd": "print(var_dic_list())"
        },
        "r": {
          "delete_cmd_postfix": ") ",
          "delete_cmd_prefix": "rm(",
          "library": "var_list.r",
          "varRefreshCmd": "cat(var_dic_list()) "
        }
      },
      "types_to_exclude": [
        "module",
        "function",
        "builtin_function_or_method",
        "instance",
        "_Feature"
      ],
      "window_display": false
    },
    "widgets": {
      "application/vnd.jupyter.widget-state+json": {
        "073da91f945345edadae3438377ce82d": {
          "model_module": "@jupyter-widgets/controls",
          "model_name": "VBoxModel",
          "state": {
            "_view_name": "VBoxView",
            "_dom_classes": [
              "widget-interact"
            ],
            "_model_name": "VBoxModel",
            "_view_module": "@jupyter-widgets/controls",
            "_model_module_version": "1.5.0",
            "_view_count": null,
            "_view_module_version": "1.5.0",
            "box_style": "",
            "layout": "IPY_MODEL_b4a0960218b34151963eab1b599707c9",
            "_model_module": "@jupyter-widgets/controls",
            "children": [
              "IPY_MODEL_08d91def9aa644bbbeb8899bf6aed6aa",
              "IPY_MODEL_a4a687c2c1b74e8cbdfee0b08ecf3bd8"
            ]
          }
        },
        "b4a0960218b34151963eab1b599707c9": {
          "model_module": "@jupyter-widgets/base",
          "model_name": "LayoutModel",
          "state": {
            "_view_name": "LayoutView",
            "grid_template_rows": null,
            "right": null,
            "justify_content": null,
            "_view_module": "@jupyter-widgets/base",
            "overflow": null,
            "_model_module_version": "1.2.0",
            "_view_count": null,
            "flex_flow": null,
            "width": null,
            "min_width": null,
            "border": null,
            "align_items": null,
            "bottom": null,
            "_model_module": "@jupyter-widgets/base",
            "top": null,
            "grid_column": null,
            "overflow_y": null,
            "overflow_x": null,
            "grid_auto_flow": null,
            "grid_area": null,
            "grid_template_columns": null,
            "flex": null,
            "_model_name": "LayoutModel",
            "justify_items": null,
            "grid_row": null,
            "max_height": null,
            "align_content": null,
            "visibility": null,
            "align_self": null,
            "height": null,
            "min_height": null,
            "padding": null,
            "grid_auto_rows": null,
            "grid_gap": null,
            "max_width": null,
            "order": null,
            "_view_module_version": "1.2.0",
            "grid_template_areas": null,
            "object_position": null,
            "object_fit": null,
            "grid_auto_columns": null,
            "margin": null,
            "display": null,
            "left": null
          }
        },
        "08d91def9aa644bbbeb8899bf6aed6aa": {
          "model_module": "@jupyter-widgets/controls",
          "model_name": "IntSliderModel",
          "state": {
            "_view_name": "IntSliderView",
            "style": "IPY_MODEL_aeb85c52011340d6bba6c7d1914312c0",
            "_dom_classes": [],
            "description": "Season",
            "step": 1,
            "_model_name": "IntSliderModel",
            "orientation": "horizontal",
            "max": 10,
            "_view_module": "@jupyter-widgets/controls",
            "_model_module_version": "1.5.0",
            "value": 1,
            "_view_count": null,
            "disabled": false,
            "_view_module_version": "1.5.0",
            "min": 1,
            "continuous_update": true,
            "readout_format": "d",
            "description_tooltip": null,
            "readout": true,
            "_model_module": "@jupyter-widgets/controls",
            "layout": "IPY_MODEL_b6e725c542e04644975cad8dd8bde7f2"
          }
        },
        "a4a687c2c1b74e8cbdfee0b08ecf3bd8": {
          "model_module": "@jupyter-widgets/output",
          "model_name": "OutputModel",
          "state": {
            "_view_name": "OutputView",
            "msg_id": "",
            "_dom_classes": [],
            "_model_name": "OutputModel",
            "outputs": [
              {
                "output_type": "display_data",
                "metadata": {
                  "tags": []
                },
                "image/png": "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\n",
                "text/plain": "<Figure size 504x504 with 1 Axes>"
              }
            ],
            "_view_module": "@jupyter-widgets/output",
            "_model_module_version": "1.0.0",
            "_view_count": null,
            "_view_module_version": "1.0.0",
            "layout": "IPY_MODEL_6bb0faf725604c94ab809dc477fb40a7",
            "_model_module": "@jupyter-widgets/output"
          }
        },
        "aeb85c52011340d6bba6c7d1914312c0": {
          "model_module": "@jupyter-widgets/controls",
          "model_name": "SliderStyleModel",
          "state": {
            "_view_name": "StyleView",
            "handle_color": null,
            "_model_name": "SliderStyleModel",
            "description_width": "",
            "_view_module": "@jupyter-widgets/base",
            "_model_module_version": "1.5.0",
            "_view_count": null,
            "_view_module_version": "1.2.0",
            "_model_module": "@jupyter-widgets/controls"
          }
        },
        "b6e725c542e04644975cad8dd8bde7f2": {
          "model_module": "@jupyter-widgets/base",
          "model_name": "LayoutModel",
          "state": {
            "_view_name": "LayoutView",
            "grid_template_rows": null,
            "right": null,
            "justify_content": null,
            "_view_module": "@jupyter-widgets/base",
            "overflow": null,
            "_model_module_version": "1.2.0",
            "_view_count": null,
            "flex_flow": null,
            "width": null,
            "min_width": null,
            "border": null,
            "align_items": null,
            "bottom": null,
            "_model_module": "@jupyter-widgets/base",
            "top": null,
            "grid_column": null,
            "overflow_y": null,
            "overflow_x": null,
            "grid_auto_flow": null,
            "grid_area": null,
            "grid_template_columns": null,
            "flex": null,
            "_model_name": "LayoutModel",
            "justify_items": null,
            "grid_row": null,
            "max_height": null,
            "align_content": null,
            "visibility": null,
            "align_self": null,
            "height": null,
            "min_height": null,
            "padding": null,
            "grid_auto_rows": null,
            "grid_gap": null,
            "max_width": null,
            "order": null,
            "_view_module_version": "1.2.0",
            "grid_template_areas": null,
            "object_position": null,
            "object_fit": null,
            "grid_auto_columns": null,
            "margin": null,
            "display": null,
            "left": null
          }
        },
        "6bb0faf725604c94ab809dc477fb40a7": {
          "model_module": "@jupyter-widgets/base",
          "model_name": "LayoutModel",
          "state": {
            "_view_name": "LayoutView",
            "grid_template_rows": null,
            "right": null,
            "justify_content": null,
            "_view_module": "@jupyter-widgets/base",
            "overflow": null,
            "_model_module_version": "1.2.0",
            "_view_count": null,
            "flex_flow": null,
            "width": null,
            "min_width": null,
            "border": null,
            "align_items": null,
            "bottom": null,
            "_model_module": "@jupyter-widgets/base",
            "top": null,
            "grid_column": null,
            "overflow_y": null,
            "overflow_x": null,
            "grid_auto_flow": null,
            "grid_area": null,
            "grid_template_columns": null,
            "flex": null,
            "_model_name": "LayoutModel",
            "justify_items": null,
            "grid_row": null,
            "max_height": null,
            "align_content": null,
            "visibility": null,
            "align_self": null,
            "height": null,
            "min_height": null,
            "padding": null,
            "grid_auto_rows": null,
            "grid_gap": null,
            "max_width": null,
            "order": null,
            "_view_module_version": "1.2.0",
            "grid_template_areas": null,
            "object_position": null,
            "object_fit": null,
            "grid_auto_columns": null,
            "margin": null,
            "display": null,
            "left": null
          }
        },
        "b7589023466f439e898c66de1f009365": {
          "model_module": "@jupyter-widgets/controls",
          "model_name": "VBoxModel",
          "state": {
            "_view_name": "VBoxView",
            "_dom_classes": [
              "widget-interact"
            ],
            "_model_name": "VBoxModel",
            "_view_module": "@jupyter-widgets/controls",
            "_model_module_version": "1.5.0",
            "_view_count": null,
            "_view_module_version": "1.5.0",
            "box_style": "",
            "layout": "IPY_MODEL_727734918b7a49c2a19c8f2f9331cf33",
            "_model_module": "@jupyter-widgets/controls",
            "children": [
              "IPY_MODEL_92de5d58ab5a4ff19e017bc1bee5f2bd",
              "IPY_MODEL_55d27841ec0d4a0bbf4b9069683fc35e"
            ]
          }
        },
        "727734918b7a49c2a19c8f2f9331cf33": {
          "model_module": "@jupyter-widgets/base",
          "model_name": "LayoutModel",
          "state": {
            "_view_name": "LayoutView",
            "grid_template_rows": null,
            "right": null,
            "justify_content": null,
            "_view_module": "@jupyter-widgets/base",
            "overflow": null,
            "_model_module_version": "1.2.0",
            "_view_count": null,
            "flex_flow": null,
            "width": null,
            "min_width": null,
            "border": null,
            "align_items": null,
            "bottom": null,
            "_model_module": "@jupyter-widgets/base",
            "top": null,
            "grid_column": null,
            "overflow_y": null,
            "overflow_x": null,
            "grid_auto_flow": null,
            "grid_area": null,
            "grid_template_columns": null,
            "flex": null,
            "_model_name": "LayoutModel",
            "justify_items": null,
            "grid_row": null,
            "max_height": null,
            "align_content": null,
            "visibility": null,
            "align_self": null,
            "height": null,
            "min_height": null,
            "padding": null,
            "grid_auto_rows": null,
            "grid_gap": null,
            "max_width": null,
            "order": null,
            "_view_module_version": "1.2.0",
            "grid_template_areas": null,
            "object_position": null,
            "object_fit": null,
            "grid_auto_columns": null,
            "margin": null,
            "display": null,
            "left": null
          }
        },
        "92de5d58ab5a4ff19e017bc1bee5f2bd": {
          "model_module": "@jupyter-widgets/controls",
          "model_name": "DropdownModel",
          "state": {
            "_options_labels": [
              "Chandler",
              "Joey",
              "Monica",
              "Phoebe",
              "Rachel",
              "Ross"
            ],
            "_view_name": "DropdownView",
            "style": "IPY_MODEL_3ab63eb1b10c494abab8af3851bfb109",
            "_dom_classes": [],
            "description": "actor",
            "_model_name": "DropdownModel",
            "index": 0,
            "_view_module": "@jupyter-widgets/controls",
            "_model_module_version": "1.5.0",
            "_view_count": null,
            "disabled": false,
            "_view_module_version": "1.5.0",
            "description_tooltip": null,
            "_model_module": "@jupyter-widgets/controls",
            "layout": "IPY_MODEL_316f2209f3644273835edf11b9254b50"
          }
        },
        "55d27841ec0d4a0bbf4b9069683fc35e": {
          "model_module": "@jupyter-widgets/output",
          "model_name": "OutputModel",
          "state": {
            "_view_name": "OutputView",
            "msg_id": "",
            "_dom_classes": [],
            "_model_name": "OutputModel",
            "outputs": [
              {
                "output_type": "display_data",
                "metadata": {
                  "tags": []
                },
                "text/html": "<html>\n<head><meta charset=\"utf-8\" /></head>\n<body>\n    <div>\n            <script src=\"https://cdnjs.cloudflare.com/ajax/libs/mathjax/2.7.5/MathJax.js?config=TeX-AMS-MML_SVG\"></script><script type=\"text/javascript\">if (window.MathJax) {MathJax.Hub.Config({SVG: {font: \"STIX-Web\"}});}</script>\n                <script type=\"text/javascript\">window.PlotlyConfig = {MathJaxConfig: 'local'};</script>\n        <script src=\"https://cdn.plot.ly/plotly-latest.min.js\"></script>    \n            <div id=\"f6f610d4-2e5e-44e7-8829-d28ce556fae9\" class=\"plotly-graph-div\" style=\"height:525px; width:100%;\"></div>\n            <script type=\"text/javascript\">\n                \n                    window.PLOTLYENV=window.PLOTLYENV || {};\n                    \n                if (document.getElementById(\"f6f610d4-2e5e-44e7-8829-d28ce556fae9\")) {\n                    Plotly.newPlot(\n                        'f6f610d4-2e5e-44e7-8829-d28ce556fae9',\n                        [{\"hovertemplate\": \"%{y}: %{x}\", \"name\": \"Negative\", \"orientation\": \"h\", \"type\": \"bar\", \"x\": [-64, -40, -34, -22, -22, -15, -15, -13, -12, -11, 0, 0, 0, 0, 0, 0, 0, 0, 0, 0], \"y\": [\"bad\", \"crazy\", \"stupid\", \"hate\", \"mad\", \"horrible\", \"worst\", \"cold\", \"afraid\", \"chicken\", \"perfect\", \"amazing\", \"win\", \"beautiful\", \"happy\", \"kind\", \"best\", \"nice\", \"great\", \"good\"]}, {\"hovertemplate\": \"%{y}: %{x}\", \"name\": \"Positive\", \"orientation\": \"h\", \"type\": \"bar\", \"x\": [0, 0, 0, 0, 0, 0, 0, 0, 0, 0, 21, 23, 29, 33, 42, 45, 51, 74, 168, 206], \"y\": [\"bad\", \"crazy\", \"stupid\", \"hate\", \"mad\", \"horrible\", \"worst\", \"cold\", \"afraid\", \"chicken\", \"perfect\", \"amazing\", \"win\", \"beautiful\", \"happy\", \"kind\", \"best\", \"nice\", \"great\", \"good\"]}],\n                        {\"template\": {\"data\": {\"bar\": [{\"error_x\": {\"color\": \"#2a3f5f\"}, \"error_y\": {\"color\": \"#2a3f5f\"}, \"marker\": {\"line\": {\"color\": \"#E5ECF6\", \"width\": 0.5}}, \"type\": \"bar\"}], \"barpolar\": [{\"marker\": {\"line\": {\"color\": \"#E5ECF6\", \"width\": 0.5}}, \"type\": \"barpolar\"}], \"carpet\": [{\"aaxis\": {\"endlinecolor\": \"#2a3f5f\", \"gridcolor\": \"white\", \"linecolor\": \"white\", \"minorgridcolor\": \"white\", \"startlinecolor\": \"#2a3f5f\"}, \"baxis\": {\"endlinecolor\": \"#2a3f5f\", \"gridcolor\": \"white\", \"linecolor\": \"white\", \"minorgridcolor\": \"white\", \"startlinecolor\": \"#2a3f5f\"}, \"type\": \"carpet\"}], \"choropleth\": [{\"colorbar\": {\"outlinewidth\": 0, \"ticks\": \"\"}, \"type\": \"choropleth\"}], \"contour\": [{\"colorbar\": {\"outlinewidth\": 0, \"ticks\": \"\"}, \"colorscale\": [[0.0, \"#0d0887\"], [0.1111111111111111, \"#46039f\"], [0.2222222222222222, \"#7201a8\"], [0.3333333333333333, \"#9c179e\"], [0.4444444444444444, \"#bd3786\"], [0.5555555555555556, \"#d8576b\"], [0.6666666666666666, \"#ed7953\"], [0.7777777777777778, \"#fb9f3a\"], [0.8888888888888888, \"#fdca26\"], [1.0, \"#f0f921\"]], \"type\": \"contour\"}], \"contourcarpet\": [{\"colorbar\": {\"outlinewidth\": 0, \"ticks\": \"\"}, \"type\": \"contourcarpet\"}], \"heatmap\": [{\"colorbar\": {\"outlinewidth\": 0, \"ticks\": \"\"}, \"colorscale\": [[0.0, \"#0d0887\"], [0.1111111111111111, \"#46039f\"], [0.2222222222222222, \"#7201a8\"], [0.3333333333333333, \"#9c179e\"], [0.4444444444444444, \"#bd3786\"], [0.5555555555555556, \"#d8576b\"], [0.6666666666666666, \"#ed7953\"], [0.7777777777777778, \"#fb9f3a\"], [0.8888888888888888, \"#fdca26\"], [1.0, \"#f0f921\"]], \"type\": \"heatmap\"}], \"heatmapgl\": [{\"colorbar\": {\"outlinewidth\": 0, \"ticks\": \"\"}, \"colorscale\": [[0.0, \"#0d0887\"], [0.1111111111111111, \"#46039f\"], [0.2222222222222222, \"#7201a8\"], [0.3333333333333333, \"#9c179e\"], [0.4444444444444444, \"#bd3786\"], [0.5555555555555556, \"#d8576b\"], [0.6666666666666666, \"#ed7953\"], [0.7777777777777778, \"#fb9f3a\"], [0.8888888888888888, \"#fdca26\"], [1.0, \"#f0f921\"]], \"type\": \"heatmapgl\"}], \"histogram\": [{\"marker\": {\"colorbar\": {\"outlinewidth\": 0, \"ticks\": \"\"}}, \"type\": \"histogram\"}], \"histogram2d\": [{\"colorbar\": {\"outlinewidth\": 0, \"ticks\": \"\"}, \"colorscale\": [[0.0, \"#0d0887\"], [0.1111111111111111, \"#46039f\"], [0.2222222222222222, \"#7201a8\"], [0.3333333333333333, \"#9c179e\"], [0.4444444444444444, \"#bd3786\"], [0.5555555555555556, \"#d8576b\"], [0.6666666666666666, \"#ed7953\"], [0.7777777777777778, \"#fb9f3a\"], [0.8888888888888888, \"#fdca26\"], [1.0, \"#f0f921\"]], \"type\": \"histogram2d\"}], \"histogram2dcontour\": [{\"colorbar\": {\"outlinewidth\": 0, \"ticks\": \"\"}, \"colorscale\": [[0.0, \"#0d0887\"], [0.1111111111111111, \"#46039f\"], [0.2222222222222222, \"#7201a8\"], [0.3333333333333333, \"#9c179e\"], [0.4444444444444444, \"#bd3786\"], [0.5555555555555556, \"#d8576b\"], [0.6666666666666666, \"#ed7953\"], [0.7777777777777778, \"#fb9f3a\"], [0.8888888888888888, \"#fdca26\"], [1.0, \"#f0f921\"]], \"type\": \"histogram2dcontour\"}], \"mesh3d\": [{\"colorbar\": {\"outlinewidth\": 0, \"ticks\": \"\"}, \"type\": \"mesh3d\"}], \"parcoords\": [{\"line\": {\"colorbar\": {\"outlinewidth\": 0, \"ticks\": \"\"}}, \"type\": \"parcoords\"}], \"pie\": [{\"automargin\": true, \"type\": \"pie\"}], \"scatter\": [{\"marker\": {\"colorbar\": {\"outlinewidth\": 0, \"ticks\": \"\"}}, \"type\": \"scatter\"}], \"scatter3d\": [{\"line\": {\"colorbar\": {\"outlinewidth\": 0, \"ticks\": \"\"}}, \"marker\": {\"colorbar\": {\"outlinewidth\": 0, \"ticks\": \"\"}}, \"type\": \"scatter3d\"}], \"scattercarpet\": [{\"marker\": {\"colorbar\": {\"outlinewidth\": 0, \"ticks\": \"\"}}, \"type\": \"scattercarpet\"}], \"scattergeo\": [{\"marker\": {\"colorbar\": {\"outlinewidth\": 0, \"ticks\": \"\"}}, \"type\": \"scattergeo\"}], \"scattergl\": [{\"marker\": {\"colorbar\": {\"outlinewidth\": 0, \"ticks\": \"\"}}, \"type\": \"scattergl\"}], \"scattermapbox\": [{\"marker\": {\"colorbar\": {\"outlinewidth\": 0, \"ticks\": \"\"}}, \"type\": \"scattermapbox\"}], \"scatterpolar\": [{\"marker\": {\"colorbar\": {\"outlinewidth\": 0, \"ticks\": \"\"}}, \"type\": \"scatterpolar\"}], \"scatterpolargl\": [{\"marker\": {\"colorbar\": {\"outlinewidth\": 0, \"ticks\": \"\"}}, \"type\": \"scatterpolargl\"}], \"scatterternary\": [{\"marker\": {\"colorbar\": {\"outlinewidth\": 0, \"ticks\": \"\"}}, \"type\": \"scatterternary\"}], \"surface\": [{\"colorbar\": {\"outlinewidth\": 0, \"ticks\": \"\"}, \"colorscale\": [[0.0, \"#0d0887\"], [0.1111111111111111, \"#46039f\"], [0.2222222222222222, \"#7201a8\"], [0.3333333333333333, \"#9c179e\"], [0.4444444444444444, \"#bd3786\"], [0.5555555555555556, \"#d8576b\"], [0.6666666666666666, \"#ed7953\"], [0.7777777777777778, \"#fb9f3a\"], [0.8888888888888888, \"#fdca26\"], [1.0, \"#f0f921\"]], \"type\": \"surface\"}], \"table\": [{\"cells\": {\"fill\": {\"color\": \"#EBF0F8\"}, \"line\": {\"color\": \"white\"}}, \"header\": {\"fill\": {\"color\": \"#C8D4E3\"}, \"line\": {\"color\": \"white\"}}, \"type\": \"table\"}]}, \"layout\": {\"annotationdefaults\": {\"arrowcolor\": \"#2a3f5f\", \"arrowhead\": 0, \"arrowwidth\": 1}, \"coloraxis\": {\"colorbar\": {\"outlinewidth\": 0, \"ticks\": \"\"}}, \"colorscale\": {\"diverging\": [[0, \"#8e0152\"], [0.1, \"#c51b7d\"], [0.2, \"#de77ae\"], [0.3, \"#f1b6da\"], [0.4, \"#fde0ef\"], [0.5, \"#f7f7f7\"], [0.6, \"#e6f5d0\"], [0.7, \"#b8e186\"], [0.8, \"#7fbc41\"], [0.9, \"#4d9221\"], [1, \"#276419\"]], \"sequential\": [[0.0, \"#0d0887\"], [0.1111111111111111, \"#46039f\"], [0.2222222222222222, \"#7201a8\"], [0.3333333333333333, \"#9c179e\"], [0.4444444444444444, \"#bd3786\"], [0.5555555555555556, \"#d8576b\"], [0.6666666666666666, \"#ed7953\"], [0.7777777777777778, \"#fb9f3a\"], [0.8888888888888888, \"#fdca26\"], [1.0, \"#f0f921\"]], \"sequentialminus\": [[0.0, \"#0d0887\"], [0.1111111111111111, \"#46039f\"], [0.2222222222222222, \"#7201a8\"], [0.3333333333333333, \"#9c179e\"], [0.4444444444444444, \"#bd3786\"], [0.5555555555555556, \"#d8576b\"], [0.6666666666666666, \"#ed7953\"], [0.7777777777777778, \"#fb9f3a\"], [0.8888888888888888, \"#fdca26\"], [1.0, \"#f0f921\"]]}, \"colorway\": [\"#636efa\", \"#EF553B\", \"#00cc96\", \"#ab63fa\", \"#FFA15A\", \"#19d3f3\", \"#FF6692\", \"#B6E880\", \"#FF97FF\", \"#FECB52\"], \"font\": {\"color\": \"#2a3f5f\"}, \"geo\": {\"bgcolor\": \"white\", \"lakecolor\": \"white\", \"landcolor\": \"#E5ECF6\", \"showlakes\": true, \"showland\": true, \"subunitcolor\": \"white\"}, \"hoverlabel\": {\"align\": \"left\"}, \"hovermode\": \"closest\", \"mapbox\": {\"style\": \"light\"}, \"paper_bgcolor\": \"white\", \"plot_bgcolor\": \"#E5ECF6\", \"polar\": {\"angularaxis\": {\"gridcolor\": \"white\", \"linecolor\": \"white\", \"ticks\": \"\"}, \"bgcolor\": \"#E5ECF6\", \"radialaxis\": {\"gridcolor\": \"white\", \"linecolor\": \"white\", \"ticks\": \"\"}}, \"scene\": {\"xaxis\": {\"backgroundcolor\": \"#E5ECF6\", \"gridcolor\": \"white\", \"gridwidth\": 2, \"linecolor\": \"white\", \"showbackground\": true, \"ticks\": \"\", \"zerolinecolor\": \"white\"}, \"yaxis\": {\"backgroundcolor\": \"#E5ECF6\", \"gridcolor\": \"white\", \"gridwidth\": 2, \"linecolor\": \"white\", \"showbackground\": true, \"ticks\": \"\", \"zerolinecolor\": \"white\"}, \"zaxis\": {\"backgroundcolor\": \"#E5ECF6\", \"gridcolor\": \"white\", \"gridwidth\": 2, \"linecolor\": \"white\", \"showbackground\": true, \"ticks\": \"\", \"zerolinecolor\": \"white\"}}, \"shapedefaults\": {\"line\": {\"color\": \"#2a3f5f\"}}, \"ternary\": {\"aaxis\": {\"gridcolor\": \"white\", \"linecolor\": \"white\", \"ticks\": \"\"}, \"baxis\": {\"gridcolor\": \"white\", \"linecolor\": \"white\", \"ticks\": \"\"}, \"bgcolor\": \"#E5ECF6\", \"caxis\": {\"gridcolor\": \"white\", \"linecolor\": \"white\", \"ticks\": \"\"}}, \"title\": {\"x\": 0.05}, \"xaxis\": {\"automargin\": true, \"gridcolor\": \"white\", \"linecolor\": \"white\", \"ticks\": \"\", \"title\": {\"standoff\": 15}, \"zerolinecolor\": \"white\", \"zerolinewidth\": 2}, \"yaxis\": {\"automargin\": true, \"gridcolor\": \"white\", \"linecolor\": \"white\", \"ticks\": \"\", \"title\": {\"standoff\": 15}, \"zerolinecolor\": \"white\", \"zerolinewidth\": 2}}}, \"title\": {\"text\": \"Chandler's Sentiment Analysis\"}},\n                        {\"responsive\": true}\n                    ).then(function(){\n                            \nvar gd = document.getElementById('f6f610d4-2e5e-44e7-8829-d28ce556fae9');\nvar x = new MutationObserver(function (mutations, observer) {{\n        var display = window.getComputedStyle(gd).display;\n        if (!display || display === 'none') {{\n            console.log([gd, 'removed!']);\n            Plotly.purge(gd);\n            observer.disconnect();\n        }}\n}});\n\n// Listen for the removal of the full notebook cells\nvar notebookContainer = gd.closest('#notebook-container');\nif (notebookContainer) {{\n    x.observe(notebookContainer, {childList: true});\n}}\n\n// Listen for the clearing of the current output cell\nvar outputEl = gd.closest('.output');\nif (outputEl) {{\n    x.observe(outputEl, {childList: true});\n}}\n\n                        })\n                };\n                \n            </script>\n        </div>\n</body>\n</html>"
              }
            ],
            "_view_module": "@jupyter-widgets/output",
            "_model_module_version": "1.0.0",
            "_view_count": null,
            "_view_module_version": "1.0.0",
            "layout": "IPY_MODEL_49fd4d9029a64626a2395a7a5ef631ba",
            "_model_module": "@jupyter-widgets/output"
          }
        },
        "3ab63eb1b10c494abab8af3851bfb109": {
          "model_module": "@jupyter-widgets/controls",
          "model_name": "DescriptionStyleModel",
          "state": {
            "_view_name": "StyleView",
            "_model_name": "DescriptionStyleModel",
            "description_width": "",
            "_view_module": "@jupyter-widgets/base",
            "_model_module_version": "1.5.0",
            "_view_count": null,
            "_view_module_version": "1.2.0",
            "_model_module": "@jupyter-widgets/controls"
          }
        },
        "316f2209f3644273835edf11b9254b50": {
          "model_module": "@jupyter-widgets/base",
          "model_name": "LayoutModel",
          "state": {
            "_view_name": "LayoutView",
            "grid_template_rows": null,
            "right": null,
            "justify_content": null,
            "_view_module": "@jupyter-widgets/base",
            "overflow": null,
            "_model_module_version": "1.2.0",
            "_view_count": null,
            "flex_flow": null,
            "width": null,
            "min_width": null,
            "border": null,
            "align_items": null,
            "bottom": null,
            "_model_module": "@jupyter-widgets/base",
            "top": null,
            "grid_column": null,
            "overflow_y": null,
            "overflow_x": null,
            "grid_auto_flow": null,
            "grid_area": null,
            "grid_template_columns": null,
            "flex": null,
            "_model_name": "LayoutModel",
            "justify_items": null,
            "grid_row": null,
            "max_height": null,
            "align_content": null,
            "visibility": null,
            "align_self": null,
            "height": null,
            "min_height": null,
            "padding": null,
            "grid_auto_rows": null,
            "grid_gap": null,
            "max_width": null,
            "order": null,
            "_view_module_version": "1.2.0",
            "grid_template_areas": null,
            "object_position": null,
            "object_fit": null,
            "grid_auto_columns": null,
            "margin": null,
            "display": null,
            "left": null
          }
        },
        "49fd4d9029a64626a2395a7a5ef631ba": {
          "model_module": "@jupyter-widgets/base",
          "model_name": "LayoutModel",
          "state": {
            "_view_name": "LayoutView",
            "grid_template_rows": null,
            "right": null,
            "justify_content": null,
            "_view_module": "@jupyter-widgets/base",
            "overflow": null,
            "_model_module_version": "1.2.0",
            "_view_count": null,
            "flex_flow": null,
            "width": null,
            "min_width": null,
            "border": null,
            "align_items": null,
            "bottom": null,
            "_model_module": "@jupyter-widgets/base",
            "top": null,
            "grid_column": null,
            "overflow_y": null,
            "overflow_x": null,
            "grid_auto_flow": null,
            "grid_area": null,
            "grid_template_columns": null,
            "flex": null,
            "_model_name": "LayoutModel",
            "justify_items": null,
            "grid_row": null,
            "max_height": null,
            "align_content": null,
            "visibility": null,
            "align_self": null,
            "height": null,
            "min_height": null,
            "padding": null,
            "grid_auto_rows": null,
            "grid_gap": null,
            "max_width": null,
            "order": null,
            "_view_module_version": "1.2.0",
            "grid_template_areas": null,
            "object_position": null,
            "object_fit": null,
            "grid_auto_columns": null,
            "margin": null,
            "display": null,
            "left": null
          }
        },
        "c453b0a371164561962e8e0f3da6b7c5": {
          "model_module": "@jupyter-widgets/controls",
          "model_name": "HBoxModel",
          "state": {
            "_view_name": "HBoxView",
            "_dom_classes": [],
            "_model_name": "HBoxModel",
            "_view_module": "@jupyter-widgets/controls",
            "_model_module_version": "1.5.0",
            "_view_count": null,
            "_view_module_version": "1.5.0",
            "box_style": "",
            "layout": "IPY_MODEL_6a8304a6a5a94abda657312e49b372d0",
            "_model_module": "@jupyter-widgets/controls",
            "children": [
              "IPY_MODEL_e3e1ed82b8b1432c85a98425ff369c0e",
              "IPY_MODEL_b6dd1313e135427fb422456dc3a411f3"
            ]
          }
        },
        "6a8304a6a5a94abda657312e49b372d0": {
          "model_module": "@jupyter-widgets/base",
          "model_name": "LayoutModel",
          "state": {
            "_view_name": "LayoutView",
            "grid_template_rows": null,
            "right": null,
            "justify_content": null,
            "_view_module": "@jupyter-widgets/base",
            "overflow": null,
            "_model_module_version": "1.2.0",
            "_view_count": null,
            "flex_flow": null,
            "width": null,
            "min_width": null,
            "border": null,
            "align_items": null,
            "bottom": null,
            "_model_module": "@jupyter-widgets/base",
            "top": null,
            "grid_column": null,
            "overflow_y": null,
            "overflow_x": null,
            "grid_auto_flow": null,
            "grid_area": null,
            "grid_template_columns": null,
            "flex": null,
            "_model_name": "LayoutModel",
            "justify_items": null,
            "grid_row": null,
            "max_height": null,
            "align_content": null,
            "visibility": null,
            "align_self": null,
            "height": null,
            "min_height": null,
            "padding": null,
            "grid_auto_rows": null,
            "grid_gap": null,
            "max_width": null,
            "order": null,
            "_view_module_version": "1.2.0",
            "grid_template_areas": null,
            "object_position": null,
            "object_fit": null,
            "grid_auto_columns": null,
            "margin": null,
            "display": null,
            "left": null
          }
        },
        "e3e1ed82b8b1432c85a98425ff369c0e": {
          "model_module": "@jupyter-widgets/controls",
          "model_name": "FloatProgressModel",
          "state": {
            "_view_name": "ProgressView",
            "style": "IPY_MODEL_ed9a949b0d7848869c42e15db3bee5c1",
            "_dom_classes": [],
            "description": "Downloading: 100%",
            "_model_name": "FloatProgressModel",
            "bar_style": "success",
            "max": 26,
            "_view_module": "@jupyter-widgets/controls",
            "_model_module_version": "1.5.0",
            "value": 26,
            "_view_count": null,
            "_view_module_version": "1.5.0",
            "orientation": "horizontal",
            "min": 0,
            "description_tooltip": null,
            "_model_module": "@jupyter-widgets/controls",
            "layout": "IPY_MODEL_dc510984aae946a49d6ef0ccf470191b"
          }
        },
        "b6dd1313e135427fb422456dc3a411f3": {
          "model_module": "@jupyter-widgets/controls",
          "model_name": "HTMLModel",
          "state": {
            "_view_name": "HTMLView",
            "style": "IPY_MODEL_f9902eb2143f4f978ede7cf0dfa140a5",
            "_dom_classes": [],
            "description": "",
            "_model_name": "HTMLModel",
            "placeholder": "​",
            "_view_module": "@jupyter-widgets/controls",
            "_model_module_version": "1.5.0",
            "value": " 26.0/26.0 [00:00&lt;00:00, 113B/s]",
            "_view_count": null,
            "_view_module_version": "1.5.0",
            "description_tooltip": null,
            "_model_module": "@jupyter-widgets/controls",
            "layout": "IPY_MODEL_d9b95e451b6749f99d6889e2f6e47ea4"
          }
        },
        "ed9a949b0d7848869c42e15db3bee5c1": {
          "model_module": "@jupyter-widgets/controls",
          "model_name": "ProgressStyleModel",
          "state": {
            "_view_name": "StyleView",
            "_model_name": "ProgressStyleModel",
            "description_width": "initial",
            "_view_module": "@jupyter-widgets/base",
            "_model_module_version": "1.5.0",
            "_view_count": null,
            "_view_module_version": "1.2.0",
            "bar_color": null,
            "_model_module": "@jupyter-widgets/controls"
          }
        },
        "dc510984aae946a49d6ef0ccf470191b": {
          "model_module": "@jupyter-widgets/base",
          "model_name": "LayoutModel",
          "state": {
            "_view_name": "LayoutView",
            "grid_template_rows": null,
            "right": null,
            "justify_content": null,
            "_view_module": "@jupyter-widgets/base",
            "overflow": null,
            "_model_module_version": "1.2.0",
            "_view_count": null,
            "flex_flow": null,
            "width": null,
            "min_width": null,
            "border": null,
            "align_items": null,
            "bottom": null,
            "_model_module": "@jupyter-widgets/base",
            "top": null,
            "grid_column": null,
            "overflow_y": null,
            "overflow_x": null,
            "grid_auto_flow": null,
            "grid_area": null,
            "grid_template_columns": null,
            "flex": null,
            "_model_name": "LayoutModel",
            "justify_items": null,
            "grid_row": null,
            "max_height": null,
            "align_content": null,
            "visibility": null,
            "align_self": null,
            "height": null,
            "min_height": null,
            "padding": null,
            "grid_auto_rows": null,
            "grid_gap": null,
            "max_width": null,
            "order": null,
            "_view_module_version": "1.2.0",
            "grid_template_areas": null,
            "object_position": null,
            "object_fit": null,
            "grid_auto_columns": null,
            "margin": null,
            "display": null,
            "left": null
          }
        },
        "f9902eb2143f4f978ede7cf0dfa140a5": {
          "model_module": "@jupyter-widgets/controls",
          "model_name": "DescriptionStyleModel",
          "state": {
            "_view_name": "StyleView",
            "_model_name": "DescriptionStyleModel",
            "description_width": "",
            "_view_module": "@jupyter-widgets/base",
            "_model_module_version": "1.5.0",
            "_view_count": null,
            "_view_module_version": "1.2.0",
            "_model_module": "@jupyter-widgets/controls"
          }
        },
        "d9b95e451b6749f99d6889e2f6e47ea4": {
          "model_module": "@jupyter-widgets/base",
          "model_name": "LayoutModel",
          "state": {
            "_view_name": "LayoutView",
            "grid_template_rows": null,
            "right": null,
            "justify_content": null,
            "_view_module": "@jupyter-widgets/base",
            "overflow": null,
            "_model_module_version": "1.2.0",
            "_view_count": null,
            "flex_flow": null,
            "width": null,
            "min_width": null,
            "border": null,
            "align_items": null,
            "bottom": null,
            "_model_module": "@jupyter-widgets/base",
            "top": null,
            "grid_column": null,
            "overflow_y": null,
            "overflow_x": null,
            "grid_auto_flow": null,
            "grid_area": null,
            "grid_template_columns": null,
            "flex": null,
            "_model_name": "LayoutModel",
            "justify_items": null,
            "grid_row": null,
            "max_height": null,
            "align_content": null,
            "visibility": null,
            "align_self": null,
            "height": null,
            "min_height": null,
            "padding": null,
            "grid_auto_rows": null,
            "grid_gap": null,
            "max_width": null,
            "order": null,
            "_view_module_version": "1.2.0",
            "grid_template_areas": null,
            "object_position": null,
            "object_fit": null,
            "grid_auto_columns": null,
            "margin": null,
            "display": null,
            "left": null
          }
        },
        "e4e796522c9440538f45a4b4c55dd494": {
          "model_module": "@jupyter-widgets/controls",
          "model_name": "HBoxModel",
          "state": {
            "_view_name": "HBoxView",
            "_dom_classes": [],
            "_model_name": "HBoxModel",
            "_view_module": "@jupyter-widgets/controls",
            "_model_module_version": "1.5.0",
            "_view_count": null,
            "_view_module_version": "1.5.0",
            "box_style": "",
            "layout": "IPY_MODEL_5eb8822e8b6e4ece932fe71d9f0750f5",
            "_model_module": "@jupyter-widgets/controls",
            "children": [
              "IPY_MODEL_368edb539aed42d5b4d6d1b2774a6b7f",
              "IPY_MODEL_b23d704c41574e01b377388e89e857bc"
            ]
          }
        },
        "5eb8822e8b6e4ece932fe71d9f0750f5": {
          "model_module": "@jupyter-widgets/base",
          "model_name": "LayoutModel",
          "state": {
            "_view_name": "LayoutView",
            "grid_template_rows": null,
            "right": null,
            "justify_content": null,
            "_view_module": "@jupyter-widgets/base",
            "overflow": null,
            "_model_module_version": "1.2.0",
            "_view_count": null,
            "flex_flow": null,
            "width": null,
            "min_width": null,
            "border": null,
            "align_items": null,
            "bottom": null,
            "_model_module": "@jupyter-widgets/base",
            "top": null,
            "grid_column": null,
            "overflow_y": null,
            "overflow_x": null,
            "grid_auto_flow": null,
            "grid_area": null,
            "grid_template_columns": null,
            "flex": null,
            "_model_name": "LayoutModel",
            "justify_items": null,
            "grid_row": null,
            "max_height": null,
            "align_content": null,
            "visibility": null,
            "align_self": null,
            "height": null,
            "min_height": null,
            "padding": null,
            "grid_auto_rows": null,
            "grid_gap": null,
            "max_width": null,
            "order": null,
            "_view_module_version": "1.2.0",
            "grid_template_areas": null,
            "object_position": null,
            "object_fit": null,
            "grid_auto_columns": null,
            "margin": null,
            "display": null,
            "left": null
          }
        },
        "368edb539aed42d5b4d6d1b2774a6b7f": {
          "model_module": "@jupyter-widgets/controls",
          "model_name": "FloatProgressModel",
          "state": {
            "_view_name": "ProgressView",
            "style": "IPY_MODEL_f96873e07d6c4542a222c836ce033aa0",
            "_dom_classes": [],
            "description": "Downloading: 100%",
            "_model_name": "FloatProgressModel",
            "bar_style": "success",
            "max": 642,
            "_view_module": "@jupyter-widgets/controls",
            "_model_module_version": "1.5.0",
            "value": 642,
            "_view_count": null,
            "_view_module_version": "1.5.0",
            "orientation": "horizontal",
            "min": 0,
            "description_tooltip": null,
            "_model_module": "@jupyter-widgets/controls",
            "layout": "IPY_MODEL_d68d4a7847254a61998b567855143553"
          }
        },
        "b23d704c41574e01b377388e89e857bc": {
          "model_module": "@jupyter-widgets/controls",
          "model_name": "HTMLModel",
          "state": {
            "_view_name": "HTMLView",
            "style": "IPY_MODEL_1c992f79705c4f69a34d9bc5c5c6cca8",
            "_dom_classes": [],
            "description": "",
            "_model_name": "HTMLModel",
            "placeholder": "​",
            "_view_module": "@jupyter-widgets/controls",
            "_model_module_version": "1.5.0",
            "value": " 642/642 [00:01&lt;00:00, 570B/s]",
            "_view_count": null,
            "_view_module_version": "1.5.0",
            "description_tooltip": null,
            "_model_module": "@jupyter-widgets/controls",
            "layout": "IPY_MODEL_8a47a6753b46412980d11fdf30525b41"
          }
        },
        "f96873e07d6c4542a222c836ce033aa0": {
          "model_module": "@jupyter-widgets/controls",
          "model_name": "ProgressStyleModel",
          "state": {
            "_view_name": "StyleView",
            "_model_name": "ProgressStyleModel",
            "description_width": "initial",
            "_view_module": "@jupyter-widgets/base",
            "_model_module_version": "1.5.0",
            "_view_count": null,
            "_view_module_version": "1.2.0",
            "bar_color": null,
            "_model_module": "@jupyter-widgets/controls"
          }
        },
        "d68d4a7847254a61998b567855143553": {
          "model_module": "@jupyter-widgets/base",
          "model_name": "LayoutModel",
          "state": {
            "_view_name": "LayoutView",
            "grid_template_rows": null,
            "right": null,
            "justify_content": null,
            "_view_module": "@jupyter-widgets/base",
            "overflow": null,
            "_model_module_version": "1.2.0",
            "_view_count": null,
            "flex_flow": null,
            "width": null,
            "min_width": null,
            "border": null,
            "align_items": null,
            "bottom": null,
            "_model_module": "@jupyter-widgets/base",
            "top": null,
            "grid_column": null,
            "overflow_y": null,
            "overflow_x": null,
            "grid_auto_flow": null,
            "grid_area": null,
            "grid_template_columns": null,
            "flex": null,
            "_model_name": "LayoutModel",
            "justify_items": null,
            "grid_row": null,
            "max_height": null,
            "align_content": null,
            "visibility": null,
            "align_self": null,
            "height": null,
            "min_height": null,
            "padding": null,
            "grid_auto_rows": null,
            "grid_gap": null,
            "max_width": null,
            "order": null,
            "_view_module_version": "1.2.0",
            "grid_template_areas": null,
            "object_position": null,
            "object_fit": null,
            "grid_auto_columns": null,
            "margin": null,
            "display": null,
            "left": null
          }
        },
        "1c992f79705c4f69a34d9bc5c5c6cca8": {
          "model_module": "@jupyter-widgets/controls",
          "model_name": "DescriptionStyleModel",
          "state": {
            "_view_name": "StyleView",
            "_model_name": "DescriptionStyleModel",
            "description_width": "",
            "_view_module": "@jupyter-widgets/base",
            "_model_module_version": "1.5.0",
            "_view_count": null,
            "_view_module_version": "1.2.0",
            "_model_module": "@jupyter-widgets/controls"
          }
        },
        "8a47a6753b46412980d11fdf30525b41": {
          "model_module": "@jupyter-widgets/base",
          "model_name": "LayoutModel",
          "state": {
            "_view_name": "LayoutView",
            "grid_template_rows": null,
            "right": null,
            "justify_content": null,
            "_view_module": "@jupyter-widgets/base",
            "overflow": null,
            "_model_module_version": "1.2.0",
            "_view_count": null,
            "flex_flow": null,
            "width": null,
            "min_width": null,
            "border": null,
            "align_items": null,
            "bottom": null,
            "_model_module": "@jupyter-widgets/base",
            "top": null,
            "grid_column": null,
            "overflow_y": null,
            "overflow_x": null,
            "grid_auto_flow": null,
            "grid_area": null,
            "grid_template_columns": null,
            "flex": null,
            "_model_name": "LayoutModel",
            "justify_items": null,
            "grid_row": null,
            "max_height": null,
            "align_content": null,
            "visibility": null,
            "align_self": null,
            "height": null,
            "min_height": null,
            "padding": null,
            "grid_auto_rows": null,
            "grid_gap": null,
            "max_width": null,
            "order": null,
            "_view_module_version": "1.2.0",
            "grid_template_areas": null,
            "object_position": null,
            "object_fit": null,
            "grid_auto_columns": null,
            "margin": null,
            "display": null,
            "left": null
          }
        },
        "1bb3050659224b809a28a7e6311780d0": {
          "model_module": "@jupyter-widgets/controls",
          "model_name": "HBoxModel",
          "state": {
            "_view_name": "HBoxView",
            "_dom_classes": [],
            "_model_name": "HBoxModel",
            "_view_module": "@jupyter-widgets/controls",
            "_model_module_version": "1.5.0",
            "_view_count": null,
            "_view_module_version": "1.5.0",
            "box_style": "",
            "layout": "IPY_MODEL_08b51fc4c952495a82e332c3575675b9",
            "_model_module": "@jupyter-widgets/controls",
            "children": [
              "IPY_MODEL_84bd6db05f544c4ca080e804d59a44c7",
              "IPY_MODEL_f758103cebae4060b4588c1785f21180"
            ]
          }
        },
        "08b51fc4c952495a82e332c3575675b9": {
          "model_module": "@jupyter-widgets/base",
          "model_name": "LayoutModel",
          "state": {
            "_view_name": "LayoutView",
            "grid_template_rows": null,
            "right": null,
            "justify_content": null,
            "_view_module": "@jupyter-widgets/base",
            "overflow": null,
            "_model_module_version": "1.2.0",
            "_view_count": null,
            "flex_flow": null,
            "width": null,
            "min_width": null,
            "border": null,
            "align_items": null,
            "bottom": null,
            "_model_module": "@jupyter-widgets/base",
            "top": null,
            "grid_column": null,
            "overflow_y": null,
            "overflow_x": null,
            "grid_auto_flow": null,
            "grid_area": null,
            "grid_template_columns": null,
            "flex": null,
            "_model_name": "LayoutModel",
            "justify_items": null,
            "grid_row": null,
            "max_height": null,
            "align_content": null,
            "visibility": null,
            "align_self": null,
            "height": null,
            "min_height": null,
            "padding": null,
            "grid_auto_rows": null,
            "grid_gap": null,
            "max_width": null,
            "order": null,
            "_view_module_version": "1.2.0",
            "grid_template_areas": null,
            "object_position": null,
            "object_fit": null,
            "grid_auto_columns": null,
            "margin": null,
            "display": null,
            "left": null
          }
        },
        "84bd6db05f544c4ca080e804d59a44c7": {
          "model_module": "@jupyter-widgets/controls",
          "model_name": "FloatProgressModel",
          "state": {
            "_view_name": "ProgressView",
            "style": "IPY_MODEL_4c40ba096a204191985a306442a34c11",
            "_dom_classes": [],
            "description": "Downloading: 100%",
            "_model_name": "FloatProgressModel",
            "bar_style": "success",
            "max": 1042301,
            "_view_module": "@jupyter-widgets/controls",
            "_model_module_version": "1.5.0",
            "value": 1042301,
            "_view_count": null,
            "_view_module_version": "1.5.0",
            "orientation": "horizontal",
            "min": 0,
            "description_tooltip": null,
            "_model_module": "@jupyter-widgets/controls",
            "layout": "IPY_MODEL_ca384225fdfe4066bc11ceff1cd49381"
          }
        },
        "f758103cebae4060b4588c1785f21180": {
          "model_module": "@jupyter-widgets/controls",
          "model_name": "HTMLModel",
          "state": {
            "_view_name": "HTMLView",
            "style": "IPY_MODEL_22109be5d4044494aa6e655d80f42b83",
            "_dom_classes": [],
            "description": "",
            "_model_name": "HTMLModel",
            "placeholder": "​",
            "_view_module": "@jupyter-widgets/controls",
            "_model_module_version": "1.5.0",
            "value": " 1.04M/1.04M [00:00&lt;00:00, 1.25MB/s]",
            "_view_count": null,
            "_view_module_version": "1.5.0",
            "description_tooltip": null,
            "_model_module": "@jupyter-widgets/controls",
            "layout": "IPY_MODEL_b44eb595315b4bafbceaf0044a9a309f"
          }
        },
        "4c40ba096a204191985a306442a34c11": {
          "model_module": "@jupyter-widgets/controls",
          "model_name": "ProgressStyleModel",
          "state": {
            "_view_name": "StyleView",
            "_model_name": "ProgressStyleModel",
            "description_width": "initial",
            "_view_module": "@jupyter-widgets/base",
            "_model_module_version": "1.5.0",
            "_view_count": null,
            "_view_module_version": "1.2.0",
            "bar_color": null,
            "_model_module": "@jupyter-widgets/controls"
          }
        },
        "ca384225fdfe4066bc11ceff1cd49381": {
          "model_module": "@jupyter-widgets/base",
          "model_name": "LayoutModel",
          "state": {
            "_view_name": "LayoutView",
            "grid_template_rows": null,
            "right": null,
            "justify_content": null,
            "_view_module": "@jupyter-widgets/base",
            "overflow": null,
            "_model_module_version": "1.2.0",
            "_view_count": null,
            "flex_flow": null,
            "width": null,
            "min_width": null,
            "border": null,
            "align_items": null,
            "bottom": null,
            "_model_module": "@jupyter-widgets/base",
            "top": null,
            "grid_column": null,
            "overflow_y": null,
            "overflow_x": null,
            "grid_auto_flow": null,
            "grid_area": null,
            "grid_template_columns": null,
            "flex": null,
            "_model_name": "LayoutModel",
            "justify_items": null,
            "grid_row": null,
            "max_height": null,
            "align_content": null,
            "visibility": null,
            "align_self": null,
            "height": null,
            "min_height": null,
            "padding": null,
            "grid_auto_rows": null,
            "grid_gap": null,
            "max_width": null,
            "order": null,
            "_view_module_version": "1.2.0",
            "grid_template_areas": null,
            "object_position": null,
            "object_fit": null,
            "grid_auto_columns": null,
            "margin": null,
            "display": null,
            "left": null
          }
        },
        "22109be5d4044494aa6e655d80f42b83": {
          "model_module": "@jupyter-widgets/controls",
          "model_name": "DescriptionStyleModel",
          "state": {
            "_view_name": "StyleView",
            "_model_name": "DescriptionStyleModel",
            "description_width": "",
            "_view_module": "@jupyter-widgets/base",
            "_model_module_version": "1.5.0",
            "_view_count": null,
            "_view_module_version": "1.2.0",
            "_model_module": "@jupyter-widgets/controls"
          }
        },
        "b44eb595315b4bafbceaf0044a9a309f": {
          "model_module": "@jupyter-widgets/base",
          "model_name": "LayoutModel",
          "state": {
            "_view_name": "LayoutView",
            "grid_template_rows": null,
            "right": null,
            "justify_content": null,
            "_view_module": "@jupyter-widgets/base",
            "overflow": null,
            "_model_module_version": "1.2.0",
            "_view_count": null,
            "flex_flow": null,
            "width": null,
            "min_width": null,
            "border": null,
            "align_items": null,
            "bottom": null,
            "_model_module": "@jupyter-widgets/base",
            "top": null,
            "grid_column": null,
            "overflow_y": null,
            "overflow_x": null,
            "grid_auto_flow": null,
            "grid_area": null,
            "grid_template_columns": null,
            "flex": null,
            "_model_name": "LayoutModel",
            "justify_items": null,
            "grid_row": null,
            "max_height": null,
            "align_content": null,
            "visibility": null,
            "align_self": null,
            "height": null,
            "min_height": null,
            "padding": null,
            "grid_auto_rows": null,
            "grid_gap": null,
            "max_width": null,
            "order": null,
            "_view_module_version": "1.2.0",
            "grid_template_areas": null,
            "object_position": null,
            "object_fit": null,
            "grid_auto_columns": null,
            "margin": null,
            "display": null,
            "left": null
          }
        },
        "94e422e8f99e4fe981abf65575d614ab": {
          "model_module": "@jupyter-widgets/controls",
          "model_name": "HBoxModel",
          "state": {
            "_view_name": "HBoxView",
            "_dom_classes": [],
            "_model_name": "HBoxModel",
            "_view_module": "@jupyter-widgets/controls",
            "_model_module_version": "1.5.0",
            "_view_count": null,
            "_view_module_version": "1.5.0",
            "box_style": "",
            "layout": "IPY_MODEL_8de0465aa94e4ea796c85b7fc60e3bf9",
            "_model_module": "@jupyter-widgets/controls",
            "children": [
              "IPY_MODEL_9f97da31c5384d63871f07e4caa047b5",
              "IPY_MODEL_d8f0e617719b4f95bffd293f38843e24"
            ]
          }
        },
        "8de0465aa94e4ea796c85b7fc60e3bf9": {
          "model_module": "@jupyter-widgets/base",
          "model_name": "LayoutModel",
          "state": {
            "_view_name": "LayoutView",
            "grid_template_rows": null,
            "right": null,
            "justify_content": null,
            "_view_module": "@jupyter-widgets/base",
            "overflow": null,
            "_model_module_version": "1.2.0",
            "_view_count": null,
            "flex_flow": null,
            "width": null,
            "min_width": null,
            "border": null,
            "align_items": null,
            "bottom": null,
            "_model_module": "@jupyter-widgets/base",
            "top": null,
            "grid_column": null,
            "overflow_y": null,
            "overflow_x": null,
            "grid_auto_flow": null,
            "grid_area": null,
            "grid_template_columns": null,
            "flex": null,
            "_model_name": "LayoutModel",
            "justify_items": null,
            "grid_row": null,
            "max_height": null,
            "align_content": null,
            "visibility": null,
            "align_self": null,
            "height": null,
            "min_height": null,
            "padding": null,
            "grid_auto_rows": null,
            "grid_gap": null,
            "max_width": null,
            "order": null,
            "_view_module_version": "1.2.0",
            "grid_template_areas": null,
            "object_position": null,
            "object_fit": null,
            "grid_auto_columns": null,
            "margin": null,
            "display": null,
            "left": null
          }
        },
        "9f97da31c5384d63871f07e4caa047b5": {
          "model_module": "@jupyter-widgets/controls",
          "model_name": "FloatProgressModel",
          "state": {
            "_view_name": "ProgressView",
            "style": "IPY_MODEL_377dd556312d49c8b3a6b0a644e02fa1",
            "_dom_classes": [],
            "description": "Downloading: 100%",
            "_model_name": "FloatProgressModel",
            "bar_style": "success",
            "max": 456318,
            "_view_module": "@jupyter-widgets/controls",
            "_model_module_version": "1.5.0",
            "value": 456318,
            "_view_count": null,
            "_view_module_version": "1.5.0",
            "orientation": "horizontal",
            "min": 0,
            "description_tooltip": null,
            "_model_module": "@jupyter-widgets/controls",
            "layout": "IPY_MODEL_2a0c6fa4fd474ee78cf43f719f7c037a"
          }
        },
        "d8f0e617719b4f95bffd293f38843e24": {
          "model_module": "@jupyter-widgets/controls",
          "model_name": "HTMLModel",
          "state": {
            "_view_name": "HTMLView",
            "style": "IPY_MODEL_0e1af3ada5ce4c6b822cbbb8b2fa10da",
            "_dom_classes": [],
            "description": "",
            "_model_name": "HTMLModel",
            "placeholder": "​",
            "_view_module": "@jupyter-widgets/controls",
            "_model_module_version": "1.5.0",
            "value": " 456k/456k [00:00&lt;00:00, 857kB/s]",
            "_view_count": null,
            "_view_module_version": "1.5.0",
            "description_tooltip": null,
            "_model_module": "@jupyter-widgets/controls",
            "layout": "IPY_MODEL_d94e2488e0be4b85b348e2096bc1408e"
          }
        },
        "377dd556312d49c8b3a6b0a644e02fa1": {
          "model_module": "@jupyter-widgets/controls",
          "model_name": "ProgressStyleModel",
          "state": {
            "_view_name": "StyleView",
            "_model_name": "ProgressStyleModel",
            "description_width": "initial",
            "_view_module": "@jupyter-widgets/base",
            "_model_module_version": "1.5.0",
            "_view_count": null,
            "_view_module_version": "1.2.0",
            "bar_color": null,
            "_model_module": "@jupyter-widgets/controls"
          }
        },
        "2a0c6fa4fd474ee78cf43f719f7c037a": {
          "model_module": "@jupyter-widgets/base",
          "model_name": "LayoutModel",
          "state": {
            "_view_name": "LayoutView",
            "grid_template_rows": null,
            "right": null,
            "justify_content": null,
            "_view_module": "@jupyter-widgets/base",
            "overflow": null,
            "_model_module_version": "1.2.0",
            "_view_count": null,
            "flex_flow": null,
            "width": null,
            "min_width": null,
            "border": null,
            "align_items": null,
            "bottom": null,
            "_model_module": "@jupyter-widgets/base",
            "top": null,
            "grid_column": null,
            "overflow_y": null,
            "overflow_x": null,
            "grid_auto_flow": null,
            "grid_area": null,
            "grid_template_columns": null,
            "flex": null,
            "_model_name": "LayoutModel",
            "justify_items": null,
            "grid_row": null,
            "max_height": null,
            "align_content": null,
            "visibility": null,
            "align_self": null,
            "height": null,
            "min_height": null,
            "padding": null,
            "grid_auto_rows": null,
            "grid_gap": null,
            "max_width": null,
            "order": null,
            "_view_module_version": "1.2.0",
            "grid_template_areas": null,
            "object_position": null,
            "object_fit": null,
            "grid_auto_columns": null,
            "margin": null,
            "display": null,
            "left": null
          }
        },
        "0e1af3ada5ce4c6b822cbbb8b2fa10da": {
          "model_module": "@jupyter-widgets/controls",
          "model_name": "DescriptionStyleModel",
          "state": {
            "_view_name": "StyleView",
            "_model_name": "DescriptionStyleModel",
            "description_width": "",
            "_view_module": "@jupyter-widgets/base",
            "_model_module_version": "1.5.0",
            "_view_count": null,
            "_view_module_version": "1.2.0",
            "_model_module": "@jupyter-widgets/controls"
          }
        },
        "d94e2488e0be4b85b348e2096bc1408e": {
          "model_module": "@jupyter-widgets/base",
          "model_name": "LayoutModel",
          "state": {
            "_view_name": "LayoutView",
            "grid_template_rows": null,
            "right": null,
            "justify_content": null,
            "_view_module": "@jupyter-widgets/base",
            "overflow": null,
            "_model_module_version": "1.2.0",
            "_view_count": null,
            "flex_flow": null,
            "width": null,
            "min_width": null,
            "border": null,
            "align_items": null,
            "bottom": null,
            "_model_module": "@jupyter-widgets/base",
            "top": null,
            "grid_column": null,
            "overflow_y": null,
            "overflow_x": null,
            "grid_auto_flow": null,
            "grid_area": null,
            "grid_template_columns": null,
            "flex": null,
            "_model_name": "LayoutModel",
            "justify_items": null,
            "grid_row": null,
            "max_height": null,
            "align_content": null,
            "visibility": null,
            "align_self": null,
            "height": null,
            "min_height": null,
            "padding": null,
            "grid_auto_rows": null,
            "grid_gap": null,
            "max_width": null,
            "order": null,
            "_view_module_version": "1.2.0",
            "grid_template_areas": null,
            "object_position": null,
            "object_fit": null,
            "grid_auto_columns": null,
            "margin": null,
            "display": null,
            "left": null
          }
        }
      }
    }
  },
  "cells": [
    {
      "cell_type": "markdown",
      "metadata": {
        "id": "p603ujkW_s1q"
      },
      "source": [
        "<h1> <b> OBJETIVO DEL PROYECTO </b></h1>\n",
        "\n",
        "<h2> <b> CREAR UN GENERADOR DE DIÁLOGO, UN CLASIFICADOR DE \"QUOTES\" Y VISUALIZACIONES VARIAS, PARA PUBLICARLO EN UNA WEB PARA LOS FANS DE FRIENDS EN HONOR A LA REUNIÓN DE ESTE AÑO </b></h2>\n"
      ]
    },
    {
      "cell_type": "raw",
      "metadata": {
        "id": "Iyu37dHiYzAm"
      },
      "source": [
        "![alt text](https://media.giphy.com/media/luvcXlAjCTZKw/giphy.gif)\n",
        "Image from [Giphy](https://giphy.com/)"
      ]
    },
    {
      "cell_type": "markdown",
      "metadata": {
        "id": "XOqM0Q2tYzAo"
      },
      "source": [
        "<h1> <b> DATASETS </b></h1>\n",
        "\n",
        "<ul>\n",
        "  <li><h2> <b>\"friends_quotes\"</b> : dataset de Kaggle https://www.kaggle.com/ryanstonebraker/friends-transcript </li></h2>\n",
        "  <li><h2> <b>\"Guest_Stars_DF\"</b> : dataset creado a partir del friends_quotes dataset y modificado manualmente. Este contiene las líneas que han tenido diferentes actores/actrices invitados/as a la serie durante las 10 temporadas. </li></h2>\n",
        "  <li><h2> <b>\"season1_df_modified\"</b> : dataset creado a partir del friends_quotes dataset y modificado manualmente. Este contiene las conversaciones por parejas (no contiene las conversaciones grupales), de los 9 personajes que más frases tienen en la primera temporada </li></h2>\n",
        "  <li><h2> <b>\"script_ross\"</b> : dataset creado a partir del friends_quotes dataset y modificado manualmente. Este contiene los diálogos entre Ross y otras personas de la serie en la primera temporada.  </li></h2>\n",
        "</ul>"
      ]
    },
    {
      "cell_type": "markdown",
      "metadata": {
        "id": "yRPTI23kDnWn"
      },
      "source": [
        "<h1> <b> PREGUNTAS </b></h1>\n",
        "\n",
        "<ol>\n",
        "  <h2> <b> <li>¿Cuáles son los 9 personajes con más líneas de texto en cada temporada?</li> </b> </h2>\n",
        "<h2> <b> <li> ¿Cuáles de estos personajes hablan más entre ellos en la primera temporada? </li> </b> </h2>\n",
        "<h2> <b> <li>¿Qué actores/actrices invitados aparecieron durante las 10 temporadas?¿Incrementó el número de actores/actrices invitados/as a lo largo de las 10 temporadas? </li> </b> </h2>\n",
        "<h2> <b> <li>¿Quién de los 6 personajes principales es más positivo/negativo? </li> </b> </h2>\n",
        "<h2> <b> <li>Clasificador de \"quotes\": ¿Quién ha dicho qué? </li> </b> </h2>\n",
        "<h2> <b> <li>Generador de diálogo: ¿qué diría Ross?</li> </b> </h2>\n",
        "</ol>"
      ]
    },
    {
      "cell_type": "markdown",
      "metadata": {
        "id": "Foy6rPwWi4cm"
      },
      "source": [
        "#####Code"
      ]
    },
    {
      "cell_type": "code",
      "metadata": {
        "id": "3GXC5SHMYzAh"
      },
      "source": [
        "# Data Wrangling Libraries\n",
        "\n",
        "import pandas as pd\n",
        "import numpy as np\n",
        "import re\n",
        "\n",
        "# NLP\n",
        "\n",
        "import nltk\n",
        "from textblob import TextBlob\n",
        "from nltk.stem import PorterStemmer\n",
        "from nltk.stem import LancasterStemmer\n",
        "from nltk.stem import WordNetLemmatizer\n",
        "from nltk.tokenize import sent_tokenize, word_tokenize\n",
        "from nltk.stem.snowball import SnowballStemmer\n",
        "from nltk.corpus import stopwords\n",
        "from sklearn.feature_extraction.text import CountVectorizer\n",
        "from sklearn.feature_extraction.text import TfidfVectorizer\n",
        "from sklearn.model_selection import train_test_split\n",
        "from sklearn.neighbors import KNeighborsClassifier\n",
        "from sklearn.metrics import confusion_matrix\n",
        "\n",
        "\n",
        "# Data Visualisation Libraries\n",
        "\n",
        "import seaborn as sns\n",
        "import networkx as nx\n",
        "import cufflinks as cf\n",
        "import plotly.express as px\n",
        "from ipywidgets import interact\n",
        "import plotly.figure_factory as ff\n",
        "import matplotlib.pyplot as plt\n",
        "from ipywidgets import Dropdown, IntSlider\n",
        "import ipywidgets as widgets\n",
        "import plotly.graph_objects as go\n",
        "\n",
        "#Others\n",
        "import warnings\n",
        "warnings.filterwarnings(\"ignore\")"
      ],
      "execution_count": 4,
      "outputs": []
    },
    {
      "cell_type": "code",
      "metadata": {
        "colab": {
          "base_uri": "https://localhost:8080/"
        },
        "id": "StXNvSl9ZsdU",
        "outputId": "c5d839fe-baa4-4a4d-9715-4df22bc4b3cc"
      },
      "source": [
        "from google.colab import drive\n",
        "drive.mount('/content/gdrive')"
      ],
      "execution_count": 5,
      "outputs": [
        {
          "output_type": "stream",
          "text": [
            "Drive already mounted at /content/gdrive; to attempt to forcibly remount, call drive.mount(\"/content/gdrive\", force_remount=True).\n"
          ],
          "name": "stdout"
        }
      ]
    },
    {
      "cell_type": "code",
      "metadata": {
        "id": "1losLbnHi0Ec"
      },
      "source": [
        "friends = pd.read_csv(\"/content/gdrive/MyDrive/Colab Notebooks/friends_quotes.csv\")\n",
        "season_1_main_characters = pd.read_excel(\"/content/gdrive/MyDrive/Colab Notebooks/season1_df_modified.xlsx\")\n",
        "guest_stars = pd.read_excel(\"/content/gdrive/MyDrive/Colab Notebooks/Guest_Stars_DF.xlsx\")\n"
      ],
      "execution_count": 6,
      "outputs": []
    },
    {
      "cell_type": "code",
      "metadata": {
        "id": "IQXMOuK5YzAs"
      },
      "source": [
        "#el episodio 16 no está bien \"escrapeado\", así que eliminamos las líneas.\n",
        "friends.drop(friends[(friends[\"season\"] == 1) & (friends[\"episode_number\"] == 16)].index,inplace = True)\n",
        "# eliminamos las líneas en la columna \"author\" es \"All\"\n",
        "friends.drop(friends[(friends[\"author\"] == \"All\")].index,inplace = True)"
      ],
      "execution_count": 7,
      "outputs": []
    },
    {
      "cell_type": "code",
      "metadata": {
        "cellView": "code",
        "id": "hrYs78DsYzAv"
      },
      "source": [
        "friends[\"author\"] = friends[\"author\"].str.replace(\"ms. geller\",\"mrs. geller\").str.replace(\"judy\",\"mrs. geller\").str.replace(\"frank jr\",\"frank\")"
      ],
      "execution_count": 8,
      "outputs": []
    },
    {
      "cell_type": "code",
      "metadata": {
        "id": "S2dPyUJ7YzAw"
      },
      "source": [
        "friends[\"author\"] = friends[\"author\"].str.replace(\"\\(([^)]+)\\)\",\"\").str.lower().str.strip()"
      ],
      "execution_count": 9,
      "outputs": []
    },
    {
      "cell_type": "code",
      "metadata": {
        "id": "uEeAQi26YzAz"
      },
      "source": [
        "chandler =[\"chan\",\"chandle\",\"chandlers\"]\n",
        "monica =[\"young monica\",\"fat monica\",\"mnca\",\"monic\",\"monica about to have a heart attack\",\"monica to amy\",\"monica to emma\",\"monica to ross\"] \n",
        "joey = [\"fat joey\",\"joe\"]\n",
        "phoebe = [\"phoe\",\"phoeb\",\"phoebe looks down\"]\n",
        "rachel = [\"big nosed rachel\",\"rach\",\"rahcel\",\"rache\",\"rachel opens their door\",\"rachel to emma\",\"racel\"]\n",
        "ross = [\"ross first has a look of 'huh' then changes it to sarcastic happy\",\"ross looks down\",\"ross makes some sort of sound to let us know it hurt\",\"ross starts playing with a plate\",\"ross starts talking over her 'do you remember' line\",\"ross to monica\",\"ross with a look of wondering how long this is going to go on on his face\",\"young ross\",\"ros\"]"
      ],
      "execution_count": 10,
      "outputs": []
    },
    {
      "cell_type": "code",
      "metadata": {
        "id": "07ZAHhZLYzA0"
      },
      "source": [
        "def replace_author(i):\n",
        "    if i in chandler: \n",
        "        i = \"chandler\" \n",
        "    elif i in monica:\n",
        "        i = \"monica\"\n",
        "    elif i in joey: \n",
        "        i = \"joey\"\n",
        "    elif i in phoebe:\n",
        "        i = \"phoebe\"\n",
        "    elif i in rachel: \n",
        "        i = \"rachel\"\n",
        "    elif i in ross:\n",
        "        i = \"ross\"\n",
        "    else:\n",
        "        return i"
      ],
      "execution_count": 11,
      "outputs": []
    },
    {
      "cell_type": "code",
      "metadata": {
        "id": "yInbiGVcYzA1"
      },
      "source": [
        "friends[\"author\"] = friends[\"author\"].apply(replace_author).str.capitalize()"
      ],
      "execution_count": 12,
      "outputs": []
    },
    {
      "cell_type": "markdown",
      "metadata": {
        "id": "TN3KoAFKYzA2"
      },
      "source": [
        "#**¿Cuáles son los 9 personajes con más líneas de texto en cada temporada?**"
      ]
    },
    {
      "cell_type": "markdown",
      "metadata": {
        "id": "QH_9yf47l7bF"
      },
      "source": [
        "![alt text](https://media.giphy.com/media/JQSCdkVWIY1CF51sjG/giphy.gif)\n",
        "\n",
        "Image from [Giphy](https://giphy.com/)"
      ]
    },
    {
      "cell_type": "code",
      "metadata": {
        "cellView": "form",
        "colab": {
          "base_uri": "https://localhost:8080/",
          "height": 513,
          "referenced_widgets": [
            "073da91f945345edadae3438377ce82d",
            "b4a0960218b34151963eab1b599707c9",
            "08d91def9aa644bbbeb8899bf6aed6aa",
            "a4a687c2c1b74e8cbdfee0b08ecf3bd8",
            "aeb85c52011340d6bba6c7d1914312c0",
            "b6e725c542e04644975cad8dd8bde7f2",
            "6bb0faf725604c94ab809dc477fb40a7"
          ]
        },
        "id": "m118KyMhYzA3",
        "outputId": "0005d8c2-bc38-4e3f-f90c-3c01d3e34a1a"
      },
      "source": [
        "#@title\n",
        "@interact(Season = IntSlider(min=1, max=10, step=1,value=1))\n",
        "def more_common_characters(Season):\n",
        "    more_common = friends[friends.season == Season][\"author\"].value_counts().head(9).index.to_list()\n",
        "    sns.set(rc={'figure.figsize':(7,7),'axes.facecolor':'black'}, font_scale=1.5)\n",
        "    palette = [\"red\",\"yellow\",\"#23c6f7\"]\n",
        "    sns.countplot(y='author', data=friends[(friends.author.isin(more_common)) & (friends.season == Season)], order = more_common, palette = palette)\n",
        "    plt.xlabel(\"Number of lines\")\n",
        "    plt.ylabel(\"Character\")\n",
        "    plt.title('9 Characters with more lines per season')\n",
        "    plt.show()"
      ],
      "execution_count": 13,
      "outputs": [
        {
          "output_type": "display_data",
          "data": {
            "application/vnd.jupyter.widget-view+json": {
              "model_id": "073da91f945345edadae3438377ce82d",
              "version_minor": 0,
              "version_major": 2
            },
            "text/plain": [
              "interactive(children=(IntSlider(value=1, description='Season', max=10, min=1), Output()), _dom_classes=('widge…"
            ]
          },
          "metadata": {
            "tags": []
          }
        }
      ]
    },
    {
      "cell_type": "markdown",
      "metadata": {
        "id": "qudJAsj7n3qJ"
      },
      "source": [
        "#####Code"
      ]
    },
    {
      "cell_type": "code",
      "metadata": {
        "colab": {
          "base_uri": "https://localhost:8080/",
          "height": 603
        },
        "id": "5NX73NX6YzA4",
        "outputId": "7bd7cf0b-3047-4a2c-df20-5c1fd948535f"
      },
      "source": [
        "conversation_weights = pd.DataFrame(season_1_main_characters[\"Conversation\"].value_counts(normalize = True)).reset_index()\n",
        "conversation_weights"
      ],
      "execution_count": 14,
      "outputs": [
        {
          "output_type": "execute_result",
          "data": {
            "text/html": [
              "<div>\n",
              "<style scoped>\n",
              "    .dataframe tbody tr th:only-of-type {\n",
              "        vertical-align: middle;\n",
              "    }\n",
              "\n",
              "    .dataframe tbody tr th {\n",
              "        vertical-align: top;\n",
              "    }\n",
              "\n",
              "    .dataframe thead th {\n",
              "        text-align: right;\n",
              "    }\n",
              "</style>\n",
              "<table border=\"1\" class=\"dataframe\">\n",
              "  <thead>\n",
              "    <tr style=\"text-align: right;\">\n",
              "      <th></th>\n",
              "      <th>index</th>\n",
              "      <th>Conversation</th>\n",
              "    </tr>\n",
              "  </thead>\n",
              "  <tbody>\n",
              "    <tr>\n",
              "      <th>0</th>\n",
              "      <td>Ross, Rachel</td>\n",
              "      <td>0.171171</td>\n",
              "    </tr>\n",
              "    <tr>\n",
              "      <th>1</th>\n",
              "      <td>Ross, Carol</td>\n",
              "      <td>0.114114</td>\n",
              "    </tr>\n",
              "    <tr>\n",
              "      <th>2</th>\n",
              "      <td>Chandler, Joey</td>\n",
              "      <td>0.113113</td>\n",
              "    </tr>\n",
              "    <tr>\n",
              "      <th>3</th>\n",
              "      <td>Rachel, Monica</td>\n",
              "      <td>0.086086</td>\n",
              "    </tr>\n",
              "    <tr>\n",
              "      <th>4</th>\n",
              "      <td>Chandler, Phoebe</td>\n",
              "      <td>0.083083</td>\n",
              "    </tr>\n",
              "    <tr>\n",
              "      <th>5</th>\n",
              "      <td>Ross, Joey</td>\n",
              "      <td>0.079079</td>\n",
              "    </tr>\n",
              "    <tr>\n",
              "      <th>6</th>\n",
              "      <td>Susan, Ross</td>\n",
              "      <td>0.065065</td>\n",
              "    </tr>\n",
              "    <tr>\n",
              "      <th>7</th>\n",
              "      <td>Monica, Joey</td>\n",
              "      <td>0.062062</td>\n",
              "    </tr>\n",
              "    <tr>\n",
              "      <th>8</th>\n",
              "      <td>Chandler, Janice</td>\n",
              "      <td>0.054054</td>\n",
              "    </tr>\n",
              "    <tr>\n",
              "      <th>9</th>\n",
              "      <td>Phoebe, Rachel</td>\n",
              "      <td>0.038038</td>\n",
              "    </tr>\n",
              "    <tr>\n",
              "      <th>10</th>\n",
              "      <td>Phoebe, Monica</td>\n",
              "      <td>0.033033</td>\n",
              "    </tr>\n",
              "    <tr>\n",
              "      <th>11</th>\n",
              "      <td>Ross, Chandler</td>\n",
              "      <td>0.031031</td>\n",
              "    </tr>\n",
              "    <tr>\n",
              "      <th>12</th>\n",
              "      <td>Joey, Phoebe</td>\n",
              "      <td>0.022022</td>\n",
              "    </tr>\n",
              "    <tr>\n",
              "      <th>13</th>\n",
              "      <td>Susan, Carol</td>\n",
              "      <td>0.020020</td>\n",
              "    </tr>\n",
              "    <tr>\n",
              "      <th>14</th>\n",
              "      <td>Chandler, Monica</td>\n",
              "      <td>0.016016</td>\n",
              "    </tr>\n",
              "    <tr>\n",
              "      <th>15</th>\n",
              "      <td>Chandler, Rachel</td>\n",
              "      <td>0.009009</td>\n",
              "    </tr>\n",
              "    <tr>\n",
              "      <th>16</th>\n",
              "      <td>Ross, Phoebe</td>\n",
              "      <td>0.002002</td>\n",
              "    </tr>\n",
              "    <tr>\n",
              "      <th>17</th>\n",
              "      <td>Janice, Joey</td>\n",
              "      <td>0.001001</td>\n",
              "    </tr>\n",
              "  </tbody>\n",
              "</table>\n",
              "</div>"
            ],
            "text/plain": [
              "               index  Conversation\n",
              "0       Ross, Rachel      0.171171\n",
              "1        Ross, Carol      0.114114\n",
              "2     Chandler, Joey      0.113113\n",
              "3     Rachel, Monica      0.086086\n",
              "4   Chandler, Phoebe      0.083083\n",
              "5         Ross, Joey      0.079079\n",
              "6        Susan, Ross      0.065065\n",
              "7       Monica, Joey      0.062062\n",
              "8   Chandler, Janice      0.054054\n",
              "9     Phoebe, Rachel      0.038038\n",
              "10    Phoebe, Monica      0.033033\n",
              "11    Ross, Chandler      0.031031\n",
              "12      Joey, Phoebe      0.022022\n",
              "13      Susan, Carol      0.020020\n",
              "14  Chandler, Monica      0.016016\n",
              "15  Chandler, Rachel      0.009009\n",
              "16      Ross, Phoebe      0.002002\n",
              "17      Janice, Joey      0.001001"
            ]
          },
          "metadata": {
            "tags": []
          },
          "execution_count": 14
        }
      ]
    },
    {
      "cell_type": "code",
      "metadata": {
        "id": "WY9NC0R7YzA5"
      },
      "source": [
        "conversation_weights[[\"A\",\"B\"]] = conversation_weights[\"index\"].str.split(\",\",expand=True)"
      ],
      "execution_count": 15,
      "outputs": []
    },
    {
      "cell_type": "code",
      "metadata": {
        "id": "H-mjLmo8YzA6"
      },
      "source": [
        "conversation_weights[\"A\"] = conversation_weights[\"A\"].str.strip()\n",
        "conversation_weights[\"B\"] = conversation_weights[\"B\"].str.strip()"
      ],
      "execution_count": 16,
      "outputs": []
    },
    {
      "cell_type": "markdown",
      "metadata": {
        "id": "kTnqGxL2YzA4"
      },
      "source": [
        "<h1> <b> ¿Cuáles de estos personajes hablan más entre ellos en la primera temporada? </b></h1>\n"
      ]
    },
    {
      "cell_type": "markdown",
      "metadata": {
        "id": "S_i90fvnnM8a"
      },
      "source": [
        "![alt text](https://media.giphy.com/media/S9ndPlQlnSnqvGMMZv/giphy.gif)\n",
        "\n",
        "Image from [Giphy](https://giphy.com/)\n"
      ]
    },
    {
      "cell_type": "code",
      "metadata": {
        "cellView": "form",
        "colab": {
          "base_uri": "https://localhost:8080/",
          "height": 607
        },
        "id": "OgeKXuMpYzA6",
        "outputId": "9fe89d66-a668-4b9a-801e-bc512135c70f"
      },
      "source": [
        "#@title\n",
        "plt.rcParams[\"figure.figsize\"] = (8,8)\n",
        "\n",
        "G = nx.Graph()\n",
        "G.add_node(\"Ross\", color='red')\n",
        "G.add_node(\"Rachel\", color='blue')\n",
        "G.add_node(\"Phoebe\", color='blue')\n",
        "G.add_node(\"Joey\", color='yellow')\n",
        "G.add_node(\"Chandler\", color='red')\n",
        "G.add_node(\"Monica\", color='yellow')\n",
        "G.add_node(\"Janice\", color='blue')\n",
        "G.add_node(\"Carol\", color='red')\n",
        "G.add_node(\"Susan\", color='yellow')\n",
        "\n",
        "for i in range(len(conversation_weights)):\n",
        "    G.add_edge(conversation_weights[\"A\"][i],conversation_weights[\"B\"][i], weight=round(conversation_weights[\"Conversation\"][i]*100))\n",
        "\n",
        "colors_nodes = nx.get_node_attributes(G,'color').values()\n",
        "weights = nx.get_edge_attributes(G,'weight').values()\n",
        "pos = nx.circular_layout(G)\n",
        "\n",
        "fig = plt.figure()\n",
        "nx.draw(G, pos, \n",
        "        edge_color=\"white\", \n",
        "        width=list(weights),\n",
        "        with_labels=True,\n",
        "        node_color= colors_nodes, node_size=2500, font_weight='bold', font_color='white', font_size = 13)\n",
        "\n",
        "fig.set_facecolor(\"#00000F\")"
      ],
      "execution_count": 17,
      "outputs": [
        {
          "output_type": "display_data",
          "data": {
            "image/png": "[encoded data removed]",
            "text/plain": [
              "<Figure size 576x576 with 1 Axes>"
            ]
          },
          "metadata": {
            "tags": []
          }
        }
      ]
    },
    {
      "cell_type": "markdown",
      "metadata": {
        "id": "Q4dekdhtoo1s"
      },
      "source": [
        "####Code"
      ]
    },
    {
      "cell_type": "code",
      "metadata": {
        "id": "QguJ1b-HYzA8"
      },
      "source": [
        "guest_stars = pd.pivot_table(guest_stars,index=[\"Actor\",\"season\"],\n",
        "                values = [\"quote\"],           \n",
        "               aggfunc='count',fill_value=0)"
      ],
      "execution_count": 18,
      "outputs": []
    },
    {
      "cell_type": "code",
      "metadata": {
        "id": "6cNCnXKCYzA8"
      },
      "source": [
        "guest_stars.reset_index(inplace = True)"
      ],
      "execution_count": 19,
      "outputs": []
    },
    {
      "cell_type": "markdown",
      "metadata": {
        "id": "K2YKuEhxYzA7"
      },
      "source": [
        "#**¿Qué actores/actrices invitados aparecieron durante las 10 temporadas?¿Incrementó el número de actores/actrices invitados/as a lo largo de las 10 temporadas?**\n"
      ]
    },
    {
      "cell_type": "markdown",
      "metadata": {
        "id": "f1v1lGXfp4gE"
      },
      "source": [
        " ![alt text]( https://media.giphy.com/media/KzPyQ5n4rOYmSh4gRg/giphy.gif)\n",
        "\n",
        "Image from [Giphy](https://giphy.com/)"
      ]
    },
    {
      "cell_type": "code",
      "metadata": {
        "cellView": "form",
        "colab": {
          "base_uri": "https://localhost:8080/",
          "height": 542
        },
        "id": "LYX8TQ1LYzA9",
        "outputId": "e0402a47-d4d5-42a9-ab5f-261634025949"
      },
      "source": [
        "#@title\n",
        "fig = px.bar(guest_stars, x=\"season\", y=\"quote\", color = \"Actor\", labels = {\"quote\": \"Number of lines\", \"season\": \"Season\"})\n",
        "fig.show()"
      ],
      "execution_count": 20,
      "outputs": [
        {
          "output_type": "display_data",
          "data": {
            "text/html": [
              "<html>\n",
              "<head><meta charset=\"utf-8\" /></head>\n",
              "<body>\n",
              "    <div>\n",
              "            <script src=\"https://cdnjs.cloudflare.com/ajax/libs/mathjax/2.7.5/MathJax.js?config=TeX-AMS-MML_SVG\"></script><script type=\"text/javascript\">if (window.MathJax) {MathJax.Hub.Config({SVG: {font: \"STIX-Web\"}});}</script>\n",
              "                <script type=\"text/javascript\">window.PlotlyConfig = {MathJaxConfig: 'local'};</script>\n",
              "        <script src=\"https://cdn.plot.ly/plotly-latest.min.js\"></script>    \n",
              "            <div id=\"932272a7-c4de-4ea5-86c8-768d2860df65\" class=\"plotly-graph-div\" style=\"height:525px; width:100%;\"></div>\n",
              "            <script type=\"text/javascript\">\n",
              "                \n",
              "                    window.PLOTLYENV=window.PLOTLYENV || {};\n",
              "                    \n",
              "                if (document.getElementById(\"932272a7-c4de-4ea5-86c8-768d2860df65\")) {\n",
              "                    Plotly.newPlot(\n",
              "                        '932272a7-c4de-4ea5-86c8-768d2860df65',\n",
              "                        [{\"alignmentgroup\": \"True\", \"hoverlabel\": {\"namelength\": 0}, \"hovertemplate\": \"Actor=Adam Goldberg<br>Season=%{x}<br>Number of lines=%{y}\", \"legendgroup\": \"Actor=Adam Goldberg\", \"marker\": {\"color\": \"#636efa\"}, \"name\": \"Actor=Adam Goldberg\", \"offsetgroup\": \"Actor=Adam Goldberg\", \"orientation\": \"v\", \"showlegend\": true, \"textposition\": \"auto\", \"type\": \"bar\", \"x\": [2], \"xaxis\": \"x\", \"y\": [64], \"yaxis\": \"y\"}, {\"alignmentgroup\": \"True\", \"hoverlabel\": {\"namelength\": 0}, \"hovertemplate\": \"Actor=Aisha Tyler<br>Season=%{x}<br>Number of lines=%{y}\", \"legendgroup\": \"Actor=Aisha Tyler\", \"marker\": {\"color\": \"#EF553B\"}, \"name\": \"Actor=Aisha Tyler\", \"offsetgroup\": \"Actor=Aisha Tyler\", \"orientation\": \"v\", \"showlegend\": true, \"textposition\": \"auto\", \"type\": \"bar\", \"x\": [9, 10], \"xaxis\": \"x\", \"y\": [133, 57], \"yaxis\": \"y\"}, {\"alignmentgroup\": \"True\", \"hoverlabel\": {\"namelength\": 0}, \"hovertemplate\": \"Actor=Alec Baldwin<br>Season=%{x}<br>Number of lines=%{y}\", \"legendgroup\": \"Actor=Alec Baldwin\", \"marker\": {\"color\": \"#00cc96\"}, \"name\": \"Actor=Alec Baldwin\", \"offsetgroup\": \"Actor=Alec Baldwin\", \"orientation\": \"v\", \"showlegend\": true, \"textposition\": \"auto\", \"type\": \"bar\", \"x\": [8], \"xaxis\": \"x\", \"y\": [33], \"yaxis\": \"y\"}, {\"alignmentgroup\": \"True\", \"hoverlabel\": {\"namelength\": 0}, \"hovertemplate\": \"Actor=Alison Sweeney<br>Season=%{x}<br>Number of lines=%{y}\", \"legendgroup\": \"Actor=Alison Sweeney\", \"marker\": {\"color\": \"#ab63fa\"}, \"name\": \"Actor=Alison Sweeney\", \"offsetgroup\": \"Actor=Alison Sweeney\", \"orientation\": \"v\", \"showlegend\": true, \"textposition\": \"auto\", \"type\": \"bar\", \"x\": [7], \"xaxis\": \"x\", \"y\": [4], \"yaxis\": \"y\"}, {\"alignmentgroup\": \"True\", \"hoverlabel\": {\"namelength\": 0}, \"hovertemplate\": \"Actor=Anna Faris<br>Season=%{x}<br>Number of lines=%{y}\", \"legendgroup\": \"Actor=Anna Faris\", \"marker\": {\"color\": \"#FFA15A\"}, \"name\": \"Actor=Anna Faris\", \"offsetgroup\": \"Actor=Anna Faris\", \"orientation\": \"v\", \"showlegend\": true, \"textposition\": \"auto\", \"type\": \"bar\", \"x\": [10], \"xaxis\": \"x\", \"y\": [67], \"yaxis\": \"y\"}, {\"alignmentgroup\": \"True\", \"hoverlabel\": {\"namelength\": 0}, \"hovertemplate\": \"Actor=Ben Stiller<br>Season=%{x}<br>Number of lines=%{y}\", \"legendgroup\": \"Actor=Ben Stiller\", \"marker\": {\"color\": \"#19d3f3\"}, \"name\": \"Actor=Ben Stiller\", \"offsetgroup\": \"Actor=Ben Stiller\", \"orientation\": \"v\", \"showlegend\": true, \"textposition\": \"auto\", \"type\": \"bar\", \"x\": [3], \"xaxis\": \"x\", \"y\": [21], \"yaxis\": \"y\"}, {\"alignmentgroup\": \"True\", \"hoverlabel\": {\"namelength\": 0}, \"hovertemplate\": \"Actor=Billy Crystal<br>Season=%{x}<br>Number of lines=%{y}\", \"legendgroup\": \"Actor=Billy Crystal\", \"marker\": {\"color\": \"#FF6692\"}, \"name\": \"Actor=Billy Crystal\", \"offsetgroup\": \"Actor=Billy Crystal\", \"orientation\": \"v\", \"showlegend\": true, \"textposition\": \"auto\", \"type\": \"bar\", \"x\": [3], \"xaxis\": \"x\", \"y\": [11], \"yaxis\": \"y\"}, {\"alignmentgroup\": \"True\", \"hoverlabel\": {\"namelength\": 0}, \"hovertemplate\": \"Actor=Brad Pitt<br>Season=%{x}<br>Number of lines=%{y}\", \"legendgroup\": \"Actor=Brad Pitt\", \"marker\": {\"color\": \"#B6E880\"}, \"name\": \"Actor=Brad Pitt\", \"offsetgroup\": \"Actor=Brad Pitt\", \"orientation\": \"v\", \"showlegend\": true, \"textposition\": \"auto\", \"type\": \"bar\", \"x\": [8], \"xaxis\": \"x\", \"y\": [50], \"yaxis\": \"y\"}, {\"alignmentgroup\": \"True\", \"hoverlabel\": {\"namelength\": 0}, \"hovertemplate\": \"Actor=Brook Shields<br>Season=%{x}<br>Number of lines=%{y}\", \"legendgroup\": \"Actor=Brook Shields\", \"marker\": {\"color\": \"#FF97FF\"}, \"name\": \"Actor=Brook Shields\", \"offsetgroup\": \"Actor=Brook Shields\", \"orientation\": \"v\", \"showlegend\": true, \"textposition\": \"auto\", \"type\": \"bar\", \"x\": [2], \"xaxis\": \"x\", \"y\": [26], \"yaxis\": \"y\"}, {\"alignmentgroup\": \"True\", \"hoverlabel\": {\"namelength\": 0}, \"hovertemplate\": \"Actor=Bruce Willis<br>Season=%{x}<br>Number of lines=%{y}\", \"legendgroup\": \"Actor=Bruce Willis\", \"marker\": {\"color\": \"#FECB52\"}, \"name\": \"Actor=Bruce Willis\", \"offsetgroup\": \"Actor=Bruce Willis\", \"orientation\": \"v\", \"showlegend\": true, \"textposition\": \"auto\", \"type\": \"bar\", \"x\": [6], \"xaxis\": \"x\", \"y\": [116], \"yaxis\": \"y\"}, {\"alignmentgroup\": \"True\", \"hoverlabel\": {\"namelength\": 0}, \"hovertemplate\": \"Actor=Charlie Sheen<br>Season=%{x}<br>Number of lines=%{y}\", \"legendgroup\": \"Actor=Charlie Sheen\", \"marker\": {\"color\": \"#636efa\"}, \"name\": \"Actor=Charlie Sheen\", \"offsetgroup\": \"Actor=Charlie Sheen\", \"orientation\": \"v\", \"showlegend\": true, \"textposition\": \"auto\", \"type\": \"bar\", \"x\": [2], \"xaxis\": \"x\", \"y\": [32], \"yaxis\": \"y\"}, {\"alignmentgroup\": \"True\", \"hoverlabel\": {\"namelength\": 0}, \"hovertemplate\": \"Actor=Charlton heston<br>Season=%{x}<br>Number of lines=%{y}\", \"legendgroup\": \"Actor=Charlton heston\", \"marker\": {\"color\": \"#EF553B\"}, \"name\": \"Actor=Charlton heston\", \"offsetgroup\": \"Actor=Charlton heston\", \"orientation\": \"v\", \"showlegend\": true, \"textposition\": \"auto\", \"type\": \"bar\", \"x\": [4], \"xaxis\": \"x\", \"y\": [9], \"yaxis\": \"y\"}, {\"alignmentgroup\": \"True\", \"hoverlabel\": {\"namelength\": 0}, \"hovertemplate\": \"Actor=Chris Isaak\\u00a0<br>Season=%{x}<br>Number of lines=%{y}\", \"legendgroup\": \"Actor=Chris Isaak\\u00a0\", \"marker\": {\"color\": \"#00cc96\"}, \"name\": \"Actor=Chris Isaak\\u00a0\", \"offsetgroup\": \"Actor=Chris Isaak\\u00a0\", \"orientation\": \"v\", \"showlegend\": true, \"textposition\": \"auto\", \"type\": \"bar\", \"x\": [2], \"xaxis\": \"x\", \"y\": [15], \"yaxis\": \"y\"}, {\"alignmentgroup\": \"True\", \"hoverlabel\": {\"namelength\": 0}, \"hovertemplate\": \"Actor=Chris Parnell<br>Season=%{x}<br>Number of lines=%{y}\", \"legendgroup\": \"Actor=Chris Parnell\", \"marker\": {\"color\": \"#ab63fa\"}, \"name\": \"Actor=Chris Parnell\", \"offsetgroup\": \"Actor=Chris Parnell\", \"orientation\": \"v\", \"showlegend\": true, \"textposition\": \"auto\", \"type\": \"bar\", \"x\": [8], \"xaxis\": \"x\", \"y\": [10], \"yaxis\": \"y\"}, {\"alignmentgroup\": \"True\", \"hoverlabel\": {\"namelength\": 0}, \"hovertemplate\": \"Actor=Chrissie Hynde<br>Season=%{x}<br>Number of lines=%{y}\", \"legendgroup\": \"Actor=Chrissie Hynde\", \"marker\": {\"color\": \"#FFA15A\"}, \"name\": \"Actor=Chrissie Hynde\", \"offsetgroup\": \"Actor=Chrissie Hynde\", \"orientation\": \"v\", \"showlegend\": true, \"textposition\": \"auto\", \"type\": \"bar\", \"x\": [2], \"xaxis\": \"x\", \"y\": [13], \"yaxis\": \"y\"}, {\"alignmentgroup\": \"True\", \"hoverlabel\": {\"namelength\": 0}, \"hovertemplate\": \"Actor=Christina Applegate<br>Season=%{x}<br>Number of lines=%{y}\", \"legendgroup\": \"Actor=Christina Applegate\", \"marker\": {\"color\": \"#19d3f3\"}, \"name\": \"Actor=Christina Applegate\", \"offsetgroup\": \"Actor=Christina Applegate\", \"orientation\": \"v\", \"showlegend\": true, \"textposition\": \"auto\", \"type\": \"bar\", \"x\": [9, 10], \"xaxis\": \"x\", \"y\": [59, 65], \"yaxis\": \"y\"}, {\"alignmentgroup\": \"True\", \"hoverlabel\": {\"namelength\": 0}, \"hovertemplate\": \"Actor=Dakota Fanning<br>Season=%{x}<br>Number of lines=%{y}\", \"legendgroup\": \"Actor=Dakota Fanning\", \"marker\": {\"color\": \"#FF6692\"}, \"name\": \"Actor=Dakota Fanning\", \"offsetgroup\": \"Actor=Dakota Fanning\", \"orientation\": \"v\", \"showlegend\": true, \"textposition\": \"auto\", \"type\": \"bar\", \"x\": [10], \"xaxis\": \"x\", \"y\": [11], \"yaxis\": \"y\"}, {\"alignmentgroup\": \"True\", \"hoverlabel\": {\"namelength\": 0}, \"hovertemplate\": \"Actor=Danny DeVito\\u00a0<br>Season=%{x}<br>Number of lines=%{y}\", \"legendgroup\": \"Actor=Danny DeVito\\u00a0\", \"marker\": {\"color\": \"#B6E880\"}, \"name\": \"Actor=Danny DeVito\\u00a0\", \"offsetgroup\": \"Actor=Danny DeVito\\u00a0\", \"orientation\": \"v\", \"showlegend\": true, \"textposition\": \"auto\", \"type\": \"bar\", \"x\": [10], \"xaxis\": \"x\", \"y\": [24], \"yaxis\": \"y\"}, {\"alignmentgroup\": \"True\", \"hoverlabel\": {\"namelength\": 0}, \"hovertemplate\": \"Actor=David Arquette<br>Season=%{x}<br>Number of lines=%{y}\", \"legendgroup\": \"Actor=David Arquette\", \"marker\": {\"color\": \"#FF97FF\"}, \"name\": \"Actor=David Arquette\", \"offsetgroup\": \"Actor=David Arquette\", \"orientation\": \"v\", \"showlegend\": true, \"textposition\": \"auto\", \"type\": \"bar\", \"x\": [3], \"xaxis\": \"x\", \"y\": [24], \"yaxis\": \"y\"}, {\"alignmentgroup\": \"True\", \"hoverlabel\": {\"namelength\": 0}, \"hovertemplate\": \"Actor=Denise Richards<br>Season=%{x}<br>Number of lines=%{y}\", \"legendgroup\": \"Actor=Denise Richards\", \"marker\": {\"color\": \"#FECB52\"}, \"name\": \"Actor=Denise Richards\", \"offsetgroup\": \"Actor=Denise Richards\", \"orientation\": \"v\", \"showlegend\": true, \"textposition\": \"auto\", \"type\": \"bar\", \"x\": [7], \"xaxis\": \"x\", \"y\": [16], \"yaxis\": \"y\"}, {\"alignmentgroup\": \"True\", \"hoverlabel\": {\"namelength\": 0}, \"hovertemplate\": \"Actor=Dermot Mulroney<br>Season=%{x}<br>Number of lines=%{y}\", \"legendgroup\": \"Actor=Dermot Mulroney\", \"marker\": {\"color\": \"#636efa\"}, \"name\": \"Actor=Dermot Mulroney\", \"offsetgroup\": \"Actor=Dermot Mulroney\", \"orientation\": \"v\", \"showlegend\": true, \"textposition\": \"auto\", \"type\": \"bar\", \"x\": [9], \"xaxis\": \"x\", \"y\": [25], \"yaxis\": \"y\"}, {\"alignmentgroup\": \"True\", \"hoverlabel\": {\"namelength\": 0}, \"hovertemplate\": \"Actor=Elle Macpherson<br>Season=%{x}<br>Number of lines=%{y}\", \"legendgroup\": \"Actor=Elle Macpherson\", \"marker\": {\"color\": \"#EF553B\"}, \"name\": \"Actor=Elle Macpherson\", \"offsetgroup\": \"Actor=Elle Macpherson\", \"orientation\": \"v\", \"showlegend\": true, \"textposition\": \"auto\", \"type\": \"bar\", \"x\": [6], \"xaxis\": \"x\", \"y\": [89], \"yaxis\": \"y\"}, {\"alignmentgroup\": \"True\", \"hoverlabel\": {\"namelength\": 0}, \"hovertemplate\": \"Actor=Ellen Pompeo<br>Season=%{x}<br>Number of lines=%{y}\", \"legendgroup\": \"Actor=Ellen Pompeo\", \"marker\": {\"color\": \"#00cc96\"}, \"name\": \"Actor=Ellen Pompeo\", \"offsetgroup\": \"Actor=Ellen Pompeo\", \"orientation\": \"v\", \"showlegend\": true, \"textposition\": \"auto\", \"type\": \"bar\", \"x\": [10], \"xaxis\": \"x\", \"y\": [10], \"yaxis\": \"y\"}, {\"alignmentgroup\": \"True\", \"hoverlabel\": {\"namelength\": 0}, \"hovertemplate\": \"Actor=Fred Willard\\u00a0<br>Season=%{x}<br>Number of lines=%{y}\", \"legendgroup\": \"Actor=Fred Willard\\u00a0\", \"marker\": {\"color\": \"#ab63fa\"}, \"name\": \"Actor=Fred Willard\\u00a0\", \"offsetgroup\": \"Actor=Fred Willard\\u00a0\", \"orientation\": \"v\", \"showlegend\": true, \"textposition\": \"auto\", \"type\": \"bar\", \"x\": [2], \"xaxis\": \"x\", \"y\": [6], \"yaxis\": \"y\"}, {\"alignmentgroup\": \"True\", \"hoverlabel\": {\"namelength\": 0}, \"hovertemplate\": \"Actor=Freddie Prinze Jr.<br>Season=%{x}<br>Number of lines=%{y}\", \"legendgroup\": \"Actor=Freddie Prinze Jr.\", \"marker\": {\"color\": \"#FFA15A\"}, \"name\": \"Actor=Freddie Prinze Jr.\", \"offsetgroup\": \"Actor=Freddie Prinze Jr.\", \"orientation\": \"v\", \"showlegend\": true, \"textposition\": \"auto\", \"type\": \"bar\", \"x\": [9], \"xaxis\": \"x\", \"y\": [29], \"yaxis\": \"y\"}, {\"alignmentgroup\": \"True\", \"hoverlabel\": {\"namelength\": 0}, \"hovertemplate\": \"Actor=Gabrielle Union<br>Season=%{x}<br>Number of lines=%{y}\", \"legendgroup\": \"Actor=Gabrielle Union\", \"marker\": {\"color\": \"#19d3f3\"}, \"name\": \"Actor=Gabrielle Union\", \"offsetgroup\": \"Actor=Gabrielle Union\", \"orientation\": \"v\", \"showlegend\": true, \"textposition\": \"auto\", \"type\": \"bar\", \"x\": [7], \"xaxis\": \"x\", \"y\": [27], \"yaxis\": \"y\"}, {\"alignmentgroup\": \"True\", \"hoverlabel\": {\"namelength\": 0}, \"hovertemplate\": \"Actor=Gary Oldman<br>Season=%{x}<br>Number of lines=%{y}\", \"legendgroup\": \"Actor=Gary Oldman\", \"marker\": {\"color\": \"#FF6692\"}, \"name\": \"Actor=Gary Oldman\", \"offsetgroup\": \"Actor=Gary Oldman\", \"orientation\": \"v\", \"showlegend\": true, \"textposition\": \"auto\", \"type\": \"bar\", \"x\": [7], \"xaxis\": \"x\", \"y\": [33], \"yaxis\": \"y\"}, {\"alignmentgroup\": \"True\", \"hoverlabel\": {\"namelength\": 0}, \"hovertemplate\": \"Actor=George Clooney<br>Season=%{x}<br>Number of lines=%{y}\", \"legendgroup\": \"Actor=George Clooney\", \"marker\": {\"color\": \"#B6E880\"}, \"name\": \"Actor=George Clooney\", \"offsetgroup\": \"Actor=George Clooney\", \"orientation\": \"v\", \"showlegend\": true, \"textposition\": \"auto\", \"type\": \"bar\", \"x\": [1], \"xaxis\": \"x\", \"y\": [13], \"yaxis\": \"y\"}, {\"alignmentgroup\": \"True\", \"hoverlabel\": {\"namelength\": 0}, \"hovertemplate\": \"Actor=Greg Kinnear<br>Season=%{x}<br>Number of lines=%{y}\", \"legendgroup\": \"Actor=Greg Kinnear\", \"marker\": {\"color\": \"#FF97FF\"}, \"name\": \"Actor=Greg Kinnear\", \"offsetgroup\": \"Actor=Greg Kinnear\", \"orientation\": \"v\", \"showlegend\": true, \"textposition\": \"auto\", \"type\": \"bar\", \"x\": [10], \"xaxis\": \"x\", \"y\": [38], \"yaxis\": \"y\"}, {\"alignmentgroup\": \"True\", \"hoverlabel\": {\"namelength\": 0}, \"hovertemplate\": \"Actor=Hank Azaria<br>Season=%{x}<br>Number of lines=%{y}\", \"legendgroup\": \"Actor=Hank Azaria\", \"marker\": {\"color\": \"#FECB52\"}, \"name\": \"Actor=Hank Azaria\", \"offsetgroup\": \"Actor=Hank Azaria\", \"orientation\": \"v\", \"showlegend\": true, \"textposition\": \"auto\", \"type\": \"bar\", \"x\": [1, 7, 9], \"xaxis\": \"x\", \"y\": [28, 20, 72], \"yaxis\": \"y\"}, {\"alignmentgroup\": \"True\", \"hoverlabel\": {\"namelength\": 0}, \"hovertemplate\": \"Actor=Helen Hunt<br>Season=%{x}<br>Number of lines=%{y}\", \"legendgroup\": \"Actor=Helen Hunt\", \"marker\": {\"color\": \"#636efa\"}, \"name\": \"Actor=Helen Hunt\", \"offsetgroup\": \"Actor=Helen Hunt\", \"orientation\": \"v\", \"showlegend\": true, \"textposition\": \"auto\", \"type\": \"bar\", \"x\": [1], \"xaxis\": \"x\", \"y\": [11], \"yaxis\": \"y\"}, {\"alignmentgroup\": \"True\", \"hoverlabel\": {\"namelength\": 0}, \"hovertemplate\": \"Actor=Hugh Laurie<br>Season=%{x}<br>Number of lines=%{y}\", \"legendgroup\": \"Actor=Hugh Laurie\", \"marker\": {\"color\": \"#EF553B\"}, \"name\": \"Actor=Hugh Laurie\", \"offsetgroup\": \"Actor=Hugh Laurie\", \"orientation\": \"v\", \"showlegend\": true, \"textposition\": \"auto\", \"type\": \"bar\", \"x\": [4], \"xaxis\": \"x\", \"y\": [6], \"yaxis\": \"y\"}, {\"alignmentgroup\": \"True\", \"hoverlabel\": {\"namelength\": 0}, \"hovertemplate\": \"Actor=Iqbal Theba<br>Season=%{x}<br>Number of lines=%{y}\", \"legendgroup\": \"Actor=Iqbal Theba\", \"marker\": {\"color\": \"#00cc96\"}, \"name\": \"Actor=Iqbal Theba\", \"offsetgroup\": \"Actor=Iqbal Theba\", \"orientation\": \"v\", \"showlegend\": true, \"textposition\": \"auto\", \"type\": \"bar\", \"x\": [5], \"xaxis\": \"x\", \"y\": [6], \"yaxis\": \"y\"}, {\"alignmentgroup\": \"True\", \"hoverlabel\": {\"namelength\": 0}, \"hovertemplate\": \"Actor=Isabella Rossellini<br>Season=%{x}<br>Number of lines=%{y}\", \"legendgroup\": \"Actor=Isabella Rossellini\", \"marker\": {\"color\": \"#ab63fa\"}, \"name\": \"Actor=Isabella Rossellini\", \"offsetgroup\": \"Actor=Isabella Rossellini\", \"orientation\": \"v\", \"showlegend\": true, \"textposition\": \"auto\", \"type\": \"bar\", \"x\": [3], \"xaxis\": \"x\", \"y\": [10], \"yaxis\": \"y\"}, {\"alignmentgroup\": \"True\", \"hoverlabel\": {\"namelength\": 0}, \"hovertemplate\": \"Actor=Jason Alexander<br>Season=%{x}<br>Number of lines=%{y}\", \"legendgroup\": \"Actor=Jason Alexander\", \"marker\": {\"color\": \"#FFA15A\"}, \"name\": \"Actor=Jason Alexander\", \"offsetgroup\": \"Actor=Jason Alexander\", \"orientation\": \"v\", \"showlegend\": true, \"textposition\": \"auto\", \"type\": \"bar\", \"x\": [7], \"xaxis\": \"x\", \"y\": [29], \"yaxis\": \"y\"}, {\"alignmentgroup\": \"True\", \"hoverlabel\": {\"namelength\": 0}, \"hovertemplate\": \"Actor=Jay Leno<br>Season=%{x}<br>Number of lines=%{y}\", \"legendgroup\": \"Actor=Jay Leno\", \"marker\": {\"color\": \"#19d3f3\"}, \"name\": \"Actor=Jay Leno\", \"offsetgroup\": \"Actor=Jay Leno\", \"orientation\": \"v\", \"showlegend\": true, \"textposition\": \"auto\", \"type\": \"bar\", \"x\": [1], \"xaxis\": \"x\", \"y\": [4], \"yaxis\": \"y\"}, {\"alignmentgroup\": \"True\", \"hoverlabel\": {\"namelength\": 0}, \"hovertemplate\": \"Actor=Jean-Claude Van Damme<br>Season=%{x}<br>Number of lines=%{y}\", \"legendgroup\": \"Actor=Jean-Claude Van Damme\", \"marker\": {\"color\": \"#FF6692\"}, \"name\": \"Actor=Jean-Claude Van Damme\", \"offsetgroup\": \"Actor=Jean-Claude Van Damme\", \"orientation\": \"v\", \"showlegend\": true, \"textposition\": \"auto\", \"type\": \"bar\", \"x\": [2], \"xaxis\": \"x\", \"y\": [14], \"yaxis\": \"y\"}, {\"alignmentgroup\": \"True\", \"hoverlabel\": {\"namelength\": 0}, \"hovertemplate\": \"Actor=Jeff Goldblum<br>Season=%{x}<br>Number of lines=%{y}\", \"legendgroup\": \"Actor=Jeff Goldblum\", \"marker\": {\"color\": \"#B6E880\"}, \"name\": \"Actor=Jeff Goldblum\", \"offsetgroup\": \"Actor=Jeff Goldblum\", \"orientation\": \"v\", \"showlegend\": true, \"textposition\": \"auto\", \"type\": \"bar\", \"x\": [9], \"xaxis\": \"x\", \"y\": [33], \"yaxis\": \"y\"}, {\"alignmentgroup\": \"True\", \"hoverlabel\": {\"namelength\": 0}, \"hovertemplate\": \"Actor=Jennifer Coolidge<br>Season=%{x}<br>Number of lines=%{y}\", \"legendgroup\": \"Actor=Jennifer Coolidge\", \"marker\": {\"color\": \"#FF97FF\"}, \"name\": \"Actor=Jennifer Coolidge\", \"offsetgroup\": \"Actor=Jennifer Coolidge\", \"orientation\": \"v\", \"showlegend\": true, \"textposition\": \"auto\", \"type\": \"bar\", \"x\": [10], \"xaxis\": \"x\", \"y\": [14], \"yaxis\": \"y\"}, {\"alignmentgroup\": \"True\", \"hoverlabel\": {\"namelength\": 0}, \"hovertemplate\": \"Actor=Jennifer Grey<br>Season=%{x}<br>Number of lines=%{y}\", \"legendgroup\": \"Actor=Jennifer Grey\", \"marker\": {\"color\": \"#FECB52\"}, \"name\": \"Actor=Jennifer Grey\", \"offsetgroup\": \"Actor=Jennifer Grey\", \"orientation\": \"v\", \"showlegend\": true, \"textposition\": \"auto\", \"type\": \"bar\", \"x\": [1], \"xaxis\": \"x\", \"y\": [22], \"yaxis\": \"y\"}, {\"alignmentgroup\": \"True\", \"hoverlabel\": {\"namelength\": 0}, \"hovertemplate\": \"Actor=Jill Goodacre<br>Season=%{x}<br>Number of lines=%{y}\", \"legendgroup\": \"Actor=Jill Goodacre\", \"marker\": {\"color\": \"#636efa\"}, \"name\": \"Actor=Jill Goodacre\", \"offsetgroup\": \"Actor=Jill Goodacre\", \"orientation\": \"v\", \"showlegend\": true, \"textposition\": \"auto\", \"type\": \"bar\", \"x\": [1], \"xaxis\": \"x\", \"y\": [13], \"yaxis\": \"y\"}, {\"alignmentgroup\": \"True\", \"hoverlabel\": {\"namelength\": 0}, \"hovertemplate\": \"Actor=Jim Rash<br>Season=%{x}<br>Number of lines=%{y}\", \"legendgroup\": \"Actor=Jim Rash\", \"marker\": {\"color\": \"#EF553B\"}, \"name\": \"Actor=Jim Rash\", \"offsetgroup\": \"Actor=Jim Rash\", \"orientation\": \"v\", \"showlegend\": true, \"textposition\": \"auto\", \"type\": \"bar\", \"x\": [10], \"xaxis\": \"x\", \"y\": [8], \"yaxis\": \"y\"}, {\"alignmentgroup\": \"True\", \"hoverlabel\": {\"namelength\": 0}, \"hovertemplate\": \"Actor=John Stamos<br>Season=%{x}<br>Number of lines=%{y}\", \"legendgroup\": \"Actor=John Stamos\", \"marker\": {\"color\": \"#00cc96\"}, \"name\": \"Actor=John Stamos\", \"offsetgroup\": \"Actor=John Stamos\", \"orientation\": \"v\", \"showlegend\": true, \"textposition\": \"auto\", \"type\": \"bar\", \"x\": [9], \"xaxis\": \"x\", \"y\": [20], \"yaxis\": \"y\"}, {\"alignmentgroup\": \"True\", \"hoverlabel\": {\"namelength\": 0}, \"hovertemplate\": \"Actor=Jon Favreau<br>Season=%{x}<br>Number of lines=%{y}\", \"legendgroup\": \"Actor=Jon Favreau\", \"marker\": {\"color\": \"#ab63fa\"}, \"name\": \"Actor=Jon Favreau\", \"offsetgroup\": \"Actor=Jon Favreau\", \"orientation\": \"v\", \"showlegend\": true, \"textposition\": \"auto\", \"type\": \"bar\", \"x\": [3], \"xaxis\": \"x\", \"y\": [103], \"yaxis\": \"y\"}, {\"alignmentgroup\": \"True\", \"hoverlabel\": {\"namelength\": 0}, \"hovertemplate\": \"Actor=Jon Lovitz<br>Season=%{x}<br>Number of lines=%{y}\", \"legendgroup\": \"Actor=Jon Lovitz\", \"marker\": {\"color\": \"#FFA15A\"}, \"name\": \"Actor=Jon Lovitz\", \"offsetgroup\": \"Actor=Jon Lovitz\", \"orientation\": \"v\", \"showlegend\": true, \"textposition\": \"auto\", \"type\": \"bar\", \"x\": [1, 9], \"xaxis\": \"x\", \"y\": [23, 13], \"yaxis\": \"y\"}, {\"alignmentgroup\": \"True\", \"hoverlabel\": {\"namelength\": 0}, \"hovertemplate\": \"Actor=Julia Roberts<br>Season=%{x}<br>Number of lines=%{y}\", \"legendgroup\": \"Actor=Julia Roberts\", \"marker\": {\"color\": \"#19d3f3\"}, \"name\": \"Actor=Julia Roberts\", \"offsetgroup\": \"Actor=Julia Roberts\", \"orientation\": \"v\", \"showlegend\": true, \"textposition\": \"auto\", \"type\": \"bar\", \"x\": [2], \"xaxis\": \"x\", \"y\": [35], \"yaxis\": \"y\"}, {\"alignmentgroup\": \"True\", \"hoverlabel\": {\"namelength\": 0}, \"hovertemplate\": \"Actor=Kathleen Turner<br>Season=%{x}<br>Number of lines=%{y}\", \"legendgroup\": \"Actor=Kathleen Turner\", \"marker\": {\"color\": \"#FF6692\"}, \"name\": \"Actor=Kathleen Turner\", \"offsetgroup\": \"Actor=Kathleen Turner\", \"orientation\": \"v\", \"showlegend\": true, \"textposition\": \"auto\", \"type\": \"bar\", \"x\": [7], \"xaxis\": \"x\", \"y\": [23], \"yaxis\": \"y\"}, {\"alignmentgroup\": \"True\", \"hoverlabel\": {\"namelength\": 0}, \"hovertemplate\": \"Actor=Kristin Davis<br>Season=%{x}<br>Number of lines=%{y}\", \"legendgroup\": \"Actor=Kristin Davis\", \"marker\": {\"color\": \"#B6E880\"}, \"name\": \"Actor=Kristin Davis\", \"offsetgroup\": \"Actor=Kristin Davis\", \"orientation\": \"v\", \"showlegend\": true, \"textposition\": \"auto\", \"type\": \"bar\", \"x\": [7], \"xaxis\": \"x\", \"y\": [23], \"yaxis\": \"y\"}, {\"alignmentgroup\": \"True\", \"hoverlabel\": {\"namelength\": 0}, \"hovertemplate\": \"Actor=Lea Thompson<br>Season=%{x}<br>Number of lines=%{y}\", \"legendgroup\": \"Actor=Lea Thompson\", \"marker\": {\"color\": \"#FF97FF\"}, \"name\": \"Actor=Lea Thompson\", \"offsetgroup\": \"Actor=Lea Thompson\", \"orientation\": \"v\", \"showlegend\": true, \"textposition\": \"auto\", \"type\": \"bar\", \"x\": [2], \"xaxis\": \"x\", \"y\": [6], \"yaxis\": \"y\"}, {\"alignmentgroup\": \"True\", \"hoverlabel\": {\"namelength\": 0}, \"hovertemplate\": \"Actor=Leah Remini<br>Season=%{x}<br>Number of lines=%{y}\", \"legendgroup\": \"Actor=Leah Remini\", \"marker\": {\"color\": \"#FECB52\"}, \"name\": \"Actor=Leah Remini\", \"offsetgroup\": \"Actor=Leah Remini\", \"orientation\": \"v\", \"showlegend\": true, \"textposition\": \"auto\", \"type\": \"bar\", \"x\": [1], \"xaxis\": \"x\", \"y\": [21], \"yaxis\": \"y\"}, {\"alignmentgroup\": \"True\", \"hoverlabel\": {\"namelength\": 0}, \"hovertemplate\": \"Actor=Mae Whitman<br>Season=%{x}<br>Number of lines=%{y}\", \"legendgroup\": \"Actor=Mae Whitman\", \"marker\": {\"color\": \"#636efa\"}, \"name\": \"Actor=Mae Whitman\", \"offsetgroup\": \"Actor=Mae Whitman\", \"orientation\": \"v\", \"showlegend\": true, \"textposition\": \"auto\", \"type\": \"bar\", \"x\": [3], \"xaxis\": \"x\", \"y\": [11], \"yaxis\": \"y\"}, {\"alignmentgroup\": \"True\", \"hoverlabel\": {\"namelength\": 0}, \"hovertemplate\": \"Actor=Marlo Thomas<br>Season=%{x}<br>Number of lines=%{y}\", \"legendgroup\": \"Actor=Marlo Thomas\", \"marker\": {\"color\": \"#EF553B\"}, \"name\": \"Actor=Marlo Thomas\", \"offsetgroup\": \"Actor=Marlo Thomas\", \"orientation\": \"v\", \"showlegend\": true, \"textposition\": \"auto\", \"type\": \"bar\", \"x\": [2, 8], \"xaxis\": \"x\", \"y\": [24, 37], \"yaxis\": \"y\"}, {\"alignmentgroup\": \"True\", \"hoverlabel\": {\"namelength\": 0}, \"hovertemplate\": \"Actor=Michael McKean<br>Season=%{x}<br>Number of lines=%{y}\", \"legendgroup\": \"Actor=Michael McKean\", \"marker\": {\"color\": \"#00cc96\"}, \"name\": \"Actor=Michael McKean\", \"offsetgroup\": \"Actor=Michael McKean\", \"orientation\": \"v\", \"showlegend\": true, \"textposition\": \"auto\", \"type\": \"bar\", \"x\": [2], \"xaxis\": \"x\", \"y\": [18], \"yaxis\": \"y\"}, {\"alignmentgroup\": \"True\", \"hoverlabel\": {\"namelength\": 0}, \"hovertemplate\": \"Actor=Morgan Fairchild<br>Season=%{x}<br>Number of lines=%{y}\", \"legendgroup\": \"Actor=Morgan Fairchild\", \"marker\": {\"color\": \"#ab63fa\"}, \"name\": \"Actor=Morgan Fairchild\", \"offsetgroup\": \"Actor=Morgan Fairchild\", \"orientation\": \"v\", \"showlegend\": true, \"textposition\": \"auto\", \"type\": \"bar\", \"x\": [1, 5, 7, 8], \"xaxis\": \"x\", \"y\": [28, 1, 7, 4], \"yaxis\": \"y\"}, {\"alignmentgroup\": \"True\", \"hoverlabel\": {\"namelength\": 0}, \"hovertemplate\": \"Actor=Noah Wyle<br>Season=%{x}<br>Number of lines=%{y}\", \"legendgroup\": \"Actor=Noah Wyle\", \"marker\": {\"color\": \"#FFA15A\"}, \"name\": \"Actor=Noah Wyle\", \"offsetgroup\": \"Actor=Noah Wyle\", \"orientation\": \"v\", \"showlegend\": true, \"textposition\": \"auto\", \"type\": \"bar\", \"x\": [1], \"xaxis\": \"x\", \"y\": [10], \"yaxis\": \"y\"}, {\"alignmentgroup\": \"True\", \"hoverlabel\": {\"namelength\": 0}, \"hovertemplate\": \"Actor=Paul Rudd<br>Season=%{x}<br>Number of lines=%{y}\", \"legendgroup\": \"Actor=Paul Rudd\", \"marker\": {\"color\": \"#19d3f3\"}, \"name\": \"Actor=Paul Rudd\", \"offsetgroup\": \"Actor=Paul Rudd\", \"orientation\": \"v\", \"showlegend\": true, \"textposition\": \"auto\", \"type\": \"bar\", \"x\": [9, 10], \"xaxis\": \"x\", \"y\": [229, 116], \"yaxis\": \"y\"}, {\"alignmentgroup\": \"True\", \"hoverlabel\": {\"namelength\": 0}, \"hovertemplate\": \"Actor=Rebecca Romijn<br>Season=%{x}<br>Number of lines=%{y}\", \"legendgroup\": \"Actor=Rebecca Romijn\", \"marker\": {\"color\": \"#FF6692\"}, \"name\": \"Actor=Rebecca Romijn\", \"offsetgroup\": \"Actor=Rebecca Romijn\", \"orientation\": \"v\", \"showlegend\": true, \"textposition\": \"auto\", \"type\": \"bar\", \"x\": [4], \"xaxis\": \"x\", \"y\": [17], \"yaxis\": \"y\"}, {\"alignmentgroup\": \"True\", \"hoverlabel\": {\"namelength\": 0}, \"hovertemplate\": \"Actor=Reese Witherspoon<br>Season=%{x}<br>Number of lines=%{y}\", \"legendgroup\": \"Actor=Reese Witherspoon\", \"marker\": {\"color\": \"#B6E880\"}, \"name\": \"Actor=Reese Witherspoon\", \"offsetgroup\": \"Actor=Reese Witherspoon\", \"orientation\": \"v\", \"showlegend\": true, \"textposition\": \"auto\", \"type\": \"bar\", \"x\": [6], \"xaxis\": \"x\", \"y\": [67], \"yaxis\": \"y\"}, {\"alignmentgroup\": \"True\", \"hoverlabel\": {\"namelength\": 0}, \"hovertemplate\": \"Actor=Robin Williams<br>Season=%{x}<br>Number of lines=%{y}\", \"legendgroup\": \"Actor=Robin Williams\", \"marker\": {\"color\": \"#FF97FF\"}, \"name\": \"Actor=Robin Williams\", \"offsetgroup\": \"Actor=Robin Williams\", \"orientation\": \"v\", \"showlegend\": true, \"textposition\": \"auto\", \"type\": \"bar\", \"x\": [3], \"xaxis\": \"x\", \"y\": [11], \"yaxis\": \"y\"}, {\"alignmentgroup\": \"True\", \"hoverlabel\": {\"namelength\": 0}, \"hovertemplate\": \"Actor=Sarah \\\"Fergie\\\" Ferguson<br>Season=%{x}<br>Number of lines=%{y}\", \"legendgroup\": \"Actor=Sarah \\\"Fergie\\\" Ferguson\", \"marker\": {\"color\": \"#FECB52\"}, \"name\": \"Actor=Sarah \\\"Fergie\\\" Ferguson\", \"offsetgroup\": \"Actor=Sarah \\\"Fergie\\\" Ferguson\", \"orientation\": \"v\", \"showlegend\": true, \"textposition\": \"auto\", \"type\": \"bar\", \"x\": [4], \"xaxis\": \"x\", \"y\": [3], \"yaxis\": \"y\"}, {\"alignmentgroup\": \"True\", \"hoverlabel\": {\"namelength\": 0}, \"hovertemplate\": \"Actor=Sean Penn<br>Season=%{x}<br>Number of lines=%{y}\", \"legendgroup\": \"Actor=Sean Penn\", \"marker\": {\"color\": \"#636efa\"}, \"name\": \"Actor=Sean Penn\", \"offsetgroup\": \"Actor=Sean Penn\", \"orientation\": \"v\", \"showlegend\": true, \"textposition\": \"auto\", \"type\": \"bar\", \"x\": [8], \"xaxis\": \"x\", \"y\": [62], \"yaxis\": \"y\"}, {\"alignmentgroup\": \"True\", \"hoverlabel\": {\"namelength\": 0}, \"hovertemplate\": \"Actor=Selma Blair<br>Season=%{x}<br>Number of lines=%{y}\", \"legendgroup\": \"Actor=Selma Blair\", \"marker\": {\"color\": \"#EF553B\"}, \"name\": \"Actor=Selma Blair\", \"offsetgroup\": \"Actor=Selma Blair\", \"orientation\": \"v\", \"showlegend\": true, \"textposition\": \"auto\", \"type\": \"bar\", \"x\": [9], \"xaxis\": \"x\", \"y\": [15], \"yaxis\": \"y\"}, {\"alignmentgroup\": \"True\", \"hoverlabel\": {\"namelength\": 0}, \"hovertemplate\": \"Actor=Soleil Moon Frye<br>Season=%{x}<br>Number of lines=%{y}\", \"legendgroup\": \"Actor=Soleil Moon Frye\", \"marker\": {\"color\": \"#00cc96\"}, \"name\": \"Actor=Soleil Moon Frye\", \"offsetgroup\": \"Actor=Soleil Moon Frye\", \"orientation\": \"v\", \"showlegend\": true, \"textposition\": \"auto\", \"type\": \"bar\", \"x\": [5], \"xaxis\": \"x\", \"y\": [15], \"yaxis\": \"y\"}, {\"alignmentgroup\": \"True\", \"hoverlabel\": {\"namelength\": 0}, \"hovertemplate\": \"Actor=Susan Sarandon<br>Season=%{x}<br>Number of lines=%{y}\", \"legendgroup\": \"Actor=Susan Sarandon\", \"marker\": {\"color\": \"#ab63fa\"}, \"name\": \"Actor=Susan Sarandon\", \"offsetgroup\": \"Actor=Susan Sarandon\", \"orientation\": \"v\", \"showlegend\": true, \"textposition\": \"auto\", \"type\": \"bar\", \"x\": [7], \"xaxis\": \"x\", \"y\": [53], \"yaxis\": \"y\"}, {\"alignmentgroup\": \"True\", \"hoverlabel\": {\"namelength\": 0}, \"hovertemplate\": \"Actor=Tom Selleck<br>Season=%{x}<br>Number of lines=%{y}\", \"legendgroup\": \"Actor=Tom Selleck\", \"marker\": {\"color\": \"#FFA15A\"}, \"name\": \"Actor=Tom Selleck\", \"offsetgroup\": \"Actor=Tom Selleck\", \"orientation\": \"v\", \"showlegend\": true, \"textposition\": \"auto\", \"type\": \"bar\", \"x\": [2, 3, 6], \"xaxis\": \"x\", \"y\": [128, 43, 50], \"yaxis\": \"y\"}, {\"alignmentgroup\": \"True\", \"hoverlabel\": {\"namelength\": 0}, \"hovertemplate\": \"Actor=Winona Ryder<br>Season=%{x}<br>Number of lines=%{y}\", \"legendgroup\": \"Actor=Winona Ryder\", \"marker\": {\"color\": \"#19d3f3\"}, \"name\": \"Actor=Winona Ryder\", \"offsetgroup\": \"Actor=Winona Ryder\", \"orientation\": \"v\", \"showlegend\": true, \"textposition\": \"auto\", \"type\": \"bar\", \"x\": [7], \"xaxis\": \"x\", \"y\": [27], \"yaxis\": \"y\"}],\n",
              "                        {\"barmode\": \"relative\", \"legend\": {\"tracegroupgap\": 0}, \"margin\": {\"t\": 60}, \"template\": {\"data\": {\"bar\": [{\"error_x\": {\"color\": \"#2a3f5f\"}, \"error_y\": {\"color\": \"#2a3f5f\"}, \"marker\": {\"line\": {\"color\": \"#E5ECF6\", \"width\": 0.5}}, \"type\": \"bar\"}], \"barpolar\": [{\"marker\": {\"line\": {\"color\": \"#E5ECF6\", \"width\": 0.5}}, \"type\": \"barpolar\"}], \"carpet\": [{\"aaxis\": {\"endlinecolor\": \"#2a3f5f\", \"gridcolor\": \"white\", \"linecolor\": \"white\", \"minorgridcolor\": \"white\", \"startlinecolor\": \"#2a3f5f\"}, \"baxis\": {\"endlinecolor\": \"#2a3f5f\", \"gridcolor\": \"white\", \"linecolor\": \"white\", \"minorgridcolor\": \"white\", \"startlinecolor\": \"#2a3f5f\"}, \"type\": \"carpet\"}], \"choropleth\": [{\"colorbar\": {\"outlinewidth\": 0, \"ticks\": \"\"}, \"type\": \"choropleth\"}], \"contour\": [{\"colorbar\": {\"outlinewidth\": 0, \"ticks\": \"\"}, \"colorscale\": [[0.0, \"#0d0887\"], [0.1111111111111111, \"#46039f\"], [0.2222222222222222, \"#7201a8\"], [0.3333333333333333, \"#9c179e\"], [0.4444444444444444, \"#bd3786\"], [0.5555555555555556, \"#d8576b\"], [0.6666666666666666, \"#ed7953\"], [0.7777777777777778, \"#fb9f3a\"], [0.8888888888888888, \"#fdca26\"], [1.0, \"#f0f921\"]], \"type\": \"contour\"}], \"contourcarpet\": [{\"colorbar\": {\"outlinewidth\": 0, \"ticks\": \"\"}, \"type\": \"contourcarpet\"}], \"heatmap\": [{\"colorbar\": {\"outlinewidth\": 0, \"ticks\": \"\"}, \"colorscale\": [[0.0, \"#0d0887\"], [0.1111111111111111, \"#46039f\"], [0.2222222222222222, \"#7201a8\"], [0.3333333333333333, \"#9c179e\"], [0.4444444444444444, \"#bd3786\"], [0.5555555555555556, \"#d8576b\"], [0.6666666666666666, \"#ed7953\"], [0.7777777777777778, \"#fb9f3a\"], [0.8888888888888888, \"#fdca26\"], [1.0, \"#f0f921\"]], \"type\": \"heatmap\"}], \"heatmapgl\": [{\"colorbar\": {\"outlinewidth\": 0, \"ticks\": \"\"}, \"colorscale\": [[0.0, \"#0d0887\"], [0.1111111111111111, \"#46039f\"], [0.2222222222222222, \"#7201a8\"], [0.3333333333333333, \"#9c179e\"], [0.4444444444444444, \"#bd3786\"], [0.5555555555555556, \"#d8576b\"], [0.6666666666666666, \"#ed7953\"], [0.7777777777777778, \"#fb9f3a\"], [0.8888888888888888, \"#fdca26\"], [1.0, \"#f0f921\"]], \"type\": \"heatmapgl\"}], \"histogram\": [{\"marker\": {\"colorbar\": {\"outlinewidth\": 0, \"ticks\": \"\"}}, \"type\": \"histogram\"}], \"histogram2d\": [{\"colorbar\": {\"outlinewidth\": 0, \"ticks\": \"\"}, \"colorscale\": [[0.0, \"#0d0887\"], [0.1111111111111111, \"#46039f\"], [0.2222222222222222, \"#7201a8\"], [0.3333333333333333, \"#9c179e\"], [0.4444444444444444, \"#bd3786\"], [0.5555555555555556, \"#d8576b\"], [0.6666666666666666, \"#ed7953\"], [0.7777777777777778, \"#fb9f3a\"], [0.8888888888888888, \"#fdca26\"], [1.0, \"#f0f921\"]], \"type\": \"histogram2d\"}], \"histogram2dcontour\": [{\"colorbar\": {\"outlinewidth\": 0, \"ticks\": \"\"}, \"colorscale\": [[0.0, \"#0d0887\"], [0.1111111111111111, \"#46039f\"], [0.2222222222222222, \"#7201a8\"], [0.3333333333333333, \"#9c179e\"], [0.4444444444444444, \"#bd3786\"], [0.5555555555555556, \"#d8576b\"], [0.6666666666666666, \"#ed7953\"], [0.7777777777777778, \"#fb9f3a\"], [0.8888888888888888, \"#fdca26\"], [1.0, \"#f0f921\"]], \"type\": \"histogram2dcontour\"}], \"mesh3d\": [{\"colorbar\": {\"outlinewidth\": 0, \"ticks\": \"\"}, \"type\": \"mesh3d\"}], \"parcoords\": [{\"line\": {\"colorbar\": {\"outlinewidth\": 0, \"ticks\": \"\"}}, \"type\": \"parcoords\"}], \"pie\": [{\"automargin\": true, \"type\": \"pie\"}], \"scatter\": [{\"marker\": {\"colorbar\": {\"outlinewidth\": 0, \"ticks\": \"\"}}, \"type\": \"scatter\"}], \"scatter3d\": [{\"line\": {\"colorbar\": {\"outlinewidth\": 0, \"ticks\": \"\"}}, \"marker\": {\"colorbar\": {\"outlinewidth\": 0, \"ticks\": \"\"}}, \"type\": \"scatter3d\"}], \"scattercarpet\": [{\"marker\": {\"colorbar\": {\"outlinewidth\": 0, \"ticks\": \"\"}}, \"type\": \"scattercarpet\"}], \"scattergeo\": [{\"marker\": {\"colorbar\": {\"outlinewidth\": 0, \"ticks\": \"\"}}, \"type\": \"scattergeo\"}], \"scattergl\": [{\"marker\": {\"colorbar\": {\"outlinewidth\": 0, \"ticks\": \"\"}}, \"type\": \"scattergl\"}], \"scattermapbox\": [{\"marker\": {\"colorbar\": {\"outlinewidth\": 0, \"ticks\": \"\"}}, \"type\": \"scattermapbox\"}], \"scatterpolar\": [{\"marker\": {\"colorbar\": {\"outlinewidth\": 0, \"ticks\": \"\"}}, \"type\": \"scatterpolar\"}], \"scatterpolargl\": [{\"marker\": {\"colorbar\": {\"outlinewidth\": 0, \"ticks\": \"\"}}, \"type\": \"scatterpolargl\"}], \"scatterternary\": [{\"marker\": {\"colorbar\": {\"outlinewidth\": 0, \"ticks\": \"\"}}, \"type\": \"scatterternary\"}], \"surface\": [{\"colorbar\": {\"outlinewidth\": 0, \"ticks\": \"\"}, \"colorscale\": [[0.0, \"#0d0887\"], [0.1111111111111111, \"#46039f\"], [0.2222222222222222, \"#7201a8\"], [0.3333333333333333, \"#9c179e\"], [0.4444444444444444, \"#bd3786\"], [0.5555555555555556, \"#d8576b\"], [0.6666666666666666, \"#ed7953\"], [0.7777777777777778, \"#fb9f3a\"], [0.8888888888888888, \"#fdca26\"], [1.0, \"#f0f921\"]], \"type\": \"surface\"}], \"table\": [{\"cells\": {\"fill\": {\"color\": \"#EBF0F8\"}, \"line\": {\"color\": \"white\"}}, \"header\": {\"fill\": {\"color\": \"#C8D4E3\"}, \"line\": {\"color\": \"white\"}}, \"type\": \"table\"}]}, \"layout\": {\"annotationdefaults\": {\"arrowcolor\": \"#2a3f5f\", \"arrowhead\": 0, \"arrowwidth\": 1}, \"coloraxis\": {\"colorbar\": {\"outlinewidth\": 0, \"ticks\": \"\"}}, \"colorscale\": {\"diverging\": [[0, \"#8e0152\"], [0.1, \"#c51b7d\"], [0.2, \"#de77ae\"], [0.3, \"#f1b6da\"], [0.4, \"#fde0ef\"], [0.5, \"#f7f7f7\"], [0.6, \"#e6f5d0\"], [0.7, \"#b8e186\"], [0.8, \"#7fbc41\"], [0.9, \"#4d9221\"], [1, \"#276419\"]], \"sequential\": [[0.0, \"#0d0887\"], [0.1111111111111111, \"#46039f\"], [0.2222222222222222, \"#7201a8\"], [0.3333333333333333, \"#9c179e\"], [0.4444444444444444, \"#bd3786\"], [0.5555555555555556, \"#d8576b\"], [0.6666666666666666, \"#ed7953\"], [0.7777777777777778, \"#fb9f3a\"], [0.8888888888888888, \"#fdca26\"], [1.0, \"#f0f921\"]], \"sequentialminus\": [[0.0, \"#0d0887\"], [0.1111111111111111, \"#46039f\"], [0.2222222222222222, \"#7201a8\"], [0.3333333333333333, \"#9c179e\"], [0.4444444444444444, \"#bd3786\"], [0.5555555555555556, \"#d8576b\"], [0.6666666666666666, \"#ed7953\"], [0.7777777777777778, \"#fb9f3a\"], [0.8888888888888888, \"#fdca26\"], [1.0, \"#f0f921\"]]}, \"colorway\": [\"#636efa\", \"#EF553B\", \"#00cc96\", \"#ab63fa\", \"#FFA15A\", \"#19d3f3\", \"#FF6692\", \"#B6E880\", \"#FF97FF\", \"#FECB52\"], \"font\": {\"color\": \"#2a3f5f\"}, \"geo\": {\"bgcolor\": \"white\", \"lakecolor\": \"white\", \"landcolor\": \"#E5ECF6\", \"showlakes\": true, \"showland\": true, \"subunitcolor\": \"white\"}, \"hoverlabel\": {\"align\": \"left\"}, \"hovermode\": \"closest\", \"mapbox\": {\"style\": \"light\"}, \"paper_bgcolor\": \"white\", \"plot_bgcolor\": \"#E5ECF6\", \"polar\": {\"angularaxis\": {\"gridcolor\": \"white\", \"linecolor\": \"white\", \"ticks\": \"\"}, \"bgcolor\": \"#E5ECF6\", \"radialaxis\": {\"gridcolor\": \"white\", \"linecolor\": \"white\", \"ticks\": \"\"}}, \"scene\": {\"xaxis\": {\"backgroundcolor\": \"#E5ECF6\", \"gridcolor\": \"white\", \"gridwidth\": 2, \"linecolor\": \"white\", \"showbackground\": true, \"ticks\": \"\", \"zerolinecolor\": \"white\"}, \"yaxis\": {\"backgroundcolor\": \"#E5ECF6\", \"gridcolor\": \"white\", \"gridwidth\": 2, \"linecolor\": \"white\", \"showbackground\": true, \"ticks\": \"\", \"zerolinecolor\": \"white\"}, \"zaxis\": {\"backgroundcolor\": \"#E5ECF6\", \"gridcolor\": \"white\", \"gridwidth\": 2, \"linecolor\": \"white\", \"showbackground\": true, \"ticks\": \"\", \"zerolinecolor\": \"white\"}}, \"shapedefaults\": {\"line\": {\"color\": \"#2a3f5f\"}}, \"ternary\": {\"aaxis\": {\"gridcolor\": \"white\", \"linecolor\": \"white\", \"ticks\": \"\"}, \"baxis\": {\"gridcolor\": \"white\", \"linecolor\": \"white\", \"ticks\": \"\"}, \"bgcolor\": \"#E5ECF6\", \"caxis\": {\"gridcolor\": \"white\", \"linecolor\": \"white\", \"ticks\": \"\"}}, \"title\": {\"x\": 0.05}, \"xaxis\": {\"automargin\": true, \"gridcolor\": \"white\", \"linecolor\": \"white\", \"ticks\": \"\", \"title\": {\"standoff\": 15}, \"zerolinecolor\": \"white\", \"zerolinewidth\": 2}, \"yaxis\": {\"automargin\": true, \"gridcolor\": \"white\", \"linecolor\": \"white\", \"ticks\": \"\", \"title\": {\"standoff\": 15}, \"zerolinecolor\": \"white\", \"zerolinewidth\": 2}}}, \"xaxis\": {\"anchor\": \"y\", \"domain\": [0.0, 1.0], \"title\": {\"text\": \"Season\"}}, \"yaxis\": {\"anchor\": \"x\", \"domain\": [0.0, 1.0], \"title\": {\"text\": \"Number of lines\"}}},\n",
              "                        {\"responsive\": true}\n",
              "                    ).then(function(){\n",
              "                            \n",
              "var gd = document.getElementById('932272a7-c4de-4ea5-86c8-768d2860df65');\n",
              "var x = new MutationObserver(function (mutations, observer) {{\n",
              "        var display = window.getComputedStyle(gd).display;\n",
              "        if (!display || display === 'none') {{\n",
              "            console.log([gd, 'removed!']);\n",
              "            Plotly.purge(gd);\n",
              "            observer.disconnect();\n",
              "        }}\n",
              "}});\n",
              "\n",
              "// Listen for the removal of the full notebook cells\n",
              "var notebookContainer = gd.closest('#notebook-container');\n",
              "if (notebookContainer) {{\n",
              "    x.observe(notebookContainer, {childList: true});\n",
              "}}\n",
              "\n",
              "// Listen for the clearing of the current output cell\n",
              "var outputEl = gd.closest('.output');\n",
              "if (outputEl) {{\n",
              "    x.observe(outputEl, {childList: true});\n",
              "}}\n",
              "\n",
              "                        })\n",
              "                };\n",
              "                \n",
              "            </script>\n",
              "        </div>\n",
              "</body>\n",
              "</html>"
            ]
          },
          "metadata": {
            "tags": []
          }
        }
      ]
    },
    {
      "cell_type": "markdown",
      "metadata": {
        "id": "vnyk9yWEq2YB"
      },
      "source": [
        "####Code"
      ]
    },
    {
      "cell_type": "code",
      "metadata": {
        "id": "RYmodwt5YzA-"
      },
      "source": [
        "main_characters = [\"Ross\", \"Joey\",\"Chandler\",\"Phoebe\",\"Rachel\",\"Monica\"]"
      ],
      "execution_count": 21,
      "outputs": []
    },
    {
      "cell_type": "code",
      "metadata": {
        "id": "WxhUimDIYzA-"
      },
      "source": [
        "friends2= friends[friends.author.isin(main_characters)].drop(columns=['episode_number', 'episode_title', \"quote_order\"]).reset_index(drop = True)"
      ],
      "execution_count": 22,
      "outputs": []
    },
    {
      "cell_type": "code",
      "metadata": {
        "id": "pl1yWBz9YzA-"
      },
      "source": [
        "friends2[\"quote\"] = friends2[\"quote\"].str.replace(\"\\(([^)]+)\\)\",\"\").str.strip().str.lower().str.split(\"[.|!|?]\", expand = False)"
      ],
      "execution_count": 23,
      "outputs": []
    },
    {
      "cell_type": "code",
      "metadata": {
        "id": "JGHGRUFEYzA_"
      },
      "source": [
        "friends2 = friends2.explode(\"quote\")"
      ],
      "execution_count": 24,
      "outputs": []
    },
    {
      "cell_type": "code",
      "metadata": {
        "id": "0b9Eph_VYzA_"
      },
      "source": [
        "friends2.reset_index(drop = True, inplace = True)"
      ],
      "execution_count": 25,
      "outputs": []
    },
    {
      "cell_type": "code",
      "metadata": {
        "id": "I6lG74mBYzA_"
      },
      "source": [
        "scene = friends2[friends2[\"quote\"].str.contains(\"scene:\")].index.to_list()"
      ],
      "execution_count": 26,
      "outputs": []
    },
    {
      "cell_type": "code",
      "metadata": {
        "id": "rbLjxVuNYzBA"
      },
      "source": [
        "friends2 = friends2.drop(friends2.index[scene])"
      ],
      "execution_count": 27,
      "outputs": []
    },
    {
      "cell_type": "code",
      "metadata": {
        "id": "DiS9RSGyYzBA"
      },
      "source": [
        "friends2[\"quote\"] = friends2[\"quote\"].str.replace(\"[^a-zA-Z' ]\",\"\")"
      ],
      "execution_count": 28,
      "outputs": []
    },
    {
      "cell_type": "code",
      "metadata": {
        "id": "sh808VZVYzBA"
      },
      "source": [
        "friends2.reset_index(drop = True, inplace = True)"
      ],
      "execution_count": 29,
      "outputs": []
    },
    {
      "cell_type": "code",
      "metadata": {
        "id": "y1AHPdxlYzBB"
      },
      "source": [
        "indexes = [] #eliminamos celdas vacías\n",
        "for i in range(len(friends2[\"quote\"])):\n",
        "    if len(friends2[\"quote\"][i]) == 0:\n",
        "        indexes.append(i)"
      ],
      "execution_count": 30,
      "outputs": []
    },
    {
      "cell_type": "code",
      "metadata": {
        "id": "utOf823XYzBB"
      },
      "source": [
        "friends2 = friends2.drop(friends2.index[indexes]).reset_index(drop = True)"
      ],
      "execution_count": 31,
      "outputs": []
    },
    {
      "cell_type": "code",
      "metadata": {
        "id": "Wdl5irrtYzBB"
      },
      "source": [
        "friends2[\"quote\"] = friends2[\"quote\"].str.strip().str.replace(\"'\\s\",\"\").str.replace(\"'cause\",\"because\").str.replace(\"you know\",\"y'know\").str.replace(\"you are\",\"you're\").str.replace(\"come on\",\"c'mon\").str.replace(\"'kay\",\"okay\").str.replace(\"'em\",\"them\").str.replace(\"doin'\",\"doing\").str.replace(\"(ya)\",\"you\").str.replace(\"lemme\",\"let me\").str.replace(\"gonna\", \"going to\").str.replace(\"'\", \"\")"
      ],
      "execution_count": 32,
      "outputs": []
    },
    {
      "cell_type": "code",
      "metadata": {
        "id": "vaBBncH7YzBB"
      },
      "source": [
        "def polarity(x):\n",
        "    return TextBlob(x).polarity"
      ],
      "execution_count": 33,
      "outputs": []
    },
    {
      "cell_type": "code",
      "metadata": {
        "id": "fOZUgk18YzBC"
      },
      "source": [
        "def sentiment_analysis(x):\n",
        "    if x > 0.5: \n",
        "        x = \"Positive\"\n",
        "    elif x < -0.5:\n",
        "        x = \"Negative\"\n",
        "    else:\n",
        "        x = \"Neutral\"\n",
        "    return x\n",
        "#Less than 0 denotes Negative, I prefer to set < - 0.5\n",
        "#Equal to 0  denotes Neutral\n",
        "#Greater than 0 denotes Positive, I prefer to set > 0.5"
      ],
      "execution_count": 34,
      "outputs": []
    },
    {
      "cell_type": "code",
      "metadata": {
        "colab": {
          "base_uri": "https://localhost:8080/"
        },
        "id": "qD7FHsvkYzBC",
        "outputId": "d36af21a-0ca2-4040-fbc0-52e11ea8fc61"
      },
      "source": [
        "#min_df ignore terms that have a document frequency strictly lower than the given threshold.\n",
        "vectorizer = CountVectorizer(min_df = 0.0002, ngram_range =(1,1))\n",
        "matrix = vectorizer.fit_transform(friends2[\"quote\"])\n",
        "matrix"
      ],
      "execution_count": 35,
      "outputs": [
        {
          "output_type": "execute_result",
          "data": {
            "text/plain": [
              "<88531x1625 sparse matrix of type '<class 'numpy.int64'>'\n",
              "\twith 424199 stored elements in Compressed Sparse Row format>"
            ]
          },
          "metadata": {
            "tags": []
          },
          "execution_count": 35
        }
      ]
    },
    {
      "cell_type": "code",
      "metadata": {
        "colab": {
          "base_uri": "https://localhost:8080/"
        },
        "id": "Emss3dCNYzBD",
        "outputId": "40f67841-f951-46c2-cc96-e8eb519f8393"
      },
      "source": [
        "matrix.shape"
      ],
      "execution_count": 36,
      "outputs": [
        {
          "output_type": "execute_result",
          "data": {
            "text/plain": [
              "(88531, 1625)"
            ]
          },
          "metadata": {
            "tags": []
          },
          "execution_count": 36
        }
      ]
    },
    {
      "cell_type": "code",
      "metadata": {
        "id": "QFjdkbahYzBD"
      },
      "source": [
        "y = friends2.iloc[:, 0].values"
      ],
      "execution_count": 37,
      "outputs": []
    },
    {
      "cell_type": "code",
      "metadata": {
        "id": "CH1oPMUNYzBD"
      },
      "source": [
        "counts = pd.DataFrame(matrix.toarray(),index = list(y),\n",
        "                      columns=vectorizer.get_feature_names())"
      ],
      "execution_count": 38,
      "outputs": []
    },
    {
      "cell_type": "code",
      "metadata": {
        "colab": {
          "base_uri": "https://localhost:8080/",
          "height": 252
        },
        "id": "tFaDmLhOYzBD",
        "outputId": "2159babb-19c1-4b06-c911-12619595a8ee"
      },
      "source": [
        "counts.head()"
      ],
      "execution_count": 39,
      "outputs": [
        {
          "output_type": "execute_result",
          "data": {
            "text/html": [
              "<div>\n",
              "<style scoped>\n",
              "    .dataframe tbody tr th:only-of-type {\n",
              "        vertical-align: middle;\n",
              "    }\n",
              "\n",
              "    .dataframe tbody tr th {\n",
              "        vertical-align: top;\n",
              "    }\n",
              "\n",
              "    .dataframe thead th {\n",
              "        text-align: right;\n",
              "    }\n",
              "</style>\n",
              "<table border=\"1\" class=\"dataframe\">\n",
              "  <thead>\n",
              "    <tr style=\"text-align: right;\">\n",
              "      <th></th>\n",
              "      <th>able</th>\n",
              "      <th>about</th>\n",
              "      <th>absolutely</th>\n",
              "      <th>accent</th>\n",
              "      <th>accept</th>\n",
              "      <th>accident</th>\n",
              "      <th>across</th>\n",
              "      <th>act</th>\n",
              "      <th>acting</th>\n",
              "      <th>actor</th>\n",
              "      <th>actual</th>\n",
              "      <th>actually</th>\n",
              "      <th>admit</th>\n",
              "      <th>advice</th>\n",
              "      <th>afraid</th>\n",
              "      <th>after</th>\n",
              "      <th>afternoon</th>\n",
              "      <th>again</th>\n",
              "      <th>against</th>\n",
              "      <th>age</th>\n",
              "      <th>agent</th>\n",
              "      <th>ago</th>\n",
              "      <th>agreed</th>\n",
              "      <th>ah</th>\n",
              "      <th>ahead</th>\n",
              "      <th>ahh</th>\n",
              "      <th>ahhh</th>\n",
              "      <th>air</th>\n",
              "      <th>airport</th>\n",
              "      <th>alive</th>\n",
              "      <th>all</th>\n",
              "      <th>allowed</th>\n",
              "      <th>almost</th>\n",
              "      <th>alone</th>\n",
              "      <th>along</th>\n",
              "      <th>already</th>\n",
              "      <th>alright</th>\n",
              "      <th>also</th>\n",
              "      <th>although</th>\n",
              "      <th>always</th>\n",
              "      <th>...</th>\n",
              "      <th>worked</th>\n",
              "      <th>working</th>\n",
              "      <th>works</th>\n",
              "      <th>world</th>\n",
              "      <th>worried</th>\n",
              "      <th>worry</th>\n",
              "      <th>worse</th>\n",
              "      <th>worst</th>\n",
              "      <th>worth</th>\n",
              "      <th>would</th>\n",
              "      <th>wouldnt</th>\n",
              "      <th>wouldve</th>\n",
              "      <th>wow</th>\n",
              "      <th>write</th>\n",
              "      <th>writing</th>\n",
              "      <th>wrong</th>\n",
              "      <th>wrote</th>\n",
              "      <th>yeah</th>\n",
              "      <th>yeahyeah</th>\n",
              "      <th>year</th>\n",
              "      <th>years</th>\n",
              "      <th>yelling</th>\n",
              "      <th>yep</th>\n",
              "      <th>yes</th>\n",
              "      <th>yesterday</th>\n",
              "      <th>yet</th>\n",
              "      <th>yknow</th>\n",
              "      <th>york</th>\n",
              "      <th>you</th>\n",
              "      <th>youd</th>\n",
              "      <th>youll</th>\n",
              "      <th>young</th>\n",
              "      <th>your</th>\n",
              "      <th>youre</th>\n",
              "      <th>youreyoure</th>\n",
              "      <th>yours</th>\n",
              "      <th>yourself</th>\n",
              "      <th>youve</th>\n",
              "      <th>youy</th>\n",
              "      <th>youyou</th>\n",
              "    </tr>\n",
              "  </thead>\n",
              "  <tbody>\n",
              "    <tr>\n",
              "      <th>Monica</th>\n",
              "      <td>0</td>\n",
              "      <td>0</td>\n",
              "      <td>0</td>\n",
              "      <td>0</td>\n",
              "      <td>0</td>\n",
              "      <td>0</td>\n",
              "      <td>0</td>\n",
              "      <td>0</td>\n",
              "      <td>0</td>\n",
              "      <td>0</td>\n",
              "      <td>0</td>\n",
              "      <td>0</td>\n",
              "      <td>0</td>\n",
              "      <td>0</td>\n",
              "      <td>0</td>\n",
              "      <td>0</td>\n",
              "      <td>0</td>\n",
              "      <td>0</td>\n",
              "      <td>0</td>\n",
              "      <td>0</td>\n",
              "      <td>0</td>\n",
              "      <td>0</td>\n",
              "      <td>0</td>\n",
              "      <td>0</td>\n",
              "      <td>0</td>\n",
              "      <td>0</td>\n",
              "      <td>0</td>\n",
              "      <td>0</td>\n",
              "      <td>0</td>\n",
              "      <td>0</td>\n",
              "      <td>0</td>\n",
              "      <td>0</td>\n",
              "      <td>0</td>\n",
              "      <td>0</td>\n",
              "      <td>0</td>\n",
              "      <td>0</td>\n",
              "      <td>0</td>\n",
              "      <td>0</td>\n",
              "      <td>0</td>\n",
              "      <td>0</td>\n",
              "      <td>...</td>\n",
              "      <td>0</td>\n",
              "      <td>0</td>\n",
              "      <td>0</td>\n",
              "      <td>0</td>\n",
              "      <td>0</td>\n",
              "      <td>0</td>\n",
              "      <td>0</td>\n",
              "      <td>0</td>\n",
              "      <td>0</td>\n",
              "      <td>0</td>\n",
              "      <td>0</td>\n",
              "      <td>0</td>\n",
              "      <td>0</td>\n",
              "      <td>0</td>\n",
              "      <td>0</td>\n",
              "      <td>0</td>\n",
              "      <td>0</td>\n",
              "      <td>0</td>\n",
              "      <td>0</td>\n",
              "      <td>0</td>\n",
              "      <td>0</td>\n",
              "      <td>0</td>\n",
              "      <td>0</td>\n",
              "      <td>0</td>\n",
              "      <td>0</td>\n",
              "      <td>0</td>\n",
              "      <td>0</td>\n",
              "      <td>0</td>\n",
              "      <td>0</td>\n",
              "      <td>0</td>\n",
              "      <td>0</td>\n",
              "      <td>0</td>\n",
              "      <td>0</td>\n",
              "      <td>0</td>\n",
              "      <td>0</td>\n",
              "      <td>0</td>\n",
              "      <td>0</td>\n",
              "      <td>0</td>\n",
              "      <td>0</td>\n",
              "      <td>0</td>\n",
              "    </tr>\n",
              "    <tr>\n",
              "      <th>Monica</th>\n",
              "      <td>0</td>\n",
              "      <td>0</td>\n",
              "      <td>0</td>\n",
              "      <td>0</td>\n",
              "      <td>0</td>\n",
              "      <td>0</td>\n",
              "      <td>0</td>\n",
              "      <td>0</td>\n",
              "      <td>0</td>\n",
              "      <td>0</td>\n",
              "      <td>0</td>\n",
              "      <td>0</td>\n",
              "      <td>0</td>\n",
              "      <td>0</td>\n",
              "      <td>0</td>\n",
              "      <td>0</td>\n",
              "      <td>0</td>\n",
              "      <td>0</td>\n",
              "      <td>0</td>\n",
              "      <td>0</td>\n",
              "      <td>0</td>\n",
              "      <td>0</td>\n",
              "      <td>0</td>\n",
              "      <td>0</td>\n",
              "      <td>0</td>\n",
              "      <td>0</td>\n",
              "      <td>0</td>\n",
              "      <td>0</td>\n",
              "      <td>0</td>\n",
              "      <td>0</td>\n",
              "      <td>0</td>\n",
              "      <td>0</td>\n",
              "      <td>0</td>\n",
              "      <td>0</td>\n",
              "      <td>0</td>\n",
              "      <td>0</td>\n",
              "      <td>0</td>\n",
              "      <td>0</td>\n",
              "      <td>0</td>\n",
              "      <td>0</td>\n",
              "      <td>...</td>\n",
              "      <td>0</td>\n",
              "      <td>0</td>\n",
              "      <td>0</td>\n",
              "      <td>0</td>\n",
              "      <td>0</td>\n",
              "      <td>0</td>\n",
              "      <td>0</td>\n",
              "      <td>0</td>\n",
              "      <td>0</td>\n",
              "      <td>0</td>\n",
              "      <td>0</td>\n",
              "      <td>0</td>\n",
              "      <td>0</td>\n",
              "      <td>0</td>\n",
              "      <td>0</td>\n",
              "      <td>0</td>\n",
              "      <td>0</td>\n",
              "      <td>0</td>\n",
              "      <td>0</td>\n",
              "      <td>0</td>\n",
              "      <td>0</td>\n",
              "      <td>0</td>\n",
              "      <td>0</td>\n",
              "      <td>0</td>\n",
              "      <td>0</td>\n",
              "      <td>0</td>\n",
              "      <td>0</td>\n",
              "      <td>0</td>\n",
              "      <td>0</td>\n",
              "      <td>0</td>\n",
              "      <td>0</td>\n",
              "      <td>0</td>\n",
              "      <td>0</td>\n",
              "      <td>0</td>\n",
              "      <td>0</td>\n",
              "      <td>0</td>\n",
              "      <td>0</td>\n",
              "      <td>0</td>\n",
              "      <td>0</td>\n",
              "      <td>0</td>\n",
              "    </tr>\n",
              "    <tr>\n",
              "      <th>Joey</th>\n",
              "      <td>0</td>\n",
              "      <td>0</td>\n",
              "      <td>0</td>\n",
              "      <td>0</td>\n",
              "      <td>0</td>\n",
              "      <td>0</td>\n",
              "      <td>0</td>\n",
              "      <td>0</td>\n",
              "      <td>0</td>\n",
              "      <td>0</td>\n",
              "      <td>0</td>\n",
              "      <td>0</td>\n",
              "      <td>0</td>\n",
              "      <td>0</td>\n",
              "      <td>0</td>\n",
              "      <td>0</td>\n",
              "      <td>0</td>\n",
              "      <td>0</td>\n",
              "      <td>0</td>\n",
              "      <td>0</td>\n",
              "      <td>0</td>\n",
              "      <td>0</td>\n",
              "      <td>0</td>\n",
              "      <td>0</td>\n",
              "      <td>0</td>\n",
              "      <td>0</td>\n",
              "      <td>0</td>\n",
              "      <td>0</td>\n",
              "      <td>0</td>\n",
              "      <td>0</td>\n",
              "      <td>0</td>\n",
              "      <td>0</td>\n",
              "      <td>0</td>\n",
              "      <td>0</td>\n",
              "      <td>0</td>\n",
              "      <td>0</td>\n",
              "      <td>0</td>\n",
              "      <td>0</td>\n",
              "      <td>0</td>\n",
              "      <td>0</td>\n",
              "      <td>...</td>\n",
              "      <td>0</td>\n",
              "      <td>0</td>\n",
              "      <td>0</td>\n",
              "      <td>0</td>\n",
              "      <td>0</td>\n",
              "      <td>0</td>\n",
              "      <td>0</td>\n",
              "      <td>0</td>\n",
              "      <td>0</td>\n",
              "      <td>0</td>\n",
              "      <td>0</td>\n",
              "      <td>0</td>\n",
              "      <td>0</td>\n",
              "      <td>0</td>\n",
              "      <td>0</td>\n",
              "      <td>0</td>\n",
              "      <td>0</td>\n",
              "      <td>0</td>\n",
              "      <td>0</td>\n",
              "      <td>0</td>\n",
              "      <td>0</td>\n",
              "      <td>0</td>\n",
              "      <td>0</td>\n",
              "      <td>0</td>\n",
              "      <td>0</td>\n",
              "      <td>0</td>\n",
              "      <td>0</td>\n",
              "      <td>0</td>\n",
              "      <td>0</td>\n",
              "      <td>0</td>\n",
              "      <td>0</td>\n",
              "      <td>0</td>\n",
              "      <td>0</td>\n",
              "      <td>1</td>\n",
              "      <td>0</td>\n",
              "      <td>0</td>\n",
              "      <td>0</td>\n",
              "      <td>0</td>\n",
              "      <td>0</td>\n",
              "      <td>0</td>\n",
              "    </tr>\n",
              "    <tr>\n",
              "      <th>Joey</th>\n",
              "      <td>0</td>\n",
              "      <td>0</td>\n",
              "      <td>0</td>\n",
              "      <td>0</td>\n",
              "      <td>0</td>\n",
              "      <td>0</td>\n",
              "      <td>0</td>\n",
              "      <td>0</td>\n",
              "      <td>0</td>\n",
              "      <td>0</td>\n",
              "      <td>0</td>\n",
              "      <td>0</td>\n",
              "      <td>0</td>\n",
              "      <td>0</td>\n",
              "      <td>0</td>\n",
              "      <td>0</td>\n",
              "      <td>0</td>\n",
              "      <td>0</td>\n",
              "      <td>0</td>\n",
              "      <td>0</td>\n",
              "      <td>0</td>\n",
              "      <td>0</td>\n",
              "      <td>0</td>\n",
              "      <td>0</td>\n",
              "      <td>0</td>\n",
              "      <td>0</td>\n",
              "      <td>0</td>\n",
              "      <td>0</td>\n",
              "      <td>0</td>\n",
              "      <td>0</td>\n",
              "      <td>0</td>\n",
              "      <td>0</td>\n",
              "      <td>0</td>\n",
              "      <td>0</td>\n",
              "      <td>0</td>\n",
              "      <td>0</td>\n",
              "      <td>0</td>\n",
              "      <td>0</td>\n",
              "      <td>0</td>\n",
              "      <td>0</td>\n",
              "      <td>...</td>\n",
              "      <td>0</td>\n",
              "      <td>0</td>\n",
              "      <td>0</td>\n",
              "      <td>0</td>\n",
              "      <td>0</td>\n",
              "      <td>0</td>\n",
              "      <td>0</td>\n",
              "      <td>0</td>\n",
              "      <td>0</td>\n",
              "      <td>0</td>\n",
              "      <td>0</td>\n",
              "      <td>0</td>\n",
              "      <td>0</td>\n",
              "      <td>0</td>\n",
              "      <td>0</td>\n",
              "      <td>1</td>\n",
              "      <td>0</td>\n",
              "      <td>0</td>\n",
              "      <td>0</td>\n",
              "      <td>0</td>\n",
              "      <td>0</td>\n",
              "      <td>0</td>\n",
              "      <td>0</td>\n",
              "      <td>0</td>\n",
              "      <td>0</td>\n",
              "      <td>0</td>\n",
              "      <td>0</td>\n",
              "      <td>0</td>\n",
              "      <td>0</td>\n",
              "      <td>0</td>\n",
              "      <td>0</td>\n",
              "      <td>0</td>\n",
              "      <td>0</td>\n",
              "      <td>0</td>\n",
              "      <td>0</td>\n",
              "      <td>0</td>\n",
              "      <td>0</td>\n",
              "      <td>0</td>\n",
              "      <td>0</td>\n",
              "      <td>0</td>\n",
              "    </tr>\n",
              "    <tr>\n",
              "      <th>Chandler</th>\n",
              "      <td>0</td>\n",
              "      <td>0</td>\n",
              "      <td>0</td>\n",
              "      <td>0</td>\n",
              "      <td>0</td>\n",
              "      <td>0</td>\n",
              "      <td>0</td>\n",
              "      <td>0</td>\n",
              "      <td>0</td>\n",
              "      <td>0</td>\n",
              "      <td>0</td>\n",
              "      <td>0</td>\n",
              "      <td>0</td>\n",
              "      <td>0</td>\n",
              "      <td>0</td>\n",
              "      <td>0</td>\n",
              "      <td>0</td>\n",
              "      <td>0</td>\n",
              "      <td>0</td>\n",
              "      <td>0</td>\n",
              "      <td>0</td>\n",
              "      <td>0</td>\n",
              "      <td>0</td>\n",
              "      <td>0</td>\n",
              "      <td>0</td>\n",
              "      <td>0</td>\n",
              "      <td>0</td>\n",
              "      <td>0</td>\n",
              "      <td>0</td>\n",
              "      <td>0</td>\n",
              "      <td>1</td>\n",
              "      <td>0</td>\n",
              "      <td>0</td>\n",
              "      <td>0</td>\n",
              "      <td>0</td>\n",
              "      <td>0</td>\n",
              "      <td>0</td>\n",
              "      <td>0</td>\n",
              "      <td>0</td>\n",
              "      <td>0</td>\n",
              "      <td>...</td>\n",
              "      <td>0</td>\n",
              "      <td>0</td>\n",
              "      <td>0</td>\n",
              "      <td>0</td>\n",
              "      <td>0</td>\n",
              "      <td>0</td>\n",
              "      <td>0</td>\n",
              "      <td>0</td>\n",
              "      <td>0</td>\n",
              "      <td>0</td>\n",
              "      <td>0</td>\n",
              "      <td>0</td>\n",
              "      <td>0</td>\n",
              "      <td>0</td>\n",
              "      <td>0</td>\n",
              "      <td>0</td>\n",
              "      <td>0</td>\n",
              "      <td>0</td>\n",
              "      <td>0</td>\n",
              "      <td>0</td>\n",
              "      <td>0</td>\n",
              "      <td>0</td>\n",
              "      <td>0</td>\n",
              "      <td>0</td>\n",
              "      <td>0</td>\n",
              "      <td>0</td>\n",
              "      <td>0</td>\n",
              "      <td>0</td>\n",
              "      <td>0</td>\n",
              "      <td>0</td>\n",
              "      <td>0</td>\n",
              "      <td>0</td>\n",
              "      <td>0</td>\n",
              "      <td>0</td>\n",
              "      <td>0</td>\n",
              "      <td>0</td>\n",
              "      <td>0</td>\n",
              "      <td>0</td>\n",
              "      <td>0</td>\n",
              "      <td>0</td>\n",
              "    </tr>\n",
              "  </tbody>\n",
              "</table>\n",
              "<p>5 rows × 1625 columns</p>\n",
              "</div>"
            ],
            "text/plain": [
              "          able  about  absolutely  accent  ...  yourself  youve  youy  youyou\n",
              "Monica       0      0           0       0  ...         0      0     0       0\n",
              "Monica       0      0           0       0  ...         0      0     0       0\n",
              "Joey         0      0           0       0  ...         0      0     0       0\n",
              "Joey         0      0           0       0  ...         0      0     0       0\n",
              "Chandler     0      0           0       0  ...         0      0     0       0\n",
              "\n",
              "[5 rows x 1625 columns]"
            ]
          },
          "metadata": {
            "tags": []
          },
          "execution_count": 39
        }
      ]
    },
    {
      "cell_type": "code",
      "metadata": {
        "id": "uPT2p7itYzBE"
      },
      "source": [
        "counts = counts.groupby(counts.index).sum()"
      ],
      "execution_count": 40,
      "outputs": []
    },
    {
      "cell_type": "code",
      "metadata": {
        "colab": {
          "base_uri": "https://localhost:8080/"
        },
        "id": "VBMSnTRPYzBE",
        "outputId": "ce262927-4d8b-49be-c4d5-bd506fe298ed"
      },
      "source": [
        "counts.T.columns"
      ],
      "execution_count": 41,
      "outputs": [
        {
          "output_type": "execute_result",
          "data": {
            "text/plain": [
              "Index(['Chandler', 'Joey', 'Monica', 'Phoebe', 'Rachel', 'Ross'], dtype='object')"
            ]
          },
          "metadata": {
            "tags": []
          },
          "execution_count": 41
        }
      ]
    },
    {
      "cell_type": "code",
      "metadata": {
        "colab": {
          "base_uri": "https://localhost:8080/",
          "height": 417
        },
        "id": "uq4KBf5dYzBF",
        "outputId": "b21d155d-dfdd-499f-ad5b-040614486aa4"
      },
      "source": [
        "most_spoken_words = counts.T.reset_index()\n",
        "most_spoken_words"
      ],
      "execution_count": 42,
      "outputs": [
        {
          "output_type": "execute_result",
          "data": {
            "text/html": [
              "<div>\n",
              "<style scoped>\n",
              "    .dataframe tbody tr th:only-of-type {\n",
              "        vertical-align: middle;\n",
              "    }\n",
              "\n",
              "    .dataframe tbody tr th {\n",
              "        vertical-align: top;\n",
              "    }\n",
              "\n",
              "    .dataframe thead th {\n",
              "        text-align: right;\n",
              "    }\n",
              "</style>\n",
              "<table border=\"1\" class=\"dataframe\">\n",
              "  <thead>\n",
              "    <tr style=\"text-align: right;\">\n",
              "      <th></th>\n",
              "      <th>index</th>\n",
              "      <th>Chandler</th>\n",
              "      <th>Joey</th>\n",
              "      <th>Monica</th>\n",
              "      <th>Phoebe</th>\n",
              "      <th>Rachel</th>\n",
              "      <th>Ross</th>\n",
              "    </tr>\n",
              "  </thead>\n",
              "  <tbody>\n",
              "    <tr>\n",
              "      <th>0</th>\n",
              "      <td>able</td>\n",
              "      <td>11</td>\n",
              "      <td>10</td>\n",
              "      <td>9</td>\n",
              "      <td>8</td>\n",
              "      <td>11</td>\n",
              "      <td>16</td>\n",
              "    </tr>\n",
              "    <tr>\n",
              "      <th>1</th>\n",
              "      <td>about</td>\n",
              "      <td>339</td>\n",
              "      <td>406</td>\n",
              "      <td>379</td>\n",
              "      <td>319</td>\n",
              "      <td>379</td>\n",
              "      <td>398</td>\n",
              "    </tr>\n",
              "    <tr>\n",
              "      <th>2</th>\n",
              "      <td>absolutely</td>\n",
              "      <td>9</td>\n",
              "      <td>11</td>\n",
              "      <td>17</td>\n",
              "      <td>9</td>\n",
              "      <td>25</td>\n",
              "      <td>11</td>\n",
              "    </tr>\n",
              "    <tr>\n",
              "      <th>3</th>\n",
              "      <td>accent</td>\n",
              "      <td>2</td>\n",
              "      <td>5</td>\n",
              "      <td>4</td>\n",
              "      <td>2</td>\n",
              "      <td>1</td>\n",
              "      <td>5</td>\n",
              "    </tr>\n",
              "    <tr>\n",
              "      <th>4</th>\n",
              "      <td>accept</td>\n",
              "      <td>5</td>\n",
              "      <td>0</td>\n",
              "      <td>4</td>\n",
              "      <td>2</td>\n",
              "      <td>3</td>\n",
              "      <td>7</td>\n",
              "    </tr>\n",
              "    <tr>\n",
              "      <th>...</th>\n",
              "      <td>...</td>\n",
              "      <td>...</td>\n",
              "      <td>...</td>\n",
              "      <td>...</td>\n",
              "      <td>...</td>\n",
              "      <td>...</td>\n",
              "      <td>...</td>\n",
              "    </tr>\n",
              "    <tr>\n",
              "      <th>1620</th>\n",
              "      <td>yours</td>\n",
              "      <td>16</td>\n",
              "      <td>13</td>\n",
              "      <td>14</td>\n",
              "      <td>13</td>\n",
              "      <td>12</td>\n",
              "      <td>12</td>\n",
              "    </tr>\n",
              "    <tr>\n",
              "      <th>1621</th>\n",
              "      <td>yourself</td>\n",
              "      <td>20</td>\n",
              "      <td>16</td>\n",
              "      <td>28</td>\n",
              "      <td>26</td>\n",
              "      <td>20</td>\n",
              "      <td>20</td>\n",
              "    </tr>\n",
              "    <tr>\n",
              "      <th>1622</th>\n",
              "      <td>youve</td>\n",
              "      <td>40</td>\n",
              "      <td>34</td>\n",
              "      <td>40</td>\n",
              "      <td>37</td>\n",
              "      <td>47</td>\n",
              "      <td>45</td>\n",
              "    </tr>\n",
              "    <tr>\n",
              "      <th>1623</th>\n",
              "      <td>youy</td>\n",
              "      <td>3</td>\n",
              "      <td>0</td>\n",
              "      <td>5</td>\n",
              "      <td>29</td>\n",
              "      <td>6</td>\n",
              "      <td>10</td>\n",
              "    </tr>\n",
              "    <tr>\n",
              "      <th>1624</th>\n",
              "      <td>youyou</td>\n",
              "      <td>12</td>\n",
              "      <td>18</td>\n",
              "      <td>18</td>\n",
              "      <td>3</td>\n",
              "      <td>16</td>\n",
              "      <td>37</td>\n",
              "    </tr>\n",
              "  </tbody>\n",
              "</table>\n",
              "<p>1625 rows × 7 columns</p>\n",
              "</div>"
            ],
            "text/plain": [
              "           index  Chandler  Joey  Monica  Phoebe  Rachel  Ross\n",
              "0           able        11    10       9       8      11    16\n",
              "1          about       339   406     379     319     379   398\n",
              "2     absolutely         9    11      17       9      25    11\n",
              "3         accent         2     5       4       2       1     5\n",
              "4         accept         5     0       4       2       3     7\n",
              "...          ...       ...   ...     ...     ...     ...   ...\n",
              "1620       yours        16    13      14      13      12    12\n",
              "1621    yourself        20    16      28      26      20    20\n",
              "1622       youve        40    34      40      37      47    45\n",
              "1623        youy         3     0       5      29       6    10\n",
              "1624      youyou        12    18      18       3      16    37\n",
              "\n",
              "[1625 rows x 7 columns]"
            ]
          },
          "metadata": {
            "tags": []
          },
          "execution_count": 42
        }
      ]
    },
    {
      "cell_type": "code",
      "metadata": {
        "colab": {
          "base_uri": "https://localhost:8080/"
        },
        "id": "66q-cNrrYzBG",
        "outputId": "425d9e5e-42fc-47e6-f9df-b76ce318174b"
      },
      "source": [
        "nltk.download('stopwords')\n",
        "stop_words = stopwords.words('english')"
      ],
      "execution_count": 43,
      "outputs": [
        {
          "output_type": "stream",
          "text": [
            "[nltk_data] Downloading package stopwords to /root/nltk_data...\n",
            "[nltk_data]   Unzipping corpora/stopwords.zip.\n"
          ],
          "name": "stdout"
        }
      ]
    },
    {
      "cell_type": "code",
      "metadata": {
        "id": "UFPv1uL2YzBG"
      },
      "source": [
        "most_spoken_words[\"sentiment\"] = most_spoken_words[\"index\"].apply(polarity).apply(sentiment_analysis)"
      ],
      "execution_count": 44,
      "outputs": []
    },
    {
      "cell_type": "code",
      "metadata": {
        "id": "IPsPOa_rYzBG"
      },
      "source": [
        "most_spoken_words.drop(most_spoken_words[most_spoken_words[\"index\"].isin(stop_words)].index,inplace = True)"
      ],
      "execution_count": 45,
      "outputs": []
    },
    {
      "cell_type": "code",
      "metadata": {
        "id": "FHcm1njOYzBG"
      },
      "source": [
        "most_spoken_words.drop(most_spoken_words[most_spoken_words[\"sentiment\"]==\"Neutral\"].index,inplace = True)"
      ],
      "execution_count": 46,
      "outputs": []
    },
    {
      "cell_type": "code",
      "metadata": {
        "id": "yPQ3nzjSYzBH"
      },
      "source": [
        "most_spoken_words.set_index(['index','sentiment'], inplace = True)"
      ],
      "execution_count": 47,
      "outputs": []
    },
    {
      "cell_type": "markdown",
      "metadata": {
        "id": "K9WN3iVZYzA-"
      },
      "source": [
        "#**¿Quién de los 6 personajes principales es más positivo/negativo?**"
      ]
    },
    {
      "cell_type": "markdown",
      "metadata": {
        "id": "nDXbliVNt0UI"
      },
      "source": [
        "![alt text](https://media.giphy.com/media/31lPv5L3aIvTi/giphy.gif)\n",
        "\n",
        "Image from [Giphy](https://giphy.com/)\n"
      ]
    },
    {
      "cell_type": "code",
      "metadata": {
        "cellView": "form",
        "colab": {
          "base_uri": "https://localhost:8080/",
          "height": 574,
          "referenced_widgets": [
            "b7589023466f439e898c66de1f009365",
            "727734918b7a49c2a19c8f2f9331cf33",
            "92de5d58ab5a4ff19e017bc1bee5f2bd",
            "55d27841ec0d4a0bbf4b9069683fc35e",
            "3ab63eb1b10c494abab8af3851bfb109",
            "316f2209f3644273835edf11b9254b50",
            "49fd4d9029a64626a2395a7a5ef631ba"
          ]
        },
        "id": "6XaP9t7nYzBH",
        "outputId": "300162a0-f4ab-4b02-e187-1270ab4bf6d6"
      },
      "source": [
        "#@title\n",
        "@interact(actor =list(most_spoken_words.columns))\n",
        "def sentiment(actor):\n",
        "    x = pd.DataFrame(most_spoken_words.loc[:,actor]).reset_index()\n",
        "    positive = x[x.sentiment == \"Positive\"].sort_values(by = actor, ascending = False).head(10)\n",
        "    negative = x[x.sentiment == \"Negative\"].sort_values(by = actor, ascending = False).head(10)\n",
        "    negative[actor] = negative[actor] * -1\n",
        "    sa_ch = pd.concat([positive,negative])\n",
        "    gfg = sa_ch.pivot_table(sa_ch,index='index', columns='sentiment', fill_value = 0)\n",
        "    gfg.columns = gfg.columns.droplevel(0)\n",
        "    gfg = gfg.sort_values(['Positive','Negative'], ascending = True)\n",
        "    \n",
        "    Diverging = go.Figure()\n",
        "    Diverging.add_trace(go.Bar(x=gfg[\"Negative\"],\n",
        "                               y=gfg.index,\n",
        "                               orientation='h',\n",
        "                               name=\"Negative\",\n",
        "                               hovertemplate=\"%{y}: %{x}\"))\n",
        "\n",
        "    Diverging.add_trace(go.Bar(x=gfg[\"Positive\"],\n",
        "                               y=gfg.index,\n",
        "                               orientation='h',\n",
        "                               name=\"Positive\",\n",
        "                               hovertemplate=\"%{y}: %{x}\"))\n",
        "\n",
        "    Diverging.update_layout(title_text= f\"{actor}'s Sentiment Analysis\")\n",
        "    Diverging.show()"
      ],
      "execution_count": 48,
      "outputs": [
        {
          "output_type": "display_data",
          "data": {
            "application/vnd.jupyter.widget-view+json": {
              "model_id": "b7589023466f439e898c66de1f009365",
              "version_minor": 0,
              "version_major": 2
            },
            "text/plain": [
              "interactive(children=(Dropdown(description='actor', options=('Chandler', 'Joey', 'Monica', 'Phoebe', 'Rachel',…"
            ]
          },
          "metadata": {
            "tags": []
          }
        }
      ]
    },
    {
      "cell_type": "markdown",
      "metadata": {
        "id": "iqfcvr4Ck3z5"
      },
      "source": [
        "#**NLP (Procesamiento del Lenguaje Natural)**"
      ]
    },
    {
      "cell_type": "markdown",
      "metadata": {
        "id": "Jps1qUQJITWR"
      },
      "source": [
        "![flow.PNG](data:image/png;base64,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)"
      ]
    },
    {
      "cell_type": "markdown",
      "metadata": {
        "id": "CWi5Ew4AHhNu"
      },
      "source": [
        "#**Clasificador de \"quotes\": ¿Quién ha dicho qué?**"
      ]
    },
    {
      "cell_type": "markdown",
      "metadata": {
        "id": "BMF5fkVAJZSm"
      },
      "source": [
        "![alt text](https://media.giphy.com/media/EU1obAC38GuWI/giphy.gif)\n",
        "\n",
        "Image from [Giphy](https://giphy.com/)\n"
      ]
    },
    {
      "cell_type": "markdown",
      "metadata": {
        "id": "tIP7YuCXSbc3"
      },
      "source": [
        "####Code"
      ]
    },
    {
      "cell_type": "code",
      "metadata": {
        "id": "6BPT0BJlTHb9"
      },
      "source": [
        "tfidf = TfidfVectorizer(min_df = 0.0005, ngram_range =(1,3))"
      ],
      "execution_count": 49,
      "outputs": []
    },
    {
      "cell_type": "code",
      "metadata": {
        "id": "p7XKTO4WTB90"
      },
      "source": [
        "X = tfidf.fit_transform(friends2[friends2.author.isin((\"Ross\", \"Rachel\"))][\"quote\"])\n",
        "y = friends2[friends2.author.isin((\"Ross\", \"Rachel\"))][\"author\"].values"
      ],
      "execution_count": 50,
      "outputs": []
    },
    {
      "cell_type": "code",
      "metadata": {
        "id": "8JJkh7K5SiE_"
      },
      "source": [
        "X_train, X_test, y_train, y_test = train_test_split(X, y, test_size = 0.20, random_state = 0, stratify=y)"
      ],
      "execution_count": 51,
      "outputs": []
    },
    {
      "cell_type": "code",
      "metadata": {
        "colab": {
          "base_uri": "https://localhost:8080/"
        },
        "id": "aleTAEy5TwFf",
        "outputId": "44aab9b5-8078-436a-cea7-e9a362ea0ab2"
      },
      "source": [
        "X_train.shape"
      ],
      "execution_count": 52,
      "outputs": [
        {
          "output_type": "execute_result",
          "data": {
            "text/plain": [
              "(25921, 2041)"
            ]
          },
          "metadata": {
            "tags": []
          },
          "execution_count": 52
        }
      ]
    },
    {
      "cell_type": "code",
      "metadata": {
        "colab": {
          "base_uri": "https://localhost:8080/"
        },
        "id": "_oPVKJQ_TwQa",
        "outputId": "2c6dcf0a-f838-4f87-deb1-1892506d3d3c"
      },
      "source": [
        "neigh = KNeighborsClassifier(n_neighbors=5, algorithm = \"brute\")\n",
        "neigh.fit(X_train, y_train)"
      ],
      "execution_count": 53,
      "outputs": [
        {
          "output_type": "execute_result",
          "data": {
            "text/plain": [
              "KNeighborsClassifier(algorithm='brute', leaf_size=30, metric='minkowski',\n",
              "                     metric_params=None, n_jobs=None, n_neighbors=5, p=2,\n",
              "                     weights='uniform')"
            ]
          },
          "metadata": {
            "tags": []
          },
          "execution_count": 53
        }
      ]
    },
    {
      "cell_type": "code",
      "metadata": {
        "id": "Hp5hYl_WTwI7"
      },
      "source": [
        "y_pred = neigh.predict(X_test)"
      ],
      "execution_count": 54,
      "outputs": []
    },
    {
      "cell_type": "code",
      "metadata": {
        "colab": {
          "base_uri": "https://localhost:8080/"
        },
        "id": "72ITfVMCTwMj",
        "outputId": "51ce6ffc-db30-4fb4-e8a8-ee7b425681c0"
      },
      "source": [
        "score = neigh.score(X_test, y_test)\n",
        "print(score)"
      ],
      "execution_count": 55,
      "outputs": [
        {
          "output_type": "stream",
          "text": [
            "0.548989353494831\n"
          ],
          "name": "stdout"
        }
      ]
    },
    {
      "cell_type": "markdown",
      "metadata": {
        "id": "fNDJO3u6VVBA"
      },
      "source": [
        "#**Confusion Matrix with two Characters: Ross & Rachel**"
      ]
    },
    {
      "cell_type": "code",
      "metadata": {
        "colab": {
          "base_uri": "https://localhost:8080/",
          "height": 276
        },
        "cellView": "form",
        "id": "GNzoW7DlUMkg",
        "outputId": "3708bf7b-a6a5-427c-bd3c-edad67b26dbb"
      },
      "source": [
        "#@title\n",
        "cm = confusion_matrix(y_test, y_pred)\n",
        "plt.figure(figsize = (4,4))\n",
        "palette = [\"yellow\",\"red\",\"blue\",\"black\"]\n",
        "_ = sns.heatmap(cm, annot = True, fmt='g', cmap = palette, linecolor = \"black\", linewidths=0.5)"
      ],
      "execution_count": 56,
      "outputs": [
        {
          "output_type": "display_data",
          "data": {
            "image/png": "[encoded data removed]",
            "text/plain": [
              "<Figure size 288x288 with 2 Axes>"
            ]
          },
          "metadata": {
            "tags": []
          }
        }
      ]
    },
    {
      "cell_type": "markdown",
      "metadata": {
        "id": "iTOUjYfNUpsI"
      },
      "source": [
        "####Code"
      ]
    },
    {
      "cell_type": "code",
      "metadata": {
        "id": "Tph2iX-9Mvlv"
      },
      "source": [
        "tfidf = TfidfVectorizer(min_df = 0.0005, ngram_range =(1,3))"
      ],
      "execution_count": 57,
      "outputs": []
    },
    {
      "cell_type": "code",
      "metadata": {
        "id": "hmE8jDCVOAWP"
      },
      "source": [
        "X = tfidf.fit_transform(friends2[\"quote\"])\n",
        "y = friends2[\"author\"].values"
      ],
      "execution_count": 58,
      "outputs": []
    },
    {
      "cell_type": "code",
      "metadata": {
        "id": "CxyoHd7SOAeV"
      },
      "source": [
        "X_train, X_test, y_train, y_test = train_test_split(X, y, test_size = 0.20, random_state = 0, stratify=y)"
      ],
      "execution_count": 59,
      "outputs": []
    },
    {
      "cell_type": "code",
      "metadata": {
        "colab": {
          "base_uri": "https://localhost:8080/"
        },
        "id": "myqK-KSpOAiW",
        "outputId": "42197389-5092-446b-826b-a54e1e45e4ee"
      },
      "source": [
        "X_train.shape"
      ],
      "execution_count": 60,
      "outputs": [
        {
          "output_type": "execute_result",
          "data": {
            "text/plain": [
              "(70824, 2029)"
            ]
          },
          "metadata": {
            "tags": []
          },
          "execution_count": 60
        }
      ]
    },
    {
      "cell_type": "code",
      "metadata": {
        "colab": {
          "base_uri": "https://localhost:8080/"
        },
        "id": "4QIkCGynOAo8",
        "outputId": "e9b7adad-35dc-4483-8057-9588dfafa2e9"
      },
      "source": [
        "neigh = KNeighborsClassifier(n_neighbors=5, algorithm = \"brute\")\n",
        "neigh.fit(X_train, y_train)"
      ],
      "execution_count": 61,
      "outputs": [
        {
          "output_type": "execute_result",
          "data": {
            "text/plain": [
              "KNeighborsClassifier(algorithm='brute', leaf_size=30, metric='minkowski',\n",
              "                     metric_params=None, n_jobs=None, n_neighbors=5, p=2,\n",
              "                     weights='uniform')"
            ]
          },
          "metadata": {
            "tags": []
          },
          "execution_count": 61
        }
      ]
    },
    {
      "cell_type": "code",
      "metadata": {
        "id": "1pnXBDwyQ-Fd"
      },
      "source": [
        "y_pred = neigh.predict(X_test)"
      ],
      "execution_count": 62,
      "outputs": []
    },
    {
      "cell_type": "code",
      "metadata": {
        "colab": {
          "base_uri": "https://localhost:8080/"
        },
        "id": "OAjhAErHRJaZ",
        "outputId": "22014493-b8b6-4532-c88b-1ef3b4a8384b"
      },
      "source": [
        "score = neigh.score(X_test, y_test)\n",
        "print(score)"
      ],
      "execution_count": 63,
      "outputs": [
        {
          "output_type": "stream",
          "text": [
            "0.20810978708985148\n"
          ],
          "name": "stdout"
        }
      ]
    },
    {
      "cell_type": "markdown",
      "metadata": {
        "id": "OdMGtB2jWwCM"
      },
      "source": [
        "#**Confusion Matrix with the 6 main characters**"
      ]
    },
    {
      "cell_type": "code",
      "metadata": {
        "colab": {
          "base_uri": "https://localhost:8080/",
          "height": 385
        },
        "cellView": "form",
        "id": "JiE0qPe8RRj8",
        "outputId": "6933c277-cf88-4927-cbba-b66429b23ab1"
      },
      "source": [
        "#@title\n",
        "cm = confusion_matrix(y_test, y_pred)\n",
        "plt.figure(figsize = (6,6))\n",
        "palette = [\"yellow\",\"red\",\"blue\",\"black\"]\n",
        "_ = sns.heatmap(cm, annot = True, fmt='g', cmap = palette, linecolor = \"black\", linewidths=0.5)"
      ],
      "execution_count": 64,
      "outputs": [
        {
          "output_type": "display_data",
          "data": {
            "image/png": "[encoded data removed]",
            "text/plain": [
              "<Figure size 432x432 with 2 Axes>"
            ]
          },
          "metadata": {
            "tags": []
          }
        }
      ]
    },
    {
      "cell_type": "markdown",
      "metadata": {
        "id": "3f8gn9DH4I-n"
      },
      "source": [
        "#### Code"
      ]
    },
    {
      "cell_type": "markdown",
      "metadata": {
        "id": "dGBxdo1ThsXh"
      },
      "source": [
        "I used the code from this article:\n",
        "\n",
        "https://towardsdatascience.com/make-your-own-rick-sanchez-bot-with-transformers-and-dialogpt-fine-tuning-f85e6d1f4e30"
      ]
    },
    {
      "cell_type": "code",
      "metadata": {
        "colab": {
          "base_uri": "https://localhost:8080/"
        },
        "id": "AovOVTTC471N",
        "outputId": "f615e099-be11-48b5-b13c-0ad9dc8f1a10"
      },
      "source": [
        "!pip install transformers"
      ],
      "execution_count": 65,
      "outputs": [
        {
          "output_type": "stream",
          "text": [
            "Collecting transformers\n",
            "  Downloading transformers-4.9.1-py3-none-any.whl (2.6 MB)\n",
            "\u001b[K     |████████████████████████████████| 2.6 MB 4.7 MB/s \n",
            "\u001b[?25hRequirement already satisfied: tqdm>=4.27 in /usr/local/lib/python3.7/dist-packages (from transformers) (4.41.1)\n",
            "Requirement already satisfied: importlib-metadata in /usr/local/lib/python3.7/dist-packages (from transformers) (4.6.1)\n",
            "Collecting huggingface-hub==0.0.12\n",
            "  Downloading huggingface_hub-0.0.12-py3-none-any.whl (37 kB)\n",
            "Collecting sacremoses\n",
            "  Downloading sacremoses-0.0.45-py3-none-any.whl (895 kB)\n",
            "\u001b[K     |████████████████████████████████| 895 kB 39.3 MB/s \n",
            "\u001b[?25hCollecting tokenizers<0.11,>=0.10.1\n",
            "  Downloading tokenizers-0.10.3-cp37-cp37m-manylinux_2_5_x86_64.manylinux1_x86_64.manylinux_2_12_x86_64.manylinux2010_x86_64.whl (3.3 MB)\n",
            "\u001b[K     |████████████████████████████████| 3.3 MB 48.3 MB/s \n",
            "\u001b[?25hCollecting pyyaml>=5.1\n",
            "  Downloading PyYAML-5.4.1-cp37-cp37m-manylinux1_x86_64.whl (636 kB)\n",
            "\u001b[K     |████████████████████████████████| 636 kB 49.2 MB/s \n",
            "\u001b[?25hRequirement already satisfied: packaging in /usr/local/lib/python3.7/dist-packages (from transformers) (21.0)\n",
            "Requirement already satisfied: regex!=2019.12.17 in /usr/local/lib/python3.7/dist-packages (from transformers) (2019.12.20)\n",
            "Requirement already satisfied: requests in /usr/local/lib/python3.7/dist-packages (from transformers) (2.23.0)\n",
            "Requirement already satisfied: numpy>=1.17 in /usr/local/lib/python3.7/dist-packages (from transformers) (1.19.5)\n",
            "Requirement already satisfied: filelock in /usr/local/lib/python3.7/dist-packages (from transformers) (3.0.12)\n",
            "Requirement already satisfied: typing-extensions in /usr/local/lib/python3.7/dist-packages (from huggingface-hub==0.0.12->transformers) (3.7.4.3)\n",
            "Requirement already satisfied: pyparsing>=2.0.2 in /usr/local/lib/python3.7/dist-packages (from packaging->transformers) (2.4.7)\n",
            "Requirement already satisfied: zipp>=0.5 in /usr/local/lib/python3.7/dist-packages (from importlib-metadata->transformers) (3.5.0)\n",
            "Requirement already satisfied: chardet<4,>=3.0.2 in /usr/local/lib/python3.7/dist-packages (from requests->transformers) (3.0.4)\n",
            "Requirement already satisfied: certifi>=2017.4.17 in /usr/local/lib/python3.7/dist-packages (from requests->transformers) (2021.5.30)\n",
            "Requirement already satisfied: idna<3,>=2.5 in /usr/local/lib/python3.7/dist-packages (from requests->transformers) (2.10)\n",
            "Requirement already satisfied: urllib3!=1.25.0,!=1.25.1,<1.26,>=1.21.1 in /usr/local/lib/python3.7/dist-packages (from requests->transformers) (1.24.3)\n",
            "Requirement already satisfied: six in /usr/local/lib/python3.7/dist-packages (from sacremoses->transformers) (1.15.0)\n",
            "Requirement already satisfied: click in /usr/local/lib/python3.7/dist-packages (from sacremoses->transformers) (7.1.2)\n",
            "Requirement already satisfied: joblib in /usr/local/lib/python3.7/dist-packages (from sacremoses->transformers) (1.0.1)\n",
            "Installing collected packages: tokenizers, sacremoses, pyyaml, huggingface-hub, transformers\n",
            "  Attempting uninstall: pyyaml\n",
            "    Found existing installation: PyYAML 3.13\n",
            "    Uninstalling PyYAML-3.13:\n",
            "      Successfully uninstalled PyYAML-3.13\n",
            "Successfully installed huggingface-hub-0.0.12 pyyaml-5.4.1 sacremoses-0.0.45 tokenizers-0.10.3 transformers-4.9.1\n"
          ],
          "name": "stdout"
        }
      ]
    },
    {
      "cell_type": "code",
      "metadata": {
        "id": "SIZR5C3u20_8"
      },
      "source": [
        "import glob\n",
        "import logging\n",
        "import os\n",
        "import pickle\n",
        "import random\n",
        "import re\n",
        "import shutil\n",
        "from typing import Dict, List, Tuple\n",
        "\n",
        "import pandas as pd\n",
        "import numpy as np\n",
        "import torch\n",
        "\n",
        "from sklearn.model_selection import train_test_split\n",
        "\n",
        "from torch.nn.utils.rnn import pad_sequence\n",
        "from torch.utils.data import DataLoader, Dataset, RandomSampler, SequentialSampler\n",
        "from torch.utils.data.distributed import DistributedSampler\n",
        "from tqdm.notebook import tqdm, trange\n",
        "\n",
        "from pathlib import Path\n",
        "\n",
        "from transformers import (\n",
        "    MODEL_WITH_LM_HEAD_MAPPING,\n",
        "    WEIGHTS_NAME,\n",
        "    AdamW,\n",
        "    AutoConfig,\n",
        "    AutoModelWithLMHead,\n",
        "    AutoTokenizer,\n",
        "    PreTrainedModel,\n",
        "    PreTrainedTokenizer,\n",
        "    get_linear_schedule_with_warmup,\n",
        ")\n",
        "\n",
        "\n",
        "try:\n",
        "    from torch.utils.tensorboard import SummaryWriter\n",
        "except ImportError:\n",
        "    from tensorboardX import SummaryWriter\n",
        "\n",
        "# Configs\n",
        "logger = logging.getLogger(__name__)\n",
        "\n",
        "MODEL_CONFIG_CLASSES = list(MODEL_WITH_LM_HEAD_MAPPING.keys())\n",
        "MODEL_TYPES = tuple(conf.model_type for conf in MODEL_CONFIG_CLASSES)\n"
      ],
      "execution_count": 66,
      "outputs": []
    },
    {
      "cell_type": "code",
      "metadata": {
        "id": "CVKyyfOm21Eg"
      },
      "source": [
        "class Args():\n",
        "    def __init__(self):\n",
        "        self.output_dir = '/content/gdrive/MyDrive/Colab Notebooks/output-small'\n",
        "        self.model_type = 'gpt2'\n",
        "        self.model_name_or_path = 'microsoft/DialoGPT-medium' \n",
        "        self.config_name = 'microsoft/DialoGPT-medium'\n",
        "        self.tokenizer_name = 'microsoft/DialoGPT-medium'\n",
        "        self.cache_dir = 'cached'\n",
        "        self.block_size = 512\n",
        "        self.do_train = True\n",
        "        self.do_eval = True\n",
        "        self.evaluate_during_training = False\n",
        "        self.per_gpu_train_batch_size = 4\n",
        "        self.per_gpu_eval_batch_size = 4\n",
        "        self.gradient_accumulation_steps = 1\n",
        "        self.learning_rate = 5e-5\n",
        "        self.weight_decay = 0.0\n",
        "        self.adam_epsilon = 1e-8\n",
        "        self.max_grad_norm = 1.0\n",
        "        self.num_train_epochs = 5\n",
        "        self.max_steps = -1\n",
        "        self.warmup_steps = 0\n",
        "        self.logging_steps = 1000\n",
        "        self.save_steps = 3500\n",
        "        self.save_total_limit = None\n",
        "        self.eval_all_checkpoints = False\n",
        "        self.no_cuda = False\n",
        "        self.overwrite_output_dir = True\n",
        "        self.overwrite_cache = True\n",
        "        self.should_continue = False\n",
        "        self.seed = 42\n",
        "        self.local_rank = -1\n",
        "        self.fp16 = False\n",
        "        self.fp16_opt_level = 'O1'\n",
        "\n",
        "args = Args()"
      ],
      "execution_count": 67,
      "outputs": []
    },
    {
      "cell_type": "code",
      "metadata": {
        "id": "QcLj-28y21KC"
      },
      "source": [
        "script_ross = pd.read_excel('/content/gdrive/MyDrive/Colab Notebooks/script_ross.xlsx')"
      ],
      "execution_count": 68,
      "outputs": []
    },
    {
      "cell_type": "code",
      "metadata": {
        "colab": {
          "base_uri": "https://localhost:8080/",
          "height": 203
        },
        "id": "AqQZSvCt21PG",
        "outputId": "af8515f5-5fc1-4ec7-b93a-6961f4258dbc"
      },
      "source": [
        "script_ross.head()"
      ],
      "execution_count": 69,
      "outputs": [
        {
          "output_type": "execute_result",
          "data": {
            "text/html": [
              "<div>\n",
              "<style scoped>\n",
              "    .dataframe tbody tr th:only-of-type {\n",
              "        vertical-align: middle;\n",
              "    }\n",
              "\n",
              "    .dataframe tbody tr th {\n",
              "        vertical-align: top;\n",
              "    }\n",
              "\n",
              "    .dataframe thead th {\n",
              "        text-align: right;\n",
              "    }\n",
              "</style>\n",
              "<table border=\"1\" class=\"dataframe\">\n",
              "  <thead>\n",
              "    <tr style=\"text-align: right;\">\n",
              "      <th></th>\n",
              "      <th>author</th>\n",
              "      <th>episode_number</th>\n",
              "      <th>episode_title</th>\n",
              "      <th>quote</th>\n",
              "      <th>quote_order</th>\n",
              "      <th>season</th>\n",
              "      <th>To Whom</th>\n",
              "      <th>Conversation</th>\n",
              "    </tr>\n",
              "  </thead>\n",
              "  <tbody>\n",
              "    <tr>\n",
              "      <th>0</th>\n",
              "      <td>Carol</td>\n",
              "      <td>2.0</td>\n",
              "      <td>The Sonogram At The End</td>\n",
              "      <td>Hello!</td>\n",
              "      <td>21.0</td>\n",
              "      <td>1.0</td>\n",
              "      <td>Ross</td>\n",
              "      <td>Ross, Carol</td>\n",
              "    </tr>\n",
              "    <tr>\n",
              "      <th>1</th>\n",
              "      <td>Ross</td>\n",
              "      <td>2.0</td>\n",
              "      <td>The Sonogram At The End</td>\n",
              "      <td>You look great. I, uh... I hate that.</td>\n",
              "      <td>22.0</td>\n",
              "      <td>1.0</td>\n",
              "      <td>Carol</td>\n",
              "      <td>Ross, Carol</td>\n",
              "    </tr>\n",
              "    <tr>\n",
              "      <th>2</th>\n",
              "      <td>Carol</td>\n",
              "      <td>2.0</td>\n",
              "      <td>The Sonogram At The End</td>\n",
              "      <td>Sorry. You look good too.</td>\n",
              "      <td>23.0</td>\n",
              "      <td>1.0</td>\n",
              "      <td>Ross</td>\n",
              "      <td>Ross, Carol</td>\n",
              "    </tr>\n",
              "    <tr>\n",
              "      <th>3</th>\n",
              "      <td>Ross</td>\n",
              "      <td>2.0</td>\n",
              "      <td>The Sonogram At The End</td>\n",
              "      <td>Ah, well, in here, anyone who... stands erect....</td>\n",
              "      <td>24.0</td>\n",
              "      <td>1.0</td>\n",
              "      <td>Carol</td>\n",
              "      <td>Ross, Carol</td>\n",
              "    </tr>\n",
              "    <tr>\n",
              "      <th>4</th>\n",
              "      <td>Carol</td>\n",
              "      <td>2.0</td>\n",
              "      <td>The Sonogram At The End</td>\n",
              "      <td>A lesbian?</td>\n",
              "      <td>25.0</td>\n",
              "      <td>1.0</td>\n",
              "      <td>Ross</td>\n",
              "      <td>Ross, Carol</td>\n",
              "    </tr>\n",
              "  </tbody>\n",
              "</table>\n",
              "</div>"
            ],
            "text/plain": [
              "  author  episode_number            episode_title  ... season  To Whom  Conversation\n",
              "0  Carol             2.0  The Sonogram At The End  ...    1.0     Ross   Ross, Carol\n",
              "1   Ross             2.0  The Sonogram At The End  ...    1.0    Carol   Ross, Carol\n",
              "2  Carol             2.0  The Sonogram At The End  ...    1.0     Ross   Ross, Carol\n",
              "3   Ross             2.0  The Sonogram At The End  ...    1.0    Carol   Ross, Carol\n",
              "4  Carol             2.0  The Sonogram At The End  ...    1.0     Ross   Ross, Carol\n",
              "\n",
              "[5 rows x 8 columns]"
            ]
          },
          "metadata": {
            "tags": []
          },
          "execution_count": 69
        }
      ]
    },
    {
      "cell_type": "code",
      "metadata": {
        "id": "4n4lMkZe21Ug"
      },
      "source": [
        "script_ross[\"quote\"] = script_ross[\"quote\"].str.replace(\"\\(([^)]+)\\)\",\"\").str.strip()"
      ],
      "execution_count": 70,
      "outputs": []
    },
    {
      "cell_type": "code",
      "metadata": {
        "colab": {
          "base_uri": "https://localhost:8080/",
          "height": 287
        },
        "id": "JddqUCWR8JLl",
        "outputId": "9535d396-3211-40ad-d8ce-c54145ba4ff4"
      },
      "source": [
        "contexted = []\n",
        "n = 7\n",
        "for i in range(n, len(script_ross['quote'])):\n",
        "  row = []\n",
        "  prev = i - 1 - n # we additionally subtract 1, so row will contain current response and 7 previous responses  \n",
        "  for j in range(i, prev, -1):\n",
        "    row.append(script_ross['quote'][j])\n",
        "  contexted.append(row)\n",
        "columns = ['response', 'context'] \n",
        "columns = columns + ['context/'+str(i) for i in range(n-1)]\n",
        "df = pd.DataFrame.from_records(contexted, columns=columns)\n",
        "df.head(5)"
      ],
      "execution_count": 71,
      "outputs": [
        {
          "output_type": "execute_result",
          "data": {
            "text/html": [
              "<div>\n",
              "<style scoped>\n",
              "    .dataframe tbody tr th:only-of-type {\n",
              "        vertical-align: middle;\n",
              "    }\n",
              "\n",
              "    .dataframe tbody tr th {\n",
              "        vertical-align: top;\n",
              "    }\n",
              "\n",
              "    .dataframe thead th {\n",
              "        text-align: right;\n",
              "    }\n",
              "</style>\n",
              "<table border=\"1\" class=\"dataframe\">\n",
              "  <thead>\n",
              "    <tr style=\"text-align: right;\">\n",
              "      <th></th>\n",
              "      <th>response</th>\n",
              "      <th>context</th>\n",
              "      <th>context/0</th>\n",
              "      <th>context/1</th>\n",
              "      <th>context/2</th>\n",
              "      <th>context/3</th>\n",
              "      <th>context/4</th>\n",
              "      <th>context/5</th>\n",
              "    </tr>\n",
              "  </thead>\n",
              "  <tbody>\n",
              "    <tr>\n",
              "      <th>0</th>\n",
              "      <td>Why- why are you here, Carol?</td>\n",
              "      <td>Marty's still totally paranoid. Oh, and, uh-</td>\n",
              "      <td>Well... you never know. How's, um.. how's the ...</td>\n",
              "      <td>A lesbian?</td>\n",
              "      <td>Ah, well, in here, anyone who... stands erect....</td>\n",
              "      <td>Sorry. You look good too.</td>\n",
              "      <td>You look great. I, uh... I hate that.</td>\n",
              "      <td>Hello!</td>\n",
              "    </tr>\n",
              "    <tr>\n",
              "      <th>1</th>\n",
              "      <td>I'm pregnant.</td>\n",
              "      <td>Why- why are you here, Carol?</td>\n",
              "      <td>Marty's still totally paranoid. Oh, and, uh-</td>\n",
              "      <td>Well... you never know. How's, um.. how's the ...</td>\n",
              "      <td>A lesbian?</td>\n",
              "      <td>Ah, well, in here, anyone who... stands erect....</td>\n",
              "      <td>Sorry. You look good too.</td>\n",
              "      <td>You look great. I, uh... I hate that.</td>\n",
              "    </tr>\n",
              "    <tr>\n",
              "      <th>2</th>\n",
              "      <td>Pregnant?!</td>\n",
              "      <td>I'm pregnant.</td>\n",
              "      <td>Why- why are you here, Carol?</td>\n",
              "      <td>Marty's still totally paranoid. Oh, and, uh-</td>\n",
              "      <td>Well... you never know. How's, um.. how's the ...</td>\n",
              "      <td>A lesbian?</td>\n",
              "      <td>Ah, well, in here, anyone who... stands erect....</td>\n",
              "      <td>Sorry. You look good too.</td>\n",
              "    </tr>\n",
              "    <tr>\n",
              "      <th>3</th>\n",
              "      <td>I'm just cleaning up.</td>\n",
              "      <td>Pregnant?!</td>\n",
              "      <td>I'm pregnant.</td>\n",
              "      <td>Why- why are you here, Carol?</td>\n",
              "      <td>Marty's still totally paranoid. Oh, and, uh-</td>\n",
              "      <td>Well... you never know. How's, um.. how's the ...</td>\n",
              "      <td>A lesbian?</td>\n",
              "      <td>Ah, well, in here, anyone who... stands erect....</td>\n",
              "    </tr>\n",
              "    <tr>\n",
              "      <th>4</th>\n",
              "      <td>D'ya.. uh.. d'ya need any help?</td>\n",
              "      <td>I'm just cleaning up.</td>\n",
              "      <td>Pregnant?!</td>\n",
              "      <td>I'm pregnant.</td>\n",
              "      <td>Why- why are you here, Carol?</td>\n",
              "      <td>Marty's still totally paranoid. Oh, and, uh-</td>\n",
              "      <td>Well... you never know. How's, um.. how's the ...</td>\n",
              "      <td>A lesbian?</td>\n",
              "    </tr>\n",
              "  </tbody>\n",
              "</table>\n",
              "</div>"
            ],
            "text/plain": [
              "                          response  ...                                          context/5\n",
              "0    Why- why are you here, Carol?  ...                                             Hello!\n",
              "1                    I'm pregnant.  ...              You look great. I, uh... I hate that.\n",
              "2                       Pregnant?!  ...                          Sorry. You look good too.\n",
              "3            I'm just cleaning up.  ...  Ah, well, in here, anyone who... stands erect....\n",
              "4  D'ya.. uh.. d'ya need any help?  ...                                         A lesbian?\n",
              "\n",
              "[5 rows x 8 columns]"
            ]
          },
          "metadata": {
            "tags": []
          },
          "execution_count": 71
        }
      ]
    },
    {
      "cell_type": "code",
      "metadata": {
        "id": "iBkb-0U821d-"
      },
      "source": [
        "trn_df, val_df = train_test_split(df, test_size = 0.1)"
      ],
      "execution_count": 72,
      "outputs": []
    },
    {
      "cell_type": "code",
      "metadata": {
        "id": "3gHDmumx21hl"
      },
      "source": [
        "def construct_conv(row, tokenizer, eos = True):\n",
        "    flatten = lambda l: [item for sublist in l for item in sublist]\n",
        "    conv = list(reversed([tokenizer.encode(x) + [tokenizer.eos_token_id] for x in row]))\n",
        "    conv = flatten(conv)\n",
        "    return conv\n",
        "\n",
        "class ConversationDataset(Dataset):\n",
        "    def __init__(self, tokenizer: PreTrainedTokenizer, args, df, block_size=512):\n",
        "\n",
        "        block_size = block_size - (tokenizer.model_max_length - tokenizer.max_len_single_sentence)\n",
        "\n",
        "        directory = args.cache_dir\n",
        "        cached_features_file = os.path.join(\n",
        "            directory, args.model_type + \"_cached_lm_\" + str(block_size)\n",
        "        )\n",
        "\n",
        "        if os.path.exists(cached_features_file) and not args.overwrite_cache:\n",
        "            logger.info(\"Loading features from cached file %s\", cached_features_file)\n",
        "            with open(cached_features_file, \"rb\") as handle:\n",
        "                self.examples = pickle.load(handle)\n",
        "        else:\n",
        "            logger.info(\"Creating features from dataset file at %s\", directory)\n",
        "\n",
        "            self.examples = []\n",
        "            for _, row in df.iterrows():\n",
        "                conv = construct_conv(row, tokenizer)\n",
        "                self.examples.append(conv)\n",
        "\n",
        "            logger.info(\"Saving features into cached file %s\", cached_features_file)\n",
        "            with open(cached_features_file, \"wb\") as handle:\n",
        "                pickle.dump(self.examples, handle, protocol=pickle.HIGHEST_PROTOCOL)\n",
        "\n",
        "    def __len__(self):\n",
        "        return len(self.examples)\n",
        "\n",
        "    def __getitem__(self, item):\n",
        "        return torch.tensor(self.examples[item], dtype=torch.long)\n",
        "      \n",
        "# Cacheing and storing of data/checkpoints\n",
        "\n",
        "def load_and_cache_examples(args, tokenizer, df_trn, df_val, evaluate=False):\n",
        "    return ConversationDataset(tokenizer, args, df_val if evaluate else df_trn)\n",
        "\n",
        "def set_seed(args):\n",
        "    random.seed(args.seed)\n",
        "    np.random.seed(args.seed)\n",
        "    torch.manual_seed(args.seed)\n",
        "    if args.n_gpu > 0:\n",
        "        torch.cuda.manual_seed_all(args.seed)\n",
        "\n",
        "def _sorted_checkpoints(args, checkpoint_prefix=\"checkpoint\", use_mtime=False) -> List[str]:\n",
        "    ordering_and_checkpoint_path = []\n",
        "\n",
        "    glob_checkpoints = glob.glob(os.path.join(args.output_dir, \"{}-*\".format(checkpoint_prefix)))\n",
        "\n",
        "    for path in glob_checkpoints:\n",
        "        if use_mtime:\n",
        "            ordering_and_checkpoint_path.append((os.path.getmtime(path), path))\n",
        "        else:\n",
        "            regex_match = re.match(\".*{}-([0-9]+)\".format(checkpoint_prefix), path)\n",
        "            if regex_match and regex_match.groups():\n",
        "                ordering_and_checkpoint_path.append((int(regex_match.groups()[0]), path))\n",
        "\n",
        "    checkpoints_sorted = sorted(ordering_and_checkpoint_path)\n",
        "    checkpoints_sorted = [checkpoint[1] for checkpoint in checkpoints_sorted]\n",
        "    return checkpoints_sorted\n",
        "\n",
        "def _rotate_checkpoints(args, checkpoint_prefix=\"checkpoint\", use_mtime=False) -> None:\n",
        "    if not args.save_total_limit:\n",
        "        return\n",
        "    if args.save_total_limit <= 0:\n",
        "        return\n",
        "\n",
        "    # Check if we should delete older checkpoint(s)\n",
        "    checkpoints_sorted = _sorted_checkpoints(args, checkpoint_prefix, use_mtime)\n",
        "    if len(checkpoints_sorted) <= args.save_total_limit:\n",
        "        return\n",
        "\n",
        "    number_of_checkpoints_to_delete = max(0, len(checkpoints_sorted) - args.save_total_limit)\n",
        "    checkpoints_to_be_deleted = checkpoints_sorted[:number_of_checkpoints_to_delete]\n",
        "    for checkpoint in checkpoints_to_be_deleted:\n",
        "        logger.info(\"Deleting older checkpoint [{}] due to args.save_total_limit\".format(checkpoint))\n",
        "        shutil.rmtree(checkpoint)"
      ],
      "execution_count": 73,
      "outputs": []
    },
    {
      "cell_type": "code",
      "metadata": {
        "id": "adiQz9oS21nB"
      },
      "source": [
        "def train(args, train_dataset, model: PreTrainedModel, tokenizer: PreTrainedTokenizer) -> Tuple[int, float]:\n",
        "    \"\"\" Train the model \"\"\"\n",
        "    if args.local_rank in [-1, 0]:\n",
        "        tb_writer = SummaryWriter()\n",
        "\n",
        "    args.train_batch_size = args.per_gpu_train_batch_size * max(1, args.n_gpu)\n",
        "\n",
        "    def collate(examples: List[torch.Tensor]):\n",
        "        if tokenizer._pad_token is None:\n",
        "            return pad_sequence(examples, batch_first=True)\n",
        "        return pad_sequence(examples, batch_first=True, padding_value=tokenizer.pad_token_id)\n",
        "\n",
        "    train_sampler = RandomSampler(train_dataset) if args.local_rank == -1 else DistributedSampler(train_dataset)\n",
        "    train_dataloader = DataLoader(\n",
        "        train_dataset, sampler=train_sampler, batch_size=args.train_batch_size, collate_fn=collate, drop_last = True\n",
        "    )\n",
        "\n",
        "    if args.max_steps > 0:\n",
        "        t_total = args.max_steps\n",
        "        args.num_train_epochs = args.max_steps // (len(train_dataloader) // args.gradient_accumulation_steps) + 1\n",
        "    else:\n",
        "        t_total = len(train_dataloader) // args.gradient_accumulation_steps * args.num_train_epochs\n",
        "\n",
        "    model = model.module if hasattr(model, \"module\") else model  # Take care of distributed/parallel training\n",
        "    model.resize_token_embeddings(len(tokenizer))\n",
        "    # add_special_tokens_(model, tokenizer)\n",
        "\n",
        "\n",
        "    # Prepare optimizer and schedule (linear warmup and decay)\n",
        "    no_decay = [\"bias\", \"LayerNorm.weight\"]\n",
        "    optimizer_grouped_parameters = [\n",
        "        {\n",
        "            \"params\": [p for n, p in model.named_parameters() if not any(nd in n for nd in no_decay)],\n",
        "            \"weight_decay\": args.weight_decay,\n",
        "        },\n",
        "        {\"params\": [p for n, p in model.named_parameters() if any(nd in n for nd in no_decay)], \"weight_decay\": 0.0},\n",
        "    ]\n",
        "    optimizer = AdamW(optimizer_grouped_parameters, lr=args.learning_rate, eps=args.adam_epsilon)\n",
        "    scheduler = get_linear_schedule_with_warmup(\n",
        "        optimizer, num_warmup_steps=args.warmup_steps, num_training_steps=t_total\n",
        "    )\n",
        "\n",
        "    # Check if saved optimizer or scheduler states exist\n",
        "    if (\n",
        "        args.model_name_or_path\n",
        "        and os.path.isfile(os.path.join(args.model_name_or_path, \"optimizer.pt\"))\n",
        "        and os.path.isfile(os.path.join(args.model_name_or_path, \"scheduler.pt\"))\n",
        "    ):\n",
        "        # Load in optimizer and scheduler states\n",
        "        optimizer.load_state_dict(torch.load(os.path.join(args.model_name_or_path, \"optimizer.pt\")))\n",
        "        scheduler.load_state_dict(torch.load(os.path.join(args.model_name_or_path, \"scheduler.pt\")))\n",
        "\n",
        "    if args.fp16:\n",
        "        try:\n",
        "            from apex import amp\n",
        "        except ImportError:\n",
        "            raise ImportError(\"Please install apex from https://www.github.com/nvidia/apex to use fp16 training.\")\n",
        "        model, optimizer = amp.initialize(model, optimizer, opt_level=args.fp16_opt_level)\n",
        "\n",
        "    # multi-gpu training (should be after apex fp16 initialization)\n",
        "    if args.n_gpu > 1:\n",
        "        model = torch.nn.DataParallel(model)\n",
        "\n",
        "    # Distributed training (should be after apex fp16 initialization)\n",
        "    if args.local_rank != -1:\n",
        "        model = torch.nn.parallel.DistributedDataParallel(\n",
        "            model, device_ids=[args.local_rank], output_device=args.local_rank, find_unused_parameters=True\n",
        "        )\n",
        "\n",
        "    # Train!\n",
        "    logger.info(\"***** Running training *****\")\n",
        "    logger.info(\"  Num examples = %d\", len(train_dataset))\n",
        "    logger.info(\"  Num Epochs = %d\", args.num_train_epochs)\n",
        "    logger.info(\"  Instantaneous batch size per GPU = %d\", args.per_gpu_train_batch_size)\n",
        "    logger.info(\n",
        "        \"  Total train batch size (w. parallel, distributed & accumulation) = %d\",\n",
        "        args.train_batch_size\n",
        "        * args.gradient_accumulation_steps\n",
        "        * (torch.distributed.get_world_size() if args.local_rank != -1 else 1),\n",
        "    )\n",
        "    logger.info(\"  Gradient Accumulation steps = %d\", args.gradient_accumulation_steps)\n",
        "    logger.info(\"  Total optimization steps = %d\", t_total)\n",
        "\n",
        "    global_step = 0\n",
        "    epochs_trained = 0\n",
        "    steps_trained_in_current_epoch = 0\n",
        "    # Check if continuing training from a checkpoint\n",
        "    if args.model_name_or_path and os.path.exists(args.model_name_or_path):\n",
        "        try:\n",
        "            # set global_step to gobal_step of last saved checkpoint from model path\n",
        "            checkpoint_suffix = args.model_name_or_path.split(\"-\")[-1].split(\"/\")[0]\n",
        "            global_step = int(checkpoint_suffix)\n",
        "            epochs_trained = global_step // (len(train_dataloader) // args.gradient_accumulation_steps)\n",
        "            steps_trained_in_current_epoch = global_step % (len(train_dataloader) // args.gradient_accumulation_steps)\n",
        "\n",
        "            logger.info(\"  Continuing training from checkpoint, will skip to saved global_step\")\n",
        "            logger.info(\"  Continuing training from epoch %d\", epochs_trained)\n",
        "            logger.info(\"  Continuing training from global step %d\", global_step)\n",
        "            logger.info(\"  Will skip the first %d steps in the first epoch\", steps_trained_in_current_epoch)\n",
        "        except ValueError:\n",
        "            logger.info(\"  Starting fine-tuning.\")\n",
        "\n",
        "    tr_loss, logging_loss = 0.0, 0.0\n",
        "\n",
        "    model.zero_grad()\n",
        "    train_iterator = trange(\n",
        "        epochs_trained, int(args.num_train_epochs), desc=\"Epoch\", disable=args.local_rank not in [-1, 0]\n",
        "    )\n",
        "    set_seed(args)  # Added here for reproducibility\n",
        "    for _ in train_iterator:\n",
        "        epoch_iterator = tqdm(train_dataloader, desc=\"Iteration\", disable=args.local_rank not in [-1, 0])\n",
        "        for step, batch in enumerate(epoch_iterator):\n",
        "\n",
        "            # Skip past any already trained steps if resuming training\n",
        "            if steps_trained_in_current_epoch > 0:\n",
        "                steps_trained_in_current_epoch -= 1\n",
        "                continue\n",
        "\n",
        "            inputs, labels = (batch, batch)\n",
        "            if inputs.shape[1] > 1024: continue\n",
        "            inputs = inputs.to(args.device)\n",
        "            labels = labels.to(args.device)\n",
        "            model.train()\n",
        "            outputs = model(inputs, labels=labels)\n",
        "            loss = outputs[0]  # model outputs are always tuple in transformers (see doc)\n",
        "\n",
        "            if args.n_gpu > 1:\n",
        "                loss = loss.mean()  # mean() to average on multi-gpu parallel training\n",
        "            if args.gradient_accumulation_steps > 1:\n",
        "                loss = loss / args.gradient_accumulation_steps\n",
        "\n",
        "            if args.fp16:\n",
        "                with amp.scale_loss(loss, optimizer) as scaled_loss:\n",
        "                    scaled_loss.backward()\n",
        "            else:\n",
        "                loss.backward()\n",
        "\n",
        "            tr_loss += loss.item()\n",
        "            if (step + 1) % args.gradient_accumulation_steps == 0:\n",
        "                if args.fp16:\n",
        "                    torch.nn.utils.clip_grad_norm_(amp.master_params(optimizer), args.max_grad_norm)\n",
        "                else:\n",
        "                    torch.nn.utils.clip_grad_norm_(model.parameters(), args.max_grad_norm)\n",
        "                optimizer.step()\n",
        "                scheduler.step()  # Update learning rate schedule\n",
        "                model.zero_grad()\n",
        "                global_step += 1\n",
        "\n",
        "                if args.local_rank in [-1, 0] and args.logging_steps > 0 and global_step % args.logging_steps == 0:\n",
        "                    # Log metrics\n",
        "                    if (\n",
        "                        args.local_rank == -1 and args.evaluate_during_training\n",
        "                    ):  # Only evaluate when single GPU otherwise metrics may not average well\n",
        "                        results = evaluate(args, model, tokenizer)\n",
        "                        for key, value in results.items():\n",
        "                            tb_writer.add_scalar(\"eval_{}\".format(key), value, global_step)\n",
        "                    tb_writer.add_scalar(\"lr\", scheduler.get_lr()[0], global_step)\n",
        "                    tb_writer.add_scalar(\"loss\", (tr_loss - logging_loss) / args.logging_steps, global_step)\n",
        "                    logging_loss = tr_loss\n",
        "\n",
        "                if args.local_rank in [-1, 0] and args.save_steps > 0 and global_step % args.save_steps == 0:\n",
        "                    checkpoint_prefix = \"checkpoint\"\n",
        "                    # Save model checkpoint\n",
        "                    output_dir = os.path.join(args.output_dir, \"{}-{}\".format(checkpoint_prefix, global_step))\n",
        "                    os.makedirs(output_dir, exist_ok=True)\n",
        "                    model_to_save = (\n",
        "                        model.module if hasattr(model, \"module\") else model\n",
        "                    )  # Take care of distributed/parallel training\n",
        "                    model_to_save.save_pretrained(output_dir)\n",
        "                    tokenizer.save_pretrained(output_dir)\n",
        "\n",
        "                    torch.save(args, os.path.join(output_dir, \"training_args.bin\"))\n",
        "                    logger.info(\"Saving model checkpoint to %s\", output_dir)\n",
        "\n",
        "                    _rotate_checkpoints(args, checkpoint_prefix)\n",
        "\n",
        "                    torch.save(optimizer.state_dict(), os.path.join(output_dir, \"optimizer.pt\"))\n",
        "                    torch.save(scheduler.state_dict(), os.path.join(output_dir, \"scheduler.pt\"))\n",
        "                    logger.info(\"Saving optimizer and scheduler states to %s\", output_dir)\n",
        "\n",
        "            if args.max_steps > 0 and global_step > args.max_steps:\n",
        "                epoch_iterator.close()\n",
        "                break\n",
        "        if args.max_steps > 0 and global_step > args.max_steps:\n",
        "            train_iterator.close()\n",
        "            break\n",
        "\n",
        "    if args.local_rank in [-1, 0]:\n",
        "        tb_writer.close()\n",
        "\n",
        "    return global_step, tr_loss / global_step\n",
        "\n",
        "# Evaluation of some model\n",
        "\n",
        "def evaluate(args, model: PreTrainedModel, tokenizer: PreTrainedTokenizer, df_trn, df_val, prefix=\"\") -> Dict:\n",
        "    # Loop to handle MNLI double evaluation (matched, mis-matched)\n",
        "    eval_output_dir = args.output_dir\n",
        "\n",
        "    eval_dataset = load_and_cache_examples(args, tokenizer, df_trn, df_val, evaluate=True)\n",
        "    os.makedirs(eval_output_dir, exist_ok=True)\n",
        "    args.eval_batch_size = args.per_gpu_eval_batch_size * max(1, args.n_gpu)\n",
        "    # Note that DistributedSampler samples randomly\n",
        "\n",
        "    def collate(examples: List[torch.Tensor]):\n",
        "        if tokenizer._pad_token is None:\n",
        "            return pad_sequence(examples, batch_first=True)\n",
        "        return pad_sequence(examples, batch_first=True, padding_value=tokenizer.pad_token_id)\n",
        "\n",
        "    eval_sampler = SequentialSampler(eval_dataset)\n",
        "    eval_dataloader = DataLoader(\n",
        "        eval_dataset, sampler=eval_sampler, batch_size=args.eval_batch_size, collate_fn=collate, drop_last = True\n",
        "    )\n",
        "\n",
        "    # multi-gpu evaluate\n",
        "    if args.n_gpu > 1:\n",
        "        model = torch.nn.DataParallel(model)\n",
        "\n",
        "    # Eval!\n",
        "    logger.info(\"***** Running evaluation {} *****\".format(prefix))\n",
        "    logger.info(\"  Num examples = %d\", len(eval_dataset))\n",
        "    logger.info(\"  Batch size = %d\", args.eval_batch_size)\n",
        "    eval_loss = 0.0\n",
        "    nb_eval_steps = 0\n",
        "    model.eval()\n",
        "\n",
        "    for batch in tqdm(eval_dataloader, desc=\"Evaluating\"):\n",
        "        inputs, labels = (batch, batch)\n",
        "        inputs = inputs.to(args.device)\n",
        "        labels = labels.to(args.device)\n",
        "\n",
        "        with torch.no_grad():\n",
        "            outputs = model(inputs, labels=labels)\n",
        "            lm_loss = outputs[0]\n",
        "            eval_loss += lm_loss.mean().item()\n",
        "        nb_eval_steps += 1\n",
        "\n",
        "    eval_loss = eval_loss / nb_eval_steps\n",
        "    perplexity = torch.exp(torch.tensor(eval_loss))\n",
        "\n",
        "    result = {\"perplexity\": perplexity}\n",
        "\n",
        "    output_eval_file = os.path.join(eval_output_dir, prefix, \"eval_results.txt\")\n",
        "    with open(output_eval_file, \"w\") as writer:\n",
        "        logger.info(\"***** Eval results {} *****\".format(prefix))\n",
        "        for key in sorted(result.keys()):\n",
        "            logger.info(\"  %s = %s\", key, str(result[key]))\n",
        "            writer.write(\"%s = %s\\n\" % (key, str(result[key])))\n",
        "\n",
        "    return result"
      ],
      "execution_count": 74,
      "outputs": []
    },
    {
      "cell_type": "code",
      "metadata": {
        "id": "VmZbnKJ63pEn"
      },
      "source": [
        "def main(df_trn, df_val):\n",
        "      args = Args()\n",
        "\n",
        "      if args.should_continue:\n",
        "          sorted_checkpoints = _sorted_checkpoints(args)\n",
        "          if len(sorted_checkpoints) == 0:\n",
        "              raise ValueError(\"Used --should_continue but no checkpoint was found in --output_dir.\")\n",
        "          else:\n",
        "              args.model_name_or_path = sorted_checkpoints[-1]\n",
        "\n",
        "      if (\n",
        "          os.path.exists(args.output_dir)\n",
        "          and os.listdir(args.output_dir)\n",
        "          and args.do_train\n",
        "          and not args.overwrite_output_dir\n",
        "          and not args.should_continue\n",
        "      ):\n",
        "          raise ValueError(\n",
        "              \"Output directory ({}) already exists and is not empty. Use --overwrite_output_dir to overcome.\".format(\n",
        "                  args.output_dir\n",
        "              )\n",
        "          )\n",
        "\n",
        "      # Setup CUDA, GPU & distributed training\n",
        "      device = torch.device(\"cuda\")\n",
        "      args.n_gpu = torch.cuda.device_count()\n",
        "      args.device = device\n",
        "\n",
        "      # Setup logging\n",
        "      logging.basicConfig(\n",
        "          format=\"%(asctime)s - %(levelname)s - %(name)s -   %(message)s\",\n",
        "          datefmt=\"%m/%d/%Y %H:%M:%S\",\n",
        "          level=logging.INFO if args.local_rank in [-1, 0] else logging.WARN,\n",
        "      )\n",
        "      logger.warning(\n",
        "          \"Process rank: %s, device: %s, n_gpu: %s, distributed training: %s, 16-bits training: %s\",\n",
        "          args.local_rank,\n",
        "          device,\n",
        "          args.n_gpu,\n",
        "          bool(args.local_rank != -1),\n",
        "          args.fp16,\n",
        "      )\n",
        "\n",
        "      # Set seed\n",
        "      set_seed(args)\n",
        "\n",
        "      config = AutoConfig.from_pretrained(args.config_name, cache_dir=args.cache_dir)\n",
        "      tokenizer = AutoTokenizer.from_pretrained(args.tokenizer_name, cache_dir=args.cache_dir)\n",
        "      model = AutoModelWithLMHead.from_pretrained(\n",
        "          args.model_name_or_path,\n",
        "          from_tf=False,\n",
        "          config=config,\n",
        "          cache_dir=args.cache_dir,\n",
        "      )\n",
        "      model.to(args.device)\n",
        "\n",
        "      logger.info(\"Training/evaluation parameters %s\", args)\n",
        "\n",
        "      # Training\n",
        "      if args.do_train:\n",
        "          train_dataset = load_and_cache_examples(args, tokenizer, df_trn, df_val, evaluate=False)\n",
        "\n",
        "          global_step, tr_loss = train(args, train_dataset, model, tokenizer)\n",
        "          logger.info(\" global_step = %s, average loss = %s\", global_step, tr_loss)\n",
        "\n",
        "      # Saving best-practices: if you use save_pretrained for the model and tokenizer, you can reload them using from_pretrained()\n",
        "      if args.do_train:\n",
        "          # Create output directory if needed\n",
        "          os.makedirs(args.output_dir, exist_ok=True)\n",
        "\n",
        "          logger.info(\"Saving model checkpoint to %s\", args.output_dir)\n",
        "          # Save a trained model, configuration and tokenizer using `save_pretrained()`.\n",
        "          # They can then be reloaded using `from_pretrained()`\n",
        "          model_to_save = (\n",
        "              model.module if hasattr(model, \"module\") else model\n",
        "          )  # Take care of distributed/parallel training\n",
        "          model_to_save.save_pretrained(args.output_dir)\n",
        "          tokenizer.save_pretrained(args.output_dir)\n",
        "\n",
        "          # Good practice: save your training arguments together with the trained model\n",
        "          torch.save(args, os.path.join(args.output_dir, \"training_args.bin\"))\n",
        "\n",
        "          # Load a trained model and vocabulary that you have fine-tuned\n",
        "          model = AutoModelWithLMHead.from_pretrained(args.output_dir)\n",
        "          tokenizer = AutoTokenizer.from_pretrained(args.output_dir)\n",
        "          model.to(args.device)\n",
        "\n",
        "      # Evaluation\n",
        "      results = {}\n",
        "      if args.do_eval and args.local_rank in [-1, 0]:\n",
        "          checkpoints = [args.output_dir]\n",
        "          if args.eval_all_checkpoints:\n",
        "              checkpoints = list(\n",
        "                  os.path.dirname(c) for c in sorted(glob.glob(args.output_dir + \"/**/\" + WEIGHTS_NAME, recursive=True))\n",
        "              )\n",
        "              logging.getLogger(\"transformers.modeling_utils\").setLevel(logging.WARN)  # Reduce logging\n",
        "          logger.info(\"Evaluate the following checkpoints: %s\", checkpoints)\n",
        "          for checkpoint in checkpoints:\n",
        "              global_step = checkpoint.split(\"-\")[-1] if len(checkpoints) > 1 else \"\"\n",
        "              prefix = checkpoint.split(\"/\")[-1] if checkpoint.find(\"checkpoint\") != -1 else \"\"\n",
        "\n",
        "              model = AutoModelWithLMHead.from_pretrained(checkpoint)\n",
        "              model.to(args.device)\n",
        "              result = evaluate(args, model, tokenizer, df_trn, df_val, prefix=prefix)\n",
        "              result = dict((k + \"_{}\".format(global_step), v) for k, v in result.items())\n",
        "              results.update(result)\n",
        "\n",
        "      return results"
      ],
      "execution_count": 75,
      "outputs": []
    },
    {
      "cell_type": "code",
      "metadata": {
        "id": "3NOIBGTr3pNW"
      },
      "source": [
        "#main(trn_df, val_df)"
      ],
      "execution_count": 76,
      "outputs": []
    },
    {
      "cell_type": "code",
      "metadata": {
        "id": "cGcNCYG9-fRA",
        "colab": {
          "base_uri": "https://localhost:8080/",
          "height": 212,
          "referenced_widgets": [
            "c453b0a371164561962e8e0f3da6b7c5",
            "6a8304a6a5a94abda657312e49b372d0",
            "e3e1ed82b8b1432c85a98425ff369c0e",
            "b6dd1313e135427fb422456dc3a411f3",
            "ed9a949b0d7848869c42e15db3bee5c1",
            "dc510984aae946a49d6ef0ccf470191b",
            "f9902eb2143f4f978ede7cf0dfa140a5",
            "d9b95e451b6749f99d6889e2f6e47ea4",
            "e4e796522c9440538f45a4b4c55dd494",
            "5eb8822e8b6e4ece932fe71d9f0750f5",
            "368edb539aed42d5b4d6d1b2774a6b7f",
            "b23d704c41574e01b377388e89e857bc",
            "f96873e07d6c4542a222c836ce033aa0",
            "d68d4a7847254a61998b567855143553",
            "1c992f79705c4f69a34d9bc5c5c6cca8",
            "8a47a6753b46412980d11fdf30525b41",
            "1bb3050659224b809a28a7e6311780d0",
            "08b51fc4c952495a82e332c3575675b9",
            "84bd6db05f544c4ca080e804d59a44c7",
            "f758103cebae4060b4588c1785f21180",
            "4c40ba096a204191985a306442a34c11",
            "ca384225fdfe4066bc11ceff1cd49381",
            "22109be5d4044494aa6e655d80f42b83",
            "b44eb595315b4bafbceaf0044a9a309f",
            "94e422e8f99e4fe981abf65575d614ab",
            "8de0465aa94e4ea796c85b7fc60e3bf9",
            "9f97da31c5384d63871f07e4caa047b5",
            "d8f0e617719b4f95bffd293f38843e24",
            "377dd556312d49c8b3a6b0a644e02fa1",
            "2a0c6fa4fd474ee78cf43f719f7c037a",
            "0e1af3ada5ce4c6b822cbbb8b2fa10da",
            "d94e2488e0be4b85b348e2096bc1408e"
          ]
        },
        "outputId": "ef50343c-dd28-4655-feae-c3ed1d338aae"
      },
      "source": [
        "#@title\n",
        "tokenizer = AutoTokenizer.from_pretrained('microsoft/DialoGPT-medium')\n",
        "model = AutoModelWithLMHead.from_pretrained('/content/gdrive/MyDrive/Colab Notebooks/output-small')\n"
      ],
      "execution_count": 77,
      "outputs": [
        {
          "output_type": "display_data",
          "data": {
            "application/vnd.jupyter.widget-view+json": {
              "model_id": "c453b0a371164561962e8e0f3da6b7c5",
              "version_minor": 0,
              "version_major": 2
            },
            "text/plain": [
              "HBox(children=(FloatProgress(value=0.0, description='Downloading', max=26.0, style=ProgressStyle(description_w…"
            ]
          },
          "metadata": {
            "tags": []
          }
        },
        {
          "output_type": "stream",
          "text": [
            "\n"
          ],
          "name": "stdout"
        },
        {
          "output_type": "display_data",
          "data": {
            "application/vnd.jupyter.widget-view+json": {
              "model_id": "e4e796522c9440538f45a4b4c55dd494",
              "version_minor": 0,
              "version_major": 2
            },
            "text/plain": [
              "HBox(children=(FloatProgress(value=0.0, description='Downloading', max=642.0, style=ProgressStyle(description_…"
            ]
          },
          "metadata": {
            "tags": []
          }
        },
        {
          "output_type": "stream",
          "text": [
            "\n"
          ],
          "name": "stdout"
        },
        {
          "output_type": "display_data",
          "data": {
            "application/vnd.jupyter.widget-view+json": {
              "model_id": "1bb3050659224b809a28a7e6311780d0",
              "version_minor": 0,
              "version_major": 2
            },
            "text/plain": [
              "HBox(children=(FloatProgress(value=0.0, description='Downloading', max=1042301.0, style=ProgressStyle(descript…"
            ]
          },
          "metadata": {
            "tags": []
          }
        },
        {
          "output_type": "stream",
          "text": [
            "\n"
          ],
          "name": "stdout"
        },
        {
          "output_type": "display_data",
          "data": {
            "application/vnd.jupyter.widget-view+json": {
              "model_id": "94e422e8f99e4fe981abf65575d614ab",
              "version_minor": 0,
              "version_major": 2
            },
            "text/plain": [
              "HBox(children=(FloatProgress(value=0.0, description='Downloading', max=456318.0, style=ProgressStyle(descripti…"
            ]
          },
          "metadata": {
            "tags": []
          }
        },
        {
          "output_type": "stream",
          "text": [
            "\n"
          ],
          "name": "stdout"
        }
      ]
    },
    {
      "cell_type": "markdown",
      "metadata": {
        "id": "w3sTkNkV4WN3"
      },
      "source": [
        "#**Generador de diálogo: ¿Qué diría Ross?**"
      ]
    },
    {
      "cell_type": "markdown",
      "metadata": {
        "id": "UhhaTNXc4cLj"
      },
      "source": [
        "\n",
        "![alt text](https://media.giphy.com/media/FY56lXEc3KY9y/giphy.gif)\n",
        "\n",
        "Image from [Giphy](https://giphy.com/)\n"
      ]
    },
    {
      "cell_type": "code",
      "metadata": {
        "cellView": "form",
        "colab": {
          "base_uri": "https://localhost:8080/"
        },
        "id": "MRHAfAuh3pU_",
        "outputId": "b1d4baf8-bf41-4fe3-b636-4b8a067bef26"
      },
      "source": [
        "#@title\n",
        "# Let's chat for 5 lines\n",
        "for step in range(5):\n",
        "    # encode the new user input, add the eos_token and return a tensor in Pytorch\n",
        "    new_user_input_ids = tokenizer.encode(input(\">> User:\") + tokenizer.eos_token, return_tensors='pt')\n",
        "    # print(new_user_input_ids)\n",
        "# append the new user input tokens to the chat history\n",
        "    bot_input_ids = torch.cat([chat_history_ids, new_user_input_ids], dim=-1) if step > 0 else new_user_input_ids\n",
        "# generated a response while limiting the total chat history to 1000 tokens, \n",
        "    chat_history_ids = model.generate(\n",
        "        bot_input_ids, max_length=200,\n",
        "        pad_token_id=tokenizer.eos_token_id,  \n",
        "        no_repeat_ngram_size=3,       \n",
        "        do_sample=True, \n",
        "        top_k=100, \n",
        "        top_p=0.7,\n",
        "        temperature = 0.8\n",
        "    )\n",
        "    \n",
        "    # pretty print last ouput tokens from bot\n",
        "    print(\"RossBot: {}\".format(tokenizer.decode(chat_history_ids[:, bot_input_ids.shape[-1]:][0], skip_special_tokens=True)))\n"
      ],
      "execution_count": 78,
      "outputs": [
        {
          "output_type": "stream",
          "text": [
            ">> User:Hello Ross, are you hungry?\n",
            "RossBot: Uhuh\n",
            ">> User:what do you want to eat\n",
            "RossBot: Well um I don't know okay okay okay well I'm having a barbecue\n",
            ">> User:That sounds great\n",
            "RossBot: Okay  Hey when did you and Susan meet Huey Lewis?\n",
            ">> User:We met him last year\n",
            "RossBot: Really\n",
            ">> User:yes, he is really funny\n",
            "RossBot: !!! remindme 1 year\n"
          ],
          "name": "stdout"
        }
      ]
    },
    {
      "cell_type": "markdown",
      "metadata": {
        "id": "pD9XW8WeJ4IP"
      },
      "source": [
        "**CONVERSATION 1**\n",
        "\n",
        "* **User**:Hey Ross, how are you?\n",
        "* **RossBot** good you?\n",
        "* **User**:All good thanks! So should we have coffee?\n",
        "* **RossBot** sure\n",
        "* **User**:where should we go?\n",
        "* **RossBot** to the bar\n",
        "* **User**:maybe better a coffee shop\n",
        "* **RossBot** there you go!\n",
        "* **User**:great, let's go!\n",
        "* **RossBot** !!!?!!"
      ]
    },
    {
      "cell_type": "markdown",
      "metadata": {
        "id": "Zzyq7sqqNA4W"
      },
      "source": [
        "**CONVERSATION 2**\n",
        "\n",
        "* **User**:hey, what's up\n",
        "* **RossBot** nothing much\n",
        "* **User**:ok, same here\n",
        "* **RossBot** so what're you uh what're um you nervous about?\n",
        "* **User**:I have a job interview\n",
        "* **RossBot** oh god  oh god  what's wrong with me?\n",
        "* **User**:nothing!!\n",
        "* **RossBot** look carol never threw me out of a room before you came along\n",
        "* **User**:well, things have changed\n",
        "* **RossBot** !!!?!!"
      ]
    },
    {
      "cell_type": "markdown",
      "metadata": {
        "id": "Y-dvVh6NNXpe"
      },
      "source": [
        "**CONVERSATION 3**\n",
        "\n",
        "* **User**:Hey, long time no see\n",
        "* **RossBot**: you didn't tell us about the cat\n",
        "* **User**:what cat?\n",
        "* **RossBot**: the one you left in the box\n",
        "* **User**:it's not mine\n",
        "* **RossBot**: look it's just a warm fuzzy blanket\n",
        "* **User**:which color?\n",
        "* **RossBot**: maroon is nice\n",
        "* **User**:It's awful\n",
        "* **RossBot**: it is it is"
      ]
    },
    {
      "cell_type": "markdown",
      "metadata": {
        "id": "41GBT9nzbpBG"
      },
      "source": [
        "**CONVERSATION 4**\n",
        "\n",
        "* **User**:You like this woman, right?\n",
        "* **RossBot**: yeah\n",
        "* **User**:you wanna see her again right?\n",
        "* **RossBot**: sure\n",
        "* **User**:so what will you do?\n",
        "* **RossBot**: i'm gonna go out there and see what i can do\n",
        "* **User**:All right, relax\n",
        "* **RossBot**: alright\n",
        "* **User**:you can do it!!\n",
        "* **RossBot**: !!!?!!"
      ]
    },
    {
      "cell_type": "markdown",
      "metadata": {
        "id": "AdkcQH_c5TC6"
      },
      "source": [
        "**CONVERSATION 5**\n",
        "\n",
        "* **User**:what's up?\n",
        "* **RossBot**: Nothing much uh\n",
        "* **User**::Are you hungry?\n",
        "* **RossBot**: Mmmm\n",
        "* **User**::What would you like to eat?\n",
        "* **RossBot**: Well um I don't know maybe a nice cold steak but that's it\n",
        "* **User**::Well, this I can cook\n",
        "* **RossBot**: That's great\n",
        "* **User**::Will you buy dessert?\n",
        "* **RossBot**: !!!?!!,!!'!!"
      ]
    }
  ]
}