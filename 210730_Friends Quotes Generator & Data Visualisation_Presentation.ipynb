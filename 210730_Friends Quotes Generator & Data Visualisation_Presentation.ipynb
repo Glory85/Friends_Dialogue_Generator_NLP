{
 "cells": [
  {
   "cell_type": "markdown",
   "metadata": {
    "slideshow": {
     "slide_type": "skip"
    }
   },
   "source": [
    "## Librerías"
   ]
  },
  {
   "cell_type": "code",
   "execution_count": 70,
   "metadata": {
    "slideshow": {
     "slide_type": "skip"
    }
   },
   "outputs": [],
   "source": [
    "# Data Wrangling Libraries\n",
    "\n",
    "import pandas as pd\n",
    "import numpy as np\n",
    "import re\n",
    "\n",
    "# NLP\n",
    "\n",
    "import nltk\n",
    "from textblob import TextBlob\n",
    "from nltk.stem import PorterStemmer\n",
    "from nltk.stem import LancasterStemmer\n",
    "from nltk.stem import WordNetLemmatizer\n",
    "from nltk.tokenize import sent_tokenize, word_tokenize\n",
    "from nltk.stem.snowball import SnowballStemmer\n",
    "from nltk.corpus import stopwords\n",
    "from sklearn.feature_extraction.text import CountVectorizer\n",
    "from sklearn.feature_extraction.text import TfidfVectorizer\n",
    "\n",
    "# Data Visualisation Libraries\n",
    "\n",
    "import seaborn as sns\n",
    "import networkx as nx\n",
    "import cufflinks as cf\n",
    "import plotly.express as px\n",
    "from ipywidgets import interact\n",
    "import plotly.figure_factory as ff\n",
    "import matplotlib.pyplot as plt\n",
    "from ipywidgets import Dropdown, IntSlider\n",
    "import ipywidgets as widgets\n",
    "import plotly.graph_objects as go"
   ]
  },
  {
   "cell_type": "markdown",
   "metadata": {
    "slideshow": {
     "slide_type": "skip"
    }
   },
   "source": [
    "## Datasets\n",
    "\n",
    "* **\"friends_quotes\"** dataset de Kaggle https://www.kaggle.com/ryanstonebraker/friends-transcript\n",
    "\n",
    "* **\"Guest_Stars_DF\"** dataset creado a partir del friends_quotes dataset y modificado manualmente. Este contiene las líneas que han tenido diferentes actores/actrices invitados/as a la serie duarante la 10 temporadas.\n",
    "\n",
    "* **\"season1_df_modified\"** dataset creado a partir del friends_quotes dataset y modificado manualmente. Este contiene las conversaciones por parejas (no contiene las conversaciones grupales), de los 9 personajes que más frases tienen en laprimera temporadas \n",
    "\n",
    "* **\"script_ross\"** dataset creado a partir del friends_quotes dataset y modificado manualmente. Este contiene los diálogos entre Ross y otras personas de la serie en la primera temporada. "
   ]
  },
  {
   "cell_type": "code",
   "execution_count": 71,
   "metadata": {
    "slideshow": {
     "slide_type": "skip"
    }
   },
   "outputs": [],
   "source": [
    "friends = pd.read_csv(\"friends_quotes.csv\")\n",
    "season_1_main_characters = pd.read_excel(\"season1_df_modified.xlsx\")\n",
    "guest_stars = pd.read_excel(\"Guest_Stars_DF.xlsx\")\n"
   ]
  },
  {
   "cell_type": "markdown",
   "metadata": {
    "slideshow": {
     "slide_type": "skip"
    }
   },
   "source": [
    "## Data Cleanning"
   ]
  },
  {
   "cell_type": "code",
   "execution_count": 72,
   "metadata": {
    "slideshow": {
     "slide_type": "skip"
    }
   },
   "outputs": [],
   "source": [
    "#el episodio 16 no está bien \"escrapeado\", así que eliminamos las líneas.\n",
    "friends.drop(friends[(friends[\"season\"] == 1) & (friends[\"episode_number\"] == 16)].index,inplace = True)\n",
    "# eliminamos las líneas en la columna \"author\" es \"All\"\n",
    "friends.drop(friends[(friends[\"author\"] == \"All\")].index,inplace = True)"
   ]
  },
  {
   "cell_type": "code",
   "execution_count": 73,
   "metadata": {
    "slideshow": {
     "slide_type": "skip"
    }
   },
   "outputs": [],
   "source": [
    "friends[\"author\"] = friends[\"author\"].str.replace(\"ms. geller\",\"mrs. geller\").str.replace(\"judy\",\"mrs. geller\").str.replace(\"frank jr\",\"frank\")"
   ]
  },
  {
   "cell_type": "code",
   "execution_count": 74,
   "metadata": {
    "slideshow": {
     "slide_type": "skip"
    }
   },
   "outputs": [],
   "source": [
    "friends[\"author\"] = friends[\"author\"].str.replace(\"\\(([^)]+)\\)\",\"\").str.lower().str.strip()"
   ]
  },
  {
   "cell_type": "code",
   "execution_count": 75,
   "metadata": {
    "slideshow": {
     "slide_type": "skip"
    }
   },
   "outputs": [],
   "source": [
    "chandler =[\"chan\",\"chandle\",\"chandlers\"]\n",
    "monica =[\"young monica\",\"fat monica\",\"mnca\",\"monic\",\"monica about to have a heart attack\",\"monica to amy\",\"monica to emma\",\"monica to ross\"] \n",
    "joey = [\"fat joey\",\"joe\"]\n",
    "phoebe = [\"phoe\",\"phoeb\",\"phoebe looks down\"]\n",
    "rachel = [\"big nosed rachel\",\"rach\",\"rahcel\",\"rache\",\"rachel opens their door\",\"rachel to emma\",\"racel\"]\n",
    "ross = [\"ross first has a look of 'huh' then changes it to sarcastic happy\",\"ross looks down\",\"ross makes some sort of sound to let us know it hurt\",\"ross starts playing with a plate\",\"ross starts talking over her 'do you remember' line\",\"ross to monica\",\"ross with a look of wondering how long this is going to go on on his face\",\"young ross\",\"ros\"]"
   ]
  },
  {
   "cell_type": "code",
   "execution_count": 76,
   "metadata": {
    "slideshow": {
     "slide_type": "skip"
    }
   },
   "outputs": [],
   "source": [
    "def replace_author(i):\n",
    "    if i in chandler: \n",
    "        i = \"chandler\" \n",
    "    elif i in monica:\n",
    "        i = \"monica\"\n",
    "    elif i in joey: \n",
    "        i = \"joey\"\n",
    "    elif i in phoebe:\n",
    "        i = \"phoebe\"\n",
    "    elif i in rachel: \n",
    "        i = \"rachel\"\n",
    "    elif i in ross:\n",
    "        i = \"ross\"\n",
    "    else:\n",
    "        return i"
   ]
  },
  {
   "cell_type": "code",
   "execution_count": 77,
   "metadata": {
    "slideshow": {
     "slide_type": "skip"
    }
   },
   "outputs": [],
   "source": [
    "friends[\"author\"] = friends[\"author\"].apply(replace_author).str.capitalize()"
   ]
  },
  {
   "cell_type": "markdown",
   "metadata": {
    "slideshow": {
     "slide_type": "skip"
    }
   },
   "source": [
    "## 9 Characters with more lines per season"
   ]
  },
  {
   "cell_type": "code",
   "execution_count": 78,
   "metadata": {
    "slideshow": {
     "slide_type": "slide"
    }
   },
   "outputs": [
    {
     "data": {
      "application/vnd.jupyter.widget-view+json": {
       "model_id": "22df59a510a54fa8826dc8b5dd9b9fff",
       "version_major": 2,
       "version_minor": 0
      },
      "text/plain": [
       "interactive(children=(IntSlider(value=1, description='Season', max=10, min=1), Output()), _dom_classes=('widge…"
      ]
     },
     "metadata": {},
     "output_type": "display_data"
    }
   ],
   "source": [
    "@interact(Season = IntSlider(min=1, max=10, step=1,value=1))\n",
    "def more_common_characters(Season):\n",
    "    more_common_characters = friends[friends.season == Season][\"author\"].value_counts().head(9).index.to_list()\n",
    "    sns.set(rc={'figure.figsize':(7,7),'axes.facecolor':'black'}, font_scale=1.5)\n",
    "    palette = [\"red\",\"yellow\",\"#23c6f7\"]\n",
    "    sns.countplot(y='author', data=friends[(friends.author.isin(more_common_characters)) & (friends.season == Season)], order = more_common_characters, palette = palette)\n",
    "    plt.xlabel(\"Number of lines\")\n",
    "    plt.ylabel(\"Character\")\n",
    "    plt.title('9 Characters with more lines per season')\n",
    "    plt.show()"
   ]
  },
  {
   "cell_type": "markdown",
   "metadata": {
    "slideshow": {
     "slide_type": "skip"
    }
   },
   "source": [
    "## Conversations between the 9 characters with more lines in Season 1"
   ]
  },
  {
   "cell_type": "code",
   "execution_count": 79,
   "metadata": {
    "slideshow": {
     "slide_type": "skip"
    }
   },
   "outputs": [
    {
     "data": {
      "text/html": [
       "<div>\n",
       "<style scoped>\n",
       "    .dataframe tbody tr th:only-of-type {\n",
       "        vertical-align: middle;\n",
       "    }\n",
       "\n",
       "    .dataframe tbody tr th {\n",
       "        vertical-align: top;\n",
       "    }\n",
       "\n",
       "    .dataframe thead th {\n",
       "        text-align: right;\n",
       "    }\n",
       "</style>\n",
       "<table border=\"1\" class=\"dataframe\">\n",
       "  <thead>\n",
       "    <tr style=\"text-align: right;\">\n",
       "      <th></th>\n",
       "      <th>index</th>\n",
       "      <th>Conversation</th>\n",
       "    </tr>\n",
       "  </thead>\n",
       "  <tbody>\n",
       "    <tr>\n",
       "      <th>0</th>\n",
       "      <td>Ross, Rachel</td>\n",
       "      <td>0.171171</td>\n",
       "    </tr>\n",
       "    <tr>\n",
       "      <th>1</th>\n",
       "      <td>Ross, Carol</td>\n",
       "      <td>0.114114</td>\n",
       "    </tr>\n",
       "    <tr>\n",
       "      <th>2</th>\n",
       "      <td>Chandler, Joey</td>\n",
       "      <td>0.113113</td>\n",
       "    </tr>\n",
       "    <tr>\n",
       "      <th>3</th>\n",
       "      <td>Rachel, Monica</td>\n",
       "      <td>0.086086</td>\n",
       "    </tr>\n",
       "    <tr>\n",
       "      <th>4</th>\n",
       "      <td>Chandler, Phoebe</td>\n",
       "      <td>0.083083</td>\n",
       "    </tr>\n",
       "    <tr>\n",
       "      <th>5</th>\n",
       "      <td>Ross, Joey</td>\n",
       "      <td>0.079079</td>\n",
       "    </tr>\n",
       "    <tr>\n",
       "      <th>6</th>\n",
       "      <td>Susan, Ross</td>\n",
       "      <td>0.065065</td>\n",
       "    </tr>\n",
       "    <tr>\n",
       "      <th>7</th>\n",
       "      <td>Monica, Joey</td>\n",
       "      <td>0.062062</td>\n",
       "    </tr>\n",
       "    <tr>\n",
       "      <th>8</th>\n",
       "      <td>Chandler, Janice</td>\n",
       "      <td>0.054054</td>\n",
       "    </tr>\n",
       "    <tr>\n",
       "      <th>9</th>\n",
       "      <td>Phoebe, Rachel</td>\n",
       "      <td>0.038038</td>\n",
       "    </tr>\n",
       "    <tr>\n",
       "      <th>10</th>\n",
       "      <td>Phoebe, Monica</td>\n",
       "      <td>0.033033</td>\n",
       "    </tr>\n",
       "    <tr>\n",
       "      <th>11</th>\n",
       "      <td>Ross, Chandler</td>\n",
       "      <td>0.031031</td>\n",
       "    </tr>\n",
       "    <tr>\n",
       "      <th>12</th>\n",
       "      <td>Joey, Phoebe</td>\n",
       "      <td>0.022022</td>\n",
       "    </tr>\n",
       "    <tr>\n",
       "      <th>13</th>\n",
       "      <td>Susan, Carol</td>\n",
       "      <td>0.020020</td>\n",
       "    </tr>\n",
       "    <tr>\n",
       "      <th>14</th>\n",
       "      <td>Chandler, Monica</td>\n",
       "      <td>0.016016</td>\n",
       "    </tr>\n",
       "    <tr>\n",
       "      <th>15</th>\n",
       "      <td>Chandler, Rachel</td>\n",
       "      <td>0.009009</td>\n",
       "    </tr>\n",
       "    <tr>\n",
       "      <th>16</th>\n",
       "      <td>Ross, Phoebe</td>\n",
       "      <td>0.002002</td>\n",
       "    </tr>\n",
       "    <tr>\n",
       "      <th>17</th>\n",
       "      <td>Janice, Joey</td>\n",
       "      <td>0.001001</td>\n",
       "    </tr>\n",
       "  </tbody>\n",
       "</table>\n",
       "</div>"
      ],
      "text/plain": [
       "               index  Conversation\n",
       "0       Ross, Rachel      0.171171\n",
       "1        Ross, Carol      0.114114\n",
       "2     Chandler, Joey      0.113113\n",
       "3     Rachel, Monica      0.086086\n",
       "4   Chandler, Phoebe      0.083083\n",
       "5         Ross, Joey      0.079079\n",
       "6        Susan, Ross      0.065065\n",
       "7       Monica, Joey      0.062062\n",
       "8   Chandler, Janice      0.054054\n",
       "9     Phoebe, Rachel      0.038038\n",
       "10    Phoebe, Monica      0.033033\n",
       "11    Ross, Chandler      0.031031\n",
       "12      Joey, Phoebe      0.022022\n",
       "13      Susan, Carol      0.020020\n",
       "14  Chandler, Monica      0.016016\n",
       "15  Chandler, Rachel      0.009009\n",
       "16      Ross, Phoebe      0.002002\n",
       "17      Janice, Joey      0.001001"
      ]
     },
     "execution_count": 79,
     "metadata": {},
     "output_type": "execute_result"
    }
   ],
   "source": [
    "conversation_weights = pd.DataFrame(season_1_main_characters[\"Conversation\"].value_counts(normalize = True)).reset_index()\n",
    "conversation_weights"
   ]
  },
  {
   "cell_type": "code",
   "execution_count": 80,
   "metadata": {
    "slideshow": {
     "slide_type": "skip"
    }
   },
   "outputs": [],
   "source": [
    "conversation_weights[[\"A\",\"B\"]] = conversation_weights[\"index\"].str.split(\",\",expand=True)"
   ]
  },
  {
   "cell_type": "code",
   "execution_count": 81,
   "metadata": {
    "slideshow": {
     "slide_type": "skip"
    }
   },
   "outputs": [],
   "source": [
    "conversation_weights[\"A\"] = conversation_weights[\"A\"].str.strip()\n",
    "conversation_weights[\"B\"] = conversation_weights[\"B\"].str.strip()"
   ]
  },
  {
   "cell_type": "code",
   "execution_count": 82,
   "metadata": {
    "slideshow": {
     "slide_type": "slide"
    }
   },
   "outputs": [
    {
     "data": {
      "image/png": "[encoded data removed]",
      "text/plain": [
       "<Figure size 576x576 with 1 Axes>"
      ]
     },
     "metadata": {},
     "output_type": "display_data"
    }
   ],
   "source": [
    "plt.rcParams[\"figure.figsize\"] = (8,8)\n",
    "\n",
    "G = nx.Graph()\n",
    "G.add_node(\"Ross\", color='red')\n",
    "G.add_node(\"Rachel\", color='blue')\n",
    "G.add_node(\"Phoebe\", color='blue')\n",
    "G.add_node(\"Joey\", color='yellow')\n",
    "G.add_node(\"Chandler\", color='red')\n",
    "G.add_node(\"Monica\", color='yellow')\n",
    "G.add_node(\"Janice\", color='blue')\n",
    "G.add_node(\"Carol\", color='red')\n",
    "G.add_node(\"Susan\", color='yellow')\n",
    "\n",
    "for i in range(len(conversation_weights)):\n",
    "    G.add_edge(conversation_weights[\"A\"][i],conversation_weights[\"B\"][i], weight=round(conversation_weights[\"Conversation\"][i]*100))\n",
    "\n",
    "colors_nodes = nx.get_node_attributes(G,'color').values()\n",
    "weights = nx.get_edge_attributes(G,'weight').values()\n",
    "pos = nx.circular_layout(G)\n",
    "\n",
    "fig = plt.figure()\n",
    "nx.draw(G, pos, \n",
    "        edge_color=\"white\", \n",
    "        width=list(weights),\n",
    "        with_labels=True,\n",
    "        node_color= colors_nodes, node_size=2500, font_weight='bold', font_color='white', font_size = 13)\n",
    "\n",
    "fig.set_facecolor(\"#00000F\")"
   ]
  },
  {
   "cell_type": "markdown",
   "metadata": {
    "slideshow": {
     "slide_type": "skip"
    }
   },
   "source": [
    "## Guests Stars over the 10 seasons"
   ]
  },
  {
   "cell_type": "code",
   "execution_count": 83,
   "metadata": {
    "slideshow": {
     "slide_type": "skip"
    }
   },
   "outputs": [],
   "source": [
    "guest_stars = pd.pivot_table(guest_stars,index=[\"Actor\",\"season\"],\n",
    "                values = [\"quote\"],           \n",
    "               aggfunc='count',fill_value=0)"
   ]
  },
  {
   "cell_type": "code",
   "execution_count": 84,
   "metadata": {
    "slideshow": {
     "slide_type": "skip"
    }
   },
   "outputs": [],
   "source": [
    "guest_stars.reset_index(inplace = True)"
   ]
  },
  {
   "cell_type": "code",
   "execution_count": 85,
   "metadata": {
    "slideshow": {
     "slide_type": "slide"
    }
   },
   "outputs": [
    {
     "data": {
      "application/vnd.plotly.v1+json": {
       "config": {
        "plotlyServerURL": "https://plot.ly"
       },
       "data": [
        {
         "alignmentgroup": "True",
         "hovertemplate": "Actor=Adam Goldberg<br>Season=%{x}<br>Number of lines=%{y}<extra></extra>",
         "legendgroup": "Adam Goldberg",
         "marker": {
          "color": "#636efa"
         },
         "name": "Adam Goldberg",
         "offsetgroup": "Adam Goldberg",
         "orientation": "v",
         "showlegend": true,
         "textposition": "auto",
         "type": "bar",
         "x": [
          2
         ],
         "xaxis": "x",
         "y": [
          64
         ],
         "yaxis": "y"
        },
        {
         "alignmentgroup": "True",
         "hovertemplate": "Actor=Aisha Tyler<br>Season=%{x}<br>Number of lines=%{y}<extra></extra>",
         "legendgroup": "Aisha Tyler",
         "marker": {
          "color": "#EF553B"
         },
         "name": "Aisha Tyler",
         "offsetgroup": "Aisha Tyler",
         "orientation": "v",
         "showlegend": true,
         "textposition": "auto",
         "type": "bar",
         "x": [
          9,
          10
         ],
         "xaxis": "x",
         "y": [
          133,
          57
         ],
         "yaxis": "y"
        },
        {
         "alignmentgroup": "True",
         "hovertemplate": "Actor=Alec Baldwin<br>Season=%{x}<br>Number of lines=%{y}<extra></extra>",
         "legendgroup": "Alec Baldwin",
         "marker": {
          "color": "#00cc96"
         },
         "name": "Alec Baldwin",
         "offsetgroup": "Alec Baldwin",
         "orientation": "v",
         "showlegend": true,
         "textposition": "auto",
         "type": "bar",
         "x": [
          8
         ],
         "xaxis": "x",
         "y": [
          33
         ],
         "yaxis": "y"
        },
        {
         "alignmentgroup": "True",
         "hovertemplate": "Actor=Alison Sweeney<br>Season=%{x}<br>Number of lines=%{y}<extra></extra>",
         "legendgroup": "Alison Sweeney",
         "marker": {
          "color": "#ab63fa"
         },
         "name": "Alison Sweeney",
         "offsetgroup": "Alison Sweeney",
         "orientation": "v",
         "showlegend": true,
         "textposition": "auto",
         "type": "bar",
         "x": [
          7
         ],
         "xaxis": "x",
         "y": [
          4
         ],
         "yaxis": "y"
        },
        {
         "alignmentgroup": "True",
         "hovertemplate": "Actor=Anna Faris<br>Season=%{x}<br>Number of lines=%{y}<extra></extra>",
         "legendgroup": "Anna Faris",
         "marker": {
          "color": "#FFA15A"
         },
         "name": "Anna Faris",
         "offsetgroup": "Anna Faris",
         "orientation": "v",
         "showlegend": true,
         "textposition": "auto",
         "type": "bar",
         "x": [
          10
         ],
         "xaxis": "x",
         "y": [
          67
         ],
         "yaxis": "y"
        },
        {
         "alignmentgroup": "True",
         "hovertemplate": "Actor=Ben Stiller<br>Season=%{x}<br>Number of lines=%{y}<extra></extra>",
         "legendgroup": "Ben Stiller",
         "marker": {
          "color": "#19d3f3"
         },
         "name": "Ben Stiller",
         "offsetgroup": "Ben Stiller",
         "orientation": "v",
         "showlegend": true,
         "textposition": "auto",
         "type": "bar",
         "x": [
          3
         ],
         "xaxis": "x",
         "y": [
          21
         ],
         "yaxis": "y"
        },
        {
         "alignmentgroup": "True",
         "hovertemplate": "Actor=Billy Crystal<br>Season=%{x}<br>Number of lines=%{y}<extra></extra>",
         "legendgroup": "Billy Crystal",
         "marker": {
          "color": "#FF6692"
         },
         "name": "Billy Crystal",
         "offsetgroup": "Billy Crystal",
         "orientation": "v",
         "showlegend": true,
         "textposition": "auto",
         "type": "bar",
         "x": [
          3
         ],
         "xaxis": "x",
         "y": [
          11
         ],
         "yaxis": "y"
        },
        {
         "alignmentgroup": "True",
         "hovertemplate": "Actor=Brad Pitt<br>Season=%{x}<br>Number of lines=%{y}<extra></extra>",
         "legendgroup": "Brad Pitt",
         "marker": {
          "color": "#B6E880"
         },
         "name": "Brad Pitt",
         "offsetgroup": "Brad Pitt",
         "orientation": "v",
         "showlegend": true,
         "textposition": "auto",
         "type": "bar",
         "x": [
          8
         ],
         "xaxis": "x",
         "y": [
          50
         ],
         "yaxis": "y"
        },
        {
         "alignmentgroup": "True",
         "hovertemplate": "Actor=Brook Shields<br>Season=%{x}<br>Number of lines=%{y}<extra></extra>",
         "legendgroup": "Brook Shields",
         "marker": {
          "color": "#FF97FF"
         },
         "name": "Brook Shields",
         "offsetgroup": "Brook Shields",
         "orientation": "v",
         "showlegend": true,
         "textposition": "auto",
         "type": "bar",
         "x": [
          2
         ],
         "xaxis": "x",
         "y": [
          26
         ],
         "yaxis": "y"
        },
        {
         "alignmentgroup": "True",
         "hovertemplate": "Actor=Bruce Willis<br>Season=%{x}<br>Number of lines=%{y}<extra></extra>",
         "legendgroup": "Bruce Willis",
         "marker": {
          "color": "#FECB52"
         },
         "name": "Bruce Willis",
         "offsetgroup": "Bruce Willis",
         "orientation": "v",
         "showlegend": true,
         "textposition": "auto",
         "type": "bar",
         "x": [
          6
         ],
         "xaxis": "x",
         "y": [
          116
         ],
         "yaxis": "y"
        },
        {
         "alignmentgroup": "True",
         "hovertemplate": "Actor=Charlie Sheen<br>Season=%{x}<br>Number of lines=%{y}<extra></extra>",
         "legendgroup": "Charlie Sheen",
         "marker": {
          "color": "#636efa"
         },
         "name": "Charlie Sheen",
         "offsetgroup": "Charlie Sheen",
         "orientation": "v",
         "showlegend": true,
         "textposition": "auto",
         "type": "bar",
         "x": [
          2
         ],
         "xaxis": "x",
         "y": [
          32
         ],
         "yaxis": "y"
        },
        {
         "alignmentgroup": "True",
         "hovertemplate": "Actor=Charlton heston<br>Season=%{x}<br>Number of lines=%{y}<extra></extra>",
         "legendgroup": "Charlton heston",
         "marker": {
          "color": "#EF553B"
         },
         "name": "Charlton heston",
         "offsetgroup": "Charlton heston",
         "orientation": "v",
         "showlegend": true,
         "textposition": "auto",
         "type": "bar",
         "x": [
          4
         ],
         "xaxis": "x",
         "y": [
          9
         ],
         "yaxis": "y"
        },
        {
         "alignmentgroup": "True",
         "hovertemplate": "Actor=Chris Isaak <br>Season=%{x}<br>Number of lines=%{y}<extra></extra>",
         "legendgroup": "Chris Isaak ",
         "marker": {
          "color": "#00cc96"
         },
         "name": "Chris Isaak ",
         "offsetgroup": "Chris Isaak ",
         "orientation": "v",
         "showlegend": true,
         "textposition": "auto",
         "type": "bar",
         "x": [
          2
         ],
         "xaxis": "x",
         "y": [
          15
         ],
         "yaxis": "y"
        },
        {
         "alignmentgroup": "True",
         "hovertemplate": "Actor=Chris Parnell<br>Season=%{x}<br>Number of lines=%{y}<extra></extra>",
         "legendgroup": "Chris Parnell",
         "marker": {
          "color": "#ab63fa"
         },
         "name": "Chris Parnell",
         "offsetgroup": "Chris Parnell",
         "orientation": "v",
         "showlegend": true,
         "textposition": "auto",
         "type": "bar",
         "x": [
          8
         ],
         "xaxis": "x",
         "y": [
          10
         ],
         "yaxis": "y"
        },
        {
         "alignmentgroup": "True",
         "hovertemplate": "Actor=Chrissie Hynde<br>Season=%{x}<br>Number of lines=%{y}<extra></extra>",
         "legendgroup": "Chrissie Hynde",
         "marker": {
          "color": "#FFA15A"
         },
         "name": "Chrissie Hynde",
         "offsetgroup": "Chrissie Hynde",
         "orientation": "v",
         "showlegend": true,
         "textposition": "auto",
         "type": "bar",
         "x": [
          2
         ],
         "xaxis": "x",
         "y": [
          13
         ],
         "yaxis": "y"
        },
        {
         "alignmentgroup": "True",
         "hovertemplate": "Actor=Christina Applegate<br>Season=%{x}<br>Number of lines=%{y}<extra></extra>",
         "legendgroup": "Christina Applegate",
         "marker": {
          "color": "#19d3f3"
         },
         "name": "Christina Applegate",
         "offsetgroup": "Christina Applegate",
         "orientation": "v",
         "showlegend": true,
         "textposition": "auto",
         "type": "bar",
         "x": [
          9,
          10
         ],
         "xaxis": "x",
         "y": [
          59,
          65
         ],
         "yaxis": "y"
        },
        {
         "alignmentgroup": "True",
         "hovertemplate": "Actor=Dakota Fanning<br>Season=%{x}<br>Number of lines=%{y}<extra></extra>",
         "legendgroup": "Dakota Fanning",
         "marker": {
          "color": "#FF6692"
         },
         "name": "Dakota Fanning",
         "offsetgroup": "Dakota Fanning",
         "orientation": "v",
         "showlegend": true,
         "textposition": "auto",
         "type": "bar",
         "x": [
          10
         ],
         "xaxis": "x",
         "y": [
          11
         ],
         "yaxis": "y"
        },
        {
         "alignmentgroup": "True",
         "hovertemplate": "Actor=Danny DeVito <br>Season=%{x}<br>Number of lines=%{y}<extra></extra>",
         "legendgroup": "Danny DeVito ",
         "marker": {
          "color": "#B6E880"
         },
         "name": "Danny DeVito ",
         "offsetgroup": "Danny DeVito ",
         "orientation": "v",
         "showlegend": true,
         "textposition": "auto",
         "type": "bar",
         "x": [
          10
         ],
         "xaxis": "x",
         "y": [
          24
         ],
         "yaxis": "y"
        },
        {
         "alignmentgroup": "True",
         "hovertemplate": "Actor=David Arquette<br>Season=%{x}<br>Number of lines=%{y}<extra></extra>",
         "legendgroup": "David Arquette",
         "marker": {
          "color": "#FF97FF"
         },
         "name": "David Arquette",
         "offsetgroup": "David Arquette",
         "orientation": "v",
         "showlegend": true,
         "textposition": "auto",
         "type": "bar",
         "x": [
          3
         ],
         "xaxis": "x",
         "y": [
          24
         ],
         "yaxis": "y"
        },
        {
         "alignmentgroup": "True",
         "hovertemplate": "Actor=Denise Richards<br>Season=%{x}<br>Number of lines=%{y}<extra></extra>",
         "legendgroup": "Denise Richards",
         "marker": {
          "color": "#FECB52"
         },
         "name": "Denise Richards",
         "offsetgroup": "Denise Richards",
         "orientation": "v",
         "showlegend": true,
         "textposition": "auto",
         "type": "bar",
         "x": [
          7
         ],
         "xaxis": "x",
         "y": [
          16
         ],
         "yaxis": "y"
        },
        {
         "alignmentgroup": "True",
         "hovertemplate": "Actor=Dermot Mulroney<br>Season=%{x}<br>Number of lines=%{y}<extra></extra>",
         "legendgroup": "Dermot Mulroney",
         "marker": {
          "color": "#636efa"
         },
         "name": "Dermot Mulroney",
         "offsetgroup": "Dermot Mulroney",
         "orientation": "v",
         "showlegend": true,
         "textposition": "auto",
         "type": "bar",
         "x": [
          9
         ],
         "xaxis": "x",
         "y": [
          25
         ],
         "yaxis": "y"
        },
        {
         "alignmentgroup": "True",
         "hovertemplate": "Actor=Elle Macpherson<br>Season=%{x}<br>Number of lines=%{y}<extra></extra>",
         "legendgroup": "Elle Macpherson",
         "marker": {
          "color": "#EF553B"
         },
         "name": "Elle Macpherson",
         "offsetgroup": "Elle Macpherson",
         "orientation": "v",
         "showlegend": true,
         "textposition": "auto",
         "type": "bar",
         "x": [
          6
         ],
         "xaxis": "x",
         "y": [
          89
         ],
         "yaxis": "y"
        },
        {
         "alignmentgroup": "True",
         "hovertemplate": "Actor=Ellen Pompeo<br>Season=%{x}<br>Number of lines=%{y}<extra></extra>",
         "legendgroup": "Ellen Pompeo",
         "marker": {
          "color": "#00cc96"
         },
         "name": "Ellen Pompeo",
         "offsetgroup": "Ellen Pompeo",
         "orientation": "v",
         "showlegend": true,
         "textposition": "auto",
         "type": "bar",
         "x": [
          10
         ],
         "xaxis": "x",
         "y": [
          10
         ],
         "yaxis": "y"
        },
        {
         "alignmentgroup": "True",
         "hovertemplate": "Actor=Fred Willard <br>Season=%{x}<br>Number of lines=%{y}<extra></extra>",
         "legendgroup": "Fred Willard ",
         "marker": {
          "color": "#ab63fa"
         },
         "name": "Fred Willard ",
         "offsetgroup": "Fred Willard ",
         "orientation": "v",
         "showlegend": true,
         "textposition": "auto",
         "type": "bar",
         "x": [
          2
         ],
         "xaxis": "x",
         "y": [
          6
         ],
         "yaxis": "y"
        },
        {
         "alignmentgroup": "True",
         "hovertemplate": "Actor=Freddie Prinze Jr.<br>Season=%{x}<br>Number of lines=%{y}<extra></extra>",
         "legendgroup": "Freddie Prinze Jr.",
         "marker": {
          "color": "#FFA15A"
         },
         "name": "Freddie Prinze Jr.",
         "offsetgroup": "Freddie Prinze Jr.",
         "orientation": "v",
         "showlegend": true,
         "textposition": "auto",
         "type": "bar",
         "x": [
          9
         ],
         "xaxis": "x",
         "y": [
          29
         ],
         "yaxis": "y"
        },
        {
         "alignmentgroup": "True",
         "hovertemplate": "Actor=Gabrielle Union<br>Season=%{x}<br>Number of lines=%{y}<extra></extra>",
         "legendgroup": "Gabrielle Union",
         "marker": {
          "color": "#19d3f3"
         },
         "name": "Gabrielle Union",
         "offsetgroup": "Gabrielle Union",
         "orientation": "v",
         "showlegend": true,
         "textposition": "auto",
         "type": "bar",
         "x": [
          7
         ],
         "xaxis": "x",
         "y": [
          27
         ],
         "yaxis": "y"
        },
        {
         "alignmentgroup": "True",
         "hovertemplate": "Actor=Gary Oldman<br>Season=%{x}<br>Number of lines=%{y}<extra></extra>",
         "legendgroup": "Gary Oldman",
         "marker": {
          "color": "#FF6692"
         },
         "name": "Gary Oldman",
         "offsetgroup": "Gary Oldman",
         "orientation": "v",
         "showlegend": true,
         "textposition": "auto",
         "type": "bar",
         "x": [
          7
         ],
         "xaxis": "x",
         "y": [
          33
         ],
         "yaxis": "y"
        },
        {
         "alignmentgroup": "True",
         "hovertemplate": "Actor=George Clooney<br>Season=%{x}<br>Number of lines=%{y}<extra></extra>",
         "legendgroup": "George Clooney",
         "marker": {
          "color": "#B6E880"
         },
         "name": "George Clooney",
         "offsetgroup": "George Clooney",
         "orientation": "v",
         "showlegend": true,
         "textposition": "auto",
         "type": "bar",
         "x": [
          1
         ],
         "xaxis": "x",
         "y": [
          13
         ],
         "yaxis": "y"
        },
        {
         "alignmentgroup": "True",
         "hovertemplate": "Actor=Greg Kinnear<br>Season=%{x}<br>Number of lines=%{y}<extra></extra>",
         "legendgroup": "Greg Kinnear",
         "marker": {
          "color": "#FF97FF"
         },
         "name": "Greg Kinnear",
         "offsetgroup": "Greg Kinnear",
         "orientation": "v",
         "showlegend": true,
         "textposition": "auto",
         "type": "bar",
         "x": [
          10
         ],
         "xaxis": "x",
         "y": [
          38
         ],
         "yaxis": "y"
        },
        {
         "alignmentgroup": "True",
         "hovertemplate": "Actor=Hank Azaria<br>Season=%{x}<br>Number of lines=%{y}<extra></extra>",
         "legendgroup": "Hank Azaria",
         "marker": {
          "color": "#FECB52"
         },
         "name": "Hank Azaria",
         "offsetgroup": "Hank Azaria",
         "orientation": "v",
         "showlegend": true,
         "textposition": "auto",
         "type": "bar",
         "x": [
          1,
          7,
          9
         ],
         "xaxis": "x",
         "y": [
          28,
          20,
          72
         ],
         "yaxis": "y"
        },
        {
         "alignmentgroup": "True",
         "hovertemplate": "Actor=Helen Hunt<br>Season=%{x}<br>Number of lines=%{y}<extra></extra>",
         "legendgroup": "Helen Hunt",
         "marker": {
          "color": "#636efa"
         },
         "name": "Helen Hunt",
         "offsetgroup": "Helen Hunt",
         "orientation": "v",
         "showlegend": true,
         "textposition": "auto",
         "type": "bar",
         "x": [
          1
         ],
         "xaxis": "x",
         "y": [
          11
         ],
         "yaxis": "y"
        },
        {
         "alignmentgroup": "True",
         "hovertemplate": "Actor=Hugh Laurie<br>Season=%{x}<br>Number of lines=%{y}<extra></extra>",
         "legendgroup": "Hugh Laurie",
         "marker": {
          "color": "#EF553B"
         },
         "name": "Hugh Laurie",
         "offsetgroup": "Hugh Laurie",
         "orientation": "v",
         "showlegend": true,
         "textposition": "auto",
         "type": "bar",
         "x": [
          4
         ],
         "xaxis": "x",
         "y": [
          6
         ],
         "yaxis": "y"
        },
        {
         "alignmentgroup": "True",
         "hovertemplate": "Actor=Iqbal Theba<br>Season=%{x}<br>Number of lines=%{y}<extra></extra>",
         "legendgroup": "Iqbal Theba",
         "marker": {
          "color": "#00cc96"
         },
         "name": "Iqbal Theba",
         "offsetgroup": "Iqbal Theba",
         "orientation": "v",
         "showlegend": true,
         "textposition": "auto",
         "type": "bar",
         "x": [
          5
         ],
         "xaxis": "x",
         "y": [
          6
         ],
         "yaxis": "y"
        },
        {
         "alignmentgroup": "True",
         "hovertemplate": "Actor=Isabella Rossellini<br>Season=%{x}<br>Number of lines=%{y}<extra></extra>",
         "legendgroup": "Isabella Rossellini",
         "marker": {
          "color": "#ab63fa"
         },
         "name": "Isabella Rossellini",
         "offsetgroup": "Isabella Rossellini",
         "orientation": "v",
         "showlegend": true,
         "textposition": "auto",
         "type": "bar",
         "x": [
          3
         ],
         "xaxis": "x",
         "y": [
          10
         ],
         "yaxis": "y"
        },
        {
         "alignmentgroup": "True",
         "hovertemplate": "Actor=Jason Alexander<br>Season=%{x}<br>Number of lines=%{y}<extra></extra>",
         "legendgroup": "Jason Alexander",
         "marker": {
          "color": "#FFA15A"
         },
         "name": "Jason Alexander",
         "offsetgroup": "Jason Alexander",
         "orientation": "v",
         "showlegend": true,
         "textposition": "auto",
         "type": "bar",
         "x": [
          7
         ],
         "xaxis": "x",
         "y": [
          29
         ],
         "yaxis": "y"
        },
        {
         "alignmentgroup": "True",
         "hovertemplate": "Actor=Jay Leno<br>Season=%{x}<br>Number of lines=%{y}<extra></extra>",
         "legendgroup": "Jay Leno",
         "marker": {
          "color": "#19d3f3"
         },
         "name": "Jay Leno",
         "offsetgroup": "Jay Leno",
         "orientation": "v",
         "showlegend": true,
         "textposition": "auto",
         "type": "bar",
         "x": [
          1
         ],
         "xaxis": "x",
         "y": [
          4
         ],
         "yaxis": "y"
        },
        {
         "alignmentgroup": "True",
         "hovertemplate": "Actor=Jean-Claude Van Damme<br>Season=%{x}<br>Number of lines=%{y}<extra></extra>",
         "legendgroup": "Jean-Claude Van Damme",
         "marker": {
          "color": "#FF6692"
         },
         "name": "Jean-Claude Van Damme",
         "offsetgroup": "Jean-Claude Van Damme",
         "orientation": "v",
         "showlegend": true,
         "textposition": "auto",
         "type": "bar",
         "x": [
          2
         ],
         "xaxis": "x",
         "y": [
          14
         ],
         "yaxis": "y"
        },
        {
         "alignmentgroup": "True",
         "hovertemplate": "Actor=Jeff Goldblum<br>Season=%{x}<br>Number of lines=%{y}<extra></extra>",
         "legendgroup": "Jeff Goldblum",
         "marker": {
          "color": "#B6E880"
         },
         "name": "Jeff Goldblum",
         "offsetgroup": "Jeff Goldblum",
         "orientation": "v",
         "showlegend": true,
         "textposition": "auto",
         "type": "bar",
         "x": [
          9
         ],
         "xaxis": "x",
         "y": [
          33
         ],
         "yaxis": "y"
        },
        {
         "alignmentgroup": "True",
         "hovertemplate": "Actor=Jennifer Coolidge<br>Season=%{x}<br>Number of lines=%{y}<extra></extra>",
         "legendgroup": "Jennifer Coolidge",
         "marker": {
          "color": "#FF97FF"
         },
         "name": "Jennifer Coolidge",
         "offsetgroup": "Jennifer Coolidge",
         "orientation": "v",
         "showlegend": true,
         "textposition": "auto",
         "type": "bar",
         "x": [
          10
         ],
         "xaxis": "x",
         "y": [
          14
         ],
         "yaxis": "y"
        },
        {
         "alignmentgroup": "True",
         "hovertemplate": "Actor=Jennifer Grey<br>Season=%{x}<br>Number of lines=%{y}<extra></extra>",
         "legendgroup": "Jennifer Grey",
         "marker": {
          "color": "#FECB52"
         },
         "name": "Jennifer Grey",
         "offsetgroup": "Jennifer Grey",
         "orientation": "v",
         "showlegend": true,
         "textposition": "auto",
         "type": "bar",
         "x": [
          1
         ],
         "xaxis": "x",
         "y": [
          22
         ],
         "yaxis": "y"
        },
        {
         "alignmentgroup": "True",
         "hovertemplate": "Actor=Jill Goodacre<br>Season=%{x}<br>Number of lines=%{y}<extra></extra>",
         "legendgroup": "Jill Goodacre",
         "marker": {
          "color": "#636efa"
         },
         "name": "Jill Goodacre",
         "offsetgroup": "Jill Goodacre",
         "orientation": "v",
         "showlegend": true,
         "textposition": "auto",
         "type": "bar",
         "x": [
          1
         ],
         "xaxis": "x",
         "y": [
          13
         ],
         "yaxis": "y"
        },
        {
         "alignmentgroup": "True",
         "hovertemplate": "Actor=Jim Rash<br>Season=%{x}<br>Number of lines=%{y}<extra></extra>",
         "legendgroup": "Jim Rash",
         "marker": {
          "color": "#EF553B"
         },
         "name": "Jim Rash",
         "offsetgroup": "Jim Rash",
         "orientation": "v",
         "showlegend": true,
         "textposition": "auto",
         "type": "bar",
         "x": [
          10
         ],
         "xaxis": "x",
         "y": [
          8
         ],
         "yaxis": "y"
        },
        {
         "alignmentgroup": "True",
         "hovertemplate": "Actor=John Stamos<br>Season=%{x}<br>Number of lines=%{y}<extra></extra>",
         "legendgroup": "John Stamos",
         "marker": {
          "color": "#00cc96"
         },
         "name": "John Stamos",
         "offsetgroup": "John Stamos",
         "orientation": "v",
         "showlegend": true,
         "textposition": "auto",
         "type": "bar",
         "x": [
          9
         ],
         "xaxis": "x",
         "y": [
          20
         ],
         "yaxis": "y"
        },
        {
         "alignmentgroup": "True",
         "hovertemplate": "Actor=Jon Favreau<br>Season=%{x}<br>Number of lines=%{y}<extra></extra>",
         "legendgroup": "Jon Favreau",
         "marker": {
          "color": "#ab63fa"
         },
         "name": "Jon Favreau",
         "offsetgroup": "Jon Favreau",
         "orientation": "v",
         "showlegend": true,
         "textposition": "auto",
         "type": "bar",
         "x": [
          3
         ],
         "xaxis": "x",
         "y": [
          103
         ],
         "yaxis": "y"
        },
        {
         "alignmentgroup": "True",
         "hovertemplate": "Actor=Jon Lovitz<br>Season=%{x}<br>Number of lines=%{y}<extra></extra>",
         "legendgroup": "Jon Lovitz",
         "marker": {
          "color": "#FFA15A"
         },
         "name": "Jon Lovitz",
         "offsetgroup": "Jon Lovitz",
         "orientation": "v",
         "showlegend": true,
         "textposition": "auto",
         "type": "bar",
         "x": [
          1,
          9
         ],
         "xaxis": "x",
         "y": [
          23,
          13
         ],
         "yaxis": "y"
        },
        {
         "alignmentgroup": "True",
         "hovertemplate": "Actor=Julia Roberts<br>Season=%{x}<br>Number of lines=%{y}<extra></extra>",
         "legendgroup": "Julia Roberts",
         "marker": {
          "color": "#19d3f3"
         },
         "name": "Julia Roberts",
         "offsetgroup": "Julia Roberts",
         "orientation": "v",
         "showlegend": true,
         "textposition": "auto",
         "type": "bar",
         "x": [
          2
         ],
         "xaxis": "x",
         "y": [
          35
         ],
         "yaxis": "y"
        },
        {
         "alignmentgroup": "True",
         "hovertemplate": "Actor=Kathleen Turner<br>Season=%{x}<br>Number of lines=%{y}<extra></extra>",
         "legendgroup": "Kathleen Turner",
         "marker": {
          "color": "#FF6692"
         },
         "name": "Kathleen Turner",
         "offsetgroup": "Kathleen Turner",
         "orientation": "v",
         "showlegend": true,
         "textposition": "auto",
         "type": "bar",
         "x": [
          7
         ],
         "xaxis": "x",
         "y": [
          23
         ],
         "yaxis": "y"
        },
        {
         "alignmentgroup": "True",
         "hovertemplate": "Actor=Kristin Davis<br>Season=%{x}<br>Number of lines=%{y}<extra></extra>",
         "legendgroup": "Kristin Davis",
         "marker": {
          "color": "#B6E880"
         },
         "name": "Kristin Davis",
         "offsetgroup": "Kristin Davis",
         "orientation": "v",
         "showlegend": true,
         "textposition": "auto",
         "type": "bar",
         "x": [
          7
         ],
         "xaxis": "x",
         "y": [
          23
         ],
         "yaxis": "y"
        },
        {
         "alignmentgroup": "True",
         "hovertemplate": "Actor=Lea Thompson<br>Season=%{x}<br>Number of lines=%{y}<extra></extra>",
         "legendgroup": "Lea Thompson",
         "marker": {
          "color": "#FF97FF"
         },
         "name": "Lea Thompson",
         "offsetgroup": "Lea Thompson",
         "orientation": "v",
         "showlegend": true,
         "textposition": "auto",
         "type": "bar",
         "x": [
          2
         ],
         "xaxis": "x",
         "y": [
          6
         ],
         "yaxis": "y"
        },
        {
         "alignmentgroup": "True",
         "hovertemplate": "Actor=Leah Remini<br>Season=%{x}<br>Number of lines=%{y}<extra></extra>",
         "legendgroup": "Leah Remini",
         "marker": {
          "color": "#FECB52"
         },
         "name": "Leah Remini",
         "offsetgroup": "Leah Remini",
         "orientation": "v",
         "showlegend": true,
         "textposition": "auto",
         "type": "bar",
         "x": [
          1
         ],
         "xaxis": "x",
         "y": [
          21
         ],
         "yaxis": "y"
        },
        {
         "alignmentgroup": "True",
         "hovertemplate": "Actor=Mae Whitman<br>Season=%{x}<br>Number of lines=%{y}<extra></extra>",
         "legendgroup": "Mae Whitman",
         "marker": {
          "color": "#636efa"
         },
         "name": "Mae Whitman",
         "offsetgroup": "Mae Whitman",
         "orientation": "v",
         "showlegend": true,
         "textposition": "auto",
         "type": "bar",
         "x": [
          3
         ],
         "xaxis": "x",
         "y": [
          11
         ],
         "yaxis": "y"
        },
        {
         "alignmentgroup": "True",
         "hovertemplate": "Actor=Marlo Thomas<br>Season=%{x}<br>Number of lines=%{y}<extra></extra>",
         "legendgroup": "Marlo Thomas",
         "marker": {
          "color": "#EF553B"
         },
         "name": "Marlo Thomas",
         "offsetgroup": "Marlo Thomas",
         "orientation": "v",
         "showlegend": true,
         "textposition": "auto",
         "type": "bar",
         "x": [
          2,
          8
         ],
         "xaxis": "x",
         "y": [
          24,
          37
         ],
         "yaxis": "y"
        },
        {
         "alignmentgroup": "True",
         "hovertemplate": "Actor=Michael McKean<br>Season=%{x}<br>Number of lines=%{y}<extra></extra>",
         "legendgroup": "Michael McKean",
         "marker": {
          "color": "#00cc96"
         },
         "name": "Michael McKean",
         "offsetgroup": "Michael McKean",
         "orientation": "v",
         "showlegend": true,
         "textposition": "auto",
         "type": "bar",
         "x": [
          2
         ],
         "xaxis": "x",
         "y": [
          18
         ],
         "yaxis": "y"
        },
        {
         "alignmentgroup": "True",
         "hovertemplate": "Actor=Morgan Fairchild<br>Season=%{x}<br>Number of lines=%{y}<extra></extra>",
         "legendgroup": "Morgan Fairchild",
         "marker": {
          "color": "#ab63fa"
         },
         "name": "Morgan Fairchild",
         "offsetgroup": "Morgan Fairchild",
         "orientation": "v",
         "showlegend": true,
         "textposition": "auto",
         "type": "bar",
         "x": [
          1,
          5,
          7,
          8
         ],
         "xaxis": "x",
         "y": [
          28,
          1,
          7,
          4
         ],
         "yaxis": "y"
        },
        {
         "alignmentgroup": "True",
         "hovertemplate": "Actor=Noah Wyle<br>Season=%{x}<br>Number of lines=%{y}<extra></extra>",
         "legendgroup": "Noah Wyle",
         "marker": {
          "color": "#FFA15A"
         },
         "name": "Noah Wyle",
         "offsetgroup": "Noah Wyle",
         "orientation": "v",
         "showlegend": true,
         "textposition": "auto",
         "type": "bar",
         "x": [
          1
         ],
         "xaxis": "x",
         "y": [
          10
         ],
         "yaxis": "y"
        },
        {
         "alignmentgroup": "True",
         "hovertemplate": "Actor=Paul Rudd<br>Season=%{x}<br>Number of lines=%{y}<extra></extra>",
         "legendgroup": "Paul Rudd",
         "marker": {
          "color": "#19d3f3"
         },
         "name": "Paul Rudd",
         "offsetgroup": "Paul Rudd",
         "orientation": "v",
         "showlegend": true,
         "textposition": "auto",
         "type": "bar",
         "x": [
          9,
          10
         ],
         "xaxis": "x",
         "y": [
          229,
          116
         ],
         "yaxis": "y"
        },
        {
         "alignmentgroup": "True",
         "hovertemplate": "Actor=Rebecca Romijn<br>Season=%{x}<br>Number of lines=%{y}<extra></extra>",
         "legendgroup": "Rebecca Romijn",
         "marker": {
          "color": "#FF6692"
         },
         "name": "Rebecca Romijn",
         "offsetgroup": "Rebecca Romijn",
         "orientation": "v",
         "showlegend": true,
         "textposition": "auto",
         "type": "bar",
         "x": [
          4
         ],
         "xaxis": "x",
         "y": [
          17
         ],
         "yaxis": "y"
        },
        {
         "alignmentgroup": "True",
         "hovertemplate": "Actor=Reese Witherspoon<br>Season=%{x}<br>Number of lines=%{y}<extra></extra>",
         "legendgroup": "Reese Witherspoon",
         "marker": {
          "color": "#B6E880"
         },
         "name": "Reese Witherspoon",
         "offsetgroup": "Reese Witherspoon",
         "orientation": "v",
         "showlegend": true,
         "textposition": "auto",
         "type": "bar",
         "x": [
          6
         ],
         "xaxis": "x",
         "y": [
          67
         ],
         "yaxis": "y"
        },
        {
         "alignmentgroup": "True",
         "hovertemplate": "Actor=Robin Williams<br>Season=%{x}<br>Number of lines=%{y}<extra></extra>",
         "legendgroup": "Robin Williams",
         "marker": {
          "color": "#FF97FF"
         },
         "name": "Robin Williams",
         "offsetgroup": "Robin Williams",
         "orientation": "v",
         "showlegend": true,
         "textposition": "auto",
         "type": "bar",
         "x": [
          3
         ],
         "xaxis": "x",
         "y": [
          11
         ],
         "yaxis": "y"
        },
        {
         "alignmentgroup": "True",
         "hovertemplate": "Actor=Sarah \"Fergie\" Ferguson<br>Season=%{x}<br>Number of lines=%{y}<extra></extra>",
         "legendgroup": "Sarah \"Fergie\" Ferguson",
         "marker": {
          "color": "#FECB52"
         },
         "name": "Sarah \"Fergie\" Ferguson",
         "offsetgroup": "Sarah \"Fergie\" Ferguson",
         "orientation": "v",
         "showlegend": true,
         "textposition": "auto",
         "type": "bar",
         "x": [
          4
         ],
         "xaxis": "x",
         "y": [
          3
         ],
         "yaxis": "y"
        },
        {
         "alignmentgroup": "True",
         "hovertemplate": "Actor=Sean Penn<br>Season=%{x}<br>Number of lines=%{y}<extra></extra>",
         "legendgroup": "Sean Penn",
         "marker": {
          "color": "#636efa"
         },
         "name": "Sean Penn",
         "offsetgroup": "Sean Penn",
         "orientation": "v",
         "showlegend": true,
         "textposition": "auto",
         "type": "bar",
         "x": [
          8
         ],
         "xaxis": "x",
         "y": [
          62
         ],
         "yaxis": "y"
        },
        {
         "alignmentgroup": "True",
         "hovertemplate": "Actor=Selma Blair<br>Season=%{x}<br>Number of lines=%{y}<extra></extra>",
         "legendgroup": "Selma Blair",
         "marker": {
          "color": "#EF553B"
         },
         "name": "Selma Blair",
         "offsetgroup": "Selma Blair",
         "orientation": "v",
         "showlegend": true,
         "textposition": "auto",
         "type": "bar",
         "x": [
          9
         ],
         "xaxis": "x",
         "y": [
          15
         ],
         "yaxis": "y"
        },
        {
         "alignmentgroup": "True",
         "hovertemplate": "Actor=Soleil Moon Frye<br>Season=%{x}<br>Number of lines=%{y}<extra></extra>",
         "legendgroup": "Soleil Moon Frye",
         "marker": {
          "color": "#00cc96"
         },
         "name": "Soleil Moon Frye",
         "offsetgroup": "Soleil Moon Frye",
         "orientation": "v",
         "showlegend": true,
         "textposition": "auto",
         "type": "bar",
         "x": [
          5
         ],
         "xaxis": "x",
         "y": [
          15
         ],
         "yaxis": "y"
        },
        {
         "alignmentgroup": "True",
         "hovertemplate": "Actor=Susan Sarandon<br>Season=%{x}<br>Number of lines=%{y}<extra></extra>",
         "legendgroup": "Susan Sarandon",
         "marker": {
          "color": "#ab63fa"
         },
         "name": "Susan Sarandon",
         "offsetgroup": "Susan Sarandon",
         "orientation": "v",
         "showlegend": true,
         "textposition": "auto",
         "type": "bar",
         "x": [
          7
         ],
         "xaxis": "x",
         "y": [
          53
         ],
         "yaxis": "y"
        },
        {
         "alignmentgroup": "True",
         "hovertemplate": "Actor=Tom Selleck<br>Season=%{x}<br>Number of lines=%{y}<extra></extra>",
         "legendgroup": "Tom Selleck",
         "marker": {
          "color": "#FFA15A"
         },
         "name": "Tom Selleck",
         "offsetgroup": "Tom Selleck",
         "orientation": "v",
         "showlegend": true,
         "textposition": "auto",
         "type": "bar",
         "x": [
          2,
          3,
          6
         ],
         "xaxis": "x",
         "y": [
          128,
          43,
          50
         ],
         "yaxis": "y"
        },
        {
         "alignmentgroup": "True",
         "hovertemplate": "Actor=Winona Ryder<br>Season=%{x}<br>Number of lines=%{y}<extra></extra>",
         "legendgroup": "Winona Ryder",
         "marker": {
          "color": "#19d3f3"
         },
         "name": "Winona Ryder",
         "offsetgroup": "Winona Ryder",
         "orientation": "v",
         "showlegend": true,
         "textposition": "auto",
         "type": "bar",
         "x": [
          7
         ],
         "xaxis": "x",
         "y": [
          27
         ],
         "yaxis": "y"
        }
       ],
       "layout": {
        "barmode": "relative",
        "legend": {
         "title": {
          "text": "Actor"
         },
         "tracegroupgap": 0
        },
        "template": {
         "data": {
          "bar": [
           {
            "error_x": {
             "color": "#2a3f5f"
            },
            "error_y": {
             "color": "#2a3f5f"
            },
            "marker": {
             "line": {
              "color": "#E5ECF6",
              "width": 0.5
             }
            },
            "type": "bar"
           }
          ],
          "barpolar": [
           {
            "marker": {
             "line": {
              "color": "#E5ECF6",
              "width": 0.5
             }
            },
            "type": "barpolar"
           }
          ],
          "carpet": [
           {
            "aaxis": {
             "endlinecolor": "#2a3f5f",
             "gridcolor": "white",
             "linecolor": "white",
             "minorgridcolor": "white",
             "startlinecolor": "#2a3f5f"
            },
            "baxis": {
             "endlinecolor": "#2a3f5f",
             "gridcolor": "white",
             "linecolor": "white",
             "minorgridcolor": "white",
             "startlinecolor": "#2a3f5f"
            },
            "type": "carpet"
           }
          ],
          "choropleth": [
           {
            "colorbar": {
             "outlinewidth": 0,
             "ticks": ""
            },
            "type": "choropleth"
           }
          ],
          "contour": [
           {
            "colorbar": {
             "outlinewidth": 0,
             "ticks": ""
            },
            "colorscale": [
             [
              0,
              "#0d0887"
             ],
             [
              0.1111111111111111,
              "#46039f"
             ],
             [
              0.2222222222222222,
              "#7201a8"
             ],
             [
              0.3333333333333333,
              "#9c179e"
             ],
             [
              0.4444444444444444,
              "#bd3786"
             ],
             [
              0.5555555555555556,
              "#d8576b"
             ],
             [
              0.6666666666666666,
              "#ed7953"
             ],
             [
              0.7777777777777778,
              "#fb9f3a"
             ],
             [
              0.8888888888888888,
              "#fdca26"
             ],
             [
              1,
              "#f0f921"
             ]
            ],
            "type": "contour"
           }
          ],
          "contourcarpet": [
           {
            "colorbar": {
             "outlinewidth": 0,
             "ticks": ""
            },
            "type": "contourcarpet"
           }
          ],
          "heatmap": [
           {
            "colorbar": {
             "outlinewidth": 0,
             "ticks": ""
            },
            "colorscale": [
             [
              0,
              "#0d0887"
             ],
             [
              0.1111111111111111,
              "#46039f"
             ],
             [
              0.2222222222222222,
              "#7201a8"
             ],
             [
              0.3333333333333333,
              "#9c179e"
             ],
             [
              0.4444444444444444,
              "#bd3786"
             ],
             [
              0.5555555555555556,
              "#d8576b"
             ],
             [
              0.6666666666666666,
              "#ed7953"
             ],
             [
              0.7777777777777778,
              "#fb9f3a"
             ],
             [
              0.8888888888888888,
              "#fdca26"
             ],
             [
              1,
              "#f0f921"
             ]
            ],
            "type": "heatmap"
           }
          ],
          "heatmapgl": [
           {
            "colorbar": {
             "outlinewidth": 0,
             "ticks": ""
            },
            "colorscale": [
             [
              0,
              "#0d0887"
             ],
             [
              0.1111111111111111,
              "#46039f"
             ],
             [
              0.2222222222222222,
              "#7201a8"
             ],
             [
              0.3333333333333333,
              "#9c179e"
             ],
             [
              0.4444444444444444,
              "#bd3786"
             ],
             [
              0.5555555555555556,
              "#d8576b"
             ],
             [
              0.6666666666666666,
              "#ed7953"
             ],
             [
              0.7777777777777778,
              "#fb9f3a"
             ],
             [
              0.8888888888888888,
              "#fdca26"
             ],
             [
              1,
              "#f0f921"
             ]
            ],
            "type": "heatmapgl"
           }
          ],
          "histogram": [
           {
            "marker": {
             "colorbar": {
              "outlinewidth": 0,
              "ticks": ""
             }
            },
            "type": "histogram"
           }
          ],
          "histogram2d": [
           {
            "colorbar": {
             "outlinewidth": 0,
             "ticks": ""
            },
            "colorscale": [
             [
              0,
              "#0d0887"
             ],
             [
              0.1111111111111111,
              "#46039f"
             ],
             [
              0.2222222222222222,
              "#7201a8"
             ],
             [
              0.3333333333333333,
              "#9c179e"
             ],
             [
              0.4444444444444444,
              "#bd3786"
             ],
             [
              0.5555555555555556,
              "#d8576b"
             ],
             [
              0.6666666666666666,
              "#ed7953"
             ],
             [
              0.7777777777777778,
              "#fb9f3a"
             ],
             [
              0.8888888888888888,
              "#fdca26"
             ],
             [
              1,
              "#f0f921"
             ]
            ],
            "type": "histogram2d"
           }
          ],
          "histogram2dcontour": [
           {
            "colorbar": {
             "outlinewidth": 0,
             "ticks": ""
            },
            "colorscale": [
             [
              0,
              "#0d0887"
             ],
             [
              0.1111111111111111,
              "#46039f"
             ],
             [
              0.2222222222222222,
              "#7201a8"
             ],
             [
              0.3333333333333333,
              "#9c179e"
             ],
             [
              0.4444444444444444,
              "#bd3786"
             ],
             [
              0.5555555555555556,
              "#d8576b"
             ],
             [
              0.6666666666666666,
              "#ed7953"
             ],
             [
              0.7777777777777778,
              "#fb9f3a"
             ],
             [
              0.8888888888888888,
              "#fdca26"
             ],
             [
              1,
              "#f0f921"
             ]
            ],
            "type": "histogram2dcontour"
           }
          ],
          "mesh3d": [
           {
            "colorbar": {
             "outlinewidth": 0,
             "ticks": ""
            },
            "type": "mesh3d"
           }
          ],
          "parcoords": [
           {
            "line": {
             "colorbar": {
              "outlinewidth": 0,
              "ticks": ""
             }
            },
            "type": "parcoords"
           }
          ],
          "pie": [
           {
            "automargin": true,
            "type": "pie"
           }
          ],
          "scatter": [
           {
            "marker": {
             "colorbar": {
              "outlinewidth": 0,
              "ticks": ""
             }
            },
            "type": "scatter"
           }
          ],
          "scatter3d": [
           {
            "line": {
             "colorbar": {
              "outlinewidth": 0,
              "ticks": ""
             }
            },
            "marker": {
             "colorbar": {
              "outlinewidth": 0,
              "ticks": ""
             }
            },
            "type": "scatter3d"
           }
          ],
          "scattercarpet": [
           {
            "marker": {
             "colorbar": {
              "outlinewidth": 0,
              "ticks": ""
             }
            },
            "type": "scattercarpet"
           }
          ],
          "scattergeo": [
           {
            "marker": {
             "colorbar": {
              "outlinewidth": 0,
              "ticks": ""
             }
            },
            "type": "scattergeo"
           }
          ],
          "scattergl": [
           {
            "marker": {
             "colorbar": {
              "outlinewidth": 0,
              "ticks": ""
             }
            },
            "type": "scattergl"
           }
          ],
          "scattermapbox": [
           {
            "marker": {
             "colorbar": {
              "outlinewidth": 0,
              "ticks": ""
             }
            },
            "type": "scattermapbox"
           }
          ],
          "scatterpolar": [
           {
            "marker": {
             "colorbar": {
              "outlinewidth": 0,
              "ticks": ""
             }
            },
            "type": "scatterpolar"
           }
          ],
          "scatterpolargl": [
           {
            "marker": {
             "colorbar": {
              "outlinewidth": 0,
              "ticks": ""
             }
            },
            "type": "scatterpolargl"
           }
          ],
          "scatterternary": [
           {
            "marker": {
             "colorbar": {
              "outlinewidth": 0,
              "ticks": ""
             }
            },
            "type": "scatterternary"
           }
          ],
          "surface": [
           {
            "colorbar": {
             "outlinewidth": 0,
             "ticks": ""
            },
            "colorscale": [
             [
              0,
              "#0d0887"
             ],
             [
              0.1111111111111111,
              "#46039f"
             ],
             [
              0.2222222222222222,
              "#7201a8"
             ],
             [
              0.3333333333333333,
              "#9c179e"
             ],
             [
              0.4444444444444444,
              "#bd3786"
             ],
             [
              0.5555555555555556,
              "#d8576b"
             ],
             [
              0.6666666666666666,
              "#ed7953"
             ],
             [
              0.7777777777777778,
              "#fb9f3a"
             ],
             [
              0.8888888888888888,
              "#fdca26"
             ],
             [
              1,
              "#f0f921"
             ]
            ],
            "type": "surface"
           }
          ],
          "table": [
           {
            "cells": {
             "fill": {
              "color": "#EBF0F8"
             },
             "line": {
              "color": "white"
             }
            },
            "header": {
             "fill": {
              "color": "#C8D4E3"
             },
             "line": {
              "color": "white"
             }
            },
            "type": "table"
           }
          ]
         },
         "layout": {
          "annotationdefaults": {
           "arrowcolor": "#2a3f5f",
           "arrowhead": 0,
           "arrowwidth": 1
          },
          "autotypenumbers": "strict",
          "coloraxis": {
           "colorbar": {
            "outlinewidth": 0,
            "ticks": ""
           }
          },
          "colorscale": {
           "diverging": [
            [
             0,
             "#8e0152"
            ],
            [
             0.1,
             "#c51b7d"
            ],
            [
             0.2,
             "#de77ae"
            ],
            [
             0.3,
             "#f1b6da"
            ],
            [
             0.4,
             "#fde0ef"
            ],
            [
             0.5,
             "#f7f7f7"
            ],
            [
             0.6,
             "#e6f5d0"
            ],
            [
             0.7,
             "#b8e186"
            ],
            [
             0.8,
             "#7fbc41"
            ],
            [
             0.9,
             "#4d9221"
            ],
            [
             1,
             "#276419"
            ]
           ],
           "sequential": [
            [
             0,
             "#0d0887"
            ],
            [
             0.1111111111111111,
             "#46039f"
            ],
            [
             0.2222222222222222,
             "#7201a8"
            ],
            [
             0.3333333333333333,
             "#9c179e"
            ],
            [
             0.4444444444444444,
             "#bd3786"
            ],
            [
             0.5555555555555556,
             "#d8576b"
            ],
            [
             0.6666666666666666,
             "#ed7953"
            ],
            [
             0.7777777777777778,
             "#fb9f3a"
            ],
            [
             0.8888888888888888,
             "#fdca26"
            ],
            [
             1,
             "#f0f921"
            ]
           ],
           "sequentialminus": [
            [
             0,
             "#0d0887"
            ],
            [
             0.1111111111111111,
             "#46039f"
            ],
            [
             0.2222222222222222,
             "#7201a8"
            ],
            [
             0.3333333333333333,
             "#9c179e"
            ],
            [
             0.4444444444444444,
             "#bd3786"
            ],
            [
             0.5555555555555556,
             "#d8576b"
            ],
            [
             0.6666666666666666,
             "#ed7953"
            ],
            [
             0.7777777777777778,
             "#fb9f3a"
            ],
            [
             0.8888888888888888,
             "#fdca26"
            ],
            [
             1,
             "#f0f921"
            ]
           ]
          },
          "colorway": [
           "#636efa",
           "#EF553B",
           "#00cc96",
           "#ab63fa",
           "#FFA15A",
           "#19d3f3",
           "#FF6692",
           "#B6E880",
           "#FF97FF",
           "#FECB52"
          ],
          "font": {
           "color": "#2a3f5f"
          },
          "geo": {
           "bgcolor": "white",
           "lakecolor": "white",
           "landcolor": "#E5ECF6",
           "showlakes": true,
           "showland": true,
           "subunitcolor": "white"
          },
          "hoverlabel": {
           "align": "left"
          },
          "hovermode": "closest",
          "mapbox": {
           "style": "light"
          },
          "paper_bgcolor": "white",
          "plot_bgcolor": "#E5ECF6",
          "polar": {
           "angularaxis": {
            "gridcolor": "white",
            "linecolor": "white",
            "ticks": ""
           },
           "bgcolor": "#E5ECF6",
           "radialaxis": {
            "gridcolor": "white",
            "linecolor": "white",
            "ticks": ""
           }
          },
          "scene": {
           "xaxis": {
            "backgroundcolor": "#E5ECF6",
            "gridcolor": "white",
            "gridwidth": 2,
            "linecolor": "white",
            "showbackground": true,
            "ticks": "",
            "zerolinecolor": "white"
           },
           "yaxis": {
            "backgroundcolor": "#E5ECF6",
            "gridcolor": "white",
            "gridwidth": 2,
            "linecolor": "white",
            "showbackground": true,
            "ticks": "",
            "zerolinecolor": "white"
           },
           "zaxis": {
            "backgroundcolor": "#E5ECF6",
            "gridcolor": "white",
            "gridwidth": 2,
            "linecolor": "white",
            "showbackground": true,
            "ticks": "",
            "zerolinecolor": "white"
           }
          },
          "shapedefaults": {
           "line": {
            "color": "#2a3f5f"
           }
          },
          "ternary": {
           "aaxis": {
            "gridcolor": "white",
            "linecolor": "white",
            "ticks": ""
           },
           "baxis": {
            "gridcolor": "white",
            "linecolor": "white",
            "ticks": ""
           },
           "bgcolor": "#E5ECF6",
           "caxis": {
            "gridcolor": "white",
            "linecolor": "white",
            "ticks": ""
           }
          },
          "title": {
           "x": 0.05
          },
          "xaxis": {
           "automargin": true,
           "gridcolor": "white",
           "linecolor": "white",
           "ticks": "",
           "title": {
            "standoff": 15
           },
           "zerolinecolor": "white",
           "zerolinewidth": 2
          },
          "yaxis": {
           "automargin": true,
           "gridcolor": "white",
           "linecolor": "white",
           "ticks": "",
           "title": {
            "standoff": 15
           },
           "zerolinecolor": "white",
           "zerolinewidth": 2
          }
         }
        },
        "title": {
         "text": "Guest Stars over the 10 Seasons"
        },
        "xaxis": {
         "anchor": "y",
         "domain": [
          0,
          1
         ],
         "title": {
          "text": "Season"
         }
        },
        "yaxis": {
         "anchor": "x",
         "domain": [
          0,
          1
         ],
         "title": {
          "text": "Number of lines"
         }
        }
       }
      },
      "text/html": [
       "<div>                            <div id=\"ca952662-e085-444c-ac2c-4c40caced026\" class=\"plotly-graph-div\" style=\"height:525px; width:100%;\"></div>            <script type=\"text/javascript\">                require([\"plotly\"], function(Plotly) {                    window.PLOTLYENV=window.PLOTLYENV || {};                                    if (document.getElementById(\"ca952662-e085-444c-ac2c-4c40caced026\")) {                    Plotly.newPlot(                        \"ca952662-e085-444c-ac2c-4c40caced026\",                        [{\"alignmentgroup\": \"True\", \"hovertemplate\": \"Actor=Adam Goldberg<br>Season=%{x}<br>Number of lines=%{y}<extra></extra>\", \"legendgroup\": \"Adam Goldberg\", \"marker\": {\"color\": \"#636efa\"}, \"name\": \"Adam Goldberg\", \"offsetgroup\": \"Adam Goldberg\", \"orientation\": \"v\", \"showlegend\": true, \"textposition\": \"auto\", \"type\": \"bar\", \"x\": [2], \"xaxis\": \"x\", \"y\": [64], \"yaxis\": \"y\"}, {\"alignmentgroup\": \"True\", \"hovertemplate\": \"Actor=Aisha Tyler<br>Season=%{x}<br>Number of lines=%{y}<extra></extra>\", \"legendgroup\": \"Aisha Tyler\", \"marker\": {\"color\": \"#EF553B\"}, \"name\": \"Aisha Tyler\", \"offsetgroup\": \"Aisha Tyler\", \"orientation\": \"v\", \"showlegend\": true, \"textposition\": \"auto\", \"type\": \"bar\", \"x\": [9, 10], \"xaxis\": \"x\", \"y\": [133, 57], \"yaxis\": \"y\"}, {\"alignmentgroup\": \"True\", \"hovertemplate\": \"Actor=Alec Baldwin<br>Season=%{x}<br>Number of lines=%{y}<extra></extra>\", \"legendgroup\": \"Alec Baldwin\", \"marker\": {\"color\": \"#00cc96\"}, \"name\": \"Alec Baldwin\", \"offsetgroup\": \"Alec Baldwin\", \"orientation\": \"v\", \"showlegend\": true, \"textposition\": \"auto\", \"type\": \"bar\", \"x\": [8], \"xaxis\": \"x\", \"y\": [33], \"yaxis\": \"y\"}, {\"alignmentgroup\": \"True\", \"hovertemplate\": \"Actor=Alison Sweeney<br>Season=%{x}<br>Number of lines=%{y}<extra></extra>\", \"legendgroup\": \"Alison Sweeney\", \"marker\": {\"color\": \"#ab63fa\"}, \"name\": \"Alison Sweeney\", \"offsetgroup\": \"Alison Sweeney\", \"orientation\": \"v\", \"showlegend\": true, \"textposition\": \"auto\", \"type\": \"bar\", \"x\": [7], \"xaxis\": \"x\", \"y\": [4], \"yaxis\": \"y\"}, {\"alignmentgroup\": \"True\", \"hovertemplate\": \"Actor=Anna Faris<br>Season=%{x}<br>Number of lines=%{y}<extra></extra>\", \"legendgroup\": \"Anna Faris\", \"marker\": {\"color\": \"#FFA15A\"}, \"name\": \"Anna Faris\", \"offsetgroup\": \"Anna Faris\", \"orientation\": \"v\", \"showlegend\": true, \"textposition\": \"auto\", \"type\": \"bar\", \"x\": [10], \"xaxis\": \"x\", \"y\": [67], \"yaxis\": \"y\"}, {\"alignmentgroup\": \"True\", \"hovertemplate\": \"Actor=Ben Stiller<br>Season=%{x}<br>Number of lines=%{y}<extra></extra>\", \"legendgroup\": \"Ben Stiller\", \"marker\": {\"color\": \"#19d3f3\"}, \"name\": \"Ben Stiller\", \"offsetgroup\": \"Ben Stiller\", \"orientation\": \"v\", \"showlegend\": true, \"textposition\": \"auto\", \"type\": \"bar\", \"x\": [3], \"xaxis\": \"x\", \"y\": [21], \"yaxis\": \"y\"}, {\"alignmentgroup\": \"True\", \"hovertemplate\": \"Actor=Billy Crystal<br>Season=%{x}<br>Number of lines=%{y}<extra></extra>\", \"legendgroup\": \"Billy Crystal\", \"marker\": {\"color\": \"#FF6692\"}, \"name\": \"Billy Crystal\", \"offsetgroup\": \"Billy Crystal\", \"orientation\": \"v\", \"showlegend\": true, \"textposition\": \"auto\", \"type\": \"bar\", \"x\": [3], \"xaxis\": \"x\", \"y\": [11], \"yaxis\": \"y\"}, {\"alignmentgroup\": \"True\", \"hovertemplate\": \"Actor=Brad Pitt<br>Season=%{x}<br>Number of lines=%{y}<extra></extra>\", \"legendgroup\": \"Brad Pitt\", \"marker\": {\"color\": \"#B6E880\"}, \"name\": \"Brad Pitt\", \"offsetgroup\": \"Brad Pitt\", \"orientation\": \"v\", \"showlegend\": true, \"textposition\": \"auto\", \"type\": \"bar\", \"x\": [8], \"xaxis\": \"x\", \"y\": [50], \"yaxis\": \"y\"}, {\"alignmentgroup\": \"True\", \"hovertemplate\": \"Actor=Brook Shields<br>Season=%{x}<br>Number of lines=%{y}<extra></extra>\", \"legendgroup\": \"Brook Shields\", \"marker\": {\"color\": \"#FF97FF\"}, \"name\": \"Brook Shields\", \"offsetgroup\": \"Brook Shields\", \"orientation\": \"v\", \"showlegend\": true, \"textposition\": \"auto\", \"type\": \"bar\", \"x\": [2], \"xaxis\": \"x\", \"y\": [26], \"yaxis\": \"y\"}, {\"alignmentgroup\": \"True\", \"hovertemplate\": \"Actor=Bruce Willis<br>Season=%{x}<br>Number of lines=%{y}<extra></extra>\", \"legendgroup\": \"Bruce Willis\", \"marker\": {\"color\": \"#FECB52\"}, \"name\": \"Bruce Willis\", \"offsetgroup\": \"Bruce Willis\", \"orientation\": \"v\", \"showlegend\": true, \"textposition\": \"auto\", \"type\": \"bar\", \"x\": [6], \"xaxis\": \"x\", \"y\": [116], \"yaxis\": \"y\"}, {\"alignmentgroup\": \"True\", \"hovertemplate\": \"Actor=Charlie Sheen<br>Season=%{x}<br>Number of lines=%{y}<extra></extra>\", \"legendgroup\": \"Charlie Sheen\", \"marker\": {\"color\": \"#636efa\"}, \"name\": \"Charlie Sheen\", \"offsetgroup\": \"Charlie Sheen\", \"orientation\": \"v\", \"showlegend\": true, \"textposition\": \"auto\", \"type\": \"bar\", \"x\": [2], \"xaxis\": \"x\", \"y\": [32], \"yaxis\": \"y\"}, {\"alignmentgroup\": \"True\", \"hovertemplate\": \"Actor=Charlton heston<br>Season=%{x}<br>Number of lines=%{y}<extra></extra>\", \"legendgroup\": \"Charlton heston\", \"marker\": {\"color\": \"#EF553B\"}, \"name\": \"Charlton heston\", \"offsetgroup\": \"Charlton heston\", \"orientation\": \"v\", \"showlegend\": true, \"textposition\": \"auto\", \"type\": \"bar\", \"x\": [4], \"xaxis\": \"x\", \"y\": [9], \"yaxis\": \"y\"}, {\"alignmentgroup\": \"True\", \"hovertemplate\": \"Actor=Chris Isaak\\u00a0<br>Season=%{x}<br>Number of lines=%{y}<extra></extra>\", \"legendgroup\": \"Chris Isaak\\u00a0\", \"marker\": {\"color\": \"#00cc96\"}, \"name\": \"Chris Isaak\\u00a0\", \"offsetgroup\": \"Chris Isaak\\u00a0\", \"orientation\": \"v\", \"showlegend\": true, \"textposition\": \"auto\", \"type\": \"bar\", \"x\": [2], \"xaxis\": \"x\", \"y\": [15], \"yaxis\": \"y\"}, {\"alignmentgroup\": \"True\", \"hovertemplate\": \"Actor=Chris Parnell<br>Season=%{x}<br>Number of lines=%{y}<extra></extra>\", \"legendgroup\": \"Chris Parnell\", \"marker\": {\"color\": \"#ab63fa\"}, \"name\": \"Chris Parnell\", \"offsetgroup\": \"Chris Parnell\", \"orientation\": \"v\", \"showlegend\": true, \"textposition\": \"auto\", \"type\": \"bar\", \"x\": [8], \"xaxis\": \"x\", \"y\": [10], \"yaxis\": \"y\"}, {\"alignmentgroup\": \"True\", \"hovertemplate\": \"Actor=Chrissie Hynde<br>Season=%{x}<br>Number of lines=%{y}<extra></extra>\", \"legendgroup\": \"Chrissie Hynde\", \"marker\": {\"color\": \"#FFA15A\"}, \"name\": \"Chrissie Hynde\", \"offsetgroup\": \"Chrissie Hynde\", \"orientation\": \"v\", \"showlegend\": true, \"textposition\": \"auto\", \"type\": \"bar\", \"x\": [2], \"xaxis\": \"x\", \"y\": [13], \"yaxis\": \"y\"}, {\"alignmentgroup\": \"True\", \"hovertemplate\": \"Actor=Christina Applegate<br>Season=%{x}<br>Number of lines=%{y}<extra></extra>\", \"legendgroup\": \"Christina Applegate\", \"marker\": {\"color\": \"#19d3f3\"}, \"name\": \"Christina Applegate\", \"offsetgroup\": \"Christina Applegate\", \"orientation\": \"v\", \"showlegend\": true, \"textposition\": \"auto\", \"type\": \"bar\", \"x\": [9, 10], \"xaxis\": \"x\", \"y\": [59, 65], \"yaxis\": \"y\"}, {\"alignmentgroup\": \"True\", \"hovertemplate\": \"Actor=Dakota Fanning<br>Season=%{x}<br>Number of lines=%{y}<extra></extra>\", \"legendgroup\": \"Dakota Fanning\", \"marker\": {\"color\": \"#FF6692\"}, \"name\": \"Dakota Fanning\", \"offsetgroup\": \"Dakota Fanning\", \"orientation\": \"v\", \"showlegend\": true, \"textposition\": \"auto\", \"type\": \"bar\", \"x\": [10], \"xaxis\": \"x\", \"y\": [11], \"yaxis\": \"y\"}, {\"alignmentgroup\": \"True\", \"hovertemplate\": \"Actor=Danny DeVito\\u00a0<br>Season=%{x}<br>Number of lines=%{y}<extra></extra>\", \"legendgroup\": \"Danny DeVito\\u00a0\", \"marker\": {\"color\": \"#B6E880\"}, \"name\": \"Danny DeVito\\u00a0\", \"offsetgroup\": \"Danny DeVito\\u00a0\", \"orientation\": \"v\", \"showlegend\": true, \"textposition\": \"auto\", \"type\": \"bar\", \"x\": [10], \"xaxis\": \"x\", \"y\": [24], \"yaxis\": \"y\"}, {\"alignmentgroup\": \"True\", \"hovertemplate\": \"Actor=David Arquette<br>Season=%{x}<br>Number of lines=%{y}<extra></extra>\", \"legendgroup\": \"David Arquette\", \"marker\": {\"color\": \"#FF97FF\"}, \"name\": \"David Arquette\", \"offsetgroup\": \"David Arquette\", \"orientation\": \"v\", \"showlegend\": true, \"textposition\": \"auto\", \"type\": \"bar\", \"x\": [3], \"xaxis\": \"x\", \"y\": [24], \"yaxis\": \"y\"}, {\"alignmentgroup\": \"True\", \"hovertemplate\": \"Actor=Denise Richards<br>Season=%{x}<br>Number of lines=%{y}<extra></extra>\", \"legendgroup\": \"Denise Richards\", \"marker\": {\"color\": \"#FECB52\"}, \"name\": \"Denise Richards\", \"offsetgroup\": \"Denise Richards\", \"orientation\": \"v\", \"showlegend\": true, \"textposition\": \"auto\", \"type\": \"bar\", \"x\": [7], \"xaxis\": \"x\", \"y\": [16], \"yaxis\": \"y\"}, {\"alignmentgroup\": \"True\", \"hovertemplate\": \"Actor=Dermot Mulroney<br>Season=%{x}<br>Number of lines=%{y}<extra></extra>\", \"legendgroup\": \"Dermot Mulroney\", \"marker\": {\"color\": \"#636efa\"}, \"name\": \"Dermot Mulroney\", \"offsetgroup\": \"Dermot Mulroney\", \"orientation\": \"v\", \"showlegend\": true, \"textposition\": \"auto\", \"type\": \"bar\", \"x\": [9], \"xaxis\": \"x\", \"y\": [25], \"yaxis\": \"y\"}, {\"alignmentgroup\": \"True\", \"hovertemplate\": \"Actor=Elle Macpherson<br>Season=%{x}<br>Number of lines=%{y}<extra></extra>\", \"legendgroup\": \"Elle Macpherson\", \"marker\": {\"color\": \"#EF553B\"}, \"name\": \"Elle Macpherson\", \"offsetgroup\": \"Elle Macpherson\", \"orientation\": \"v\", \"showlegend\": true, \"textposition\": \"auto\", \"type\": \"bar\", \"x\": [6], \"xaxis\": \"x\", \"y\": [89], \"yaxis\": \"y\"}, {\"alignmentgroup\": \"True\", \"hovertemplate\": \"Actor=Ellen Pompeo<br>Season=%{x}<br>Number of lines=%{y}<extra></extra>\", \"legendgroup\": \"Ellen Pompeo\", \"marker\": {\"color\": \"#00cc96\"}, \"name\": \"Ellen Pompeo\", \"offsetgroup\": \"Ellen Pompeo\", \"orientation\": \"v\", \"showlegend\": true, \"textposition\": \"auto\", \"type\": \"bar\", \"x\": [10], \"xaxis\": \"x\", \"y\": [10], \"yaxis\": \"y\"}, {\"alignmentgroup\": \"True\", \"hovertemplate\": \"Actor=Fred Willard\\u00a0<br>Season=%{x}<br>Number of lines=%{y}<extra></extra>\", \"legendgroup\": \"Fred Willard\\u00a0\", \"marker\": {\"color\": \"#ab63fa\"}, \"name\": \"Fred Willard\\u00a0\", \"offsetgroup\": \"Fred Willard\\u00a0\", \"orientation\": \"v\", \"showlegend\": true, \"textposition\": \"auto\", \"type\": \"bar\", \"x\": [2], \"xaxis\": \"x\", \"y\": [6], \"yaxis\": \"y\"}, {\"alignmentgroup\": \"True\", \"hovertemplate\": \"Actor=Freddie Prinze Jr.<br>Season=%{x}<br>Number of lines=%{y}<extra></extra>\", \"legendgroup\": \"Freddie Prinze Jr.\", \"marker\": {\"color\": \"#FFA15A\"}, \"name\": \"Freddie Prinze Jr.\", \"offsetgroup\": \"Freddie Prinze Jr.\", \"orientation\": \"v\", \"showlegend\": true, \"textposition\": \"auto\", \"type\": \"bar\", \"x\": [9], \"xaxis\": \"x\", \"y\": [29], \"yaxis\": \"y\"}, {\"alignmentgroup\": \"True\", \"hovertemplate\": \"Actor=Gabrielle Union<br>Season=%{x}<br>Number of lines=%{y}<extra></extra>\", \"legendgroup\": \"Gabrielle Union\", \"marker\": {\"color\": \"#19d3f3\"}, \"name\": \"Gabrielle Union\", \"offsetgroup\": \"Gabrielle Union\", \"orientation\": \"v\", \"showlegend\": true, \"textposition\": \"auto\", \"type\": \"bar\", \"x\": [7], \"xaxis\": \"x\", \"y\": [27], \"yaxis\": \"y\"}, {\"alignmentgroup\": \"True\", \"hovertemplate\": \"Actor=Gary Oldman<br>Season=%{x}<br>Number of lines=%{y}<extra></extra>\", \"legendgroup\": \"Gary Oldman\", \"marker\": {\"color\": \"#FF6692\"}, \"name\": \"Gary Oldman\", \"offsetgroup\": \"Gary Oldman\", \"orientation\": \"v\", \"showlegend\": true, \"textposition\": \"auto\", \"type\": \"bar\", \"x\": [7], \"xaxis\": \"x\", \"y\": [33], \"yaxis\": \"y\"}, {\"alignmentgroup\": \"True\", \"hovertemplate\": \"Actor=George Clooney<br>Season=%{x}<br>Number of lines=%{y}<extra></extra>\", \"legendgroup\": \"George Clooney\", \"marker\": {\"color\": \"#B6E880\"}, \"name\": \"George Clooney\", \"offsetgroup\": \"George Clooney\", \"orientation\": \"v\", \"showlegend\": true, \"textposition\": \"auto\", \"type\": \"bar\", \"x\": [1], \"xaxis\": \"x\", \"y\": [13], \"yaxis\": \"y\"}, {\"alignmentgroup\": \"True\", \"hovertemplate\": \"Actor=Greg Kinnear<br>Season=%{x}<br>Number of lines=%{y}<extra></extra>\", \"legendgroup\": \"Greg Kinnear\", \"marker\": {\"color\": \"#FF97FF\"}, \"name\": \"Greg Kinnear\", \"offsetgroup\": \"Greg Kinnear\", \"orientation\": \"v\", \"showlegend\": true, \"textposition\": \"auto\", \"type\": \"bar\", \"x\": [10], \"xaxis\": \"x\", \"y\": [38], \"yaxis\": \"y\"}, {\"alignmentgroup\": \"True\", \"hovertemplate\": \"Actor=Hank Azaria<br>Season=%{x}<br>Number of lines=%{y}<extra></extra>\", \"legendgroup\": \"Hank Azaria\", \"marker\": {\"color\": \"#FECB52\"}, \"name\": \"Hank Azaria\", \"offsetgroup\": \"Hank Azaria\", \"orientation\": \"v\", \"showlegend\": true, \"textposition\": \"auto\", \"type\": \"bar\", \"x\": [1, 7, 9], \"xaxis\": \"x\", \"y\": [28, 20, 72], \"yaxis\": \"y\"}, {\"alignmentgroup\": \"True\", \"hovertemplate\": \"Actor=Helen Hunt<br>Season=%{x}<br>Number of lines=%{y}<extra></extra>\", \"legendgroup\": \"Helen Hunt\", \"marker\": {\"color\": \"#636efa\"}, \"name\": \"Helen Hunt\", \"offsetgroup\": \"Helen Hunt\", \"orientation\": \"v\", \"showlegend\": true, \"textposition\": \"auto\", \"type\": \"bar\", \"x\": [1], \"xaxis\": \"x\", \"y\": [11], \"yaxis\": \"y\"}, {\"alignmentgroup\": \"True\", \"hovertemplate\": \"Actor=Hugh Laurie<br>Season=%{x}<br>Number of lines=%{y}<extra></extra>\", \"legendgroup\": \"Hugh Laurie\", \"marker\": {\"color\": \"#EF553B\"}, \"name\": \"Hugh Laurie\", \"offsetgroup\": \"Hugh Laurie\", \"orientation\": \"v\", \"showlegend\": true, \"textposition\": \"auto\", \"type\": \"bar\", \"x\": [4], \"xaxis\": \"x\", \"y\": [6], \"yaxis\": \"y\"}, {\"alignmentgroup\": \"True\", \"hovertemplate\": \"Actor=Iqbal Theba<br>Season=%{x}<br>Number of lines=%{y}<extra></extra>\", \"legendgroup\": \"Iqbal Theba\", \"marker\": {\"color\": \"#00cc96\"}, \"name\": \"Iqbal Theba\", \"offsetgroup\": \"Iqbal Theba\", \"orientation\": \"v\", \"showlegend\": true, \"textposition\": \"auto\", \"type\": \"bar\", \"x\": [5], \"xaxis\": \"x\", \"y\": [6], \"yaxis\": \"y\"}, {\"alignmentgroup\": \"True\", \"hovertemplate\": \"Actor=Isabella Rossellini<br>Season=%{x}<br>Number of lines=%{y}<extra></extra>\", \"legendgroup\": \"Isabella Rossellini\", \"marker\": {\"color\": \"#ab63fa\"}, \"name\": \"Isabella Rossellini\", \"offsetgroup\": \"Isabella Rossellini\", \"orientation\": \"v\", \"showlegend\": true, \"textposition\": \"auto\", \"type\": \"bar\", \"x\": [3], \"xaxis\": \"x\", \"y\": [10], \"yaxis\": \"y\"}, {\"alignmentgroup\": \"True\", \"hovertemplate\": \"Actor=Jason Alexander<br>Season=%{x}<br>Number of lines=%{y}<extra></extra>\", \"legendgroup\": \"Jason Alexander\", \"marker\": {\"color\": \"#FFA15A\"}, \"name\": \"Jason Alexander\", \"offsetgroup\": \"Jason Alexander\", \"orientation\": \"v\", \"showlegend\": true, \"textposition\": \"auto\", \"type\": \"bar\", \"x\": [7], \"xaxis\": \"x\", \"y\": [29], \"yaxis\": \"y\"}, {\"alignmentgroup\": \"True\", \"hovertemplate\": \"Actor=Jay Leno<br>Season=%{x}<br>Number of lines=%{y}<extra></extra>\", \"legendgroup\": \"Jay Leno\", \"marker\": {\"color\": \"#19d3f3\"}, \"name\": \"Jay Leno\", \"offsetgroup\": \"Jay Leno\", \"orientation\": \"v\", \"showlegend\": true, \"textposition\": \"auto\", \"type\": \"bar\", \"x\": [1], \"xaxis\": \"x\", \"y\": [4], \"yaxis\": \"y\"}, {\"alignmentgroup\": \"True\", \"hovertemplate\": \"Actor=Jean-Claude Van Damme<br>Season=%{x}<br>Number of lines=%{y}<extra></extra>\", \"legendgroup\": \"Jean-Claude Van Damme\", \"marker\": {\"color\": \"#FF6692\"}, \"name\": \"Jean-Claude Van Damme\", \"offsetgroup\": \"Jean-Claude Van Damme\", \"orientation\": \"v\", \"showlegend\": true, \"textposition\": \"auto\", \"type\": \"bar\", \"x\": [2], \"xaxis\": \"x\", \"y\": [14], \"yaxis\": \"y\"}, {\"alignmentgroup\": \"True\", \"hovertemplate\": \"Actor=Jeff Goldblum<br>Season=%{x}<br>Number of lines=%{y}<extra></extra>\", \"legendgroup\": \"Jeff Goldblum\", \"marker\": {\"color\": \"#B6E880\"}, \"name\": \"Jeff Goldblum\", \"offsetgroup\": \"Jeff Goldblum\", \"orientation\": \"v\", \"showlegend\": true, \"textposition\": \"auto\", \"type\": \"bar\", \"x\": [9], \"xaxis\": \"x\", \"y\": [33], \"yaxis\": \"y\"}, {\"alignmentgroup\": \"True\", \"hovertemplate\": \"Actor=Jennifer Coolidge<br>Season=%{x}<br>Number of lines=%{y}<extra></extra>\", \"legendgroup\": \"Jennifer Coolidge\", \"marker\": {\"color\": \"#FF97FF\"}, \"name\": \"Jennifer Coolidge\", \"offsetgroup\": \"Jennifer Coolidge\", \"orientation\": \"v\", \"showlegend\": true, \"textposition\": \"auto\", \"type\": \"bar\", \"x\": [10], \"xaxis\": \"x\", \"y\": [14], \"yaxis\": \"y\"}, {\"alignmentgroup\": \"True\", \"hovertemplate\": \"Actor=Jennifer Grey<br>Season=%{x}<br>Number of lines=%{y}<extra></extra>\", \"legendgroup\": \"Jennifer Grey\", \"marker\": {\"color\": \"#FECB52\"}, \"name\": \"Jennifer Grey\", \"offsetgroup\": \"Jennifer Grey\", \"orientation\": \"v\", \"showlegend\": true, \"textposition\": \"auto\", \"type\": \"bar\", \"x\": [1], \"xaxis\": \"x\", \"y\": [22], \"yaxis\": \"y\"}, {\"alignmentgroup\": \"True\", \"hovertemplate\": \"Actor=Jill Goodacre<br>Season=%{x}<br>Number of lines=%{y}<extra></extra>\", \"legendgroup\": \"Jill Goodacre\", \"marker\": {\"color\": \"#636efa\"}, \"name\": \"Jill Goodacre\", \"offsetgroup\": \"Jill Goodacre\", \"orientation\": \"v\", \"showlegend\": true, \"textposition\": \"auto\", \"type\": \"bar\", \"x\": [1], \"xaxis\": \"x\", \"y\": [13], \"yaxis\": \"y\"}, {\"alignmentgroup\": \"True\", \"hovertemplate\": \"Actor=Jim Rash<br>Season=%{x}<br>Number of lines=%{y}<extra></extra>\", \"legendgroup\": \"Jim Rash\", \"marker\": {\"color\": \"#EF553B\"}, \"name\": \"Jim Rash\", \"offsetgroup\": \"Jim Rash\", \"orientation\": \"v\", \"showlegend\": true, \"textposition\": \"auto\", \"type\": \"bar\", \"x\": [10], \"xaxis\": \"x\", \"y\": [8], \"yaxis\": \"y\"}, {\"alignmentgroup\": \"True\", \"hovertemplate\": \"Actor=John Stamos<br>Season=%{x}<br>Number of lines=%{y}<extra></extra>\", \"legendgroup\": \"John Stamos\", \"marker\": {\"color\": \"#00cc96\"}, \"name\": \"John Stamos\", \"offsetgroup\": \"John Stamos\", \"orientation\": \"v\", \"showlegend\": true, \"textposition\": \"auto\", \"type\": \"bar\", \"x\": [9], \"xaxis\": \"x\", \"y\": [20], \"yaxis\": \"y\"}, {\"alignmentgroup\": \"True\", \"hovertemplate\": \"Actor=Jon Favreau<br>Season=%{x}<br>Number of lines=%{y}<extra></extra>\", \"legendgroup\": \"Jon Favreau\", \"marker\": {\"color\": \"#ab63fa\"}, \"name\": \"Jon Favreau\", \"offsetgroup\": \"Jon Favreau\", \"orientation\": \"v\", \"showlegend\": true, \"textposition\": \"auto\", \"type\": \"bar\", \"x\": [3], \"xaxis\": \"x\", \"y\": [103], \"yaxis\": \"y\"}, {\"alignmentgroup\": \"True\", \"hovertemplate\": \"Actor=Jon Lovitz<br>Season=%{x}<br>Number of lines=%{y}<extra></extra>\", \"legendgroup\": \"Jon Lovitz\", \"marker\": {\"color\": \"#FFA15A\"}, \"name\": \"Jon Lovitz\", \"offsetgroup\": \"Jon Lovitz\", \"orientation\": \"v\", \"showlegend\": true, \"textposition\": \"auto\", \"type\": \"bar\", \"x\": [1, 9], \"xaxis\": \"x\", \"y\": [23, 13], \"yaxis\": \"y\"}, {\"alignmentgroup\": \"True\", \"hovertemplate\": \"Actor=Julia Roberts<br>Season=%{x}<br>Number of lines=%{y}<extra></extra>\", \"legendgroup\": \"Julia Roberts\", \"marker\": {\"color\": \"#19d3f3\"}, \"name\": \"Julia Roberts\", \"offsetgroup\": \"Julia Roberts\", \"orientation\": \"v\", \"showlegend\": true, \"textposition\": \"auto\", \"type\": \"bar\", \"x\": [2], \"xaxis\": \"x\", \"y\": [35], \"yaxis\": \"y\"}, {\"alignmentgroup\": \"True\", \"hovertemplate\": \"Actor=Kathleen Turner<br>Season=%{x}<br>Number of lines=%{y}<extra></extra>\", \"legendgroup\": \"Kathleen Turner\", \"marker\": {\"color\": \"#FF6692\"}, \"name\": \"Kathleen Turner\", \"offsetgroup\": \"Kathleen Turner\", \"orientation\": \"v\", \"showlegend\": true, \"textposition\": \"auto\", \"type\": \"bar\", \"x\": [7], \"xaxis\": \"x\", \"y\": [23], \"yaxis\": \"y\"}, {\"alignmentgroup\": \"True\", \"hovertemplate\": \"Actor=Kristin Davis<br>Season=%{x}<br>Number of lines=%{y}<extra></extra>\", \"legendgroup\": \"Kristin Davis\", \"marker\": {\"color\": \"#B6E880\"}, \"name\": \"Kristin Davis\", \"offsetgroup\": \"Kristin Davis\", \"orientation\": \"v\", \"showlegend\": true, \"textposition\": \"auto\", \"type\": \"bar\", \"x\": [7], \"xaxis\": \"x\", \"y\": [23], \"yaxis\": \"y\"}, {\"alignmentgroup\": \"True\", \"hovertemplate\": \"Actor=Lea Thompson<br>Season=%{x}<br>Number of lines=%{y}<extra></extra>\", \"legendgroup\": \"Lea Thompson\", \"marker\": {\"color\": \"#FF97FF\"}, \"name\": \"Lea Thompson\", \"offsetgroup\": \"Lea Thompson\", \"orientation\": \"v\", \"showlegend\": true, \"textposition\": \"auto\", \"type\": \"bar\", \"x\": [2], \"xaxis\": \"x\", \"y\": [6], \"yaxis\": \"y\"}, {\"alignmentgroup\": \"True\", \"hovertemplate\": \"Actor=Leah Remini<br>Season=%{x}<br>Number of lines=%{y}<extra></extra>\", \"legendgroup\": \"Leah Remini\", \"marker\": {\"color\": \"#FECB52\"}, \"name\": \"Leah Remini\", \"offsetgroup\": \"Leah Remini\", \"orientation\": \"v\", \"showlegend\": true, \"textposition\": \"auto\", \"type\": \"bar\", \"x\": [1], \"xaxis\": \"x\", \"y\": [21], \"yaxis\": \"y\"}, {\"alignmentgroup\": \"True\", \"hovertemplate\": \"Actor=Mae Whitman<br>Season=%{x}<br>Number of lines=%{y}<extra></extra>\", \"legendgroup\": \"Mae Whitman\", \"marker\": {\"color\": \"#636efa\"}, \"name\": \"Mae Whitman\", \"offsetgroup\": \"Mae Whitman\", \"orientation\": \"v\", \"showlegend\": true, \"textposition\": \"auto\", \"type\": \"bar\", \"x\": [3], \"xaxis\": \"x\", \"y\": [11], \"yaxis\": \"y\"}, {\"alignmentgroup\": \"True\", \"hovertemplate\": \"Actor=Marlo Thomas<br>Season=%{x}<br>Number of lines=%{y}<extra></extra>\", \"legendgroup\": \"Marlo Thomas\", \"marker\": {\"color\": \"#EF553B\"}, \"name\": \"Marlo Thomas\", \"offsetgroup\": \"Marlo Thomas\", \"orientation\": \"v\", \"showlegend\": true, \"textposition\": \"auto\", \"type\": \"bar\", \"x\": [2, 8], \"xaxis\": \"x\", \"y\": [24, 37], \"yaxis\": \"y\"}, {\"alignmentgroup\": \"True\", \"hovertemplate\": \"Actor=Michael McKean<br>Season=%{x}<br>Number of lines=%{y}<extra></extra>\", \"legendgroup\": \"Michael McKean\", \"marker\": {\"color\": \"#00cc96\"}, \"name\": \"Michael McKean\", \"offsetgroup\": \"Michael McKean\", \"orientation\": \"v\", \"showlegend\": true, \"textposition\": \"auto\", \"type\": \"bar\", \"x\": [2], \"xaxis\": \"x\", \"y\": [18], \"yaxis\": \"y\"}, {\"alignmentgroup\": \"True\", \"hovertemplate\": \"Actor=Morgan Fairchild<br>Season=%{x}<br>Number of lines=%{y}<extra></extra>\", \"legendgroup\": \"Morgan Fairchild\", \"marker\": {\"color\": \"#ab63fa\"}, \"name\": \"Morgan Fairchild\", \"offsetgroup\": \"Morgan Fairchild\", \"orientation\": \"v\", \"showlegend\": true, \"textposition\": \"auto\", \"type\": \"bar\", \"x\": [1, 5, 7, 8], \"xaxis\": \"x\", \"y\": [28, 1, 7, 4], \"yaxis\": \"y\"}, {\"alignmentgroup\": \"True\", \"hovertemplate\": \"Actor=Noah Wyle<br>Season=%{x}<br>Number of lines=%{y}<extra></extra>\", \"legendgroup\": \"Noah Wyle\", \"marker\": {\"color\": \"#FFA15A\"}, \"name\": \"Noah Wyle\", \"offsetgroup\": \"Noah Wyle\", \"orientation\": \"v\", \"showlegend\": true, \"textposition\": \"auto\", \"type\": \"bar\", \"x\": [1], \"xaxis\": \"x\", \"y\": [10], \"yaxis\": \"y\"}, {\"alignmentgroup\": \"True\", \"hovertemplate\": \"Actor=Paul Rudd<br>Season=%{x}<br>Number of lines=%{y}<extra></extra>\", \"legendgroup\": \"Paul Rudd\", \"marker\": {\"color\": \"#19d3f3\"}, \"name\": \"Paul Rudd\", \"offsetgroup\": \"Paul Rudd\", \"orientation\": \"v\", \"showlegend\": true, \"textposition\": \"auto\", \"type\": \"bar\", \"x\": [9, 10], \"xaxis\": \"x\", \"y\": [229, 116], \"yaxis\": \"y\"}, {\"alignmentgroup\": \"True\", \"hovertemplate\": \"Actor=Rebecca Romijn<br>Season=%{x}<br>Number of lines=%{y}<extra></extra>\", \"legendgroup\": \"Rebecca Romijn\", \"marker\": {\"color\": \"#FF6692\"}, \"name\": \"Rebecca Romijn\", \"offsetgroup\": \"Rebecca Romijn\", \"orientation\": \"v\", \"showlegend\": true, \"textposition\": \"auto\", \"type\": \"bar\", \"x\": [4], \"xaxis\": \"x\", \"y\": [17], \"yaxis\": \"y\"}, {\"alignmentgroup\": \"True\", \"hovertemplate\": \"Actor=Reese Witherspoon<br>Season=%{x}<br>Number of lines=%{y}<extra></extra>\", \"legendgroup\": \"Reese Witherspoon\", \"marker\": {\"color\": \"#B6E880\"}, \"name\": \"Reese Witherspoon\", \"offsetgroup\": \"Reese Witherspoon\", \"orientation\": \"v\", \"showlegend\": true, \"textposition\": \"auto\", \"type\": \"bar\", \"x\": [6], \"xaxis\": \"x\", \"y\": [67], \"yaxis\": \"y\"}, {\"alignmentgroup\": \"True\", \"hovertemplate\": \"Actor=Robin Williams<br>Season=%{x}<br>Number of lines=%{y}<extra></extra>\", \"legendgroup\": \"Robin Williams\", \"marker\": {\"color\": \"#FF97FF\"}, \"name\": \"Robin Williams\", \"offsetgroup\": \"Robin Williams\", \"orientation\": \"v\", \"showlegend\": true, \"textposition\": \"auto\", \"type\": \"bar\", \"x\": [3], \"xaxis\": \"x\", \"y\": [11], \"yaxis\": \"y\"}, {\"alignmentgroup\": \"True\", \"hovertemplate\": \"Actor=Sarah \\\"Fergie\\\" Ferguson<br>Season=%{x}<br>Number of lines=%{y}<extra></extra>\", \"legendgroup\": \"Sarah \\\"Fergie\\\" Ferguson\", \"marker\": {\"color\": \"#FECB52\"}, \"name\": \"Sarah \\\"Fergie\\\" Ferguson\", \"offsetgroup\": \"Sarah \\\"Fergie\\\" Ferguson\", \"orientation\": \"v\", \"showlegend\": true, \"textposition\": \"auto\", \"type\": \"bar\", \"x\": [4], \"xaxis\": \"x\", \"y\": [3], \"yaxis\": \"y\"}, {\"alignmentgroup\": \"True\", \"hovertemplate\": \"Actor=Sean Penn<br>Season=%{x}<br>Number of lines=%{y}<extra></extra>\", \"legendgroup\": \"Sean Penn\", \"marker\": {\"color\": \"#636efa\"}, \"name\": \"Sean Penn\", \"offsetgroup\": \"Sean Penn\", \"orientation\": \"v\", \"showlegend\": true, \"textposition\": \"auto\", \"type\": \"bar\", \"x\": [8], \"xaxis\": \"x\", \"y\": [62], \"yaxis\": \"y\"}, {\"alignmentgroup\": \"True\", \"hovertemplate\": \"Actor=Selma Blair<br>Season=%{x}<br>Number of lines=%{y}<extra></extra>\", \"legendgroup\": \"Selma Blair\", \"marker\": {\"color\": \"#EF553B\"}, \"name\": \"Selma Blair\", \"offsetgroup\": \"Selma Blair\", \"orientation\": \"v\", \"showlegend\": true, \"textposition\": \"auto\", \"type\": \"bar\", \"x\": [9], \"xaxis\": \"x\", \"y\": [15], \"yaxis\": \"y\"}, {\"alignmentgroup\": \"True\", \"hovertemplate\": \"Actor=Soleil Moon Frye<br>Season=%{x}<br>Number of lines=%{y}<extra></extra>\", \"legendgroup\": \"Soleil Moon Frye\", \"marker\": {\"color\": \"#00cc96\"}, \"name\": \"Soleil Moon Frye\", \"offsetgroup\": \"Soleil Moon Frye\", \"orientation\": \"v\", \"showlegend\": true, \"textposition\": \"auto\", \"type\": \"bar\", \"x\": [5], \"xaxis\": \"x\", \"y\": [15], \"yaxis\": \"y\"}, {\"alignmentgroup\": \"True\", \"hovertemplate\": \"Actor=Susan Sarandon<br>Season=%{x}<br>Number of lines=%{y}<extra></extra>\", \"legendgroup\": \"Susan Sarandon\", \"marker\": {\"color\": \"#ab63fa\"}, \"name\": \"Susan Sarandon\", \"offsetgroup\": \"Susan Sarandon\", \"orientation\": \"v\", \"showlegend\": true, \"textposition\": \"auto\", \"type\": \"bar\", \"x\": [7], \"xaxis\": \"x\", \"y\": [53], \"yaxis\": \"y\"}, {\"alignmentgroup\": \"True\", \"hovertemplate\": \"Actor=Tom Selleck<br>Season=%{x}<br>Number of lines=%{y}<extra></extra>\", \"legendgroup\": \"Tom Selleck\", \"marker\": {\"color\": \"#FFA15A\"}, \"name\": \"Tom Selleck\", \"offsetgroup\": \"Tom Selleck\", \"orientation\": \"v\", \"showlegend\": true, \"textposition\": \"auto\", \"type\": \"bar\", \"x\": [2, 3, 6], \"xaxis\": \"x\", \"y\": [128, 43, 50], \"yaxis\": \"y\"}, {\"alignmentgroup\": \"True\", \"hovertemplate\": \"Actor=Winona Ryder<br>Season=%{x}<br>Number of lines=%{y}<extra></extra>\", \"legendgroup\": \"Winona Ryder\", \"marker\": {\"color\": \"#19d3f3\"}, \"name\": \"Winona Ryder\", \"offsetgroup\": \"Winona Ryder\", \"orientation\": \"v\", \"showlegend\": true, \"textposition\": \"auto\", \"type\": \"bar\", \"x\": [7], \"xaxis\": \"x\", \"y\": [27], \"yaxis\": \"y\"}],                        {\"barmode\": \"relative\", \"legend\": {\"title\": {\"text\": \"Actor\"}, \"tracegroupgap\": 0}, \"template\": {\"data\": {\"bar\": [{\"error_x\": {\"color\": \"#2a3f5f\"}, \"error_y\": {\"color\": \"#2a3f5f\"}, \"marker\": {\"line\": {\"color\": \"#E5ECF6\", \"width\": 0.5}}, \"type\": \"bar\"}], \"barpolar\": [{\"marker\": {\"line\": {\"color\": \"#E5ECF6\", \"width\": 0.5}}, \"type\": \"barpolar\"}], \"carpet\": [{\"aaxis\": {\"endlinecolor\": \"#2a3f5f\", \"gridcolor\": \"white\", \"linecolor\": \"white\", \"minorgridcolor\": \"white\", \"startlinecolor\": \"#2a3f5f\"}, \"baxis\": {\"endlinecolor\": \"#2a3f5f\", \"gridcolor\": \"white\", \"linecolor\": \"white\", \"minorgridcolor\": \"white\", \"startlinecolor\": \"#2a3f5f\"}, \"type\": \"carpet\"}], \"choropleth\": [{\"colorbar\": {\"outlinewidth\": 0, \"ticks\": \"\"}, \"type\": \"choropleth\"}], \"contour\": [{\"colorbar\": {\"outlinewidth\": 0, \"ticks\": \"\"}, \"colorscale\": [[0.0, \"#0d0887\"], [0.1111111111111111, \"#46039f\"], [0.2222222222222222, \"#7201a8\"], [0.3333333333333333, \"#9c179e\"], [0.4444444444444444, \"#bd3786\"], [0.5555555555555556, \"#d8576b\"], [0.6666666666666666, \"#ed7953\"], [0.7777777777777778, \"#fb9f3a\"], [0.8888888888888888, \"#fdca26\"], [1.0, \"#f0f921\"]], \"type\": \"contour\"}], \"contourcarpet\": [{\"colorbar\": {\"outlinewidth\": 0, \"ticks\": \"\"}, \"type\": \"contourcarpet\"}], \"heatmap\": [{\"colorbar\": {\"outlinewidth\": 0, \"ticks\": \"\"}, \"colorscale\": [[0.0, \"#0d0887\"], [0.1111111111111111, \"#46039f\"], [0.2222222222222222, \"#7201a8\"], [0.3333333333333333, \"#9c179e\"], [0.4444444444444444, \"#bd3786\"], [0.5555555555555556, \"#d8576b\"], [0.6666666666666666, \"#ed7953\"], [0.7777777777777778, \"#fb9f3a\"], [0.8888888888888888, \"#fdca26\"], [1.0, \"#f0f921\"]], \"type\": \"heatmap\"}], \"heatmapgl\": [{\"colorbar\": {\"outlinewidth\": 0, \"ticks\": \"\"}, \"colorscale\": [[0.0, \"#0d0887\"], [0.1111111111111111, \"#46039f\"], [0.2222222222222222, \"#7201a8\"], [0.3333333333333333, \"#9c179e\"], [0.4444444444444444, \"#bd3786\"], [0.5555555555555556, \"#d8576b\"], [0.6666666666666666, \"#ed7953\"], [0.7777777777777778, \"#fb9f3a\"], [0.8888888888888888, \"#fdca26\"], [1.0, \"#f0f921\"]], \"type\": \"heatmapgl\"}], \"histogram\": [{\"marker\": {\"colorbar\": {\"outlinewidth\": 0, \"ticks\": \"\"}}, \"type\": \"histogram\"}], \"histogram2d\": [{\"colorbar\": {\"outlinewidth\": 0, \"ticks\": \"\"}, \"colorscale\": [[0.0, \"#0d0887\"], [0.1111111111111111, \"#46039f\"], [0.2222222222222222, \"#7201a8\"], [0.3333333333333333, \"#9c179e\"], [0.4444444444444444, \"#bd3786\"], [0.5555555555555556, \"#d8576b\"], [0.6666666666666666, \"#ed7953\"], [0.7777777777777778, \"#fb9f3a\"], [0.8888888888888888, \"#fdca26\"], [1.0, \"#f0f921\"]], \"type\": \"histogram2d\"}], \"histogram2dcontour\": [{\"colorbar\": {\"outlinewidth\": 0, \"ticks\": \"\"}, \"colorscale\": [[0.0, \"#0d0887\"], [0.1111111111111111, \"#46039f\"], [0.2222222222222222, \"#7201a8\"], [0.3333333333333333, \"#9c179e\"], [0.4444444444444444, \"#bd3786\"], [0.5555555555555556, \"#d8576b\"], [0.6666666666666666, \"#ed7953\"], [0.7777777777777778, \"#fb9f3a\"], [0.8888888888888888, \"#fdca26\"], [1.0, \"#f0f921\"]], \"type\": \"histogram2dcontour\"}], \"mesh3d\": [{\"colorbar\": {\"outlinewidth\": 0, \"ticks\": \"\"}, \"type\": \"mesh3d\"}], \"parcoords\": [{\"line\": {\"colorbar\": {\"outlinewidth\": 0, \"ticks\": \"\"}}, \"type\": \"parcoords\"}], \"pie\": [{\"automargin\": true, \"type\": \"pie\"}], \"scatter\": [{\"marker\": {\"colorbar\": {\"outlinewidth\": 0, \"ticks\": \"\"}}, \"type\": \"scatter\"}], \"scatter3d\": [{\"line\": {\"colorbar\": {\"outlinewidth\": 0, \"ticks\": \"\"}}, \"marker\": {\"colorbar\": {\"outlinewidth\": 0, \"ticks\": \"\"}}, \"type\": \"scatter3d\"}], \"scattercarpet\": [{\"marker\": {\"colorbar\": {\"outlinewidth\": 0, \"ticks\": \"\"}}, \"type\": \"scattercarpet\"}], \"scattergeo\": [{\"marker\": {\"colorbar\": {\"outlinewidth\": 0, \"ticks\": \"\"}}, \"type\": \"scattergeo\"}], \"scattergl\": [{\"marker\": {\"colorbar\": {\"outlinewidth\": 0, \"ticks\": \"\"}}, \"type\": \"scattergl\"}], \"scattermapbox\": [{\"marker\": {\"colorbar\": {\"outlinewidth\": 0, \"ticks\": \"\"}}, \"type\": \"scattermapbox\"}], \"scatterpolar\": [{\"marker\": {\"colorbar\": {\"outlinewidth\": 0, \"ticks\": \"\"}}, \"type\": \"scatterpolar\"}], \"scatterpolargl\": [{\"marker\": {\"colorbar\": {\"outlinewidth\": 0, \"ticks\": \"\"}}, \"type\": \"scatterpolargl\"}], \"scatterternary\": [{\"marker\": {\"colorbar\": {\"outlinewidth\": 0, \"ticks\": \"\"}}, \"type\": \"scatterternary\"}], \"surface\": [{\"colorbar\": {\"outlinewidth\": 0, \"ticks\": \"\"}, \"colorscale\": [[0.0, \"#0d0887\"], [0.1111111111111111, \"#46039f\"], [0.2222222222222222, \"#7201a8\"], [0.3333333333333333, \"#9c179e\"], [0.4444444444444444, \"#bd3786\"], [0.5555555555555556, \"#d8576b\"], [0.6666666666666666, \"#ed7953\"], [0.7777777777777778, \"#fb9f3a\"], [0.8888888888888888, \"#fdca26\"], [1.0, \"#f0f921\"]], \"type\": \"surface\"}], \"table\": [{\"cells\": {\"fill\": {\"color\": \"#EBF0F8\"}, \"line\": {\"color\": \"white\"}}, \"header\": {\"fill\": {\"color\": \"#C8D4E3\"}, \"line\": {\"color\": \"white\"}}, \"type\": \"table\"}]}, \"layout\": {\"annotationdefaults\": {\"arrowcolor\": \"#2a3f5f\", \"arrowhead\": 0, \"arrowwidth\": 1}, \"autotypenumbers\": \"strict\", \"coloraxis\": {\"colorbar\": {\"outlinewidth\": 0, \"ticks\": \"\"}}, \"colorscale\": {\"diverging\": [[0, \"#8e0152\"], [0.1, \"#c51b7d\"], [0.2, \"#de77ae\"], [0.3, \"#f1b6da\"], [0.4, \"#fde0ef\"], [0.5, \"#f7f7f7\"], [0.6, \"#e6f5d0\"], [0.7, \"#b8e186\"], [0.8, \"#7fbc41\"], [0.9, \"#4d9221\"], [1, \"#276419\"]], \"sequential\": [[0.0, \"#0d0887\"], [0.1111111111111111, \"#46039f\"], [0.2222222222222222, \"#7201a8\"], [0.3333333333333333, \"#9c179e\"], [0.4444444444444444, \"#bd3786\"], [0.5555555555555556, \"#d8576b\"], [0.6666666666666666, \"#ed7953\"], [0.7777777777777778, \"#fb9f3a\"], [0.8888888888888888, \"#fdca26\"], [1.0, \"#f0f921\"]], \"sequentialminus\": [[0.0, \"#0d0887\"], [0.1111111111111111, \"#46039f\"], [0.2222222222222222, \"#7201a8\"], [0.3333333333333333, \"#9c179e\"], [0.4444444444444444, \"#bd3786\"], [0.5555555555555556, \"#d8576b\"], [0.6666666666666666, \"#ed7953\"], [0.7777777777777778, \"#fb9f3a\"], [0.8888888888888888, \"#fdca26\"], [1.0, \"#f0f921\"]]}, \"colorway\": [\"#636efa\", \"#EF553B\", \"#00cc96\", \"#ab63fa\", \"#FFA15A\", \"#19d3f3\", \"#FF6692\", \"#B6E880\", \"#FF97FF\", \"#FECB52\"], \"font\": {\"color\": \"#2a3f5f\"}, \"geo\": {\"bgcolor\": \"white\", \"lakecolor\": \"white\", \"landcolor\": \"#E5ECF6\", \"showlakes\": true, \"showland\": true, \"subunitcolor\": \"white\"}, \"hoverlabel\": {\"align\": \"left\"}, \"hovermode\": \"closest\", \"mapbox\": {\"style\": \"light\"}, \"paper_bgcolor\": \"white\", \"plot_bgcolor\": \"#E5ECF6\", \"polar\": {\"angularaxis\": {\"gridcolor\": \"white\", \"linecolor\": \"white\", \"ticks\": \"\"}, \"bgcolor\": \"#E5ECF6\", \"radialaxis\": {\"gridcolor\": \"white\", \"linecolor\": \"white\", \"ticks\": \"\"}}, \"scene\": {\"xaxis\": {\"backgroundcolor\": \"#E5ECF6\", \"gridcolor\": \"white\", \"gridwidth\": 2, \"linecolor\": \"white\", \"showbackground\": true, \"ticks\": \"\", \"zerolinecolor\": \"white\"}, \"yaxis\": {\"backgroundcolor\": \"#E5ECF6\", \"gridcolor\": \"white\", \"gridwidth\": 2, \"linecolor\": \"white\", \"showbackground\": true, \"ticks\": \"\", \"zerolinecolor\": \"white\"}, \"zaxis\": {\"backgroundcolor\": \"#E5ECF6\", \"gridcolor\": \"white\", \"gridwidth\": 2, \"linecolor\": \"white\", \"showbackground\": true, \"ticks\": \"\", \"zerolinecolor\": \"white\"}}, \"shapedefaults\": {\"line\": {\"color\": \"#2a3f5f\"}}, \"ternary\": {\"aaxis\": {\"gridcolor\": \"white\", \"linecolor\": \"white\", \"ticks\": \"\"}, \"baxis\": {\"gridcolor\": \"white\", \"linecolor\": \"white\", \"ticks\": \"\"}, \"bgcolor\": \"#E5ECF6\", \"caxis\": {\"gridcolor\": \"white\", \"linecolor\": \"white\", \"ticks\": \"\"}}, \"title\": {\"x\": 0.05}, \"xaxis\": {\"automargin\": true, \"gridcolor\": \"white\", \"linecolor\": \"white\", \"ticks\": \"\", \"title\": {\"standoff\": 15}, \"zerolinecolor\": \"white\", \"zerolinewidth\": 2}, \"yaxis\": {\"automargin\": true, \"gridcolor\": \"white\", \"linecolor\": \"white\", \"ticks\": \"\", \"title\": {\"standoff\": 15}, \"zerolinecolor\": \"white\", \"zerolinewidth\": 2}}}, \"title\": {\"text\": \"Guest Stars over the 10 Seasons\"}, \"xaxis\": {\"anchor\": \"y\", \"domain\": [0.0, 1.0], \"title\": {\"text\": \"Season\"}}, \"yaxis\": {\"anchor\": \"x\", \"domain\": [0.0, 1.0], \"title\": {\"text\": \"Number of lines\"}}},                        {\"responsive\": true}                    ).then(function(){\n",
       "                            \n",
       "var gd = document.getElementById('ca952662-e085-444c-ac2c-4c40caced026');\n",
       "var x = new MutationObserver(function (mutations, observer) {{\n",
       "        var display = window.getComputedStyle(gd).display;\n",
       "        if (!display || display === 'none') {{\n",
       "            console.log([gd, 'removed!']);\n",
       "            Plotly.purge(gd);\n",
       "            observer.disconnect();\n",
       "        }}\n",
       "}});\n",
       "\n",
       "// Listen for the removal of the full notebook cells\n",
       "var notebookContainer = gd.closest('#notebook-container');\n",
       "if (notebookContainer) {{\n",
       "    x.observe(notebookContainer, {childList: true});\n",
       "}}\n",
       "\n",
       "// Listen for the clearing of the current output cell\n",
       "var outputEl = gd.closest('.output');\n",
       "if (outputEl) {{\n",
       "    x.observe(outputEl, {childList: true});\n",
       "}}\n",
       "\n",
       "                        })                };                });            </script>        </div>"
      ]
     },
     "metadata": {},
     "output_type": "display_data"
    }
   ],
   "source": [
    "fig = px.bar(guest_stars, x=\"season\", y=\"quote\", color = \"Actor\", title=\"Guest Stars over the 10 Seasons\", labels = {\"quote\": \"Number of lines\", \"season\": \"Season\"})\n",
    "fig.show()"
   ]
  },
  {
   "cell_type": "markdown",
   "metadata": {
    "slideshow": {
     "slide_type": "skip"
    }
   },
   "source": [
    "## Sentiment Analysis"
   ]
  },
  {
   "cell_type": "code",
   "execution_count": 86,
   "metadata": {
    "slideshow": {
     "slide_type": "skip"
    }
   },
   "outputs": [],
   "source": [
    "main_characters = [\"Ross\", \"Joey\",\"Chandler\",\"Phoebe\",\"Rachel\",\"Monica\"]"
   ]
  },
  {
   "cell_type": "code",
   "execution_count": 87,
   "metadata": {
    "slideshow": {
     "slide_type": "skip"
    }
   },
   "outputs": [],
   "source": [
    "friends= friends[friends.author.isin(main_characters)].drop(columns=['episode_number', 'episode_title', \"quote_order\"]).reset_index(drop = True)"
   ]
  },
  {
   "cell_type": "code",
   "execution_count": 88,
   "metadata": {
    "slideshow": {
     "slide_type": "skip"
    }
   },
   "outputs": [],
   "source": [
    "friends[\"quote\"] = friends[\"quote\"].str.replace(\"\\(([^)]+)\\)\",\"\").str.strip().str.lower().str.split(\"[.|!|?]\", expand = False)"
   ]
  },
  {
   "cell_type": "code",
   "execution_count": 89,
   "metadata": {
    "slideshow": {
     "slide_type": "skip"
    }
   },
   "outputs": [],
   "source": [
    "friends = friends.explode(\"quote\")"
   ]
  },
  {
   "cell_type": "code",
   "execution_count": 90,
   "metadata": {
    "slideshow": {
     "slide_type": "skip"
    }
   },
   "outputs": [],
   "source": [
    "friends.reset_index(drop = True, inplace = True)"
   ]
  },
  {
   "cell_type": "code",
   "execution_count": 91,
   "metadata": {
    "slideshow": {
     "slide_type": "skip"
    }
   },
   "outputs": [],
   "source": [
    "scene = friends[friends[\"quote\"].str.contains(\"scene:\")].index.to_list()"
   ]
  },
  {
   "cell_type": "code",
   "execution_count": 92,
   "metadata": {
    "slideshow": {
     "slide_type": "skip"
    }
   },
   "outputs": [],
   "source": [
    "friends = friends.drop(friends.index[scene])"
   ]
  },
  {
   "cell_type": "code",
   "execution_count": 93,
   "metadata": {
    "slideshow": {
     "slide_type": "skip"
    }
   },
   "outputs": [],
   "source": [
    "friends[\"quote\"] = friends[\"quote\"].str.replace(\"[^a-zA-Z' ]\",\"\")"
   ]
  },
  {
   "cell_type": "code",
   "execution_count": 94,
   "metadata": {
    "slideshow": {
     "slide_type": "skip"
    }
   },
   "outputs": [],
   "source": [
    "friends.reset_index(drop = True, inplace = True)"
   ]
  },
  {
   "cell_type": "code",
   "execution_count": 95,
   "metadata": {
    "slideshow": {
     "slide_type": "skip"
    }
   },
   "outputs": [],
   "source": [
    "indexes = []\n",
    "for i in range(len(friends[\"quote\"])):\n",
    "    if len(friends[\"quote\"][i]) == 0:\n",
    "        indexes.append(i)"
   ]
  },
  {
   "cell_type": "code",
   "execution_count": 96,
   "metadata": {
    "slideshow": {
     "slide_type": "skip"
    }
   },
   "outputs": [],
   "source": [
    "friends = friends.drop(friends.index[indexes]).reset_index(drop = True)"
   ]
  },
  {
   "cell_type": "code",
   "execution_count": 97,
   "metadata": {
    "slideshow": {
     "slide_type": "skip"
    }
   },
   "outputs": [],
   "source": [
    "friends[\"quote\"] = friends[\"quote\"].str.strip()"
   ]
  },
  {
   "cell_type": "code",
   "execution_count": 98,
   "metadata": {
    "slideshow": {
     "slide_type": "skip"
    }
   },
   "outputs": [],
   "source": [
    "friends['number_words'] = friends['quote'].str.count(' ') + 1"
   ]
  },
  {
   "cell_type": "code",
   "execution_count": 99,
   "metadata": {
    "slideshow": {
     "slide_type": "skip"
    }
   },
   "outputs": [],
   "source": [
    "one_word = friends[friends[\"number_words\"] == 1].index.to_list()"
   ]
  },
  {
   "cell_type": "code",
   "execution_count": 100,
   "metadata": {
    "slideshow": {
     "slide_type": "skip"
    }
   },
   "outputs": [],
   "source": [
    "friends = friends.drop(friends.index[one_word]).reset_index(drop = True)"
   ]
  },
  {
   "cell_type": "code",
   "execution_count": 101,
   "metadata": {
    "slideshow": {
     "slide_type": "skip"
    }
   },
   "outputs": [],
   "source": [
    "friends[\"quote\"] = friends[\"quote\"].str.replace(\"'\\s\",\"\")"
   ]
  },
  {
   "cell_type": "code",
   "execution_count": 102,
   "metadata": {
    "slideshow": {
     "slide_type": "skip"
    }
   },
   "outputs": [],
   "source": [
    "friends[\"quote\"] = friends[\"quote\"].str.replace(\"'cause\",\"because\").str.replace(\"you know\",\"y'know\").str.replace(\"you are\",\"you're\").str.replace(\"come on\",\"c'mon\").str.replace(\"'kay\",\"okay\").str.replace(\"'em\",\"them\").str.replace(\"doin'\",\"doing\").str.replace(\"(ya)\",\"you\").str.replace(\"lemme\",\"let me\").str.replace(\"gonna\", \"going to\").str.replace(\"'\", \"\")"
   ]
  },
  {
   "cell_type": "code",
   "execution_count": 103,
   "metadata": {
    "slideshow": {
     "slide_type": "skip"
    }
   },
   "outputs": [],
   "source": [
    "friends.drop('number_words', axis='columns', inplace=True)"
   ]
  },
  {
   "cell_type": "code",
   "execution_count": 104,
   "metadata": {
    "slideshow": {
     "slide_type": "skip"
    }
   },
   "outputs": [
    {
     "data": {
      "text/html": [
       "<div>\n",
       "<style scoped>\n",
       "    .dataframe tbody tr th:only-of-type {\n",
       "        vertical-align: middle;\n",
       "    }\n",
       "\n",
       "    .dataframe tbody tr th {\n",
       "        vertical-align: top;\n",
       "    }\n",
       "\n",
       "    .dataframe thead th {\n",
       "        text-align: right;\n",
       "    }\n",
       "</style>\n",
       "<table border=\"1\" class=\"dataframe\">\n",
       "  <thead>\n",
       "    <tr style=\"text-align: right;\">\n",
       "      <th></th>\n",
       "      <th>author</th>\n",
       "      <th>quote</th>\n",
       "      <th>season</th>\n",
       "    </tr>\n",
       "  </thead>\n",
       "  <tbody>\n",
       "    <tr>\n",
       "      <th>0</th>\n",
       "      <td>Monica</td>\n",
       "      <td>theres nothing to tell</td>\n",
       "      <td>1.0</td>\n",
       "    </tr>\n",
       "    <tr>\n",
       "      <th>1</th>\n",
       "      <td>Monica</td>\n",
       "      <td>hes just some guy i work with</td>\n",
       "      <td>1.0</td>\n",
       "    </tr>\n",
       "    <tr>\n",
       "      <th>2</th>\n",
       "      <td>Joey</td>\n",
       "      <td>cmon youre going out with the guy</td>\n",
       "      <td>1.0</td>\n",
       "    </tr>\n",
       "    <tr>\n",
       "      <th>3</th>\n",
       "      <td>Joey</td>\n",
       "      <td>theres gotta be something wrong with him</td>\n",
       "      <td>1.0</td>\n",
       "    </tr>\n",
       "    <tr>\n",
       "      <th>4</th>\n",
       "      <td>Chandler</td>\n",
       "      <td>all right joey be nice</td>\n",
       "      <td>1.0</td>\n",
       "    </tr>\n",
       "  </tbody>\n",
       "</table>\n",
       "</div>"
      ],
      "text/plain": [
       "     author                                     quote  season\n",
       "0    Monica                    theres nothing to tell     1.0\n",
       "1    Monica             hes just some guy i work with     1.0\n",
       "2      Joey         cmon youre going out with the guy     1.0\n",
       "3      Joey  theres gotta be something wrong with him     1.0\n",
       "4  Chandler                    all right joey be nice     1.0"
      ]
     },
     "execution_count": 104,
     "metadata": {},
     "output_type": "execute_result"
    }
   ],
   "source": [
    "friends.head()"
   ]
  },
  {
   "cell_type": "code",
   "execution_count": 105,
   "metadata": {
    "slideshow": {
     "slide_type": "skip"
    }
   },
   "outputs": [],
   "source": [
    "def polarity(x):\n",
    "    return TextBlob(x).polarity"
   ]
  },
  {
   "cell_type": "code",
   "execution_count": 106,
   "metadata": {
    "slideshow": {
     "slide_type": "skip"
    }
   },
   "outputs": [],
   "source": [
    "def sentiment_analysis(x):\n",
    "    if x > 0.5: \n",
    "        x = \"Positive\"\n",
    "    elif x < -0.5:\n",
    "        x = \"Negative\"\n",
    "    else:\n",
    "        x = \"Neutral\"\n",
    "    return x\n",
    "#Less than 0 denotes Negative, I prefer to set < - 0.5\n",
    "#Equal to 0  denotes Neutral\n",
    "#Greater than 0 denotes Positive, I prefer to set > 0.5"
   ]
  },
  {
   "cell_type": "code",
   "execution_count": 107,
   "metadata": {
    "slideshow": {
     "slide_type": "skip"
    }
   },
   "outputs": [],
   "source": [
    "friends[\"polarity\"] = friends[\"quote\"].apply(polarity).apply(sentiment_analysis)"
   ]
  },
  {
   "cell_type": "code",
   "execution_count": 108,
   "metadata": {
    "slideshow": {
     "slide_type": "skip"
    }
   },
   "outputs": [],
   "source": [
    "sentimentanalysis = pd.pivot_table(friends,index=[\"author\"],columns = [\"polarity\"],\n",
    "                values = [\"quote\"],           \n",
    "               aggfunc='count',fill_value=0)"
   ]
  },
  {
   "cell_type": "code",
   "execution_count": 109,
   "metadata": {
    "slideshow": {
     "slide_type": "skip"
    }
   },
   "outputs": [
    {
     "data": {
      "text/html": [
       "<div>\n",
       "<style scoped>\n",
       "    .dataframe tbody tr th:only-of-type {\n",
       "        vertical-align: middle;\n",
       "    }\n",
       "\n",
       "    .dataframe tbody tr th {\n",
       "        vertical-align: top;\n",
       "    }\n",
       "\n",
       "    .dataframe thead tr th {\n",
       "        text-align: left;\n",
       "    }\n",
       "\n",
       "    .dataframe thead tr:last-of-type th {\n",
       "        text-align: right;\n",
       "    }\n",
       "</style>\n",
       "<table border=\"1\" class=\"dataframe\">\n",
       "  <thead>\n",
       "    <tr>\n",
       "      <th></th>\n",
       "      <th colspan=\"3\" halign=\"left\">quote</th>\n",
       "    </tr>\n",
       "    <tr>\n",
       "      <th>polarity</th>\n",
       "      <th>Negative</th>\n",
       "      <th>Neutral</th>\n",
       "      <th>Positive</th>\n",
       "    </tr>\n",
       "    <tr>\n",
       "      <th>author</th>\n",
       "      <th></th>\n",
       "      <th></th>\n",
       "      <th></th>\n",
       "    </tr>\n",
       "  </thead>\n",
       "  <tbody>\n",
       "    <tr>\n",
       "      <th>Chandler</th>\n",
       "      <td>242</td>\n",
       "      <td>10508</td>\n",
       "      <td>584</td>\n",
       "    </tr>\n",
       "    <tr>\n",
       "      <th>Joey</th>\n",
       "      <td>197</td>\n",
       "      <td>11192</td>\n",
       "      <td>558</td>\n",
       "    </tr>\n",
       "    <tr>\n",
       "      <th>Monica</th>\n",
       "      <td>225</td>\n",
       "      <td>10678</td>\n",
       "      <td>524</td>\n",
       "    </tr>\n",
       "    <tr>\n",
       "      <th>Phoebe</th>\n",
       "      <td>176</td>\n",
       "      <td>10065</td>\n",
       "      <td>530</td>\n",
       "    </tr>\n",
       "    <tr>\n",
       "      <th>Rachel</th>\n",
       "      <td>215</td>\n",
       "      <td>11850</td>\n",
       "      <td>591</td>\n",
       "    </tr>\n",
       "    <tr>\n",
       "      <th>Ross</th>\n",
       "      <td>176</td>\n",
       "      <td>11973</td>\n",
       "      <td>569</td>\n",
       "    </tr>\n",
       "  </tbody>\n",
       "</table>\n",
       "</div>"
      ],
      "text/plain": [
       "            quote                 \n",
       "polarity Negative Neutral Positive\n",
       "author                            \n",
       "Chandler      242   10508      584\n",
       "Joey          197   11192      558\n",
       "Monica        225   10678      524\n",
       "Phoebe        176   10065      530\n",
       "Rachel        215   11850      591\n",
       "Ross          176   11973      569"
      ]
     },
     "execution_count": 109,
     "metadata": {},
     "output_type": "execute_result"
    }
   ],
   "source": [
    "sentimentanalysis"
   ]
  },
  {
   "cell_type": "code",
   "execution_count": 110,
   "metadata": {
    "slideshow": {
     "slide_type": "skip"
    }
   },
   "outputs": [
    {
     "data": {
      "text/html": [
       "<div>\n",
       "<style scoped>\n",
       "    .dataframe tbody tr th:only-of-type {\n",
       "        vertical-align: middle;\n",
       "    }\n",
       "\n",
       "    .dataframe tbody tr th {\n",
       "        vertical-align: top;\n",
       "    }\n",
       "\n",
       "    .dataframe thead th {\n",
       "        text-align: right;\n",
       "    }\n",
       "</style>\n",
       "<table border=\"1\" class=\"dataframe\">\n",
       "  <thead>\n",
       "    <tr style=\"text-align: right;\">\n",
       "      <th></th>\n",
       "      <th>author</th>\n",
       "      <th>quote</th>\n",
       "      <th>season</th>\n",
       "      <th>polarity</th>\n",
       "    </tr>\n",
       "  </thead>\n",
       "  <tbody>\n",
       "    <tr>\n",
       "      <th>33</th>\n",
       "      <td>Ross</td>\n",
       "      <td>i hope shell be very happy</td>\n",
       "      <td>1.0</td>\n",
       "      <td>Positive</td>\n",
       "    </tr>\n",
       "    <tr>\n",
       "      <th>68</th>\n",
       "      <td>Rachel</td>\n",
       "      <td>this really gorgeous lamauge gravy boat</td>\n",
       "      <td>1.0</td>\n",
       "      <td>Positive</td>\n",
       "    </tr>\n",
       "    <tr>\n",
       "      <th>112</th>\n",
       "      <td>Monica</td>\n",
       "      <td>okay look this is probably for the best yknow</td>\n",
       "      <td>1.0</td>\n",
       "      <td>Positive</td>\n",
       "    </tr>\n",
       "    <tr>\n",
       "      <th>134</th>\n",
       "      <td>Ross</td>\n",
       "      <td>thatd be good</td>\n",
       "      <td>1.0</td>\n",
       "      <td>Positive</td>\n",
       "    </tr>\n",
       "    <tr>\n",
       "      <th>149</th>\n",
       "      <td>Phoebe</td>\n",
       "      <td>that cant be good</td>\n",
       "      <td>1.0</td>\n",
       "      <td>Positive</td>\n",
       "    </tr>\n",
       "    <tr>\n",
       "      <th>173</th>\n",
       "      <td>Chandler</td>\n",
       "      <td>its a beautiful thing</td>\n",
       "      <td>1.0</td>\n",
       "      <td>Positive</td>\n",
       "    </tr>\n",
       "    <tr>\n",
       "      <th>185</th>\n",
       "      <td>Joey</td>\n",
       "      <td>she got the furniture the stereo the good tv w...</td>\n",
       "      <td>1.0</td>\n",
       "      <td>Positive</td>\n",
       "    </tr>\n",
       "    <tr>\n",
       "      <th>224</th>\n",
       "      <td>Joey</td>\n",
       "      <td>this is the best thing that ever happened to you</td>\n",
       "      <td>1.0</td>\n",
       "      <td>Positive</td>\n",
       "    </tr>\n",
       "    <tr>\n",
       "      <th>228</th>\n",
       "      <td>Ross</td>\n",
       "      <td>i honestly dont know if im hungry or horny</td>\n",
       "      <td>1.0</td>\n",
       "      <td>Positive</td>\n",
       "    </tr>\n",
       "    <tr>\n",
       "      <th>240</th>\n",
       "      <td>Rachel</td>\n",
       "      <td>but joanne loved chachi</td>\n",
       "      <td>1.0</td>\n",
       "      <td>Positive</td>\n",
       "    </tr>\n",
       "    <tr>\n",
       "      <th>245</th>\n",
       "      <td>Joey</td>\n",
       "      <td>great story</td>\n",
       "      <td>1.0</td>\n",
       "      <td>Positive</td>\n",
       "    </tr>\n",
       "    <tr>\n",
       "      <th>254</th>\n",
       "      <td>Rachel</td>\n",
       "      <td>isnt this amazing</td>\n",
       "      <td>1.0</td>\n",
       "      <td>Positive</td>\n",
       "    </tr>\n",
       "    <tr>\n",
       "      <th>256</th>\n",
       "      <td>Chandler</td>\n",
       "      <td>that is amazing</td>\n",
       "      <td>1.0</td>\n",
       "      <td>Positive</td>\n",
       "    </tr>\n",
       "    <tr>\n",
       "      <th>261</th>\n",
       "      <td>Monica</td>\n",
       "      <td>oh good lenny and squigy are here</td>\n",
       "      <td>1.0</td>\n",
       "      <td>Positive</td>\n",
       "    </tr>\n",
       "    <tr>\n",
       "      <th>323</th>\n",
       "      <td>Monica</td>\n",
       "      <td>i just thought he was nice yknow</td>\n",
       "      <td>1.0</td>\n",
       "      <td>Positive</td>\n",
       "    </tr>\n",
       "  </tbody>\n",
       "</table>\n",
       "</div>"
      ],
      "text/plain": [
       "       author                                              quote  season  \\\n",
       "33       Ross                         i hope shell be very happy     1.0   \n",
       "68     Rachel            this really gorgeous lamauge gravy boat     1.0   \n",
       "112    Monica      okay look this is probably for the best yknow     1.0   \n",
       "134      Ross                                      thatd be good     1.0   \n",
       "149    Phoebe                                  that cant be good     1.0   \n",
       "173  Chandler                              its a beautiful thing     1.0   \n",
       "185      Joey  she got the furniture the stereo the good tv w...     1.0   \n",
       "224      Joey   this is the best thing that ever happened to you     1.0   \n",
       "228      Ross         i honestly dont know if im hungry or horny     1.0   \n",
       "240    Rachel                            but joanne loved chachi     1.0   \n",
       "245      Joey                                        great story     1.0   \n",
       "254    Rachel                                  isnt this amazing     1.0   \n",
       "256  Chandler                                    that is amazing     1.0   \n",
       "261    Monica                  oh good lenny and squigy are here     1.0   \n",
       "323    Monica                   i just thought he was nice yknow     1.0   \n",
       "\n",
       "     polarity  \n",
       "33   Positive  \n",
       "68   Positive  \n",
       "112  Positive  \n",
       "134  Positive  \n",
       "149  Positive  \n",
       "173  Positive  \n",
       "185  Positive  \n",
       "224  Positive  \n",
       "228  Positive  \n",
       "240  Positive  \n",
       "245  Positive  \n",
       "254  Positive  \n",
       "256  Positive  \n",
       "261  Positive  \n",
       "323  Positive  "
      ]
     },
     "execution_count": 110,
     "metadata": {},
     "output_type": "execute_result"
    }
   ],
   "source": [
    "friends[friends.polarity == \"Positive\"].head(15)"
   ]
  },
  {
   "cell_type": "markdown",
   "metadata": {
    "slideshow": {
     "slide_type": "skip"
    }
   },
   "source": [
    "#### By words"
   ]
  },
  {
   "cell_type": "markdown",
   "metadata": {
    "slideshow": {
     "slide_type": "skip"
    }
   },
   "source": [
    "#### Code"
   ]
  },
  {
   "cell_type": "code",
   "execution_count": 111,
   "metadata": {
    "slideshow": {
     "slide_type": "skip"
    }
   },
   "outputs": [
    {
     "data": {
      "text/plain": [
       "<70853x1775 sparse matrix of type '<class 'numpy.int64'>'\n",
       "\twith 411165 stored elements in Compressed Sparse Row format>"
      ]
     },
     "execution_count": 111,
     "metadata": {},
     "output_type": "execute_result"
    }
   ],
   "source": [
    "vectorizer = CountVectorizer(min_df = 0.0002, ngram_range =(1,1))\n",
    "matrix = vectorizer.fit_transform(friends[\"quote\"])\n",
    "matrix"
   ]
  },
  {
   "cell_type": "code",
   "execution_count": 112,
   "metadata": {
    "slideshow": {
     "slide_type": "skip"
    }
   },
   "outputs": [
    {
     "data": {
      "text/plain": [
       "(70853, 1775)"
      ]
     },
     "execution_count": 112,
     "metadata": {},
     "output_type": "execute_result"
    }
   ],
   "source": [
    "matrix.shape"
   ]
  },
  {
   "cell_type": "code",
   "execution_count": 113,
   "metadata": {
    "slideshow": {
     "slide_type": "skip"
    }
   },
   "outputs": [],
   "source": [
    "y = friends.iloc[:, 0].values"
   ]
  },
  {
   "cell_type": "code",
   "execution_count": 114,
   "metadata": {
    "slideshow": {
     "slide_type": "skip"
    }
   },
   "outputs": [],
   "source": [
    "counts = pd.DataFrame(matrix.toarray(),index = list(y),\n",
    "                      columns=vectorizer.get_feature_names())"
   ]
  },
  {
   "cell_type": "code",
   "execution_count": 115,
   "metadata": {
    "slideshow": {
     "slide_type": "skip"
    }
   },
   "outputs": [],
   "source": [
    "counts = counts.groupby(counts.index).sum()"
   ]
  },
  {
   "cell_type": "code",
   "execution_count": 116,
   "metadata": {
    "slideshow": {
     "slide_type": "skip"
    }
   },
   "outputs": [
    {
     "data": {
      "text/plain": [
       "Index(['Chandler', 'Joey', 'Monica', 'Phoebe', 'Rachel', 'Ross'], dtype='object')"
      ]
     },
     "execution_count": 116,
     "metadata": {},
     "output_type": "execute_result"
    }
   ],
   "source": [
    "counts.T.columns"
   ]
  },
  {
   "cell_type": "code",
   "execution_count": 117,
   "metadata": {
    "slideshow": {
     "slide_type": "skip"
    }
   },
   "outputs": [
    {
     "data": {
      "text/html": [
       "<div>\n",
       "<style scoped>\n",
       "    .dataframe tbody tr th:only-of-type {\n",
       "        vertical-align: middle;\n",
       "    }\n",
       "\n",
       "    .dataframe tbody tr th {\n",
       "        vertical-align: top;\n",
       "    }\n",
       "\n",
       "    .dataframe thead th {\n",
       "        text-align: right;\n",
       "    }\n",
       "</style>\n",
       "<table border=\"1\" class=\"dataframe\">\n",
       "  <thead>\n",
       "    <tr style=\"text-align: right;\">\n",
       "      <th></th>\n",
       "      <th>index</th>\n",
       "      <th>Chandler</th>\n",
       "      <th>Joey</th>\n",
       "      <th>Monica</th>\n",
       "      <th>Phoebe</th>\n",
       "      <th>Rachel</th>\n",
       "      <th>Ross</th>\n",
       "    </tr>\n",
       "  </thead>\n",
       "  <tbody>\n",
       "    <tr>\n",
       "      <th>0</th>\n",
       "      <td>able</td>\n",
       "      <td>11</td>\n",
       "      <td>9</td>\n",
       "      <td>9</td>\n",
       "      <td>8</td>\n",
       "      <td>11</td>\n",
       "      <td>16</td>\n",
       "    </tr>\n",
       "    <tr>\n",
       "      <th>1</th>\n",
       "      <td>about</td>\n",
       "      <td>339</td>\n",
       "      <td>406</td>\n",
       "      <td>379</td>\n",
       "      <td>319</td>\n",
       "      <td>379</td>\n",
       "      <td>398</td>\n",
       "    </tr>\n",
       "    <tr>\n",
       "      <th>2</th>\n",
       "      <td>absolutely</td>\n",
       "      <td>4</td>\n",
       "      <td>4</td>\n",
       "      <td>9</td>\n",
       "      <td>6</td>\n",
       "      <td>15</td>\n",
       "      <td>8</td>\n",
       "    </tr>\n",
       "    <tr>\n",
       "      <th>3</th>\n",
       "      <td>accent</td>\n",
       "      <td>2</td>\n",
       "      <td>5</td>\n",
       "      <td>4</td>\n",
       "      <td>2</td>\n",
       "      <td>1</td>\n",
       "      <td>5</td>\n",
       "    </tr>\n",
       "    <tr>\n",
       "      <th>4</th>\n",
       "      <td>accept</td>\n",
       "      <td>5</td>\n",
       "      <td>0</td>\n",
       "      <td>4</td>\n",
       "      <td>2</td>\n",
       "      <td>3</td>\n",
       "      <td>7</td>\n",
       "    </tr>\n",
       "    <tr>\n",
       "      <th>...</th>\n",
       "      <td>...</td>\n",
       "      <td>...</td>\n",
       "      <td>...</td>\n",
       "      <td>...</td>\n",
       "      <td>...</td>\n",
       "      <td>...</td>\n",
       "      <td>...</td>\n",
       "    </tr>\n",
       "    <tr>\n",
       "      <th>1770</th>\n",
       "      <td>yours</td>\n",
       "      <td>16</td>\n",
       "      <td>13</td>\n",
       "      <td>14</td>\n",
       "      <td>13</td>\n",
       "      <td>12</td>\n",
       "      <td>12</td>\n",
       "    </tr>\n",
       "    <tr>\n",
       "      <th>1771</th>\n",
       "      <td>yourself</td>\n",
       "      <td>20</td>\n",
       "      <td>16</td>\n",
       "      <td>28</td>\n",
       "      <td>26</td>\n",
       "      <td>20</td>\n",
       "      <td>20</td>\n",
       "    </tr>\n",
       "    <tr>\n",
       "      <th>1772</th>\n",
       "      <td>youve</td>\n",
       "      <td>40</td>\n",
       "      <td>34</td>\n",
       "      <td>40</td>\n",
       "      <td>37</td>\n",
       "      <td>47</td>\n",
       "      <td>45</td>\n",
       "    </tr>\n",
       "    <tr>\n",
       "      <th>1773</th>\n",
       "      <td>youyou</td>\n",
       "      <td>12</td>\n",
       "      <td>18</td>\n",
       "      <td>18</td>\n",
       "      <td>3</td>\n",
       "      <td>16</td>\n",
       "      <td>37</td>\n",
       "    </tr>\n",
       "    <tr>\n",
       "      <th>1774</th>\n",
       "      <td>zoo</td>\n",
       "      <td>1</td>\n",
       "      <td>3</td>\n",
       "      <td>0</td>\n",
       "      <td>2</td>\n",
       "      <td>1</td>\n",
       "      <td>8</td>\n",
       "    </tr>\n",
       "  </tbody>\n",
       "</table>\n",
       "<p>1775 rows × 7 columns</p>\n",
       "</div>"
      ],
      "text/plain": [
       "           index  Chandler  Joey  Monica  Phoebe  Rachel  Ross\n",
       "0           able        11     9       9       8      11    16\n",
       "1          about       339   406     379     319     379   398\n",
       "2     absolutely         4     4       9       6      15     8\n",
       "3         accent         2     5       4       2       1     5\n",
       "4         accept         5     0       4       2       3     7\n",
       "...          ...       ...   ...     ...     ...     ...   ...\n",
       "1770       yours        16    13      14      13      12    12\n",
       "1771    yourself        20    16      28      26      20    20\n",
       "1772       youve        40    34      40      37      47    45\n",
       "1773      youyou        12    18      18       3      16    37\n",
       "1774         zoo         1     3       0       2       1     8\n",
       "\n",
       "[1775 rows x 7 columns]"
      ]
     },
     "execution_count": 117,
     "metadata": {},
     "output_type": "execute_result"
    }
   ],
   "source": [
    "most_spoken_words = counts.T.reset_index()\n",
    "most_spoken_words"
   ]
  },
  {
   "cell_type": "code",
   "execution_count": 118,
   "metadata": {
    "slideshow": {
     "slide_type": "skip"
    }
   },
   "outputs": [],
   "source": [
    "stop_words = stopwords.words('english')"
   ]
  },
  {
   "cell_type": "code",
   "execution_count": 119,
   "metadata": {
    "slideshow": {
     "slide_type": "skip"
    }
   },
   "outputs": [],
   "source": [
    "most_spoken_words[\"sentiment\"] = most_spoken_words[\"index\"].apply(polarity).apply(sentiment_analysis)"
   ]
  },
  {
   "cell_type": "code",
   "execution_count": 120,
   "metadata": {
    "slideshow": {
     "slide_type": "skip"
    }
   },
   "outputs": [],
   "source": [
    "most_spoken_words.drop(most_spoken_words[most_spoken_words[\"index\"].isin(stop_words)].index,inplace = True)"
   ]
  },
  {
   "cell_type": "code",
   "execution_count": 121,
   "metadata": {
    "slideshow": {
     "slide_type": "skip"
    }
   },
   "outputs": [],
   "source": [
    "most_spoken_words.drop(most_spoken_words[most_spoken_words[\"sentiment\"]==\"Neutral\"].index,inplace = True)"
   ]
  },
  {
   "cell_type": "code",
   "execution_count": 122,
   "metadata": {
    "slideshow": {
     "slide_type": "skip"
    }
   },
   "outputs": [],
   "source": [
    "most_spoken_words.set_index(['index','sentiment'], inplace = True)"
   ]
  },
  {
   "cell_type": "markdown",
   "metadata": {
    "slideshow": {
     "slide_type": "skip"
    }
   },
   "source": [
    "#### Plot"
   ]
  },
  {
   "cell_type": "code",
   "execution_count": 129,
   "metadata": {
    "slideshow": {
     "slide_type": "slide"
    }
   },
   "outputs": [
    {
     "data": {
      "application/vnd.jupyter.widget-view+json": {
       "model_id": "99dd6ae108b947e28ce66824cb006eff",
       "version_major": 2,
       "version_minor": 0
      },
      "text/plain": [
       "interactive(children=(Dropdown(description='actor', options=('Chandler', 'Joey', 'Monica', 'Phoebe', 'Rachel',…"
      ]
     },
     "metadata": {},
     "output_type": "display_data"
    }
   ],
   "source": [
    "@interact(actor =list(most_spoken_words.columns))\n",
    "def sentiment(actor):\n",
    "    x = pd.DataFrame(most_spoken_words.loc[:,actor]).reset_index()\n",
    "    positive = x[x.sentiment == \"Positive\"].sort_values(by = actor, ascending = False).head(10)\n",
    "    negative = x[x.sentiment == \"Negative\"].sort_values(by = actor, ascending = False).head(10)\n",
    "    negative[actor] = negative[actor] * -1\n",
    "    sa_ch = pd.concat([positive,negative])\n",
    "    gfg = sa_ch.pivot_table(sa_ch,index='index', columns='sentiment', fill_value = 0)\n",
    "    gfg.columns = gfg.columns.droplevel(0)\n",
    "    gfg = gfg.sort_values(['Positive','Negative'], ascending = True)\n",
    "    \n",
    "    Diverging = go.Figure()\n",
    "    Diverging.add_trace(go.Bar(x=gfg[\"Negative\"],\n",
    "                               y=gfg.index,\n",
    "                               orientation='h',\n",
    "                               name=\"Negative\",\n",
    "                               hovertemplate=\"%{y}: %{x}\"))\n",
    "\n",
    "    Diverging.add_trace(go.Bar(x=gfg[\"Positive\"],\n",
    "                               y=gfg.index,\n",
    "                               orientation='h',\n",
    "                               name=\"Positive\",\n",
    "                               hovertemplate=\"%{y}: %{x}\"))\n",
    "\n",
    "    Diverging.update_layout(title_text= f\"{actor}'s Sentiment Analysis\")\n",
    "    Diverging.show()"
   ]
  },
  {
   "cell_type": "markdown",
   "metadata": {
    "slideshow": {
     "slide_type": "skip"
    }
   },
   "source": [
    "## TfidfVectorizer (most spoken words)"
   ]
  },
  {
   "cell_type": "code",
   "execution_count": 230,
   "metadata": {
    "slideshow": {
     "slide_type": "skip"
    }
   },
   "outputs": [],
   "source": [
    "from sklearn.feature_extraction.text import TfidfVectorizer\n",
    "tfidf = TfidfVectorizer(min_df = 0.0002, ngram_range =(3,3))"
   ]
  },
  {
   "cell_type": "code",
   "execution_count": 231,
   "metadata": {
    "slideshow": {
     "slide_type": "skip"
    }
   },
   "outputs": [],
   "source": [
    "X = tfidf.fit_transform(friends[\"quote\"])\n",
    "y = friends.iloc[:, 0].values"
   ]
  },
  {
   "cell_type": "code",
   "execution_count": 232,
   "metadata": {
    "slideshow": {
     "slide_type": "skip"
    }
   },
   "outputs": [],
   "source": [
    "counts2 = pd.DataFrame(X.toarray(),index = list(y),\n",
    "                      columns=tfidf.get_feature_names())\n",
    "counts2 = counts2.groupby(counts2.index).sum()"
   ]
  },
  {
   "cell_type": "code",
   "execution_count": 233,
   "metadata": {
    "slideshow": {
     "slide_type": "skip"
    }
   },
   "outputs": [
    {
     "data": {
      "text/plain": [
       "im going to       57.323209\n",
       "oh my god         53.800666\n",
       "going to be       51.584386\n",
       "what are you      36.522808\n",
       "check it out      31.715833\n",
       "youre going to    30.864538\n",
       "no no no          27.156222\n",
       "what do you       26.370328\n",
       "do you think      24.755160\n",
       "going to do       23.239721\n",
       "dont want to      23.069648\n",
       "are you doing     21.500855\n",
       "not going to      21.250064\n",
       "want you to       18.617322\n",
       "days of our       18.579052\n",
       "Name: Joey, dtype: float64"
      ]
     },
     "execution_count": 233,
     "metadata": {},
     "output_type": "execute_result"
    }
   ],
   "source": [
    "counts2.T[\"Joey\"].sort_values(ascending = False).head(15)"
   ]
  },
  {
   "cell_type": "code",
   "execution_count": 234,
   "metadata": {
    "slideshow": {
     "slide_type": "skip"
    }
   },
   "outputs": [],
   "source": [
    "from pyvis.network import Network"
   ]
  },
  {
   "cell_type": "code",
   "execution_count": 235,
   "metadata": {
    "slideshow": {
     "slide_type": "skip"
    }
   },
   "outputs": [],
   "source": [
    "net = Network(notebook = True)"
   ]
  },
  {
   "cell_type": "code",
   "execution_count": 236,
   "metadata": {
    "slideshow": {
     "slide_type": "skip"
    }
   },
   "outputs": [],
   "source": [
    "g = Network(notebook = True, bgcolor= \"black\", font_color='white', height='700px', width='100%')\n",
    "g.add_node(\"Ross\", color='red', size=50, shape = \"circle\")\n",
    "g.add_node(\"Rachel\", color='blue', size=50, shape = \"circle\")\n",
    "g.add_node(\"Chandler\", color='yellow', size=50, shape = \"circle\")\n",
    "g.add_node(\"Phoebe\", color='red', size=50, shape = \"circle\")\n",
    "g.add_node(\"Joey\", color='blue', size=50, shape = \"circle\")\n",
    "g.add_node(\"Monica\", color='yellow', size=50, shape = \"circle\")\n",
    "g.add_node(\"Janice\", color='green', size=50, shape = \"circle\")\n",
    "g.add_node(\"Carol\", color='green', size=50, shape = \"circle\")\n",
    "g.add_node(\"Susan\", color='green', size=50, shape = \"circle\")\n",
    "\n",
    "for i in range(len(conversation_weights)):\n",
    "    g.add_edge(conversation_weights[\"A\"][i],conversation_weights[\"B\"][i], value=round(conversation_weights[\"Conversation\"][i]*100),color=\"white\", length = 400)\n"
   ]
  },
  {
   "cell_type": "code",
   "execution_count": 237,
   "metadata": {
    "slideshow": {
     "slide_type": "slide"
    }
   },
   "outputs": [
    {
     "data": {
      "text/html": [
       "\n",
       "        <iframe\n",
       "            width=\"100%\"\n",
       "            height=\"700px\"\n",
       "            src=\"friends.html\"\n",
       "            frameborder=\"0\"\n",
       "            allowfullscreen\n",
       "        ></iframe>\n",
       "        "
      ],
      "text/plain": [
       "<IPython.lib.display.IFrame at 0x1d2dc27e940>"
      ]
     },
     "execution_count": 237,
     "metadata": {},
     "output_type": "execute_result"
    }
   ],
   "source": [
    "g.show(\"friends.html\")"
   ]
  },
  {
   "cell_type": "code",
   "execution_count": null,
   "metadata": {},
   "outputs": [],
   "source": []
  }
 ],
 "metadata": {
  "celltoolbar": "Slideshow",
  "hide_input": false,
  "kernelspec": {
   "display_name": "Python 3",
   "language": "python",
   "name": "python3"
  },
  "language_info": {
   "codemirror_mode": {
    "name": "ipython",
    "version": 3
   },
   "file_extension": ".py",
   "mimetype": "text/x-python",
   "name": "python",
   "nbconvert_exporter": "python",
   "pygments_lexer": "ipython3",
   "version": "3.8.5"
  },
  "toc": {
   "base_numbering": 1,
   "nav_menu": {},
   "number_sections": true,
   "sideBar": true,
   "skip_h1_title": false,
   "title_cell": "Table of Contents",
   "title_sidebar": "Contents",
   "toc_cell": false,
   "toc_position": {},
   "toc_section_display": true,
   "toc_window_display": false
  },
  "varInspector": {
   "cols": {
    "lenName": 16,
    "lenType": 16,
    "lenVar": 40
   },
   "kernels_config": {
    "python": {
     "delete_cmd_postfix": "",
     "delete_cmd_prefix": "del ",
     "library": "var_list.py",
     "varRefreshCmd": "print(var_dic_list())"
    },
    "r": {
     "delete_cmd_postfix": ") ",
     "delete_cmd_prefix": "rm(",
     "library": "var_list.r",
     "varRefreshCmd": "cat(var_dic_list()) "
    }
   },
   "types_to_exclude": [
    "module",
    "function",
    "builtin_function_or_method",
    "instance",
    "_Feature"
   ],
   "window_display": false
  }
 },
 "nbformat": 4,
 "nbformat_minor": 4
}
