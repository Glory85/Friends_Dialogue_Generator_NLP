{
  "nbformat": 4,
  "nbformat_minor": 0,
  "metadata": {
    "celltoolbar": "Slideshow",
    "colab": {
      "name": "Friends Quotes Generator & Data Visualisation_Final Project.ipynb",
      "provenance": [],
      "collapsed_sections": [
        "Foy6rPwWi4cm",
        "qudJAsj7n3qJ",
        "Q4dekdhtoo1s",
        "vnyk9yWEq2YB",
        "tIP7YuCXSbc3",
        "iTOUjYfNUpsI",
        "3f8gn9DH4I-n"
      ]
    },
    "hide_input": false,
    "kernelspec": {
      "display_name": "Python 3",
      "language": "python",
      "name": "python3"
    },
    "language_info": {
      "codemirror_mode": {
        "name": "ipython",
        "version": 3
      },
      "file_extension": ".py",
      "mimetype": "text/x-python",
      "name": "python",
      "nbconvert_exporter": "python",
      "pygments_lexer": "ipython3",
      "version": "3.8.5"
    },
    "toc": {
      "base_numbering": 1,
      "nav_menu": {},
      "number_sections": true,
      "sideBar": true,
      "skip_h1_title": false,
      "title_cell": "Table of Contents",
      "title_sidebar": "Contents",
      "toc_cell": false,
      "toc_position": {},
      "toc_section_display": true,
      "toc_window_display": false
    },
    "varInspector": {
      "cols": {
        "lenName": 16,
        "lenType": 16,
        "lenVar": 40
      },
      "kernels_config": {
        "python": {
          "delete_cmd_postfix": "",
          "delete_cmd_prefix": "del ",
          "library": "var_list.py",
          "varRefreshCmd": "print(var_dic_list())"
        },
        "r": {
          "delete_cmd_postfix": ") ",
          "delete_cmd_prefix": "rm(",
          "library": "var_list.r",
          "varRefreshCmd": "cat(var_dic_list()) "
        }
      },
      "types_to_exclude": [
        "module",
        "function",
        "builtin_function_or_method",
        "instance",
        "_Feature"
      ],
      "window_display": false
    },
    "widgets": {
      "application/vnd.jupyter.widget-state+json": {
        "2b97ddae19474521a738e58557430380": {
          "model_module": "@jupyter-widgets/controls",
          "model_name": "VBoxModel",
          "state": {
            "_view_name": "VBoxView",
            "_dom_classes": [
              "widget-interact"
            ],
            "_model_name": "VBoxModel",
            "_view_module": "@jupyter-widgets/controls",
            "_model_module_version": "1.5.0",
            "_view_count": null,
            "_view_module_version": "1.5.0",
            "box_style": "",
            "layout": "IPY_MODEL_5cf3996e090b45078dc80c1f7552f4d6",
            "_model_module": "@jupyter-widgets/controls",
            "children": [
              "IPY_MODEL_7044f2a66679412ab83bbb8bc8a5f251",
              "IPY_MODEL_2adc3ebb5a71487b94346f9ae757cce3"
            ]
          }
        },
        "5cf3996e090b45078dc80c1f7552f4d6": {
          "model_module": "@jupyter-widgets/base",
          "model_name": "LayoutModel",
          "state": {
            "_view_name": "LayoutView",
            "grid_template_rows": null,
            "right": null,
            "justify_content": null,
            "_view_module": "@jupyter-widgets/base",
            "overflow": null,
            "_model_module_version": "1.2.0",
            "_view_count": null,
            "flex_flow": null,
            "width": null,
            "min_width": null,
            "border": null,
            "align_items": null,
            "bottom": null,
            "_model_module": "@jupyter-widgets/base",
            "top": null,
            "grid_column": null,
            "overflow_y": null,
            "overflow_x": null,
            "grid_auto_flow": null,
            "grid_area": null,
            "grid_template_columns": null,
            "flex": null,
            "_model_name": "LayoutModel",
            "justify_items": null,
            "grid_row": null,
            "max_height": null,
            "align_content": null,
            "visibility": null,
            "align_self": null,
            "height": null,
            "min_height": null,
            "padding": null,
            "grid_auto_rows": null,
            "grid_gap": null,
            "max_width": null,
            "order": null,
            "_view_module_version": "1.2.0",
            "grid_template_areas": null,
            "object_position": null,
            "object_fit": null,
            "grid_auto_columns": null,
            "margin": null,
            "display": null,
            "left": null
          }
        },
        "7044f2a66679412ab83bbb8bc8a5f251": {
          "model_module": "@jupyter-widgets/controls",
          "model_name": "IntSliderModel",
          "state": {
            "_view_name": "IntSliderView",
            "style": "IPY_MODEL_bfedb58739824e59b7f7c483f46d5804",
            "_dom_classes": [],
            "description": "Season",
            "step": 1,
            "_model_name": "IntSliderModel",
            "orientation": "horizontal",
            "max": 10,
            "_view_module": "@jupyter-widgets/controls",
            "_model_module_version": "1.5.0",
            "value": 1,
            "_view_count": null,
            "disabled": false,
            "_view_module_version": "1.5.0",
            "min": 1,
            "continuous_update": true,
            "readout_format": "d",
            "description_tooltip": null,
            "readout": true,
            "_model_module": "@jupyter-widgets/controls",
            "layout": "IPY_MODEL_812cc2e1ac9b4ef3ab8ab22ab53fb37b"
          }
        },
        "2adc3ebb5a71487b94346f9ae757cce3": {
          "model_module": "@jupyter-widgets/output",
          "model_name": "OutputModel",
          "state": {
            "_view_name": "OutputView",
            "msg_id": "",
            "_dom_classes": [],
            "_model_name": "OutputModel",
            "outputs": [
              {
                "output_type": "display_data",
                "metadata": {
                  "tags": []
                },
                "image/png": "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\n",
                "text/plain": "<Figure size 504x504 with 1 Axes>"
              }
            ],
            "_view_module": "@jupyter-widgets/output",
            "_model_module_version": "1.0.0",
            "_view_count": null,
            "_view_module_version": "1.0.0",
            "layout": "IPY_MODEL_4393f3a80202494aba70e834e1971832",
            "_model_module": "@jupyter-widgets/output"
          }
        },
        "bfedb58739824e59b7f7c483f46d5804": {
          "model_module": "@jupyter-widgets/controls",
          "model_name": "SliderStyleModel",
          "state": {
            "_view_name": "StyleView",
            "handle_color": null,
            "_model_name": "SliderStyleModel",
            "description_width": "",
            "_view_module": "@jupyter-widgets/base",
            "_model_module_version": "1.5.0",
            "_view_count": null,
            "_view_module_version": "1.2.0",
            "_model_module": "@jupyter-widgets/controls"
          }
        },
        "812cc2e1ac9b4ef3ab8ab22ab53fb37b": {
          "model_module": "@jupyter-widgets/base",
          "model_name": "LayoutModel",
          "state": {
            "_view_name": "LayoutView",
            "grid_template_rows": null,
            "right": null,
            "justify_content": null,
            "_view_module": "@jupyter-widgets/base",
            "overflow": null,
            "_model_module_version": "1.2.0",
            "_view_count": null,
            "flex_flow": null,
            "width": null,
            "min_width": null,
            "border": null,
            "align_items": null,
            "bottom": null,
            "_model_module": "@jupyter-widgets/base",
            "top": null,
            "grid_column": null,
            "overflow_y": null,
            "overflow_x": null,
            "grid_auto_flow": null,
            "grid_area": null,
            "grid_template_columns": null,
            "flex": null,
            "_model_name": "LayoutModel",
            "justify_items": null,
            "grid_row": null,
            "max_height": null,
            "align_content": null,
            "visibility": null,
            "align_self": null,
            "height": null,
            "min_height": null,
            "padding": null,
            "grid_auto_rows": null,
            "grid_gap": null,
            "max_width": null,
            "order": null,
            "_view_module_version": "1.2.0",
            "grid_template_areas": null,
            "object_position": null,
            "object_fit": null,
            "grid_auto_columns": null,
            "margin": null,
            "display": null,
            "left": null
          }
        },
        "4393f3a80202494aba70e834e1971832": {
          "model_module": "@jupyter-widgets/base",
          "model_name": "LayoutModel",
          "state": {
            "_view_name": "LayoutView",
            "grid_template_rows": null,
            "right": null,
            "justify_content": null,
            "_view_module": "@jupyter-widgets/base",
            "overflow": null,
            "_model_module_version": "1.2.0",
            "_view_count": null,
            "flex_flow": null,
            "width": null,
            "min_width": null,
            "border": null,
            "align_items": null,
            "bottom": null,
            "_model_module": "@jupyter-widgets/base",
            "top": null,
            "grid_column": null,
            "overflow_y": null,
            "overflow_x": null,
            "grid_auto_flow": null,
            "grid_area": null,
            "grid_template_columns": null,
            "flex": null,
            "_model_name": "LayoutModel",
            "justify_items": null,
            "grid_row": null,
            "max_height": null,
            "align_content": null,
            "visibility": null,
            "align_self": null,
            "height": null,
            "min_height": null,
            "padding": null,
            "grid_auto_rows": null,
            "grid_gap": null,
            "max_width": null,
            "order": null,
            "_view_module_version": "1.2.0",
            "grid_template_areas": null,
            "object_position": null,
            "object_fit": null,
            "grid_auto_columns": null,
            "margin": null,
            "display": null,
            "left": null
          }
        },
        "65ee28d649074b0c8e0b276eb318c6cb": {
          "model_module": "@jupyter-widgets/controls",
          "model_name": "VBoxModel",
          "state": {
            "_view_name": "VBoxView",
            "_dom_classes": [
              "widget-interact"
            ],
            "_model_name": "VBoxModel",
            "_view_module": "@jupyter-widgets/controls",
            "_model_module_version": "1.5.0",
            "_view_count": null,
            "_view_module_version": "1.5.0",
            "box_style": "",
            "layout": "IPY_MODEL_43b491ccfa894df7bd9b56d1473fbb1c",
            "_model_module": "@jupyter-widgets/controls",
            "children": [
              "IPY_MODEL_c1ce17e575274a7cb6168ba4377919dc",
              "IPY_MODEL_745234ab188642d8b8209f9f817a4ea3"
            ]
          }
        },
        "43b491ccfa894df7bd9b56d1473fbb1c": {
          "model_module": "@jupyter-widgets/base",
          "model_name": "LayoutModel",
          "state": {
            "_view_name": "LayoutView",
            "grid_template_rows": null,
            "right": null,
            "justify_content": null,
            "_view_module": "@jupyter-widgets/base",
            "overflow": null,
            "_model_module_version": "1.2.0",
            "_view_count": null,
            "flex_flow": null,
            "width": null,
            "min_width": null,
            "border": null,
            "align_items": null,
            "bottom": null,
            "_model_module": "@jupyter-widgets/base",
            "top": null,
            "grid_column": null,
            "overflow_y": null,
            "overflow_x": null,
            "grid_auto_flow": null,
            "grid_area": null,
            "grid_template_columns": null,
            "flex": null,
            "_model_name": "LayoutModel",
            "justify_items": null,
            "grid_row": null,
            "max_height": null,
            "align_content": null,
            "visibility": null,
            "align_self": null,
            "height": null,
            "min_height": null,
            "padding": null,
            "grid_auto_rows": null,
            "grid_gap": null,
            "max_width": null,
            "order": null,
            "_view_module_version": "1.2.0",
            "grid_template_areas": null,
            "object_position": null,
            "object_fit": null,
            "grid_auto_columns": null,
            "margin": null,
            "display": null,
            "left": null
          }
        },
        "c1ce17e575274a7cb6168ba4377919dc": {
          "model_module": "@jupyter-widgets/controls",
          "model_name": "DropdownModel",
          "state": {
            "_options_labels": [
              "Chandler",
              "Joey",
              "Monica",
              "Phoebe",
              "Rachel",
              "Ross"
            ],
            "_view_name": "DropdownView",
            "style": "IPY_MODEL_e5aaa5a747b0459881328af6711f29d7",
            "_dom_classes": [],
            "description": "actor",
            "_model_name": "DropdownModel",
            "index": 0,
            "_view_module": "@jupyter-widgets/controls",
            "_model_module_version": "1.5.0",
            "_view_count": null,
            "disabled": false,
            "_view_module_version": "1.5.0",
            "description_tooltip": null,
            "_model_module": "@jupyter-widgets/controls",
            "layout": "IPY_MODEL_04e3ecf4393c4267be62652680f5048b"
          }
        },
        "745234ab188642d8b8209f9f817a4ea3": {
          "model_module": "@jupyter-widgets/output",
          "model_name": "OutputModel",
          "state": {
            "_view_name": "OutputView",
            "msg_id": "",
            "_dom_classes": [],
            "_model_name": "OutputModel",
            "outputs": [
              {
                "output_type": "display_data",
                "metadata": {
                  "tags": []
                },
                "text/html": "<html>\n<head><meta charset=\"utf-8\" /></head>\n<body>\n    <div>\n            <script src=\"https://cdnjs.cloudflare.com/ajax/libs/mathjax/2.7.5/MathJax.js?config=TeX-AMS-MML_SVG\"></script><script type=\"text/javascript\">if (window.MathJax) {MathJax.Hub.Config({SVG: {font: \"STIX-Web\"}});}</script>\n                <script type=\"text/javascript\">window.PlotlyConfig = {MathJaxConfig: 'local'};</script>\n        <script src=\"https://cdn.plot.ly/plotly-latest.min.js\"></script>    \n            <div id=\"a189acf8-82f0-4ca5-a19c-13bbc9a5d403\" class=\"plotly-graph-div\" style=\"height:525px; width:100%;\"></div>\n            <script type=\"text/javascript\">\n                \n                    window.PLOTLYENV=window.PLOTLYENV || {};\n                    \n                if (document.getElementById(\"a189acf8-82f0-4ca5-a19c-13bbc9a5d403\")) {\n                    Plotly.newPlot(\n                        'a189acf8-82f0-4ca5-a19c-13bbc9a5d403',\n                        [{\"hovertemplate\": \"%{y}: %{x}\", \"name\": \"Negative\", \"orientation\": \"h\", \"type\": \"bar\", \"x\": [-64, -40, -34, -22, -22, -15, -15, -13, -12, -11, 0, 0, 0, 0, 0, 0, 0, 0, 0, 0], \"y\": [\"bad\", \"crazy\", \"stupid\", \"hate\", \"mad\", \"horrible\", \"worst\", \"cold\", \"afraid\", \"chicken\", \"perfect\", \"amazing\", \"win\", \"beautiful\", \"happy\", \"kind\", \"best\", \"nice\", \"great\", \"good\"]}, {\"hovertemplate\": \"%{y}: %{x}\", \"name\": \"Positive\", \"orientation\": \"h\", \"type\": \"bar\", \"x\": [0, 0, 0, 0, 0, 0, 0, 0, 0, 0, 21, 23, 29, 33, 42, 45, 51, 74, 168, 206], \"y\": [\"bad\", \"crazy\", \"stupid\", \"hate\", \"mad\", \"horrible\", \"worst\", \"cold\", \"afraid\", \"chicken\", \"perfect\", \"amazing\", \"win\", \"beautiful\", \"happy\", \"kind\", \"best\", \"nice\", \"great\", \"good\"]}],\n                        {\"template\": {\"data\": {\"bar\": [{\"error_x\": {\"color\": \"#2a3f5f\"}, \"error_y\": {\"color\": \"#2a3f5f\"}, \"marker\": {\"line\": {\"color\": \"#E5ECF6\", \"width\": 0.5}}, \"type\": \"bar\"}], \"barpolar\": [{\"marker\": {\"line\": {\"color\": \"#E5ECF6\", \"width\": 0.5}}, \"type\": \"barpolar\"}], \"carpet\": [{\"aaxis\": {\"endlinecolor\": \"#2a3f5f\", \"gridcolor\": \"white\", \"linecolor\": \"white\", \"minorgridcolor\": \"white\", \"startlinecolor\": \"#2a3f5f\"}, \"baxis\": {\"endlinecolor\": \"#2a3f5f\", \"gridcolor\": \"white\", \"linecolor\": \"white\", \"minorgridcolor\": \"white\", \"startlinecolor\": \"#2a3f5f\"}, \"type\": \"carpet\"}], \"choropleth\": [{\"colorbar\": {\"outlinewidth\": 0, \"ticks\": \"\"}, \"type\": \"choropleth\"}], \"contour\": [{\"colorbar\": {\"outlinewidth\": 0, \"ticks\": \"\"}, \"colorscale\": [[0.0, \"#0d0887\"], [0.1111111111111111, \"#46039f\"], [0.2222222222222222, \"#7201a8\"], [0.3333333333333333, \"#9c179e\"], [0.4444444444444444, \"#bd3786\"], [0.5555555555555556, \"#d8576b\"], [0.6666666666666666, \"#ed7953\"], [0.7777777777777778, \"#fb9f3a\"], [0.8888888888888888, \"#fdca26\"], [1.0, \"#f0f921\"]], \"type\": \"contour\"}], \"contourcarpet\": [{\"colorbar\": {\"outlinewidth\": 0, \"ticks\": \"\"}, \"type\": \"contourcarpet\"}], \"heatmap\": [{\"colorbar\": {\"outlinewidth\": 0, \"ticks\": \"\"}, \"colorscale\": [[0.0, \"#0d0887\"], [0.1111111111111111, \"#46039f\"], [0.2222222222222222, \"#7201a8\"], [0.3333333333333333, \"#9c179e\"], [0.4444444444444444, \"#bd3786\"], [0.5555555555555556, \"#d8576b\"], [0.6666666666666666, \"#ed7953\"], [0.7777777777777778, \"#fb9f3a\"], [0.8888888888888888, \"#fdca26\"], [1.0, \"#f0f921\"]], \"type\": \"heatmap\"}], \"heatmapgl\": [{\"colorbar\": {\"outlinewidth\": 0, \"ticks\": \"\"}, \"colorscale\": [[0.0, \"#0d0887\"], [0.1111111111111111, \"#46039f\"], [0.2222222222222222, \"#7201a8\"], [0.3333333333333333, \"#9c179e\"], [0.4444444444444444, \"#bd3786\"], [0.5555555555555556, \"#d8576b\"], [0.6666666666666666, \"#ed7953\"], [0.7777777777777778, \"#fb9f3a\"], [0.8888888888888888, \"#fdca26\"], [1.0, \"#f0f921\"]], \"type\": \"heatmapgl\"}], \"histogram\": [{\"marker\": {\"colorbar\": {\"outlinewidth\": 0, \"ticks\": \"\"}}, \"type\": \"histogram\"}], \"histogram2d\": [{\"colorbar\": {\"outlinewidth\": 0, \"ticks\": \"\"}, \"colorscale\": [[0.0, \"#0d0887\"], [0.1111111111111111, \"#46039f\"], [0.2222222222222222, \"#7201a8\"], [0.3333333333333333, \"#9c179e\"], [0.4444444444444444, \"#bd3786\"], [0.5555555555555556, \"#d8576b\"], [0.6666666666666666, \"#ed7953\"], [0.7777777777777778, \"#fb9f3a\"], [0.8888888888888888, \"#fdca26\"], [1.0, \"#f0f921\"]], \"type\": \"histogram2d\"}], \"histogram2dcontour\": [{\"colorbar\": {\"outlinewidth\": 0, \"ticks\": \"\"}, \"colorscale\": [[0.0, \"#0d0887\"], [0.1111111111111111, \"#46039f\"], [0.2222222222222222, \"#7201a8\"], [0.3333333333333333, \"#9c179e\"], [0.4444444444444444, \"#bd3786\"], [0.5555555555555556, \"#d8576b\"], [0.6666666666666666, \"#ed7953\"], [0.7777777777777778, \"#fb9f3a\"], [0.8888888888888888, \"#fdca26\"], [1.0, \"#f0f921\"]], \"type\": \"histogram2dcontour\"}], \"mesh3d\": [{\"colorbar\": {\"outlinewidth\": 0, \"ticks\": \"\"}, \"type\": \"mesh3d\"}], \"parcoords\": [{\"line\": {\"colorbar\": {\"outlinewidth\": 0, \"ticks\": \"\"}}, \"type\": \"parcoords\"}], \"pie\": [{\"automargin\": true, \"type\": \"pie\"}], \"scatter\": [{\"marker\": {\"colorbar\": {\"outlinewidth\": 0, \"ticks\": \"\"}}, \"type\": \"scatter\"}], \"scatter3d\": [{\"line\": {\"colorbar\": {\"outlinewidth\": 0, \"ticks\": \"\"}}, \"marker\": {\"colorbar\": {\"outlinewidth\": 0, \"ticks\": \"\"}}, \"type\": \"scatter3d\"}], \"scattercarpet\": [{\"marker\": {\"colorbar\": {\"outlinewidth\": 0, \"ticks\": \"\"}}, \"type\": \"scattercarpet\"}], \"scattergeo\": [{\"marker\": {\"colorbar\": {\"outlinewidth\": 0, \"ticks\": \"\"}}, \"type\": \"scattergeo\"}], \"scattergl\": [{\"marker\": {\"colorbar\": {\"outlinewidth\": 0, \"ticks\": \"\"}}, \"type\": \"scattergl\"}], \"scattermapbox\": [{\"marker\": {\"colorbar\": {\"outlinewidth\": 0, \"ticks\": \"\"}}, \"type\": \"scattermapbox\"}], \"scatterpolar\": [{\"marker\": {\"colorbar\": {\"outlinewidth\": 0, \"ticks\": \"\"}}, \"type\": \"scatterpolar\"}], \"scatterpolargl\": [{\"marker\": {\"colorbar\": {\"outlinewidth\": 0, \"ticks\": \"\"}}, \"type\": \"scatterpolargl\"}], \"scatterternary\": [{\"marker\": {\"colorbar\": {\"outlinewidth\": 0, \"ticks\": \"\"}}, \"type\": \"scatterternary\"}], \"surface\": [{\"colorbar\": {\"outlinewidth\": 0, \"ticks\": \"\"}, \"colorscale\": [[0.0, \"#0d0887\"], [0.1111111111111111, \"#46039f\"], [0.2222222222222222, \"#7201a8\"], [0.3333333333333333, \"#9c179e\"], [0.4444444444444444, \"#bd3786\"], [0.5555555555555556, \"#d8576b\"], [0.6666666666666666, \"#ed7953\"], [0.7777777777777778, \"#fb9f3a\"], [0.8888888888888888, \"#fdca26\"], [1.0, \"#f0f921\"]], \"type\": \"surface\"}], \"table\": [{\"cells\": {\"fill\": {\"color\": \"#EBF0F8\"}, \"line\": {\"color\": \"white\"}}, \"header\": {\"fill\": {\"color\": \"#C8D4E3\"}, \"line\": {\"color\": \"white\"}}, \"type\": \"table\"}]}, \"layout\": {\"annotationdefaults\": {\"arrowcolor\": \"#2a3f5f\", \"arrowhead\": 0, \"arrowwidth\": 1}, \"coloraxis\": {\"colorbar\": {\"outlinewidth\": 0, \"ticks\": \"\"}}, \"colorscale\": {\"diverging\": [[0, \"#8e0152\"], [0.1, \"#c51b7d\"], [0.2, \"#de77ae\"], [0.3, \"#f1b6da\"], [0.4, \"#fde0ef\"], [0.5, \"#f7f7f7\"], [0.6, \"#e6f5d0\"], [0.7, \"#b8e186\"], [0.8, \"#7fbc41\"], [0.9, \"#4d9221\"], [1, \"#276419\"]], \"sequential\": [[0.0, \"#0d0887\"], [0.1111111111111111, \"#46039f\"], [0.2222222222222222, \"#7201a8\"], [0.3333333333333333, \"#9c179e\"], [0.4444444444444444, \"#bd3786\"], [0.5555555555555556, \"#d8576b\"], [0.6666666666666666, \"#ed7953\"], [0.7777777777777778, \"#fb9f3a\"], [0.8888888888888888, \"#fdca26\"], [1.0, \"#f0f921\"]], \"sequentialminus\": [[0.0, \"#0d0887\"], [0.1111111111111111, \"#46039f\"], [0.2222222222222222, \"#7201a8\"], [0.3333333333333333, \"#9c179e\"], [0.4444444444444444, \"#bd3786\"], [0.5555555555555556, \"#d8576b\"], [0.6666666666666666, \"#ed7953\"], [0.7777777777777778, \"#fb9f3a\"], [0.8888888888888888, \"#fdca26\"], [1.0, \"#f0f921\"]]}, \"colorway\": [\"#636efa\", \"#EF553B\", \"#00cc96\", \"#ab63fa\", \"#FFA15A\", \"#19d3f3\", \"#FF6692\", \"#B6E880\", \"#FF97FF\", \"#FECB52\"], \"font\": {\"color\": \"#2a3f5f\"}, \"geo\": {\"bgcolor\": \"white\", \"lakecolor\": \"white\", \"landcolor\": \"#E5ECF6\", \"showlakes\": true, \"showland\": true, \"subunitcolor\": \"white\"}, \"hoverlabel\": {\"align\": \"left\"}, \"hovermode\": \"closest\", \"mapbox\": {\"style\": \"light\"}, \"paper_bgcolor\": \"white\", \"plot_bgcolor\": \"#E5ECF6\", \"polar\": {\"angularaxis\": {\"gridcolor\": \"white\", \"linecolor\": \"white\", \"ticks\": \"\"}, \"bgcolor\": \"#E5ECF6\", \"radialaxis\": {\"gridcolor\": \"white\", \"linecolor\": \"white\", \"ticks\": \"\"}}, \"scene\": {\"xaxis\": {\"backgroundcolor\": \"#E5ECF6\", \"gridcolor\": \"white\", \"gridwidth\": 2, \"linecolor\": \"white\", \"showbackground\": true, \"ticks\": \"\", \"zerolinecolor\": \"white\"}, \"yaxis\": {\"backgroundcolor\": \"#E5ECF6\", \"gridcolor\": \"white\", \"gridwidth\": 2, \"linecolor\": \"white\", \"showbackground\": true, \"ticks\": \"\", \"zerolinecolor\": \"white\"}, \"zaxis\": {\"backgroundcolor\": \"#E5ECF6\", \"gridcolor\": \"white\", \"gridwidth\": 2, \"linecolor\": \"white\", \"showbackground\": true, \"ticks\": \"\", \"zerolinecolor\": \"white\"}}, \"shapedefaults\": {\"line\": {\"color\": \"#2a3f5f\"}}, \"ternary\": {\"aaxis\": {\"gridcolor\": \"white\", \"linecolor\": \"white\", \"ticks\": \"\"}, \"baxis\": {\"gridcolor\": \"white\", \"linecolor\": \"white\", \"ticks\": \"\"}, \"bgcolor\": \"#E5ECF6\", \"caxis\": {\"gridcolor\": \"white\", \"linecolor\": \"white\", \"ticks\": \"\"}}, \"title\": {\"x\": 0.05}, \"xaxis\": {\"automargin\": true, \"gridcolor\": \"white\", \"linecolor\": \"white\", \"ticks\": \"\", \"title\": {\"standoff\": 15}, \"zerolinecolor\": \"white\", \"zerolinewidth\": 2}, \"yaxis\": {\"automargin\": true, \"gridcolor\": \"white\", \"linecolor\": \"white\", \"ticks\": \"\", \"title\": {\"standoff\": 15}, \"zerolinecolor\": \"white\", \"zerolinewidth\": 2}}}, \"title\": {\"text\": \"Chandler's Sentiment Analysis\"}},\n                        {\"responsive\": true}\n                    ).then(function(){\n                            \nvar gd = document.getElementById('a189acf8-82f0-4ca5-a19c-13bbc9a5d403');\nvar x = new MutationObserver(function (mutations, observer) {{\n        var display = window.getComputedStyle(gd).display;\n        if (!display || display === 'none') {{\n            console.log([gd, 'removed!']);\n            Plotly.purge(gd);\n            observer.disconnect();\n        }}\n}});\n\n// Listen for the removal of the full notebook cells\nvar notebookContainer = gd.closest('#notebook-container');\nif (notebookContainer) {{\n    x.observe(notebookContainer, {childList: true});\n}}\n\n// Listen for the clearing of the current output cell\nvar outputEl = gd.closest('.output');\nif (outputEl) {{\n    x.observe(outputEl, {childList: true});\n}}\n\n                        })\n                };\n                \n            </script>\n        </div>\n</body>\n</html>"
              }
            ],
            "_view_module": "@jupyter-widgets/output",
            "_model_module_version": "1.0.0",
            "_view_count": null,
            "_view_module_version": "1.0.0",
            "layout": "IPY_MODEL_8b8a4e6f0b3f4fb190ec778d015b4092",
            "_model_module": "@jupyter-widgets/output"
          }
        },
        "e5aaa5a747b0459881328af6711f29d7": {
          "model_module": "@jupyter-widgets/controls",
          "model_name": "DescriptionStyleModel",
          "state": {
            "_view_name": "StyleView",
            "_model_name": "DescriptionStyleModel",
            "description_width": "",
            "_view_module": "@jupyter-widgets/base",
            "_model_module_version": "1.5.0",
            "_view_count": null,
            "_view_module_version": "1.2.0",
            "_model_module": "@jupyter-widgets/controls"
          }
        },
        "04e3ecf4393c4267be62652680f5048b": {
          "model_module": "@jupyter-widgets/base",
          "model_name": "LayoutModel",
          "state": {
            "_view_name": "LayoutView",
            "grid_template_rows": null,
            "right": null,
            "justify_content": null,
            "_view_module": "@jupyter-widgets/base",
            "overflow": null,
            "_model_module_version": "1.2.0",
            "_view_count": null,
            "flex_flow": null,
            "width": null,
            "min_width": null,
            "border": null,
            "align_items": null,
            "bottom": null,
            "_model_module": "@jupyter-widgets/base",
            "top": null,
            "grid_column": null,
            "overflow_y": null,
            "overflow_x": null,
            "grid_auto_flow": null,
            "grid_area": null,
            "grid_template_columns": null,
            "flex": null,
            "_model_name": "LayoutModel",
            "justify_items": null,
            "grid_row": null,
            "max_height": null,
            "align_content": null,
            "visibility": null,
            "align_self": null,
            "height": null,
            "min_height": null,
            "padding": null,
            "grid_auto_rows": null,
            "grid_gap": null,
            "max_width": null,
            "order": null,
            "_view_module_version": "1.2.0",
            "grid_template_areas": null,
            "object_position": null,
            "object_fit": null,
            "grid_auto_columns": null,
            "margin": null,
            "display": null,
            "left": null
          }
        },
        "8b8a4e6f0b3f4fb190ec778d015b4092": {
          "model_module": "@jupyter-widgets/base",
          "model_name": "LayoutModel",
          "state": {
            "_view_name": "LayoutView",
            "grid_template_rows": null,
            "right": null,
            "justify_content": null,
            "_view_module": "@jupyter-widgets/base",
            "overflow": null,
            "_model_module_version": "1.2.0",
            "_view_count": null,
            "flex_flow": null,
            "width": null,
            "min_width": null,
            "border": null,
            "align_items": null,
            "bottom": null,
            "_model_module": "@jupyter-widgets/base",
            "top": null,
            "grid_column": null,
            "overflow_y": null,
            "overflow_x": null,
            "grid_auto_flow": null,
            "grid_area": null,
            "grid_template_columns": null,
            "flex": null,
            "_model_name": "LayoutModel",
            "justify_items": null,
            "grid_row": null,
            "max_height": null,
            "align_content": null,
            "visibility": null,
            "align_self": null,
            "height": null,
            "min_height": null,
            "padding": null,
            "grid_auto_rows": null,
            "grid_gap": null,
            "max_width": null,
            "order": null,
            "_view_module_version": "1.2.0",
            "grid_template_areas": null,
            "object_position": null,
            "object_fit": null,
            "grid_auto_columns": null,
            "margin": null,
            "display": null,
            "left": null
          }
        },
        "4219bc311a7a40d580cab13b06b6a245": {
          "model_module": "@jupyter-widgets/controls",
          "model_name": "HBoxModel",
          "state": {
            "_view_name": "HBoxView",
            "_dom_classes": [],
            "_model_name": "HBoxModel",
            "_view_module": "@jupyter-widgets/controls",
            "_model_module_version": "1.5.0",
            "_view_count": null,
            "_view_module_version": "1.5.0",
            "box_style": "",
            "layout": "IPY_MODEL_5dc4f5a13e6b4085915813166eee0b06",
            "_model_module": "@jupyter-widgets/controls",
            "children": [
              "IPY_MODEL_14cd88f52dbc47a39d233a1ec594acd5",
              "IPY_MODEL_c9f0fe87e898445198ca80d3ff73d730"
            ]
          }
        },
        "5dc4f5a13e6b4085915813166eee0b06": {
          "model_module": "@jupyter-widgets/base",
          "model_name": "LayoutModel",
          "state": {
            "_view_name": "LayoutView",
            "grid_template_rows": null,
            "right": null,
            "justify_content": null,
            "_view_module": "@jupyter-widgets/base",
            "overflow": null,
            "_model_module_version": "1.2.0",
            "_view_count": null,
            "flex_flow": null,
            "width": null,
            "min_width": null,
            "border": null,
            "align_items": null,
            "bottom": null,
            "_model_module": "@jupyter-widgets/base",
            "top": null,
            "grid_column": null,
            "overflow_y": null,
            "overflow_x": null,
            "grid_auto_flow": null,
            "grid_area": null,
            "grid_template_columns": null,
            "flex": null,
            "_model_name": "LayoutModel",
            "justify_items": null,
            "grid_row": null,
            "max_height": null,
            "align_content": null,
            "visibility": null,
            "align_self": null,
            "height": null,
            "min_height": null,
            "padding": null,
            "grid_auto_rows": null,
            "grid_gap": null,
            "max_width": null,
            "order": null,
            "_view_module_version": "1.2.0",
            "grid_template_areas": null,
            "object_position": null,
            "object_fit": null,
            "grid_auto_columns": null,
            "margin": null,
            "display": null,
            "left": null
          }
        },
        "14cd88f52dbc47a39d233a1ec594acd5": {
          "model_module": "@jupyter-widgets/controls",
          "model_name": "FloatProgressModel",
          "state": {
            "_view_name": "ProgressView",
            "style": "IPY_MODEL_b6deac3c1cc44ccdb0f67c1aa6718006",
            "_dom_classes": [],
            "description": "Downloading: 100%",
            "_model_name": "FloatProgressModel",
            "bar_style": "success",
            "max": 26,
            "_view_module": "@jupyter-widgets/controls",
            "_model_module_version": "1.5.0",
            "value": 26,
            "_view_count": null,
            "_view_module_version": "1.5.0",
            "orientation": "horizontal",
            "min": 0,
            "description_tooltip": null,
            "_model_module": "@jupyter-widgets/controls",
            "layout": "IPY_MODEL_51bb79ffdadd423f92a410b42589e1c3"
          }
        },
        "c9f0fe87e898445198ca80d3ff73d730": {
          "model_module": "@jupyter-widgets/controls",
          "model_name": "HTMLModel",
          "state": {
            "_view_name": "HTMLView",
            "style": "IPY_MODEL_8af21aa683374caa849de350017d05ef",
            "_dom_classes": [],
            "description": "",
            "_model_name": "HTMLModel",
            "placeholder": "​",
            "_view_module": "@jupyter-widgets/controls",
            "_model_module_version": "1.5.0",
            "value": " 26.0/26.0 [00:00&lt;00:00, 76.2B/s]",
            "_view_count": null,
            "_view_module_version": "1.5.0",
            "description_tooltip": null,
            "_model_module": "@jupyter-widgets/controls",
            "layout": "IPY_MODEL_4ae67a9fe8aa43f08e8b2e6dff282c85"
          }
        },
        "b6deac3c1cc44ccdb0f67c1aa6718006": {
          "model_module": "@jupyter-widgets/controls",
          "model_name": "ProgressStyleModel",
          "state": {
            "_view_name": "StyleView",
            "_model_name": "ProgressStyleModel",
            "description_width": "initial",
            "_view_module": "@jupyter-widgets/base",
            "_model_module_version": "1.5.0",
            "_view_count": null,
            "_view_module_version": "1.2.0",
            "bar_color": null,
            "_model_module": "@jupyter-widgets/controls"
          }
        },
        "51bb79ffdadd423f92a410b42589e1c3": {
          "model_module": "@jupyter-widgets/base",
          "model_name": "LayoutModel",
          "state": {
            "_view_name": "LayoutView",
            "grid_template_rows": null,
            "right": null,
            "justify_content": null,
            "_view_module": "@jupyter-widgets/base",
            "overflow": null,
            "_model_module_version": "1.2.0",
            "_view_count": null,
            "flex_flow": null,
            "width": null,
            "min_width": null,
            "border": null,
            "align_items": null,
            "bottom": null,
            "_model_module": "@jupyter-widgets/base",
            "top": null,
            "grid_column": null,
            "overflow_y": null,
            "overflow_x": null,
            "grid_auto_flow": null,
            "grid_area": null,
            "grid_template_columns": null,
            "flex": null,
            "_model_name": "LayoutModel",
            "justify_items": null,
            "grid_row": null,
            "max_height": null,
            "align_content": null,
            "visibility": null,
            "align_self": null,
            "height": null,
            "min_height": null,
            "padding": null,
            "grid_auto_rows": null,
            "grid_gap": null,
            "max_width": null,
            "order": null,
            "_view_module_version": "1.2.0",
            "grid_template_areas": null,
            "object_position": null,
            "object_fit": null,
            "grid_auto_columns": null,
            "margin": null,
            "display": null,
            "left": null
          }
        },
        "8af21aa683374caa849de350017d05ef": {
          "model_module": "@jupyter-widgets/controls",
          "model_name": "DescriptionStyleModel",
          "state": {
            "_view_name": "StyleView",
            "_model_name": "DescriptionStyleModel",
            "description_width": "",
            "_view_module": "@jupyter-widgets/base",
            "_model_module_version": "1.5.0",
            "_view_count": null,
            "_view_module_version": "1.2.0",
            "_model_module": "@jupyter-widgets/controls"
          }
        },
        "4ae67a9fe8aa43f08e8b2e6dff282c85": {
          "model_module": "@jupyter-widgets/base",
          "model_name": "LayoutModel",
          "state": {
            "_view_name": "LayoutView",
            "grid_template_rows": null,
            "right": null,
            "justify_content": null,
            "_view_module": "@jupyter-widgets/base",
            "overflow": null,
            "_model_module_version": "1.2.0",
            "_view_count": null,
            "flex_flow": null,
            "width": null,
            "min_width": null,
            "border": null,
            "align_items": null,
            "bottom": null,
            "_model_module": "@jupyter-widgets/base",
            "top": null,
            "grid_column": null,
            "overflow_y": null,
            "overflow_x": null,
            "grid_auto_flow": null,
            "grid_area": null,
            "grid_template_columns": null,
            "flex": null,
            "_model_name": "LayoutModel",
            "justify_items": null,
            "grid_row": null,
            "max_height": null,
            "align_content": null,
            "visibility": null,
            "align_self": null,
            "height": null,
            "min_height": null,
            "padding": null,
            "grid_auto_rows": null,
            "grid_gap": null,
            "max_width": null,
            "order": null,
            "_view_module_version": "1.2.0",
            "grid_template_areas": null,
            "object_position": null,
            "object_fit": null,
            "grid_auto_columns": null,
            "margin": null,
            "display": null,
            "left": null
          }
        },
        "f282ea5537ba412fa8264d639af2b009": {
          "model_module": "@jupyter-widgets/controls",
          "model_name": "HBoxModel",
          "state": {
            "_view_name": "HBoxView",
            "_dom_classes": [],
            "_model_name": "HBoxModel",
            "_view_module": "@jupyter-widgets/controls",
            "_model_module_version": "1.5.0",
            "_view_count": null,
            "_view_module_version": "1.5.0",
            "box_style": "",
            "layout": "IPY_MODEL_77df30d5f5d943fb876ef82dcbeb6e81",
            "_model_module": "@jupyter-widgets/controls",
            "children": [
              "IPY_MODEL_34d6cd59fa7c452d9e34dcaf4e1d40c6",
              "IPY_MODEL_d6795e5112f14aafab26310123aef0fc"
            ]
          }
        },
        "77df30d5f5d943fb876ef82dcbeb6e81": {
          "model_module": "@jupyter-widgets/base",
          "model_name": "LayoutModel",
          "state": {
            "_view_name": "LayoutView",
            "grid_template_rows": null,
            "right": null,
            "justify_content": null,
            "_view_module": "@jupyter-widgets/base",
            "overflow": null,
            "_model_module_version": "1.2.0",
            "_view_count": null,
            "flex_flow": null,
            "width": null,
            "min_width": null,
            "border": null,
            "align_items": null,
            "bottom": null,
            "_model_module": "@jupyter-widgets/base",
            "top": null,
            "grid_column": null,
            "overflow_y": null,
            "overflow_x": null,
            "grid_auto_flow": null,
            "grid_area": null,
            "grid_template_columns": null,
            "flex": null,
            "_model_name": "LayoutModel",
            "justify_items": null,
            "grid_row": null,
            "max_height": null,
            "align_content": null,
            "visibility": null,
            "align_self": null,
            "height": null,
            "min_height": null,
            "padding": null,
            "grid_auto_rows": null,
            "grid_gap": null,
            "max_width": null,
            "order": null,
            "_view_module_version": "1.2.0",
            "grid_template_areas": null,
            "object_position": null,
            "object_fit": null,
            "grid_auto_columns": null,
            "margin": null,
            "display": null,
            "left": null
          }
        },
        "34d6cd59fa7c452d9e34dcaf4e1d40c6": {
          "model_module": "@jupyter-widgets/controls",
          "model_name": "FloatProgressModel",
          "state": {
            "_view_name": "ProgressView",
            "style": "IPY_MODEL_79f217dd1d314e159f13a6843924a31d",
            "_dom_classes": [],
            "description": "Downloading: 100%",
            "_model_name": "FloatProgressModel",
            "bar_style": "success",
            "max": 642,
            "_view_module": "@jupyter-widgets/controls",
            "_model_module_version": "1.5.0",
            "value": 642,
            "_view_count": null,
            "_view_module_version": "1.5.0",
            "orientation": "horizontal",
            "min": 0,
            "description_tooltip": null,
            "_model_module": "@jupyter-widgets/controls",
            "layout": "IPY_MODEL_f1ce8c5faeb347fb81a7df5819f83347"
          }
        },
        "d6795e5112f14aafab26310123aef0fc": {
          "model_module": "@jupyter-widgets/controls",
          "model_name": "HTMLModel",
          "state": {
            "_view_name": "HTMLView",
            "style": "IPY_MODEL_2101dc0169bd422d83ce87a455dccd82",
            "_dom_classes": [],
            "description": "",
            "_model_name": "HTMLModel",
            "placeholder": "​",
            "_view_module": "@jupyter-widgets/controls",
            "_model_module_version": "1.5.0",
            "value": " 642/642 [00:00&lt;00:00, 2.78kB/s]",
            "_view_count": null,
            "_view_module_version": "1.5.0",
            "description_tooltip": null,
            "_model_module": "@jupyter-widgets/controls",
            "layout": "IPY_MODEL_204b4d092a3140b6ad23f2c55cf26c5b"
          }
        },
        "79f217dd1d314e159f13a6843924a31d": {
          "model_module": "@jupyter-widgets/controls",
          "model_name": "ProgressStyleModel",
          "state": {
            "_view_name": "StyleView",
            "_model_name": "ProgressStyleModel",
            "description_width": "initial",
            "_view_module": "@jupyter-widgets/base",
            "_model_module_version": "1.5.0",
            "_view_count": null,
            "_view_module_version": "1.2.0",
            "bar_color": null,
            "_model_module": "@jupyter-widgets/controls"
          }
        },
        "f1ce8c5faeb347fb81a7df5819f83347": {
          "model_module": "@jupyter-widgets/base",
          "model_name": "LayoutModel",
          "state": {
            "_view_name": "LayoutView",
            "grid_template_rows": null,
            "right": null,
            "justify_content": null,
            "_view_module": "@jupyter-widgets/base",
            "overflow": null,
            "_model_module_version": "1.2.0",
            "_view_count": null,
            "flex_flow": null,
            "width": null,
            "min_width": null,
            "border": null,
            "align_items": null,
            "bottom": null,
            "_model_module": "@jupyter-widgets/base",
            "top": null,
            "grid_column": null,
            "overflow_y": null,
            "overflow_x": null,
            "grid_auto_flow": null,
            "grid_area": null,
            "grid_template_columns": null,
            "flex": null,
            "_model_name": "LayoutModel",
            "justify_items": null,
            "grid_row": null,
            "max_height": null,
            "align_content": null,
            "visibility": null,
            "align_self": null,
            "height": null,
            "min_height": null,
            "padding": null,
            "grid_auto_rows": null,
            "grid_gap": null,
            "max_width": null,
            "order": null,
            "_view_module_version": "1.2.0",
            "grid_template_areas": null,
            "object_position": null,
            "object_fit": null,
            "grid_auto_columns": null,
            "margin": null,
            "display": null,
            "left": null
          }
        },
        "2101dc0169bd422d83ce87a455dccd82": {
          "model_module": "@jupyter-widgets/controls",
          "model_name": "DescriptionStyleModel",
          "state": {
            "_view_name": "StyleView",
            "_model_name": "DescriptionStyleModel",
            "description_width": "",
            "_view_module": "@jupyter-widgets/base",
            "_model_module_version": "1.5.0",
            "_view_count": null,
            "_view_module_version": "1.2.0",
            "_model_module": "@jupyter-widgets/controls"
          }
        },
        "204b4d092a3140b6ad23f2c55cf26c5b": {
          "model_module": "@jupyter-widgets/base",
          "model_name": "LayoutModel",
          "state": {
            "_view_name": "LayoutView",
            "grid_template_rows": null,
            "right": null,
            "justify_content": null,
            "_view_module": "@jupyter-widgets/base",
            "overflow": null,
            "_model_module_version": "1.2.0",
            "_view_count": null,
            "flex_flow": null,
            "width": null,
            "min_width": null,
            "border": null,
            "align_items": null,
            "bottom": null,
            "_model_module": "@jupyter-widgets/base",
            "top": null,
            "grid_column": null,
            "overflow_y": null,
            "overflow_x": null,
            "grid_auto_flow": null,
            "grid_area": null,
            "grid_template_columns": null,
            "flex": null,
            "_model_name": "LayoutModel",
            "justify_items": null,
            "grid_row": null,
            "max_height": null,
            "align_content": null,
            "visibility": null,
            "align_self": null,
            "height": null,
            "min_height": null,
            "padding": null,
            "grid_auto_rows": null,
            "grid_gap": null,
            "max_width": null,
            "order": null,
            "_view_module_version": "1.2.0",
            "grid_template_areas": null,
            "object_position": null,
            "object_fit": null,
            "grid_auto_columns": null,
            "margin": null,
            "display": null,
            "left": null
          }
        },
        "8e6acbbfe17c411e9e0de6256d0866c4": {
          "model_module": "@jupyter-widgets/controls",
          "model_name": "HBoxModel",
          "state": {
            "_view_name": "HBoxView",
            "_dom_classes": [],
            "_model_name": "HBoxModel",
            "_view_module": "@jupyter-widgets/controls",
            "_model_module_version": "1.5.0",
            "_view_count": null,
            "_view_module_version": "1.5.0",
            "box_style": "",
            "layout": "IPY_MODEL_9b7ec39f28ac4b14807e1ca52f2d6e58",
            "_model_module": "@jupyter-widgets/controls",
            "children": [
              "IPY_MODEL_4431967e436942d6abcfee69ba2714e9",
              "IPY_MODEL_22c2b40edc8141e8bc74a4d7f7fa0519"
            ]
          }
        },
        "9b7ec39f28ac4b14807e1ca52f2d6e58": {
          "model_module": "@jupyter-widgets/base",
          "model_name": "LayoutModel",
          "state": {
            "_view_name": "LayoutView",
            "grid_template_rows": null,
            "right": null,
            "justify_content": null,
            "_view_module": "@jupyter-widgets/base",
            "overflow": null,
            "_model_module_version": "1.2.0",
            "_view_count": null,
            "flex_flow": null,
            "width": null,
            "min_width": null,
            "border": null,
            "align_items": null,
            "bottom": null,
            "_model_module": "@jupyter-widgets/base",
            "top": null,
            "grid_column": null,
            "overflow_y": null,
            "overflow_x": null,
            "grid_auto_flow": null,
            "grid_area": null,
            "grid_template_columns": null,
            "flex": null,
            "_model_name": "LayoutModel",
            "justify_items": null,
            "grid_row": null,
            "max_height": null,
            "align_content": null,
            "visibility": null,
            "align_self": null,
            "height": null,
            "min_height": null,
            "padding": null,
            "grid_auto_rows": null,
            "grid_gap": null,
            "max_width": null,
            "order": null,
            "_view_module_version": "1.2.0",
            "grid_template_areas": null,
            "object_position": null,
            "object_fit": null,
            "grid_auto_columns": null,
            "margin": null,
            "display": null,
            "left": null
          }
        },
        "4431967e436942d6abcfee69ba2714e9": {
          "model_module": "@jupyter-widgets/controls",
          "model_name": "FloatProgressModel",
          "state": {
            "_view_name": "ProgressView",
            "style": "IPY_MODEL_3ca39da0b83648b2a60ac0e58e2ac3d8",
            "_dom_classes": [],
            "description": "Downloading: 100%",
            "_model_name": "FloatProgressModel",
            "bar_style": "success",
            "max": 1042301,
            "_view_module": "@jupyter-widgets/controls",
            "_model_module_version": "1.5.0",
            "value": 1042301,
            "_view_count": null,
            "_view_module_version": "1.5.0",
            "orientation": "horizontal",
            "min": 0,
            "description_tooltip": null,
            "_model_module": "@jupyter-widgets/controls",
            "layout": "IPY_MODEL_1872c3c89bcf428f8cb45c31e14ec5d3"
          }
        },
        "22c2b40edc8141e8bc74a4d7f7fa0519": {
          "model_module": "@jupyter-widgets/controls",
          "model_name": "HTMLModel",
          "state": {
            "_view_name": "HTMLView",
            "style": "IPY_MODEL_0de71e467efd463ba1476e280db11503",
            "_dom_classes": [],
            "description": "",
            "_model_name": "HTMLModel",
            "placeholder": "​",
            "_view_module": "@jupyter-widgets/controls",
            "_model_module_version": "1.5.0",
            "value": " 1.04M/1.04M [00:00&lt;00:00, 7.56MB/s]",
            "_view_count": null,
            "_view_module_version": "1.5.0",
            "description_tooltip": null,
            "_model_module": "@jupyter-widgets/controls",
            "layout": "IPY_MODEL_570f3faedd9b4a0298722e7d2d89cfd1"
          }
        },
        "3ca39da0b83648b2a60ac0e58e2ac3d8": {
          "model_module": "@jupyter-widgets/controls",
          "model_name": "ProgressStyleModel",
          "state": {
            "_view_name": "StyleView",
            "_model_name": "ProgressStyleModel",
            "description_width": "initial",
            "_view_module": "@jupyter-widgets/base",
            "_model_module_version": "1.5.0",
            "_view_count": null,
            "_view_module_version": "1.2.0",
            "bar_color": null,
            "_model_module": "@jupyter-widgets/controls"
          }
        },
        "1872c3c89bcf428f8cb45c31e14ec5d3": {
          "model_module": "@jupyter-widgets/base",
          "model_name": "LayoutModel",
          "state": {
            "_view_name": "LayoutView",
            "grid_template_rows": null,
            "right": null,
            "justify_content": null,
            "_view_module": "@jupyter-widgets/base",
            "overflow": null,
            "_model_module_version": "1.2.0",
            "_view_count": null,
            "flex_flow": null,
            "width": null,
            "min_width": null,
            "border": null,
            "align_items": null,
            "bottom": null,
            "_model_module": "@jupyter-widgets/base",
            "top": null,
            "grid_column": null,
            "overflow_y": null,
            "overflow_x": null,
            "grid_auto_flow": null,
            "grid_area": null,
            "grid_template_columns": null,
            "flex": null,
            "_model_name": "LayoutModel",
            "justify_items": null,
            "grid_row": null,
            "max_height": null,
            "align_content": null,
            "visibility": null,
            "align_self": null,
            "height": null,
            "min_height": null,
            "padding": null,
            "grid_auto_rows": null,
            "grid_gap": null,
            "max_width": null,
            "order": null,
            "_view_module_version": "1.2.0",
            "grid_template_areas": null,
            "object_position": null,
            "object_fit": null,
            "grid_auto_columns": null,
            "margin": null,
            "display": null,
            "left": null
          }
        },
        "0de71e467efd463ba1476e280db11503": {
          "model_module": "@jupyter-widgets/controls",
          "model_name": "DescriptionStyleModel",
          "state": {
            "_view_name": "StyleView",
            "_model_name": "DescriptionStyleModel",
            "description_width": "",
            "_view_module": "@jupyter-widgets/base",
            "_model_module_version": "1.5.0",
            "_view_count": null,
            "_view_module_version": "1.2.0",
            "_model_module": "@jupyter-widgets/controls"
          }
        },
        "570f3faedd9b4a0298722e7d2d89cfd1": {
          "model_module": "@jupyter-widgets/base",
          "model_name": "LayoutModel",
          "state": {
            "_view_name": "LayoutView",
            "grid_template_rows": null,
            "right": null,
            "justify_content": null,
            "_view_module": "@jupyter-widgets/base",
            "overflow": null,
            "_model_module_version": "1.2.0",
            "_view_count": null,
            "flex_flow": null,
            "width": null,
            "min_width": null,
            "border": null,
            "align_items": null,
            "bottom": null,
            "_model_module": "@jupyter-widgets/base",
            "top": null,
            "grid_column": null,
            "overflow_y": null,
            "overflow_x": null,
            "grid_auto_flow": null,
            "grid_area": null,
            "grid_template_columns": null,
            "flex": null,
            "_model_name": "LayoutModel",
            "justify_items": null,
            "grid_row": null,
            "max_height": null,
            "align_content": null,
            "visibility": null,
            "align_self": null,
            "height": null,
            "min_height": null,
            "padding": null,
            "grid_auto_rows": null,
            "grid_gap": null,
            "max_width": null,
            "order": null,
            "_view_module_version": "1.2.0",
            "grid_template_areas": null,
            "object_position": null,
            "object_fit": null,
            "grid_auto_columns": null,
            "margin": null,
            "display": null,
            "left": null
          }
        },
        "ffd6c49b224f404e8f877cfa5614d5df": {
          "model_module": "@jupyter-widgets/controls",
          "model_name": "HBoxModel",
          "state": {
            "_view_name": "HBoxView",
            "_dom_classes": [],
            "_model_name": "HBoxModel",
            "_view_module": "@jupyter-widgets/controls",
            "_model_module_version": "1.5.0",
            "_view_count": null,
            "_view_module_version": "1.5.0",
            "box_style": "",
            "layout": "IPY_MODEL_93e59b9fcb8342ae8dd3ee1f498179e9",
            "_model_module": "@jupyter-widgets/controls",
            "children": [
              "IPY_MODEL_1d0308e19d0a4389bb35766675a3f5a2",
              "IPY_MODEL_bb5cb49231ab458c9d9c7542a5924fef"
            ]
          }
        },
        "93e59b9fcb8342ae8dd3ee1f498179e9": {
          "model_module": "@jupyter-widgets/base",
          "model_name": "LayoutModel",
          "state": {
            "_view_name": "LayoutView",
            "grid_template_rows": null,
            "right": null,
            "justify_content": null,
            "_view_module": "@jupyter-widgets/base",
            "overflow": null,
            "_model_module_version": "1.2.0",
            "_view_count": null,
            "flex_flow": null,
            "width": null,
            "min_width": null,
            "border": null,
            "align_items": null,
            "bottom": null,
            "_model_module": "@jupyter-widgets/base",
            "top": null,
            "grid_column": null,
            "overflow_y": null,
            "overflow_x": null,
            "grid_auto_flow": null,
            "grid_area": null,
            "grid_template_columns": null,
            "flex": null,
            "_model_name": "LayoutModel",
            "justify_items": null,
            "grid_row": null,
            "max_height": null,
            "align_content": null,
            "visibility": null,
            "align_self": null,
            "height": null,
            "min_height": null,
            "padding": null,
            "grid_auto_rows": null,
            "grid_gap": null,
            "max_width": null,
            "order": null,
            "_view_module_version": "1.2.0",
            "grid_template_areas": null,
            "object_position": null,
            "object_fit": null,
            "grid_auto_columns": null,
            "margin": null,
            "display": null,
            "left": null
          }
        },
        "1d0308e19d0a4389bb35766675a3f5a2": {
          "model_module": "@jupyter-widgets/controls",
          "model_name": "FloatProgressModel",
          "state": {
            "_view_name": "ProgressView",
            "style": "IPY_MODEL_b1eaecad6ba04e08bc26725aa3459f58",
            "_dom_classes": [],
            "description": "Downloading: 100%",
            "_model_name": "FloatProgressModel",
            "bar_style": "success",
            "max": 456318,
            "_view_module": "@jupyter-widgets/controls",
            "_model_module_version": "1.5.0",
            "value": 456318,
            "_view_count": null,
            "_view_module_version": "1.5.0",
            "orientation": "horizontal",
            "min": 0,
            "description_tooltip": null,
            "_model_module": "@jupyter-widgets/controls",
            "layout": "IPY_MODEL_f515bb8f05c849ad98105062cf5baa3a"
          }
        },
        "bb5cb49231ab458c9d9c7542a5924fef": {
          "model_module": "@jupyter-widgets/controls",
          "model_name": "HTMLModel",
          "state": {
            "_view_name": "HTMLView",
            "style": "IPY_MODEL_36fbc592d6b542e294f272454e24d7dd",
            "_dom_classes": [],
            "description": "",
            "_model_name": "HTMLModel",
            "placeholder": "​",
            "_view_module": "@jupyter-widgets/controls",
            "_model_module_version": "1.5.0",
            "value": " 456k/456k [00:00&lt;00:00, 1.54MB/s]",
            "_view_count": null,
            "_view_module_version": "1.5.0",
            "description_tooltip": null,
            "_model_module": "@jupyter-widgets/controls",
            "layout": "IPY_MODEL_a58d0434fc4c4e638130bba5e79871ff"
          }
        },
        "b1eaecad6ba04e08bc26725aa3459f58": {
          "model_module": "@jupyter-widgets/controls",
          "model_name": "ProgressStyleModel",
          "state": {
            "_view_name": "StyleView",
            "_model_name": "ProgressStyleModel",
            "description_width": "initial",
            "_view_module": "@jupyter-widgets/base",
            "_model_module_version": "1.5.0",
            "_view_count": null,
            "_view_module_version": "1.2.0",
            "bar_color": null,
            "_model_module": "@jupyter-widgets/controls"
          }
        },
        "f515bb8f05c849ad98105062cf5baa3a": {
          "model_module": "@jupyter-widgets/base",
          "model_name": "LayoutModel",
          "state": {
            "_view_name": "LayoutView",
            "grid_template_rows": null,
            "right": null,
            "justify_content": null,
            "_view_module": "@jupyter-widgets/base",
            "overflow": null,
            "_model_module_version": "1.2.0",
            "_view_count": null,
            "flex_flow": null,
            "width": null,
            "min_width": null,
            "border": null,
            "align_items": null,
            "bottom": null,
            "_model_module": "@jupyter-widgets/base",
            "top": null,
            "grid_column": null,
            "overflow_y": null,
            "overflow_x": null,
            "grid_auto_flow": null,
            "grid_area": null,
            "grid_template_columns": null,
            "flex": null,
            "_model_name": "LayoutModel",
            "justify_items": null,
            "grid_row": null,
            "max_height": null,
            "align_content": null,
            "visibility": null,
            "align_self": null,
            "height": null,
            "min_height": null,
            "padding": null,
            "grid_auto_rows": null,
            "grid_gap": null,
            "max_width": null,
            "order": null,
            "_view_module_version": "1.2.0",
            "grid_template_areas": null,
            "object_position": null,
            "object_fit": null,
            "grid_auto_columns": null,
            "margin": null,
            "display": null,
            "left": null
          }
        },
        "36fbc592d6b542e294f272454e24d7dd": {
          "model_module": "@jupyter-widgets/controls",
          "model_name": "DescriptionStyleModel",
          "state": {
            "_view_name": "StyleView",
            "_model_name": "DescriptionStyleModel",
            "description_width": "",
            "_view_module": "@jupyter-widgets/base",
            "_model_module_version": "1.5.0",
            "_view_count": null,
            "_view_module_version": "1.2.0",
            "_model_module": "@jupyter-widgets/controls"
          }
        },
        "a58d0434fc4c4e638130bba5e79871ff": {
          "model_module": "@jupyter-widgets/base",
          "model_name": "LayoutModel",
          "state": {
            "_view_name": "LayoutView",
            "grid_template_rows": null,
            "right": null,
            "justify_content": null,
            "_view_module": "@jupyter-widgets/base",
            "overflow": null,
            "_model_module_version": "1.2.0",
            "_view_count": null,
            "flex_flow": null,
            "width": null,
            "min_width": null,
            "border": null,
            "align_items": null,
            "bottom": null,
            "_model_module": "@jupyter-widgets/base",
            "top": null,
            "grid_column": null,
            "overflow_y": null,
            "overflow_x": null,
            "grid_auto_flow": null,
            "grid_area": null,
            "grid_template_columns": null,
            "flex": null,
            "_model_name": "LayoutModel",
            "justify_items": null,
            "grid_row": null,
            "max_height": null,
            "align_content": null,
            "visibility": null,
            "align_self": null,
            "height": null,
            "min_height": null,
            "padding": null,
            "grid_auto_rows": null,
            "grid_gap": null,
            "max_width": null,
            "order": null,
            "_view_module_version": "1.2.0",
            "grid_template_areas": null,
            "object_position": null,
            "object_fit": null,
            "grid_auto_columns": null,
            "margin": null,
            "display": null,
            "left": null
          }
        }
      }
    }
  },
  "cells": [
    {
      "cell_type": "markdown",
      "metadata": {
        "id": "79V8U1EVGYlv"
      },
      "source": [
        "<h1> <b> GENERADOR DE DIÁLOGO & CLASIFICADOR DE \"QUOTES\" - SERIE FRIENDS  </b></h1>\n",
        "<h3> <b>  GLÒRIA CAMP - AGOSTO 2021 </b></h3>\n"
      ]
    },
    {
      "cell_type": "raw",
      "metadata": {
        "id": "Iyu37dHiYzAm"
      },
      "source": [
        "![alt text](https://media.giphy.com/media/luvcXlAjCTZKw/giphy.gif)\n",
        "Image from [Giphy](https://giphy.com/)"
      ]
    },
    {
      "cell_type": "markdown",
      "metadata": {
        "id": "p603ujkW_s1q"
      },
      "source": [
        "<h1> <b> OBJETIVO DEL PROYECTO </b></h1>\n",
        "\n",
        "<h3> <b> CREAR UN GENERADOR DE DIÁLOGO, UN CLASIFICADOR DE \"QUOTES\" Y VISUALIZACIONES VARIAS, PARA PUBLICARLO EN UNA WEB PARA LOS FANS DE FRIENDS EN HONOR A LA REUNIÓN DE ESTE AÑO </b></h3>\n"
      ]
    },
    {
      "cell_type": "markdown",
      "metadata": {
        "id": "XOqM0Q2tYzAo"
      },
      "source": [
        "<h1> <b> DATASETS </b></h1>\n",
        "\n",
        "<ul>\n",
        "  <li><h2> <b>\"friends_quotes\"</b> : dataset de Kaggle https://www.kaggle.com/ryanstonebraker/friends-transcript </li></h2>\n",
        "  <li><h2> <b>\"Guest_Stars_DF\"</b> : dataset creado a partir del friends_quotes dataset y modificado manualmente. Este contiene las líneas que han tenido diferentes actores/actrices invitados/as a la serie durante las 10 temporadas. </li></h2>\n",
        "  <li><h2> <b>\"season1_df_modified\"</b> : dataset creado a partir del friends_quotes dataset y modificado manualmente. Este contiene las conversaciones por parejas (no contiene las conversaciones grupales), de los 9 personajes que más frases tienen en la primera temporada </li></h2>\n",
        "  <li><h2> <b>\"script_ross\"</b> : dataset creado a partir del friends_quotes dataset y modificado manualmente. Este contiene los diálogos entre Ross y otras personas de la serie en la primera temporada.  </li></h2>\n",
        "</ul>"
      ]
    },
    {
      "cell_type": "markdown",
      "metadata": {
        "id": "yRPTI23kDnWn"
      },
      "source": [
        "<h1> <b> PREGUNTAS </b></h1>\n",
        "\n",
        "<ol>\n",
        "  <h2> <b> <li>¿Cuáles son los 9 personajes con más líneas de texto en cada temporada?</li> </b> </h2>\n",
        "<h2> <b> <li> ¿Cuáles de estos personajes hablan más entre ellos en la primera temporada? </li> </b> </h2>\n",
        "<h2> <b> <li>¿Qué actores/actrices invitados aparecieron durante las 10 temporadas?</li> </b> </h2>\n",
        "<h2> <b> <li>¿Quién de los 6 personajes principales es más positivo/negativo? </li> </b> </h2>\n",
        "<h2> <b> <li>Clasificador de \"quotes\": ¿Quién ha dicho qué? </li> </b> </h2>\n",
        "<h2> <b> <li>Generador de diálogo: ¿qué diría Ross?</li> </b> </h2>\n",
        "</ol>"
      ]
    },
    {
      "cell_type": "markdown",
      "metadata": {
        "id": "Foy6rPwWi4cm"
      },
      "source": [
        "#####Code"
      ]
    },
    {
      "cell_type": "code",
      "metadata": {
        "id": "3GXC5SHMYzAh"
      },
      "source": [
        "# Data Wrangling Libraries\n",
        "\n",
        "import pandas as pd\n",
        "import numpy as np\n",
        "import re\n",
        "\n",
        "# NLP\n",
        "\n",
        "import nltk\n",
        "from textblob import TextBlob\n",
        "from nltk.stem import PorterStemmer\n",
        "from nltk.stem import LancasterStemmer\n",
        "from nltk.stem import WordNetLemmatizer\n",
        "from nltk.tokenize import sent_tokenize, word_tokenize\n",
        "from nltk.stem.snowball import SnowballStemmer\n",
        "from nltk.corpus import stopwords\n",
        "from sklearn.feature_extraction.text import CountVectorizer\n",
        "from sklearn.feature_extraction.text import TfidfVectorizer\n",
        "from sklearn.model_selection import train_test_split\n",
        "from sklearn.neighbors import KNeighborsClassifier\n",
        "from sklearn.metrics import confusion_matrix, classification_report\n",
        "\n",
        "\n",
        "# Data Visualisation Libraries\n",
        "\n",
        "import seaborn as sns\n",
        "import networkx as nx\n",
        "import cufflinks as cf\n",
        "import plotly.express as px\n",
        "from ipywidgets import interact\n",
        "import plotly.figure_factory as ff\n",
        "import matplotlib.pyplot as plt\n",
        "from ipywidgets import Dropdown, IntSlider\n",
        "import ipywidgets as widgets\n",
        "import plotly.graph_objects as go\n",
        "\n",
        "#Others\n",
        "import warnings\n",
        "warnings.filterwarnings(\"ignore\")"
      ],
      "execution_count": 1,
      "outputs": []
    },
    {
      "cell_type": "code",
      "metadata": {
        "colab": {
          "base_uri": "https://localhost:8080/"
        },
        "id": "StXNvSl9ZsdU",
        "outputId": "80bf7a3c-244b-4b37-edaa-647541d150b7"
      },
      "source": [
        "from google.colab import drive\n",
        "drive.mount('/content/gdrive')"
      ],
      "execution_count": 2,
      "outputs": [
        {
          "output_type": "stream",
          "text": [
            "Mounted at /content/gdrive\n"
          ],
          "name": "stdout"
        }
      ]
    },
    {
      "cell_type": "code",
      "metadata": {
        "id": "1losLbnHi0Ec"
      },
      "source": [
        "friends = pd.read_csv(\"/content/gdrive/MyDrive/Colab Notebooks/friends_quotes.csv\")\n",
        "season_1_main_characters = pd.read_excel(\"/content/gdrive/MyDrive/Colab Notebooks/season1_df_modified.xlsx\")\n",
        "guest_stars = pd.read_excel(\"/content/gdrive/MyDrive/Colab Notebooks/Guest_Stars_DF.xlsx\")\n"
      ],
      "execution_count": 3,
      "outputs": []
    },
    {
      "cell_type": "code",
      "metadata": {
        "id": "IQXMOuK5YzAs"
      },
      "source": [
        "#el episodio 16 no está bien \"escrapeado\", así que eliminamos las líneas.\n",
        "friends.drop(friends[(friends[\"season\"] == 1) & (friends[\"episode_number\"] == 16)].index,inplace = True)\n",
        "# eliminamos las líneas en la columna \"author\" es \"All\"\n",
        "friends.drop(friends[(friends[\"author\"] == \"All\")].index,inplace = True)"
      ],
      "execution_count": 4,
      "outputs": []
    },
    {
      "cell_type": "code",
      "metadata": {
        "cellView": "code",
        "id": "hrYs78DsYzAv"
      },
      "source": [
        "friends[\"author\"] = friends[\"author\"].str.replace(\"ms. geller\",\"mrs. geller\").str.replace(\"judy\",\"mrs. geller\").str.replace(\"frank jr\",\"frank\")"
      ],
      "execution_count": 5,
      "outputs": []
    },
    {
      "cell_type": "code",
      "metadata": {
        "id": "S2dPyUJ7YzAw"
      },
      "source": [
        "friends[\"author\"] = friends[\"author\"].str.replace(\"\\(([^)]+)\\)\",\"\").str.lower().str.strip()"
      ],
      "execution_count": 6,
      "outputs": []
    },
    {
      "cell_type": "code",
      "metadata": {
        "id": "uEeAQi26YzAz"
      },
      "source": [
        "chandler =[\"chan\",\"chandle\",\"chandlers\"]\n",
        "monica =[\"young monica\",\"fat monica\",\"mnca\",\"monic\",\"monica about to have a heart attack\",\"monica to amy\",\"monica to emma\",\"monica to ross\"] \n",
        "joey = [\"fat joey\",\"joe\"]\n",
        "phoebe = [\"phoe\",\"phoeb\",\"phoebe looks down\"]\n",
        "rachel = [\"big nosed rachel\",\"rach\",\"rahcel\",\"rache\",\"rachel opens their door\",\"rachel to emma\",\"racel\"]\n",
        "ross = [\"ross first has a look of 'huh' then changes it to sarcastic happy\",\"ross looks down\",\"ross makes some sort of sound to let us know it hurt\",\"ross starts playing with a plate\",\"ross starts talking over her 'do you remember' line\",\"ross to monica\",\"ross with a look of wondering how long this is going to go on on his face\",\"young ross\",\"ros\"]"
      ],
      "execution_count": 7,
      "outputs": []
    },
    {
      "cell_type": "code",
      "metadata": {
        "id": "07ZAHhZLYzA0"
      },
      "source": [
        "def replace_author(i):\n",
        "    if i in chandler: \n",
        "        i = \"chandler\" \n",
        "    elif i in monica:\n",
        "        i = \"monica\"\n",
        "    elif i in joey: \n",
        "        i = \"joey\"\n",
        "    elif i in phoebe:\n",
        "        i = \"phoebe\"\n",
        "    elif i in rachel: \n",
        "        i = \"rachel\"\n",
        "    elif i in ross:\n",
        "        i = \"ross\"\n",
        "    else:\n",
        "        return i"
      ],
      "execution_count": 8,
      "outputs": []
    },
    {
      "cell_type": "code",
      "metadata": {
        "id": "yInbiGVcYzA1"
      },
      "source": [
        "friends[\"author\"] = friends[\"author\"].apply(replace_author).str.capitalize()"
      ],
      "execution_count": 9,
      "outputs": []
    },
    {
      "cell_type": "markdown",
      "metadata": {
        "id": "TN3KoAFKYzA2"
      },
      "source": [
        "#**¿Cuáles son los 9 personajes con más líneas de texto en cada temporada?**"
      ]
    },
    {
      "cell_type": "markdown",
      "metadata": {
        "id": "QH_9yf47l7bF"
      },
      "source": [
        "![alt text](https://media.giphy.com/media/JQSCdkVWIY1CF51sjG/giphy.gif)\n",
        "\n",
        "Image from [Giphy](https://giphy.com/)"
      ]
    },
    {
      "cell_type": "code",
      "metadata": {
        "colab": {
          "base_uri": "https://localhost:8080/",
          "height": 513,
          "referenced_widgets": [
            "2b97ddae19474521a738e58557430380",
            "5cf3996e090b45078dc80c1f7552f4d6",
            "7044f2a66679412ab83bbb8bc8a5f251",
            "2adc3ebb5a71487b94346f9ae757cce3",
            "bfedb58739824e59b7f7c483f46d5804",
            "812cc2e1ac9b4ef3ab8ab22ab53fb37b",
            "4393f3a80202494aba70e834e1971832"
          ]
        },
        "id": "m118KyMhYzA3",
        "cellView": "form",
        "outputId": "d98ddac3-dab5-4197-f60e-11c4c387d452"
      },
      "source": [
        "#@title\n",
        "@interact(Season = IntSlider(min=1, max=10, step=1,value=1))\n",
        "def more_common_characters(Season):\n",
        "    more_common = friends[friends.season == Season][\"author\"].value_counts().head(9).index.to_list()\n",
        "    sns.set(rc={'figure.figsize':(7,7),'axes.facecolor':'black'}, font_scale=1.5)\n",
        "    palette = [\"red\",\"yellow\",\"#23c6f7\"]\n",
        "    sns.countplot(y='author', data=friends[(friends.author.isin(more_common)) & (friends.season == Season)], order = more_common, palette = palette)\n",
        "    plt.xlabel(\"Number of lines\")\n",
        "    plt.ylabel(\"Character\")\n",
        "    plt.title('9 Characters with more lines per season')\n",
        "    plt.show()"
      ],
      "execution_count": 10,
      "outputs": [
        {
          "output_type": "display_data",
          "data": {
            "application/vnd.jupyter.widget-view+json": {
              "model_id": "2b97ddae19474521a738e58557430380",
              "version_minor": 0,
              "version_major": 2
            },
            "text/plain": [
              "interactive(children=(IntSlider(value=1, description='Season', max=10, min=1), Output()), _dom_classes=('widge…"
            ]
          },
          "metadata": {
            "tags": []
          }
        }
      ]
    },
    {
      "cell_type": "markdown",
      "metadata": {
        "id": "qudJAsj7n3qJ"
      },
      "source": [
        "#####Code"
      ]
    },
    {
      "cell_type": "code",
      "metadata": {
        "colab": {
          "base_uri": "https://localhost:8080/",
          "height": 603
        },
        "id": "5NX73NX6YzA4",
        "outputId": "43863412-3126-4678-ba0a-c92d82c08233"
      },
      "source": [
        "conversation_weights = pd.DataFrame(season_1_main_characters[\"Conversation\"].value_counts(normalize = True)).reset_index()\n",
        "conversation_weights"
      ],
      "execution_count": 11,
      "outputs": [
        {
          "output_type": "execute_result",
          "data": {
            "text/html": [
              "<div>\n",
              "<style scoped>\n",
              "    .dataframe tbody tr th:only-of-type {\n",
              "        vertical-align: middle;\n",
              "    }\n",
              "\n",
              "    .dataframe tbody tr th {\n",
              "        vertical-align: top;\n",
              "    }\n",
              "\n",
              "    .dataframe thead th {\n",
              "        text-align: right;\n",
              "    }\n",
              "</style>\n",
              "<table border=\"1\" class=\"dataframe\">\n",
              "  <thead>\n",
              "    <tr style=\"text-align: right;\">\n",
              "      <th></th>\n",
              "      <th>index</th>\n",
              "      <th>Conversation</th>\n",
              "    </tr>\n",
              "  </thead>\n",
              "  <tbody>\n",
              "    <tr>\n",
              "      <th>0</th>\n",
              "      <td>Ross, Rachel</td>\n",
              "      <td>0.171171</td>\n",
              "    </tr>\n",
              "    <tr>\n",
              "      <th>1</th>\n",
              "      <td>Ross, Carol</td>\n",
              "      <td>0.114114</td>\n",
              "    </tr>\n",
              "    <tr>\n",
              "      <th>2</th>\n",
              "      <td>Chandler, Joey</td>\n",
              "      <td>0.113113</td>\n",
              "    </tr>\n",
              "    <tr>\n",
              "      <th>3</th>\n",
              "      <td>Rachel, Monica</td>\n",
              "      <td>0.086086</td>\n",
              "    </tr>\n",
              "    <tr>\n",
              "      <th>4</th>\n",
              "      <td>Chandler, Phoebe</td>\n",
              "      <td>0.083083</td>\n",
              "    </tr>\n",
              "    <tr>\n",
              "      <th>5</th>\n",
              "      <td>Ross, Joey</td>\n",
              "      <td>0.079079</td>\n",
              "    </tr>\n",
              "    <tr>\n",
              "      <th>6</th>\n",
              "      <td>Susan, Ross</td>\n",
              "      <td>0.065065</td>\n",
              "    </tr>\n",
              "    <tr>\n",
              "      <th>7</th>\n",
              "      <td>Monica, Joey</td>\n",
              "      <td>0.062062</td>\n",
              "    </tr>\n",
              "    <tr>\n",
              "      <th>8</th>\n",
              "      <td>Chandler, Janice</td>\n",
              "      <td>0.054054</td>\n",
              "    </tr>\n",
              "    <tr>\n",
              "      <th>9</th>\n",
              "      <td>Phoebe, Rachel</td>\n",
              "      <td>0.038038</td>\n",
              "    </tr>\n",
              "    <tr>\n",
              "      <th>10</th>\n",
              "      <td>Phoebe, Monica</td>\n",
              "      <td>0.033033</td>\n",
              "    </tr>\n",
              "    <tr>\n",
              "      <th>11</th>\n",
              "      <td>Ross, Chandler</td>\n",
              "      <td>0.031031</td>\n",
              "    </tr>\n",
              "    <tr>\n",
              "      <th>12</th>\n",
              "      <td>Joey, Phoebe</td>\n",
              "      <td>0.022022</td>\n",
              "    </tr>\n",
              "    <tr>\n",
              "      <th>13</th>\n",
              "      <td>Susan, Carol</td>\n",
              "      <td>0.020020</td>\n",
              "    </tr>\n",
              "    <tr>\n",
              "      <th>14</th>\n",
              "      <td>Chandler, Monica</td>\n",
              "      <td>0.016016</td>\n",
              "    </tr>\n",
              "    <tr>\n",
              "      <th>15</th>\n",
              "      <td>Chandler, Rachel</td>\n",
              "      <td>0.009009</td>\n",
              "    </tr>\n",
              "    <tr>\n",
              "      <th>16</th>\n",
              "      <td>Ross, Phoebe</td>\n",
              "      <td>0.002002</td>\n",
              "    </tr>\n",
              "    <tr>\n",
              "      <th>17</th>\n",
              "      <td>Janice, Joey</td>\n",
              "      <td>0.001001</td>\n",
              "    </tr>\n",
              "  </tbody>\n",
              "</table>\n",
              "</div>"
            ],
            "text/plain": [
              "               index  Conversation\n",
              "0       Ross, Rachel      0.171171\n",
              "1        Ross, Carol      0.114114\n",
              "2     Chandler, Joey      0.113113\n",
              "3     Rachel, Monica      0.086086\n",
              "4   Chandler, Phoebe      0.083083\n",
              "5         Ross, Joey      0.079079\n",
              "6        Susan, Ross      0.065065\n",
              "7       Monica, Joey      0.062062\n",
              "8   Chandler, Janice      0.054054\n",
              "9     Phoebe, Rachel      0.038038\n",
              "10    Phoebe, Monica      0.033033\n",
              "11    Ross, Chandler      0.031031\n",
              "12      Joey, Phoebe      0.022022\n",
              "13      Susan, Carol      0.020020\n",
              "14  Chandler, Monica      0.016016\n",
              "15  Chandler, Rachel      0.009009\n",
              "16      Ross, Phoebe      0.002002\n",
              "17      Janice, Joey      0.001001"
            ]
          },
          "metadata": {
            "tags": []
          },
          "execution_count": 11
        }
      ]
    },
    {
      "cell_type": "code",
      "metadata": {
        "id": "WY9NC0R7YzA5"
      },
      "source": [
        "conversation_weights[[\"A\",\"B\"]] = conversation_weights[\"index\"].str.split(\",\",expand=True)"
      ],
      "execution_count": 12,
      "outputs": []
    },
    {
      "cell_type": "code",
      "metadata": {
        "id": "H-mjLmo8YzA6"
      },
      "source": [
        "conversation_weights[\"A\"] = conversation_weights[\"A\"].str.strip()\n",
        "conversation_weights[\"B\"] = conversation_weights[\"B\"].str.strip()"
      ],
      "execution_count": 13,
      "outputs": []
    },
    {
      "cell_type": "markdown",
      "metadata": {
        "id": "kTnqGxL2YzA4"
      },
      "source": [
        "#**¿Cuáles de estos personajes hablan más entre ellos en la primera temporada?**\n"
      ]
    },
    {
      "cell_type": "markdown",
      "metadata": {
        "id": "S_i90fvnnM8a"
      },
      "source": [
        "![alt text](https://media.giphy.com/media/S9ndPlQlnSnqvGMMZv/giphy.gif)\n",
        "\n",
        "Image from [Giphy](https://giphy.com/)\n"
      ]
    },
    {
      "cell_type": "code",
      "metadata": {
        "colab": {
          "base_uri": "https://localhost:8080/",
          "height": 679
        },
        "id": "OgeKXuMpYzA6",
        "cellView": "form",
        "outputId": "1fe1e18c-607d-4e92-c661-3774f70a24dc"
      },
      "source": [
        "#@title\n",
        "plt.rcParams[\"figure.figsize\"] = (10,9)\n",
        "\n",
        "G = nx.Graph()\n",
        "G.add_node(\"Ross\", color='red')\n",
        "G.add_node(\"Rachel\", color='blue')\n",
        "G.add_node(\"Phoebe\", color='blue')\n",
        "G.add_node(\"Joey\", color='yellow')\n",
        "G.add_node(\"Chandler\", color='red')\n",
        "G.add_node(\"Monica\", color='yellow')\n",
        "G.add_node(\"Janice\", color='blue')\n",
        "G.add_node(\"Carol\", color='red')\n",
        "G.add_node(\"Susan\", color='yellow')\n",
        "\n",
        "for i in range(len(conversation_weights)):\n",
        "    G.add_edge(conversation_weights[\"A\"][i],conversation_weights[\"B\"][i], weight=round(conversation_weights[\"Conversation\"][i]*100))\n",
        "\n",
        "colors_nodes = nx.get_node_attributes(G,'color').values()\n",
        "weights = nx.get_edge_attributes(G,'weight').values()\n",
        "pos = nx.circular_layout(G)\n",
        "\n",
        "fig = plt.figure()\n",
        "nx.draw(G, pos, \n",
        "        edge_color=\"white\", \n",
        "        width=list(weights),\n",
        "        with_labels=True,\n",
        "        node_color= colors_nodes, node_size=4500, font_weight='bold', font_color='black', font_size = 13)\n",
        "\n",
        "fig.set_facecolor(\"#00000F\")"
      ],
      "execution_count": 14,
      "outputs": [
        {
          "output_type": "display_data",
          "data": {
            "image/png": "[encoded data removed]",
            "text/plain": [
              "<Figure size 720x648 with 1 Axes>"
            ]
          },
          "metadata": {
            "tags": []
          }
        }
      ]
    },
    {
      "cell_type": "markdown",
      "metadata": {
        "id": "Q4dekdhtoo1s"
      },
      "source": [
        "####Code"
      ]
    },
    {
      "cell_type": "code",
      "metadata": {
        "id": "QguJ1b-HYzA8"
      },
      "source": [
        "guest_stars = pd.pivot_table(guest_stars,index=[\"Actor\",\"season\"],\n",
        "                values = [\"quote\"],           \n",
        "               aggfunc='count',fill_value=0)"
      ],
      "execution_count": 15,
      "outputs": []
    },
    {
      "cell_type": "code",
      "metadata": {
        "id": "6cNCnXKCYzA8"
      },
      "source": [
        "guest_stars.reset_index(inplace = True)"
      ],
      "execution_count": 16,
      "outputs": []
    },
    {
      "cell_type": "markdown",
      "metadata": {
        "id": "K2YKuEhxYzA7"
      },
      "source": [
        "#**¿Qué actores/actrices invitados aparecieron durante las 10 temporadas?**\n"
      ]
    },
    {
      "cell_type": "markdown",
      "metadata": {
        "id": "f1v1lGXfp4gE"
      },
      "source": [
        " ![alt text]( https://media.giphy.com/media/KzPyQ5n4rOYmSh4gRg/giphy.gif)\n",
        "\n",
        "Image from [Giphy](https://giphy.com/)"
      ]
    },
    {
      "cell_type": "code",
      "metadata": {
        "colab": {
          "base_uri": "https://localhost:8080/",
          "height": 542
        },
        "id": "LYX8TQ1LYzA9",
        "outputId": "f6927dd9-10c4-446b-d8d6-0c861b905709"
      },
      "source": [
        "#@title\n",
        "fig = px.bar(guest_stars, x=\"season\", y=\"quote\", color = \"Actor\", labels = {\"quote\": \"Number of lines\", \"season\": \"Season\"})\n",
        "fig.show()"
      ],
      "execution_count": 17,
      "outputs": [
        {
          "output_type": "display_data",
          "data": {
            "text/html": [
              "<html>\n",
              "<head><meta charset=\"utf-8\" /></head>\n",
              "<body>\n",
              "    <div>\n",
              "            <script src=\"https://cdnjs.cloudflare.com/ajax/libs/mathjax/2.7.5/MathJax.js?config=TeX-AMS-MML_SVG\"></script><script type=\"text/javascript\">if (window.MathJax) {MathJax.Hub.Config({SVG: {font: \"STIX-Web\"}});}</script>\n",
              "                <script type=\"text/javascript\">window.PlotlyConfig = {MathJaxConfig: 'local'};</script>\n",
              "        <script src=\"https://cdn.plot.ly/plotly-latest.min.js\"></script>    \n",
              "            <div id=\"88a6c5eb-1187-409b-9049-ce96df50f538\" class=\"plotly-graph-div\" style=\"height:525px; width:100%;\"></div>\n",
              "            <script type=\"text/javascript\">\n",
              "                \n",
              "                    window.PLOTLYENV=window.PLOTLYENV || {};\n",
              "                    \n",
              "                if (document.getElementById(\"88a6c5eb-1187-409b-9049-ce96df50f538\")) {\n",
              "                    Plotly.newPlot(\n",
              "                        '88a6c5eb-1187-409b-9049-ce96df50f538',\n",
              "                        [{\"alignmentgroup\": \"True\", \"hoverlabel\": {\"namelength\": 0}, \"hovertemplate\": \"Actor=Adam Goldberg<br>Season=%{x}<br>Number of lines=%{y}\", \"legendgroup\": \"Actor=Adam Goldberg\", \"marker\": {\"color\": \"#636efa\"}, \"name\": \"Actor=Adam Goldberg\", \"offsetgroup\": \"Actor=Adam Goldberg\", \"orientation\": \"v\", \"showlegend\": true, \"textposition\": \"auto\", \"type\": \"bar\", \"x\": [2], \"xaxis\": \"x\", \"y\": [64], \"yaxis\": \"y\"}, {\"alignmentgroup\": \"True\", \"hoverlabel\": {\"namelength\": 0}, \"hovertemplate\": \"Actor=Aisha Tyler<br>Season=%{x}<br>Number of lines=%{y}\", \"legendgroup\": \"Actor=Aisha Tyler\", \"marker\": {\"color\": \"#EF553B\"}, \"name\": \"Actor=Aisha Tyler\", \"offsetgroup\": \"Actor=Aisha Tyler\", \"orientation\": \"v\", \"showlegend\": true, \"textposition\": \"auto\", \"type\": \"bar\", \"x\": [9, 10], \"xaxis\": \"x\", \"y\": [133, 57], \"yaxis\": \"y\"}, {\"alignmentgroup\": \"True\", \"hoverlabel\": {\"namelength\": 0}, \"hovertemplate\": \"Actor=Alec Baldwin<br>Season=%{x}<br>Number of lines=%{y}\", \"legendgroup\": \"Actor=Alec Baldwin\", \"marker\": {\"color\": \"#00cc96\"}, \"name\": \"Actor=Alec Baldwin\", \"offsetgroup\": \"Actor=Alec Baldwin\", \"orientation\": \"v\", \"showlegend\": true, \"textposition\": \"auto\", \"type\": \"bar\", \"x\": [8], \"xaxis\": \"x\", \"y\": [33], \"yaxis\": \"y\"}, {\"alignmentgroup\": \"True\", \"hoverlabel\": {\"namelength\": 0}, \"hovertemplate\": \"Actor=Alison Sweeney<br>Season=%{x}<br>Number of lines=%{y}\", \"legendgroup\": \"Actor=Alison Sweeney\", \"marker\": {\"color\": \"#ab63fa\"}, \"name\": \"Actor=Alison Sweeney\", \"offsetgroup\": \"Actor=Alison Sweeney\", \"orientation\": \"v\", \"showlegend\": true, \"textposition\": \"auto\", \"type\": \"bar\", \"x\": [7], \"xaxis\": \"x\", \"y\": [4], \"yaxis\": \"y\"}, {\"alignmentgroup\": \"True\", \"hoverlabel\": {\"namelength\": 0}, \"hovertemplate\": \"Actor=Anna Faris<br>Season=%{x}<br>Number of lines=%{y}\", \"legendgroup\": \"Actor=Anna Faris\", \"marker\": {\"color\": \"#FFA15A\"}, \"name\": \"Actor=Anna Faris\", \"offsetgroup\": \"Actor=Anna Faris\", \"orientation\": \"v\", \"showlegend\": true, \"textposition\": \"auto\", \"type\": \"bar\", \"x\": [10], \"xaxis\": \"x\", \"y\": [67], \"yaxis\": \"y\"}, {\"alignmentgroup\": \"True\", \"hoverlabel\": {\"namelength\": 0}, \"hovertemplate\": \"Actor=Ben Stiller<br>Season=%{x}<br>Number of lines=%{y}\", \"legendgroup\": \"Actor=Ben Stiller\", \"marker\": {\"color\": \"#19d3f3\"}, \"name\": \"Actor=Ben Stiller\", \"offsetgroup\": \"Actor=Ben Stiller\", \"orientation\": \"v\", \"showlegend\": true, \"textposition\": \"auto\", \"type\": \"bar\", \"x\": [3], \"xaxis\": \"x\", \"y\": [21], \"yaxis\": \"y\"}, {\"alignmentgroup\": \"True\", \"hoverlabel\": {\"namelength\": 0}, \"hovertemplate\": \"Actor=Billy Crystal<br>Season=%{x}<br>Number of lines=%{y}\", \"legendgroup\": \"Actor=Billy Crystal\", \"marker\": {\"color\": \"#FF6692\"}, \"name\": \"Actor=Billy Crystal\", \"offsetgroup\": \"Actor=Billy Crystal\", \"orientation\": \"v\", \"showlegend\": true, \"textposition\": \"auto\", \"type\": \"bar\", \"x\": [3], \"xaxis\": \"x\", \"y\": [11], \"yaxis\": \"y\"}, {\"alignmentgroup\": \"True\", \"hoverlabel\": {\"namelength\": 0}, \"hovertemplate\": \"Actor=Brad Pitt<br>Season=%{x}<br>Number of lines=%{y}\", \"legendgroup\": \"Actor=Brad Pitt\", \"marker\": {\"color\": \"#B6E880\"}, \"name\": \"Actor=Brad Pitt\", \"offsetgroup\": \"Actor=Brad Pitt\", \"orientation\": \"v\", \"showlegend\": true, \"textposition\": \"auto\", \"type\": \"bar\", \"x\": [8], \"xaxis\": \"x\", \"y\": [50], \"yaxis\": \"y\"}, {\"alignmentgroup\": \"True\", \"hoverlabel\": {\"namelength\": 0}, \"hovertemplate\": \"Actor=Brook Shields<br>Season=%{x}<br>Number of lines=%{y}\", \"legendgroup\": \"Actor=Brook Shields\", \"marker\": {\"color\": \"#FF97FF\"}, \"name\": \"Actor=Brook Shields\", \"offsetgroup\": \"Actor=Brook Shields\", \"orientation\": \"v\", \"showlegend\": true, \"textposition\": \"auto\", \"type\": \"bar\", \"x\": [2], \"xaxis\": \"x\", \"y\": [26], \"yaxis\": \"y\"}, {\"alignmentgroup\": \"True\", \"hoverlabel\": {\"namelength\": 0}, \"hovertemplate\": \"Actor=Bruce Willis<br>Season=%{x}<br>Number of lines=%{y}\", \"legendgroup\": \"Actor=Bruce Willis\", \"marker\": {\"color\": \"#FECB52\"}, \"name\": \"Actor=Bruce Willis\", \"offsetgroup\": \"Actor=Bruce Willis\", \"orientation\": \"v\", \"showlegend\": true, \"textposition\": \"auto\", \"type\": \"bar\", \"x\": [6], \"xaxis\": \"x\", \"y\": [116], \"yaxis\": \"y\"}, {\"alignmentgroup\": \"True\", \"hoverlabel\": {\"namelength\": 0}, \"hovertemplate\": \"Actor=Charlie Sheen<br>Season=%{x}<br>Number of lines=%{y}\", \"legendgroup\": \"Actor=Charlie Sheen\", \"marker\": {\"color\": \"#636efa\"}, \"name\": \"Actor=Charlie Sheen\", \"offsetgroup\": \"Actor=Charlie Sheen\", \"orientation\": \"v\", \"showlegend\": true, \"textposition\": \"auto\", \"type\": \"bar\", \"x\": [2], \"xaxis\": \"x\", \"y\": [32], \"yaxis\": \"y\"}, {\"alignmentgroup\": \"True\", \"hoverlabel\": {\"namelength\": 0}, \"hovertemplate\": \"Actor=Charlton heston<br>Season=%{x}<br>Number of lines=%{y}\", \"legendgroup\": \"Actor=Charlton heston\", \"marker\": {\"color\": \"#EF553B\"}, \"name\": \"Actor=Charlton heston\", \"offsetgroup\": \"Actor=Charlton heston\", \"orientation\": \"v\", \"showlegend\": true, \"textposition\": \"auto\", \"type\": \"bar\", \"x\": [4], \"xaxis\": \"x\", \"y\": [9], \"yaxis\": \"y\"}, {\"alignmentgroup\": \"True\", \"hoverlabel\": {\"namelength\": 0}, \"hovertemplate\": \"Actor=Chris Isaak\\u00a0<br>Season=%{x}<br>Number of lines=%{y}\", \"legendgroup\": \"Actor=Chris Isaak\\u00a0\", \"marker\": {\"color\": \"#00cc96\"}, \"name\": \"Actor=Chris Isaak\\u00a0\", \"offsetgroup\": \"Actor=Chris Isaak\\u00a0\", \"orientation\": \"v\", \"showlegend\": true, \"textposition\": \"auto\", \"type\": \"bar\", \"x\": [2], \"xaxis\": \"x\", \"y\": [15], \"yaxis\": \"y\"}, {\"alignmentgroup\": \"True\", \"hoverlabel\": {\"namelength\": 0}, \"hovertemplate\": \"Actor=Chris Parnell<br>Season=%{x}<br>Number of lines=%{y}\", \"legendgroup\": \"Actor=Chris Parnell\", \"marker\": {\"color\": \"#ab63fa\"}, \"name\": \"Actor=Chris Parnell\", \"offsetgroup\": \"Actor=Chris Parnell\", \"orientation\": \"v\", \"showlegend\": true, \"textposition\": \"auto\", \"type\": \"bar\", \"x\": [8], \"xaxis\": \"x\", \"y\": [10], \"yaxis\": \"y\"}, {\"alignmentgroup\": \"True\", \"hoverlabel\": {\"namelength\": 0}, \"hovertemplate\": \"Actor=Chrissie Hynde<br>Season=%{x}<br>Number of lines=%{y}\", \"legendgroup\": \"Actor=Chrissie Hynde\", \"marker\": {\"color\": \"#FFA15A\"}, \"name\": \"Actor=Chrissie Hynde\", \"offsetgroup\": \"Actor=Chrissie Hynde\", \"orientation\": \"v\", \"showlegend\": true, \"textposition\": \"auto\", \"type\": \"bar\", \"x\": [2], \"xaxis\": \"x\", \"y\": [13], \"yaxis\": \"y\"}, {\"alignmentgroup\": \"True\", \"hoverlabel\": {\"namelength\": 0}, \"hovertemplate\": \"Actor=Christina Applegate<br>Season=%{x}<br>Number of lines=%{y}\", \"legendgroup\": \"Actor=Christina Applegate\", \"marker\": {\"color\": \"#19d3f3\"}, \"name\": \"Actor=Christina Applegate\", \"offsetgroup\": \"Actor=Christina Applegate\", \"orientation\": \"v\", \"showlegend\": true, \"textposition\": \"auto\", \"type\": \"bar\", \"x\": [9, 10], \"xaxis\": \"x\", \"y\": [59, 65], \"yaxis\": \"y\"}, {\"alignmentgroup\": \"True\", \"hoverlabel\": {\"namelength\": 0}, \"hovertemplate\": \"Actor=Dakota Fanning<br>Season=%{x}<br>Number of lines=%{y}\", \"legendgroup\": \"Actor=Dakota Fanning\", \"marker\": {\"color\": \"#FF6692\"}, \"name\": \"Actor=Dakota Fanning\", \"offsetgroup\": \"Actor=Dakota Fanning\", \"orientation\": \"v\", \"showlegend\": true, \"textposition\": \"auto\", \"type\": \"bar\", \"x\": [10], \"xaxis\": \"x\", \"y\": [11], \"yaxis\": \"y\"}, {\"alignmentgroup\": \"True\", \"hoverlabel\": {\"namelength\": 0}, \"hovertemplate\": \"Actor=Danny DeVito\\u00a0<br>Season=%{x}<br>Number of lines=%{y}\", \"legendgroup\": \"Actor=Danny DeVito\\u00a0\", \"marker\": {\"color\": \"#B6E880\"}, \"name\": \"Actor=Danny DeVito\\u00a0\", \"offsetgroup\": \"Actor=Danny DeVito\\u00a0\", \"orientation\": \"v\", \"showlegend\": true, \"textposition\": \"auto\", \"type\": \"bar\", \"x\": [10], \"xaxis\": \"x\", \"y\": [24], \"yaxis\": \"y\"}, {\"alignmentgroup\": \"True\", \"hoverlabel\": {\"namelength\": 0}, \"hovertemplate\": \"Actor=David Arquette<br>Season=%{x}<br>Number of lines=%{y}\", \"legendgroup\": \"Actor=David Arquette\", \"marker\": {\"color\": \"#FF97FF\"}, \"name\": \"Actor=David Arquette\", \"offsetgroup\": \"Actor=David Arquette\", \"orientation\": \"v\", \"showlegend\": true, \"textposition\": \"auto\", \"type\": \"bar\", \"x\": [3], \"xaxis\": \"x\", \"y\": [24], \"yaxis\": \"y\"}, {\"alignmentgroup\": \"True\", \"hoverlabel\": {\"namelength\": 0}, \"hovertemplate\": \"Actor=Denise Richards<br>Season=%{x}<br>Number of lines=%{y}\", \"legendgroup\": \"Actor=Denise Richards\", \"marker\": {\"color\": \"#FECB52\"}, \"name\": \"Actor=Denise Richards\", \"offsetgroup\": \"Actor=Denise Richards\", \"orientation\": \"v\", \"showlegend\": true, \"textposition\": \"auto\", \"type\": \"bar\", \"x\": [7], \"xaxis\": \"x\", \"y\": [16], \"yaxis\": \"y\"}, {\"alignmentgroup\": \"True\", \"hoverlabel\": {\"namelength\": 0}, \"hovertemplate\": \"Actor=Dermot Mulroney<br>Season=%{x}<br>Number of lines=%{y}\", \"legendgroup\": \"Actor=Dermot Mulroney\", \"marker\": {\"color\": \"#636efa\"}, \"name\": \"Actor=Dermot Mulroney\", \"offsetgroup\": \"Actor=Dermot Mulroney\", \"orientation\": \"v\", \"showlegend\": true, \"textposition\": \"auto\", \"type\": \"bar\", \"x\": [9], \"xaxis\": \"x\", \"y\": [25], \"yaxis\": \"y\"}, {\"alignmentgroup\": \"True\", \"hoverlabel\": {\"namelength\": 0}, \"hovertemplate\": \"Actor=Elle Macpherson<br>Season=%{x}<br>Number of lines=%{y}\", \"legendgroup\": \"Actor=Elle Macpherson\", \"marker\": {\"color\": \"#EF553B\"}, \"name\": \"Actor=Elle Macpherson\", \"offsetgroup\": \"Actor=Elle Macpherson\", \"orientation\": \"v\", \"showlegend\": true, \"textposition\": \"auto\", \"type\": \"bar\", \"x\": [6], \"xaxis\": \"x\", \"y\": [89], \"yaxis\": \"y\"}, {\"alignmentgroup\": \"True\", \"hoverlabel\": {\"namelength\": 0}, \"hovertemplate\": \"Actor=Ellen Pompeo<br>Season=%{x}<br>Number of lines=%{y}\", \"legendgroup\": \"Actor=Ellen Pompeo\", \"marker\": {\"color\": \"#00cc96\"}, \"name\": \"Actor=Ellen Pompeo\", \"offsetgroup\": \"Actor=Ellen Pompeo\", \"orientation\": \"v\", \"showlegend\": true, \"textposition\": \"auto\", \"type\": \"bar\", \"x\": [10], \"xaxis\": \"x\", \"y\": [10], \"yaxis\": \"y\"}, {\"alignmentgroup\": \"True\", \"hoverlabel\": {\"namelength\": 0}, \"hovertemplate\": \"Actor=Fred Willard\\u00a0<br>Season=%{x}<br>Number of lines=%{y}\", \"legendgroup\": \"Actor=Fred Willard\\u00a0\", \"marker\": {\"color\": \"#ab63fa\"}, \"name\": \"Actor=Fred Willard\\u00a0\", \"offsetgroup\": \"Actor=Fred Willard\\u00a0\", \"orientation\": \"v\", \"showlegend\": true, \"textposition\": \"auto\", \"type\": \"bar\", \"x\": [2], \"xaxis\": \"x\", \"y\": [6], \"yaxis\": \"y\"}, {\"alignmentgroup\": \"True\", \"hoverlabel\": {\"namelength\": 0}, \"hovertemplate\": \"Actor=Freddie Prinze Jr.<br>Season=%{x}<br>Number of lines=%{y}\", \"legendgroup\": \"Actor=Freddie Prinze Jr.\", \"marker\": {\"color\": \"#FFA15A\"}, \"name\": \"Actor=Freddie Prinze Jr.\", \"offsetgroup\": \"Actor=Freddie Prinze Jr.\", \"orientation\": \"v\", \"showlegend\": true, \"textposition\": \"auto\", \"type\": \"bar\", \"x\": [9], \"xaxis\": \"x\", \"y\": [29], \"yaxis\": \"y\"}, {\"alignmentgroup\": \"True\", \"hoverlabel\": {\"namelength\": 0}, \"hovertemplate\": \"Actor=Gabrielle Union<br>Season=%{x}<br>Number of lines=%{y}\", \"legendgroup\": \"Actor=Gabrielle Union\", \"marker\": {\"color\": \"#19d3f3\"}, \"name\": \"Actor=Gabrielle Union\", \"offsetgroup\": \"Actor=Gabrielle Union\", \"orientation\": \"v\", \"showlegend\": true, \"textposition\": \"auto\", \"type\": \"bar\", \"x\": [7], \"xaxis\": \"x\", \"y\": [27], \"yaxis\": \"y\"}, {\"alignmentgroup\": \"True\", \"hoverlabel\": {\"namelength\": 0}, \"hovertemplate\": \"Actor=Gary Oldman<br>Season=%{x}<br>Number of lines=%{y}\", \"legendgroup\": \"Actor=Gary Oldman\", \"marker\": {\"color\": \"#FF6692\"}, \"name\": \"Actor=Gary Oldman\", \"offsetgroup\": \"Actor=Gary Oldman\", \"orientation\": \"v\", \"showlegend\": true, \"textposition\": \"auto\", \"type\": \"bar\", \"x\": [7], \"xaxis\": \"x\", \"y\": [33], \"yaxis\": \"y\"}, {\"alignmentgroup\": \"True\", \"hoverlabel\": {\"namelength\": 0}, \"hovertemplate\": \"Actor=George Clooney<br>Season=%{x}<br>Number of lines=%{y}\", \"legendgroup\": \"Actor=George Clooney\", \"marker\": {\"color\": \"#B6E880\"}, \"name\": \"Actor=George Clooney\", \"offsetgroup\": \"Actor=George Clooney\", \"orientation\": \"v\", \"showlegend\": true, \"textposition\": \"auto\", \"type\": \"bar\", \"x\": [1], \"xaxis\": \"x\", \"y\": [13], \"yaxis\": \"y\"}, {\"alignmentgroup\": \"True\", \"hoverlabel\": {\"namelength\": 0}, \"hovertemplate\": \"Actor=Greg Kinnear<br>Season=%{x}<br>Number of lines=%{y}\", \"legendgroup\": \"Actor=Greg Kinnear\", \"marker\": {\"color\": \"#FF97FF\"}, \"name\": \"Actor=Greg Kinnear\", \"offsetgroup\": \"Actor=Greg Kinnear\", \"orientation\": \"v\", \"showlegend\": true, \"textposition\": \"auto\", \"type\": \"bar\", \"x\": [10], \"xaxis\": \"x\", \"y\": [38], \"yaxis\": \"y\"}, {\"alignmentgroup\": \"True\", \"hoverlabel\": {\"namelength\": 0}, \"hovertemplate\": \"Actor=Hank Azaria<br>Season=%{x}<br>Number of lines=%{y}\", \"legendgroup\": \"Actor=Hank Azaria\", \"marker\": {\"color\": \"#FECB52\"}, \"name\": \"Actor=Hank Azaria\", \"offsetgroup\": \"Actor=Hank Azaria\", \"orientation\": \"v\", \"showlegend\": true, \"textposition\": \"auto\", \"type\": \"bar\", \"x\": [1, 7, 9], \"xaxis\": \"x\", \"y\": [28, 20, 72], \"yaxis\": \"y\"}, {\"alignmentgroup\": \"True\", \"hoverlabel\": {\"namelength\": 0}, \"hovertemplate\": \"Actor=Helen Hunt<br>Season=%{x}<br>Number of lines=%{y}\", \"legendgroup\": \"Actor=Helen Hunt\", \"marker\": {\"color\": \"#636efa\"}, \"name\": \"Actor=Helen Hunt\", \"offsetgroup\": \"Actor=Helen Hunt\", \"orientation\": \"v\", \"showlegend\": true, \"textposition\": \"auto\", \"type\": \"bar\", \"x\": [1], \"xaxis\": \"x\", \"y\": [11], \"yaxis\": \"y\"}, {\"alignmentgroup\": \"True\", \"hoverlabel\": {\"namelength\": 0}, \"hovertemplate\": \"Actor=Hugh Laurie<br>Season=%{x}<br>Number of lines=%{y}\", \"legendgroup\": \"Actor=Hugh Laurie\", \"marker\": {\"color\": \"#EF553B\"}, \"name\": \"Actor=Hugh Laurie\", \"offsetgroup\": \"Actor=Hugh Laurie\", \"orientation\": \"v\", \"showlegend\": true, \"textposition\": \"auto\", \"type\": \"bar\", \"x\": [4], \"xaxis\": \"x\", \"y\": [6], \"yaxis\": \"y\"}, {\"alignmentgroup\": \"True\", \"hoverlabel\": {\"namelength\": 0}, \"hovertemplate\": \"Actor=Iqbal Theba<br>Season=%{x}<br>Number of lines=%{y}\", \"legendgroup\": \"Actor=Iqbal Theba\", \"marker\": {\"color\": \"#00cc96\"}, \"name\": \"Actor=Iqbal Theba\", \"offsetgroup\": \"Actor=Iqbal Theba\", \"orientation\": \"v\", \"showlegend\": true, \"textposition\": \"auto\", \"type\": \"bar\", \"x\": [5], \"xaxis\": \"x\", \"y\": [6], \"yaxis\": \"y\"}, {\"alignmentgroup\": \"True\", \"hoverlabel\": {\"namelength\": 0}, \"hovertemplate\": \"Actor=Isabella Rossellini<br>Season=%{x}<br>Number of lines=%{y}\", \"legendgroup\": \"Actor=Isabella Rossellini\", \"marker\": {\"color\": \"#ab63fa\"}, \"name\": \"Actor=Isabella Rossellini\", \"offsetgroup\": \"Actor=Isabella Rossellini\", \"orientation\": \"v\", \"showlegend\": true, \"textposition\": \"auto\", \"type\": \"bar\", \"x\": [3], \"xaxis\": \"x\", \"y\": [10], \"yaxis\": \"y\"}, {\"alignmentgroup\": \"True\", \"hoverlabel\": {\"namelength\": 0}, \"hovertemplate\": \"Actor=Jason Alexander<br>Season=%{x}<br>Number of lines=%{y}\", \"legendgroup\": \"Actor=Jason Alexander\", \"marker\": {\"color\": \"#FFA15A\"}, \"name\": \"Actor=Jason Alexander\", \"offsetgroup\": \"Actor=Jason Alexander\", \"orientation\": \"v\", \"showlegend\": true, \"textposition\": \"auto\", \"type\": \"bar\", \"x\": [7], \"xaxis\": \"x\", \"y\": [29], \"yaxis\": \"y\"}, {\"alignmentgroup\": \"True\", \"hoverlabel\": {\"namelength\": 0}, \"hovertemplate\": \"Actor=Jay Leno<br>Season=%{x}<br>Number of lines=%{y}\", \"legendgroup\": \"Actor=Jay Leno\", \"marker\": {\"color\": \"#19d3f3\"}, \"name\": \"Actor=Jay Leno\", \"offsetgroup\": \"Actor=Jay Leno\", \"orientation\": \"v\", \"showlegend\": true, \"textposition\": \"auto\", \"type\": \"bar\", \"x\": [1], \"xaxis\": \"x\", \"y\": [4], \"yaxis\": \"y\"}, {\"alignmentgroup\": \"True\", \"hoverlabel\": {\"namelength\": 0}, \"hovertemplate\": \"Actor=Jean-Claude Van Damme<br>Season=%{x}<br>Number of lines=%{y}\", \"legendgroup\": \"Actor=Jean-Claude Van Damme\", \"marker\": {\"color\": \"#FF6692\"}, \"name\": \"Actor=Jean-Claude Van Damme\", \"offsetgroup\": \"Actor=Jean-Claude Van Damme\", \"orientation\": \"v\", \"showlegend\": true, \"textposition\": \"auto\", \"type\": \"bar\", \"x\": [2], \"xaxis\": \"x\", \"y\": [14], \"yaxis\": \"y\"}, {\"alignmentgroup\": \"True\", \"hoverlabel\": {\"namelength\": 0}, \"hovertemplate\": \"Actor=Jeff Goldblum<br>Season=%{x}<br>Number of lines=%{y}\", \"legendgroup\": \"Actor=Jeff Goldblum\", \"marker\": {\"color\": \"#B6E880\"}, \"name\": \"Actor=Jeff Goldblum\", \"offsetgroup\": \"Actor=Jeff Goldblum\", \"orientation\": \"v\", \"showlegend\": true, \"textposition\": \"auto\", \"type\": \"bar\", \"x\": [9], \"xaxis\": \"x\", \"y\": [33], \"yaxis\": \"y\"}, {\"alignmentgroup\": \"True\", \"hoverlabel\": {\"namelength\": 0}, \"hovertemplate\": \"Actor=Jennifer Coolidge<br>Season=%{x}<br>Number of lines=%{y}\", \"legendgroup\": \"Actor=Jennifer Coolidge\", \"marker\": {\"color\": \"#FF97FF\"}, \"name\": \"Actor=Jennifer Coolidge\", \"offsetgroup\": \"Actor=Jennifer Coolidge\", \"orientation\": \"v\", \"showlegend\": true, \"textposition\": \"auto\", \"type\": \"bar\", \"x\": [10], \"xaxis\": \"x\", \"y\": [14], \"yaxis\": \"y\"}, {\"alignmentgroup\": \"True\", \"hoverlabel\": {\"namelength\": 0}, \"hovertemplate\": \"Actor=Jennifer Grey<br>Season=%{x}<br>Number of lines=%{y}\", \"legendgroup\": \"Actor=Jennifer Grey\", \"marker\": {\"color\": \"#FECB52\"}, \"name\": \"Actor=Jennifer Grey\", \"offsetgroup\": \"Actor=Jennifer Grey\", \"orientation\": \"v\", \"showlegend\": true, \"textposition\": \"auto\", \"type\": \"bar\", \"x\": [1], \"xaxis\": \"x\", \"y\": [22], \"yaxis\": \"y\"}, {\"alignmentgroup\": \"True\", \"hoverlabel\": {\"namelength\": 0}, \"hovertemplate\": \"Actor=Jill Goodacre<br>Season=%{x}<br>Number of lines=%{y}\", \"legendgroup\": \"Actor=Jill Goodacre\", \"marker\": {\"color\": \"#636efa\"}, \"name\": \"Actor=Jill Goodacre\", \"offsetgroup\": \"Actor=Jill Goodacre\", \"orientation\": \"v\", \"showlegend\": true, \"textposition\": \"auto\", \"type\": \"bar\", \"x\": [1], \"xaxis\": \"x\", \"y\": [13], \"yaxis\": \"y\"}, {\"alignmentgroup\": \"True\", \"hoverlabel\": {\"namelength\": 0}, \"hovertemplate\": \"Actor=Jim Rash<br>Season=%{x}<br>Number of lines=%{y}\", \"legendgroup\": \"Actor=Jim Rash\", \"marker\": {\"color\": \"#EF553B\"}, \"name\": \"Actor=Jim Rash\", \"offsetgroup\": \"Actor=Jim Rash\", \"orientation\": \"v\", \"showlegend\": true, \"textposition\": \"auto\", \"type\": \"bar\", \"x\": [10], \"xaxis\": \"x\", \"y\": [8], \"yaxis\": \"y\"}, {\"alignmentgroup\": \"True\", \"hoverlabel\": {\"namelength\": 0}, \"hovertemplate\": \"Actor=John Stamos<br>Season=%{x}<br>Number of lines=%{y}\", \"legendgroup\": \"Actor=John Stamos\", \"marker\": {\"color\": \"#00cc96\"}, \"name\": \"Actor=John Stamos\", \"offsetgroup\": \"Actor=John Stamos\", \"orientation\": \"v\", \"showlegend\": true, \"textposition\": \"auto\", \"type\": \"bar\", \"x\": [9], \"xaxis\": \"x\", \"y\": [20], \"yaxis\": \"y\"}, {\"alignmentgroup\": \"True\", \"hoverlabel\": {\"namelength\": 0}, \"hovertemplate\": \"Actor=Jon Favreau<br>Season=%{x}<br>Number of lines=%{y}\", \"legendgroup\": \"Actor=Jon Favreau\", \"marker\": {\"color\": \"#ab63fa\"}, \"name\": \"Actor=Jon Favreau\", \"offsetgroup\": \"Actor=Jon Favreau\", \"orientation\": \"v\", \"showlegend\": true, \"textposition\": \"auto\", \"type\": \"bar\", \"x\": [3], \"xaxis\": \"x\", \"y\": [103], \"yaxis\": \"y\"}, {\"alignmentgroup\": \"True\", \"hoverlabel\": {\"namelength\": 0}, \"hovertemplate\": \"Actor=Jon Lovitz<br>Season=%{x}<br>Number of lines=%{y}\", \"legendgroup\": \"Actor=Jon Lovitz\", \"marker\": {\"color\": \"#FFA15A\"}, \"name\": \"Actor=Jon Lovitz\", \"offsetgroup\": \"Actor=Jon Lovitz\", \"orientation\": \"v\", \"showlegend\": true, \"textposition\": \"auto\", \"type\": \"bar\", \"x\": [1, 9], \"xaxis\": \"x\", \"y\": [23, 13], \"yaxis\": \"y\"}, {\"alignmentgroup\": \"True\", \"hoverlabel\": {\"namelength\": 0}, \"hovertemplate\": \"Actor=Julia Roberts<br>Season=%{x}<br>Number of lines=%{y}\", \"legendgroup\": \"Actor=Julia Roberts\", \"marker\": {\"color\": \"#19d3f3\"}, \"name\": \"Actor=Julia Roberts\", \"offsetgroup\": \"Actor=Julia Roberts\", \"orientation\": \"v\", \"showlegend\": true, \"textposition\": \"auto\", \"type\": \"bar\", \"x\": [2], \"xaxis\": \"x\", \"y\": [35], \"yaxis\": \"y\"}, {\"alignmentgroup\": \"True\", \"hoverlabel\": {\"namelength\": 0}, \"hovertemplate\": \"Actor=Kathleen Turner<br>Season=%{x}<br>Number of lines=%{y}\", \"legendgroup\": \"Actor=Kathleen Turner\", \"marker\": {\"color\": \"#FF6692\"}, \"name\": \"Actor=Kathleen Turner\", \"offsetgroup\": \"Actor=Kathleen Turner\", \"orientation\": \"v\", \"showlegend\": true, \"textposition\": \"auto\", \"type\": \"bar\", \"x\": [7], \"xaxis\": \"x\", \"y\": [23], \"yaxis\": \"y\"}, {\"alignmentgroup\": \"True\", \"hoverlabel\": {\"namelength\": 0}, \"hovertemplate\": \"Actor=Kristin Davis<br>Season=%{x}<br>Number of lines=%{y}\", \"legendgroup\": \"Actor=Kristin Davis\", \"marker\": {\"color\": \"#B6E880\"}, \"name\": \"Actor=Kristin Davis\", \"offsetgroup\": \"Actor=Kristin Davis\", \"orientation\": \"v\", \"showlegend\": true, \"textposition\": \"auto\", \"type\": \"bar\", \"x\": [7], \"xaxis\": \"x\", \"y\": [23], \"yaxis\": \"y\"}, {\"alignmentgroup\": \"True\", \"hoverlabel\": {\"namelength\": 0}, \"hovertemplate\": \"Actor=Lea Thompson<br>Season=%{x}<br>Number of lines=%{y}\", \"legendgroup\": \"Actor=Lea Thompson\", \"marker\": {\"color\": \"#FF97FF\"}, \"name\": \"Actor=Lea Thompson\", \"offsetgroup\": \"Actor=Lea Thompson\", \"orientation\": \"v\", \"showlegend\": true, \"textposition\": \"auto\", \"type\": \"bar\", \"x\": [2], \"xaxis\": \"x\", \"y\": [6], \"yaxis\": \"y\"}, {\"alignmentgroup\": \"True\", \"hoverlabel\": {\"namelength\": 0}, \"hovertemplate\": \"Actor=Leah Remini<br>Season=%{x}<br>Number of lines=%{y}\", \"legendgroup\": \"Actor=Leah Remini\", \"marker\": {\"color\": \"#FECB52\"}, \"name\": \"Actor=Leah Remini\", \"offsetgroup\": \"Actor=Leah Remini\", \"orientation\": \"v\", \"showlegend\": true, \"textposition\": \"auto\", \"type\": \"bar\", \"x\": [1], \"xaxis\": \"x\", \"y\": [21], \"yaxis\": \"y\"}, {\"alignmentgroup\": \"True\", \"hoverlabel\": {\"namelength\": 0}, \"hovertemplate\": \"Actor=Mae Whitman<br>Season=%{x}<br>Number of lines=%{y}\", \"legendgroup\": \"Actor=Mae Whitman\", \"marker\": {\"color\": \"#636efa\"}, \"name\": \"Actor=Mae Whitman\", \"offsetgroup\": \"Actor=Mae Whitman\", \"orientation\": \"v\", \"showlegend\": true, \"textposition\": \"auto\", \"type\": \"bar\", \"x\": [3], \"xaxis\": \"x\", \"y\": [11], \"yaxis\": \"y\"}, {\"alignmentgroup\": \"True\", \"hoverlabel\": {\"namelength\": 0}, \"hovertemplate\": \"Actor=Marlo Thomas<br>Season=%{x}<br>Number of lines=%{y}\", \"legendgroup\": \"Actor=Marlo Thomas\", \"marker\": {\"color\": \"#EF553B\"}, \"name\": \"Actor=Marlo Thomas\", \"offsetgroup\": \"Actor=Marlo Thomas\", \"orientation\": \"v\", \"showlegend\": true, \"textposition\": \"auto\", \"type\": \"bar\", \"x\": [2, 8], \"xaxis\": \"x\", \"y\": [24, 37], \"yaxis\": \"y\"}, {\"alignmentgroup\": \"True\", \"hoverlabel\": {\"namelength\": 0}, \"hovertemplate\": \"Actor=Michael McKean<br>Season=%{x}<br>Number of lines=%{y}\", \"legendgroup\": \"Actor=Michael McKean\", \"marker\": {\"color\": \"#00cc96\"}, \"name\": \"Actor=Michael McKean\", \"offsetgroup\": \"Actor=Michael McKean\", \"orientation\": \"v\", \"showlegend\": true, \"textposition\": \"auto\", \"type\": \"bar\", \"x\": [2], \"xaxis\": \"x\", \"y\": [18], \"yaxis\": \"y\"}, {\"alignmentgroup\": \"True\", \"hoverlabel\": {\"namelength\": 0}, \"hovertemplate\": \"Actor=Morgan Fairchild<br>Season=%{x}<br>Number of lines=%{y}\", \"legendgroup\": \"Actor=Morgan Fairchild\", \"marker\": {\"color\": \"#ab63fa\"}, \"name\": \"Actor=Morgan Fairchild\", \"offsetgroup\": \"Actor=Morgan Fairchild\", \"orientation\": \"v\", \"showlegend\": true, \"textposition\": \"auto\", \"type\": \"bar\", \"x\": [1, 5, 7, 8], \"xaxis\": \"x\", \"y\": [28, 1, 7, 4], \"yaxis\": \"y\"}, {\"alignmentgroup\": \"True\", \"hoverlabel\": {\"namelength\": 0}, \"hovertemplate\": \"Actor=Noah Wyle<br>Season=%{x}<br>Number of lines=%{y}\", \"legendgroup\": \"Actor=Noah Wyle\", \"marker\": {\"color\": \"#FFA15A\"}, \"name\": \"Actor=Noah Wyle\", \"offsetgroup\": \"Actor=Noah Wyle\", \"orientation\": \"v\", \"showlegend\": true, \"textposition\": \"auto\", \"type\": \"bar\", \"x\": [1], \"xaxis\": \"x\", \"y\": [10], \"yaxis\": \"y\"}, {\"alignmentgroup\": \"True\", \"hoverlabel\": {\"namelength\": 0}, \"hovertemplate\": \"Actor=Paul Rudd<br>Season=%{x}<br>Number of lines=%{y}\", \"legendgroup\": \"Actor=Paul Rudd\", \"marker\": {\"color\": \"#19d3f3\"}, \"name\": \"Actor=Paul Rudd\", \"offsetgroup\": \"Actor=Paul Rudd\", \"orientation\": \"v\", \"showlegend\": true, \"textposition\": \"auto\", \"type\": \"bar\", \"x\": [9, 10], \"xaxis\": \"x\", \"y\": [229, 116], \"yaxis\": \"y\"}, {\"alignmentgroup\": \"True\", \"hoverlabel\": {\"namelength\": 0}, \"hovertemplate\": \"Actor=Rebecca Romijn<br>Season=%{x}<br>Number of lines=%{y}\", \"legendgroup\": \"Actor=Rebecca Romijn\", \"marker\": {\"color\": \"#FF6692\"}, \"name\": \"Actor=Rebecca Romijn\", \"offsetgroup\": \"Actor=Rebecca Romijn\", \"orientation\": \"v\", \"showlegend\": true, \"textposition\": \"auto\", \"type\": \"bar\", \"x\": [4], \"xaxis\": \"x\", \"y\": [17], \"yaxis\": \"y\"}, {\"alignmentgroup\": \"True\", \"hoverlabel\": {\"namelength\": 0}, \"hovertemplate\": \"Actor=Reese Witherspoon<br>Season=%{x}<br>Number of lines=%{y}\", \"legendgroup\": \"Actor=Reese Witherspoon\", \"marker\": {\"color\": \"#B6E880\"}, \"name\": \"Actor=Reese Witherspoon\", \"offsetgroup\": \"Actor=Reese Witherspoon\", \"orientation\": \"v\", \"showlegend\": true, \"textposition\": \"auto\", \"type\": \"bar\", \"x\": [6], \"xaxis\": \"x\", \"y\": [67], \"yaxis\": \"y\"}, {\"alignmentgroup\": \"True\", \"hoverlabel\": {\"namelength\": 0}, \"hovertemplate\": \"Actor=Robin Williams<br>Season=%{x}<br>Number of lines=%{y}\", \"legendgroup\": \"Actor=Robin Williams\", \"marker\": {\"color\": \"#FF97FF\"}, \"name\": \"Actor=Robin Williams\", \"offsetgroup\": \"Actor=Robin Williams\", \"orientation\": \"v\", \"showlegend\": true, \"textposition\": \"auto\", \"type\": \"bar\", \"x\": [3], \"xaxis\": \"x\", \"y\": [11], \"yaxis\": \"y\"}, {\"alignmentgroup\": \"True\", \"hoverlabel\": {\"namelength\": 0}, \"hovertemplate\": \"Actor=Sarah \\\"Fergie\\\" Ferguson<br>Season=%{x}<br>Number of lines=%{y}\", \"legendgroup\": \"Actor=Sarah \\\"Fergie\\\" Ferguson\", \"marker\": {\"color\": \"#FECB52\"}, \"name\": \"Actor=Sarah \\\"Fergie\\\" Ferguson\", \"offsetgroup\": \"Actor=Sarah \\\"Fergie\\\" Ferguson\", \"orientation\": \"v\", \"showlegend\": true, \"textposition\": \"auto\", \"type\": \"bar\", \"x\": [4], \"xaxis\": \"x\", \"y\": [3], \"yaxis\": \"y\"}, {\"alignmentgroup\": \"True\", \"hoverlabel\": {\"namelength\": 0}, \"hovertemplate\": \"Actor=Sean Penn<br>Season=%{x}<br>Number of lines=%{y}\", \"legendgroup\": \"Actor=Sean Penn\", \"marker\": {\"color\": \"#636efa\"}, \"name\": \"Actor=Sean Penn\", \"offsetgroup\": \"Actor=Sean Penn\", \"orientation\": \"v\", \"showlegend\": true, \"textposition\": \"auto\", \"type\": \"bar\", \"x\": [8], \"xaxis\": \"x\", \"y\": [62], \"yaxis\": \"y\"}, {\"alignmentgroup\": \"True\", \"hoverlabel\": {\"namelength\": 0}, \"hovertemplate\": \"Actor=Selma Blair<br>Season=%{x}<br>Number of lines=%{y}\", \"legendgroup\": \"Actor=Selma Blair\", \"marker\": {\"color\": \"#EF553B\"}, \"name\": \"Actor=Selma Blair\", \"offsetgroup\": \"Actor=Selma Blair\", \"orientation\": \"v\", \"showlegend\": true, \"textposition\": \"auto\", \"type\": \"bar\", \"x\": [9], \"xaxis\": \"x\", \"y\": [15], \"yaxis\": \"y\"}, {\"alignmentgroup\": \"True\", \"hoverlabel\": {\"namelength\": 0}, \"hovertemplate\": \"Actor=Soleil Moon Frye<br>Season=%{x}<br>Number of lines=%{y}\", \"legendgroup\": \"Actor=Soleil Moon Frye\", \"marker\": {\"color\": \"#00cc96\"}, \"name\": \"Actor=Soleil Moon Frye\", \"offsetgroup\": \"Actor=Soleil Moon Frye\", \"orientation\": \"v\", \"showlegend\": true, \"textposition\": \"auto\", \"type\": \"bar\", \"x\": [5], \"xaxis\": \"x\", \"y\": [15], \"yaxis\": \"y\"}, {\"alignmentgroup\": \"True\", \"hoverlabel\": {\"namelength\": 0}, \"hovertemplate\": \"Actor=Susan Sarandon<br>Season=%{x}<br>Number of lines=%{y}\", \"legendgroup\": \"Actor=Susan Sarandon\", \"marker\": {\"color\": \"#ab63fa\"}, \"name\": \"Actor=Susan Sarandon\", \"offsetgroup\": \"Actor=Susan Sarandon\", \"orientation\": \"v\", \"showlegend\": true, \"textposition\": \"auto\", \"type\": \"bar\", \"x\": [7], \"xaxis\": \"x\", \"y\": [53], \"yaxis\": \"y\"}, {\"alignmentgroup\": \"True\", \"hoverlabel\": {\"namelength\": 0}, \"hovertemplate\": \"Actor=Tom Selleck<br>Season=%{x}<br>Number of lines=%{y}\", \"legendgroup\": \"Actor=Tom Selleck\", \"marker\": {\"color\": \"#FFA15A\"}, \"name\": \"Actor=Tom Selleck\", \"offsetgroup\": \"Actor=Tom Selleck\", \"orientation\": \"v\", \"showlegend\": true, \"textposition\": \"auto\", \"type\": \"bar\", \"x\": [2, 3, 6], \"xaxis\": \"x\", \"y\": [128, 43, 50], \"yaxis\": \"y\"}, {\"alignmentgroup\": \"True\", \"hoverlabel\": {\"namelength\": 0}, \"hovertemplate\": \"Actor=Winona Ryder<br>Season=%{x}<br>Number of lines=%{y}\", \"legendgroup\": \"Actor=Winona Ryder\", \"marker\": {\"color\": \"#19d3f3\"}, \"name\": \"Actor=Winona Ryder\", \"offsetgroup\": \"Actor=Winona Ryder\", \"orientation\": \"v\", \"showlegend\": true, \"textposition\": \"auto\", \"type\": \"bar\", \"x\": [7], \"xaxis\": \"x\", \"y\": [27], \"yaxis\": \"y\"}],\n",
              "                        {\"barmode\": \"relative\", \"legend\": {\"tracegroupgap\": 0}, \"margin\": {\"t\": 60}, \"template\": {\"data\": {\"bar\": [{\"error_x\": {\"color\": \"#2a3f5f\"}, \"error_y\": {\"color\": \"#2a3f5f\"}, \"marker\": {\"line\": {\"color\": \"#E5ECF6\", \"width\": 0.5}}, \"type\": \"bar\"}], \"barpolar\": [{\"marker\": {\"line\": {\"color\": \"#E5ECF6\", \"width\": 0.5}}, \"type\": \"barpolar\"}], \"carpet\": [{\"aaxis\": {\"endlinecolor\": \"#2a3f5f\", \"gridcolor\": \"white\", \"linecolor\": \"white\", \"minorgridcolor\": \"white\", \"startlinecolor\": \"#2a3f5f\"}, \"baxis\": {\"endlinecolor\": \"#2a3f5f\", \"gridcolor\": \"white\", \"linecolor\": \"white\", \"minorgridcolor\": \"white\", \"startlinecolor\": \"#2a3f5f\"}, \"type\": \"carpet\"}], \"choropleth\": [{\"colorbar\": {\"outlinewidth\": 0, \"ticks\": \"\"}, \"type\": \"choropleth\"}], \"contour\": [{\"colorbar\": {\"outlinewidth\": 0, \"ticks\": \"\"}, \"colorscale\": [[0.0, \"#0d0887\"], [0.1111111111111111, \"#46039f\"], [0.2222222222222222, \"#7201a8\"], [0.3333333333333333, \"#9c179e\"], [0.4444444444444444, \"#bd3786\"], [0.5555555555555556, \"#d8576b\"], [0.6666666666666666, \"#ed7953\"], [0.7777777777777778, \"#fb9f3a\"], [0.8888888888888888, \"#fdca26\"], [1.0, \"#f0f921\"]], \"type\": \"contour\"}], \"contourcarpet\": [{\"colorbar\": {\"outlinewidth\": 0, \"ticks\": \"\"}, \"type\": \"contourcarpet\"}], \"heatmap\": [{\"colorbar\": {\"outlinewidth\": 0, \"ticks\": \"\"}, \"colorscale\": [[0.0, \"#0d0887\"], [0.1111111111111111, \"#46039f\"], [0.2222222222222222, \"#7201a8\"], [0.3333333333333333, \"#9c179e\"], [0.4444444444444444, \"#bd3786\"], [0.5555555555555556, \"#d8576b\"], [0.6666666666666666, \"#ed7953\"], [0.7777777777777778, \"#fb9f3a\"], [0.8888888888888888, \"#fdca26\"], [1.0, \"#f0f921\"]], \"type\": \"heatmap\"}], \"heatmapgl\": [{\"colorbar\": {\"outlinewidth\": 0, \"ticks\": \"\"}, \"colorscale\": [[0.0, \"#0d0887\"], [0.1111111111111111, \"#46039f\"], [0.2222222222222222, \"#7201a8\"], [0.3333333333333333, \"#9c179e\"], [0.4444444444444444, \"#bd3786\"], [0.5555555555555556, \"#d8576b\"], [0.6666666666666666, \"#ed7953\"], [0.7777777777777778, \"#fb9f3a\"], [0.8888888888888888, \"#fdca26\"], [1.0, \"#f0f921\"]], \"type\": \"heatmapgl\"}], \"histogram\": [{\"marker\": {\"colorbar\": {\"outlinewidth\": 0, \"ticks\": \"\"}}, \"type\": \"histogram\"}], \"histogram2d\": [{\"colorbar\": {\"outlinewidth\": 0, \"ticks\": \"\"}, \"colorscale\": [[0.0, \"#0d0887\"], [0.1111111111111111, \"#46039f\"], [0.2222222222222222, \"#7201a8\"], [0.3333333333333333, \"#9c179e\"], [0.4444444444444444, \"#bd3786\"], [0.5555555555555556, \"#d8576b\"], [0.6666666666666666, \"#ed7953\"], [0.7777777777777778, \"#fb9f3a\"], [0.8888888888888888, \"#fdca26\"], [1.0, \"#f0f921\"]], \"type\": \"histogram2d\"}], \"histogram2dcontour\": [{\"colorbar\": {\"outlinewidth\": 0, \"ticks\": \"\"}, \"colorscale\": [[0.0, \"#0d0887\"], [0.1111111111111111, \"#46039f\"], [0.2222222222222222, \"#7201a8\"], [0.3333333333333333, \"#9c179e\"], [0.4444444444444444, \"#bd3786\"], [0.5555555555555556, \"#d8576b\"], [0.6666666666666666, \"#ed7953\"], [0.7777777777777778, \"#fb9f3a\"], [0.8888888888888888, \"#fdca26\"], [1.0, \"#f0f921\"]], \"type\": \"histogram2dcontour\"}], \"mesh3d\": [{\"colorbar\": {\"outlinewidth\": 0, \"ticks\": \"\"}, \"type\": \"mesh3d\"}], \"parcoords\": [{\"line\": {\"colorbar\": {\"outlinewidth\": 0, \"ticks\": \"\"}}, \"type\": \"parcoords\"}], \"pie\": [{\"automargin\": true, \"type\": \"pie\"}], \"scatter\": [{\"marker\": {\"colorbar\": {\"outlinewidth\": 0, \"ticks\": \"\"}}, \"type\": \"scatter\"}], \"scatter3d\": [{\"line\": {\"colorbar\": {\"outlinewidth\": 0, \"ticks\": \"\"}}, \"marker\": {\"colorbar\": {\"outlinewidth\": 0, \"ticks\": \"\"}}, \"type\": \"scatter3d\"}], \"scattercarpet\": [{\"marker\": {\"colorbar\": {\"outlinewidth\": 0, \"ticks\": \"\"}}, \"type\": \"scattercarpet\"}], \"scattergeo\": [{\"marker\": {\"colorbar\": {\"outlinewidth\": 0, \"ticks\": \"\"}}, \"type\": \"scattergeo\"}], \"scattergl\": [{\"marker\": {\"colorbar\": {\"outlinewidth\": 0, \"ticks\": \"\"}}, \"type\": \"scattergl\"}], \"scattermapbox\": [{\"marker\": {\"colorbar\": {\"outlinewidth\": 0, \"ticks\": \"\"}}, \"type\": \"scattermapbox\"}], \"scatterpolar\": [{\"marker\": {\"colorbar\": {\"outlinewidth\": 0, \"ticks\": \"\"}}, \"type\": \"scatterpolar\"}], \"scatterpolargl\": [{\"marker\": {\"colorbar\": {\"outlinewidth\": 0, \"ticks\": \"\"}}, \"type\": \"scatterpolargl\"}], \"scatterternary\": [{\"marker\": {\"colorbar\": {\"outlinewidth\": 0, \"ticks\": \"\"}}, \"type\": \"scatterternary\"}], \"surface\": [{\"colorbar\": {\"outlinewidth\": 0, \"ticks\": \"\"}, \"colorscale\": [[0.0, \"#0d0887\"], [0.1111111111111111, \"#46039f\"], [0.2222222222222222, \"#7201a8\"], [0.3333333333333333, \"#9c179e\"], [0.4444444444444444, \"#bd3786\"], [0.5555555555555556, \"#d8576b\"], [0.6666666666666666, \"#ed7953\"], [0.7777777777777778, \"#fb9f3a\"], [0.8888888888888888, \"#fdca26\"], [1.0, \"#f0f921\"]], \"type\": \"surface\"}], \"table\": [{\"cells\": {\"fill\": {\"color\": \"#EBF0F8\"}, \"line\": {\"color\": \"white\"}}, \"header\": {\"fill\": {\"color\": \"#C8D4E3\"}, \"line\": {\"color\": \"white\"}}, \"type\": \"table\"}]}, \"layout\": {\"annotationdefaults\": {\"arrowcolor\": \"#2a3f5f\", \"arrowhead\": 0, \"arrowwidth\": 1}, \"coloraxis\": {\"colorbar\": {\"outlinewidth\": 0, \"ticks\": \"\"}}, \"colorscale\": {\"diverging\": [[0, \"#8e0152\"], [0.1, \"#c51b7d\"], [0.2, \"#de77ae\"], [0.3, \"#f1b6da\"], [0.4, \"#fde0ef\"], [0.5, \"#f7f7f7\"], [0.6, \"#e6f5d0\"], [0.7, \"#b8e186\"], [0.8, \"#7fbc41\"], [0.9, \"#4d9221\"], [1, \"#276419\"]], \"sequential\": [[0.0, \"#0d0887\"], [0.1111111111111111, \"#46039f\"], [0.2222222222222222, \"#7201a8\"], [0.3333333333333333, \"#9c179e\"], [0.4444444444444444, \"#bd3786\"], [0.5555555555555556, \"#d8576b\"], [0.6666666666666666, \"#ed7953\"], [0.7777777777777778, \"#fb9f3a\"], [0.8888888888888888, \"#fdca26\"], [1.0, \"#f0f921\"]], \"sequentialminus\": [[0.0, \"#0d0887\"], [0.1111111111111111, \"#46039f\"], [0.2222222222222222, \"#7201a8\"], [0.3333333333333333, \"#9c179e\"], [0.4444444444444444, \"#bd3786\"], [0.5555555555555556, \"#d8576b\"], [0.6666666666666666, \"#ed7953\"], [0.7777777777777778, \"#fb9f3a\"], [0.8888888888888888, \"#fdca26\"], [1.0, \"#f0f921\"]]}, \"colorway\": [\"#636efa\", \"#EF553B\", \"#00cc96\", \"#ab63fa\", \"#FFA15A\", \"#19d3f3\", \"#FF6692\", \"#B6E880\", \"#FF97FF\", \"#FECB52\"], \"font\": {\"color\": \"#2a3f5f\"}, \"geo\": {\"bgcolor\": \"white\", \"lakecolor\": \"white\", \"landcolor\": \"#E5ECF6\", \"showlakes\": true, \"showland\": true, \"subunitcolor\": \"white\"}, \"hoverlabel\": {\"align\": \"left\"}, \"hovermode\": \"closest\", \"mapbox\": {\"style\": \"light\"}, \"paper_bgcolor\": \"white\", \"plot_bgcolor\": \"#E5ECF6\", \"polar\": {\"angularaxis\": {\"gridcolor\": \"white\", \"linecolor\": \"white\", \"ticks\": \"\"}, \"bgcolor\": \"#E5ECF6\", \"radialaxis\": {\"gridcolor\": \"white\", \"linecolor\": \"white\", \"ticks\": \"\"}}, \"scene\": {\"xaxis\": {\"backgroundcolor\": \"#E5ECF6\", \"gridcolor\": \"white\", \"gridwidth\": 2, \"linecolor\": \"white\", \"showbackground\": true, \"ticks\": \"\", \"zerolinecolor\": \"white\"}, \"yaxis\": {\"backgroundcolor\": \"#E5ECF6\", \"gridcolor\": \"white\", \"gridwidth\": 2, \"linecolor\": \"white\", \"showbackground\": true, \"ticks\": \"\", \"zerolinecolor\": \"white\"}, \"zaxis\": {\"backgroundcolor\": \"#E5ECF6\", \"gridcolor\": \"white\", \"gridwidth\": 2, \"linecolor\": \"white\", \"showbackground\": true, \"ticks\": \"\", \"zerolinecolor\": \"white\"}}, \"shapedefaults\": {\"line\": {\"color\": \"#2a3f5f\"}}, \"ternary\": {\"aaxis\": {\"gridcolor\": \"white\", \"linecolor\": \"white\", \"ticks\": \"\"}, \"baxis\": {\"gridcolor\": \"white\", \"linecolor\": \"white\", \"ticks\": \"\"}, \"bgcolor\": \"#E5ECF6\", \"caxis\": {\"gridcolor\": \"white\", \"linecolor\": \"white\", \"ticks\": \"\"}}, \"title\": {\"x\": 0.05}, \"xaxis\": {\"automargin\": true, \"gridcolor\": \"white\", \"linecolor\": \"white\", \"ticks\": \"\", \"title\": {\"standoff\": 15}, \"zerolinecolor\": \"white\", \"zerolinewidth\": 2}, \"yaxis\": {\"automargin\": true, \"gridcolor\": \"white\", \"linecolor\": \"white\", \"ticks\": \"\", \"title\": {\"standoff\": 15}, \"zerolinecolor\": \"white\", \"zerolinewidth\": 2}}}, \"xaxis\": {\"anchor\": \"y\", \"domain\": [0.0, 1.0], \"title\": {\"text\": \"Season\"}}, \"yaxis\": {\"anchor\": \"x\", \"domain\": [0.0, 1.0], \"title\": {\"text\": \"Number of lines\"}}},\n",
              "                        {\"responsive\": true}\n",
              "                    ).then(function(){\n",
              "                            \n",
              "var gd = document.getElementById('88a6c5eb-1187-409b-9049-ce96df50f538');\n",
              "var x = new MutationObserver(function (mutations, observer) {{\n",
              "        var display = window.getComputedStyle(gd).display;\n",
              "        if (!display || display === 'none') {{\n",
              "            console.log([gd, 'removed!']);\n",
              "            Plotly.purge(gd);\n",
              "            observer.disconnect();\n",
              "        }}\n",
              "}});\n",
              "\n",
              "// Listen for the removal of the full notebook cells\n",
              "var notebookContainer = gd.closest('#notebook-container');\n",
              "if (notebookContainer) {{\n",
              "    x.observe(notebookContainer, {childList: true});\n",
              "}}\n",
              "\n",
              "// Listen for the clearing of the current output cell\n",
              "var outputEl = gd.closest('.output');\n",
              "if (outputEl) {{\n",
              "    x.observe(outputEl, {childList: true});\n",
              "}}\n",
              "\n",
              "                        })\n",
              "                };\n",
              "                \n",
              "            </script>\n",
              "        </div>\n",
              "</body>\n",
              "</html>"
            ]
          },
          "metadata": {
            "tags": []
          }
        }
      ]
    },
    {
      "cell_type": "markdown",
      "metadata": {
        "id": "vnyk9yWEq2YB"
      },
      "source": [
        "####Code"
      ]
    },
    {
      "cell_type": "code",
      "metadata": {
        "id": "RYmodwt5YzA-"
      },
      "source": [
        "main_characters = [\"Ross\", \"Joey\",\"Chandler\",\"Phoebe\",\"Rachel\",\"Monica\"]"
      ],
      "execution_count": 18,
      "outputs": []
    },
    {
      "cell_type": "code",
      "metadata": {
        "id": "WxhUimDIYzA-"
      },
      "source": [
        "friends2= friends[friends.author.isin(main_characters)].drop(columns=['episode_number', 'episode_title', \"quote_order\"]).reset_index(drop = True)"
      ],
      "execution_count": 19,
      "outputs": []
    },
    {
      "cell_type": "code",
      "metadata": {
        "id": "pl1yWBz9YzA-"
      },
      "source": [
        "friends2[\"quote\"] = friends2[\"quote\"].str.replace(\"\\(([^)]+)\\)\",\"\").str.strip().str.lower().str.split(\"[.|!|?]\", expand = False)"
      ],
      "execution_count": 20,
      "outputs": []
    },
    {
      "cell_type": "code",
      "metadata": {
        "id": "JGHGRUFEYzA_"
      },
      "source": [
        "friends2 = friends2.explode(\"quote\")"
      ],
      "execution_count": 21,
      "outputs": []
    },
    {
      "cell_type": "code",
      "metadata": {
        "id": "0b9Eph_VYzA_"
      },
      "source": [
        "friends2.reset_index(drop = True, inplace = True)"
      ],
      "execution_count": 22,
      "outputs": []
    },
    {
      "cell_type": "code",
      "metadata": {
        "id": "I6lG74mBYzA_"
      },
      "source": [
        "scene = friends2[friends2[\"quote\"].str.contains(\"scene:\")].index.to_list()"
      ],
      "execution_count": 23,
      "outputs": []
    },
    {
      "cell_type": "code",
      "metadata": {
        "id": "rbLjxVuNYzBA"
      },
      "source": [
        "friends2 = friends2.drop(friends2.index[scene])"
      ],
      "execution_count": 24,
      "outputs": []
    },
    {
      "cell_type": "code",
      "metadata": {
        "id": "DiS9RSGyYzBA"
      },
      "source": [
        "friends2[\"quote\"] = friends2[\"quote\"].str.replace(\"[^a-zA-Z' ]\",\"\")"
      ],
      "execution_count": 25,
      "outputs": []
    },
    {
      "cell_type": "code",
      "metadata": {
        "id": "sh808VZVYzBA"
      },
      "source": [
        "friends2.reset_index(drop = True, inplace = True)"
      ],
      "execution_count": 26,
      "outputs": []
    },
    {
      "cell_type": "code",
      "metadata": {
        "id": "y1AHPdxlYzBB"
      },
      "source": [
        "indexes = [] #eliminamos celdas vacías\n",
        "for i in range(len(friends2[\"quote\"])):\n",
        "    if len(friends2[\"quote\"][i]) == 0:\n",
        "        indexes.append(i)"
      ],
      "execution_count": 27,
      "outputs": []
    },
    {
      "cell_type": "code",
      "metadata": {
        "id": "utOf823XYzBB"
      },
      "source": [
        "friends2 = friends2.drop(friends2.index[indexes]).reset_index(drop = True)"
      ],
      "execution_count": 28,
      "outputs": []
    },
    {
      "cell_type": "code",
      "metadata": {
        "id": "Wdl5irrtYzBB"
      },
      "source": [
        "friends2[\"quote\"] = friends2[\"quote\"].str.strip().str.replace(\"'\\s\",\"\").str.replace(\"'cause\",\"because\").str.replace(\"you know\",\"y'know\").str.replace(\"you are\",\"you're\").str.replace(\"come on\",\"c'mon\").str.replace(\"'kay\",\"okay\").str.replace(\"'em\",\"them\").str.replace(\"doin'\",\"doing\").str.replace(\"(ya)\",\"you\").str.replace(\"lemme\",\"let me\").str.replace(\"gonna\", \"going to\").str.replace(\"'\", \"\")"
      ],
      "execution_count": 29,
      "outputs": []
    },
    {
      "cell_type": "code",
      "metadata": {
        "id": "vaBBncH7YzBB"
      },
      "source": [
        "def polarity(x):\n",
        "    return TextBlob(x).polarity"
      ],
      "execution_count": 30,
      "outputs": []
    },
    {
      "cell_type": "code",
      "metadata": {
        "id": "fOZUgk18YzBC"
      },
      "source": [
        "def sentiment_analysis(x):\n",
        "    if x > 0.5: \n",
        "        x = \"Positive\"\n",
        "    elif x < -0.5:\n",
        "        x = \"Negative\"\n",
        "    else:\n",
        "        x = \"Neutral\"\n",
        "    return x\n",
        "#Less than 0 denotes Negative, I prefer to set < - 0.5\n",
        "#Equal to 0  denotes Neutral\n",
        "#Greater than 0 denotes Positive, I prefer to set > 0.5"
      ],
      "execution_count": 31,
      "outputs": []
    },
    {
      "cell_type": "code",
      "metadata": {
        "colab": {
          "base_uri": "https://localhost:8080/"
        },
        "id": "qD7FHsvkYzBC",
        "outputId": "052aeeba-71b6-4ec7-cb81-93a5b6921cad"
      },
      "source": [
        "#min_df ignore terms that have a document frequency strictly lower than the given threshold.\n",
        "vectorizer = CountVectorizer(min_df = 0.0002, ngram_range =(1,1))\n",
        "matrix = vectorizer.fit_transform(friends2[\"quote\"])\n",
        "matrix"
      ],
      "execution_count": 32,
      "outputs": [
        {
          "output_type": "execute_result",
          "data": {
            "text/plain": [
              "<88531x1625 sparse matrix of type '<class 'numpy.int64'>'\n",
              "\twith 424199 stored elements in Compressed Sparse Row format>"
            ]
          },
          "metadata": {
            "tags": []
          },
          "execution_count": 32
        }
      ]
    },
    {
      "cell_type": "code",
      "metadata": {
        "colab": {
          "base_uri": "https://localhost:8080/"
        },
        "id": "Emss3dCNYzBD",
        "outputId": "267303c4-5191-4654-93d2-70a2c1dc52cd"
      },
      "source": [
        "matrix.shape"
      ],
      "execution_count": 33,
      "outputs": [
        {
          "output_type": "execute_result",
          "data": {
            "text/plain": [
              "(88531, 1625)"
            ]
          },
          "metadata": {
            "tags": []
          },
          "execution_count": 33
        }
      ]
    },
    {
      "cell_type": "code",
      "metadata": {
        "id": "QFjdkbahYzBD"
      },
      "source": [
        "y = friends2.iloc[:, 0].values"
      ],
      "execution_count": 34,
      "outputs": []
    },
    {
      "cell_type": "code",
      "metadata": {
        "id": "CH1oPMUNYzBD"
      },
      "source": [
        "counts = pd.DataFrame(matrix.toarray(),index = list(y),\n",
        "                      columns=vectorizer.get_feature_names())"
      ],
      "execution_count": 35,
      "outputs": []
    },
    {
      "cell_type": "code",
      "metadata": {
        "colab": {
          "base_uri": "https://localhost:8080/",
          "height": 252
        },
        "id": "tFaDmLhOYzBD",
        "outputId": "efaf681e-233b-42f6-9c7b-23ae647e08bf"
      },
      "source": [
        "counts.head()"
      ],
      "execution_count": 36,
      "outputs": [
        {
          "output_type": "execute_result",
          "data": {
            "text/html": [
              "<div>\n",
              "<style scoped>\n",
              "    .dataframe tbody tr th:only-of-type {\n",
              "        vertical-align: middle;\n",
              "    }\n",
              "\n",
              "    .dataframe tbody tr th {\n",
              "        vertical-align: top;\n",
              "    }\n",
              "\n",
              "    .dataframe thead th {\n",
              "        text-align: right;\n",
              "    }\n",
              "</style>\n",
              "<table border=\"1\" class=\"dataframe\">\n",
              "  <thead>\n",
              "    <tr style=\"text-align: right;\">\n",
              "      <th></th>\n",
              "      <th>able</th>\n",
              "      <th>about</th>\n",
              "      <th>absolutely</th>\n",
              "      <th>accent</th>\n",
              "      <th>accept</th>\n",
              "      <th>accident</th>\n",
              "      <th>across</th>\n",
              "      <th>act</th>\n",
              "      <th>acting</th>\n",
              "      <th>actor</th>\n",
              "      <th>actual</th>\n",
              "      <th>actually</th>\n",
              "      <th>admit</th>\n",
              "      <th>advice</th>\n",
              "      <th>afraid</th>\n",
              "      <th>after</th>\n",
              "      <th>afternoon</th>\n",
              "      <th>again</th>\n",
              "      <th>against</th>\n",
              "      <th>age</th>\n",
              "      <th>agent</th>\n",
              "      <th>ago</th>\n",
              "      <th>agreed</th>\n",
              "      <th>ah</th>\n",
              "      <th>ahead</th>\n",
              "      <th>ahh</th>\n",
              "      <th>ahhh</th>\n",
              "      <th>air</th>\n",
              "      <th>airport</th>\n",
              "      <th>alive</th>\n",
              "      <th>all</th>\n",
              "      <th>allowed</th>\n",
              "      <th>almost</th>\n",
              "      <th>alone</th>\n",
              "      <th>along</th>\n",
              "      <th>already</th>\n",
              "      <th>alright</th>\n",
              "      <th>also</th>\n",
              "      <th>although</th>\n",
              "      <th>always</th>\n",
              "      <th>...</th>\n",
              "      <th>worked</th>\n",
              "      <th>working</th>\n",
              "      <th>works</th>\n",
              "      <th>world</th>\n",
              "      <th>worried</th>\n",
              "      <th>worry</th>\n",
              "      <th>worse</th>\n",
              "      <th>worst</th>\n",
              "      <th>worth</th>\n",
              "      <th>would</th>\n",
              "      <th>wouldnt</th>\n",
              "      <th>wouldve</th>\n",
              "      <th>wow</th>\n",
              "      <th>write</th>\n",
              "      <th>writing</th>\n",
              "      <th>wrong</th>\n",
              "      <th>wrote</th>\n",
              "      <th>yeah</th>\n",
              "      <th>yeahyeah</th>\n",
              "      <th>year</th>\n",
              "      <th>years</th>\n",
              "      <th>yelling</th>\n",
              "      <th>yep</th>\n",
              "      <th>yes</th>\n",
              "      <th>yesterday</th>\n",
              "      <th>yet</th>\n",
              "      <th>yknow</th>\n",
              "      <th>york</th>\n",
              "      <th>you</th>\n",
              "      <th>youd</th>\n",
              "      <th>youll</th>\n",
              "      <th>young</th>\n",
              "      <th>your</th>\n",
              "      <th>youre</th>\n",
              "      <th>youreyoure</th>\n",
              "      <th>yours</th>\n",
              "      <th>yourself</th>\n",
              "      <th>youve</th>\n",
              "      <th>youy</th>\n",
              "      <th>youyou</th>\n",
              "    </tr>\n",
              "  </thead>\n",
              "  <tbody>\n",
              "    <tr>\n",
              "      <th>Monica</th>\n",
              "      <td>0</td>\n",
              "      <td>0</td>\n",
              "      <td>0</td>\n",
              "      <td>0</td>\n",
              "      <td>0</td>\n",
              "      <td>0</td>\n",
              "      <td>0</td>\n",
              "      <td>0</td>\n",
              "      <td>0</td>\n",
              "      <td>0</td>\n",
              "      <td>0</td>\n",
              "      <td>0</td>\n",
              "      <td>0</td>\n",
              "      <td>0</td>\n",
              "      <td>0</td>\n",
              "      <td>0</td>\n",
              "      <td>0</td>\n",
              "      <td>0</td>\n",
              "      <td>0</td>\n",
              "      <td>0</td>\n",
              "      <td>0</td>\n",
              "      <td>0</td>\n",
              "      <td>0</td>\n",
              "      <td>0</td>\n",
              "      <td>0</td>\n",
              "      <td>0</td>\n",
              "      <td>0</td>\n",
              "      <td>0</td>\n",
              "      <td>0</td>\n",
              "      <td>0</td>\n",
              "      <td>0</td>\n",
              "      <td>0</td>\n",
              "      <td>0</td>\n",
              "      <td>0</td>\n",
              "      <td>0</td>\n",
              "      <td>0</td>\n",
              "      <td>0</td>\n",
              "      <td>0</td>\n",
              "      <td>0</td>\n",
              "      <td>0</td>\n",
              "      <td>...</td>\n",
              "      <td>0</td>\n",
              "      <td>0</td>\n",
              "      <td>0</td>\n",
              "      <td>0</td>\n",
              "      <td>0</td>\n",
              "      <td>0</td>\n",
              "      <td>0</td>\n",
              "      <td>0</td>\n",
              "      <td>0</td>\n",
              "      <td>0</td>\n",
              "      <td>0</td>\n",
              "      <td>0</td>\n",
              "      <td>0</td>\n",
              "      <td>0</td>\n",
              "      <td>0</td>\n",
              "      <td>0</td>\n",
              "      <td>0</td>\n",
              "      <td>0</td>\n",
              "      <td>0</td>\n",
              "      <td>0</td>\n",
              "      <td>0</td>\n",
              "      <td>0</td>\n",
              "      <td>0</td>\n",
              "      <td>0</td>\n",
              "      <td>0</td>\n",
              "      <td>0</td>\n",
              "      <td>0</td>\n",
              "      <td>0</td>\n",
              "      <td>0</td>\n",
              "      <td>0</td>\n",
              "      <td>0</td>\n",
              "      <td>0</td>\n",
              "      <td>0</td>\n",
              "      <td>0</td>\n",
              "      <td>0</td>\n",
              "      <td>0</td>\n",
              "      <td>0</td>\n",
              "      <td>0</td>\n",
              "      <td>0</td>\n",
              "      <td>0</td>\n",
              "    </tr>\n",
              "    <tr>\n",
              "      <th>Monica</th>\n",
              "      <td>0</td>\n",
              "      <td>0</td>\n",
              "      <td>0</td>\n",
              "      <td>0</td>\n",
              "      <td>0</td>\n",
              "      <td>0</td>\n",
              "      <td>0</td>\n",
              "      <td>0</td>\n",
              "      <td>0</td>\n",
              "      <td>0</td>\n",
              "      <td>0</td>\n",
              "      <td>0</td>\n",
              "      <td>0</td>\n",
              "      <td>0</td>\n",
              "      <td>0</td>\n",
              "      <td>0</td>\n",
              "      <td>0</td>\n",
              "      <td>0</td>\n",
              "      <td>0</td>\n",
              "      <td>0</td>\n",
              "      <td>0</td>\n",
              "      <td>0</td>\n",
              "      <td>0</td>\n",
              "      <td>0</td>\n",
              "      <td>0</td>\n",
              "      <td>0</td>\n",
              "      <td>0</td>\n",
              "      <td>0</td>\n",
              "      <td>0</td>\n",
              "      <td>0</td>\n",
              "      <td>0</td>\n",
              "      <td>0</td>\n",
              "      <td>0</td>\n",
              "      <td>0</td>\n",
              "      <td>0</td>\n",
              "      <td>0</td>\n",
              "      <td>0</td>\n",
              "      <td>0</td>\n",
              "      <td>0</td>\n",
              "      <td>0</td>\n",
              "      <td>...</td>\n",
              "      <td>0</td>\n",
              "      <td>0</td>\n",
              "      <td>0</td>\n",
              "      <td>0</td>\n",
              "      <td>0</td>\n",
              "      <td>0</td>\n",
              "      <td>0</td>\n",
              "      <td>0</td>\n",
              "      <td>0</td>\n",
              "      <td>0</td>\n",
              "      <td>0</td>\n",
              "      <td>0</td>\n",
              "      <td>0</td>\n",
              "      <td>0</td>\n",
              "      <td>0</td>\n",
              "      <td>0</td>\n",
              "      <td>0</td>\n",
              "      <td>0</td>\n",
              "      <td>0</td>\n",
              "      <td>0</td>\n",
              "      <td>0</td>\n",
              "      <td>0</td>\n",
              "      <td>0</td>\n",
              "      <td>0</td>\n",
              "      <td>0</td>\n",
              "      <td>0</td>\n",
              "      <td>0</td>\n",
              "      <td>0</td>\n",
              "      <td>0</td>\n",
              "      <td>0</td>\n",
              "      <td>0</td>\n",
              "      <td>0</td>\n",
              "      <td>0</td>\n",
              "      <td>0</td>\n",
              "      <td>0</td>\n",
              "      <td>0</td>\n",
              "      <td>0</td>\n",
              "      <td>0</td>\n",
              "      <td>0</td>\n",
              "      <td>0</td>\n",
              "    </tr>\n",
              "    <tr>\n",
              "      <th>Joey</th>\n",
              "      <td>0</td>\n",
              "      <td>0</td>\n",
              "      <td>0</td>\n",
              "      <td>0</td>\n",
              "      <td>0</td>\n",
              "      <td>0</td>\n",
              "      <td>0</td>\n",
              "      <td>0</td>\n",
              "      <td>0</td>\n",
              "      <td>0</td>\n",
              "      <td>0</td>\n",
              "      <td>0</td>\n",
              "      <td>0</td>\n",
              "      <td>0</td>\n",
              "      <td>0</td>\n",
              "      <td>0</td>\n",
              "      <td>0</td>\n",
              "      <td>0</td>\n",
              "      <td>0</td>\n",
              "      <td>0</td>\n",
              "      <td>0</td>\n",
              "      <td>0</td>\n",
              "      <td>0</td>\n",
              "      <td>0</td>\n",
              "      <td>0</td>\n",
              "      <td>0</td>\n",
              "      <td>0</td>\n",
              "      <td>0</td>\n",
              "      <td>0</td>\n",
              "      <td>0</td>\n",
              "      <td>0</td>\n",
              "      <td>0</td>\n",
              "      <td>0</td>\n",
              "      <td>0</td>\n",
              "      <td>0</td>\n",
              "      <td>0</td>\n",
              "      <td>0</td>\n",
              "      <td>0</td>\n",
              "      <td>0</td>\n",
              "      <td>0</td>\n",
              "      <td>...</td>\n",
              "      <td>0</td>\n",
              "      <td>0</td>\n",
              "      <td>0</td>\n",
              "      <td>0</td>\n",
              "      <td>0</td>\n",
              "      <td>0</td>\n",
              "      <td>0</td>\n",
              "      <td>0</td>\n",
              "      <td>0</td>\n",
              "      <td>0</td>\n",
              "      <td>0</td>\n",
              "      <td>0</td>\n",
              "      <td>0</td>\n",
              "      <td>0</td>\n",
              "      <td>0</td>\n",
              "      <td>0</td>\n",
              "      <td>0</td>\n",
              "      <td>0</td>\n",
              "      <td>0</td>\n",
              "      <td>0</td>\n",
              "      <td>0</td>\n",
              "      <td>0</td>\n",
              "      <td>0</td>\n",
              "      <td>0</td>\n",
              "      <td>0</td>\n",
              "      <td>0</td>\n",
              "      <td>0</td>\n",
              "      <td>0</td>\n",
              "      <td>0</td>\n",
              "      <td>0</td>\n",
              "      <td>0</td>\n",
              "      <td>0</td>\n",
              "      <td>0</td>\n",
              "      <td>1</td>\n",
              "      <td>0</td>\n",
              "      <td>0</td>\n",
              "      <td>0</td>\n",
              "      <td>0</td>\n",
              "      <td>0</td>\n",
              "      <td>0</td>\n",
              "    </tr>\n",
              "    <tr>\n",
              "      <th>Joey</th>\n",
              "      <td>0</td>\n",
              "      <td>0</td>\n",
              "      <td>0</td>\n",
              "      <td>0</td>\n",
              "      <td>0</td>\n",
              "      <td>0</td>\n",
              "      <td>0</td>\n",
              "      <td>0</td>\n",
              "      <td>0</td>\n",
              "      <td>0</td>\n",
              "      <td>0</td>\n",
              "      <td>0</td>\n",
              "      <td>0</td>\n",
              "      <td>0</td>\n",
              "      <td>0</td>\n",
              "      <td>0</td>\n",
              "      <td>0</td>\n",
              "      <td>0</td>\n",
              "      <td>0</td>\n",
              "      <td>0</td>\n",
              "      <td>0</td>\n",
              "      <td>0</td>\n",
              "      <td>0</td>\n",
              "      <td>0</td>\n",
              "      <td>0</td>\n",
              "      <td>0</td>\n",
              "      <td>0</td>\n",
              "      <td>0</td>\n",
              "      <td>0</td>\n",
              "      <td>0</td>\n",
              "      <td>0</td>\n",
              "      <td>0</td>\n",
              "      <td>0</td>\n",
              "      <td>0</td>\n",
              "      <td>0</td>\n",
              "      <td>0</td>\n",
              "      <td>0</td>\n",
              "      <td>0</td>\n",
              "      <td>0</td>\n",
              "      <td>0</td>\n",
              "      <td>...</td>\n",
              "      <td>0</td>\n",
              "      <td>0</td>\n",
              "      <td>0</td>\n",
              "      <td>0</td>\n",
              "      <td>0</td>\n",
              "      <td>0</td>\n",
              "      <td>0</td>\n",
              "      <td>0</td>\n",
              "      <td>0</td>\n",
              "      <td>0</td>\n",
              "      <td>0</td>\n",
              "      <td>0</td>\n",
              "      <td>0</td>\n",
              "      <td>0</td>\n",
              "      <td>0</td>\n",
              "      <td>1</td>\n",
              "      <td>0</td>\n",
              "      <td>0</td>\n",
              "      <td>0</td>\n",
              "      <td>0</td>\n",
              "      <td>0</td>\n",
              "      <td>0</td>\n",
              "      <td>0</td>\n",
              "      <td>0</td>\n",
              "      <td>0</td>\n",
              "      <td>0</td>\n",
              "      <td>0</td>\n",
              "      <td>0</td>\n",
              "      <td>0</td>\n",
              "      <td>0</td>\n",
              "      <td>0</td>\n",
              "      <td>0</td>\n",
              "      <td>0</td>\n",
              "      <td>0</td>\n",
              "      <td>0</td>\n",
              "      <td>0</td>\n",
              "      <td>0</td>\n",
              "      <td>0</td>\n",
              "      <td>0</td>\n",
              "      <td>0</td>\n",
              "    </tr>\n",
              "    <tr>\n",
              "      <th>Chandler</th>\n",
              "      <td>0</td>\n",
              "      <td>0</td>\n",
              "      <td>0</td>\n",
              "      <td>0</td>\n",
              "      <td>0</td>\n",
              "      <td>0</td>\n",
              "      <td>0</td>\n",
              "      <td>0</td>\n",
              "      <td>0</td>\n",
              "      <td>0</td>\n",
              "      <td>0</td>\n",
              "      <td>0</td>\n",
              "      <td>0</td>\n",
              "      <td>0</td>\n",
              "      <td>0</td>\n",
              "      <td>0</td>\n",
              "      <td>0</td>\n",
              "      <td>0</td>\n",
              "      <td>0</td>\n",
              "      <td>0</td>\n",
              "      <td>0</td>\n",
              "      <td>0</td>\n",
              "      <td>0</td>\n",
              "      <td>0</td>\n",
              "      <td>0</td>\n",
              "      <td>0</td>\n",
              "      <td>0</td>\n",
              "      <td>0</td>\n",
              "      <td>0</td>\n",
              "      <td>0</td>\n",
              "      <td>1</td>\n",
              "      <td>0</td>\n",
              "      <td>0</td>\n",
              "      <td>0</td>\n",
              "      <td>0</td>\n",
              "      <td>0</td>\n",
              "      <td>0</td>\n",
              "      <td>0</td>\n",
              "      <td>0</td>\n",
              "      <td>0</td>\n",
              "      <td>...</td>\n",
              "      <td>0</td>\n",
              "      <td>0</td>\n",
              "      <td>0</td>\n",
              "      <td>0</td>\n",
              "      <td>0</td>\n",
              "      <td>0</td>\n",
              "      <td>0</td>\n",
              "      <td>0</td>\n",
              "      <td>0</td>\n",
              "      <td>0</td>\n",
              "      <td>0</td>\n",
              "      <td>0</td>\n",
              "      <td>0</td>\n",
              "      <td>0</td>\n",
              "      <td>0</td>\n",
              "      <td>0</td>\n",
              "      <td>0</td>\n",
              "      <td>0</td>\n",
              "      <td>0</td>\n",
              "      <td>0</td>\n",
              "      <td>0</td>\n",
              "      <td>0</td>\n",
              "      <td>0</td>\n",
              "      <td>0</td>\n",
              "      <td>0</td>\n",
              "      <td>0</td>\n",
              "      <td>0</td>\n",
              "      <td>0</td>\n",
              "      <td>0</td>\n",
              "      <td>0</td>\n",
              "      <td>0</td>\n",
              "      <td>0</td>\n",
              "      <td>0</td>\n",
              "      <td>0</td>\n",
              "      <td>0</td>\n",
              "      <td>0</td>\n",
              "      <td>0</td>\n",
              "      <td>0</td>\n",
              "      <td>0</td>\n",
              "      <td>0</td>\n",
              "    </tr>\n",
              "  </tbody>\n",
              "</table>\n",
              "<p>5 rows × 1625 columns</p>\n",
              "</div>"
            ],
            "text/plain": [
              "          able  about  absolutely  accent  ...  yourself  youve  youy  youyou\n",
              "Monica       0      0           0       0  ...         0      0     0       0\n",
              "Monica       0      0           0       0  ...         0      0     0       0\n",
              "Joey         0      0           0       0  ...         0      0     0       0\n",
              "Joey         0      0           0       0  ...         0      0     0       0\n",
              "Chandler     0      0           0       0  ...         0      0     0       0\n",
              "\n",
              "[5 rows x 1625 columns]"
            ]
          },
          "metadata": {
            "tags": []
          },
          "execution_count": 36
        }
      ]
    },
    {
      "cell_type": "code",
      "metadata": {
        "id": "uPT2p7itYzBE"
      },
      "source": [
        "counts = counts.groupby(counts.index).sum()"
      ],
      "execution_count": 37,
      "outputs": []
    },
    {
      "cell_type": "code",
      "metadata": {
        "colab": {
          "base_uri": "https://localhost:8080/"
        },
        "id": "VBMSnTRPYzBE",
        "outputId": "0462d126-287a-43f0-ddc2-604c66560543"
      },
      "source": [
        "counts.T.columns"
      ],
      "execution_count": 38,
      "outputs": [
        {
          "output_type": "execute_result",
          "data": {
            "text/plain": [
              "Index(['Chandler', 'Joey', 'Monica', 'Phoebe', 'Rachel', 'Ross'], dtype='object')"
            ]
          },
          "metadata": {
            "tags": []
          },
          "execution_count": 38
        }
      ]
    },
    {
      "cell_type": "code",
      "metadata": {
        "colab": {
          "base_uri": "https://localhost:8080/",
          "height": 417
        },
        "id": "uq4KBf5dYzBF",
        "outputId": "c2c07e1d-995a-4698-8997-d3733b8b41d7"
      },
      "source": [
        "most_spoken_words = counts.T.reset_index()\n",
        "most_spoken_words"
      ],
      "execution_count": 39,
      "outputs": [
        {
          "output_type": "execute_result",
          "data": {
            "text/html": [
              "<div>\n",
              "<style scoped>\n",
              "    .dataframe tbody tr th:only-of-type {\n",
              "        vertical-align: middle;\n",
              "    }\n",
              "\n",
              "    .dataframe tbody tr th {\n",
              "        vertical-align: top;\n",
              "    }\n",
              "\n",
              "    .dataframe thead th {\n",
              "        text-align: right;\n",
              "    }\n",
              "</style>\n",
              "<table border=\"1\" class=\"dataframe\">\n",
              "  <thead>\n",
              "    <tr style=\"text-align: right;\">\n",
              "      <th></th>\n",
              "      <th>index</th>\n",
              "      <th>Chandler</th>\n",
              "      <th>Joey</th>\n",
              "      <th>Monica</th>\n",
              "      <th>Phoebe</th>\n",
              "      <th>Rachel</th>\n",
              "      <th>Ross</th>\n",
              "    </tr>\n",
              "  </thead>\n",
              "  <tbody>\n",
              "    <tr>\n",
              "      <th>0</th>\n",
              "      <td>able</td>\n",
              "      <td>11</td>\n",
              "      <td>10</td>\n",
              "      <td>9</td>\n",
              "      <td>8</td>\n",
              "      <td>11</td>\n",
              "      <td>16</td>\n",
              "    </tr>\n",
              "    <tr>\n",
              "      <th>1</th>\n",
              "      <td>about</td>\n",
              "      <td>339</td>\n",
              "      <td>406</td>\n",
              "      <td>379</td>\n",
              "      <td>319</td>\n",
              "      <td>379</td>\n",
              "      <td>398</td>\n",
              "    </tr>\n",
              "    <tr>\n",
              "      <th>2</th>\n",
              "      <td>absolutely</td>\n",
              "      <td>9</td>\n",
              "      <td>11</td>\n",
              "      <td>17</td>\n",
              "      <td>9</td>\n",
              "      <td>25</td>\n",
              "      <td>11</td>\n",
              "    </tr>\n",
              "    <tr>\n",
              "      <th>3</th>\n",
              "      <td>accent</td>\n",
              "      <td>2</td>\n",
              "      <td>5</td>\n",
              "      <td>4</td>\n",
              "      <td>2</td>\n",
              "      <td>1</td>\n",
              "      <td>5</td>\n",
              "    </tr>\n",
              "    <tr>\n",
              "      <th>4</th>\n",
              "      <td>accept</td>\n",
              "      <td>5</td>\n",
              "      <td>0</td>\n",
              "      <td>4</td>\n",
              "      <td>2</td>\n",
              "      <td>3</td>\n",
              "      <td>7</td>\n",
              "    </tr>\n",
              "    <tr>\n",
              "      <th>...</th>\n",
              "      <td>...</td>\n",
              "      <td>...</td>\n",
              "      <td>...</td>\n",
              "      <td>...</td>\n",
              "      <td>...</td>\n",
              "      <td>...</td>\n",
              "      <td>...</td>\n",
              "    </tr>\n",
              "    <tr>\n",
              "      <th>1620</th>\n",
              "      <td>yours</td>\n",
              "      <td>16</td>\n",
              "      <td>13</td>\n",
              "      <td>14</td>\n",
              "      <td>13</td>\n",
              "      <td>12</td>\n",
              "      <td>12</td>\n",
              "    </tr>\n",
              "    <tr>\n",
              "      <th>1621</th>\n",
              "      <td>yourself</td>\n",
              "      <td>20</td>\n",
              "      <td>16</td>\n",
              "      <td>28</td>\n",
              "      <td>26</td>\n",
              "      <td>20</td>\n",
              "      <td>20</td>\n",
              "    </tr>\n",
              "    <tr>\n",
              "      <th>1622</th>\n",
              "      <td>youve</td>\n",
              "      <td>40</td>\n",
              "      <td>34</td>\n",
              "      <td>40</td>\n",
              "      <td>37</td>\n",
              "      <td>47</td>\n",
              "      <td>45</td>\n",
              "    </tr>\n",
              "    <tr>\n",
              "      <th>1623</th>\n",
              "      <td>youy</td>\n",
              "      <td>3</td>\n",
              "      <td>0</td>\n",
              "      <td>5</td>\n",
              "      <td>29</td>\n",
              "      <td>6</td>\n",
              "      <td>10</td>\n",
              "    </tr>\n",
              "    <tr>\n",
              "      <th>1624</th>\n",
              "      <td>youyou</td>\n",
              "      <td>12</td>\n",
              "      <td>18</td>\n",
              "      <td>18</td>\n",
              "      <td>3</td>\n",
              "      <td>16</td>\n",
              "      <td>37</td>\n",
              "    </tr>\n",
              "  </tbody>\n",
              "</table>\n",
              "<p>1625 rows × 7 columns</p>\n",
              "</div>"
            ],
            "text/plain": [
              "           index  Chandler  Joey  Monica  Phoebe  Rachel  Ross\n",
              "0           able        11    10       9       8      11    16\n",
              "1          about       339   406     379     319     379   398\n",
              "2     absolutely         9    11      17       9      25    11\n",
              "3         accent         2     5       4       2       1     5\n",
              "4         accept         5     0       4       2       3     7\n",
              "...          ...       ...   ...     ...     ...     ...   ...\n",
              "1620       yours        16    13      14      13      12    12\n",
              "1621    yourself        20    16      28      26      20    20\n",
              "1622       youve        40    34      40      37      47    45\n",
              "1623        youy         3     0       5      29       6    10\n",
              "1624      youyou        12    18      18       3      16    37\n",
              "\n",
              "[1625 rows x 7 columns]"
            ]
          },
          "metadata": {
            "tags": []
          },
          "execution_count": 39
        }
      ]
    },
    {
      "cell_type": "code",
      "metadata": {
        "colab": {
          "base_uri": "https://localhost:8080/"
        },
        "id": "66q-cNrrYzBG",
        "outputId": "60c5d6a2-fc03-43c8-87f6-a0c6352b0d2c"
      },
      "source": [
        "nltk.download('stopwords')\n",
        "stop_words = stopwords.words('english')"
      ],
      "execution_count": 40,
      "outputs": [
        {
          "output_type": "stream",
          "text": [
            "[nltk_data] Downloading package stopwords to /root/nltk_data...\n",
            "[nltk_data]   Unzipping corpora/stopwords.zip.\n"
          ],
          "name": "stdout"
        }
      ]
    },
    {
      "cell_type": "code",
      "metadata": {
        "id": "UFPv1uL2YzBG"
      },
      "source": [
        "most_spoken_words[\"sentiment\"] = most_spoken_words[\"index\"].apply(polarity).apply(sentiment_analysis)"
      ],
      "execution_count": 41,
      "outputs": []
    },
    {
      "cell_type": "code",
      "metadata": {
        "id": "IPsPOa_rYzBG"
      },
      "source": [
        "most_spoken_words.drop(most_spoken_words[most_spoken_words[\"index\"].isin(stop_words)].index,inplace = True)"
      ],
      "execution_count": 42,
      "outputs": []
    },
    {
      "cell_type": "code",
      "metadata": {
        "id": "FHcm1njOYzBG"
      },
      "source": [
        "most_spoken_words.drop(most_spoken_words[most_spoken_words[\"sentiment\"]==\"Neutral\"].index,inplace = True)"
      ],
      "execution_count": 43,
      "outputs": []
    },
    {
      "cell_type": "code",
      "metadata": {
        "id": "yPQ3nzjSYzBH"
      },
      "source": [
        "most_spoken_words.set_index(['index','sentiment'], inplace = True)"
      ],
      "execution_count": 44,
      "outputs": []
    },
    {
      "cell_type": "markdown",
      "metadata": {
        "id": "K9WN3iVZYzA-"
      },
      "source": [
        "#**¿Quién de los 6 personajes principales es más positivo/negativo?**"
      ]
    },
    {
      "cell_type": "markdown",
      "metadata": {
        "id": "nDXbliVNt0UI"
      },
      "source": [
        "![alt text](https://media.giphy.com/media/31lPv5L3aIvTi/giphy.gif)\n",
        "\n",
        "Image from [Giphy](https://giphy.com/)\n"
      ]
    },
    {
      "cell_type": "code",
      "metadata": {
        "colab": {
          "base_uri": "https://localhost:8080/",
          "height": 574,
          "referenced_widgets": [
            "65ee28d649074b0c8e0b276eb318c6cb",
            "43b491ccfa894df7bd9b56d1473fbb1c",
            "c1ce17e575274a7cb6168ba4377919dc",
            "745234ab188642d8b8209f9f817a4ea3",
            "e5aaa5a747b0459881328af6711f29d7",
            "04e3ecf4393c4267be62652680f5048b",
            "8b8a4e6f0b3f4fb190ec778d015b4092"
          ]
        },
        "id": "6XaP9t7nYzBH",
        "cellView": "form",
        "outputId": "589de5c9-d42c-4ae5-db6c-9a8044fcabca"
      },
      "source": [
        "#@title\n",
        "@interact(actor =list(most_spoken_words.columns))\n",
        "def sentiment(actor):\n",
        "    x = pd.DataFrame(most_spoken_words.loc[:,actor]).reset_index()\n",
        "    positive = x[x.sentiment == \"Positive\"].sort_values(by = actor, ascending = False).head(10)\n",
        "    negative = x[x.sentiment == \"Negative\"].sort_values(by = actor, ascending = False).head(10)\n",
        "    negative[actor] = negative[actor] * -1\n",
        "    sa_ch = pd.concat([positive,negative])\n",
        "    gfg = sa_ch.pivot_table(sa_ch,index='index', columns='sentiment', fill_value = 0)\n",
        "    gfg.columns = gfg.columns.droplevel(0)\n",
        "    gfg = gfg.sort_values(['Positive','Negative'], ascending = True)\n",
        "    \n",
        "    Diverging = go.Figure()\n",
        "    Diverging.add_trace(go.Bar(x=gfg[\"Negative\"],\n",
        "                               y=gfg.index,\n",
        "                               orientation='h',\n",
        "                               name=\"Negative\",\n",
        "                               hovertemplate=\"%{y}: %{x}\"))\n",
        "\n",
        "    Diverging.add_trace(go.Bar(x=gfg[\"Positive\"],\n",
        "                               y=gfg.index,\n",
        "                               orientation='h',\n",
        "                               name=\"Positive\",\n",
        "                               hovertemplate=\"%{y}: %{x}\"))\n",
        "\n",
        "    Diverging.update_layout(title_text= f\"{actor}'s Sentiment Analysis\")\n",
        "    Diverging.show()"
      ],
      "execution_count": 45,
      "outputs": [
        {
          "output_type": "display_data",
          "data": {
            "application/vnd.jupyter.widget-view+json": {
              "model_id": "65ee28d649074b0c8e0b276eb318c6cb",
              "version_minor": 0,
              "version_major": 2
            },
            "text/plain": [
              "interactive(children=(Dropdown(description='actor', options=('Chandler', 'Joey', 'Monica', 'Phoebe', 'Rachel',…"
            ]
          },
          "metadata": {
            "tags": []
          }
        }
      ]
    },
    {
      "cell_type": "markdown",
      "metadata": {
        "id": "iqfcvr4Ck3z5"
      },
      "source": [
        "#**NLP (Procesamiento del Lenguaje Natural)**"
      ]
    },
    {
      "cell_type": "markdown",
      "metadata": {
        "id": "Jps1qUQJITWR"
      },
      "source": [
        "![flow.PNG](data:image/png;base64,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)"
      ]
    },
    {
      "cell_type": "markdown",
      "metadata": {
        "id": "CWi5Ew4AHhNu"
      },
      "source": [
        "#**Clasificador de \"quotes\": ¿Quién ha dicho qué?**"
      ]
    },
    {
      "cell_type": "markdown",
      "metadata": {
        "id": "BMF5fkVAJZSm"
      },
      "source": [
        "![alt text](https://media.giphy.com/media/EU1obAC38GuWI/giphy.gif)\n",
        "\n",
        "Image from [Giphy](https://giphy.com/)\n"
      ]
    },
    {
      "cell_type": "markdown",
      "metadata": {
        "id": "tIP7YuCXSbc3"
      },
      "source": [
        "####Code"
      ]
    },
    {
      "cell_type": "code",
      "metadata": {
        "id": "6BPT0BJlTHb9"
      },
      "source": [
        "tfidf = TfidfVectorizer(min_df = 0.0005, ngram_range =(1,3))"
      ],
      "execution_count": 46,
      "outputs": []
    },
    {
      "cell_type": "code",
      "metadata": {
        "id": "p7XKTO4WTB90"
      },
      "source": [
        "X1 = tfidf.fit_transform(friends2[friends2.author.isin((\"Ross\", \"Rachel\"))][\"quote\"])\n",
        "y1 = friends2[friends2.author.isin((\"Ross\", \"Rachel\"))][\"author\"].values"
      ],
      "execution_count": 47,
      "outputs": []
    },
    {
      "cell_type": "code",
      "metadata": {
        "colab": {
          "base_uri": "https://localhost:8080/"
        },
        "id": "f0QyJ7fbDs-z",
        "outputId": "15a9cac9-775a-4ca5-e229-dc0d78182e20"
      },
      "source": [
        "X1.shape"
      ],
      "execution_count": 48,
      "outputs": [
        {
          "output_type": "execute_result",
          "data": {
            "text/plain": [
              "(32402, 2041)"
            ]
          },
          "metadata": {
            "tags": []
          },
          "execution_count": 48
        }
      ]
    },
    {
      "cell_type": "code",
      "metadata": {
        "colab": {
          "base_uri": "https://localhost:8080/"
        },
        "id": "xSW2bzkW_nCU",
        "outputId": "8890eeae-df89-4d1d-b9c1-77dae37aa876"
      },
      "source": [
        "y1.shape"
      ],
      "execution_count": 49,
      "outputs": [
        {
          "output_type": "execute_result",
          "data": {
            "text/plain": [
              "(32402,)"
            ]
          },
          "metadata": {
            "tags": []
          },
          "execution_count": 49
        }
      ]
    },
    {
      "cell_type": "code",
      "metadata": {
        "id": "8JJkh7K5SiE_"
      },
      "source": [
        "X1_train, X1_test, y1_train, y1_test = train_test_split(X1, y1, test_size = 0.20, random_state = 0)"
      ],
      "execution_count": 50,
      "outputs": []
    },
    {
      "cell_type": "code",
      "metadata": {
        "colab": {
          "base_uri": "https://localhost:8080/"
        },
        "id": "aleTAEy5TwFf",
        "outputId": "b98734cb-0d9d-489f-91b2-8ed76b759437"
      },
      "source": [
        "X1_train.shape"
      ],
      "execution_count": 51,
      "outputs": [
        {
          "output_type": "execute_result",
          "data": {
            "text/plain": [
              "(25921, 2041)"
            ]
          },
          "metadata": {
            "tags": []
          },
          "execution_count": 51
        }
      ]
    },
    {
      "cell_type": "code",
      "metadata": {
        "colab": {
          "base_uri": "https://localhost:8080/"
        },
        "id": "_oPVKJQ_TwQa",
        "outputId": "95980c88-e5b5-4761-e343-512add2d7c96"
      },
      "source": [
        "neigh = KNeighborsClassifier(n_neighbors=5, algorithm = \"brute\")\n",
        "neigh.fit(X1_train, y1_train)"
      ],
      "execution_count": 52,
      "outputs": [
        {
          "output_type": "execute_result",
          "data": {
            "text/plain": [
              "KNeighborsClassifier(algorithm='brute', leaf_size=30, metric='minkowski',\n",
              "                     metric_params=None, n_jobs=None, n_neighbors=5, p=2,\n",
              "                     weights='uniform')"
            ]
          },
          "metadata": {
            "tags": []
          },
          "execution_count": 52
        }
      ]
    },
    {
      "cell_type": "code",
      "metadata": {
        "id": "Hp5hYl_WTwI7"
      },
      "source": [
        "y1_pred = neigh.predict(X1_test)"
      ],
      "execution_count": 53,
      "outputs": []
    },
    {
      "cell_type": "code",
      "metadata": {
        "colab": {
          "base_uri": "https://localhost:8080/"
        },
        "id": "3HcqODUqHgC9",
        "outputId": "b190c05b-14f2-448a-b616-d22cb3ddd6b0"
      },
      "source": [
        "print(classification_report(y1_test, y1_pred))"
      ],
      "execution_count": 54,
      "outputs": [
        {
          "output_type": "stream",
          "text": [
            "              precision    recall  f1-score   support\n",
            "\n",
            "      Rachel       0.54      0.57      0.55      3227\n",
            "        Ross       0.55      0.52      0.53      3254\n",
            "\n",
            "    accuracy                           0.54      6481\n",
            "   macro avg       0.54      0.54      0.54      6481\n",
            "weighted avg       0.54      0.54      0.54      6481\n",
            "\n"
          ],
          "name": "stdout"
        }
      ]
    },
    {
      "cell_type": "markdown",
      "metadata": {
        "id": "fNDJO3u6VVBA"
      },
      "source": [
        "#**Confusion Matrix with two Characters: Ross & Rachel**"
      ]
    },
    {
      "cell_type": "code",
      "metadata": {
        "colab": {
          "base_uri": "https://localhost:8080/",
          "height": 276
        },
        "id": "GNzoW7DlUMkg",
        "cellView": "form",
        "outputId": "d77adbf4-f2bf-4372-ebbf-f3e34ee3069a"
      },
      "source": [
        "#@title\n",
        "cm = confusion_matrix(y1_test, y1_pred)\n",
        "plt.figure(figsize = (4,4))\n",
        "palette = [\"yellow\",\"red\",\"blue\",\"black\"]\n",
        "_ = sns.heatmap(cm, annot = True, fmt='g', cmap = palette, linecolor = \"black\", linewidths=0.5)"
      ],
      "execution_count": 55,
      "outputs": [
        {
          "output_type": "display_data",
          "data": {
            "image/png": "[encoded data removed]",
            "text/plain": [
              "<Figure size 288x288 with 2 Axes>"
            ]
          },
          "metadata": {
            "tags": []
          }
        }
      ]
    },
    {
      "cell_type": "markdown",
      "metadata": {
        "id": "iTOUjYfNUpsI"
      },
      "source": [
        "####Code"
      ]
    },
    {
      "cell_type": "code",
      "metadata": {
        "id": "Tph2iX-9Mvlv"
      },
      "source": [
        "tfidf = TfidfVectorizer(min_df = 0.0005, ngram_range =(1,3))"
      ],
      "execution_count": 56,
      "outputs": []
    },
    {
      "cell_type": "code",
      "metadata": {
        "id": "hmE8jDCVOAWP"
      },
      "source": [
        "X2 = tfidf.fit_transform(friends2[\"quote\"])\n",
        "y2 = friends2[\"author\"].values"
      ],
      "execution_count": 57,
      "outputs": []
    },
    {
      "cell_type": "code",
      "metadata": {
        "id": "CxyoHd7SOAeV"
      },
      "source": [
        "X2_train, X2_test, y2_train, y2_test = train_test_split(X2, y2, test_size = 0.20, random_state = 0)"
      ],
      "execution_count": 58,
      "outputs": []
    },
    {
      "cell_type": "code",
      "metadata": {
        "colab": {
          "base_uri": "https://localhost:8080/"
        },
        "id": "myqK-KSpOAiW",
        "outputId": "b679c8c3-e380-4e9a-be01-8c14a0e4e46a"
      },
      "source": [
        "X2_train.shape"
      ],
      "execution_count": 59,
      "outputs": [
        {
          "output_type": "execute_result",
          "data": {
            "text/plain": [
              "(70824, 2029)"
            ]
          },
          "metadata": {
            "tags": []
          },
          "execution_count": 59
        }
      ]
    },
    {
      "cell_type": "code",
      "metadata": {
        "colab": {
          "base_uri": "https://localhost:8080/"
        },
        "id": "4QIkCGynOAo8",
        "outputId": "1b32a261-715e-478e-fd20-a02a46273627"
      },
      "source": [
        "neigh = KNeighborsClassifier(n_neighbors=5, algorithm = \"brute\")\n",
        "neigh.fit(X2_train, y2_train)"
      ],
      "execution_count": 60,
      "outputs": [
        {
          "output_type": "execute_result",
          "data": {
            "text/plain": [
              "KNeighborsClassifier(algorithm='brute', leaf_size=30, metric='minkowski',\n",
              "                     metric_params=None, n_jobs=None, n_neighbors=5, p=2,\n",
              "                     weights='uniform')"
            ]
          },
          "metadata": {
            "tags": []
          },
          "execution_count": 60
        }
      ]
    },
    {
      "cell_type": "code",
      "metadata": {
        "id": "1pnXBDwyQ-Fd"
      },
      "source": [
        "y2_pred = neigh.predict(X2_test)"
      ],
      "execution_count": 61,
      "outputs": []
    },
    {
      "cell_type": "code",
      "metadata": {
        "colab": {
          "base_uri": "https://localhost:8080/"
        },
        "id": "LRp3qtbeHuKd",
        "outputId": "585c932e-a264-4829-a669-721132c275e2"
      },
      "source": [
        "print(classification_report(y2_test, y2_pred))"
      ],
      "execution_count": 62,
      "outputs": [
        {
          "output_type": "stream",
          "text": [
            "              precision    recall  f1-score   support\n",
            "\n",
            "    Chandler       0.19      0.29      0.23      2751\n",
            "        Joey       0.21      0.26      0.23      3035\n",
            "      Monica       0.19      0.18      0.19      2742\n",
            "      Phoebe       0.21      0.16      0.18      2803\n",
            "      Rachel       0.24      0.17      0.20      3236\n",
            "        Ross       0.22      0.18      0.20      3140\n",
            "\n",
            "    accuracy                           0.21     17707\n",
            "   macro avg       0.21      0.21      0.20     17707\n",
            "weighted avg       0.21      0.21      0.20     17707\n",
            "\n"
          ],
          "name": "stdout"
        }
      ]
    },
    {
      "cell_type": "markdown",
      "metadata": {
        "id": "OdMGtB2jWwCM"
      },
      "source": [
        "#**Confusion Matrix with the 6 main characters**"
      ]
    },
    {
      "cell_type": "code",
      "metadata": {
        "colab": {
          "base_uri": "https://localhost:8080/",
          "height": 388
        },
        "id": "JiE0qPe8RRj8",
        "cellView": "form",
        "outputId": "84f3b685-a1a3-4d05-d1c8-e484d054dada"
      },
      "source": [
        "#@title\n",
        "cm = confusion_matrix(y2_test, y2_pred)\n",
        "plt.figure(figsize = (6,6))\n",
        "palette = [\"yellow\",\"red\",\"blue\",\"black\"]\n",
        "_ = sns.heatmap(cm, annot = True, fmt='g', cmap = palette, linecolor = \"black\", linewidths=0.5)"
      ],
      "execution_count": 63,
      "outputs": [
        {
          "output_type": "display_data",
          "data": {
            "image/png": "[encoded data removed]",
            "text/plain": [
              "<Figure size 432x432 with 2 Axes>"
            ]
          },
          "metadata": {
            "tags": []
          }
        }
      ]
    },
    {
      "cell_type": "markdown",
      "metadata": {
        "id": "3f8gn9DH4I-n"
      },
      "source": [
        "#### Code"
      ]
    },
    {
      "cell_type": "markdown",
      "metadata": {
        "id": "dGBxdo1ThsXh"
      },
      "source": [
        "I used the code from this article:\n",
        "\n",
        "https://towardsdatascience.com/make-your-own-rick-sanchez-bot-with-transformers-and-dialogpt-fine-tuning-f85e6d1f4e30"
      ]
    },
    {
      "cell_type": "code",
      "metadata": {
        "colab": {
          "base_uri": "https://localhost:8080/"
        },
        "id": "AovOVTTC471N",
        "outputId": "63102a39-9d3f-4d95-9dcb-e3f25bcb8b98"
      },
      "source": [
        "!pip install transformers"
      ],
      "execution_count": 64,
      "outputs": [
        {
          "output_type": "stream",
          "text": [
            "Collecting transformers\n",
            "  Downloading transformers-4.9.1-py3-none-any.whl (2.6 MB)\n",
            "\u001b[K     |████████████████████████████████| 2.6 MB 37.7 MB/s \n",
            "\u001b[?25hRequirement already satisfied: tqdm>=4.27 in /usr/local/lib/python3.7/dist-packages (from transformers) (4.41.1)\n",
            "Requirement already satisfied: requests in /usr/local/lib/python3.7/dist-packages (from transformers) (2.23.0)\n",
            "Requirement already satisfied: regex!=2019.12.17 in /usr/local/lib/python3.7/dist-packages (from transformers) (2019.12.20)\n",
            "Collecting tokenizers<0.11,>=0.10.1\n",
            "  Downloading tokenizers-0.10.3-cp37-cp37m-manylinux_2_5_x86_64.manylinux1_x86_64.manylinux_2_12_x86_64.manylinux2010_x86_64.whl (3.3 MB)\n",
            "\u001b[K     |████████████████████████████████| 3.3 MB 47.0 MB/s \n",
            "\u001b[?25hRequirement already satisfied: numpy>=1.17 in /usr/local/lib/python3.7/dist-packages (from transformers) (1.19.5)\n",
            "Collecting pyyaml>=5.1\n",
            "  Downloading PyYAML-5.4.1-cp37-cp37m-manylinux1_x86_64.whl (636 kB)\n",
            "\u001b[K     |████████████████████████████████| 636 kB 47.8 MB/s \n",
            "\u001b[?25hRequirement already satisfied: importlib-metadata in /usr/local/lib/python3.7/dist-packages (from transformers) (4.6.1)\n",
            "Collecting huggingface-hub==0.0.12\n",
            "  Downloading huggingface_hub-0.0.12-py3-none-any.whl (37 kB)\n",
            "Requirement already satisfied: filelock in /usr/local/lib/python3.7/dist-packages (from transformers) (3.0.12)\n",
            "Requirement already satisfied: packaging in /usr/local/lib/python3.7/dist-packages (from transformers) (21.0)\n",
            "Collecting sacremoses\n",
            "  Downloading sacremoses-0.0.45-py3-none-any.whl (895 kB)\n",
            "\u001b[K     |████████████████████████████████| 895 kB 28.9 MB/s \n",
            "\u001b[?25hRequirement already satisfied: typing-extensions in /usr/local/lib/python3.7/dist-packages (from huggingface-hub==0.0.12->transformers) (3.7.4.3)\n",
            "Requirement already satisfied: pyparsing>=2.0.2 in /usr/local/lib/python3.7/dist-packages (from packaging->transformers) (2.4.7)\n",
            "Requirement already satisfied: zipp>=0.5 in /usr/local/lib/python3.7/dist-packages (from importlib-metadata->transformers) (3.5.0)\n",
            "Requirement already satisfied: idna<3,>=2.5 in /usr/local/lib/python3.7/dist-packages (from requests->transformers) (2.10)\n",
            "Requirement already satisfied: urllib3!=1.25.0,!=1.25.1,<1.26,>=1.21.1 in /usr/local/lib/python3.7/dist-packages (from requests->transformers) (1.24.3)\n",
            "Requirement already satisfied: certifi>=2017.4.17 in /usr/local/lib/python3.7/dist-packages (from requests->transformers) (2021.5.30)\n",
            "Requirement already satisfied: chardet<4,>=3.0.2 in /usr/local/lib/python3.7/dist-packages (from requests->transformers) (3.0.4)\n",
            "Requirement already satisfied: joblib in /usr/local/lib/python3.7/dist-packages (from sacremoses->transformers) (1.0.1)\n",
            "Requirement already satisfied: click in /usr/local/lib/python3.7/dist-packages (from sacremoses->transformers) (7.1.2)\n",
            "Requirement already satisfied: six in /usr/local/lib/python3.7/dist-packages (from sacremoses->transformers) (1.15.0)\n",
            "Installing collected packages: tokenizers, sacremoses, pyyaml, huggingface-hub, transformers\n",
            "  Attempting uninstall: pyyaml\n",
            "    Found existing installation: PyYAML 3.13\n",
            "    Uninstalling PyYAML-3.13:\n",
            "      Successfully uninstalled PyYAML-3.13\n",
            "Successfully installed huggingface-hub-0.0.12 pyyaml-5.4.1 sacremoses-0.0.45 tokenizers-0.10.3 transformers-4.9.1\n"
          ],
          "name": "stdout"
        }
      ]
    },
    {
      "cell_type": "code",
      "metadata": {
        "id": "SIZR5C3u20_8"
      },
      "source": [
        "import glob\n",
        "import logging\n",
        "import os\n",
        "import pickle\n",
        "import random\n",
        "import re\n",
        "import shutil\n",
        "from typing import Dict, List, Tuple\n",
        "\n",
        "import pandas as pd\n",
        "import numpy as np\n",
        "import torch\n",
        "\n",
        "from sklearn.model_selection import train_test_split\n",
        "\n",
        "from torch.nn.utils.rnn import pad_sequence\n",
        "from torch.utils.data import DataLoader, Dataset, RandomSampler, SequentialSampler\n",
        "from torch.utils.data.distributed import DistributedSampler\n",
        "from tqdm.notebook import tqdm, trange\n",
        "\n",
        "from pathlib import Path\n",
        "\n",
        "from transformers import (\n",
        "    MODEL_WITH_LM_HEAD_MAPPING,\n",
        "    WEIGHTS_NAME,\n",
        "    AdamW,\n",
        "    AutoConfig,\n",
        "    AutoModelWithLMHead,\n",
        "    AutoTokenizer,\n",
        "    PreTrainedModel,\n",
        "    PreTrainedTokenizer,\n",
        "    get_linear_schedule_with_warmup,\n",
        ")\n",
        "\n",
        "\n",
        "try:\n",
        "    from torch.utils.tensorboard import SummaryWriter\n",
        "except ImportError:\n",
        "    from tensorboardX import SummaryWriter\n",
        "\n",
        "# Configs\n",
        "logger = logging.getLogger(__name__)\n",
        "\n",
        "MODEL_CONFIG_CLASSES = list(MODEL_WITH_LM_HEAD_MAPPING.keys())\n",
        "MODEL_TYPES = tuple(conf.model_type for conf in MODEL_CONFIG_CLASSES)\n"
      ],
      "execution_count": 65,
      "outputs": []
    },
    {
      "cell_type": "code",
      "metadata": {
        "id": "CVKyyfOm21Eg"
      },
      "source": [
        "class Args():\n",
        "    def __init__(self):\n",
        "        self.output_dir = '/content/gdrive/MyDrive/Colab Notebooks/output-small'\n",
        "        self.model_type = 'gpt2'\n",
        "        self.model_name_or_path = 'microsoft/DialoGPT-medium' \n",
        "        self.config_name = 'microsoft/DialoGPT-medium'\n",
        "        self.tokenizer_name = 'microsoft/DialoGPT-medium'\n",
        "        self.cache_dir = 'cached'\n",
        "        self.block_size = 512\n",
        "        self.do_train = True\n",
        "        self.do_eval = True\n",
        "        self.evaluate_during_training = False\n",
        "        self.per_gpu_train_batch_size = 4\n",
        "        self.per_gpu_eval_batch_size = 4\n",
        "        self.gradient_accumulation_steps = 1\n",
        "        self.learning_rate = 5e-5\n",
        "        self.weight_decay = 0.0\n",
        "        self.adam_epsilon = 1e-8\n",
        "        self.max_grad_norm = 1.0\n",
        "        self.num_train_epochs = 5\n",
        "        self.max_steps = -1\n",
        "        self.warmup_steps = 0\n",
        "        self.logging_steps = 1000\n",
        "        self.save_steps = 3500\n",
        "        self.save_total_limit = None\n",
        "        self.eval_all_checkpoints = False\n",
        "        self.no_cuda = False\n",
        "        self.overwrite_output_dir = True\n",
        "        self.overwrite_cache = True\n",
        "        self.should_continue = False\n",
        "        self.seed = 42\n",
        "        self.local_rank = -1\n",
        "        self.fp16 = False\n",
        "        self.fp16_opt_level = 'O1'\n",
        "\n",
        "args = Args()"
      ],
      "execution_count": 66,
      "outputs": []
    },
    {
      "cell_type": "code",
      "metadata": {
        "id": "QcLj-28y21KC"
      },
      "source": [
        "script_ross = pd.read_excel('/content/gdrive/MyDrive/Colab Notebooks/script_ross.xlsx')"
      ],
      "execution_count": 67,
      "outputs": []
    },
    {
      "cell_type": "code",
      "metadata": {
        "colab": {
          "base_uri": "https://localhost:8080/",
          "height": 0
        },
        "id": "AqQZSvCt21PG",
        "outputId": "2d6e80ec-466e-48ea-f113-85b793201a50"
      },
      "source": [
        "script_ross.head()"
      ],
      "execution_count": 68,
      "outputs": [
        {
          "output_type": "execute_result",
          "data": {
            "text/html": [
              "<div>\n",
              "<style scoped>\n",
              "    .dataframe tbody tr th:only-of-type {\n",
              "        vertical-align: middle;\n",
              "    }\n",
              "\n",
              "    .dataframe tbody tr th {\n",
              "        vertical-align: top;\n",
              "    }\n",
              "\n",
              "    .dataframe thead th {\n",
              "        text-align: right;\n",
              "    }\n",
              "</style>\n",
              "<table border=\"1\" class=\"dataframe\">\n",
              "  <thead>\n",
              "    <tr style=\"text-align: right;\">\n",
              "      <th></th>\n",
              "      <th>author</th>\n",
              "      <th>episode_number</th>\n",
              "      <th>episode_title</th>\n",
              "      <th>quote</th>\n",
              "      <th>quote_order</th>\n",
              "      <th>season</th>\n",
              "      <th>To Whom</th>\n",
              "      <th>Conversation</th>\n",
              "    </tr>\n",
              "  </thead>\n",
              "  <tbody>\n",
              "    <tr>\n",
              "      <th>0</th>\n",
              "      <td>Carol</td>\n",
              "      <td>2.0</td>\n",
              "      <td>The Sonogram At The End</td>\n",
              "      <td>Hello!</td>\n",
              "      <td>21.0</td>\n",
              "      <td>1.0</td>\n",
              "      <td>Ross</td>\n",
              "      <td>Ross, Carol</td>\n",
              "    </tr>\n",
              "    <tr>\n",
              "      <th>1</th>\n",
              "      <td>Ross</td>\n",
              "      <td>2.0</td>\n",
              "      <td>The Sonogram At The End</td>\n",
              "      <td>You look great. I, uh... I hate that.</td>\n",
              "      <td>22.0</td>\n",
              "      <td>1.0</td>\n",
              "      <td>Carol</td>\n",
              "      <td>Ross, Carol</td>\n",
              "    </tr>\n",
              "    <tr>\n",
              "      <th>2</th>\n",
              "      <td>Carol</td>\n",
              "      <td>2.0</td>\n",
              "      <td>The Sonogram At The End</td>\n",
              "      <td>Sorry. You look good too.</td>\n",
              "      <td>23.0</td>\n",
              "      <td>1.0</td>\n",
              "      <td>Ross</td>\n",
              "      <td>Ross, Carol</td>\n",
              "    </tr>\n",
              "    <tr>\n",
              "      <th>3</th>\n",
              "      <td>Ross</td>\n",
              "      <td>2.0</td>\n",
              "      <td>The Sonogram At The End</td>\n",
              "      <td>Ah, well, in here, anyone who... stands erect....</td>\n",
              "      <td>24.0</td>\n",
              "      <td>1.0</td>\n",
              "      <td>Carol</td>\n",
              "      <td>Ross, Carol</td>\n",
              "    </tr>\n",
              "    <tr>\n",
              "      <th>4</th>\n",
              "      <td>Carol</td>\n",
              "      <td>2.0</td>\n",
              "      <td>The Sonogram At The End</td>\n",
              "      <td>A lesbian?</td>\n",
              "      <td>25.0</td>\n",
              "      <td>1.0</td>\n",
              "      <td>Ross</td>\n",
              "      <td>Ross, Carol</td>\n",
              "    </tr>\n",
              "  </tbody>\n",
              "</table>\n",
              "</div>"
            ],
            "text/plain": [
              "  author  episode_number            episode_title  ... season  To Whom  Conversation\n",
              "0  Carol             2.0  The Sonogram At The End  ...    1.0     Ross   Ross, Carol\n",
              "1   Ross             2.0  The Sonogram At The End  ...    1.0    Carol   Ross, Carol\n",
              "2  Carol             2.0  The Sonogram At The End  ...    1.0     Ross   Ross, Carol\n",
              "3   Ross             2.0  The Sonogram At The End  ...    1.0    Carol   Ross, Carol\n",
              "4  Carol             2.0  The Sonogram At The End  ...    1.0     Ross   Ross, Carol\n",
              "\n",
              "[5 rows x 8 columns]"
            ]
          },
          "metadata": {
            "tags": []
          },
          "execution_count": 68
        }
      ]
    },
    {
      "cell_type": "code",
      "metadata": {
        "id": "4n4lMkZe21Ug"
      },
      "source": [
        "script_ross[\"quote\"] = script_ross[\"quote\"].str.replace(\"\\(([^)]+)\\)\",\"\").str.strip()"
      ],
      "execution_count": 69,
      "outputs": []
    },
    {
      "cell_type": "code",
      "metadata": {
        "colab": {
          "base_uri": "https://localhost:8080/",
          "height": 0
        },
        "id": "JddqUCWR8JLl",
        "outputId": "8902e7af-d317-4a4f-80f1-c29e3697b9b2"
      },
      "source": [
        "contexted = []\n",
        "n = 7\n",
        "for i in range(n, len(script_ross['quote'])):\n",
        "  row = []\n",
        "  prev = i - 1 - n # we additionally subtract 1, so row will contain current response and 7 previous responses  \n",
        "  for j in range(i, prev, -1):\n",
        "    row.append(script_ross['quote'][j])\n",
        "  contexted.append(row)\n",
        "columns = ['response', 'context'] \n",
        "columns = columns + ['context/'+str(i) for i in range(n-1)]\n",
        "df = pd.DataFrame.from_records(contexted, columns=columns)\n",
        "df.head(5)"
      ],
      "execution_count": 70,
      "outputs": [
        {
          "output_type": "execute_result",
          "data": {
            "text/html": [
              "<div>\n",
              "<style scoped>\n",
              "    .dataframe tbody tr th:only-of-type {\n",
              "        vertical-align: middle;\n",
              "    }\n",
              "\n",
              "    .dataframe tbody tr th {\n",
              "        vertical-align: top;\n",
              "    }\n",
              "\n",
              "    .dataframe thead th {\n",
              "        text-align: right;\n",
              "    }\n",
              "</style>\n",
              "<table border=\"1\" class=\"dataframe\">\n",
              "  <thead>\n",
              "    <tr style=\"text-align: right;\">\n",
              "      <th></th>\n",
              "      <th>response</th>\n",
              "      <th>context</th>\n",
              "      <th>context/0</th>\n",
              "      <th>context/1</th>\n",
              "      <th>context/2</th>\n",
              "      <th>context/3</th>\n",
              "      <th>context/4</th>\n",
              "      <th>context/5</th>\n",
              "    </tr>\n",
              "  </thead>\n",
              "  <tbody>\n",
              "    <tr>\n",
              "      <th>0</th>\n",
              "      <td>Why- why are you here, Carol?</td>\n",
              "      <td>Marty's still totally paranoid. Oh, and, uh-</td>\n",
              "      <td>Well... you never know. How's, um.. how's the ...</td>\n",
              "      <td>A lesbian?</td>\n",
              "      <td>Ah, well, in here, anyone who... stands erect....</td>\n",
              "      <td>Sorry. You look good too.</td>\n",
              "      <td>You look great. I, uh... I hate that.</td>\n",
              "      <td>Hello!</td>\n",
              "    </tr>\n",
              "    <tr>\n",
              "      <th>1</th>\n",
              "      <td>I'm pregnant.</td>\n",
              "      <td>Why- why are you here, Carol?</td>\n",
              "      <td>Marty's still totally paranoid. Oh, and, uh-</td>\n",
              "      <td>Well... you never know. How's, um.. how's the ...</td>\n",
              "      <td>A lesbian?</td>\n",
              "      <td>Ah, well, in here, anyone who... stands erect....</td>\n",
              "      <td>Sorry. You look good too.</td>\n",
              "      <td>You look great. I, uh... I hate that.</td>\n",
              "    </tr>\n",
              "    <tr>\n",
              "      <th>2</th>\n",
              "      <td>Pregnant?!</td>\n",
              "      <td>I'm pregnant.</td>\n",
              "      <td>Why- why are you here, Carol?</td>\n",
              "      <td>Marty's still totally paranoid. Oh, and, uh-</td>\n",
              "      <td>Well... you never know. How's, um.. how's the ...</td>\n",
              "      <td>A lesbian?</td>\n",
              "      <td>Ah, well, in here, anyone who... stands erect....</td>\n",
              "      <td>Sorry. You look good too.</td>\n",
              "    </tr>\n",
              "    <tr>\n",
              "      <th>3</th>\n",
              "      <td>I'm just cleaning up.</td>\n",
              "      <td>Pregnant?!</td>\n",
              "      <td>I'm pregnant.</td>\n",
              "      <td>Why- why are you here, Carol?</td>\n",
              "      <td>Marty's still totally paranoid. Oh, and, uh-</td>\n",
              "      <td>Well... you never know. How's, um.. how's the ...</td>\n",
              "      <td>A lesbian?</td>\n",
              "      <td>Ah, well, in here, anyone who... stands erect....</td>\n",
              "    </tr>\n",
              "    <tr>\n",
              "      <th>4</th>\n",
              "      <td>D'ya.. uh.. d'ya need any help?</td>\n",
              "      <td>I'm just cleaning up.</td>\n",
              "      <td>Pregnant?!</td>\n",
              "      <td>I'm pregnant.</td>\n",
              "      <td>Why- why are you here, Carol?</td>\n",
              "      <td>Marty's still totally paranoid. Oh, and, uh-</td>\n",
              "      <td>Well... you never know. How's, um.. how's the ...</td>\n",
              "      <td>A lesbian?</td>\n",
              "    </tr>\n",
              "  </tbody>\n",
              "</table>\n",
              "</div>"
            ],
            "text/plain": [
              "                          response  ...                                          context/5\n",
              "0    Why- why are you here, Carol?  ...                                             Hello!\n",
              "1                    I'm pregnant.  ...              You look great. I, uh... I hate that.\n",
              "2                       Pregnant?!  ...                          Sorry. You look good too.\n",
              "3            I'm just cleaning up.  ...  Ah, well, in here, anyone who... stands erect....\n",
              "4  D'ya.. uh.. d'ya need any help?  ...                                         A lesbian?\n",
              "\n",
              "[5 rows x 8 columns]"
            ]
          },
          "metadata": {
            "tags": []
          },
          "execution_count": 70
        }
      ]
    },
    {
      "cell_type": "code",
      "metadata": {
        "id": "iBkb-0U821d-"
      },
      "source": [
        "trn_df, val_df = train_test_split(df, test_size = 0.1)"
      ],
      "execution_count": 71,
      "outputs": []
    },
    {
      "cell_type": "code",
      "metadata": {
        "id": "3gHDmumx21hl"
      },
      "source": [
        "def construct_conv(row, tokenizer, eos = True):\n",
        "    flatten = lambda l: [item for sublist in l for item in sublist]\n",
        "    conv = list(reversed([tokenizer.encode(x) + [tokenizer.eos_token_id] for x in row]))\n",
        "    conv = flatten(conv)\n",
        "    return conv\n",
        "\n",
        "class ConversationDataset(Dataset):\n",
        "    def __init__(self, tokenizer: PreTrainedTokenizer, args, df, block_size=512):\n",
        "\n",
        "        block_size = block_size - (tokenizer.model_max_length - tokenizer.max_len_single_sentence)\n",
        "\n",
        "        directory = args.cache_dir\n",
        "        cached_features_file = os.path.join(\n",
        "            directory, args.model_type + \"_cached_lm_\" + str(block_size)\n",
        "        )\n",
        "\n",
        "        if os.path.exists(cached_features_file) and not args.overwrite_cache:\n",
        "            logger.info(\"Loading features from cached file %s\", cached_features_file)\n",
        "            with open(cached_features_file, \"rb\") as handle:\n",
        "                self.examples = pickle.load(handle)\n",
        "        else:\n",
        "            logger.info(\"Creating features from dataset file at %s\", directory)\n",
        "\n",
        "            self.examples = []\n",
        "            for _, row in df.iterrows():\n",
        "                conv = construct_conv(row, tokenizer)\n",
        "                self.examples.append(conv)\n",
        "\n",
        "            logger.info(\"Saving features into cached file %s\", cached_features_file)\n",
        "            with open(cached_features_file, \"wb\") as handle:\n",
        "                pickle.dump(self.examples, handle, protocol=pickle.HIGHEST_PROTOCOL)\n",
        "\n",
        "    def __len__(self):\n",
        "        return len(self.examples)\n",
        "\n",
        "    def __getitem__(self, item):\n",
        "        return torch.tensor(self.examples[item], dtype=torch.long)\n",
        "      \n",
        "# Cacheing and storing of data/checkpoints\n",
        "\n",
        "def load_and_cache_examples(args, tokenizer, df_trn, df_val, evaluate=False):\n",
        "    return ConversationDataset(tokenizer, args, df_val if evaluate else df_trn)\n",
        "\n",
        "def set_seed(args):\n",
        "    random.seed(args.seed)\n",
        "    np.random.seed(args.seed)\n",
        "    torch.manual_seed(args.seed)\n",
        "    if args.n_gpu > 0:\n",
        "        torch.cuda.manual_seed_all(args.seed)\n",
        "\n",
        "def _sorted_checkpoints(args, checkpoint_prefix=\"checkpoint\", use_mtime=False) -> List[str]:\n",
        "    ordering_and_checkpoint_path = []\n",
        "\n",
        "    glob_checkpoints = glob.glob(os.path.join(args.output_dir, \"{}-*\".format(checkpoint_prefix)))\n",
        "\n",
        "    for path in glob_checkpoints:\n",
        "        if use_mtime:\n",
        "            ordering_and_checkpoint_path.append((os.path.getmtime(path), path))\n",
        "        else:\n",
        "            regex_match = re.match(\".*{}-([0-9]+)\".format(checkpoint_prefix), path)\n",
        "            if regex_match and regex_match.groups():\n",
        "                ordering_and_checkpoint_path.append((int(regex_match.groups()[0]), path))\n",
        "\n",
        "    checkpoints_sorted = sorted(ordering_and_checkpoint_path)\n",
        "    checkpoints_sorted = [checkpoint[1] for checkpoint in checkpoints_sorted]\n",
        "    return checkpoints_sorted\n",
        "\n",
        "def _rotate_checkpoints(args, checkpoint_prefix=\"checkpoint\", use_mtime=False) -> None:\n",
        "    if not args.save_total_limit:\n",
        "        return\n",
        "    if args.save_total_limit <= 0:\n",
        "        return\n",
        "\n",
        "    # Check if we should delete older checkpoint(s)\n",
        "    checkpoints_sorted = _sorted_checkpoints(args, checkpoint_prefix, use_mtime)\n",
        "    if len(checkpoints_sorted) <= args.save_total_limit:\n",
        "        return\n",
        "\n",
        "    number_of_checkpoints_to_delete = max(0, len(checkpoints_sorted) - args.save_total_limit)\n",
        "    checkpoints_to_be_deleted = checkpoints_sorted[:number_of_checkpoints_to_delete]\n",
        "    for checkpoint in checkpoints_to_be_deleted:\n",
        "        logger.info(\"Deleting older checkpoint [{}] due to args.save_total_limit\".format(checkpoint))\n",
        "        shutil.rmtree(checkpoint)"
      ],
      "execution_count": 72,
      "outputs": []
    },
    {
      "cell_type": "code",
      "metadata": {
        "id": "adiQz9oS21nB"
      },
      "source": [
        "def train(args, train_dataset, model: PreTrainedModel, tokenizer: PreTrainedTokenizer) -> Tuple[int, float]:\n",
        "    \"\"\" Train the model \"\"\"\n",
        "    if args.local_rank in [-1, 0]:\n",
        "        tb_writer = SummaryWriter()\n",
        "\n",
        "    args.train_batch_size = args.per_gpu_train_batch_size * max(1, args.n_gpu)\n",
        "\n",
        "    def collate(examples: List[torch.Tensor]):\n",
        "        if tokenizer._pad_token is None:\n",
        "            return pad_sequence(examples, batch_first=True)\n",
        "        return pad_sequence(examples, batch_first=True, padding_value=tokenizer.pad_token_id)\n",
        "\n",
        "    train_sampler = RandomSampler(train_dataset) if args.local_rank == -1 else DistributedSampler(train_dataset)\n",
        "    train_dataloader = DataLoader(\n",
        "        train_dataset, sampler=train_sampler, batch_size=args.train_batch_size, collate_fn=collate, drop_last = True\n",
        "    )\n",
        "\n",
        "    if args.max_steps > 0:\n",
        "        t_total = args.max_steps\n",
        "        args.num_train_epochs = args.max_steps // (len(train_dataloader) // args.gradient_accumulation_steps) + 1\n",
        "    else:\n",
        "        t_total = len(train_dataloader) // args.gradient_accumulation_steps * args.num_train_epochs\n",
        "\n",
        "    model = model.module if hasattr(model, \"module\") else model  # Take care of distributed/parallel training\n",
        "    model.resize_token_embeddings(len(tokenizer))\n",
        "    # add_special_tokens_(model, tokenizer)\n",
        "\n",
        "\n",
        "    # Prepare optimizer and schedule (linear warmup and decay)\n",
        "    no_decay = [\"bias\", \"LayerNorm.weight\"]\n",
        "    optimizer_grouped_parameters = [\n",
        "        {\n",
        "            \"params\": [p for n, p in model.named_parameters() if not any(nd in n for nd in no_decay)],\n",
        "            \"weight_decay\": args.weight_decay,\n",
        "        },\n",
        "        {\"params\": [p for n, p in model.named_parameters() if any(nd in n for nd in no_decay)], \"weight_decay\": 0.0},\n",
        "    ]\n",
        "    optimizer = AdamW(optimizer_grouped_parameters, lr=args.learning_rate, eps=args.adam_epsilon)\n",
        "    scheduler = get_linear_schedule_with_warmup(\n",
        "        optimizer, num_warmup_steps=args.warmup_steps, num_training_steps=t_total\n",
        "    )\n",
        "\n",
        "    # Check if saved optimizer or scheduler states exist\n",
        "    if (\n",
        "        args.model_name_or_path\n",
        "        and os.path.isfile(os.path.join(args.model_name_or_path, \"optimizer.pt\"))\n",
        "        and os.path.isfile(os.path.join(args.model_name_or_path, \"scheduler.pt\"))\n",
        "    ):\n",
        "        # Load in optimizer and scheduler states\n",
        "        optimizer.load_state_dict(torch.load(os.path.join(args.model_name_or_path, \"optimizer.pt\")))\n",
        "        scheduler.load_state_dict(torch.load(os.path.join(args.model_name_or_path, \"scheduler.pt\")))\n",
        "\n",
        "    if args.fp16:\n",
        "        try:\n",
        "            from apex import amp\n",
        "        except ImportError:\n",
        "            raise ImportError(\"Please install apex from https://www.github.com/nvidia/apex to use fp16 training.\")\n",
        "        model, optimizer = amp.initialize(model, optimizer, opt_level=args.fp16_opt_level)\n",
        "\n",
        "    # multi-gpu training (should be after apex fp16 initialization)\n",
        "    if args.n_gpu > 1:\n",
        "        model = torch.nn.DataParallel(model)\n",
        "\n",
        "    # Distributed training (should be after apex fp16 initialization)\n",
        "    if args.local_rank != -1:\n",
        "        model = torch.nn.parallel.DistributedDataParallel(\n",
        "            model, device_ids=[args.local_rank], output_device=args.local_rank, find_unused_parameters=True\n",
        "        )\n",
        "\n",
        "    # Train!\n",
        "    logger.info(\"***** Running training *****\")\n",
        "    logger.info(\"  Num examples = %d\", len(train_dataset))\n",
        "    logger.info(\"  Num Epochs = %d\", args.num_train_epochs)\n",
        "    logger.info(\"  Instantaneous batch size per GPU = %d\", args.per_gpu_train_batch_size)\n",
        "    logger.info(\n",
        "        \"  Total train batch size (w. parallel, distributed & accumulation) = %d\",\n",
        "        args.train_batch_size\n",
        "        * args.gradient_accumulation_steps\n",
        "        * (torch.distributed.get_world_size() if args.local_rank != -1 else 1),\n",
        "    )\n",
        "    logger.info(\"  Gradient Accumulation steps = %d\", args.gradient_accumulation_steps)\n",
        "    logger.info(\"  Total optimization steps = %d\", t_total)\n",
        "\n",
        "    global_step = 0\n",
        "    epochs_trained = 0\n",
        "    steps_trained_in_current_epoch = 0\n",
        "    # Check if continuing training from a checkpoint\n",
        "    if args.model_name_or_path and os.path.exists(args.model_name_or_path):\n",
        "        try:\n",
        "            # set global_step to gobal_step of last saved checkpoint from model path\n",
        "            checkpoint_suffix = args.model_name_or_path.split(\"-\")[-1].split(\"/\")[0]\n",
        "            global_step = int(checkpoint_suffix)\n",
        "            epochs_trained = global_step // (len(train_dataloader) // args.gradient_accumulation_steps)\n",
        "            steps_trained_in_current_epoch = global_step % (len(train_dataloader) // args.gradient_accumulation_steps)\n",
        "\n",
        "            logger.info(\"  Continuing training from checkpoint, will skip to saved global_step\")\n",
        "            logger.info(\"  Continuing training from epoch %d\", epochs_trained)\n",
        "            logger.info(\"  Continuing training from global step %d\", global_step)\n",
        "            logger.info(\"  Will skip the first %d steps in the first epoch\", steps_trained_in_current_epoch)\n",
        "        except ValueError:\n",
        "            logger.info(\"  Starting fine-tuning.\")\n",
        "\n",
        "    tr_loss, logging_loss = 0.0, 0.0\n",
        "\n",
        "    model.zero_grad()\n",
        "    train_iterator = trange(\n",
        "        epochs_trained, int(args.num_train_epochs), desc=\"Epoch\", disable=args.local_rank not in [-1, 0]\n",
        "    )\n",
        "    set_seed(args)  # Added here for reproducibility\n",
        "    for _ in train_iterator:\n",
        "        epoch_iterator = tqdm(train_dataloader, desc=\"Iteration\", disable=args.local_rank not in [-1, 0])\n",
        "        for step, batch in enumerate(epoch_iterator):\n",
        "\n",
        "            # Skip past any already trained steps if resuming training\n",
        "            if steps_trained_in_current_epoch > 0:\n",
        "                steps_trained_in_current_epoch -= 1\n",
        "                continue\n",
        "\n",
        "            inputs, labels = (batch, batch)\n",
        "            if inputs.shape[1] > 1024: continue\n",
        "            inputs = inputs.to(args.device)\n",
        "            labels = labels.to(args.device)\n",
        "            model.train()\n",
        "            outputs = model(inputs, labels=labels)\n",
        "            loss = outputs[0]  # model outputs are always tuple in transformers (see doc)\n",
        "\n",
        "            if args.n_gpu > 1:\n",
        "                loss = loss.mean()  # mean() to average on multi-gpu parallel training\n",
        "            if args.gradient_accumulation_steps > 1:\n",
        "                loss = loss / args.gradient_accumulation_steps\n",
        "\n",
        "            if args.fp16:\n",
        "                with amp.scale_loss(loss, optimizer) as scaled_loss:\n",
        "                    scaled_loss.backward()\n",
        "            else:\n",
        "                loss.backward()\n",
        "\n",
        "            tr_loss += loss.item()\n",
        "            if (step + 1) % args.gradient_accumulation_steps == 0:\n",
        "                if args.fp16:\n",
        "                    torch.nn.utils.clip_grad_norm_(amp.master_params(optimizer), args.max_grad_norm)\n",
        "                else:\n",
        "                    torch.nn.utils.clip_grad_norm_(model.parameters(), args.max_grad_norm)\n",
        "                optimizer.step()\n",
        "                scheduler.step()  # Update learning rate schedule\n",
        "                model.zero_grad()\n",
        "                global_step += 1\n",
        "\n",
        "                if args.local_rank in [-1, 0] and args.logging_steps > 0 and global_step % args.logging_steps == 0:\n",
        "                    # Log metrics\n",
        "                    if (\n",
        "                        args.local_rank == -1 and args.evaluate_during_training\n",
        "                    ):  # Only evaluate when single GPU otherwise metrics may not average well\n",
        "                        results = evaluate(args, model, tokenizer)\n",
        "                        for key, value in results.items():\n",
        "                            tb_writer.add_scalar(\"eval_{}\".format(key), value, global_step)\n",
        "                    tb_writer.add_scalar(\"lr\", scheduler.get_lr()[0], global_step)\n",
        "                    tb_writer.add_scalar(\"loss\", (tr_loss - logging_loss) / args.logging_steps, global_step)\n",
        "                    logging_loss = tr_loss\n",
        "\n",
        "                if args.local_rank in [-1, 0] and args.save_steps > 0 and global_step % args.save_steps == 0:\n",
        "                    checkpoint_prefix = \"checkpoint\"\n",
        "                    # Save model checkpoint\n",
        "                    output_dir = os.path.join(args.output_dir, \"{}-{}\".format(checkpoint_prefix, global_step))\n",
        "                    os.makedirs(output_dir, exist_ok=True)\n",
        "                    model_to_save = (\n",
        "                        model.module if hasattr(model, \"module\") else model\n",
        "                    )  # Take care of distributed/parallel training\n",
        "                    model_to_save.save_pretrained(output_dir)\n",
        "                    tokenizer.save_pretrained(output_dir)\n",
        "\n",
        "                    torch.save(args, os.path.join(output_dir, \"training_args.bin\"))\n",
        "                    logger.info(\"Saving model checkpoint to %s\", output_dir)\n",
        "\n",
        "                    _rotate_checkpoints(args, checkpoint_prefix)\n",
        "\n",
        "                    torch.save(optimizer.state_dict(), os.path.join(output_dir, \"optimizer.pt\"))\n",
        "                    torch.save(scheduler.state_dict(), os.path.join(output_dir, \"scheduler.pt\"))\n",
        "                    logger.info(\"Saving optimizer and scheduler states to %s\", output_dir)\n",
        "\n",
        "            if args.max_steps > 0 and global_step > args.max_steps:\n",
        "                epoch_iterator.close()\n",
        "                break\n",
        "        if args.max_steps > 0 and global_step > args.max_steps:\n",
        "            train_iterator.close()\n",
        "            break\n",
        "\n",
        "    if args.local_rank in [-1, 0]:\n",
        "        tb_writer.close()\n",
        "\n",
        "    return global_step, tr_loss / global_step\n",
        "\n",
        "# Evaluation of some model\n",
        "\n",
        "def evaluate(args, model: PreTrainedModel, tokenizer: PreTrainedTokenizer, df_trn, df_val, prefix=\"\") -> Dict:\n",
        "    # Loop to handle MNLI double evaluation (matched, mis-matched)\n",
        "    eval_output_dir = args.output_dir\n",
        "\n",
        "    eval_dataset = load_and_cache_examples(args, tokenizer, df_trn, df_val, evaluate=True)\n",
        "    os.makedirs(eval_output_dir, exist_ok=True)\n",
        "    args.eval_batch_size = args.per_gpu_eval_batch_size * max(1, args.n_gpu)\n",
        "    # Note that DistributedSampler samples randomly\n",
        "\n",
        "    def collate(examples: List[torch.Tensor]):\n",
        "        if tokenizer._pad_token is None:\n",
        "            return pad_sequence(examples, batch_first=True)\n",
        "        return pad_sequence(examples, batch_first=True, padding_value=tokenizer.pad_token_id)\n",
        "\n",
        "    eval_sampler = SequentialSampler(eval_dataset)\n",
        "    eval_dataloader = DataLoader(\n",
        "        eval_dataset, sampler=eval_sampler, batch_size=args.eval_batch_size, collate_fn=collate, drop_last = True\n",
        "    )\n",
        "\n",
        "    # multi-gpu evaluate\n",
        "    if args.n_gpu > 1:\n",
        "        model = torch.nn.DataParallel(model)\n",
        "\n",
        "    # Eval!\n",
        "    logger.info(\"***** Running evaluation {} *****\".format(prefix))\n",
        "    logger.info(\"  Num examples = %d\", len(eval_dataset))\n",
        "    logger.info(\"  Batch size = %d\", args.eval_batch_size)\n",
        "    eval_loss = 0.0\n",
        "    nb_eval_steps = 0\n",
        "    model.eval()\n",
        "\n",
        "    for batch in tqdm(eval_dataloader, desc=\"Evaluating\"):\n",
        "        inputs, labels = (batch, batch)\n",
        "        inputs = inputs.to(args.device)\n",
        "        labels = labels.to(args.device)\n",
        "\n",
        "        with torch.no_grad():\n",
        "            outputs = model(inputs, labels=labels)\n",
        "            lm_loss = outputs[0]\n",
        "            eval_loss += lm_loss.mean().item()\n",
        "        nb_eval_steps += 1\n",
        "\n",
        "    eval_loss = eval_loss / nb_eval_steps\n",
        "    perplexity = torch.exp(torch.tensor(eval_loss))\n",
        "\n",
        "    result = {\"perplexity\": perplexity}\n",
        "\n",
        "    output_eval_file = os.path.join(eval_output_dir, prefix, \"eval_results.txt\")\n",
        "    with open(output_eval_file, \"w\") as writer:\n",
        "        logger.info(\"***** Eval results {} *****\".format(prefix))\n",
        "        for key in sorted(result.keys()):\n",
        "            logger.info(\"  %s = %s\", key, str(result[key]))\n",
        "            writer.write(\"%s = %s\\n\" % (key, str(result[key])))\n",
        "\n",
        "    return result"
      ],
      "execution_count": 73,
      "outputs": []
    },
    {
      "cell_type": "code",
      "metadata": {
        "id": "VmZbnKJ63pEn"
      },
      "source": [
        "def main(df_trn, df_val):\n",
        "      args = Args()\n",
        "\n",
        "      if args.should_continue:\n",
        "          sorted_checkpoints = _sorted_checkpoints(args)\n",
        "          if len(sorted_checkpoints) == 0:\n",
        "              raise ValueError(\"Used --should_continue but no checkpoint was found in --output_dir.\")\n",
        "          else:\n",
        "              args.model_name_or_path = sorted_checkpoints[-1]\n",
        "\n",
        "      if (\n",
        "          os.path.exists(args.output_dir)\n",
        "          and os.listdir(args.output_dir)\n",
        "          and args.do_train\n",
        "          and not args.overwrite_output_dir\n",
        "          and not args.should_continue\n",
        "      ):\n",
        "          raise ValueError(\n",
        "              \"Output directory ({}) already exists and is not empty. Use --overwrite_output_dir to overcome.\".format(\n",
        "                  args.output_dir\n",
        "              )\n",
        "          )\n",
        "\n",
        "      # Setup CUDA, GPU & distributed training\n",
        "      device = torch.device(\"cuda\")\n",
        "      args.n_gpu = torch.cuda.device_count()\n",
        "      args.device = device\n",
        "\n",
        "      # Setup logging\n",
        "      logging.basicConfig(\n",
        "          format=\"%(asctime)s - %(levelname)s - %(name)s -   %(message)s\",\n",
        "          datefmt=\"%m/%d/%Y %H:%M:%S\",\n",
        "          level=logging.INFO if args.local_rank in [-1, 0] else logging.WARN,\n",
        "      )\n",
        "      logger.warning(\n",
        "          \"Process rank: %s, device: %s, n_gpu: %s, distributed training: %s, 16-bits training: %s\",\n",
        "          args.local_rank,\n",
        "          device,\n",
        "          args.n_gpu,\n",
        "          bool(args.local_rank != -1),\n",
        "          args.fp16,\n",
        "      )\n",
        "\n",
        "      # Set seed\n",
        "      set_seed(args)\n",
        "\n",
        "      config = AutoConfig.from_pretrained(args.config_name, cache_dir=args.cache_dir)\n",
        "      tokenizer = AutoTokenizer.from_pretrained(args.tokenizer_name, cache_dir=args.cache_dir)\n",
        "      model = AutoModelWithLMHead.from_pretrained(\n",
        "          args.model_name_or_path,\n",
        "          from_tf=False,\n",
        "          config=config,\n",
        "          cache_dir=args.cache_dir,\n",
        "      )\n",
        "      model.to(args.device)\n",
        "\n",
        "      logger.info(\"Training/evaluation parameters %s\", args)\n",
        "\n",
        "      # Training\n",
        "      if args.do_train:\n",
        "          train_dataset = load_and_cache_examples(args, tokenizer, df_trn, df_val, evaluate=False)\n",
        "\n",
        "          global_step, tr_loss = train(args, train_dataset, model, tokenizer)\n",
        "          logger.info(\" global_step = %s, average loss = %s\", global_step, tr_loss)\n",
        "\n",
        "      # Saving best-practices: if you use save_pretrained for the model and tokenizer, you can reload them using from_pretrained()\n",
        "      if args.do_train:\n",
        "          # Create output directory if needed\n",
        "          os.makedirs(args.output_dir, exist_ok=True)\n",
        "\n",
        "          logger.info(\"Saving model checkpoint to %s\", args.output_dir)\n",
        "          # Save a trained model, configuration and tokenizer using `save_pretrained()`.\n",
        "          # They can then be reloaded using `from_pretrained()`\n",
        "          model_to_save = (\n",
        "              model.module if hasattr(model, \"module\") else model\n",
        "          )  # Take care of distributed/parallel training\n",
        "          model_to_save.save_pretrained(args.output_dir)\n",
        "          tokenizer.save_pretrained(args.output_dir)\n",
        "\n",
        "          # Good practice: save your training arguments together with the trained model\n",
        "          torch.save(args, os.path.join(args.output_dir, \"training_args.bin\"))\n",
        "\n",
        "          # Load a trained model and vocabulary that you have fine-tuned\n",
        "          model = AutoModelWithLMHead.from_pretrained(args.output_dir)\n",
        "          tokenizer = AutoTokenizer.from_pretrained(args.output_dir)\n",
        "          model.to(args.device)\n",
        "\n",
        "      # Evaluation\n",
        "      results = {}\n",
        "      if args.do_eval and args.local_rank in [-1, 0]:\n",
        "          checkpoints = [args.output_dir]\n",
        "          if args.eval_all_checkpoints:\n",
        "              checkpoints = list(\n",
        "                  os.path.dirname(c) for c in sorted(glob.glob(args.output_dir + \"/**/\" + WEIGHTS_NAME, recursive=True))\n",
        "              )\n",
        "              logging.getLogger(\"transformers.modeling_utils\").setLevel(logging.WARN)  # Reduce logging\n",
        "          logger.info(\"Evaluate the following checkpoints: %s\", checkpoints)\n",
        "          for checkpoint in checkpoints:\n",
        "              global_step = checkpoint.split(\"-\")[-1] if len(checkpoints) > 1 else \"\"\n",
        "              prefix = checkpoint.split(\"/\")[-1] if checkpoint.find(\"checkpoint\") != -1 else \"\"\n",
        "\n",
        "              model = AutoModelWithLMHead.from_pretrained(checkpoint)\n",
        "              model.to(args.device)\n",
        "              result = evaluate(args, model, tokenizer, df_trn, df_val, prefix=prefix)\n",
        "              result = dict((k + \"_{}\".format(global_step), v) for k, v in result.items())\n",
        "              results.update(result)\n",
        "\n",
        "      return results"
      ],
      "execution_count": 74,
      "outputs": []
    },
    {
      "cell_type": "code",
      "metadata": {
        "id": "3NOIBGTr3pNW"
      },
      "source": [
        "#main(trn_df, val_df)"
      ],
      "execution_count": 75,
      "outputs": []
    },
    {
      "cell_type": "code",
      "metadata": {
        "id": "cGcNCYG9-fRA",
        "colab": {
          "base_uri": "https://localhost:8080/",
          "height": 0,
          "referenced_widgets": [
            "4219bc311a7a40d580cab13b06b6a245",
            "5dc4f5a13e6b4085915813166eee0b06",
            "14cd88f52dbc47a39d233a1ec594acd5",
            "c9f0fe87e898445198ca80d3ff73d730",
            "b6deac3c1cc44ccdb0f67c1aa6718006",
            "51bb79ffdadd423f92a410b42589e1c3",
            "8af21aa683374caa849de350017d05ef",
            "4ae67a9fe8aa43f08e8b2e6dff282c85",
            "f282ea5537ba412fa8264d639af2b009",
            "77df30d5f5d943fb876ef82dcbeb6e81",
            "34d6cd59fa7c452d9e34dcaf4e1d40c6",
            "d6795e5112f14aafab26310123aef0fc",
            "79f217dd1d314e159f13a6843924a31d",
            "f1ce8c5faeb347fb81a7df5819f83347",
            "2101dc0169bd422d83ce87a455dccd82",
            "204b4d092a3140b6ad23f2c55cf26c5b",
            "8e6acbbfe17c411e9e0de6256d0866c4",
            "9b7ec39f28ac4b14807e1ca52f2d6e58",
            "4431967e436942d6abcfee69ba2714e9",
            "22c2b40edc8141e8bc74a4d7f7fa0519",
            "3ca39da0b83648b2a60ac0e58e2ac3d8",
            "1872c3c89bcf428f8cb45c31e14ec5d3",
            "0de71e467efd463ba1476e280db11503",
            "570f3faedd9b4a0298722e7d2d89cfd1",
            "ffd6c49b224f404e8f877cfa5614d5df",
            "93e59b9fcb8342ae8dd3ee1f498179e9",
            "1d0308e19d0a4389bb35766675a3f5a2",
            "bb5cb49231ab458c9d9c7542a5924fef",
            "b1eaecad6ba04e08bc26725aa3459f58",
            "f515bb8f05c849ad98105062cf5baa3a",
            "36fbc592d6b542e294f272454e24d7dd",
            "a58d0434fc4c4e638130bba5e79871ff"
          ]
        },
        "outputId": "3cca44a8-224a-45ec-f8fc-81fd10738b9a"
      },
      "source": [
        "#@title\n",
        "tokenizer = AutoTokenizer.from_pretrained('microsoft/DialoGPT-medium')\n",
        "model = AutoModelWithLMHead.from_pretrained('/content/gdrive/MyDrive/Colab Notebooks/output-small')\n"
      ],
      "execution_count": 76,
      "outputs": [
        {
          "output_type": "display_data",
          "data": {
            "application/vnd.jupyter.widget-view+json": {
              "model_id": "4219bc311a7a40d580cab13b06b6a245",
              "version_minor": 0,
              "version_major": 2
            },
            "text/plain": [
              "HBox(children=(FloatProgress(value=0.0, description='Downloading', max=26.0, style=ProgressStyle(description_w…"
            ]
          },
          "metadata": {
            "tags": []
          }
        },
        {
          "output_type": "stream",
          "text": [
            "\n"
          ],
          "name": "stdout"
        },
        {
          "output_type": "display_data",
          "data": {
            "application/vnd.jupyter.widget-view+json": {
              "model_id": "f282ea5537ba412fa8264d639af2b009",
              "version_minor": 0,
              "version_major": 2
            },
            "text/plain": [
              "HBox(children=(FloatProgress(value=0.0, description='Downloading', max=642.0, style=ProgressStyle(description_…"
            ]
          },
          "metadata": {
            "tags": []
          }
        },
        {
          "output_type": "stream",
          "text": [
            "\n"
          ],
          "name": "stdout"
        },
        {
          "output_type": "display_data",
          "data": {
            "application/vnd.jupyter.widget-view+json": {
              "model_id": "8e6acbbfe17c411e9e0de6256d0866c4",
              "version_minor": 0,
              "version_major": 2
            },
            "text/plain": [
              "HBox(children=(FloatProgress(value=0.0, description='Downloading', max=1042301.0, style=ProgressStyle(descript…"
            ]
          },
          "metadata": {
            "tags": []
          }
        },
        {
          "output_type": "stream",
          "text": [
            "\n"
          ],
          "name": "stdout"
        },
        {
          "output_type": "display_data",
          "data": {
            "application/vnd.jupyter.widget-view+json": {
              "model_id": "ffd6c49b224f404e8f877cfa5614d5df",
              "version_minor": 0,
              "version_major": 2
            },
            "text/plain": [
              "HBox(children=(FloatProgress(value=0.0, description='Downloading', max=456318.0, style=ProgressStyle(descripti…"
            ]
          },
          "metadata": {
            "tags": []
          }
        },
        {
          "output_type": "stream",
          "text": [
            "\n"
          ],
          "name": "stdout"
        }
      ]
    },
    {
      "cell_type": "markdown",
      "metadata": {
        "id": "w3sTkNkV4WN3"
      },
      "source": [
        "#**Generador de diálogo: ¿Qué diría Ross?**"
      ]
    },
    {
      "cell_type": "markdown",
      "metadata": {
        "id": "UhhaTNXc4cLj"
      },
      "source": [
        "\n",
        "![alt text](https://media.giphy.com/media/FY56lXEc3KY9y/giphy.gif)\n",
        "\n",
        "Image from [Giphy](https://giphy.com/)\n"
      ]
    },
    {
      "cell_type": "code",
      "metadata": {
        "cellView": "form",
        "colab": {
          "base_uri": "https://localhost:8080/"
        },
        "id": "MRHAfAuh3pU_",
        "outputId": "e0a266fa-f324-4f3c-87f1-e9404fd75c3e"
      },
      "source": [
        "#@title\n",
        "# Let's chat for 5 lines\n",
        "for step in range(5):\n",
        "    # encode the new user input, add the eos_token and return a tensor in Pytorch\n",
        "    new_user_input_ids = tokenizer.encode(input(\">> User:\") + tokenizer.eos_token, return_tensors='pt')\n",
        "    # print(new_user_input_ids)\n",
        "# append the new user input tokens to the chat history\n",
        "    bot_input_ids = torch.cat([chat_history_ids, new_user_input_ids], dim=-1) if step > 0 else new_user_input_ids\n",
        "# generated a response while limiting the total chat history to 1000 tokens, \n",
        "    chat_history_ids = model.generate(\n",
        "        bot_input_ids, max_length=200,\n",
        "        pad_token_id=tokenizer.eos_token_id,  \n",
        "        no_repeat_ngram_size=3,       \n",
        "        do_sample=True, \n",
        "        top_k=100, \n",
        "        top_p=0.7,\n",
        "        temperature = 0.8\n",
        "    )\n",
        "    \n",
        "    # pretty print last ouput tokens from bot\n",
        "    print(\"RossBot: {}\".format(tokenizer.decode(chat_history_ids[:, bot_input_ids.shape[-1]:][0], skip_special_tokens=True)))\n"
      ],
      "execution_count": null,
      "outputs": [
        {
          "output_type": "stream",
          "text": [
            ">> User:Hey Ross, what's up?\n",
            "RossBot: Nothing much\n",
            ">> User:Would you like to go for a coffee?\n",
            "RossBot: Sure\n",
            ">> User:Should we go to the coffee house?\n",
            "RossBot: Yeah\n",
            ">> User:Great let me take my jacket!\n",
            "RossBot: Alright look I brought all the books and Monica sends her love along with this lasagna\n",
            ">> User:thanks!\n",
            "RossBot: !!!?!!,!!'!!\n"
          ],
          "name": "stdout"
        }
      ]
    },
    {
      "cell_type": "markdown",
      "metadata": {
        "id": "pD9XW8WeJ4IP"
      },
      "source": [
        "**CONVERSATION 1**\n",
        "\n",
        "* **User**:Hey Ross, how are you?\n",
        "* **RossBot** good you?\n",
        "* **User**:All good thanks! So should we have coffee?\n",
        "* **RossBot** sure\n",
        "* **User**:where should we go?\n",
        "* **RossBot** to the bar\n",
        "* **User**:maybe better a coffee shop\n",
        "* **RossBot** there you go!\n",
        "* **User**:great, let's go!\n",
        "* **RossBot** !!!?!!"
      ]
    },
    {
      "cell_type": "markdown",
      "metadata": {
        "id": "Zzyq7sqqNA4W"
      },
      "source": [
        "**CONVERSATION 2**\n",
        "\n",
        "* **User**:hey, what's up\n",
        "* **RossBot** nothing much\n",
        "* **User**:ok, same here\n",
        "* **RossBot** so what're you uh what're um you nervous about?\n",
        "* **User**:I have a job interview\n",
        "* **RossBot** oh god  oh god  what's wrong with me?\n",
        "* **User**:nothing!!\n",
        "* **RossBot** look carol never threw me out of a room before you came along\n",
        "* **User**:well, things have changed\n",
        "* **RossBot** !!!?!!"
      ]
    },
    {
      "cell_type": "markdown",
      "metadata": {
        "id": "Y-dvVh6NNXpe"
      },
      "source": [
        "**CONVERSATION 3**\n",
        "\n",
        "* **User**:Hey, long time no see\n",
        "* **RossBot**: you didn't tell us about the cat\n",
        "* **User**:what cat?\n",
        "* **RossBot**: the one you left in the box\n",
        "* **User**:it's not mine\n",
        "* **RossBot**: look it's just a warm fuzzy blanket\n",
        "* **User**:which color?\n",
        "* **RossBot**: maroon is nice\n",
        "* **User**:It's awful\n",
        "* **RossBot**: it is it is"
      ]
    },
    {
      "cell_type": "markdown",
      "metadata": {
        "id": "41GBT9nzbpBG"
      },
      "source": [
        "**CONVERSATION 4**\n",
        "\n",
        "* **User**:You like this woman, right?\n",
        "* **RossBot**: yeah\n",
        "* **User**:you wanna see her again right?\n",
        "* **RossBot**: sure\n",
        "* **User**:so what will you do?\n",
        "* **RossBot**: i'm gonna go out there and see what i can do\n",
        "* **User**:All right, relax\n",
        "* **RossBot**: alright\n",
        "* **User**:you can do it!!\n",
        "* **RossBot**: !!!?!!"
      ]
    },
    {
      "cell_type": "markdown",
      "metadata": {
        "id": "AdkcQH_c5TC6"
      },
      "source": [
        "**CONVERSATION 5**\n",
        "\n",
        "* **User**:what's up?\n",
        "* **RossBot**: Nothing much uh\n",
        "* **User**::Are you hungry?\n",
        "* **RossBot**: Mmmm\n",
        "* **User**::What would you like to eat?\n",
        "* **RossBot**: Well um I don't know maybe a nice cold steak but that's it\n",
        "* **User**::Well, this I can cook\n",
        "* **RossBot**: That's great\n",
        "* **User**::Will you buy dessert?\n",
        "* **RossBot**: !!!?!!,!!'!!"
      ]
    },
    {
      "cell_type": "markdown",
      "metadata": {
        "id": "-ni7aCVZRcHJ"
      },
      "source": [
        "\n",
        "![alt text](https://media.giphy.com/media/KxhMgiklWomI1iUpFU/giphy.gif)\n",
        "\n",
        "Image from [Giphy](https://giphy.com/)"
      ]
    }
  ]
}